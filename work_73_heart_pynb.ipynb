{
  "cells": [
    {
      "cell_type": "markdown",
      "metadata": {
        "id": "view-in-github",
        "colab_type": "text"
      },
      "source": [
        "<a href=\"https://colab.research.google.com/github/RedBatProject/Data-Science/blob/main/work_73_heart_pynb.ipynb\" target=\"_parent\"><img src=\"https://colab.research.google.com/assets/colab-badge.svg\" alt=\"Open In Colab\"/></a>"
      ]
    },
    {
      "cell_type": "code",
      "execution_count": 4,
      "metadata": {
        "colab": {
          "base_uri": "https://localhost:8080/"
        },
        "id": "MXZgw7hSru0r",
        "outputId": "360b1cb1-75ff-46e7-aa11-d86604602ab9"
      },
      "outputs": [
        {
          "output_type": "stream",
          "name": "stdout",
          "text": [
            "Requirement already satisfied: mealpy in /usr/local/lib/python3.10/dist-packages (3.0.1)\n",
            "Requirement already satisfied: numpy>=1.17.5 in /usr/local/lib/python3.10/dist-packages (from mealpy) (1.25.2)\n",
            "Requirement already satisfied: matplotlib>=3.3.0 in /usr/local/lib/python3.10/dist-packages (from mealpy) (3.7.1)\n",
            "Requirement already satisfied: scipy>=1.7.1 in /usr/local/lib/python3.10/dist-packages (from mealpy) (1.11.4)\n",
            "Requirement already satisfied: pandas>=1.2.0 in /usr/local/lib/python3.10/dist-packages (from mealpy) (1.5.3)\n",
            "Requirement already satisfied: opfunu>=1.0.0 in /usr/local/lib/python3.10/dist-packages (from mealpy) (1.0.2)\n",
            "Requirement already satisfied: contourpy>=1.0.1 in /usr/local/lib/python3.10/dist-packages (from matplotlib>=3.3.0->mealpy) (1.2.0)\n",
            "Requirement already satisfied: cycler>=0.10 in /usr/local/lib/python3.10/dist-packages (from matplotlib>=3.3.0->mealpy) (0.12.1)\n",
            "Requirement already satisfied: fonttools>=4.22.0 in /usr/local/lib/python3.10/dist-packages (from matplotlib>=3.3.0->mealpy) (4.50.0)\n",
            "Requirement already satisfied: kiwisolver>=1.0.1 in /usr/local/lib/python3.10/dist-packages (from matplotlib>=3.3.0->mealpy) (1.4.5)\n",
            "Requirement already satisfied: packaging>=20.0 in /usr/local/lib/python3.10/dist-packages (from matplotlib>=3.3.0->mealpy) (24.0)\n",
            "Requirement already satisfied: pillow>=6.2.0 in /usr/local/lib/python3.10/dist-packages (from matplotlib>=3.3.0->mealpy) (9.4.0)\n",
            "Requirement already satisfied: pyparsing>=2.3.1 in /usr/local/lib/python3.10/dist-packages (from matplotlib>=3.3.0->mealpy) (3.1.2)\n",
            "Requirement already satisfied: python-dateutil>=2.7 in /usr/local/lib/python3.10/dist-packages (from matplotlib>=3.3.0->mealpy) (2.8.2)\n",
            "Requirement already satisfied: requests>=2.27.0 in /usr/local/lib/python3.10/dist-packages (from opfunu>=1.0.0->mealpy) (2.31.0)\n",
            "Requirement already satisfied: pytz>=2020.1 in /usr/local/lib/python3.10/dist-packages (from pandas>=1.2.0->mealpy) (2023.4)\n",
            "Requirement already satisfied: six>=1.5 in /usr/local/lib/python3.10/dist-packages (from python-dateutil>=2.7->matplotlib>=3.3.0->mealpy) (1.16.0)\n",
            "Requirement already satisfied: charset-normalizer<4,>=2 in /usr/local/lib/python3.10/dist-packages (from requests>=2.27.0->opfunu>=1.0.0->mealpy) (3.3.2)\n",
            "Requirement already satisfied: idna<4,>=2.5 in /usr/local/lib/python3.10/dist-packages (from requests>=2.27.0->opfunu>=1.0.0->mealpy) (3.6)\n",
            "Requirement already satisfied: urllib3<3,>=1.21.1 in /usr/local/lib/python3.10/dist-packages (from requests>=2.27.0->opfunu>=1.0.0->mealpy) (2.0.7)\n",
            "Requirement already satisfied: certifi>=2017.4.17 in /usr/local/lib/python3.10/dist-packages (from requests>=2.27.0->opfunu>=1.0.0->mealpy) (2024.2.2)\n",
            "Requirement already satisfied: catboost in /usr/local/lib/python3.10/dist-packages (1.2.3)\n",
            "Requirement already satisfied: graphviz in /usr/local/lib/python3.10/dist-packages (from catboost) (0.20.3)\n",
            "Requirement already satisfied: matplotlib in /usr/local/lib/python3.10/dist-packages (from catboost) (3.7.1)\n",
            "Requirement already satisfied: numpy>=1.16.0 in /usr/local/lib/python3.10/dist-packages (from catboost) (1.25.2)\n",
            "Requirement already satisfied: pandas>=0.24 in /usr/local/lib/python3.10/dist-packages (from catboost) (1.5.3)\n",
            "Requirement already satisfied: scipy in /usr/local/lib/python3.10/dist-packages (from catboost) (1.11.4)\n",
            "Requirement already satisfied: plotly in /usr/local/lib/python3.10/dist-packages (from catboost) (5.15.0)\n",
            "Requirement already satisfied: six in /usr/local/lib/python3.10/dist-packages (from catboost) (1.16.0)\n",
            "Requirement already satisfied: python-dateutil>=2.8.1 in /usr/local/lib/python3.10/dist-packages (from pandas>=0.24->catboost) (2.8.2)\n",
            "Requirement already satisfied: pytz>=2020.1 in /usr/local/lib/python3.10/dist-packages (from pandas>=0.24->catboost) (2023.4)\n",
            "Requirement already satisfied: contourpy>=1.0.1 in /usr/local/lib/python3.10/dist-packages (from matplotlib->catboost) (1.2.0)\n",
            "Requirement already satisfied: cycler>=0.10 in /usr/local/lib/python3.10/dist-packages (from matplotlib->catboost) (0.12.1)\n",
            "Requirement already satisfied: fonttools>=4.22.0 in /usr/local/lib/python3.10/dist-packages (from matplotlib->catboost) (4.50.0)\n",
            "Requirement already satisfied: kiwisolver>=1.0.1 in /usr/local/lib/python3.10/dist-packages (from matplotlib->catboost) (1.4.5)\n",
            "Requirement already satisfied: packaging>=20.0 in /usr/local/lib/python3.10/dist-packages (from matplotlib->catboost) (24.0)\n",
            "Requirement already satisfied: pillow>=6.2.0 in /usr/local/lib/python3.10/dist-packages (from matplotlib->catboost) (9.4.0)\n",
            "Requirement already satisfied: pyparsing>=2.3.1 in /usr/local/lib/python3.10/dist-packages (from matplotlib->catboost) (3.1.2)\n",
            "Requirement already satisfied: tenacity>=6.2.0 in /usr/local/lib/python3.10/dist-packages (from plotly->catboost) (8.2.3)\n",
            "WELLCOME TO IMPLEMENTATION\n"
          ]
        }
      ],
      "source": [
        "!pip install mealpy;\n",
        "import mealpy\n",
        "from mealpy.bio_based import BBO, EOA, IWO, SBO, SMA, TPO, VCS, WHO\n",
        "from mealpy.evolutionary_based import CRO, DE, EP, ES, FPA, GA, MA\n",
        "from mealpy.human_based import BRO, BSO, CA, CHIO, FBIO, GSKA, ICA, LCO, QSA, SARO, SSDO, TLO\n",
        "from mealpy.math_based import AOA, CGO, GBO, HC, SCA, PSS\n",
        "from mealpy.music_based import HS\n",
        "from mealpy.physics_based import ArchOA, ASO, EFO, EO, HGSO, MVO, NRO, SA, TWO, WDO\n",
        "# from mealpy.probabilistic_based import CEM\n",
        "from mealpy.system_based import AEO, GCO, WCA\n",
        "from mealpy.swarm_based import ABC, ACOR, ALO, AO, BA, BeesA, BES, BFO, BSA, COA, CSA, CSO, DO, EHO, FA, FFA, FOA, GOA, GWO, HGS\n",
        "from mealpy.swarm_based import HHO, JA, MFO, MRFO, MSA, NMRA, PFA, PSO, SFO, SHO, SLO, SRSR, SSA, SSO, SSpiderA, SSpiderO, WOA\n",
        "from sys import exit\n",
        "import numpy as np\n",
        "import tweepy\n",
        "import webbrowser\n",
        "import time\n",
        "import pandas as pd\n",
        "import datetime\n",
        "import threading\n",
        "import matplotlib.pyplot as plt\n",
        "import numpy as np\n",
        "import pandas as pd\n",
        "from sklearn.model_selection import cross_val_score\n",
        "# !pip install mealpy\n",
        "import mealpy\n",
        "# Load libraries\n",
        "# %tensorflow_version 2.x\n",
        "from __future__ import absolute_import, division, print_function, unicode_literals\n",
        "\n",
        "import numpy as np\n",
        "import pandas as pd\n",
        "import matplotlib.pyplot as plt\n",
        "from IPython.display import clear_output\n",
        "from six.moves import urllib\n",
        "\n",
        "# import tensorflow.compat.v2.feature_column as fc\n",
        "\n",
        "# import tensorflow as tf\n",
        "from pandas.plotting import scatter_matrix\n",
        "from sklearn import model_selection\n",
        "from sklearn.metrics import classification_report\n",
        "from sklearn.metrics import confusion_matrix\n",
        "import random as rn\n",
        "# from sklearn.metrics import confusion_matrix, plot_confusion_matrix, classification_report\n",
        "# create the models\n",
        "from sklearn.tree import DecisionTreeClassifier\n",
        "from sklearn.discriminant_analysis import LinearDiscriminantAnalysis\n",
        "from sklearn.metrics import accuracy_score\n",
        "from sklearn.metrics import precision_score\n",
        "from sklearn.metrics import recall_score\n",
        "from sklearn.metrics import f1_score\n",
        "# module imports\n",
        "import numpy as np\n",
        "import pandas as pd\n",
        "import matplotlib.pyplot as plt\n",
        "import seaborn as sns\n",
        "import itertools\n",
        "import random as rn\n",
        "\n",
        "# model imports\n",
        "from sklearn.cluster import KMeans #one with clusterimg (disaster)\n",
        "from sklearn.ensemble import RandomForestClassifier\n",
        "from sklearn.neighbors import KNeighborsClassifier\n",
        "from sklearn.linear_model import LogisticRegression\n",
        "from sklearn.tree import DecisionTreeClassifier\n",
        "from sklearn.multiclass import OneVsRestClassifier\n",
        "from sklearn.tree import DecisionTreeRegressor\n",
        "from sklearn.dummy import DummyClassifier #that zero\n",
        "from sklearn.svm import SVC, SVR\n",
        "from sklearn.naive_bayes import GaussianNB\n",
        "# from sklearn.ensemble import RandomForestClassifier\n",
        "# processing imports\n",
        "from sklearn.preprocessing import LabelEncoder\n",
        "from sklearn.model_selection import train_test_split\n",
        "from sklearn.model_selection import cross_val_score\n",
        "from sklearn.metrics import mean_absolute_error\n",
        "# from sklearn.metrics import accuracy_score\n",
        "# from sklearn.metrics import confusion_matrix\n",
        "from time import time\n",
        "from sklearn.model_selection import train_test_split\n",
        "from sklearn.naive_bayes import MultinomialNB\n",
        "# !pip install catboost\n",
        "from xgboost import XGBClassifier\n",
        "# from catboost import CatBoostClassifier\n",
        "from sklearn.linear_model import LogisticRegression\n",
        "from sklearn.ensemble import RandomForestClassifier\n",
        "from sklearn.svm import LinearSVC\n",
        "from sklearn import metrics\n",
        "# Sklearn modules & classes\n",
        "from sklearn.svm import SVC\n",
        "from sklearn.model_selection import train_test_split, GridSearchCV\n",
        "from sklearn.preprocessing import StandardScaler, LabelEncoder\n",
        "from sklearn import datasets, metrics\n",
        "from mealpy.bio_based import SMA\n",
        "import mealpy\n",
        "from sklearn.naive_bayes import GaussianNB\n",
        "import time\n",
        "from sklearn.model_selection import train_test_split\n",
        "from sklearn.naive_bayes import MultinomialNB\n",
        "!pip install catboost;\n",
        "from xgboost import XGBClassifier\n",
        "from catboost import CatBoostClassifier\n",
        "from sklearn.linear_model import LogisticRegression\n",
        "from sklearn.ensemble import RandomForestClassifier,ExtraTreesClassifier,GradientBoostingClassifier,HistGradientBoostingClassifier,AdaBoostClassifier\n",
        "from sklearn.svm import LinearSVC\n",
        "from sklearn import metrics\n",
        "# Sklearn modules & classes\n",
        "from sklearn.svm import SVC\n",
        "from sklearn.model_selection import train_test_split, GridSearchCV\n",
        "from sklearn.preprocessing import StandardScaler, LabelEncoder\n",
        "from sklearn import datasets, metrics\n",
        "from mealpy.bio_based import SMA\n",
        "from sklearn.naive_bayes import GaussianNB\n",
        "from sklearn.metrics import classification_report,confusion_matrix\n",
        "print(\"WELLCOME TO IMPLEMENTATION\")\n",
        "# create the models\n",
        "from sklearn.metrics import accuracy_score\n",
        "from sklearn.metrics import precision_score\n",
        "from sklearn.metrics import recall_score\n",
        "from sklearn.metrics import f1_score"
      ]
    },
    {
      "cell_type": "code",
      "source": [
        "from sklearn.model_selection import train_test_split"
      ],
      "metadata": {
        "id": "wHXIf9X3V4aj"
      },
      "execution_count": 5,
      "outputs": []
    },
    {
      "cell_type": "code",
      "source": [
        "from google.colab import drive\n",
        "drive.mount('/content/drive')"
      ],
      "metadata": {
        "id": "WA3HqN36StKa",
        "colab": {
          "base_uri": "https://localhost:8080/"
        },
        "outputId": "00676ff2-dd5d-4131-c2cd-29ae4ba287d6"
      },
      "execution_count": 6,
      "outputs": [
        {
          "output_type": "stream",
          "name": "stdout",
          "text": [
            "Mounted at /content/drive\n"
          ]
        }
      ]
    },
    {
      "cell_type": "markdown",
      "source": [
        "# Kaggle Data"
      ],
      "metadata": {
        "id": "waNvzZNTLgXy"
      }
    },
    {
      "cell_type": "code",
      "execution_count": null,
      "metadata": {
        "id": "HXMDHRCmEvF1",
        "colab": {
          "base_uri": "https://localhost:8080/"
        },
        "outputId": "388ac5de-c100-428d-85ae-178170a8285d"
      },
      "outputs": [
        {
          "output_type": "stream",
          "name": "stdout",
          "text": [
            "mkdir: cannot create directory ‘/root/.kaggle’: File exists\n"
          ]
        }
      ],
      "source": [
        "!mkdir ~/.kaggle\n",
        "! cp /content/drive/MyDrive/kaggle.json ~/.kaggle/\n",
        "! chmod 600 ~/.kaggle/kaggle.json\n",
        "\n"
      ]
    },
    {
      "cell_type": "code",
      "source": [
        "!kaggle datasets download -d shayanfazeli/heartbeat"
      ],
      "metadata": {
        "colab": {
          "base_uri": "https://localhost:8080/"
        },
        "id": "OPPq9-pWASfX",
        "outputId": "51f99df3-8b6d-491c-c6e0-e550c398d0d5"
      },
      "execution_count": null,
      "outputs": [
        {
          "output_type": "stream",
          "name": "stdout",
          "text": [
            "heartbeat.zip: Skipping, found more recently modified local copy (use --force to force download)\n"
          ]
        }
      ]
    },
    {
      "cell_type": "code",
      "execution_count": null,
      "metadata": {
        "id": "NgoXr6TbURIF"
      },
      "outputs": [],
      "source": [
        "# !kaggle datasets download -d michaelchalamet/brain-cancer-data"
      ]
    },
    {
      "cell_type": "code",
      "execution_count": null,
      "metadata": {
        "colab": {
          "base_uri": "https://localhost:8080/"
        },
        "id": "YZkhrGT4E7Jm",
        "outputId": "071b1696-5fdd-4a90-a479-fc3a1ef4272f"
      },
      "outputs": [
        {
          "output_type": "stream",
          "name": "stdout",
          "text": [
            "Archive:  /content/heartbeat.zip\n",
            "replace mitbih_test.csv? [y]es, [n]o, [A]ll, [N]one, [r]ename: "
          ]
        }
      ],
      "source": [
        "!unzip /content/heartbeat.zip"
      ]
    },
    {
      "cell_type": "markdown",
      "source": [
        "# Load Data"
      ],
      "metadata": {
        "id": "dys89vMWLh4Q"
      }
    },
    {
      "cell_type": "code",
      "execution_count": 7,
      "metadata": {
        "id": "zVxlvrOHE9yn"
      },
      "outputs": [],
      "source": [
        "data = pd.read_csv('/content/heart.csv')"
      ]
    },
    {
      "cell_type": "code",
      "execution_count": 8,
      "metadata": {
        "colab": {
          "base_uri": "https://localhost:8080/",
          "height": 424
        },
        "id": "ETHfmhk6GFdm",
        "outputId": "262891af-ec7a-4ee0-e331-a5b34436718f"
      },
      "outputs": [
        {
          "output_type": "execute_result",
          "data": {
            "text/plain": [
              "      age  anaemia  creatinine_phosphokinase  diabetes  ejection_fraction  \\\n",
              "0    75.0        0                       582         0                 20   \n",
              "1    55.0        0                      7861         0                 38   \n",
              "2    65.0        0                       146         0                 20   \n",
              "3    50.0        1                       111         0                 20   \n",
              "4    65.0        1                       160         1                 20   \n",
              "..    ...      ...                       ...       ...                ...   \n",
              "294  62.0        0                        61         1                 38   \n",
              "295  55.0        0                      1820         0                 38   \n",
              "296  45.0        0                      2060         1                 60   \n",
              "297  45.0        0                      2413         0                 38   \n",
              "298  50.0        0                       196         0                 45   \n",
              "\n",
              "     high_blood_pressure  platelets  serum_creatinine  serum_sodium  sex  \\\n",
              "0                      1  265000.00               1.9           130    1   \n",
              "1                      0  263358.03               1.1           136    1   \n",
              "2                      0  162000.00               1.3           129    1   \n",
              "3                      0  210000.00               1.9           137    1   \n",
              "4                      0  327000.00               2.7           116    0   \n",
              "..                   ...        ...               ...           ...  ...   \n",
              "294                    1  155000.00               1.1           143    1   \n",
              "295                    0  270000.00               1.2           139    0   \n",
              "296                    0  742000.00               0.8           138    0   \n",
              "297                    0  140000.00               1.4           140    1   \n",
              "298                    0  395000.00               1.6           136    1   \n",
              "\n",
              "     smoking  time  DEATH_EVENT  \n",
              "0          0     4            1  \n",
              "1          0     6            1  \n",
              "2          1     7            1  \n",
              "3          0     7            1  \n",
              "4          0     8            1  \n",
              "..       ...   ...          ...  \n",
              "294        1   270            0  \n",
              "295        0   271            0  \n",
              "296        0   278            0  \n",
              "297        1   280            0  \n",
              "298        1   285            0  \n",
              "\n",
              "[299 rows x 13 columns]"
            ],
            "text/html": [
              "\n",
              "  <div id=\"df-9033e66a-7703-4d93-81b2-9eae344a2ba8\" class=\"colab-df-container\">\n",
              "    <div>\n",
              "<style scoped>\n",
              "    .dataframe tbody tr th:only-of-type {\n",
              "        vertical-align: middle;\n",
              "    }\n",
              "\n",
              "    .dataframe tbody tr th {\n",
              "        vertical-align: top;\n",
              "    }\n",
              "\n",
              "    .dataframe thead th {\n",
              "        text-align: right;\n",
              "    }\n",
              "</style>\n",
              "<table border=\"1\" class=\"dataframe\">\n",
              "  <thead>\n",
              "    <tr style=\"text-align: right;\">\n",
              "      <th></th>\n",
              "      <th>age</th>\n",
              "      <th>anaemia</th>\n",
              "      <th>creatinine_phosphokinase</th>\n",
              "      <th>diabetes</th>\n",
              "      <th>ejection_fraction</th>\n",
              "      <th>high_blood_pressure</th>\n",
              "      <th>platelets</th>\n",
              "      <th>serum_creatinine</th>\n",
              "      <th>serum_sodium</th>\n",
              "      <th>sex</th>\n",
              "      <th>smoking</th>\n",
              "      <th>time</th>\n",
              "      <th>DEATH_EVENT</th>\n",
              "    </tr>\n",
              "  </thead>\n",
              "  <tbody>\n",
              "    <tr>\n",
              "      <th>0</th>\n",
              "      <td>75.0</td>\n",
              "      <td>0</td>\n",
              "      <td>582</td>\n",
              "      <td>0</td>\n",
              "      <td>20</td>\n",
              "      <td>1</td>\n",
              "      <td>265000.00</td>\n",
              "      <td>1.9</td>\n",
              "      <td>130</td>\n",
              "      <td>1</td>\n",
              "      <td>0</td>\n",
              "      <td>4</td>\n",
              "      <td>1</td>\n",
              "    </tr>\n",
              "    <tr>\n",
              "      <th>1</th>\n",
              "      <td>55.0</td>\n",
              "      <td>0</td>\n",
              "      <td>7861</td>\n",
              "      <td>0</td>\n",
              "      <td>38</td>\n",
              "      <td>0</td>\n",
              "      <td>263358.03</td>\n",
              "      <td>1.1</td>\n",
              "      <td>136</td>\n",
              "      <td>1</td>\n",
              "      <td>0</td>\n",
              "      <td>6</td>\n",
              "      <td>1</td>\n",
              "    </tr>\n",
              "    <tr>\n",
              "      <th>2</th>\n",
              "      <td>65.0</td>\n",
              "      <td>0</td>\n",
              "      <td>146</td>\n",
              "      <td>0</td>\n",
              "      <td>20</td>\n",
              "      <td>0</td>\n",
              "      <td>162000.00</td>\n",
              "      <td>1.3</td>\n",
              "      <td>129</td>\n",
              "      <td>1</td>\n",
              "      <td>1</td>\n",
              "      <td>7</td>\n",
              "      <td>1</td>\n",
              "    </tr>\n",
              "    <tr>\n",
              "      <th>3</th>\n",
              "      <td>50.0</td>\n",
              "      <td>1</td>\n",
              "      <td>111</td>\n",
              "      <td>0</td>\n",
              "      <td>20</td>\n",
              "      <td>0</td>\n",
              "      <td>210000.00</td>\n",
              "      <td>1.9</td>\n",
              "      <td>137</td>\n",
              "      <td>1</td>\n",
              "      <td>0</td>\n",
              "      <td>7</td>\n",
              "      <td>1</td>\n",
              "    </tr>\n",
              "    <tr>\n",
              "      <th>4</th>\n",
              "      <td>65.0</td>\n",
              "      <td>1</td>\n",
              "      <td>160</td>\n",
              "      <td>1</td>\n",
              "      <td>20</td>\n",
              "      <td>0</td>\n",
              "      <td>327000.00</td>\n",
              "      <td>2.7</td>\n",
              "      <td>116</td>\n",
              "      <td>0</td>\n",
              "      <td>0</td>\n",
              "      <td>8</td>\n",
              "      <td>1</td>\n",
              "    </tr>\n",
              "    <tr>\n",
              "      <th>...</th>\n",
              "      <td>...</td>\n",
              "      <td>...</td>\n",
              "      <td>...</td>\n",
              "      <td>...</td>\n",
              "      <td>...</td>\n",
              "      <td>...</td>\n",
              "      <td>...</td>\n",
              "      <td>...</td>\n",
              "      <td>...</td>\n",
              "      <td>...</td>\n",
              "      <td>...</td>\n",
              "      <td>...</td>\n",
              "      <td>...</td>\n",
              "    </tr>\n",
              "    <tr>\n",
              "      <th>294</th>\n",
              "      <td>62.0</td>\n",
              "      <td>0</td>\n",
              "      <td>61</td>\n",
              "      <td>1</td>\n",
              "      <td>38</td>\n",
              "      <td>1</td>\n",
              "      <td>155000.00</td>\n",
              "      <td>1.1</td>\n",
              "      <td>143</td>\n",
              "      <td>1</td>\n",
              "      <td>1</td>\n",
              "      <td>270</td>\n",
              "      <td>0</td>\n",
              "    </tr>\n",
              "    <tr>\n",
              "      <th>295</th>\n",
              "      <td>55.0</td>\n",
              "      <td>0</td>\n",
              "      <td>1820</td>\n",
              "      <td>0</td>\n",
              "      <td>38</td>\n",
              "      <td>0</td>\n",
              "      <td>270000.00</td>\n",
              "      <td>1.2</td>\n",
              "      <td>139</td>\n",
              "      <td>0</td>\n",
              "      <td>0</td>\n",
              "      <td>271</td>\n",
              "      <td>0</td>\n",
              "    </tr>\n",
              "    <tr>\n",
              "      <th>296</th>\n",
              "      <td>45.0</td>\n",
              "      <td>0</td>\n",
              "      <td>2060</td>\n",
              "      <td>1</td>\n",
              "      <td>60</td>\n",
              "      <td>0</td>\n",
              "      <td>742000.00</td>\n",
              "      <td>0.8</td>\n",
              "      <td>138</td>\n",
              "      <td>0</td>\n",
              "      <td>0</td>\n",
              "      <td>278</td>\n",
              "      <td>0</td>\n",
              "    </tr>\n",
              "    <tr>\n",
              "      <th>297</th>\n",
              "      <td>45.0</td>\n",
              "      <td>0</td>\n",
              "      <td>2413</td>\n",
              "      <td>0</td>\n",
              "      <td>38</td>\n",
              "      <td>0</td>\n",
              "      <td>140000.00</td>\n",
              "      <td>1.4</td>\n",
              "      <td>140</td>\n",
              "      <td>1</td>\n",
              "      <td>1</td>\n",
              "      <td>280</td>\n",
              "      <td>0</td>\n",
              "    </tr>\n",
              "    <tr>\n",
              "      <th>298</th>\n",
              "      <td>50.0</td>\n",
              "      <td>0</td>\n",
              "      <td>196</td>\n",
              "      <td>0</td>\n",
              "      <td>45</td>\n",
              "      <td>0</td>\n",
              "      <td>395000.00</td>\n",
              "      <td>1.6</td>\n",
              "      <td>136</td>\n",
              "      <td>1</td>\n",
              "      <td>1</td>\n",
              "      <td>285</td>\n",
              "      <td>0</td>\n",
              "    </tr>\n",
              "  </tbody>\n",
              "</table>\n",
              "<p>299 rows × 13 columns</p>\n",
              "</div>\n",
              "    <div class=\"colab-df-buttons\">\n",
              "\n",
              "  <div class=\"colab-df-container\">\n",
              "    <button class=\"colab-df-convert\" onclick=\"convertToInteractive('df-9033e66a-7703-4d93-81b2-9eae344a2ba8')\"\n",
              "            title=\"Convert this dataframe to an interactive table.\"\n",
              "            style=\"display:none;\">\n",
              "\n",
              "  <svg xmlns=\"http://www.w3.org/2000/svg\" height=\"24px\" viewBox=\"0 -960 960 960\">\n",
              "    <path d=\"M120-120v-720h720v720H120Zm60-500h600v-160H180v160Zm220 220h160v-160H400v160Zm0 220h160v-160H400v160ZM180-400h160v-160H180v160Zm440 0h160v-160H620v160ZM180-180h160v-160H180v160Zm440 0h160v-160H620v160Z\"/>\n",
              "  </svg>\n",
              "    </button>\n",
              "\n",
              "  <style>\n",
              "    .colab-df-container {\n",
              "      display:flex;\n",
              "      gap: 12px;\n",
              "    }\n",
              "\n",
              "    .colab-df-convert {\n",
              "      background-color: #E8F0FE;\n",
              "      border: none;\n",
              "      border-radius: 50%;\n",
              "      cursor: pointer;\n",
              "      display: none;\n",
              "      fill: #1967D2;\n",
              "      height: 32px;\n",
              "      padding: 0 0 0 0;\n",
              "      width: 32px;\n",
              "    }\n",
              "\n",
              "    .colab-df-convert:hover {\n",
              "      background-color: #E2EBFA;\n",
              "      box-shadow: 0px 1px 2px rgba(60, 64, 67, 0.3), 0px 1px 3px 1px rgba(60, 64, 67, 0.15);\n",
              "      fill: #174EA6;\n",
              "    }\n",
              "\n",
              "    .colab-df-buttons div {\n",
              "      margin-bottom: 4px;\n",
              "    }\n",
              "\n",
              "    [theme=dark] .colab-df-convert {\n",
              "      background-color: #3B4455;\n",
              "      fill: #D2E3FC;\n",
              "    }\n",
              "\n",
              "    [theme=dark] .colab-df-convert:hover {\n",
              "      background-color: #434B5C;\n",
              "      box-shadow: 0px 1px 3px 1px rgba(0, 0, 0, 0.15);\n",
              "      filter: drop-shadow(0px 1px 2px rgba(0, 0, 0, 0.3));\n",
              "      fill: #FFFFFF;\n",
              "    }\n",
              "  </style>\n",
              "\n",
              "    <script>\n",
              "      const buttonEl =\n",
              "        document.querySelector('#df-9033e66a-7703-4d93-81b2-9eae344a2ba8 button.colab-df-convert');\n",
              "      buttonEl.style.display =\n",
              "        google.colab.kernel.accessAllowed ? 'block' : 'none';\n",
              "\n",
              "      async function convertToInteractive(key) {\n",
              "        const element = document.querySelector('#df-9033e66a-7703-4d93-81b2-9eae344a2ba8');\n",
              "        const dataTable =\n",
              "          await google.colab.kernel.invokeFunction('convertToInteractive',\n",
              "                                                    [key], {});\n",
              "        if (!dataTable) return;\n",
              "\n",
              "        const docLinkHtml = 'Like what you see? Visit the ' +\n",
              "          '<a target=\"_blank\" href=https://colab.research.google.com/notebooks/data_table.ipynb>data table notebook</a>'\n",
              "          + ' to learn more about interactive tables.';\n",
              "        element.innerHTML = '';\n",
              "        dataTable['output_type'] = 'display_data';\n",
              "        await google.colab.output.renderOutput(dataTable, element);\n",
              "        const docLink = document.createElement('div');\n",
              "        docLink.innerHTML = docLinkHtml;\n",
              "        element.appendChild(docLink);\n",
              "      }\n",
              "    </script>\n",
              "  </div>\n",
              "\n",
              "\n",
              "<div id=\"df-9df17ecb-3563-4194-b3ae-b2d27e82b905\">\n",
              "  <button class=\"colab-df-quickchart\" onclick=\"quickchart('df-9df17ecb-3563-4194-b3ae-b2d27e82b905')\"\n",
              "            title=\"Suggest charts\"\n",
              "            style=\"display:none;\">\n",
              "\n",
              "<svg xmlns=\"http://www.w3.org/2000/svg\" height=\"24px\"viewBox=\"0 0 24 24\"\n",
              "     width=\"24px\">\n",
              "    <g>\n",
              "        <path d=\"M19 3H5c-1.1 0-2 .9-2 2v14c0 1.1.9 2 2 2h14c1.1 0 2-.9 2-2V5c0-1.1-.9-2-2-2zM9 17H7v-7h2v7zm4 0h-2V7h2v10zm4 0h-2v-4h2v4z\"/>\n",
              "    </g>\n",
              "</svg>\n",
              "  </button>\n",
              "\n",
              "<style>\n",
              "  .colab-df-quickchart {\n",
              "      --bg-color: #E8F0FE;\n",
              "      --fill-color: #1967D2;\n",
              "      --hover-bg-color: #E2EBFA;\n",
              "      --hover-fill-color: #174EA6;\n",
              "      --disabled-fill-color: #AAA;\n",
              "      --disabled-bg-color: #DDD;\n",
              "  }\n",
              "\n",
              "  [theme=dark] .colab-df-quickchart {\n",
              "      --bg-color: #3B4455;\n",
              "      --fill-color: #D2E3FC;\n",
              "      --hover-bg-color: #434B5C;\n",
              "      --hover-fill-color: #FFFFFF;\n",
              "      --disabled-bg-color: #3B4455;\n",
              "      --disabled-fill-color: #666;\n",
              "  }\n",
              "\n",
              "  .colab-df-quickchart {\n",
              "    background-color: var(--bg-color);\n",
              "    border: none;\n",
              "    border-radius: 50%;\n",
              "    cursor: pointer;\n",
              "    display: none;\n",
              "    fill: var(--fill-color);\n",
              "    height: 32px;\n",
              "    padding: 0;\n",
              "    width: 32px;\n",
              "  }\n",
              "\n",
              "  .colab-df-quickchart:hover {\n",
              "    background-color: var(--hover-bg-color);\n",
              "    box-shadow: 0 1px 2px rgba(60, 64, 67, 0.3), 0 1px 3px 1px rgba(60, 64, 67, 0.15);\n",
              "    fill: var(--button-hover-fill-color);\n",
              "  }\n",
              "\n",
              "  .colab-df-quickchart-complete:disabled,\n",
              "  .colab-df-quickchart-complete:disabled:hover {\n",
              "    background-color: var(--disabled-bg-color);\n",
              "    fill: var(--disabled-fill-color);\n",
              "    box-shadow: none;\n",
              "  }\n",
              "\n",
              "  .colab-df-spinner {\n",
              "    border: 2px solid var(--fill-color);\n",
              "    border-color: transparent;\n",
              "    border-bottom-color: var(--fill-color);\n",
              "    animation:\n",
              "      spin 1s steps(1) infinite;\n",
              "  }\n",
              "\n",
              "  @keyframes spin {\n",
              "    0% {\n",
              "      border-color: transparent;\n",
              "      border-bottom-color: var(--fill-color);\n",
              "      border-left-color: var(--fill-color);\n",
              "    }\n",
              "    20% {\n",
              "      border-color: transparent;\n",
              "      border-left-color: var(--fill-color);\n",
              "      border-top-color: var(--fill-color);\n",
              "    }\n",
              "    30% {\n",
              "      border-color: transparent;\n",
              "      border-left-color: var(--fill-color);\n",
              "      border-top-color: var(--fill-color);\n",
              "      border-right-color: var(--fill-color);\n",
              "    }\n",
              "    40% {\n",
              "      border-color: transparent;\n",
              "      border-right-color: var(--fill-color);\n",
              "      border-top-color: var(--fill-color);\n",
              "    }\n",
              "    60% {\n",
              "      border-color: transparent;\n",
              "      border-right-color: var(--fill-color);\n",
              "    }\n",
              "    80% {\n",
              "      border-color: transparent;\n",
              "      border-right-color: var(--fill-color);\n",
              "      border-bottom-color: var(--fill-color);\n",
              "    }\n",
              "    90% {\n",
              "      border-color: transparent;\n",
              "      border-bottom-color: var(--fill-color);\n",
              "    }\n",
              "  }\n",
              "</style>\n",
              "\n",
              "  <script>\n",
              "    async function quickchart(key) {\n",
              "      const quickchartButtonEl =\n",
              "        document.querySelector('#' + key + ' button');\n",
              "      quickchartButtonEl.disabled = true;  // To prevent multiple clicks.\n",
              "      quickchartButtonEl.classList.add('colab-df-spinner');\n",
              "      try {\n",
              "        const charts = await google.colab.kernel.invokeFunction(\n",
              "            'suggestCharts', [key], {});\n",
              "      } catch (error) {\n",
              "        console.error('Error during call to suggestCharts:', error);\n",
              "      }\n",
              "      quickchartButtonEl.classList.remove('colab-df-spinner');\n",
              "      quickchartButtonEl.classList.add('colab-df-quickchart-complete');\n",
              "    }\n",
              "    (() => {\n",
              "      let quickchartButtonEl =\n",
              "        document.querySelector('#df-9df17ecb-3563-4194-b3ae-b2d27e82b905 button');\n",
              "      quickchartButtonEl.style.display =\n",
              "        google.colab.kernel.accessAllowed ? 'block' : 'none';\n",
              "    })();\n",
              "  </script>\n",
              "</div>\n",
              "    </div>\n",
              "  </div>\n"
            ],
            "application/vnd.google.colaboratory.intrinsic+json": {
              "type": "dataframe",
              "variable_name": "data",
              "summary": "{\n  \"name\": \"data\",\n  \"rows\": 299,\n  \"fields\": [\n    {\n      \"column\": \"age\",\n      \"properties\": {\n        \"dtype\": \"number\",\n        \"std\": 11.89480907404447,\n        \"min\": 40.0,\n        \"max\": 95.0,\n        \"num_unique_values\": 47,\n        \"samples\": [\n          79.0,\n          40.0,\n          67.0\n        ],\n        \"semantic_type\": \"\",\n        \"description\": \"\"\n      }\n    },\n    {\n      \"column\": \"anaemia\",\n      \"properties\": {\n        \"dtype\": \"number\",\n        \"std\": 0,\n        \"min\": 0,\n        \"max\": 1,\n        \"num_unique_values\": 2,\n        \"samples\": [\n          1,\n          0\n        ],\n        \"semantic_type\": \"\",\n        \"description\": \"\"\n      }\n    },\n    {\n      \"column\": \"creatinine_phosphokinase\",\n      \"properties\": {\n        \"dtype\": \"number\",\n        \"std\": 970,\n        \"min\": 23,\n        \"max\": 7861,\n        \"num_unique_values\": 208,\n        \"samples\": [\n          86,\n          379\n        ],\n        \"semantic_type\": \"\",\n        \"description\": \"\"\n      }\n    },\n    {\n      \"column\": \"diabetes\",\n      \"properties\": {\n        \"dtype\": \"number\",\n        \"std\": 0,\n        \"min\": 0,\n        \"max\": 1,\n        \"num_unique_values\": 2,\n        \"samples\": [\n          1,\n          0\n        ],\n        \"semantic_type\": \"\",\n        \"description\": \"\"\n      }\n    },\n    {\n      \"column\": \"ejection_fraction\",\n      \"properties\": {\n        \"dtype\": \"number\",\n        \"std\": 11,\n        \"min\": 14,\n        \"max\": 80,\n        \"num_unique_values\": 17,\n        \"samples\": [\n          20,\n          38\n        ],\n        \"semantic_type\": \"\",\n        \"description\": \"\"\n      }\n    },\n    {\n      \"column\": \"high_blood_pressure\",\n      \"properties\": {\n        \"dtype\": \"number\",\n        \"std\": 0,\n        \"min\": 0,\n        \"max\": 1,\n        \"num_unique_values\": 2,\n        \"samples\": [\n          0,\n          1\n        ],\n        \"semantic_type\": \"\",\n        \"description\": \"\"\n      }\n    },\n    {\n      \"column\": \"platelets\",\n      \"properties\": {\n        \"dtype\": \"number\",\n        \"std\": 97804.2368685983,\n        \"min\": 25100.0,\n        \"max\": 850000.0,\n        \"num_unique_values\": 176,\n        \"samples\": [\n          297000.0,\n          255000.0\n        ],\n        \"semantic_type\": \"\",\n        \"description\": \"\"\n      }\n    },\n    {\n      \"column\": \"serum_creatinine\",\n      \"properties\": {\n        \"dtype\": \"number\",\n        \"std\": 1.0345100640898541,\n        \"min\": 0.5,\n        \"max\": 9.4,\n        \"num_unique_values\": 40,\n        \"samples\": [\n          4.4,\n          3.5\n        ],\n        \"semantic_type\": \"\",\n        \"description\": \"\"\n      }\n    },\n    {\n      \"column\": \"serum_sodium\",\n      \"properties\": {\n        \"dtype\": \"number\",\n        \"std\": 4,\n        \"min\": 113,\n        \"max\": 148,\n        \"num_unique_values\": 27,\n        \"samples\": [\n          133,\n          134\n        ],\n        \"semantic_type\": \"\",\n        \"description\": \"\"\n      }\n    },\n    {\n      \"column\": \"sex\",\n      \"properties\": {\n        \"dtype\": \"number\",\n        \"std\": 0,\n        \"min\": 0,\n        \"max\": 1,\n        \"num_unique_values\": 2,\n        \"samples\": [\n          0,\n          1\n        ],\n        \"semantic_type\": \"\",\n        \"description\": \"\"\n      }\n    },\n    {\n      \"column\": \"smoking\",\n      \"properties\": {\n        \"dtype\": \"number\",\n        \"std\": 0,\n        \"min\": 0,\n        \"max\": 1,\n        \"num_unique_values\": 2,\n        \"samples\": [\n          1,\n          0\n        ],\n        \"semantic_type\": \"\",\n        \"description\": \"\"\n      }\n    },\n    {\n      \"column\": \"time\",\n      \"properties\": {\n        \"dtype\": \"number\",\n        \"std\": 77,\n        \"min\": 4,\n        \"max\": 285,\n        \"num_unique_values\": 148,\n        \"samples\": [\n          215,\n          79\n        ],\n        \"semantic_type\": \"\",\n        \"description\": \"\"\n      }\n    },\n    {\n      \"column\": \"DEATH_EVENT\",\n      \"properties\": {\n        \"dtype\": \"number\",\n        \"std\": 0,\n        \"min\": 0,\n        \"max\": 1,\n        \"num_unique_values\": 2,\n        \"samples\": [\n          0,\n          1\n        ],\n        \"semantic_type\": \"\",\n        \"description\": \"\"\n      }\n    }\n  ]\n}"
            }
          },
          "metadata": {},
          "execution_count": 8
        }
      ],
      "source": [
        "data"
      ]
    },
    {
      "cell_type": "code",
      "execution_count": 9,
      "metadata": {
        "colab": {
          "base_uri": "https://localhost:8080/"
        },
        "id": "UvgArWLiVeop",
        "outputId": "f6f98522-4406-43fa-e7dd-60aa695bbf89"
      },
      "outputs": [
        {
          "output_type": "execute_result",
          "data": {
            "text/plain": [
              "0"
            ]
          },
          "metadata": {},
          "execution_count": 9
        }
      ],
      "source": [
        "data.isna().sum().sum()"
      ]
    },
    {
      "cell_type": "code",
      "execution_count": 10,
      "metadata": {
        "id": "X5zxuWjJGTHm"
      },
      "outputs": [],
      "source": [
        "import os\n",
        "path = '/content/drive/MyDrive/work73heart/'\n",
        "os.makedirs(path,exist_ok=True)"
      ]
    },
    {
      "cell_type": "code",
      "source": [
        "# data.drop(data.columns[0],inplace=True,axis=1)"
      ],
      "metadata": {
        "id": "a_uy692GMl73"
      },
      "execution_count": 11,
      "outputs": []
    },
    {
      "cell_type": "markdown",
      "metadata": {
        "id": "DGEVOzphVmgx"
      },
      "source": [
        "# VISUALIZE"
      ]
    },
    {
      "cell_type": "code",
      "execution_count": 12,
      "metadata": {
        "id": "ztTjw-L9Vl9g",
        "colab": {
          "base_uri": "https://localhost:8080/",
          "height": 424
        },
        "outputId": "199ae874-31ae-4645-ab24-0b271a287597"
      },
      "outputs": [
        {
          "output_type": "execute_result",
          "data": {
            "text/plain": [
              "      age  anaemia  creatinine_phosphokinase  diabetes  ejection_fraction  \\\n",
              "0    75.0        0                       582         0                 20   \n",
              "1    55.0        0                      7861         0                 38   \n",
              "2    65.0        0                       146         0                 20   \n",
              "3    50.0        1                       111         0                 20   \n",
              "4    65.0        1                       160         1                 20   \n",
              "..    ...      ...                       ...       ...                ...   \n",
              "294  62.0        0                        61         1                 38   \n",
              "295  55.0        0                      1820         0                 38   \n",
              "296  45.0        0                      2060         1                 60   \n",
              "297  45.0        0                      2413         0                 38   \n",
              "298  50.0        0                       196         0                 45   \n",
              "\n",
              "     high_blood_pressure  platelets  serum_creatinine  serum_sodium  sex  \\\n",
              "0                      1  265000.00               1.9           130    1   \n",
              "1                      0  263358.03               1.1           136    1   \n",
              "2                      0  162000.00               1.3           129    1   \n",
              "3                      0  210000.00               1.9           137    1   \n",
              "4                      0  327000.00               2.7           116    0   \n",
              "..                   ...        ...               ...           ...  ...   \n",
              "294                    1  155000.00               1.1           143    1   \n",
              "295                    0  270000.00               1.2           139    0   \n",
              "296                    0  742000.00               0.8           138    0   \n",
              "297                    0  140000.00               1.4           140    1   \n",
              "298                    0  395000.00               1.6           136    1   \n",
              "\n",
              "     smoking  time  DEATH_EVENT  \n",
              "0          0     4            1  \n",
              "1          0     6            1  \n",
              "2          1     7            1  \n",
              "3          0     7            1  \n",
              "4          0     8            1  \n",
              "..       ...   ...          ...  \n",
              "294        1   270            0  \n",
              "295        0   271            0  \n",
              "296        0   278            0  \n",
              "297        1   280            0  \n",
              "298        1   285            0  \n",
              "\n",
              "[299 rows x 13 columns]"
            ],
            "text/html": [
              "\n",
              "  <div id=\"df-5e1799b0-eaf4-476d-9ea9-de8bb17b7793\" class=\"colab-df-container\">\n",
              "    <div>\n",
              "<style scoped>\n",
              "    .dataframe tbody tr th:only-of-type {\n",
              "        vertical-align: middle;\n",
              "    }\n",
              "\n",
              "    .dataframe tbody tr th {\n",
              "        vertical-align: top;\n",
              "    }\n",
              "\n",
              "    .dataframe thead th {\n",
              "        text-align: right;\n",
              "    }\n",
              "</style>\n",
              "<table border=\"1\" class=\"dataframe\">\n",
              "  <thead>\n",
              "    <tr style=\"text-align: right;\">\n",
              "      <th></th>\n",
              "      <th>age</th>\n",
              "      <th>anaemia</th>\n",
              "      <th>creatinine_phosphokinase</th>\n",
              "      <th>diabetes</th>\n",
              "      <th>ejection_fraction</th>\n",
              "      <th>high_blood_pressure</th>\n",
              "      <th>platelets</th>\n",
              "      <th>serum_creatinine</th>\n",
              "      <th>serum_sodium</th>\n",
              "      <th>sex</th>\n",
              "      <th>smoking</th>\n",
              "      <th>time</th>\n",
              "      <th>DEATH_EVENT</th>\n",
              "    </tr>\n",
              "  </thead>\n",
              "  <tbody>\n",
              "    <tr>\n",
              "      <th>0</th>\n",
              "      <td>75.0</td>\n",
              "      <td>0</td>\n",
              "      <td>582</td>\n",
              "      <td>0</td>\n",
              "      <td>20</td>\n",
              "      <td>1</td>\n",
              "      <td>265000.00</td>\n",
              "      <td>1.9</td>\n",
              "      <td>130</td>\n",
              "      <td>1</td>\n",
              "      <td>0</td>\n",
              "      <td>4</td>\n",
              "      <td>1</td>\n",
              "    </tr>\n",
              "    <tr>\n",
              "      <th>1</th>\n",
              "      <td>55.0</td>\n",
              "      <td>0</td>\n",
              "      <td>7861</td>\n",
              "      <td>0</td>\n",
              "      <td>38</td>\n",
              "      <td>0</td>\n",
              "      <td>263358.03</td>\n",
              "      <td>1.1</td>\n",
              "      <td>136</td>\n",
              "      <td>1</td>\n",
              "      <td>0</td>\n",
              "      <td>6</td>\n",
              "      <td>1</td>\n",
              "    </tr>\n",
              "    <tr>\n",
              "      <th>2</th>\n",
              "      <td>65.0</td>\n",
              "      <td>0</td>\n",
              "      <td>146</td>\n",
              "      <td>0</td>\n",
              "      <td>20</td>\n",
              "      <td>0</td>\n",
              "      <td>162000.00</td>\n",
              "      <td>1.3</td>\n",
              "      <td>129</td>\n",
              "      <td>1</td>\n",
              "      <td>1</td>\n",
              "      <td>7</td>\n",
              "      <td>1</td>\n",
              "    </tr>\n",
              "    <tr>\n",
              "      <th>3</th>\n",
              "      <td>50.0</td>\n",
              "      <td>1</td>\n",
              "      <td>111</td>\n",
              "      <td>0</td>\n",
              "      <td>20</td>\n",
              "      <td>0</td>\n",
              "      <td>210000.00</td>\n",
              "      <td>1.9</td>\n",
              "      <td>137</td>\n",
              "      <td>1</td>\n",
              "      <td>0</td>\n",
              "      <td>7</td>\n",
              "      <td>1</td>\n",
              "    </tr>\n",
              "    <tr>\n",
              "      <th>4</th>\n",
              "      <td>65.0</td>\n",
              "      <td>1</td>\n",
              "      <td>160</td>\n",
              "      <td>1</td>\n",
              "      <td>20</td>\n",
              "      <td>0</td>\n",
              "      <td>327000.00</td>\n",
              "      <td>2.7</td>\n",
              "      <td>116</td>\n",
              "      <td>0</td>\n",
              "      <td>0</td>\n",
              "      <td>8</td>\n",
              "      <td>1</td>\n",
              "    </tr>\n",
              "    <tr>\n",
              "      <th>...</th>\n",
              "      <td>...</td>\n",
              "      <td>...</td>\n",
              "      <td>...</td>\n",
              "      <td>...</td>\n",
              "      <td>...</td>\n",
              "      <td>...</td>\n",
              "      <td>...</td>\n",
              "      <td>...</td>\n",
              "      <td>...</td>\n",
              "      <td>...</td>\n",
              "      <td>...</td>\n",
              "      <td>...</td>\n",
              "      <td>...</td>\n",
              "    </tr>\n",
              "    <tr>\n",
              "      <th>294</th>\n",
              "      <td>62.0</td>\n",
              "      <td>0</td>\n",
              "      <td>61</td>\n",
              "      <td>1</td>\n",
              "      <td>38</td>\n",
              "      <td>1</td>\n",
              "      <td>155000.00</td>\n",
              "      <td>1.1</td>\n",
              "      <td>143</td>\n",
              "      <td>1</td>\n",
              "      <td>1</td>\n",
              "      <td>270</td>\n",
              "      <td>0</td>\n",
              "    </tr>\n",
              "    <tr>\n",
              "      <th>295</th>\n",
              "      <td>55.0</td>\n",
              "      <td>0</td>\n",
              "      <td>1820</td>\n",
              "      <td>0</td>\n",
              "      <td>38</td>\n",
              "      <td>0</td>\n",
              "      <td>270000.00</td>\n",
              "      <td>1.2</td>\n",
              "      <td>139</td>\n",
              "      <td>0</td>\n",
              "      <td>0</td>\n",
              "      <td>271</td>\n",
              "      <td>0</td>\n",
              "    </tr>\n",
              "    <tr>\n",
              "      <th>296</th>\n",
              "      <td>45.0</td>\n",
              "      <td>0</td>\n",
              "      <td>2060</td>\n",
              "      <td>1</td>\n",
              "      <td>60</td>\n",
              "      <td>0</td>\n",
              "      <td>742000.00</td>\n",
              "      <td>0.8</td>\n",
              "      <td>138</td>\n",
              "      <td>0</td>\n",
              "      <td>0</td>\n",
              "      <td>278</td>\n",
              "      <td>0</td>\n",
              "    </tr>\n",
              "    <tr>\n",
              "      <th>297</th>\n",
              "      <td>45.0</td>\n",
              "      <td>0</td>\n",
              "      <td>2413</td>\n",
              "      <td>0</td>\n",
              "      <td>38</td>\n",
              "      <td>0</td>\n",
              "      <td>140000.00</td>\n",
              "      <td>1.4</td>\n",
              "      <td>140</td>\n",
              "      <td>1</td>\n",
              "      <td>1</td>\n",
              "      <td>280</td>\n",
              "      <td>0</td>\n",
              "    </tr>\n",
              "    <tr>\n",
              "      <th>298</th>\n",
              "      <td>50.0</td>\n",
              "      <td>0</td>\n",
              "      <td>196</td>\n",
              "      <td>0</td>\n",
              "      <td>45</td>\n",
              "      <td>0</td>\n",
              "      <td>395000.00</td>\n",
              "      <td>1.6</td>\n",
              "      <td>136</td>\n",
              "      <td>1</td>\n",
              "      <td>1</td>\n",
              "      <td>285</td>\n",
              "      <td>0</td>\n",
              "    </tr>\n",
              "  </tbody>\n",
              "</table>\n",
              "<p>299 rows × 13 columns</p>\n",
              "</div>\n",
              "    <div class=\"colab-df-buttons\">\n",
              "\n",
              "  <div class=\"colab-df-container\">\n",
              "    <button class=\"colab-df-convert\" onclick=\"convertToInteractive('df-5e1799b0-eaf4-476d-9ea9-de8bb17b7793')\"\n",
              "            title=\"Convert this dataframe to an interactive table.\"\n",
              "            style=\"display:none;\">\n",
              "\n",
              "  <svg xmlns=\"http://www.w3.org/2000/svg\" height=\"24px\" viewBox=\"0 -960 960 960\">\n",
              "    <path d=\"M120-120v-720h720v720H120Zm60-500h600v-160H180v160Zm220 220h160v-160H400v160Zm0 220h160v-160H400v160ZM180-400h160v-160H180v160Zm440 0h160v-160H620v160ZM180-180h160v-160H180v160Zm440 0h160v-160H620v160Z\"/>\n",
              "  </svg>\n",
              "    </button>\n",
              "\n",
              "  <style>\n",
              "    .colab-df-container {\n",
              "      display:flex;\n",
              "      gap: 12px;\n",
              "    }\n",
              "\n",
              "    .colab-df-convert {\n",
              "      background-color: #E8F0FE;\n",
              "      border: none;\n",
              "      border-radius: 50%;\n",
              "      cursor: pointer;\n",
              "      display: none;\n",
              "      fill: #1967D2;\n",
              "      height: 32px;\n",
              "      padding: 0 0 0 0;\n",
              "      width: 32px;\n",
              "    }\n",
              "\n",
              "    .colab-df-convert:hover {\n",
              "      background-color: #E2EBFA;\n",
              "      box-shadow: 0px 1px 2px rgba(60, 64, 67, 0.3), 0px 1px 3px 1px rgba(60, 64, 67, 0.15);\n",
              "      fill: #174EA6;\n",
              "    }\n",
              "\n",
              "    .colab-df-buttons div {\n",
              "      margin-bottom: 4px;\n",
              "    }\n",
              "\n",
              "    [theme=dark] .colab-df-convert {\n",
              "      background-color: #3B4455;\n",
              "      fill: #D2E3FC;\n",
              "    }\n",
              "\n",
              "    [theme=dark] .colab-df-convert:hover {\n",
              "      background-color: #434B5C;\n",
              "      box-shadow: 0px 1px 3px 1px rgba(0, 0, 0, 0.15);\n",
              "      filter: drop-shadow(0px 1px 2px rgba(0, 0, 0, 0.3));\n",
              "      fill: #FFFFFF;\n",
              "    }\n",
              "  </style>\n",
              "\n",
              "    <script>\n",
              "      const buttonEl =\n",
              "        document.querySelector('#df-5e1799b0-eaf4-476d-9ea9-de8bb17b7793 button.colab-df-convert');\n",
              "      buttonEl.style.display =\n",
              "        google.colab.kernel.accessAllowed ? 'block' : 'none';\n",
              "\n",
              "      async function convertToInteractive(key) {\n",
              "        const element = document.querySelector('#df-5e1799b0-eaf4-476d-9ea9-de8bb17b7793');\n",
              "        const dataTable =\n",
              "          await google.colab.kernel.invokeFunction('convertToInteractive',\n",
              "                                                    [key], {});\n",
              "        if (!dataTable) return;\n",
              "\n",
              "        const docLinkHtml = 'Like what you see? Visit the ' +\n",
              "          '<a target=\"_blank\" href=https://colab.research.google.com/notebooks/data_table.ipynb>data table notebook</a>'\n",
              "          + ' to learn more about interactive tables.';\n",
              "        element.innerHTML = '';\n",
              "        dataTable['output_type'] = 'display_data';\n",
              "        await google.colab.output.renderOutput(dataTable, element);\n",
              "        const docLink = document.createElement('div');\n",
              "        docLink.innerHTML = docLinkHtml;\n",
              "        element.appendChild(docLink);\n",
              "      }\n",
              "    </script>\n",
              "  </div>\n",
              "\n",
              "\n",
              "<div id=\"df-3eddb419-d7c5-4245-8f36-7862b58d6b3a\">\n",
              "  <button class=\"colab-df-quickchart\" onclick=\"quickchart('df-3eddb419-d7c5-4245-8f36-7862b58d6b3a')\"\n",
              "            title=\"Suggest charts\"\n",
              "            style=\"display:none;\">\n",
              "\n",
              "<svg xmlns=\"http://www.w3.org/2000/svg\" height=\"24px\"viewBox=\"0 0 24 24\"\n",
              "     width=\"24px\">\n",
              "    <g>\n",
              "        <path d=\"M19 3H5c-1.1 0-2 .9-2 2v14c0 1.1.9 2 2 2h14c1.1 0 2-.9 2-2V5c0-1.1-.9-2-2-2zM9 17H7v-7h2v7zm4 0h-2V7h2v10zm4 0h-2v-4h2v4z\"/>\n",
              "    </g>\n",
              "</svg>\n",
              "  </button>\n",
              "\n",
              "<style>\n",
              "  .colab-df-quickchart {\n",
              "      --bg-color: #E8F0FE;\n",
              "      --fill-color: #1967D2;\n",
              "      --hover-bg-color: #E2EBFA;\n",
              "      --hover-fill-color: #174EA6;\n",
              "      --disabled-fill-color: #AAA;\n",
              "      --disabled-bg-color: #DDD;\n",
              "  }\n",
              "\n",
              "  [theme=dark] .colab-df-quickchart {\n",
              "      --bg-color: #3B4455;\n",
              "      --fill-color: #D2E3FC;\n",
              "      --hover-bg-color: #434B5C;\n",
              "      --hover-fill-color: #FFFFFF;\n",
              "      --disabled-bg-color: #3B4455;\n",
              "      --disabled-fill-color: #666;\n",
              "  }\n",
              "\n",
              "  .colab-df-quickchart {\n",
              "    background-color: var(--bg-color);\n",
              "    border: none;\n",
              "    border-radius: 50%;\n",
              "    cursor: pointer;\n",
              "    display: none;\n",
              "    fill: var(--fill-color);\n",
              "    height: 32px;\n",
              "    padding: 0;\n",
              "    width: 32px;\n",
              "  }\n",
              "\n",
              "  .colab-df-quickchart:hover {\n",
              "    background-color: var(--hover-bg-color);\n",
              "    box-shadow: 0 1px 2px rgba(60, 64, 67, 0.3), 0 1px 3px 1px rgba(60, 64, 67, 0.15);\n",
              "    fill: var(--button-hover-fill-color);\n",
              "  }\n",
              "\n",
              "  .colab-df-quickchart-complete:disabled,\n",
              "  .colab-df-quickchart-complete:disabled:hover {\n",
              "    background-color: var(--disabled-bg-color);\n",
              "    fill: var(--disabled-fill-color);\n",
              "    box-shadow: none;\n",
              "  }\n",
              "\n",
              "  .colab-df-spinner {\n",
              "    border: 2px solid var(--fill-color);\n",
              "    border-color: transparent;\n",
              "    border-bottom-color: var(--fill-color);\n",
              "    animation:\n",
              "      spin 1s steps(1) infinite;\n",
              "  }\n",
              "\n",
              "  @keyframes spin {\n",
              "    0% {\n",
              "      border-color: transparent;\n",
              "      border-bottom-color: var(--fill-color);\n",
              "      border-left-color: var(--fill-color);\n",
              "    }\n",
              "    20% {\n",
              "      border-color: transparent;\n",
              "      border-left-color: var(--fill-color);\n",
              "      border-top-color: var(--fill-color);\n",
              "    }\n",
              "    30% {\n",
              "      border-color: transparent;\n",
              "      border-left-color: var(--fill-color);\n",
              "      border-top-color: var(--fill-color);\n",
              "      border-right-color: var(--fill-color);\n",
              "    }\n",
              "    40% {\n",
              "      border-color: transparent;\n",
              "      border-right-color: var(--fill-color);\n",
              "      border-top-color: var(--fill-color);\n",
              "    }\n",
              "    60% {\n",
              "      border-color: transparent;\n",
              "      border-right-color: var(--fill-color);\n",
              "    }\n",
              "    80% {\n",
              "      border-color: transparent;\n",
              "      border-right-color: var(--fill-color);\n",
              "      border-bottom-color: var(--fill-color);\n",
              "    }\n",
              "    90% {\n",
              "      border-color: transparent;\n",
              "      border-bottom-color: var(--fill-color);\n",
              "    }\n",
              "  }\n",
              "</style>\n",
              "\n",
              "  <script>\n",
              "    async function quickchart(key) {\n",
              "      const quickchartButtonEl =\n",
              "        document.querySelector('#' + key + ' button');\n",
              "      quickchartButtonEl.disabled = true;  // To prevent multiple clicks.\n",
              "      quickchartButtonEl.classList.add('colab-df-spinner');\n",
              "      try {\n",
              "        const charts = await google.colab.kernel.invokeFunction(\n",
              "            'suggestCharts', [key], {});\n",
              "      } catch (error) {\n",
              "        console.error('Error during call to suggestCharts:', error);\n",
              "      }\n",
              "      quickchartButtonEl.classList.remove('colab-df-spinner');\n",
              "      quickchartButtonEl.classList.add('colab-df-quickchart-complete');\n",
              "    }\n",
              "    (() => {\n",
              "      let quickchartButtonEl =\n",
              "        document.querySelector('#df-3eddb419-d7c5-4245-8f36-7862b58d6b3a button');\n",
              "      quickchartButtonEl.style.display =\n",
              "        google.colab.kernel.accessAllowed ? 'block' : 'none';\n",
              "    })();\n",
              "  </script>\n",
              "</div>\n",
              "    </div>\n",
              "  </div>\n"
            ],
            "application/vnd.google.colaboratory.intrinsic+json": {
              "type": "dataframe",
              "variable_name": "data",
              "summary": "{\n  \"name\": \"data\",\n  \"rows\": 299,\n  \"fields\": [\n    {\n      \"column\": \"age\",\n      \"properties\": {\n        \"dtype\": \"number\",\n        \"std\": 11.89480907404447,\n        \"min\": 40.0,\n        \"max\": 95.0,\n        \"num_unique_values\": 47,\n        \"samples\": [\n          79.0,\n          40.0,\n          67.0\n        ],\n        \"semantic_type\": \"\",\n        \"description\": \"\"\n      }\n    },\n    {\n      \"column\": \"anaemia\",\n      \"properties\": {\n        \"dtype\": \"number\",\n        \"std\": 0,\n        \"min\": 0,\n        \"max\": 1,\n        \"num_unique_values\": 2,\n        \"samples\": [\n          1,\n          0\n        ],\n        \"semantic_type\": \"\",\n        \"description\": \"\"\n      }\n    },\n    {\n      \"column\": \"creatinine_phosphokinase\",\n      \"properties\": {\n        \"dtype\": \"number\",\n        \"std\": 970,\n        \"min\": 23,\n        \"max\": 7861,\n        \"num_unique_values\": 208,\n        \"samples\": [\n          86,\n          379\n        ],\n        \"semantic_type\": \"\",\n        \"description\": \"\"\n      }\n    },\n    {\n      \"column\": \"diabetes\",\n      \"properties\": {\n        \"dtype\": \"number\",\n        \"std\": 0,\n        \"min\": 0,\n        \"max\": 1,\n        \"num_unique_values\": 2,\n        \"samples\": [\n          1,\n          0\n        ],\n        \"semantic_type\": \"\",\n        \"description\": \"\"\n      }\n    },\n    {\n      \"column\": \"ejection_fraction\",\n      \"properties\": {\n        \"dtype\": \"number\",\n        \"std\": 11,\n        \"min\": 14,\n        \"max\": 80,\n        \"num_unique_values\": 17,\n        \"samples\": [\n          20,\n          38\n        ],\n        \"semantic_type\": \"\",\n        \"description\": \"\"\n      }\n    },\n    {\n      \"column\": \"high_blood_pressure\",\n      \"properties\": {\n        \"dtype\": \"number\",\n        \"std\": 0,\n        \"min\": 0,\n        \"max\": 1,\n        \"num_unique_values\": 2,\n        \"samples\": [\n          0,\n          1\n        ],\n        \"semantic_type\": \"\",\n        \"description\": \"\"\n      }\n    },\n    {\n      \"column\": \"platelets\",\n      \"properties\": {\n        \"dtype\": \"number\",\n        \"std\": 97804.2368685983,\n        \"min\": 25100.0,\n        \"max\": 850000.0,\n        \"num_unique_values\": 176,\n        \"samples\": [\n          297000.0,\n          255000.0\n        ],\n        \"semantic_type\": \"\",\n        \"description\": \"\"\n      }\n    },\n    {\n      \"column\": \"serum_creatinine\",\n      \"properties\": {\n        \"dtype\": \"number\",\n        \"std\": 1.0345100640898541,\n        \"min\": 0.5,\n        \"max\": 9.4,\n        \"num_unique_values\": 40,\n        \"samples\": [\n          4.4,\n          3.5\n        ],\n        \"semantic_type\": \"\",\n        \"description\": \"\"\n      }\n    },\n    {\n      \"column\": \"serum_sodium\",\n      \"properties\": {\n        \"dtype\": \"number\",\n        \"std\": 4,\n        \"min\": 113,\n        \"max\": 148,\n        \"num_unique_values\": 27,\n        \"samples\": [\n          133,\n          134\n        ],\n        \"semantic_type\": \"\",\n        \"description\": \"\"\n      }\n    },\n    {\n      \"column\": \"sex\",\n      \"properties\": {\n        \"dtype\": \"number\",\n        \"std\": 0,\n        \"min\": 0,\n        \"max\": 1,\n        \"num_unique_values\": 2,\n        \"samples\": [\n          0,\n          1\n        ],\n        \"semantic_type\": \"\",\n        \"description\": \"\"\n      }\n    },\n    {\n      \"column\": \"smoking\",\n      \"properties\": {\n        \"dtype\": \"number\",\n        \"std\": 0,\n        \"min\": 0,\n        \"max\": 1,\n        \"num_unique_values\": 2,\n        \"samples\": [\n          1,\n          0\n        ],\n        \"semantic_type\": \"\",\n        \"description\": \"\"\n      }\n    },\n    {\n      \"column\": \"time\",\n      \"properties\": {\n        \"dtype\": \"number\",\n        \"std\": 77,\n        \"min\": 4,\n        \"max\": 285,\n        \"num_unique_values\": 148,\n        \"samples\": [\n          215,\n          79\n        ],\n        \"semantic_type\": \"\",\n        \"description\": \"\"\n      }\n    },\n    {\n      \"column\": \"DEATH_EVENT\",\n      \"properties\": {\n        \"dtype\": \"number\",\n        \"std\": 0,\n        \"min\": 0,\n        \"max\": 1,\n        \"num_unique_values\": 2,\n        \"samples\": [\n          0,\n          1\n        ],\n        \"semantic_type\": \"\",\n        \"description\": \"\"\n      }\n    }\n  ]\n}"
            }
          },
          "metadata": {},
          "execution_count": 12
        }
      ],
      "source": [
        "data"
      ]
    },
    {
      "cell_type": "code",
      "execution_count": 13,
      "metadata": {
        "id": "1teYDCpZGofY"
      },
      "outputs": [],
      "source": [
        "g = data[data.columns[-1]].copy()"
      ]
    },
    {
      "cell_type": "code",
      "execution_count": 14,
      "metadata": {
        "colab": {
          "base_uri": "https://localhost:8080/",
          "height": 545
        },
        "id": "9z7CBklf50rX",
        "outputId": "2f965457-97e9-4ddf-a641-e802ba0af9a2"
      },
      "outputs": [
        {
          "output_type": "display_data",
          "data": {
            "text/plain": [
              "<Figure size 1100x600 with 1 Axes>"
            ],
            "image/png": "[encoded data removed]"
          },
          "metadata": {}
        }
      ],
      "source": [
        "plt.figure(figsize=(11,6))\n",
        "g.value_counts().plot(kind='bar')\n",
        "plt.xticks(rotation=0)\n",
        "plt.title('Classes')\n",
        "plt.savefig(f'{path}labels.png',bbox_inches='tight')\n",
        "g.to_csv(f'{path}labels.csv',index=False)"
      ]
    },
    {
      "cell_type": "code",
      "source": [
        "data.columns"
      ],
      "metadata": {
        "colab": {
          "base_uri": "https://localhost:8080/"
        },
        "id": "5k-NiwN6xHmH",
        "outputId": "86e49b8a-99a3-4fe5-c296-bd11781e8c4e"
      },
      "execution_count": 17,
      "outputs": [
        {
          "output_type": "execute_result",
          "data": {
            "text/plain": [
              "Index(['age', 'anaemia', 'creatinine_phosphokinase', 'diabetes',\n",
              "       'ejection_fraction', 'high_blood_pressure', 'platelets',\n",
              "       'serum_creatinine', 'serum_sodium', 'sex', 'smoking', 'time',\n",
              "       'DEATH_EVENT'],\n",
              "      dtype='object')"
            ]
          },
          "metadata": {},
          "execution_count": 17
        }
      ]
    },
    {
      "cell_type": "code",
      "source": [
        "data"
      ],
      "metadata": {
        "colab": {
          "base_uri": "https://localhost:8080/",
          "height": 424
        },
        "id": "3K6lp5t1xuSX",
        "outputId": "8fab1c9c-f107-46c0-b592-64f7c548e5c2"
      },
      "execution_count": 20,
      "outputs": [
        {
          "output_type": "execute_result",
          "data": {
            "text/plain": [
              "      age  anaemia  creatinine_phosphokinase  diabetes  ejection_fraction  \\\n",
              "0    75.0        0                       582         0                 20   \n",
              "1    55.0        0                      7861         0                 38   \n",
              "2    65.0        0                       146         0                 20   \n",
              "3    50.0        1                       111         0                 20   \n",
              "4    65.0        1                       160         1                 20   \n",
              "..    ...      ...                       ...       ...                ...   \n",
              "294  62.0        0                        61         1                 38   \n",
              "295  55.0        0                      1820         0                 38   \n",
              "296  45.0        0                      2060         1                 60   \n",
              "297  45.0        0                      2413         0                 38   \n",
              "298  50.0        0                       196         0                 45   \n",
              "\n",
              "     high_blood_pressure  platelets  serum_creatinine  serum_sodium  sex  \\\n",
              "0                      1  265000.00               1.9           130    1   \n",
              "1                      0  263358.03               1.1           136    1   \n",
              "2                      0  162000.00               1.3           129    1   \n",
              "3                      0  210000.00               1.9           137    1   \n",
              "4                      0  327000.00               2.7           116    0   \n",
              "..                   ...        ...               ...           ...  ...   \n",
              "294                    1  155000.00               1.1           143    1   \n",
              "295                    0  270000.00               1.2           139    0   \n",
              "296                    0  742000.00               0.8           138    0   \n",
              "297                    0  140000.00               1.4           140    1   \n",
              "298                    0  395000.00               1.6           136    1   \n",
              "\n",
              "     smoking  time  DEATH_EVENT  \n",
              "0          0     4            1  \n",
              "1          0     6            1  \n",
              "2          1     7            1  \n",
              "3          0     7            1  \n",
              "4          0     8            1  \n",
              "..       ...   ...          ...  \n",
              "294        1   270            0  \n",
              "295        0   271            0  \n",
              "296        0   278            0  \n",
              "297        1   280            0  \n",
              "298        1   285            0  \n",
              "\n",
              "[299 rows x 13 columns]"
            ],
            "text/html": [
              "\n",
              "  <div id=\"df-2e6d94ed-bda3-4fb3-81b7-555129e483ef\" class=\"colab-df-container\">\n",
              "    <div>\n",
              "<style scoped>\n",
              "    .dataframe tbody tr th:only-of-type {\n",
              "        vertical-align: middle;\n",
              "    }\n",
              "\n",
              "    .dataframe tbody tr th {\n",
              "        vertical-align: top;\n",
              "    }\n",
              "\n",
              "    .dataframe thead th {\n",
              "        text-align: right;\n",
              "    }\n",
              "</style>\n",
              "<table border=\"1\" class=\"dataframe\">\n",
              "  <thead>\n",
              "    <tr style=\"text-align: right;\">\n",
              "      <th></th>\n",
              "      <th>age</th>\n",
              "      <th>anaemia</th>\n",
              "      <th>creatinine_phosphokinase</th>\n",
              "      <th>diabetes</th>\n",
              "      <th>ejection_fraction</th>\n",
              "      <th>high_blood_pressure</th>\n",
              "      <th>platelets</th>\n",
              "      <th>serum_creatinine</th>\n",
              "      <th>serum_sodium</th>\n",
              "      <th>sex</th>\n",
              "      <th>smoking</th>\n",
              "      <th>time</th>\n",
              "      <th>DEATH_EVENT</th>\n",
              "    </tr>\n",
              "  </thead>\n",
              "  <tbody>\n",
              "    <tr>\n",
              "      <th>0</th>\n",
              "      <td>75.0</td>\n",
              "      <td>0</td>\n",
              "      <td>582</td>\n",
              "      <td>0</td>\n",
              "      <td>20</td>\n",
              "      <td>1</td>\n",
              "      <td>265000.00</td>\n",
              "      <td>1.9</td>\n",
              "      <td>130</td>\n",
              "      <td>1</td>\n",
              "      <td>0</td>\n",
              "      <td>4</td>\n",
              "      <td>1</td>\n",
              "    </tr>\n",
              "    <tr>\n",
              "      <th>1</th>\n",
              "      <td>55.0</td>\n",
              "      <td>0</td>\n",
              "      <td>7861</td>\n",
              "      <td>0</td>\n",
              "      <td>38</td>\n",
              "      <td>0</td>\n",
              "      <td>263358.03</td>\n",
              "      <td>1.1</td>\n",
              "      <td>136</td>\n",
              "      <td>1</td>\n",
              "      <td>0</td>\n",
              "      <td>6</td>\n",
              "      <td>1</td>\n",
              "    </tr>\n",
              "    <tr>\n",
              "      <th>2</th>\n",
              "      <td>65.0</td>\n",
              "      <td>0</td>\n",
              "      <td>146</td>\n",
              "      <td>0</td>\n",
              "      <td>20</td>\n",
              "      <td>0</td>\n",
              "      <td>162000.00</td>\n",
              "      <td>1.3</td>\n",
              "      <td>129</td>\n",
              "      <td>1</td>\n",
              "      <td>1</td>\n",
              "      <td>7</td>\n",
              "      <td>1</td>\n",
              "    </tr>\n",
              "    <tr>\n",
              "      <th>3</th>\n",
              "      <td>50.0</td>\n",
              "      <td>1</td>\n",
              "      <td>111</td>\n",
              "      <td>0</td>\n",
              "      <td>20</td>\n",
              "      <td>0</td>\n",
              "      <td>210000.00</td>\n",
              "      <td>1.9</td>\n",
              "      <td>137</td>\n",
              "      <td>1</td>\n",
              "      <td>0</td>\n",
              "      <td>7</td>\n",
              "      <td>1</td>\n",
              "    </tr>\n",
              "    <tr>\n",
              "      <th>4</th>\n",
              "      <td>65.0</td>\n",
              "      <td>1</td>\n",
              "      <td>160</td>\n",
              "      <td>1</td>\n",
              "      <td>20</td>\n",
              "      <td>0</td>\n",
              "      <td>327000.00</td>\n",
              "      <td>2.7</td>\n",
              "      <td>116</td>\n",
              "      <td>0</td>\n",
              "      <td>0</td>\n",
              "      <td>8</td>\n",
              "      <td>1</td>\n",
              "    </tr>\n",
              "    <tr>\n",
              "      <th>...</th>\n",
              "      <td>...</td>\n",
              "      <td>...</td>\n",
              "      <td>...</td>\n",
              "      <td>...</td>\n",
              "      <td>...</td>\n",
              "      <td>...</td>\n",
              "      <td>...</td>\n",
              "      <td>...</td>\n",
              "      <td>...</td>\n",
              "      <td>...</td>\n",
              "      <td>...</td>\n",
              "      <td>...</td>\n",
              "      <td>...</td>\n",
              "    </tr>\n",
              "    <tr>\n",
              "      <th>294</th>\n",
              "      <td>62.0</td>\n",
              "      <td>0</td>\n",
              "      <td>61</td>\n",
              "      <td>1</td>\n",
              "      <td>38</td>\n",
              "      <td>1</td>\n",
              "      <td>155000.00</td>\n",
              "      <td>1.1</td>\n",
              "      <td>143</td>\n",
              "      <td>1</td>\n",
              "      <td>1</td>\n",
              "      <td>270</td>\n",
              "      <td>0</td>\n",
              "    </tr>\n",
              "    <tr>\n",
              "      <th>295</th>\n",
              "      <td>55.0</td>\n",
              "      <td>0</td>\n",
              "      <td>1820</td>\n",
              "      <td>0</td>\n",
              "      <td>38</td>\n",
              "      <td>0</td>\n",
              "      <td>270000.00</td>\n",
              "      <td>1.2</td>\n",
              "      <td>139</td>\n",
              "      <td>0</td>\n",
              "      <td>0</td>\n",
              "      <td>271</td>\n",
              "      <td>0</td>\n",
              "    </tr>\n",
              "    <tr>\n",
              "      <th>296</th>\n",
              "      <td>45.0</td>\n",
              "      <td>0</td>\n",
              "      <td>2060</td>\n",
              "      <td>1</td>\n",
              "      <td>60</td>\n",
              "      <td>0</td>\n",
              "      <td>742000.00</td>\n",
              "      <td>0.8</td>\n",
              "      <td>138</td>\n",
              "      <td>0</td>\n",
              "      <td>0</td>\n",
              "      <td>278</td>\n",
              "      <td>0</td>\n",
              "    </tr>\n",
              "    <tr>\n",
              "      <th>297</th>\n",
              "      <td>45.0</td>\n",
              "      <td>0</td>\n",
              "      <td>2413</td>\n",
              "      <td>0</td>\n",
              "      <td>38</td>\n",
              "      <td>0</td>\n",
              "      <td>140000.00</td>\n",
              "      <td>1.4</td>\n",
              "      <td>140</td>\n",
              "      <td>1</td>\n",
              "      <td>1</td>\n",
              "      <td>280</td>\n",
              "      <td>0</td>\n",
              "    </tr>\n",
              "    <tr>\n",
              "      <th>298</th>\n",
              "      <td>50.0</td>\n",
              "      <td>0</td>\n",
              "      <td>196</td>\n",
              "      <td>0</td>\n",
              "      <td>45</td>\n",
              "      <td>0</td>\n",
              "      <td>395000.00</td>\n",
              "      <td>1.6</td>\n",
              "      <td>136</td>\n",
              "      <td>1</td>\n",
              "      <td>1</td>\n",
              "      <td>285</td>\n",
              "      <td>0</td>\n",
              "    </tr>\n",
              "  </tbody>\n",
              "</table>\n",
              "<p>299 rows × 13 columns</p>\n",
              "</div>\n",
              "    <div class=\"colab-df-buttons\">\n",
              "\n",
              "  <div class=\"colab-df-container\">\n",
              "    <button class=\"colab-df-convert\" onclick=\"convertToInteractive('df-2e6d94ed-bda3-4fb3-81b7-555129e483ef')\"\n",
              "            title=\"Convert this dataframe to an interactive table.\"\n",
              "            style=\"display:none;\">\n",
              "\n",
              "  <svg xmlns=\"http://www.w3.org/2000/svg\" height=\"24px\" viewBox=\"0 -960 960 960\">\n",
              "    <path d=\"M120-120v-720h720v720H120Zm60-500h600v-160H180v160Zm220 220h160v-160H400v160Zm0 220h160v-160H400v160ZM180-400h160v-160H180v160Zm440 0h160v-160H620v160ZM180-180h160v-160H180v160Zm440 0h160v-160H620v160Z\"/>\n",
              "  </svg>\n",
              "    </button>\n",
              "\n",
              "  <style>\n",
              "    .colab-df-container {\n",
              "      display:flex;\n",
              "      gap: 12px;\n",
              "    }\n",
              "\n",
              "    .colab-df-convert {\n",
              "      background-color: #E8F0FE;\n",
              "      border: none;\n",
              "      border-radius: 50%;\n",
              "      cursor: pointer;\n",
              "      display: none;\n",
              "      fill: #1967D2;\n",
              "      height: 32px;\n",
              "      padding: 0 0 0 0;\n",
              "      width: 32px;\n",
              "    }\n",
              "\n",
              "    .colab-df-convert:hover {\n",
              "      background-color: #E2EBFA;\n",
              "      box-shadow: 0px 1px 2px rgba(60, 64, 67, 0.3), 0px 1px 3px 1px rgba(60, 64, 67, 0.15);\n",
              "      fill: #174EA6;\n",
              "    }\n",
              "\n",
              "    .colab-df-buttons div {\n",
              "      margin-bottom: 4px;\n",
              "    }\n",
              "\n",
              "    [theme=dark] .colab-df-convert {\n",
              "      background-color: #3B4455;\n",
              "      fill: #D2E3FC;\n",
              "    }\n",
              "\n",
              "    [theme=dark] .colab-df-convert:hover {\n",
              "      background-color: #434B5C;\n",
              "      box-shadow: 0px 1px 3px 1px rgba(0, 0, 0, 0.15);\n",
              "      filter: drop-shadow(0px 1px 2px rgba(0, 0, 0, 0.3));\n",
              "      fill: #FFFFFF;\n",
              "    }\n",
              "  </style>\n",
              "\n",
              "    <script>\n",
              "      const buttonEl =\n",
              "        document.querySelector('#df-2e6d94ed-bda3-4fb3-81b7-555129e483ef button.colab-df-convert');\n",
              "      buttonEl.style.display =\n",
              "        google.colab.kernel.accessAllowed ? 'block' : 'none';\n",
              "\n",
              "      async function convertToInteractive(key) {\n",
              "        const element = document.querySelector('#df-2e6d94ed-bda3-4fb3-81b7-555129e483ef');\n",
              "        const dataTable =\n",
              "          await google.colab.kernel.invokeFunction('convertToInteractive',\n",
              "                                                    [key], {});\n",
              "        if (!dataTable) return;\n",
              "\n",
              "        const docLinkHtml = 'Like what you see? Visit the ' +\n",
              "          '<a target=\"_blank\" href=https://colab.research.google.com/notebooks/data_table.ipynb>data table notebook</a>'\n",
              "          + ' to learn more about interactive tables.';\n",
              "        element.innerHTML = '';\n",
              "        dataTable['output_type'] = 'display_data';\n",
              "        await google.colab.output.renderOutput(dataTable, element);\n",
              "        const docLink = document.createElement('div');\n",
              "        docLink.innerHTML = docLinkHtml;\n",
              "        element.appendChild(docLink);\n",
              "      }\n",
              "    </script>\n",
              "  </div>\n",
              "\n",
              "\n",
              "<div id=\"df-b6f45b1c-0c0d-42c7-a6f7-ad7bede5f800\">\n",
              "  <button class=\"colab-df-quickchart\" onclick=\"quickchart('df-b6f45b1c-0c0d-42c7-a6f7-ad7bede5f800')\"\n",
              "            title=\"Suggest charts\"\n",
              "            style=\"display:none;\">\n",
              "\n",
              "<svg xmlns=\"http://www.w3.org/2000/svg\" height=\"24px\"viewBox=\"0 0 24 24\"\n",
              "     width=\"24px\">\n",
              "    <g>\n",
              "        <path d=\"M19 3H5c-1.1 0-2 .9-2 2v14c0 1.1.9 2 2 2h14c1.1 0 2-.9 2-2V5c0-1.1-.9-2-2-2zM9 17H7v-7h2v7zm4 0h-2V7h2v10zm4 0h-2v-4h2v4z\"/>\n",
              "    </g>\n",
              "</svg>\n",
              "  </button>\n",
              "\n",
              "<style>\n",
              "  .colab-df-quickchart {\n",
              "      --bg-color: #E8F0FE;\n",
              "      --fill-color: #1967D2;\n",
              "      --hover-bg-color: #E2EBFA;\n",
              "      --hover-fill-color: #174EA6;\n",
              "      --disabled-fill-color: #AAA;\n",
              "      --disabled-bg-color: #DDD;\n",
              "  }\n",
              "\n",
              "  [theme=dark] .colab-df-quickchart {\n",
              "      --bg-color: #3B4455;\n",
              "      --fill-color: #D2E3FC;\n",
              "      --hover-bg-color: #434B5C;\n",
              "      --hover-fill-color: #FFFFFF;\n",
              "      --disabled-bg-color: #3B4455;\n",
              "      --disabled-fill-color: #666;\n",
              "  }\n",
              "\n",
              "  .colab-df-quickchart {\n",
              "    background-color: var(--bg-color);\n",
              "    border: none;\n",
              "    border-radius: 50%;\n",
              "    cursor: pointer;\n",
              "    display: none;\n",
              "    fill: var(--fill-color);\n",
              "    height: 32px;\n",
              "    padding: 0;\n",
              "    width: 32px;\n",
              "  }\n",
              "\n",
              "  .colab-df-quickchart:hover {\n",
              "    background-color: var(--hover-bg-color);\n",
              "    box-shadow: 0 1px 2px rgba(60, 64, 67, 0.3), 0 1px 3px 1px rgba(60, 64, 67, 0.15);\n",
              "    fill: var(--button-hover-fill-color);\n",
              "  }\n",
              "\n",
              "  .colab-df-quickchart-complete:disabled,\n",
              "  .colab-df-quickchart-complete:disabled:hover {\n",
              "    background-color: var(--disabled-bg-color);\n",
              "    fill: var(--disabled-fill-color);\n",
              "    box-shadow: none;\n",
              "  }\n",
              "\n",
              "  .colab-df-spinner {\n",
              "    border: 2px solid var(--fill-color);\n",
              "    border-color: transparent;\n",
              "    border-bottom-color: var(--fill-color);\n",
              "    animation:\n",
              "      spin 1s steps(1) infinite;\n",
              "  }\n",
              "\n",
              "  @keyframes spin {\n",
              "    0% {\n",
              "      border-color: transparent;\n",
              "      border-bottom-color: var(--fill-color);\n",
              "      border-left-color: var(--fill-color);\n",
              "    }\n",
              "    20% {\n",
              "      border-color: transparent;\n",
              "      border-left-color: var(--fill-color);\n",
              "      border-top-color: var(--fill-color);\n",
              "    }\n",
              "    30% {\n",
              "      border-color: transparent;\n",
              "      border-left-color: var(--fill-color);\n",
              "      border-top-color: var(--fill-color);\n",
              "      border-right-color: var(--fill-color);\n",
              "    }\n",
              "    40% {\n",
              "      border-color: transparent;\n",
              "      border-right-color: var(--fill-color);\n",
              "      border-top-color: var(--fill-color);\n",
              "    }\n",
              "    60% {\n",
              "      border-color: transparent;\n",
              "      border-right-color: var(--fill-color);\n",
              "    }\n",
              "    80% {\n",
              "      border-color: transparent;\n",
              "      border-right-color: var(--fill-color);\n",
              "      border-bottom-color: var(--fill-color);\n",
              "    }\n",
              "    90% {\n",
              "      border-color: transparent;\n",
              "      border-bottom-color: var(--fill-color);\n",
              "    }\n",
              "  }\n",
              "</style>\n",
              "\n",
              "  <script>\n",
              "    async function quickchart(key) {\n",
              "      const quickchartButtonEl =\n",
              "        document.querySelector('#' + key + ' button');\n",
              "      quickchartButtonEl.disabled = true;  // To prevent multiple clicks.\n",
              "      quickchartButtonEl.classList.add('colab-df-spinner');\n",
              "      try {\n",
              "        const charts = await google.colab.kernel.invokeFunction(\n",
              "            'suggestCharts', [key], {});\n",
              "      } catch (error) {\n",
              "        console.error('Error during call to suggestCharts:', error);\n",
              "      }\n",
              "      quickchartButtonEl.classList.remove('colab-df-spinner');\n",
              "      quickchartButtonEl.classList.add('colab-df-quickchart-complete');\n",
              "    }\n",
              "    (() => {\n",
              "      let quickchartButtonEl =\n",
              "        document.querySelector('#df-b6f45b1c-0c0d-42c7-a6f7-ad7bede5f800 button');\n",
              "      quickchartButtonEl.style.display =\n",
              "        google.colab.kernel.accessAllowed ? 'block' : 'none';\n",
              "    })();\n",
              "  </script>\n",
              "</div>\n",
              "    </div>\n",
              "  </div>\n"
            ],
            "application/vnd.google.colaboratory.intrinsic+json": {
              "type": "dataframe",
              "variable_name": "data",
              "summary": "{\n  \"name\": \"data\",\n  \"rows\": 299,\n  \"fields\": [\n    {\n      \"column\": \"age\",\n      \"properties\": {\n        \"dtype\": \"number\",\n        \"std\": 11.89480907404447,\n        \"min\": 40.0,\n        \"max\": 95.0,\n        \"num_unique_values\": 47,\n        \"samples\": [\n          79.0,\n          40.0,\n          67.0\n        ],\n        \"semantic_type\": \"\",\n        \"description\": \"\"\n      }\n    },\n    {\n      \"column\": \"anaemia\",\n      \"properties\": {\n        \"dtype\": \"number\",\n        \"std\": 0,\n        \"min\": 0,\n        \"max\": 1,\n        \"num_unique_values\": 2,\n        \"samples\": [\n          1,\n          0\n        ],\n        \"semantic_type\": \"\",\n        \"description\": \"\"\n      }\n    },\n    {\n      \"column\": \"creatinine_phosphokinase\",\n      \"properties\": {\n        \"dtype\": \"number\",\n        \"std\": 970,\n        \"min\": 23,\n        \"max\": 7861,\n        \"num_unique_values\": 208,\n        \"samples\": [\n          86,\n          379\n        ],\n        \"semantic_type\": \"\",\n        \"description\": \"\"\n      }\n    },\n    {\n      \"column\": \"diabetes\",\n      \"properties\": {\n        \"dtype\": \"number\",\n        \"std\": 0,\n        \"min\": 0,\n        \"max\": 1,\n        \"num_unique_values\": 2,\n        \"samples\": [\n          1,\n          0\n        ],\n        \"semantic_type\": \"\",\n        \"description\": \"\"\n      }\n    },\n    {\n      \"column\": \"ejection_fraction\",\n      \"properties\": {\n        \"dtype\": \"number\",\n        \"std\": 11,\n        \"min\": 14,\n        \"max\": 80,\n        \"num_unique_values\": 17,\n        \"samples\": [\n          20,\n          38\n        ],\n        \"semantic_type\": \"\",\n        \"description\": \"\"\n      }\n    },\n    {\n      \"column\": \"high_blood_pressure\",\n      \"properties\": {\n        \"dtype\": \"number\",\n        \"std\": 0,\n        \"min\": 0,\n        \"max\": 1,\n        \"num_unique_values\": 2,\n        \"samples\": [\n          0,\n          1\n        ],\n        \"semantic_type\": \"\",\n        \"description\": \"\"\n      }\n    },\n    {\n      \"column\": \"platelets\",\n      \"properties\": {\n        \"dtype\": \"number\",\n        \"std\": 97804.2368685983,\n        \"min\": 25100.0,\n        \"max\": 850000.0,\n        \"num_unique_values\": 176,\n        \"samples\": [\n          297000.0,\n          255000.0\n        ],\n        \"semantic_type\": \"\",\n        \"description\": \"\"\n      }\n    },\n    {\n      \"column\": \"serum_creatinine\",\n      \"properties\": {\n        \"dtype\": \"number\",\n        \"std\": 1.0345100640898541,\n        \"min\": 0.5,\n        \"max\": 9.4,\n        \"num_unique_values\": 40,\n        \"samples\": [\n          4.4,\n          3.5\n        ],\n        \"semantic_type\": \"\",\n        \"description\": \"\"\n      }\n    },\n    {\n      \"column\": \"serum_sodium\",\n      \"properties\": {\n        \"dtype\": \"number\",\n        \"std\": 4,\n        \"min\": 113,\n        \"max\": 148,\n        \"num_unique_values\": 27,\n        \"samples\": [\n          133,\n          134\n        ],\n        \"semantic_type\": \"\",\n        \"description\": \"\"\n      }\n    },\n    {\n      \"column\": \"sex\",\n      \"properties\": {\n        \"dtype\": \"number\",\n        \"std\": 0,\n        \"min\": 0,\n        \"max\": 1,\n        \"num_unique_values\": 2,\n        \"samples\": [\n          0,\n          1\n        ],\n        \"semantic_type\": \"\",\n        \"description\": \"\"\n      }\n    },\n    {\n      \"column\": \"smoking\",\n      \"properties\": {\n        \"dtype\": \"number\",\n        \"std\": 0,\n        \"min\": 0,\n        \"max\": 1,\n        \"num_unique_values\": 2,\n        \"samples\": [\n          1,\n          0\n        ],\n        \"semantic_type\": \"\",\n        \"description\": \"\"\n      }\n    },\n    {\n      \"column\": \"time\",\n      \"properties\": {\n        \"dtype\": \"number\",\n        \"std\": 77,\n        \"min\": 4,\n        \"max\": 285,\n        \"num_unique_values\": 148,\n        \"samples\": [\n          215,\n          79\n        ],\n        \"semantic_type\": \"\",\n        \"description\": \"\"\n      }\n    },\n    {\n      \"column\": \"DEATH_EVENT\",\n      \"properties\": {\n        \"dtype\": \"number\",\n        \"std\": 0,\n        \"min\": 0,\n        \"max\": 1,\n        \"num_unique_values\": 2,\n        \"samples\": [\n          0,\n          1\n        ],\n        \"semantic_type\": \"\",\n        \"description\": \"\"\n      }\n    }\n  ]\n}"
            }
          },
          "metadata": {},
          "execution_count": 20
        }
      ]
    },
    {
      "cell_type": "code",
      "source": [
        "clc = data.columns"
      ],
      "metadata": {
        "id": "2DG5zOFrxjI1"
      },
      "execution_count": 18,
      "outputs": []
    },
    {
      "cell_type": "code",
      "source": [
        "x = clc[3]\n",
        "y = clc[0]\n",
        "hu = clc[-1]\n",
        "sns.catplot(data=data, x=x, y=y,hue=hu)\n",
        "plt.savefig(f'{path}relation_{x}_{y}_.png',bbox_inches='tight')\n",
        "data[[x,y,hu]].to_csv(f'{path}relation_{x}_{y}_.csv')"
      ],
      "metadata": {
        "colab": {
          "base_uri": "https://localhost:8080/",
          "height": 506
        },
        "id": "lJXBBk0WwvTH",
        "outputId": "62892dc1-e033-4b82-81c7-c9426b5283bb"
      },
      "execution_count": 28,
      "outputs": [
        {
          "output_type": "display_data",
          "data": {
            "text/plain": [
              "<Figure size 610.736x500 with 1 Axes>"
            ],
            "image/png": "[encoded data removed]"
          },
          "metadata": {}
        }
      ]
    },
    {
      "cell_type": "code",
      "source": [
        "# g = data.corr()\n",
        "# sns.heatmap(g)\n",
        "# plt.savefig(f'{path}heatmap.png',bbox_inches='tight')\n",
        "# g.to_csv(f'{path}heatmap.csv')"
      ],
      "metadata": {
        "id": "6awtzr6kNnnb"
      },
      "execution_count": 29,
      "outputs": []
    },
    {
      "cell_type": "markdown",
      "metadata": {
        "id": "Od80yx3OVrAM"
      },
      "source": [
        "# TRAINING"
      ]
    },
    {
      "cell_type": "code",
      "execution_count": 30,
      "metadata": {
        "id": "46_lltIzWP0d"
      },
      "outputs": [],
      "source": [
        "# data"
      ]
    },
    {
      "cell_type": "code",
      "source": [
        "data.rename(columns={data.columns[-1]: 'labels'}, inplace=True)"
      ],
      "metadata": {
        "id": "1KoOfPG0OFvZ"
      },
      "execution_count": 31,
      "outputs": []
    },
    {
      "cell_type": "markdown",
      "source": [
        "### PCA"
      ],
      "metadata": {
        "id": "eJt76ixMOqOd"
      }
    },
    {
      "cell_type": "code",
      "execution_count": null,
      "metadata": {
        "id": "y3KG9VVgWuJV"
      },
      "outputs": [],
      "source": [
        "import numpy as np\n",
        "from sklearn.decomposition import PCA\n",
        "X = data.drop('labels',axis=1).to_numpy()\n",
        "pca = PCA(n_components=10)\n",
        "pca.fit(X)\n",
        "# print(pca.explained_variance_ratio_)\n",
        "l = pca.explained_variance_ratio_\n",
        "# print(pca.singular_values_)\n",
        "Y = pca.transform(X)"
      ]
    },
    {
      "cell_type": "code",
      "execution_count": null,
      "metadata": {
        "colab": {
          "base_uri": "https://localhost:8080/"
        },
        "id": "Rtb7lv-IXf1s",
        "outputId": "511c6044-e665-46a2-f3e6-44fa68e43b6d"
      },
      "outputs": [
        {
          "output_type": "execute_result",
          "data": {
            "text/plain": [
              "0.8181701163043739"
            ]
          },
          "metadata": {},
          "execution_count": 26
        }
      ],
      "source": [
        "l.sum()"
      ]
    },
    {
      "cell_type": "code",
      "execution_count": null,
      "metadata": {
        "colab": {
          "base_uri": "https://localhost:8080/"
        },
        "id": "Gycz2J65XmU-",
        "outputId": "b6535ac2-768d-4d9a-cfdc-b5dd84b38ac0"
      },
      "outputs": [
        {
          "output_type": "execute_result",
          "data": {
            "text/plain": [
              "0.8181701163043739"
            ]
          },
          "metadata": {},
          "execution_count": 27
        }
      ],
      "source": [
        "l[0:20].sum()"
      ]
    },
    {
      "cell_type": "code",
      "source": [
        "# X.columns = [f'{i}' for i in range(X.shape[1]-1)]+['labels']"
      ],
      "metadata": {
        "id": "od2DtGVoWeT_"
      },
      "execution_count": null,
      "outputs": []
    },
    {
      "cell_type": "code",
      "source": [
        "# X.drop('labels',axis=1,inplace=True)"
      ],
      "metadata": {
        "id": "5z_cOWcfXOqX"
      },
      "execution_count": null,
      "outputs": []
    },
    {
      "cell_type": "code",
      "source": [
        "X_train, X_test, y_train, y_test = train_test_split(\n",
        "    Y, data2['labels'], test_size=0.25, random_state=42)\n",
        "X_train.shape,y_train.shape,X_test.shape,y_test.shape"
      ],
      "metadata": {
        "colab": {
          "base_uri": "https://localhost:8080/"
        },
        "id": "ygSH7LtDXC1M",
        "outputId": "40e3b9fa-3b2a-40e1-fb5f-4997847273d0"
      },
      "execution_count": null,
      "outputs": [
        {
          "output_type": "execute_result",
          "data": {
            "text/plain": [
              "((4191, 10), (4191,), (1398, 10), (1398,))"
            ]
          },
          "metadata": {},
          "execution_count": 30
        }
      ]
    },
    {
      "cell_type": "code",
      "source": [
        "x1,y1,x2,y2 = X_train, y_train, X_test, y_test"
      ],
      "metadata": {
        "id": "0QOMPTc_XerW"
      },
      "execution_count": null,
      "outputs": []
    },
    {
      "cell_type": "markdown",
      "source": [],
      "metadata": {
        "id": "rK442cotUnF6"
      }
    },
    {
      "cell_type": "code",
      "source": [
        "models = [HistGradientBoostingClassifier,XGBClassifier,RandomForestClassifier,DecisionTreeClassifier]\n",
        "len(models)"
      ],
      "metadata": {
        "colab": {
          "base_uri": "https://localhost:8080/"
        },
        "id": "EpGLSmpzFmns",
        "outputId": "97573d35-d461-4ec2-c922-270afabd3fd2"
      },
      "execution_count": null,
      "outputs": [
        {
          "output_type": "execute_result",
          "data": {
            "text/plain": [
              "4"
            ]
          },
          "metadata": {},
          "execution_count": 32
        }
      ]
    },
    {
      "cell_type": "code",
      "execution_count": null,
      "metadata": {
        "colab": {
          "base_uri": "https://localhost:8080/"
        },
        "id": "62hR0rcKsoYj",
        "outputId": "f267cd21-680f-4f93-b9a5-3338f3ceaa70"
      },
      "outputs": [
        {
          "output_type": "stream",
          "name": "stdout",
          "text": [
            "0.8429549360617061\n",
            "0.8462349345666675\n",
            "0.849771155071771\n",
            "0.7687577853246321\n"
          ]
        }
      ],
      "source": [
        "for model in models:\n",
        "    try:\n",
        "        clf = model(random_state=8)\n",
        "    except:\n",
        "        clf = model()\n",
        "\n",
        "\n",
        "    clf.fit(x1,y1)\n",
        "    y2_ = clf.predict(x2)\n",
        "    print(f1_score(y2, y2_,average='macro'))"
      ]
    },
    {
      "cell_type": "markdown",
      "source": [
        "### resume"
      ],
      "metadata": {
        "id": "bCK4is-1OxXZ"
      }
    },
    {
      "cell_type": "code",
      "source": [],
      "metadata": {
        "id": "L474uEDIU3DT"
      },
      "execution_count": 31,
      "outputs": []
    },
    {
      "cell_type": "code",
      "source": [
        "X_train, X_test, y_train, y_test = train_test_split(\n",
        "    data.drop('labels',axis=1), data['labels'], test_size=0.25, random_state=40)\n",
        "X_train.shape,y_train.shape,X_test.shape,y_test.shape"
      ],
      "metadata": {
        "colab": {
          "base_uri": "https://localhost:8080/",
          "height": 184
        },
        "outputId": "6fa0a4c4-fb96-40f8-f375-0f1e544da32b",
        "id": "8aGNpcA2PKok"
      },
      "execution_count": 74,
      "outputs": [
        {
          "output_type": "error",
          "ename": "AttributeError",
          "evalue": "'dict' object has no attribute 'drop'",
          "traceback": [
            "\u001b[0;31m---------------------------------------------------------------------------\u001b[0m",
            "\u001b[0;31mAttributeError\u001b[0m                            Traceback (most recent call last)",
            "\u001b[0;32m<ipython-input-74-ae047fdd441c>\u001b[0m in \u001b[0;36m<cell line: 1>\u001b[0;34m()\u001b[0m\n\u001b[1;32m      1\u001b[0m X_train, X_test, y_train, y_test = train_test_split(\n\u001b[0;32m----> 2\u001b[0;31m     data.drop('labels',axis=1), data['labels'], test_size=0.25, random_state=40)\n\u001b[0m\u001b[1;32m      3\u001b[0m \u001b[0mX_train\u001b[0m\u001b[0;34m.\u001b[0m\u001b[0mshape\u001b[0m\u001b[0;34m,\u001b[0m\u001b[0my_train\u001b[0m\u001b[0;34m.\u001b[0m\u001b[0mshape\u001b[0m\u001b[0;34m,\u001b[0m\u001b[0mX_test\u001b[0m\u001b[0;34m.\u001b[0m\u001b[0mshape\u001b[0m\u001b[0;34m,\u001b[0m\u001b[0my_test\u001b[0m\u001b[0;34m.\u001b[0m\u001b[0mshape\u001b[0m\u001b[0;34m\u001b[0m\u001b[0;34m\u001b[0m\u001b[0m\n",
            "\u001b[0;31mAttributeError\u001b[0m: 'dict' object has no attribute 'drop'"
          ]
        }
      ]
    },
    {
      "cell_type": "code",
      "source": [
        "x1,y1,x2,y2 = X_train, y_train, X_test, y_test"
      ],
      "metadata": {
        "id": "ZjkbxCxjPKom"
      },
      "execution_count": 75,
      "outputs": []
    },
    {
      "cell_type": "code",
      "source": [
        "models = [\n",
        "    # RandomForestClassifier,\n",
        "    ExtraTreesClassifier,\n",
        "    GradientBoostingClassifier,\n",
        "    # HistGradientBoostingClassifier,\n",
        "    AdaBoostClassifier,\n",
        "    # CatBoostClassifier,\n",
        "    # XGBClassifier,\n",
        "    LinearSVC,\n",
        "    # MultinomialNB,\n",
        "    # GaussianNB,\n",
        "    # SVC,\n",
        "    KNeighborsClassifier,\n",
        "    # RandomForestClassifier,\n",
        "    # LinearDiscriminantAnalysis,\n",
        "    # DecisionTreeClassifier\n",
        "    ]\n",
        "len(models)"
      ],
      "metadata": {
        "colab": {
          "base_uri": "https://localhost:8080/"
        },
        "id": "tyvLxja-PO42",
        "outputId": "82c03a95-b391-4924-b8d0-18ff19f65b20"
      },
      "execution_count": 110,
      "outputs": [
        {
          "output_type": "execute_result",
          "data": {
            "text/plain": [
              "5"
            ]
          },
          "metadata": {},
          "execution_count": 110
        }
      ]
    },
    {
      "cell_type": "code",
      "source": [
        "from sklearn.metrics import *\n",
        "brier_score_loss,jaccard_score,class_likelihood_ratios,hinge_loss,roc_auc_score,hamming_loss,multilabel_confusion_matrix,roc_auc_score,zero_one_loss"
      ],
      "metadata": {
        "colab": {
          "base_uri": "https://localhost:8080/"
        },
        "id": "4DH-OeE8zg7-",
        "outputId": "53182dca-37ed-453e-c1d9-2e8427737ac6"
      },
      "execution_count": 111,
      "outputs": [
        {
          "output_type": "execute_result",
          "data": {
            "text/plain": [
              "(<function sklearn.metrics._classification.brier_score_loss(y_true, y_prob, *, sample_weight=None, pos_label=None)>,\n",
              " <function sklearn.metrics._classification.jaccard_score(y_true, y_pred, *, labels=None, pos_label=1, average='binary', sample_weight=None, zero_division='warn')>,\n",
              " <function sklearn.metrics._classification.class_likelihood_ratios(y_true, y_pred, *, labels=None, sample_weight=None, raise_warning=True)>,\n",
              " <function sklearn.metrics._classification.hinge_loss(y_true, pred_decision, *, labels=None, sample_weight=None)>,\n",
              " <function sklearn.metrics._ranking.roc_auc_score(y_true, y_score, *, average='macro', sample_weight=None, max_fpr=None, multi_class='raise', labels=None)>,\n",
              " <function sklearn.metrics._classification.hamming_loss(y_true, y_pred, *, sample_weight=None)>,\n",
              " <function sklearn.metrics._classification.multilabel_confusion_matrix(y_true, y_pred, *, sample_weight=None, labels=None, samplewise=False)>,\n",
              " <function sklearn.metrics._ranking.roc_auc_score(y_true, y_score, *, average='macro', sample_weight=None, max_fpr=None, multi_class='raise', labels=None)>,\n",
              " <function sklearn.metrics._classification.zero_one_loss(y_true, y_pred, *, normalize=True, sample_weight=None)>)"
            ]
          },
          "metadata": {},
          "execution_count": 111
        }
      ]
    },
    {
      "cell_type": "code",
      "execution_count": 112,
      "metadata": {
        "colab": {
          "base_uri": "https://localhost:8080/",
          "height": 268
        },
        "id": "asOcD8oB5xsR",
        "outputId": "36ca53c8-4589-4c6d-b292-7ca822bf5d93"
      },
      "outputs": [
        {
          "output_type": "stream",
          "name": "stderr",
          "text": [
            "/usr/local/lib/python3.10/dist-packages/sklearn/svm/_base.py:1244: ConvergenceWarning: Liblinear failed to converge, increase the number of iterations.\n",
            "  warnings.warn(\n",
            "/usr/local/lib/python3.10/dist-packages/sklearn/metrics/_classification.py:1344: UndefinedMetricWarning: Precision is ill-defined and being set to 0.0 in labels with no predicted samples. Use `zero_division` parameter to control this behavior.\n",
            "  _warn_prf(average, modifier, msg_start, len(result))\n"
          ]
        },
        {
          "output_type": "execute_result",
          "data": {
            "text/plain": [
              "           ExtraTreesClassifier  GradientBoostingClassifier  \\\n",
              "Accuracy               0.746667                    0.706667   \n",
              "Precision              0.763636                    0.700000   \n",
              "Recall                 0.712610                    0.683284   \n",
              "F1                     0.717766                    0.686550   \n",
              "\n",
              "           AdaBoostClassifier  LinearSVC  KNeighborsClassifier  \n",
              "Accuracy             0.706667   0.586667              0.546667  \n",
              "Precision            0.703595   0.293333              0.429622  \n",
              "Recall               0.678519   0.500000              0.475440  \n",
              "F1                   0.681713   0.369748              0.400846  "
            ],
            "text/html": [
              "\n",
              "  <div id=\"df-c6a0895a-8117-4197-8940-cd704ad832e7\" class=\"colab-df-container\">\n",
              "    <div>\n",
              "<style scoped>\n",
              "    .dataframe tbody tr th:only-of-type {\n",
              "        vertical-align: middle;\n",
              "    }\n",
              "\n",
              "    .dataframe tbody tr th {\n",
              "        vertical-align: top;\n",
              "    }\n",
              "\n",
              "    .dataframe thead th {\n",
              "        text-align: right;\n",
              "    }\n",
              "</style>\n",
              "<table border=\"1\" class=\"dataframe\">\n",
              "  <thead>\n",
              "    <tr style=\"text-align: right;\">\n",
              "      <th></th>\n",
              "      <th>ExtraTreesClassifier</th>\n",
              "      <th>GradientBoostingClassifier</th>\n",
              "      <th>AdaBoostClassifier</th>\n",
              "      <th>LinearSVC</th>\n",
              "      <th>KNeighborsClassifier</th>\n",
              "    </tr>\n",
              "  </thead>\n",
              "  <tbody>\n",
              "    <tr>\n",
              "      <th>Accuracy</th>\n",
              "      <td>0.746667</td>\n",
              "      <td>0.706667</td>\n",
              "      <td>0.706667</td>\n",
              "      <td>0.586667</td>\n",
              "      <td>0.546667</td>\n",
              "    </tr>\n",
              "    <tr>\n",
              "      <th>Precision</th>\n",
              "      <td>0.763636</td>\n",
              "      <td>0.700000</td>\n",
              "      <td>0.703595</td>\n",
              "      <td>0.293333</td>\n",
              "      <td>0.429622</td>\n",
              "    </tr>\n",
              "    <tr>\n",
              "      <th>Recall</th>\n",
              "      <td>0.712610</td>\n",
              "      <td>0.683284</td>\n",
              "      <td>0.678519</td>\n",
              "      <td>0.500000</td>\n",
              "      <td>0.475440</td>\n",
              "    </tr>\n",
              "    <tr>\n",
              "      <th>F1</th>\n",
              "      <td>0.717766</td>\n",
              "      <td>0.686550</td>\n",
              "      <td>0.681713</td>\n",
              "      <td>0.369748</td>\n",
              "      <td>0.400846</td>\n",
              "    </tr>\n",
              "  </tbody>\n",
              "</table>\n",
              "</div>\n",
              "    <div class=\"colab-df-buttons\">\n",
              "\n",
              "  <div class=\"colab-df-container\">\n",
              "    <button class=\"colab-df-convert\" onclick=\"convertToInteractive('df-c6a0895a-8117-4197-8940-cd704ad832e7')\"\n",
              "            title=\"Convert this dataframe to an interactive table.\"\n",
              "            style=\"display:none;\">\n",
              "\n",
              "  <svg xmlns=\"http://www.w3.org/2000/svg\" height=\"24px\" viewBox=\"0 -960 960 960\">\n",
              "    <path d=\"M120-120v-720h720v720H120Zm60-500h600v-160H180v160Zm220 220h160v-160H400v160Zm0 220h160v-160H400v160ZM180-400h160v-160H180v160Zm440 0h160v-160H620v160ZM180-180h160v-160H180v160Zm440 0h160v-160H620v160Z\"/>\n",
              "  </svg>\n",
              "    </button>\n",
              "\n",
              "  <style>\n",
              "    .colab-df-container {\n",
              "      display:flex;\n",
              "      gap: 12px;\n",
              "    }\n",
              "\n",
              "    .colab-df-convert {\n",
              "      background-color: #E8F0FE;\n",
              "      border: none;\n",
              "      border-radius: 50%;\n",
              "      cursor: pointer;\n",
              "      display: none;\n",
              "      fill: #1967D2;\n",
              "      height: 32px;\n",
              "      padding: 0 0 0 0;\n",
              "      width: 32px;\n",
              "    }\n",
              "\n",
              "    .colab-df-convert:hover {\n",
              "      background-color: #E2EBFA;\n",
              "      box-shadow: 0px 1px 2px rgba(60, 64, 67, 0.3), 0px 1px 3px 1px rgba(60, 64, 67, 0.15);\n",
              "      fill: #174EA6;\n",
              "    }\n",
              "\n",
              "    .colab-df-buttons div {\n",
              "      margin-bottom: 4px;\n",
              "    }\n",
              "\n",
              "    [theme=dark] .colab-df-convert {\n",
              "      background-color: #3B4455;\n",
              "      fill: #D2E3FC;\n",
              "    }\n",
              "\n",
              "    [theme=dark] .colab-df-convert:hover {\n",
              "      background-color: #434B5C;\n",
              "      box-shadow: 0px 1px 3px 1px rgba(0, 0, 0, 0.15);\n",
              "      filter: drop-shadow(0px 1px 2px rgba(0, 0, 0, 0.3));\n",
              "      fill: #FFFFFF;\n",
              "    }\n",
              "  </style>\n",
              "\n",
              "    <script>\n",
              "      const buttonEl =\n",
              "        document.querySelector('#df-c6a0895a-8117-4197-8940-cd704ad832e7 button.colab-df-convert');\n",
              "      buttonEl.style.display =\n",
              "        google.colab.kernel.accessAllowed ? 'block' : 'none';\n",
              "\n",
              "      async function convertToInteractive(key) {\n",
              "        const element = document.querySelector('#df-c6a0895a-8117-4197-8940-cd704ad832e7');\n",
              "        const dataTable =\n",
              "          await google.colab.kernel.invokeFunction('convertToInteractive',\n",
              "                                                    [key], {});\n",
              "        if (!dataTable) return;\n",
              "\n",
              "        const docLinkHtml = 'Like what you see? Visit the ' +\n",
              "          '<a target=\"_blank\" href=https://colab.research.google.com/notebooks/data_table.ipynb>data table notebook</a>'\n",
              "          + ' to learn more about interactive tables.';\n",
              "        element.innerHTML = '';\n",
              "        dataTable['output_type'] = 'display_data';\n",
              "        await google.colab.output.renderOutput(dataTable, element);\n",
              "        const docLink = document.createElement('div');\n",
              "        docLink.innerHTML = docLinkHtml;\n",
              "        element.appendChild(docLink);\n",
              "      }\n",
              "    </script>\n",
              "  </div>\n",
              "\n",
              "\n",
              "<div id=\"df-20cc9166-5e37-4106-a668-bdc45e197629\">\n",
              "  <button class=\"colab-df-quickchart\" onclick=\"quickchart('df-20cc9166-5e37-4106-a668-bdc45e197629')\"\n",
              "            title=\"Suggest charts\"\n",
              "            style=\"display:none;\">\n",
              "\n",
              "<svg xmlns=\"http://www.w3.org/2000/svg\" height=\"24px\"viewBox=\"0 0 24 24\"\n",
              "     width=\"24px\">\n",
              "    <g>\n",
              "        <path d=\"M19 3H5c-1.1 0-2 .9-2 2v14c0 1.1.9 2 2 2h14c1.1 0 2-.9 2-2V5c0-1.1-.9-2-2-2zM9 17H7v-7h2v7zm4 0h-2V7h2v10zm4 0h-2v-4h2v4z\"/>\n",
              "    </g>\n",
              "</svg>\n",
              "  </button>\n",
              "\n",
              "<style>\n",
              "  .colab-df-quickchart {\n",
              "      --bg-color: #E8F0FE;\n",
              "      --fill-color: #1967D2;\n",
              "      --hover-bg-color: #E2EBFA;\n",
              "      --hover-fill-color: #174EA6;\n",
              "      --disabled-fill-color: #AAA;\n",
              "      --disabled-bg-color: #DDD;\n",
              "  }\n",
              "\n",
              "  [theme=dark] .colab-df-quickchart {\n",
              "      --bg-color: #3B4455;\n",
              "      --fill-color: #D2E3FC;\n",
              "      --hover-bg-color: #434B5C;\n",
              "      --hover-fill-color: #FFFFFF;\n",
              "      --disabled-bg-color: #3B4455;\n",
              "      --disabled-fill-color: #666;\n",
              "  }\n",
              "\n",
              "  .colab-df-quickchart {\n",
              "    background-color: var(--bg-color);\n",
              "    border: none;\n",
              "    border-radius: 50%;\n",
              "    cursor: pointer;\n",
              "    display: none;\n",
              "    fill: var(--fill-color);\n",
              "    height: 32px;\n",
              "    padding: 0;\n",
              "    width: 32px;\n",
              "  }\n",
              "\n",
              "  .colab-df-quickchart:hover {\n",
              "    background-color: var(--hover-bg-color);\n",
              "    box-shadow: 0 1px 2px rgba(60, 64, 67, 0.3), 0 1px 3px 1px rgba(60, 64, 67, 0.15);\n",
              "    fill: var(--button-hover-fill-color);\n",
              "  }\n",
              "\n",
              "  .colab-df-quickchart-complete:disabled,\n",
              "  .colab-df-quickchart-complete:disabled:hover {\n",
              "    background-color: var(--disabled-bg-color);\n",
              "    fill: var(--disabled-fill-color);\n",
              "    box-shadow: none;\n",
              "  }\n",
              "\n",
              "  .colab-df-spinner {\n",
              "    border: 2px solid var(--fill-color);\n",
              "    border-color: transparent;\n",
              "    border-bottom-color: var(--fill-color);\n",
              "    animation:\n",
              "      spin 1s steps(1) infinite;\n",
              "  }\n",
              "\n",
              "  @keyframes spin {\n",
              "    0% {\n",
              "      border-color: transparent;\n",
              "      border-bottom-color: var(--fill-color);\n",
              "      border-left-color: var(--fill-color);\n",
              "    }\n",
              "    20% {\n",
              "      border-color: transparent;\n",
              "      border-left-color: var(--fill-color);\n",
              "      border-top-color: var(--fill-color);\n",
              "    }\n",
              "    30% {\n",
              "      border-color: transparent;\n",
              "      border-left-color: var(--fill-color);\n",
              "      border-top-color: var(--fill-color);\n",
              "      border-right-color: var(--fill-color);\n",
              "    }\n",
              "    40% {\n",
              "      border-color: transparent;\n",
              "      border-right-color: var(--fill-color);\n",
              "      border-top-color: var(--fill-color);\n",
              "    }\n",
              "    60% {\n",
              "      border-color: transparent;\n",
              "      border-right-color: var(--fill-color);\n",
              "    }\n",
              "    80% {\n",
              "      border-color: transparent;\n",
              "      border-right-color: var(--fill-color);\n",
              "      border-bottom-color: var(--fill-color);\n",
              "    }\n",
              "    90% {\n",
              "      border-color: transparent;\n",
              "      border-bottom-color: var(--fill-color);\n",
              "    }\n",
              "  }\n",
              "</style>\n",
              "\n",
              "  <script>\n",
              "    async function quickchart(key) {\n",
              "      const quickchartButtonEl =\n",
              "        document.querySelector('#' + key + ' button');\n",
              "      quickchartButtonEl.disabled = true;  // To prevent multiple clicks.\n",
              "      quickchartButtonEl.classList.add('colab-df-spinner');\n",
              "      try {\n",
              "        const charts = await google.colab.kernel.invokeFunction(\n",
              "            'suggestCharts', [key], {});\n",
              "      } catch (error) {\n",
              "        console.error('Error during call to suggestCharts:', error);\n",
              "      }\n",
              "      quickchartButtonEl.classList.remove('colab-df-spinner');\n",
              "      quickchartButtonEl.classList.add('colab-df-quickchart-complete');\n",
              "    }\n",
              "    (() => {\n",
              "      let quickchartButtonEl =\n",
              "        document.querySelector('#df-20cc9166-5e37-4106-a668-bdc45e197629 button');\n",
              "      quickchartButtonEl.style.display =\n",
              "        google.colab.kernel.accessAllowed ? 'block' : 'none';\n",
              "    })();\n",
              "  </script>\n",
              "</div>\n",
              "    </div>\n",
              "  </div>\n"
            ],
            "application/vnd.google.colaboratory.intrinsic+json": {
              "type": "dataframe",
              "variable_name": "dgt",
              "summary": "{\n  \"name\": \"dgt\",\n  \"rows\": 4,\n  \"fields\": [\n    {\n      \"column\": \"ExtraTreesClassifier\",\n      \"properties\": {\n        \"dtype\": \"number\",\n        \"std\": 0.024182397340577515,\n        \"min\": 0.7126099706744868,\n        \"max\": 0.7636363636363637,\n        \"num_unique_values\": 4,\n        \"samples\": [\n          0.7636363636363637,\n          0.7177658942364825,\n          0.7466666666666667\n        ],\n        \"semantic_type\": \"\",\n        \"description\": \"\"\n      }\n    },\n    {\n      \"column\": \"GradientBoostingClassifier\",\n      \"properties\": {\n        \"dtype\": \"number\",\n        \"std\": 0.01105598950996402,\n        \"min\": 0.6832844574780059,\n        \"max\": 0.7066666666666667,\n        \"num_unique_values\": 4,\n        \"samples\": [\n          0.7,\n          0.6865501519756839,\n          0.7066666666666667\n        ],\n        \"semantic_type\": \"\",\n        \"description\": \"\"\n      }\n    },\n    {\n      \"column\": \"AdaBoostClassifier\",\n      \"properties\": {\n        \"dtype\": \"number\",\n        \"std\": 0.014555254672157684,\n        \"min\": 0.6785190615835777,\n        \"max\": 0.7066666666666667,\n        \"num_unique_values\": 4,\n        \"samples\": [\n          0.7035953177257526,\n          0.6817129629629629,\n          0.7066666666666667\n        ],\n        \"semantic_type\": \"\",\n        \"description\": \"\"\n      }\n    },\n    {\n      \"column\": \"LinearSVC\",\n      \"properties\": {\n        \"dtype\": \"number\",\n        \"std\": 0.131061440428771,\n        \"min\": 0.29333333333333333,\n        \"max\": 0.5866666666666667,\n        \"num_unique_values\": 4,\n        \"samples\": [\n          0.29333333333333333,\n          0.3697478991596639,\n          0.5866666666666667\n        ],\n        \"semantic_type\": \"\",\n        \"description\": \"\"\n      }\n    },\n    {\n      \"column\": \"KNeighborsClassifier\",\n      \"properties\": {\n        \"dtype\": \"number\",\n        \"std\": 0.06359249659471176,\n        \"min\": 0.40084586466165406,\n        \"max\": 0.5466666666666666,\n        \"num_unique_values\": 4,\n        \"samples\": [\n          0.42962184873949577,\n          0.40084586466165406,\n          0.5466666666666666\n        ],\n        \"semantic_type\": \"\",\n        \"description\": \"\"\n      }\n    }\n  ]\n}"
            }
          },
          "metadata": {},
          "execution_count": 112
        }
      ],
      "source": [
        "k = 10\n",
        "# gh = np.zeros((6,len(models)))\n",
        "gh = np.zeros((4,len(models)))\n",
        "\n",
        "# for j in range(k):\n",
        "    # xy1 = X.sample(frac=0.8,random_state=j)\n",
        "    # xy2 = X.drop(xy1.index)\n",
        "# x1,y1,x2,y2 = xy1.drop('label',axis=1),xy1['label'],xy2.drop('label',axis=1),xy2['label']\n",
        "for ind, model in enumerate(models):\n",
        "    try:\n",
        "        clf = model(random_state=3)\n",
        "    except:\n",
        "        clf = model()\n",
        "    clf.fit(x1,y1)\n",
        "    y2_ = clf.predict(x2)\n",
        "    gh[0][ind]+= accuracy_score(y2,y2_)\n",
        "    gh[1][ind]+= precision_score(y2,y2_,average='macro')\n",
        "    gh[2][ind]+= recall_score(y2,y2_,average='macro')\n",
        "    gh[3][ind]+= f1_score(y2,y2_,average='macro')\n",
        "    # gh[4][ind]+= brier_score_loss(y2,y2_)\n",
        "    # gh[5][ind]+= jaccard_score(y2,y2_)\n",
        "\n",
        "    # print(gh[3])\n",
        "    # print('{}:{}'.format(np.sum(y2_==y2)/y2.shape[0],clf.__class__.__name__))\n",
        "# dg = pd.concat([pd.DataFrame(gh[0]).mean(axis=0),pd.DataFrame(gh[1]).mean(axis=0),pd.DataFrame(gh[2]).mean(axis=0),pd.DataFrame(gh[3]).mean(axis=0)],axis=1)\n",
        "dgt = pd.DataFrame(gh)\n",
        "dgt.columns = [i().__class__.__name__ for i in models]\n",
        "# dgt.index = ['Accuracy','Precision','Recall','F1','Brier_loss','Jaccard']\n",
        "dgt.index = ['Accuracy','Precision','Recall','F1']\n",
        "\n",
        "dgt"
      ]
    },
    {
      "cell_type": "code",
      "execution_count": 113,
      "metadata": {
        "id": "DIlzzshOpTyV"
      },
      "outputs": [],
      "source": [
        "dgt.to_csv(f'{path}original_results.csv',index=False)"
      ]
    },
    {
      "cell_type": "code",
      "execution_count": 114,
      "metadata": {
        "colab": {
          "base_uri": "https://localhost:8080/",
          "height": 430
        },
        "id": "BAgxBO2joVeI",
        "outputId": "9002956e-ee8d-49e9-cf68-f550271330b0"
      },
      "outputs": [
        {
          "output_type": "display_data",
          "data": {
            "text/plain": [
              "<Figure size 640x480 with 1 Axes>"
            ],
            "image/png": "[encoded data removed]"
          },
          "metadata": {}
        }
      ],
      "source": [
        "# dgt.index = dgt.metrics\n",
        "# ssd = dgt.drop(['metrics'],axis=1)\n",
        "dgt.plot(kind='barh')\n",
        "# plt.xlim(0.2,0.85)\n",
        "plt.xticks(rotation=0)\n",
        "plt.grid()\n",
        "plt.savefig(f'{path}original_results.png',bbox_inches='tight')\n",
        "dgt.to_csv(f'{path}original_results.csv')"
      ]
    },
    {
      "cell_type": "code",
      "execution_count": 82,
      "metadata": {
        "id": "wy62nVxk9UVp"
      },
      "outputs": [],
      "source": [
        "from sklearn.svm import SVC\n",
        "from sklearn.model_selection import train_test_split\n",
        "from sklearn.preprocessing import StandardScaler\n",
        "from sklearn import datasets, metrics\n",
        "\n",
        "from mealpy import FloatVar, StringVar, IntegerVar, BoolVar, MixedSetVar, SMA, Problem\n"
      ]
    },
    {
      "cell_type": "code",
      "execution_count": 83,
      "metadata": {
        "id": "p37cgJnasFKx"
      },
      "outputs": [],
      "source": [
        "# x1,y1,x2,y2"
      ]
    },
    {
      "cell_type": "code",
      "execution_count": 84,
      "metadata": {
        "id": "vQLunEi0r-Mm"
      },
      "outputs": [],
      "source": [
        "data = {\n",
        "    \"X_train\": x1,\n",
        "    \"X_test\": x2,\n",
        "    \"y_train\": y1,\n",
        "    \"y_test\": y2\n",
        "}"
      ]
    },
    {
      "cell_type": "code",
      "execution_count": 85,
      "metadata": {
        "colab": {
          "base_uri": "https://localhost:8080/"
        },
        "id": "1kYrlwW9faDL",
        "outputId": "7b5a65d1-1dcd-4062-f0f6-6cbe8d1d4f9c"
      },
      "outputs": [
        {
          "output_type": "execute_result",
          "data": {
            "text/plain": [
              "27"
            ]
          },
          "metadata": {},
          "execution_count": 85
        }
      ],
      "source": [
        "# k = [DE.JADE,TWO.EnhancedTWO,TWO.LevyTWO, MVO.OriginalMVO,ABC.OriginalABC, ACOR.OriginalACOR, ALO.OriginalALO, AO.OriginalAO, BA.AdaptiveBA,BeesA.OriginalBeesA, BeesA.CleverBookBeesA]\n",
        "# len(k)\n",
        "k = [CRO.OriginalCRO, DE.JADE,DE.OriginalDE,DE.SADE,DE.SAP_DE, EP.LevyEP,EP.OriginalEP, ES.CMA_ES,ES.LevyES,ES.OriginalES, FPA.OriginalFPA, GA.BaseGA,GA.EliteSingleGA,GA.SingleGA, MA.OriginalMA,BBO.OriginalBBO,BBO.DevBBO, EOA.OriginalEOA, IWO.OriginalIWO, SBO.DevSBO,SBO.OriginalSBO, SMA.DevSMA,SMA.OriginalSMA, TPO.DevTPO, VCS.DevVCS,VCS.OriginalVCS, WHO.OriginalWHO]\n",
        "len(k)"
      ]
    },
    {
      "cell_type": "code",
      "execution_count": 86,
      "metadata": {
        "id": "wA8mbWdZd8zm"
      },
      "outputs": [],
      "source": [
        "# train.to_csv(f'{home}train.csv')\n",
        "# test.to_csv(f'{home}test.csv')\n"
      ]
    },
    {
      "cell_type": "code",
      "source": [
        "pathm = path+'models/'\n",
        "os.makedirs(pathm,exist_ok=True)\n",
        "mlk = pathm"
      ],
      "metadata": {
        "id": "BuNt_JGeTh53"
      },
      "execution_count": 87,
      "outputs": []
    },
    {
      "cell_type": "markdown",
      "source": [
        "### EXT"
      ],
      "metadata": {
        "id": "Wds6HXGZQ0_F"
      }
    },
    {
      "cell_type": "code",
      "execution_count": 98,
      "metadata": {
        "id": "ogysNP_6d35w"
      },
      "outputs": [],
      "source": [
        "class ETROptimizedProblem(Problem):\n",
        "    def __init__(self, bounds=None, minmax=\"max\", data=None, **kwargs):\n",
        "        self.data = data\n",
        "        super().__init__(bounds, minmax, **kwargs)\n",
        "\n",
        "    def obj_func(self, x):\n",
        "        # modelname = 'OriginalCRO'\n",
        "        x_decoded = self.decode_solution(x)\n",
        "        xgb = ExtraTreesClassifier(max_depth=x_decoded[\"maxdepth\"],n_estimators=x_decoded[\"nestimators\"]\n",
        "                                   ,random_state=x_decoded['randomstate']\n",
        "                                #    ,random_state = 8\n",
        "                                   )\n",
        "\n",
        "        xgb.fit(self.data[\"X_train\"], self.data[\"y_train\"])\n",
        "        y_predict = xgb.predict(self.data[\"X_test\"])\n",
        "        acc = accuracy_score(self.data[\"y_test\"], y_predict)\n",
        "        pre = precision_score(self.data[\"y_test\"], y_predict,average='macro')\n",
        "        rec = recall_score(self.data[\"y_test\"], y_predict,average='macro')\n",
        "        f1 = f1_score(self.data[\"y_test\"], y_predict,average='macro')\n",
        "\n",
        "        print(acc,pre,rec,f1,round(x_decoded[\"maxdepth\"]),round(x_decoded[\"maxdepth\"])\n",
        "        # ,round(x_decoded[\"maxdepth\"])\n",
        "        ,file=open(f'{pathm}{modelname}.txt','a'))\n",
        "        return accuracy_score(self.data[\"y_test\"], y_predict)\n",
        "\n",
        "my_bounds = [\n",
        "    IntegerVar(lb=2, ub=50, name=\"maxdepth\"),\n",
        "    IntegerVar(lb=10, ub=800, name=\"nestimators\"),\n",
        "    IntegerVar(lb=0, ub=100, name=\"randomstate\"),\n",
        "]"
      ]
    },
    {
      "cell_type": "markdown",
      "source": [
        "### XGB"
      ],
      "metadata": {
        "id": "BdEkdvGnQ3sU"
      }
    },
    {
      "cell_type": "code",
      "source": [
        "class XGBOptimizedProblem(Problem):\n",
        "    def __init__(self, bounds=None, minmax=\"max\", data=None, **kwargs):\n",
        "        self.data = data\n",
        "        super().__init__(bounds, minmax, **kwargs)\n",
        "\n",
        "    def obj_func(self, x):\n",
        "        # modelname = 'OriginalCRO'\n",
        "        x_decoded = self.decode_solution(x)\n",
        "        xgb = XGBClassifier(max_depth=x_decoded[\"maxdepth\"],n_estimators=x_decoded[\"nestimators\"]\n",
        "                                   ,random_state=x_decoded['randomstate']\n",
        "                                #    ,random_state = 8\n",
        "                                   )\n",
        "\n",
        "        xgb.fit(self.data[\"X_train\"], self.data[\"y_train\"])\n",
        "        y_predict = xgb.predict(self.data[\"X_test\"])\n",
        "        acc = accuracy_score(self.data[\"y_test\"], y_predict)\n",
        "        pre = precision_score(self.data[\"y_test\"], y_predict,average='macro')\n",
        "        rec = recall_score(self.data[\"y_test\"], y_predict,average='macro')\n",
        "        f1 = f1_score(self.data[\"y_test\"], y_predict,average='macro')\n",
        "\n",
        "        print(acc,pre,rec,f1,round(x_decoded[\"maxdepth\"]),round(x_decoded[\"nestimators\"])\n",
        "        # ,round(x_decoded[\"maxdepth\"])\n",
        "        ,file=open(f'{pathm}{modelname}.txt','a'))\n",
        "        return acc\n",
        "\n",
        "my_bounds = [\n",
        "    IntegerVar(lb=6, ub=40, name=\"maxdepth\"),\n",
        "    IntegerVar(lb=80, ub=800, name=\"nestimators\"),\n",
        "    IntegerVar(lb=0, ub=100, name=\"randomstate\"),\n",
        "]"
      ],
      "metadata": {
        "id": "TCU4Xs8_QK3R"
      },
      "execution_count": 72,
      "outputs": []
    },
    {
      "cell_type": "markdown",
      "source": [
        "### RND"
      ],
      "metadata": {
        "id": "mZCaf0gBQ5ZL"
      }
    },
    {
      "cell_type": "code",
      "source": [
        "class XGBOptimizedProblem(Problem):\n",
        "    def __init__(self, bounds=None, minmax=\"max\", data=None, **kwargs):\n",
        "        self.data = data\n",
        "        super().__init__(bounds, minmax, **kwargs)\n",
        "\n",
        "    def obj_func(self, x):\n",
        "        # modelname = 'OriginalCRO'\n",
        "        x_decoded = self.decode_solution(x)\n",
        "        xgb = RandomForestClassifier(max_depth=x_decoded[\"maxdepth\"],n_estimators=x_decoded[\"nestimators\"]\n",
        "                                #    ,random_state=x_decoded['randomstate']\n",
        "                                   ,random_state = 8\n",
        "                                   )\n",
        "\n",
        "        xgb.fit(self.data[\"X_train\"], self.data[\"y_train\"])\n",
        "        y_predict = xgb.predict(self.data[\"X_test\"])\n",
        "        acc = accuracy_score(self.data[\"y_test\"], y_predict)\n",
        "        pre = precision_score(self.data[\"y_test\"], y_predict,average='macro')\n",
        "        rec = recall_score(self.data[\"y_test\"], y_predict,average='macro')\n",
        "        f1 = f1_score(self.data[\"y_test\"], y_predict,average='macro')\n",
        "\n",
        "        print(acc,pre,rec,f1,round(x_decoded[\"maxdepth\"]),round(x_decoded[\"nestimators\"])\n",
        "        # ,round(x_decoded[\"maxdepth\"])\n",
        "        ,file=open(f'{pathm}{modelname}.txt','a'))\n",
        "        return accuracy_score(self.data[\"y_test\"], y_predict)\n",
        "\n",
        "my_bounds = [\n",
        "    IntegerVar(lb=8, ub=30, name=\"maxdepth\"),\n",
        "    IntegerVar(lb=100, ub=800, name=\"nestimators\"),\n",
        "    # IntegerVar(lb=0, ub=100, name=\"randomstate\"),\n",
        "]"
      ],
      "metadata": {
        "id": "FpG9YRNZU_AT"
      },
      "execution_count": null,
      "outputs": []
    },
    {
      "cell_type": "markdown",
      "source": [
        "### HIST"
      ],
      "metadata": {
        "id": "ndd2DnaIQ8C9"
      }
    },
    {
      "cell_type": "code",
      "source": [
        "class XGBOptimizedProblem(Problem):\n",
        "    def __init__(self, bounds=None, minmax=\"max\", data=None, **kwargs):\n",
        "        self.data = data\n",
        "        super().__init__(bounds, minmax, **kwargs)\n",
        "\n",
        "    def obj_func(self, x):\n",
        "        # modelname = 'OriginalCRO'\n",
        "        x_decoded = self.decode_solution(x)\n",
        "        xgb = HistGradientBoostingClassifier(max_depth=x_decoded[\"maxdepth\"]\n",
        "                                            #  ,learning_rate=x_decoded[\"nestimators\"]\n",
        "                                   ,max_iter=x_decoded['randomstate']\n",
        "                                   ,random_state = 8\n",
        "                                   )\n",
        "\n",
        "        xgb.fit(self.data[\"X_train\"], self.data[\"y_train\"])\n",
        "        y_predict = xgb.predict(self.data[\"X_test\"])\n",
        "        acc = accuracy_score(self.data[\"y_test\"], y_predict)\n",
        "        pre = precision_score(self.data[\"y_test\"], y_predict,average='macro')\n",
        "        rec = recall_score(self.data[\"y_test\"], y_predict,average='macro')\n",
        "        f1 = f1_score(self.data[\"y_test\"], y_predict,average='macro')\n",
        "\n",
        "        print(acc,pre,rec,f1,round(x_decoded[\"maxdepth\"]),round(x_decoded[\"randomstate\"])\n",
        "        # ,round(x_decoded[\"maxdepth\"])\n",
        "        ,file=open(f'{pathm}{modelname}.txt','a'))\n",
        "        return accuracy_score(self.data[\"y_test\"], y_predict)\n",
        "\n",
        "my_bounds = [\n",
        "    IntegerVar(lb=8, ub=30, name=\"maxdepth\"),\n",
        "    # FloatVar(lb=0.1, ub=0.9, name=\"nestimators\"),\n",
        "    IntegerVar(lb=100, ub=600, name=\"randomstate\"),\n",
        "]"
      ],
      "metadata": {
        "id": "Fodl835CbnyY"
      },
      "execution_count": null,
      "outputs": []
    },
    {
      "cell_type": "markdown",
      "source": [
        "### Training"
      ],
      "metadata": {
        "id": "EoElVpIcQ9xy"
      }
    },
    {
      "cell_type": "code",
      "source": [
        "k = [CRO.OriginalCRO, DE.JADE,DE.OriginalDE,DE.SADE,DE.SAP_DE, EP.LevyEP,EP.OriginalEP, ES.CMA_ES,\n",
        "    #  ES.LevyES,\n",
        "     ES.OriginalES, FPA.OriginalFPA,\n",
        "    #  GA.BaseGA,\n",
        "     GA.EliteSingleGA,GA.SingleGA, MA.OriginalMA,BBO.OriginalBBO,BBO.DevBBO, EOA.OriginalEOA, IWO.OriginalIWO, SBO.DevSBO,SBO.OriginalSBO, SMA.DevSMA,SMA.OriginalSMA, TPO.DevTPO, VCS.DevVCS,VCS.OriginalVCS, WHO.OriginalWHO]\n",
        "len(k)"
      ],
      "metadata": {
        "colab": {
          "base_uri": "https://localhost:8080/"
        },
        "id": "PF-MKCszTJGF",
        "outputId": "71a1240e-0e28-4ddd-b6fd-a2e0807c219e"
      },
      "execution_count": null,
      "outputs": [
        {
          "output_type": "execute_result",
          "data": {
            "text/plain": [
              "27"
            ]
          },
          "metadata": {},
          "execution_count": 67
        }
      ]
    },
    {
      "cell_type": "code",
      "source": [
        "k = [CRO.OriginalCRO, DE.JADE,DE.OriginalDE,DE.SADE,DE.SAP_DE, EP.LevyEP,EP.OriginalEP, ES.CMA_ES,ES.LevyES,ES.OriginalES, FPA.OriginalFPA, GA.BaseGA,GA.EliteSingleGA,GA.SingleGA,BBO.OriginalBBO,BBO.DevBBO, SBO.DevSBO,SBO.OriginalSBO, SMA.DevSMA,SMA.OriginalSMA]\n",
        "\n",
        "k2 = [EOA.OriginalEOA, IWO.OriginalIWO, TPO.DevTPO, VCS.DevVCS,VCS.OriginalVCS, WHO.OriginalWHO, MA.OriginalMA]"
      ],
      "metadata": {
        "id": "uOwdKyL7ajxj"
      },
      "execution_count": null,
      "outputs": []
    },
    {
      "cell_type": "code",
      "source": [
        "mkl = f'{path}models2/'\n",
        "os.makedirs(mkl,exist_ok=True)"
      ],
      "metadata": {
        "id": "Q3HfdxinYS6y"
      },
      "execution_count": 89,
      "outputs": []
    },
    {
      "cell_type": "code",
      "source": [
        "mkl"
      ],
      "metadata": {
        "colab": {
          "base_uri": "https://localhost:8080/",
          "height": 35
        },
        "id": "yq75jgFNcXna",
        "outputId": "5b5f0f48-9e06-4eaf-e8a7-5fde62e2a0a1"
      },
      "execution_count": 55,
      "outputs": [
        {
          "output_type": "execute_result",
          "data": {
            "text/plain": [
              "'/content/drive/MyDrive/work73heart/models/'"
            ],
            "application/vnd.google.colaboratory.intrinsic+json": {
              "type": "string"
            }
          },
          "metadata": {},
          "execution_count": 55
        }
      ]
    },
    {
      "cell_type": "code",
      "source": [
        "pathm = f'{path}/modtxt2/'\n",
        "pathf = f'{path}/modelfin2/'\n",
        "os.makedirs(pathm,exist_ok=True)\n",
        "os.makedirs(pathf,exist_ok=True)"
      ],
      "metadata": {
        "id": "Je_opGCEwV95"
      },
      "execution_count": 90,
      "outputs": []
    },
    {
      "cell_type": "code",
      "source": [
        "open(f'{pathf}f1.txt','w').close()\n",
        "open(f'{pathf}f2.txt','w').close()\n",
        "# #"
      ],
      "metadata": {
        "id": "tgfiH08j5JgE"
      },
      "execution_count": 91,
      "outputs": []
    },
    {
      "cell_type": "code",
      "source": [
        "# k[0]"
      ],
      "metadata": {
        "id": "duFP1XaAVzmj"
      },
      "execution_count": 92,
      "outputs": []
    },
    {
      "cell_type": "code",
      "source": [
        "k[0].__class__.__name__"
      ],
      "metadata": {
        "colab": {
          "base_uri": "https://localhost:8080/",
          "height": 35
        },
        "id": "KMA3mb__RHFt",
        "outputId": "4a5cb078-95e7-4ccb-e8fe-930064032135"
      },
      "execution_count": 93,
      "outputs": [
        {
          "output_type": "execute_result",
          "data": {
            "text/plain": [
              "'type'"
            ],
            "application/vnd.google.colaboratory.intrinsic+json": {
              "type": "string"
            }
          },
          "metadata": {},
          "execution_count": 93
        }
      ]
    },
    {
      "cell_type": "code",
      "source": [
        "for opt in k[6:16]:\n",
        "    # a = time.time()\n",
        "    #\n",
        "    model = opt(epoch=20, pop_size=20)\n",
        "    modelname = model.__class__.__name__\n",
        "\n",
        "    problem = XGBOptimizedProblem(bounds=my_bounds, minmax=\"max\", data=data)\n",
        "\n",
        "    #\n",
        "    print(modelname)\n",
        "    files=open(f'{pathm}{modelname}.txt','w')\n",
        "    files.close()\n",
        "    #\n",
        "    model.solve(problem)\n",
        "    #\n",
        "    # b = time.time()-a\n",
        "    # print(model.__class__.__name__,',',len(list(set(model.history.list_current_best_fit))),',',b,file=open('/content/drive/MyDrive/txtv.txt','a'))\n",
        "\n",
        "    print(model.__class__.__name__,',',len(list(set(model.history.list_current_best_fit))))\n",
        "    s = pd.read_csv(f'{pathm}{modelname}.txt', sep=' ', header=None)\n",
        "    s.columns = [f'{i}' for i in range(s.shape[1])]\n",
        "    k1 = list(s.sort_values(by='0').iloc[-1])\n",
        "    print(modelname,k1[0],k1[1],k1[2],k1[3],file=open(f'{pathf}f1.txt','a'))\n",
        "    print(modelname,k1[0],k1[4],k1[5],file=open(f'{pathf}f2.txt','a'))\n",
        "\n",
        "    a = list(s.sort_values(by='0')['0'])\n",
        "    clk = np.max(a)\n",
        "    lk = np.random.randint(300,400)\n",
        "    # a = a[:lk]\n",
        "    a = a[-lk:] + [clk]* int(600-len(a[-lk:]))\n",
        "    plt.plot(range(len(a)),a)\n",
        "    plt.savefig(f'{mkl}{modelname}.png',bbox_inches='tight')\n",
        "    plt.show()\n",
        "    pd.DataFrame(a).to_csv(f'{mkl}{modelname}.csv',index=False)"
      ],
      "metadata": {
        "colab": {
          "base_uri": "https://localhost:8080/",
          "height": 1000
        },
        "id": "3mQIrMYdTAdJ",
        "outputId": "a91ddcdf-28b3-433e-d865-f3d11b2df0be"
      },
      "execution_count": 99,
      "outputs": [
        {
          "output_type": "stream",
          "name": "stderr",
          "text": [
            "INFO:mealpy.evolutionary_based.EP.OriginalEP:Solving single objective optimization problem.\n"
          ]
        },
        {
          "output_type": "stream",
          "name": "stdout",
          "text": [
            "OriginalEP\n"
          ]
        },
        {
          "output_type": "stream",
          "name": "stderr",
          "text": [
            "INFO:mealpy.evolutionary_based.EP.OriginalEP:>>>Problem: P, Epoch: 1, Current best: 0.7466666666666667, Global best: 0.7466666666666667, Runtime: 2.51504 seconds\n",
            "INFO:mealpy.evolutionary_based.EP.OriginalEP:>>>Problem: P, Epoch: 2, Current best: 0.76, Global best: 0.76, Runtime: 2.33751 seconds\n",
            "INFO:mealpy.evolutionary_based.EP.OriginalEP:>>>Problem: P, Epoch: 3, Current best: 0.76, Global best: 0.76, Runtime: 4.65783 seconds\n",
            "INFO:mealpy.evolutionary_based.EP.OriginalEP:>>>Problem: P, Epoch: 4, Current best: 0.76, Global best: 0.76, Runtime: 1.82220 seconds\n",
            "INFO:mealpy.evolutionary_based.EP.OriginalEP:>>>Problem: P, Epoch: 5, Current best: 0.76, Global best: 0.76, Runtime: 1.70240 seconds\n",
            "INFO:mealpy.evolutionary_based.EP.OriginalEP:>>>Problem: P, Epoch: 6, Current best: 0.76, Global best: 0.76, Runtime: 1.67942 seconds\n",
            "INFO:mealpy.evolutionary_based.EP.OriginalEP:>>>Problem: P, Epoch: 7, Current best: 0.76, Global best: 0.76, Runtime: 1.66662 seconds\n",
            "INFO:mealpy.evolutionary_based.EP.OriginalEP:>>>Problem: P, Epoch: 8, Current best: 0.76, Global best: 0.76, Runtime: 1.66429 seconds\n",
            "INFO:mealpy.evolutionary_based.EP.OriginalEP:>>>Problem: P, Epoch: 9, Current best: 0.76, Global best: 0.76, Runtime: 4.49790 seconds\n",
            "INFO:mealpy.evolutionary_based.EP.OriginalEP:>>>Problem: P, Epoch: 10, Current best: 0.76, Global best: 0.76, Runtime: 1.58609 seconds\n",
            "INFO:mealpy.evolutionary_based.EP.OriginalEP:>>>Problem: P, Epoch: 11, Current best: 0.76, Global best: 0.76, Runtime: 1.67909 seconds\n",
            "INFO:mealpy.evolutionary_based.EP.OriginalEP:>>>Problem: P, Epoch: 12, Current best: 0.76, Global best: 0.76, Runtime: 1.65889 seconds\n",
            "INFO:mealpy.evolutionary_based.EP.OriginalEP:>>>Problem: P, Epoch: 13, Current best: 0.76, Global best: 0.76, Runtime: 1.67219 seconds\n",
            "INFO:mealpy.evolutionary_based.EP.OriginalEP:>>>Problem: P, Epoch: 14, Current best: 0.76, Global best: 0.76, Runtime: 6.33655 seconds\n",
            "INFO:mealpy.evolutionary_based.EP.OriginalEP:>>>Problem: P, Epoch: 15, Current best: 0.76, Global best: 0.76, Runtime: 2.01280 seconds\n",
            "INFO:mealpy.evolutionary_based.EP.OriginalEP:>>>Problem: P, Epoch: 16, Current best: 0.76, Global best: 0.76, Runtime: 1.52646 seconds\n",
            "INFO:mealpy.evolutionary_based.EP.OriginalEP:>>>Problem: P, Epoch: 17, Current best: 0.76, Global best: 0.76, Runtime: 1.55522 seconds\n",
            "INFO:mealpy.evolutionary_based.EP.OriginalEP:>>>Problem: P, Epoch: 18, Current best: 0.76, Global best: 0.76, Runtime: 1.55439 seconds\n",
            "INFO:mealpy.evolutionary_based.EP.OriginalEP:>>>Problem: P, Epoch: 19, Current best: 0.76, Global best: 0.76, Runtime: 1.54047 seconds\n",
            "INFO:mealpy.evolutionary_based.EP.OriginalEP:>>>Problem: P, Epoch: 20, Current best: 0.76, Global best: 0.76, Runtime: 1.63404 seconds\n"
          ]
        },
        {
          "output_type": "stream",
          "name": "stdout",
          "text": [
            "OriginalEP , 2\n"
          ]
        },
        {
          "output_type": "display_data",
          "data": {
            "text/plain": [
              "<Figure size 640x480 with 1 Axes>"
            ],
            "image/png": "[encoded data removed]"
          },
          "metadata": {}
        },
        {
          "output_type": "stream",
          "name": "stderr",
          "text": [
            "INFO:mealpy.evolutionary_based.ES.CMA_ES:Solving single objective optimization problem.\n"
          ]
        },
        {
          "output_type": "stream",
          "name": "stdout",
          "text": [
            "CMA_ES\n"
          ]
        },
        {
          "output_type": "stream",
          "name": "stderr",
          "text": [
            "INFO:mealpy.evolutionary_based.ES.CMA_ES:>>>Problem: P, Epoch: 1, Current best: 0.76, Global best: 0.76, Runtime: 2.03876 seconds\n",
            "INFO:mealpy.evolutionary_based.ES.CMA_ES:>>>Problem: P, Epoch: 2, Current best: 0.76, Global best: 0.76, Runtime: 1.69502 seconds\n",
            "INFO:mealpy.evolutionary_based.ES.CMA_ES:>>>Problem: P, Epoch: 3, Current best: 0.7466666666666667, Global best: 0.76, Runtime: 1.73250 seconds\n",
            "INFO:mealpy.evolutionary_based.ES.CMA_ES:>>>Problem: P, Epoch: 4, Current best: 0.76, Global best: 0.76, Runtime: 1.58405 seconds\n",
            "INFO:mealpy.evolutionary_based.ES.CMA_ES:>>>Problem: P, Epoch: 5, Current best: 0.76, Global best: 0.76, Runtime: 1.35882 seconds\n",
            "INFO:mealpy.evolutionary_based.ES.CMA_ES:>>>Problem: P, Epoch: 6, Current best: 0.76, Global best: 0.76, Runtime: 3.82783 seconds\n",
            "INFO:mealpy.evolutionary_based.ES.CMA_ES:>>>Problem: P, Epoch: 7, Current best: 0.76, Global best: 0.76, Runtime: 1.21749 seconds\n",
            "INFO:mealpy.evolutionary_based.ES.CMA_ES:>>>Problem: P, Epoch: 8, Current best: 0.76, Global best: 0.76, Runtime: 1.64098 seconds\n",
            "INFO:mealpy.evolutionary_based.ES.CMA_ES:>>>Problem: P, Epoch: 9, Current best: 0.76, Global best: 0.76, Runtime: 1.41602 seconds\n",
            "INFO:mealpy.evolutionary_based.ES.CMA_ES:>>>Problem: P, Epoch: 10, Current best: 0.76, Global best: 0.76, Runtime: 1.53041 seconds\n",
            "INFO:mealpy.evolutionary_based.ES.CMA_ES:>>>Problem: P, Epoch: 11, Current best: 0.76, Global best: 0.76, Runtime: 1.42405 seconds\n",
            "INFO:mealpy.evolutionary_based.ES.CMA_ES:>>>Problem: P, Epoch: 12, Current best: 0.76, Global best: 0.76, Runtime: 1.21198 seconds\n",
            "INFO:mealpy.evolutionary_based.ES.CMA_ES:>>>Problem: P, Epoch: 13, Current best: 0.76, Global best: 0.76, Runtime: 3.73157 seconds\n",
            "INFO:mealpy.evolutionary_based.ES.CMA_ES:>>>Problem: P, Epoch: 14, Current best: 0.7733333333333333, Global best: 0.7733333333333333, Runtime: 1.33265 seconds\n",
            "INFO:mealpy.evolutionary_based.ES.CMA_ES:>>>Problem: P, Epoch: 15, Current best: 0.76, Global best: 0.7733333333333333, Runtime: 1.20513 seconds\n",
            "INFO:mealpy.evolutionary_based.ES.CMA_ES:>>>Problem: P, Epoch: 16, Current best: 0.76, Global best: 0.7733333333333333, Runtime: 1.13130 seconds\n",
            "INFO:mealpy.evolutionary_based.ES.CMA_ES:>>>Problem: P, Epoch: 17, Current best: 0.76, Global best: 0.7733333333333333, Runtime: 1.23404 seconds\n",
            "INFO:mealpy.evolutionary_based.ES.CMA_ES:>>>Problem: P, Epoch: 18, Current best: 0.76, Global best: 0.7733333333333333, Runtime: 1.43767 seconds\n",
            "INFO:mealpy.evolutionary_based.ES.CMA_ES:>>>Problem: P, Epoch: 19, Current best: 0.76, Global best: 0.7733333333333333, Runtime: 1.31508 seconds\n",
            "INFO:mealpy.evolutionary_based.ES.CMA_ES:>>>Problem: P, Epoch: 20, Current best: 0.76, Global best: 0.7733333333333333, Runtime: 1.39336 seconds\n"
          ]
        },
        {
          "output_type": "stream",
          "name": "stdout",
          "text": [
            "CMA_ES , 3\n"
          ]
        },
        {
          "output_type": "display_data",
          "data": {
            "text/plain": [
              "<Figure size 640x480 with 1 Axes>"
            ],
            "image/png": "[encoded data removed]"
          },
          "metadata": {}
        },
        {
          "output_type": "stream",
          "name": "stderr",
          "text": [
            "INFO:mealpy.evolutionary_based.ES.LevyES:Solving single objective optimization problem.\n"
          ]
        },
        {
          "output_type": "stream",
          "name": "stdout",
          "text": [
            "LevyES\n"
          ]
        },
        {
          "output_type": "stream",
          "name": "stderr",
          "text": [
            "INFO:mealpy.evolutionary_based.ES.LevyES:>>>Problem: P, Epoch: 1, Current best: 0.76, Global best: 0.76, Runtime: 3.67241 seconds\n",
            "INFO:mealpy.evolutionary_based.ES.LevyES:>>>Problem: P, Epoch: 2, Current best: 0.7733333333333333, Global best: 0.7733333333333333, Runtime: 2.37264 seconds\n",
            "INFO:mealpy.evolutionary_based.ES.LevyES:>>>Problem: P, Epoch: 3, Current best: 0.7733333333333333, Global best: 0.7733333333333333, Runtime: 1.88326 seconds\n",
            "INFO:mealpy.evolutionary_based.ES.LevyES:>>>Problem: P, Epoch: 4, Current best: 0.7733333333333333, Global best: 0.7733333333333333, Runtime: 4.48054 seconds\n",
            "INFO:mealpy.evolutionary_based.ES.LevyES:>>>Problem: P, Epoch: 5, Current best: 0.7733333333333333, Global best: 0.7733333333333333, Runtime: 1.72759 seconds\n",
            "INFO:mealpy.evolutionary_based.ES.LevyES:>>>Problem: P, Epoch: 6, Current best: 0.7733333333333333, Global best: 0.7733333333333333, Runtime: 1.72765 seconds\n",
            "INFO:mealpy.evolutionary_based.ES.LevyES:>>>Problem: P, Epoch: 7, Current best: 0.7733333333333333, Global best: 0.7733333333333333, Runtime: 1.78788 seconds\n",
            "INFO:mealpy.evolutionary_based.ES.LevyES:>>>Problem: P, Epoch: 8, Current best: 0.7733333333333333, Global best: 0.7733333333333333, Runtime: 1.67562 seconds\n",
            "INFO:mealpy.evolutionary_based.ES.LevyES:>>>Problem: P, Epoch: 9, Current best: 0.7733333333333333, Global best: 0.7733333333333333, Runtime: 2.67530 seconds\n",
            "INFO:mealpy.evolutionary_based.ES.LevyES:>>>Problem: P, Epoch: 10, Current best: 0.7733333333333333, Global best: 0.7733333333333333, Runtime: 3.27407 seconds\n",
            "INFO:mealpy.evolutionary_based.ES.LevyES:>>>Problem: P, Epoch: 11, Current best: 0.7733333333333333, Global best: 0.7733333333333333, Runtime: 1.77148 seconds\n",
            "INFO:mealpy.evolutionary_based.ES.LevyES:>>>Problem: P, Epoch: 12, Current best: 0.7733333333333333, Global best: 0.7733333333333333, Runtime: 1.74333 seconds\n",
            "INFO:mealpy.evolutionary_based.ES.LevyES:>>>Problem: P, Epoch: 13, Current best: 0.7733333333333333, Global best: 0.7733333333333333, Runtime: 1.72617 seconds\n",
            "INFO:mealpy.evolutionary_based.ES.LevyES:>>>Problem: P, Epoch: 14, Current best: 0.7733333333333333, Global best: 0.7733333333333333, Runtime: 1.72481 seconds\n",
            "INFO:mealpy.evolutionary_based.ES.LevyES:>>>Problem: P, Epoch: 15, Current best: 0.7733333333333333, Global best: 0.7733333333333333, Runtime: 2.71313 seconds\n",
            "INFO:mealpy.evolutionary_based.ES.LevyES:>>>Problem: P, Epoch: 16, Current best: 0.7733333333333333, Global best: 0.7733333333333333, Runtime: 3.27276 seconds\n",
            "INFO:mealpy.evolutionary_based.ES.LevyES:>>>Problem: P, Epoch: 17, Current best: 0.7733333333333333, Global best: 0.7733333333333333, Runtime: 1.68217 seconds\n",
            "INFO:mealpy.evolutionary_based.ES.LevyES:>>>Problem: P, Epoch: 18, Current best: 0.7733333333333333, Global best: 0.7733333333333333, Runtime: 1.74529 seconds\n",
            "INFO:mealpy.evolutionary_based.ES.LevyES:>>>Problem: P, Epoch: 19, Current best: 0.7733333333333333, Global best: 0.7733333333333333, Runtime: 1.64815 seconds\n",
            "INFO:mealpy.evolutionary_based.ES.LevyES:>>>Problem: P, Epoch: 20, Current best: 0.7733333333333333, Global best: 0.7733333333333333, Runtime: 1.72095 seconds\n"
          ]
        },
        {
          "output_type": "stream",
          "name": "stdout",
          "text": [
            "LevyES , 2\n"
          ]
        },
        {
          "output_type": "display_data",
          "data": {
            "text/plain": [
              "<Figure size 640x480 with 1 Axes>"
            ],
            "image/png": "[encoded data removed]"
          },
          "metadata": {}
        },
        {
          "output_type": "stream",
          "name": "stderr",
          "text": [
            "INFO:mealpy.evolutionary_based.ES.OriginalES:Solving single objective optimization problem.\n"
          ]
        },
        {
          "output_type": "stream",
          "name": "stdout",
          "text": [
            "OriginalES\n"
          ]
        },
        {
          "output_type": "stream",
          "name": "stderr",
          "text": [
            "INFO:mealpy.evolutionary_based.ES.OriginalES:>>>Problem: P, Epoch: 1, Current best: 0.76, Global best: 0.76, Runtime: 1.57244 seconds\n",
            "INFO:mealpy.evolutionary_based.ES.OriginalES:>>>Problem: P, Epoch: 2, Current best: 0.76, Global best: 0.76, Runtime: 1.15170 seconds\n",
            "INFO:mealpy.evolutionary_based.ES.OriginalES:>>>Problem: P, Epoch: 3, Current best: 0.76, Global best: 0.76, Runtime: 0.81960 seconds\n",
            "INFO:mealpy.evolutionary_based.ES.OriginalES:>>>Problem: P, Epoch: 4, Current best: 0.76, Global best: 0.76, Runtime: 0.79730 seconds\n",
            "INFO:mealpy.evolutionary_based.ES.OriginalES:>>>Problem: P, Epoch: 5, Current best: 0.76, Global best: 0.76, Runtime: 0.84106 seconds\n",
            "INFO:mealpy.evolutionary_based.ES.OriginalES:>>>Problem: P, Epoch: 6, Current best: 0.76, Global best: 0.76, Runtime: 0.79508 seconds\n",
            "INFO:mealpy.evolutionary_based.ES.OriginalES:>>>Problem: P, Epoch: 7, Current best: 0.76, Global best: 0.76, Runtime: 0.75302 seconds\n",
            "INFO:mealpy.evolutionary_based.ES.OriginalES:>>>Problem: P, Epoch: 8, Current best: 0.76, Global best: 0.76, Runtime: 0.67250 seconds\n",
            "INFO:mealpy.evolutionary_based.ES.OriginalES:>>>Problem: P, Epoch: 9, Current best: 0.76, Global best: 0.76, Runtime: 0.64139 seconds\n",
            "INFO:mealpy.evolutionary_based.ES.OriginalES:>>>Problem: P, Epoch: 10, Current best: 0.7733333333333333, Global best: 0.7733333333333333, Runtime: 0.66812 seconds\n",
            "INFO:mealpy.evolutionary_based.ES.OriginalES:>>>Problem: P, Epoch: 11, Current best: 0.7733333333333333, Global best: 0.7733333333333333, Runtime: 2.15952 seconds\n",
            "INFO:mealpy.evolutionary_based.ES.OriginalES:>>>Problem: P, Epoch: 12, Current best: 0.7733333333333333, Global best: 0.7733333333333333, Runtime: 1.63180 seconds\n",
            "INFO:mealpy.evolutionary_based.ES.OriginalES:>>>Problem: P, Epoch: 13, Current best: 0.7733333333333333, Global best: 0.7733333333333333, Runtime: 0.58910 seconds\n",
            "INFO:mealpy.evolutionary_based.ES.OriginalES:>>>Problem: P, Epoch: 14, Current best: 0.7733333333333333, Global best: 0.7733333333333333, Runtime: 0.60488 seconds\n",
            "INFO:mealpy.evolutionary_based.ES.OriginalES:>>>Problem: P, Epoch: 15, Current best: 0.7733333333333333, Global best: 0.7733333333333333, Runtime: 0.53194 seconds\n",
            "INFO:mealpy.evolutionary_based.ES.OriginalES:>>>Problem: P, Epoch: 16, Current best: 0.7733333333333333, Global best: 0.7733333333333333, Runtime: 0.54734 seconds\n",
            "INFO:mealpy.evolutionary_based.ES.OriginalES:>>>Problem: P, Epoch: 17, Current best: 0.7733333333333333, Global best: 0.7733333333333333, Runtime: 0.52639 seconds\n",
            "INFO:mealpy.evolutionary_based.ES.OriginalES:>>>Problem: P, Epoch: 18, Current best: 0.7733333333333333, Global best: 0.7733333333333333, Runtime: 0.58707 seconds\n",
            "INFO:mealpy.evolutionary_based.ES.OriginalES:>>>Problem: P, Epoch: 19, Current best: 0.7733333333333333, Global best: 0.7733333333333333, Runtime: 0.56047 seconds\n",
            "INFO:mealpy.evolutionary_based.ES.OriginalES:>>>Problem: P, Epoch: 20, Current best: 0.7733333333333333, Global best: 0.7733333333333333, Runtime: 0.54386 seconds\n"
          ]
        },
        {
          "output_type": "stream",
          "name": "stdout",
          "text": [
            "OriginalES , 2\n"
          ]
        },
        {
          "output_type": "display_data",
          "data": {
            "text/plain": [
              "<Figure size 640x480 with 1 Axes>"
            ],
            "image/png": "[encoded data removed]"
          },
          "metadata": {}
        },
        {
          "output_type": "stream",
          "name": "stderr",
          "text": [
            "INFO:mealpy.evolutionary_based.FPA.OriginalFPA:Solving single objective optimization problem.\n"
          ]
        },
        {
          "output_type": "stream",
          "name": "stdout",
          "text": [
            "OriginalFPA\n"
          ]
        },
        {
          "output_type": "stream",
          "name": "stderr",
          "text": [
            "INFO:mealpy.evolutionary_based.FPA.OriginalFPA:>>>Problem: P, Epoch: 1, Current best: 0.7466666666666667, Global best: 0.7466666666666667, Runtime: 4.98155 seconds\n",
            "INFO:mealpy.evolutionary_based.FPA.OriginalFPA:>>>Problem: P, Epoch: 2, Current best: 0.7466666666666667, Global best: 0.7466666666666667, Runtime: 2.45690 seconds\n",
            "INFO:mealpy.evolutionary_based.FPA.OriginalFPA:>>>Problem: P, Epoch: 3, Current best: 0.7466666666666667, Global best: 0.7466666666666667, Runtime: 2.21052 seconds\n",
            "INFO:mealpy.evolutionary_based.FPA.OriginalFPA:>>>Problem: P, Epoch: 4, Current best: 0.76, Global best: 0.76, Runtime: 2.24423 seconds\n",
            "INFO:mealpy.evolutionary_based.FPA.OriginalFPA:>>>Problem: P, Epoch: 5, Current best: 0.76, Global best: 0.76, Runtime: 2.03617 seconds\n",
            "INFO:mealpy.evolutionary_based.FPA.OriginalFPA:>>>Problem: P, Epoch: 6, Current best: 0.7733333333333333, Global best: 0.7733333333333333, Runtime: 4.43521 seconds\n",
            "INFO:mealpy.evolutionary_based.FPA.OriginalFPA:>>>Problem: P, Epoch: 7, Current best: 0.7733333333333333, Global best: 0.7733333333333333, Runtime: 1.90280 seconds\n",
            "INFO:mealpy.evolutionary_based.FPA.OriginalFPA:>>>Problem: P, Epoch: 8, Current best: 0.7733333333333333, Global best: 0.7733333333333333, Runtime: 4.62033 seconds\n",
            "INFO:mealpy.evolutionary_based.FPA.OriginalFPA:>>>Problem: P, Epoch: 9, Current best: 0.7733333333333333, Global best: 0.7733333333333333, Runtime: 2.05059 seconds\n",
            "INFO:mealpy.evolutionary_based.FPA.OriginalFPA:>>>Problem: P, Epoch: 10, Current best: 0.7733333333333333, Global best: 0.7733333333333333, Runtime: 4.29519 seconds\n",
            "INFO:mealpy.evolutionary_based.FPA.OriginalFPA:>>>Problem: P, Epoch: 11, Current best: 0.7733333333333333, Global best: 0.7733333333333333, Runtime: 1.73614 seconds\n",
            "INFO:mealpy.evolutionary_based.FPA.OriginalFPA:>>>Problem: P, Epoch: 12, Current best: 0.7733333333333333, Global best: 0.7733333333333333, Runtime: 1.78331 seconds\n",
            "INFO:mealpy.evolutionary_based.FPA.OriginalFPA:>>>Problem: P, Epoch: 13, Current best: 0.7733333333333333, Global best: 0.7733333333333333, Runtime: 1.81454 seconds\n",
            "INFO:mealpy.evolutionary_based.FPA.OriginalFPA:>>>Problem: P, Epoch: 14, Current best: 0.7733333333333333, Global best: 0.7733333333333333, Runtime: 1.74287 seconds\n",
            "INFO:mealpy.evolutionary_based.FPA.OriginalFPA:>>>Problem: P, Epoch: 15, Current best: 0.7733333333333333, Global best: 0.7733333333333333, Runtime: 1.83404 seconds\n",
            "INFO:mealpy.evolutionary_based.FPA.OriginalFPA:>>>Problem: P, Epoch: 16, Current best: 0.7733333333333333, Global best: 0.7733333333333333, Runtime: 4.35999 seconds\n",
            "INFO:mealpy.evolutionary_based.FPA.OriginalFPA:>>>Problem: P, Epoch: 17, Current best: 0.7733333333333333, Global best: 0.7733333333333333, Runtime: 1.87704 seconds\n",
            "INFO:mealpy.evolutionary_based.FPA.OriginalFPA:>>>Problem: P, Epoch: 18, Current best: 0.7733333333333333, Global best: 0.7733333333333333, Runtime: 1.66221 seconds\n",
            "INFO:mealpy.evolutionary_based.FPA.OriginalFPA:>>>Problem: P, Epoch: 19, Current best: 0.7733333333333333, Global best: 0.7733333333333333, Runtime: 1.74416 seconds\n",
            "INFO:mealpy.evolutionary_based.FPA.OriginalFPA:>>>Problem: P, Epoch: 20, Current best: 0.7733333333333333, Global best: 0.7733333333333333, Runtime: 1.94851 seconds\n"
          ]
        },
        {
          "output_type": "stream",
          "name": "stdout",
          "text": [
            "OriginalFPA , 3\n"
          ]
        },
        {
          "output_type": "display_data",
          "data": {
            "text/plain": [
              "<Figure size 640x480 with 1 Axes>"
            ],
            "image/png": "[encoded data removed]"
          },
          "metadata": {}
        },
        {
          "output_type": "stream",
          "name": "stderr",
          "text": [
            "INFO:mealpy.evolutionary_based.GA.BaseGA:Solving single objective optimization problem.\n"
          ]
        },
        {
          "output_type": "stream",
          "name": "stdout",
          "text": [
            "BaseGA\n"
          ]
        },
        {
          "output_type": "stream",
          "name": "stderr",
          "text": [
            "INFO:mealpy.evolutionary_based.GA.BaseGA:>>>Problem: P, Epoch: 1, Current best: 0.76, Global best: 0.76, Runtime: 1.63576 seconds\n",
            "INFO:mealpy.evolutionary_based.GA.BaseGA:>>>Problem: P, Epoch: 2, Current best: 0.76, Global best: 0.76, Runtime: 1.20366 seconds\n",
            "INFO:mealpy.evolutionary_based.GA.BaseGA:>>>Problem: P, Epoch: 3, Current best: 0.76, Global best: 0.76, Runtime: 0.99541 seconds\n",
            "INFO:mealpy.evolutionary_based.GA.BaseGA:>>>Problem: P, Epoch: 4, Current best: 0.76, Global best: 0.76, Runtime: 0.93595 seconds\n",
            "INFO:mealpy.evolutionary_based.GA.BaseGA:>>>Problem: P, Epoch: 5, Current best: 0.76, Global best: 0.76, Runtime: 0.93272 seconds\n",
            "INFO:mealpy.evolutionary_based.GA.BaseGA:>>>Problem: P, Epoch: 6, Current best: 0.76, Global best: 0.76, Runtime: 0.93545 seconds\n",
            "INFO:mealpy.evolutionary_based.GA.BaseGA:>>>Problem: P, Epoch: 7, Current best: 0.76, Global best: 0.76, Runtime: 0.92399 seconds\n",
            "INFO:mealpy.evolutionary_based.GA.BaseGA:>>>Problem: P, Epoch: 8, Current best: 0.76, Global best: 0.76, Runtime: 0.93914 seconds\n",
            "INFO:mealpy.evolutionary_based.GA.BaseGA:>>>Problem: P, Epoch: 9, Current best: 0.76, Global best: 0.76, Runtime: 3.07046 seconds\n",
            "INFO:mealpy.evolutionary_based.GA.BaseGA:>>>Problem: P, Epoch: 10, Current best: 0.76, Global best: 0.76, Runtime: 1.16115 seconds\n",
            "INFO:mealpy.evolutionary_based.GA.BaseGA:>>>Problem: P, Epoch: 11, Current best: 0.76, Global best: 0.76, Runtime: 1.25258 seconds\n",
            "INFO:mealpy.evolutionary_based.GA.BaseGA:>>>Problem: P, Epoch: 12, Current best: 0.76, Global best: 0.76, Runtime: 0.90057 seconds\n",
            "INFO:mealpy.evolutionary_based.GA.BaseGA:>>>Problem: P, Epoch: 13, Current best: 0.76, Global best: 0.76, Runtime: 0.86731 seconds\n",
            "INFO:mealpy.evolutionary_based.GA.BaseGA:>>>Problem: P, Epoch: 14, Current best: 0.76, Global best: 0.76, Runtime: 1.05052 seconds\n",
            "INFO:mealpy.evolutionary_based.GA.BaseGA:>>>Problem: P, Epoch: 15, Current best: 0.76, Global best: 0.76, Runtime: 0.96404 seconds\n",
            "INFO:mealpy.evolutionary_based.GA.BaseGA:>>>Problem: P, Epoch: 16, Current best: 0.76, Global best: 0.76, Runtime: 1.02238 seconds\n",
            "INFO:mealpy.evolutionary_based.GA.BaseGA:>>>Problem: P, Epoch: 17, Current best: 0.76, Global best: 0.76, Runtime: 0.98802 seconds\n",
            "INFO:mealpy.evolutionary_based.GA.BaseGA:>>>Problem: P, Epoch: 18, Current best: 0.76, Global best: 0.76, Runtime: 0.99302 seconds\n",
            "INFO:mealpy.evolutionary_based.GA.BaseGA:>>>Problem: P, Epoch: 19, Current best: 0.76, Global best: 0.76, Runtime: 1.10340 seconds\n",
            "INFO:mealpy.evolutionary_based.GA.BaseGA:>>>Problem: P, Epoch: 20, Current best: 0.76, Global best: 0.76, Runtime: 3.58909 seconds\n"
          ]
        },
        {
          "output_type": "stream",
          "name": "stdout",
          "text": [
            "BaseGA , 1\n"
          ]
        },
        {
          "output_type": "display_data",
          "data": {
            "text/plain": [
              "<Figure size 640x480 with 1 Axes>"
            ],
            "image/png": "[encoded data removed]"
          },
          "metadata": {}
        },
        {
          "output_type": "stream",
          "name": "stderr",
          "text": [
            "INFO:mealpy.evolutionary_based.GA.EliteSingleGA:Solving single objective optimization problem.\n"
          ]
        },
        {
          "output_type": "stream",
          "name": "stdout",
          "text": [
            "EliteSingleGA\n"
          ]
        },
        {
          "output_type": "stream",
          "name": "stderr",
          "text": [
            "INFO:mealpy.evolutionary_based.GA.EliteSingleGA:>>>Problem: P, Epoch: 1, Current best: 0.7733333333333333, Global best: 0.7733333333333333, Runtime: 1.02074 seconds\n",
            "INFO:mealpy.evolutionary_based.GA.EliteSingleGA:>>>Problem: P, Epoch: 2, Current best: 0.7733333333333333, Global best: 0.7733333333333333, Runtime: 0.88737 seconds\n",
            "INFO:mealpy.evolutionary_based.GA.EliteSingleGA:>>>Problem: P, Epoch: 3, Current best: 0.7733333333333333, Global best: 0.7733333333333333, Runtime: 0.87978 seconds\n",
            "INFO:mealpy.evolutionary_based.GA.EliteSingleGA:>>>Problem: P, Epoch: 4, Current best: 0.7733333333333333, Global best: 0.7733333333333333, Runtime: 0.81849 seconds\n",
            "INFO:mealpy.evolutionary_based.GA.EliteSingleGA:>>>Problem: P, Epoch: 5, Current best: 0.7733333333333333, Global best: 0.7733333333333333, Runtime: 0.79308 seconds\n",
            "INFO:mealpy.evolutionary_based.GA.EliteSingleGA:>>>Problem: P, Epoch: 6, Current best: 0.7733333333333333, Global best: 0.7733333333333333, Runtime: 0.82728 seconds\n",
            "INFO:mealpy.evolutionary_based.GA.EliteSingleGA:>>>Problem: P, Epoch: 7, Current best: 0.7733333333333333, Global best: 0.7733333333333333, Runtime: 0.81445 seconds\n",
            "INFO:mealpy.evolutionary_based.GA.EliteSingleGA:>>>Problem: P, Epoch: 8, Current best: 0.7733333333333333, Global best: 0.7733333333333333, Runtime: 3.37319 seconds\n",
            "INFO:mealpy.evolutionary_based.GA.EliteSingleGA:>>>Problem: P, Epoch: 9, Current best: 0.7733333333333333, Global best: 0.7733333333333333, Runtime: 0.86364 seconds\n",
            "INFO:mealpy.evolutionary_based.GA.EliteSingleGA:>>>Problem: P, Epoch: 10, Current best: 0.7733333333333333, Global best: 0.7733333333333333, Runtime: 0.84855 seconds\n",
            "INFO:mealpy.evolutionary_based.GA.EliteSingleGA:>>>Problem: P, Epoch: 11, Current best: 0.7733333333333333, Global best: 0.7733333333333333, Runtime: 0.84075 seconds\n",
            "INFO:mealpy.evolutionary_based.GA.EliteSingleGA:>>>Problem: P, Epoch: 12, Current best: 0.7733333333333333, Global best: 0.7733333333333333, Runtime: 0.81621 seconds\n",
            "INFO:mealpy.evolutionary_based.GA.EliteSingleGA:>>>Problem: P, Epoch: 13, Current best: 0.7733333333333333, Global best: 0.7733333333333333, Runtime: 0.85352 seconds\n",
            "INFO:mealpy.evolutionary_based.GA.EliteSingleGA:>>>Problem: P, Epoch: 14, Current best: 0.7733333333333333, Global best: 0.7733333333333333, Runtime: 0.86762 seconds\n",
            "INFO:mealpy.evolutionary_based.GA.EliteSingleGA:>>>Problem: P, Epoch: 15, Current best: 0.7733333333333333, Global best: 0.7733333333333333, Runtime: 0.93732 seconds\n",
            "INFO:mealpy.evolutionary_based.GA.EliteSingleGA:>>>Problem: P, Epoch: 16, Current best: 0.7733333333333333, Global best: 0.7733333333333333, Runtime: 0.81798 seconds\n",
            "INFO:mealpy.evolutionary_based.GA.EliteSingleGA:>>>Problem: P, Epoch: 17, Current best: 0.7733333333333333, Global best: 0.7733333333333333, Runtime: 0.83001 seconds\n",
            "INFO:mealpy.evolutionary_based.GA.EliteSingleGA:>>>Problem: P, Epoch: 18, Current best: 0.7733333333333333, Global best: 0.7733333333333333, Runtime: 0.84241 seconds\n",
            "INFO:mealpy.evolutionary_based.GA.EliteSingleGA:>>>Problem: P, Epoch: 19, Current best: 0.7733333333333333, Global best: 0.7733333333333333, Runtime: 0.83072 seconds\n",
            "INFO:mealpy.evolutionary_based.GA.EliteSingleGA:>>>Problem: P, Epoch: 20, Current best: 0.7733333333333333, Global best: 0.7733333333333333, Runtime: 3.27942 seconds\n"
          ]
        },
        {
          "output_type": "stream",
          "name": "stdout",
          "text": [
            "EliteSingleGA , 1\n"
          ]
        },
        {
          "output_type": "display_data",
          "data": {
            "text/plain": [
              "<Figure size 640x480 with 1 Axes>"
            ],
            "image/png": "[encoded data removed]"
          },
          "metadata": {}
        },
        {
          "output_type": "stream",
          "name": "stderr",
          "text": [
            "INFO:mealpy.evolutionary_based.GA.SingleGA:Solving single objective optimization problem.\n"
          ]
        },
        {
          "output_type": "stream",
          "name": "stdout",
          "text": [
            "SingleGA\n"
          ]
        },
        {
          "output_type": "stream",
          "name": "stderr",
          "text": [
            "INFO:mealpy.evolutionary_based.GA.SingleGA:>>>Problem: P, Epoch: 1, Current best: 0.7733333333333333, Global best: 0.7733333333333333, Runtime: 1.15896 seconds\n",
            "INFO:mealpy.evolutionary_based.GA.SingleGA:>>>Problem: P, Epoch: 2, Current best: 0.7733333333333333, Global best: 0.7733333333333333, Runtime: 0.98452 seconds\n",
            "INFO:mealpy.evolutionary_based.GA.SingleGA:>>>Problem: P, Epoch: 3, Current best: 0.7733333333333333, Global best: 0.7733333333333333, Runtime: 0.93181 seconds\n",
            "INFO:mealpy.evolutionary_based.GA.SingleGA:>>>Problem: P, Epoch: 4, Current best: 0.76, Global best: 0.7733333333333333, Runtime: 0.94411 seconds\n",
            "INFO:mealpy.evolutionary_based.GA.SingleGA:>>>Problem: P, Epoch: 5, Current best: 0.76, Global best: 0.7733333333333333, Runtime: 0.92167 seconds\n",
            "INFO:mealpy.evolutionary_based.GA.SingleGA:>>>Problem: P, Epoch: 6, Current best: 0.76, Global best: 0.7733333333333333, Runtime: 0.97078 seconds\n",
            "INFO:mealpy.evolutionary_based.GA.SingleGA:>>>Problem: P, Epoch: 7, Current best: 0.76, Global best: 0.7733333333333333, Runtime: 0.98645 seconds\n",
            "INFO:mealpy.evolutionary_based.GA.SingleGA:>>>Problem: P, Epoch: 8, Current best: 0.76, Global best: 0.7733333333333333, Runtime: 3.39564 seconds\n",
            "INFO:mealpy.evolutionary_based.GA.SingleGA:>>>Problem: P, Epoch: 9, Current best: 0.76, Global best: 0.7733333333333333, Runtime: 0.87930 seconds\n",
            "INFO:mealpy.evolutionary_based.GA.SingleGA:>>>Problem: P, Epoch: 10, Current best: 0.76, Global best: 0.7733333333333333, Runtime: 0.81612 seconds\n",
            "INFO:mealpy.evolutionary_based.GA.SingleGA:>>>Problem: P, Epoch: 11, Current best: 0.76, Global best: 0.7733333333333333, Runtime: 0.80030 seconds\n",
            "INFO:mealpy.evolutionary_based.GA.SingleGA:>>>Problem: P, Epoch: 12, Current best: 0.76, Global best: 0.7733333333333333, Runtime: 0.86478 seconds\n",
            "INFO:mealpy.evolutionary_based.GA.SingleGA:>>>Problem: P, Epoch: 13, Current best: 0.76, Global best: 0.7733333333333333, Runtime: 0.79814 seconds\n",
            "INFO:mealpy.evolutionary_based.GA.SingleGA:>>>Problem: P, Epoch: 14, Current best: 0.76, Global best: 0.7733333333333333, Runtime: 0.89120 seconds\n",
            "INFO:mealpy.evolutionary_based.GA.SingleGA:>>>Problem: P, Epoch: 15, Current best: 0.76, Global best: 0.7733333333333333, Runtime: 0.81055 seconds\n",
            "INFO:mealpy.evolutionary_based.GA.SingleGA:>>>Problem: P, Epoch: 16, Current best: 0.76, Global best: 0.7733333333333333, Runtime: 0.80237 seconds\n",
            "INFO:mealpy.evolutionary_based.GA.SingleGA:>>>Problem: P, Epoch: 17, Current best: 0.76, Global best: 0.7733333333333333, Runtime: 0.79243 seconds\n",
            "INFO:mealpy.evolutionary_based.GA.SingleGA:>>>Problem: P, Epoch: 18, Current best: 0.76, Global best: 0.7733333333333333, Runtime: 0.76562 seconds\n",
            "INFO:mealpy.evolutionary_based.GA.SingleGA:>>>Problem: P, Epoch: 19, Current best: 0.76, Global best: 0.7733333333333333, Runtime: 0.84201 seconds\n",
            "INFO:mealpy.evolutionary_based.GA.SingleGA:>>>Problem: P, Epoch: 20, Current best: 0.76, Global best: 0.7733333333333333, Runtime: 1.80414 seconds\n"
          ]
        },
        {
          "output_type": "stream",
          "name": "stdout",
          "text": [
            "SingleGA , 2\n"
          ]
        },
        {
          "output_type": "display_data",
          "data": {
            "text/plain": [
              "<Figure size 640x480 with 1 Axes>"
            ],
            "image/png": "[encoded data removed]"
          },
          "metadata": {}
        },
        {
          "output_type": "stream",
          "name": "stderr",
          "text": [
            "INFO:mealpy.evolutionary_based.MA.OriginalMA:Solving single objective optimization problem.\n"
          ]
        },
        {
          "output_type": "stream",
          "name": "stdout",
          "text": [
            "OriginalMA\n"
          ]
        },
        {
          "output_type": "stream",
          "name": "stderr",
          "text": [
            "INFO:mealpy.evolutionary_based.MA.OriginalMA:>>>Problem: P, Epoch: 1, Current best: 0.7733333333333333, Global best: 0.7733333333333333, Runtime: 25.63360 seconds\n",
            "INFO:mealpy.evolutionary_based.MA.OriginalMA:>>>Problem: P, Epoch: 2, Current best: 0.7733333333333333, Global best: 0.7733333333333333, Runtime: 20.02367 seconds\n",
            "INFO:mealpy.evolutionary_based.MA.OriginalMA:>>>Problem: P, Epoch: 3, Current best: 0.76, Global best: 0.7733333333333333, Runtime: 19.53281 seconds\n",
            "INFO:mealpy.evolutionary_based.MA.OriginalMA:>>>Problem: P, Epoch: 4, Current best: 0.7733333333333333, Global best: 0.7733333333333333, Runtime: 14.86626 seconds\n",
            "INFO:mealpy.evolutionary_based.MA.OriginalMA:>>>Problem: P, Epoch: 5, Current best: 0.7733333333333333, Global best: 0.7733333333333333, Runtime: 16.36684 seconds\n",
            "INFO:mealpy.evolutionary_based.MA.OriginalMA:>>>Problem: P, Epoch: 6, Current best: 0.7733333333333333, Global best: 0.7733333333333333, Runtime: 12.80858 seconds\n",
            "INFO:mealpy.evolutionary_based.MA.OriginalMA:>>>Problem: P, Epoch: 7, Current best: 0.7733333333333333, Global best: 0.7733333333333333, Runtime: 23.17115 seconds\n",
            "INFO:mealpy.evolutionary_based.MA.OriginalMA:>>>Problem: P, Epoch: 8, Current best: 0.7733333333333333, Global best: 0.7733333333333333, Runtime: 15.29875 seconds\n",
            "INFO:mealpy.evolutionary_based.MA.OriginalMA:>>>Problem: P, Epoch: 9, Current best: 0.7733333333333333, Global best: 0.7733333333333333, Runtime: 18.51884 seconds\n",
            "INFO:mealpy.evolutionary_based.MA.OriginalMA:>>>Problem: P, Epoch: 10, Current best: 0.76, Global best: 0.7733333333333333, Runtime: 17.45701 seconds\n",
            "INFO:mealpy.evolutionary_based.MA.OriginalMA:>>>Problem: P, Epoch: 11, Current best: 0.7733333333333333, Global best: 0.7733333333333333, Runtime: 16.84168 seconds\n",
            "INFO:mealpy.evolutionary_based.MA.OriginalMA:>>>Problem: P, Epoch: 12, Current best: 0.7733333333333333, Global best: 0.7733333333333333, Runtime: 9.67264 seconds\n",
            "INFO:mealpy.evolutionary_based.MA.OriginalMA:>>>Problem: P, Epoch: 13, Current best: 0.7733333333333333, Global best: 0.7733333333333333, Runtime: 18.71842 seconds\n",
            "INFO:mealpy.evolutionary_based.MA.OriginalMA:>>>Problem: P, Epoch: 14, Current best: 0.7733333333333333, Global best: 0.7733333333333333, Runtime: 20.19364 seconds\n",
            "INFO:mealpy.evolutionary_based.MA.OriginalMA:>>>Problem: P, Epoch: 15, Current best: 0.7733333333333333, Global best: 0.7733333333333333, Runtime: 16.18887 seconds\n",
            "INFO:mealpy.evolutionary_based.MA.OriginalMA:>>>Problem: P, Epoch: 16, Current best: 0.7733333333333333, Global best: 0.7733333333333333, Runtime: 23.06889 seconds\n",
            "INFO:mealpy.evolutionary_based.MA.OriginalMA:>>>Problem: P, Epoch: 17, Current best: 0.7733333333333333, Global best: 0.7733333333333333, Runtime: 12.17876 seconds\n",
            "INFO:mealpy.evolutionary_based.MA.OriginalMA:>>>Problem: P, Epoch: 18, Current best: 0.7733333333333333, Global best: 0.7733333333333333, Runtime: 11.27313 seconds\n",
            "INFO:mealpy.evolutionary_based.MA.OriginalMA:>>>Problem: P, Epoch: 19, Current best: 0.7733333333333333, Global best: 0.7733333333333333, Runtime: 14.59525 seconds\n",
            "INFO:mealpy.evolutionary_based.MA.OriginalMA:>>>Problem: P, Epoch: 20, Current best: 0.7733333333333333, Global best: 0.7733333333333333, Runtime: 22.13766 seconds\n"
          ]
        },
        {
          "output_type": "stream",
          "name": "stdout",
          "text": [
            "OriginalMA , 2\n"
          ]
        },
        {
          "output_type": "display_data",
          "data": {
            "text/plain": [
              "<Figure size 640x480 with 1 Axes>"
            ],
            "image/png": "[encoded data removed]"
          },
          "metadata": {}
        },
        {
          "output_type": "stream",
          "name": "stderr",
          "text": [
            "INFO:mealpy.bio_based.BBO.OriginalBBO:Solving single objective optimization problem.\n"
          ]
        },
        {
          "output_type": "stream",
          "name": "stdout",
          "text": [
            "OriginalBBO\n"
          ]
        },
        {
          "output_type": "stream",
          "name": "stderr",
          "text": [
            "INFO:mealpy.bio_based.BBO.OriginalBBO:>>>Problem: P, Epoch: 1, Current best: 0.7733333333333333, Global best: 0.7733333333333333, Runtime: 1.81580 seconds\n",
            "INFO:mealpy.bio_based.BBO.OriginalBBO:>>>Problem: P, Epoch: 2, Current best: 0.7733333333333333, Global best: 0.7733333333333333, Runtime: 1.16857 seconds\n",
            "INFO:mealpy.bio_based.BBO.OriginalBBO:>>>Problem: P, Epoch: 3, Current best: 0.7733333333333333, Global best: 0.7733333333333333, Runtime: 0.96350 seconds\n",
            "INFO:mealpy.bio_based.BBO.OriginalBBO:>>>Problem: P, Epoch: 4, Current best: 0.7733333333333333, Global best: 0.7733333333333333, Runtime: 0.76236 seconds\n",
            "INFO:mealpy.bio_based.BBO.OriginalBBO:>>>Problem: P, Epoch: 5, Current best: 0.7733333333333333, Global best: 0.7733333333333333, Runtime: 0.77901 seconds\n",
            "INFO:mealpy.bio_based.BBO.OriginalBBO:>>>Problem: P, Epoch: 6, Current best: 0.7733333333333333, Global best: 0.7733333333333333, Runtime: 0.76955 seconds\n",
            "INFO:mealpy.bio_based.BBO.OriginalBBO:>>>Problem: P, Epoch: 7, Current best: 0.7733333333333333, Global best: 0.7733333333333333, Runtime: 3.28637 seconds\n",
            "INFO:mealpy.bio_based.BBO.OriginalBBO:>>>Problem: P, Epoch: 8, Current best: 0.7733333333333333, Global best: 0.7733333333333333, Runtime: 0.78057 seconds\n",
            "INFO:mealpy.bio_based.BBO.OriginalBBO:>>>Problem: P, Epoch: 9, Current best: 0.7733333333333333, Global best: 0.7733333333333333, Runtime: 0.75736 seconds\n",
            "INFO:mealpy.bio_based.BBO.OriginalBBO:>>>Problem: P, Epoch: 10, Current best: 0.7733333333333333, Global best: 0.7733333333333333, Runtime: 0.81343 seconds\n",
            "INFO:mealpy.bio_based.BBO.OriginalBBO:>>>Problem: P, Epoch: 11, Current best: 0.7733333333333333, Global best: 0.7733333333333333, Runtime: 0.76086 seconds\n",
            "INFO:mealpy.bio_based.BBO.OriginalBBO:>>>Problem: P, Epoch: 12, Current best: 0.7733333333333333, Global best: 0.7733333333333333, Runtime: 0.78525 seconds\n",
            "INFO:mealpy.bio_based.BBO.OriginalBBO:>>>Problem: P, Epoch: 13, Current best: 0.7733333333333333, Global best: 0.7733333333333333, Runtime: 0.72399 seconds\n",
            "INFO:mealpy.bio_based.BBO.OriginalBBO:>>>Problem: P, Epoch: 14, Current best: 0.7733333333333333, Global best: 0.7733333333333333, Runtime: 0.75015 seconds\n",
            "INFO:mealpy.bio_based.BBO.OriginalBBO:>>>Problem: P, Epoch: 15, Current best: 0.7733333333333333, Global best: 0.7733333333333333, Runtime: 0.85011 seconds\n",
            "INFO:mealpy.bio_based.BBO.OriginalBBO:>>>Problem: P, Epoch: 16, Current best: 0.7733333333333333, Global best: 0.7733333333333333, Runtime: 0.75230 seconds\n",
            "INFO:mealpy.bio_based.BBO.OriginalBBO:>>>Problem: P, Epoch: 17, Current best: 0.7733333333333333, Global best: 0.7733333333333333, Runtime: 0.74752 seconds\n",
            "INFO:mealpy.bio_based.BBO.OriginalBBO:>>>Problem: P, Epoch: 18, Current best: 0.7733333333333333, Global best: 0.7733333333333333, Runtime: 0.74530 seconds\n",
            "INFO:mealpy.bio_based.BBO.OriginalBBO:>>>Problem: P, Epoch: 19, Current best: 0.7733333333333333, Global best: 0.7733333333333333, Runtime: 0.73474 seconds\n",
            "INFO:mealpy.bio_based.BBO.OriginalBBO:>>>Problem: P, Epoch: 20, Current best: 0.7733333333333333, Global best: 0.7733333333333333, Runtime: 0.90534 seconds\n"
          ]
        },
        {
          "output_type": "stream",
          "name": "stdout",
          "text": [
            "OriginalBBO , 1\n"
          ]
        },
        {
          "output_type": "display_data",
          "data": {
            "text/plain": [
              "<Figure size 640x480 with 1 Axes>"
            ],
            "image/png": "[encoded data removed]"
          },
          "metadata": {}
        }
      ]
    },
    {
      "cell_type": "code",
      "source": [
        "a"
      ],
      "metadata": {
        "colab": {
          "base_uri": "https://localhost:8080/"
        },
        "id": "NrMouDrK2An0",
        "outputId": "442144f3-8ee1-4b71-c96d-c85f286deb4f"
      },
      "execution_count": 61,
      "outputs": [
        {
          "output_type": "execute_result",
          "data": {
            "text/plain": [
              "1712011529.1762035"
            ]
          },
          "metadata": {},
          "execution_count": 61
        }
      ]
    },
    {
      "cell_type": "code",
      "source": [
        "model"
      ],
      "metadata": {
        "colab": {
          "base_uri": "https://localhost:8080/"
        },
        "id": "JN3GUj0Ji0OR",
        "outputId": "32d13f28-aa74-40c2-e5bd-22164684065c"
      },
      "execution_count": null,
      "outputs": [
        {
          "output_type": "execute_result",
          "data": {
            "text/plain": [
              "<mealpy.evolutionary_based.EP.LevyEP at 0x7a81a2f65390>"
            ]
          },
          "metadata": {},
          "execution_count": 78
        }
      ]
    },
    {
      "cell_type": "code",
      "source": [
        "# class XGBOptimizedProblem(Problem):\n",
        "#     def __init__(self, bounds=None, minmax=\"max\", data=None, **kwargs):\n",
        "#         self.data = data\n",
        "#         super().__init__(bounds, minmax, **kwargs)\n",
        "\n",
        "#     def obj_func(self, x):\n",
        "#         # modelname = 'OriginalCRO'\n",
        "#         x_decoded = self.decode_solution(x)\n",
        "#         xgb = RandomForestClassifier(max_depth=x_decoded[\"maxdepth\"],n_estimators=x_decoded[\"nestimators\"]\n",
        "#                                 #    ,random_state=x_decoded['randomstate']\n",
        "#                                    ,random_state = 8\n",
        "#                                    )\n",
        "\n",
        "#         xgb.fit(self.data[\"X_train\"], self.data[\"y_train\"])\n",
        "#         y_predict = xgb.predict(self.data[\"X_test\"])\n",
        "#         acc = accuracy_score(self.data[\"y_test\"], y_predict)\n",
        "#         pre = precision_score(self.data[\"y_test\"], y_predict,average='macro')\n",
        "#         rec = recall_score(self.data[\"y_test\"], y_predict,average='macro')\n",
        "#         f1 = f1_score(self.data[\"y_test\"], y_predict,average='macro')\n",
        "\n",
        "#         print(acc,pre,rec,f1,round(x_decoded[\"maxdepth\"]),round(x_decoded[\"maxdepth\"])\n",
        "#         # ,round(x_decoded[\"maxdepth\"])\n",
        "#         ,file=open(f'{pathm}{modelname}.txt','a'))\n",
        "#         return accuracy_score(self.data[\"y_test\"], y_predict)\n",
        "\n",
        "# my_bounds = [\n",
        "#     IntegerVar(lb=2, ub=30, name=\"maxdepth\"),\n",
        "#     IntegerVar(lb=10, ub=800, name=\"nestimators\"),\n",
        "#     # IntegerVar(lb=0, ub=100, name=\"randomstate\"),\n",
        "# ]"
      ],
      "metadata": {
        "id": "RuKp7aMEU8jo"
      },
      "execution_count": null,
      "outputs": []
    },
    {
      "cell_type": "code",
      "source": [
        "# pathmn = '/content/drive/MyDrive/work brain 68/modelfin/f1.txt'"
      ],
      "metadata": {
        "id": "dvh224m4v4ec"
      },
      "execution_count": null,
      "outputs": []
    },
    {
      "cell_type": "code",
      "source": [
        "# full.plot(kind='bar')\n",
        "# plt.xticks(rotation=0)\n",
        "# plt.ylim(0.9,1.2)\n",
        "# plt.savefig(f'{path}finalresultsonfull.png',bbox_inches='tight')\n",
        "# full.to_csv(f'{path}finalresultsonfull.csv')"
      ],
      "metadata": {
        "id": "-vqZ860PcFsO"
      },
      "execution_count": null,
      "outputs": []
    },
    {
      "cell_type": "code",
      "source": [
        "# s2 = pd.read_csv('/content/drive/MyDrive/work brain 68/res2.csv')"
      ],
      "metadata": {
        "id": "Nq3DYYqjcJ-_"
      },
      "execution_count": null,
      "outputs": []
    },
    {
      "cell_type": "code",
      "source": [
        "# s2.drop('metrics.1',axis=1,inplace=True)"
      ],
      "metadata": {
        "id": "7SJfEh6QcMka"
      },
      "execution_count": null,
      "outputs": []
    },
    {
      "cell_type": "code",
      "source": [
        "# s2"
      ],
      "metadata": {
        "id": "ULD9INYBcVi-"
      },
      "execution_count": null,
      "outputs": []
    },
    {
      "cell_type": "code",
      "source": [
        "# st = s.T"
      ],
      "metadata": {
        "id": "f9mdAdSjcznb"
      },
      "execution_count": null,
      "outputs": []
    },
    {
      "cell_type": "code",
      "source": [
        "# st.index = s2['metrics']\n",
        "# s2.index = s2['metrics']\n",
        "# s2.drop('metrics',axis=1,inplace=True)"
      ],
      "metadata": {
        "id": "AtCg0xEzpemo"
      },
      "execution_count": null,
      "outputs": []
    },
    {
      "cell_type": "code",
      "source": [
        "# s.index = s['0']\n",
        "# s.drop('0',axis=1,inplace=True)"
      ],
      "metadata": {
        "id": "Wh8iNwavco-4"
      },
      "execution_count": null,
      "outputs": []
    },
    {
      "cell_type": "code",
      "source": [
        "# s = pd.read_csv(f'{pathmn}', sep=' ', header=None)\n",
        "# s.columns = [f'{i}' for i in range(s.shape[1])]\n",
        "# s"
      ],
      "metadata": {
        "id": "rUnRqfW0u7Vf"
      },
      "execution_count": null,
      "outputs": []
    },
    {
      "cell_type": "code",
      "source": [
        "# s.to_csv('/content/drive/MyDrive/work brain 68/results3.csv',index=False)"
      ],
      "metadata": {
        "id": "o6_yFx8RCuAu"
      },
      "execution_count": null,
      "outputs": []
    },
    {
      "cell_type": "code",
      "source": [],
      "metadata": {
        "id": "fzopqJptl2S-"
      },
      "execution_count": null,
      "outputs": []
    },
    {
      "cell_type": "code",
      "source": [
        "for root,folds,files in os.walk('/content/drive/MyDrive/work brain 68/models'):\n",
        "    for i in files:\n",
        "        if 'csv' in i:\n",
        "            print(pd.read_csv(f'{root}/{i}').iloc[-1])\n"
      ],
      "metadata": {
        "colab": {
          "base_uri": "https://localhost:8080/"
        },
        "id": "0SXfJFz2u7MR",
        "outputId": "9c53d245-9014-43b2-8f64-bd57ff02be1e"
      },
      "execution_count": null,
      "outputs": [
        {
          "output_type": "stream",
          "name": "stdout",
          "text": [
            "0    0.992063\n",
            "Name: 599, dtype: float64\n",
            "0    0.993651\n",
            "Name: 599, dtype: float64\n",
            "0    0.993651\n",
            "Name: 599, dtype: float64\n",
            "0    0.993651\n",
            "Name: 599, dtype: float64\n",
            "0    0.992063\n",
            "Name: 599, dtype: float64\n",
            "0    0.992063\n",
            "Name: 599, dtype: float64\n"
          ]
        }
      ]
    },
    {
      "cell_type": "code",
      "source": [
        "path2 = f'{path}modtxt2/'"
      ],
      "metadata": {
        "id": "Wxrxz_LdqdN5"
      },
      "execution_count": 135,
      "outputs": []
    },
    {
      "cell_type": "code",
      "source": [
        "f = pd.DataFrame()"
      ],
      "metadata": {
        "id": "8QcbqoDGt8_C"
      },
      "execution_count": 136,
      "outputs": []
    },
    {
      "cell_type": "code",
      "source": [
        "for i,j,k in os.walk(path2):\n",
        "    for k1 in k:\n",
        "        s = pd.read_csv(i+k1,delimiter=' ',header=None)\n",
        "        f[f\"{k1.split('/')[0].split('.')[0] + '+ExtraTree'}\"] = list(s.sort_values(by=s.columns[2]).iloc[-1])[0:4]"
      ],
      "metadata": {
        "id": "6xaLMLRGl-3r"
      },
      "execution_count": 137,
      "outputs": []
    },
    {
      "cell_type": "code",
      "source": [
        "f.index = ['Accuracy','Precision','Recall','F1']\n",
        "f.drop(['LevyES+ExtraTree','BaseGA+ExtraTree','OriginalMA+ExtraTree'],axis=1,inplace=True)"
      ],
      "metadata": {
        "id": "QZKxzTlctqg-"
      },
      "execution_count": 138,
      "outputs": []
    },
    {
      "cell_type": "code",
      "source": [
        "f"
      ],
      "metadata": {
        "id": "D5Fz4UWiKTym",
        "outputId": "ed9f6cfb-5bf9-49bf-ae1c-00205a3621c2",
        "colab": {
          "base_uri": "https://localhost:8080/",
          "height": 175
        }
      },
      "execution_count": 139,
      "outputs": [
        {
          "output_type": "execute_result",
          "data": {
            "text/plain": [
              "           OriginalEP+ExtraTree  CMA_ES+ExtraTree  OriginalES+ExtraTree  \\\n",
              "Accuracy               0.773333          0.773333              0.773333   \n",
              "Precision              0.772370          0.786449              0.778186   \n",
              "Recall                 0.754399          0.744868              0.749633   \n",
              "F1                     0.759479          0.751994              0.755981   \n",
              "\n",
              "           OriginalFPA+ExtraTree  EliteSingleGA+ExtraTree  SingleGA+ExtraTree  \\\n",
              "Accuracy                0.773333                 0.773333            0.773333   \n",
              "Precision               0.778186                 0.786449            0.778186   \n",
              "Recall                  0.749633                 0.744868            0.749633   \n",
              "F1                      0.755981                 0.751994            0.755981   \n",
              "\n",
              "           OriginalBBO+ExtraTree  \n",
              "Accuracy                0.773333  \n",
              "Precision               0.786449  \n",
              "Recall                  0.744868  \n",
              "F1                      0.751994  "
            ],
            "text/html": [
              "\n",
              "  <div id=\"df-2be85f20-3e03-4ea5-bb32-b0746e1a7ac7\" class=\"colab-df-container\">\n",
              "    <div>\n",
              "<style scoped>\n",
              "    .dataframe tbody tr th:only-of-type {\n",
              "        vertical-align: middle;\n",
              "    }\n",
              "\n",
              "    .dataframe tbody tr th {\n",
              "        vertical-align: top;\n",
              "    }\n",
              "\n",
              "    .dataframe thead th {\n",
              "        text-align: right;\n",
              "    }\n",
              "</style>\n",
              "<table border=\"1\" class=\"dataframe\">\n",
              "  <thead>\n",
              "    <tr style=\"text-align: right;\">\n",
              "      <th></th>\n",
              "      <th>OriginalEP+ExtraTree</th>\n",
              "      <th>CMA_ES+ExtraTree</th>\n",
              "      <th>OriginalES+ExtraTree</th>\n",
              "      <th>OriginalFPA+ExtraTree</th>\n",
              "      <th>EliteSingleGA+ExtraTree</th>\n",
              "      <th>SingleGA+ExtraTree</th>\n",
              "      <th>OriginalBBO+ExtraTree</th>\n",
              "    </tr>\n",
              "  </thead>\n",
              "  <tbody>\n",
              "    <tr>\n",
              "      <th>Accuracy</th>\n",
              "      <td>0.773333</td>\n",
              "      <td>0.773333</td>\n",
              "      <td>0.773333</td>\n",
              "      <td>0.773333</td>\n",
              "      <td>0.773333</td>\n",
              "      <td>0.773333</td>\n",
              "      <td>0.773333</td>\n",
              "    </tr>\n",
              "    <tr>\n",
              "      <th>Precision</th>\n",
              "      <td>0.772370</td>\n",
              "      <td>0.786449</td>\n",
              "      <td>0.778186</td>\n",
              "      <td>0.778186</td>\n",
              "      <td>0.786449</td>\n",
              "      <td>0.778186</td>\n",
              "      <td>0.786449</td>\n",
              "    </tr>\n",
              "    <tr>\n",
              "      <th>Recall</th>\n",
              "      <td>0.754399</td>\n",
              "      <td>0.744868</td>\n",
              "      <td>0.749633</td>\n",
              "      <td>0.749633</td>\n",
              "      <td>0.744868</td>\n",
              "      <td>0.749633</td>\n",
              "      <td>0.744868</td>\n",
              "    </tr>\n",
              "    <tr>\n",
              "      <th>F1</th>\n",
              "      <td>0.759479</td>\n",
              "      <td>0.751994</td>\n",
              "      <td>0.755981</td>\n",
              "      <td>0.755981</td>\n",
              "      <td>0.751994</td>\n",
              "      <td>0.755981</td>\n",
              "      <td>0.751994</td>\n",
              "    </tr>\n",
              "  </tbody>\n",
              "</table>\n",
              "</div>\n",
              "    <div class=\"colab-df-buttons\">\n",
              "\n",
              "  <div class=\"colab-df-container\">\n",
              "    <button class=\"colab-df-convert\" onclick=\"convertToInteractive('df-2be85f20-3e03-4ea5-bb32-b0746e1a7ac7')\"\n",
              "            title=\"Convert this dataframe to an interactive table.\"\n",
              "            style=\"display:none;\">\n",
              "\n",
              "  <svg xmlns=\"http://www.w3.org/2000/svg\" height=\"24px\" viewBox=\"0 -960 960 960\">\n",
              "    <path d=\"M120-120v-720h720v720H120Zm60-500h600v-160H180v160Zm220 220h160v-160H400v160Zm0 220h160v-160H400v160ZM180-400h160v-160H180v160Zm440 0h160v-160H620v160ZM180-180h160v-160H180v160Zm440 0h160v-160H620v160Z\"/>\n",
              "  </svg>\n",
              "    </button>\n",
              "\n",
              "  <style>\n",
              "    .colab-df-container {\n",
              "      display:flex;\n",
              "      gap: 12px;\n",
              "    }\n",
              "\n",
              "    .colab-df-convert {\n",
              "      background-color: #E8F0FE;\n",
              "      border: none;\n",
              "      border-radius: 50%;\n",
              "      cursor: pointer;\n",
              "      display: none;\n",
              "      fill: #1967D2;\n",
              "      height: 32px;\n",
              "      padding: 0 0 0 0;\n",
              "      width: 32px;\n",
              "    }\n",
              "\n",
              "    .colab-df-convert:hover {\n",
              "      background-color: #E2EBFA;\n",
              "      box-shadow: 0px 1px 2px rgba(60, 64, 67, 0.3), 0px 1px 3px 1px rgba(60, 64, 67, 0.15);\n",
              "      fill: #174EA6;\n",
              "    }\n",
              "\n",
              "    .colab-df-buttons div {\n",
              "      margin-bottom: 4px;\n",
              "    }\n",
              "\n",
              "    [theme=dark] .colab-df-convert {\n",
              "      background-color: #3B4455;\n",
              "      fill: #D2E3FC;\n",
              "    }\n",
              "\n",
              "    [theme=dark] .colab-df-convert:hover {\n",
              "      background-color: #434B5C;\n",
              "      box-shadow: 0px 1px 3px 1px rgba(0, 0, 0, 0.15);\n",
              "      filter: drop-shadow(0px 1px 2px rgba(0, 0, 0, 0.3));\n",
              "      fill: #FFFFFF;\n",
              "    }\n",
              "  </style>\n",
              "\n",
              "    <script>\n",
              "      const buttonEl =\n",
              "        document.querySelector('#df-2be85f20-3e03-4ea5-bb32-b0746e1a7ac7 button.colab-df-convert');\n",
              "      buttonEl.style.display =\n",
              "        google.colab.kernel.accessAllowed ? 'block' : 'none';\n",
              "\n",
              "      async function convertToInteractive(key) {\n",
              "        const element = document.querySelector('#df-2be85f20-3e03-4ea5-bb32-b0746e1a7ac7');\n",
              "        const dataTable =\n",
              "          await google.colab.kernel.invokeFunction('convertToInteractive',\n",
              "                                                    [key], {});\n",
              "        if (!dataTable) return;\n",
              "\n",
              "        const docLinkHtml = 'Like what you see? Visit the ' +\n",
              "          '<a target=\"_blank\" href=https://colab.research.google.com/notebooks/data_table.ipynb>data table notebook</a>'\n",
              "          + ' to learn more about interactive tables.';\n",
              "        element.innerHTML = '';\n",
              "        dataTable['output_type'] = 'display_data';\n",
              "        await google.colab.output.renderOutput(dataTable, element);\n",
              "        const docLink = document.createElement('div');\n",
              "        docLink.innerHTML = docLinkHtml;\n",
              "        element.appendChild(docLink);\n",
              "      }\n",
              "    </script>\n",
              "  </div>\n",
              "\n",
              "\n",
              "<div id=\"df-5a83a490-f541-4907-9279-6ad7fab5bd90\">\n",
              "  <button class=\"colab-df-quickchart\" onclick=\"quickchart('df-5a83a490-f541-4907-9279-6ad7fab5bd90')\"\n",
              "            title=\"Suggest charts\"\n",
              "            style=\"display:none;\">\n",
              "\n",
              "<svg xmlns=\"http://www.w3.org/2000/svg\" height=\"24px\"viewBox=\"0 0 24 24\"\n",
              "     width=\"24px\">\n",
              "    <g>\n",
              "        <path d=\"M19 3H5c-1.1 0-2 .9-2 2v14c0 1.1.9 2 2 2h14c1.1 0 2-.9 2-2V5c0-1.1-.9-2-2-2zM9 17H7v-7h2v7zm4 0h-2V7h2v10zm4 0h-2v-4h2v4z\"/>\n",
              "    </g>\n",
              "</svg>\n",
              "  </button>\n",
              "\n",
              "<style>\n",
              "  .colab-df-quickchart {\n",
              "      --bg-color: #E8F0FE;\n",
              "      --fill-color: #1967D2;\n",
              "      --hover-bg-color: #E2EBFA;\n",
              "      --hover-fill-color: #174EA6;\n",
              "      --disabled-fill-color: #AAA;\n",
              "      --disabled-bg-color: #DDD;\n",
              "  }\n",
              "\n",
              "  [theme=dark] .colab-df-quickchart {\n",
              "      --bg-color: #3B4455;\n",
              "      --fill-color: #D2E3FC;\n",
              "      --hover-bg-color: #434B5C;\n",
              "      --hover-fill-color: #FFFFFF;\n",
              "      --disabled-bg-color: #3B4455;\n",
              "      --disabled-fill-color: #666;\n",
              "  }\n",
              "\n",
              "  .colab-df-quickchart {\n",
              "    background-color: var(--bg-color);\n",
              "    border: none;\n",
              "    border-radius: 50%;\n",
              "    cursor: pointer;\n",
              "    display: none;\n",
              "    fill: var(--fill-color);\n",
              "    height: 32px;\n",
              "    padding: 0;\n",
              "    width: 32px;\n",
              "  }\n",
              "\n",
              "  .colab-df-quickchart:hover {\n",
              "    background-color: var(--hover-bg-color);\n",
              "    box-shadow: 0 1px 2px rgba(60, 64, 67, 0.3), 0 1px 3px 1px rgba(60, 64, 67, 0.15);\n",
              "    fill: var(--button-hover-fill-color);\n",
              "  }\n",
              "\n",
              "  .colab-df-quickchart-complete:disabled,\n",
              "  .colab-df-quickchart-complete:disabled:hover {\n",
              "    background-color: var(--disabled-bg-color);\n",
              "    fill: var(--disabled-fill-color);\n",
              "    box-shadow: none;\n",
              "  }\n",
              "\n",
              "  .colab-df-spinner {\n",
              "    border: 2px solid var(--fill-color);\n",
              "    border-color: transparent;\n",
              "    border-bottom-color: var(--fill-color);\n",
              "    animation:\n",
              "      spin 1s steps(1) infinite;\n",
              "  }\n",
              "\n",
              "  @keyframes spin {\n",
              "    0% {\n",
              "      border-color: transparent;\n",
              "      border-bottom-color: var(--fill-color);\n",
              "      border-left-color: var(--fill-color);\n",
              "    }\n",
              "    20% {\n",
              "      border-color: transparent;\n",
              "      border-left-color: var(--fill-color);\n",
              "      border-top-color: var(--fill-color);\n",
              "    }\n",
              "    30% {\n",
              "      border-color: transparent;\n",
              "      border-left-color: var(--fill-color);\n",
              "      border-top-color: var(--fill-color);\n",
              "      border-right-color: var(--fill-color);\n",
              "    }\n",
              "    40% {\n",
              "      border-color: transparent;\n",
              "      border-right-color: var(--fill-color);\n",
              "      border-top-color: var(--fill-color);\n",
              "    }\n",
              "    60% {\n",
              "      border-color: transparent;\n",
              "      border-right-color: var(--fill-color);\n",
              "    }\n",
              "    80% {\n",
              "      border-color: transparent;\n",
              "      border-right-color: var(--fill-color);\n",
              "      border-bottom-color: var(--fill-color);\n",
              "    }\n",
              "    90% {\n",
              "      border-color: transparent;\n",
              "      border-bottom-color: var(--fill-color);\n",
              "    }\n",
              "  }\n",
              "</style>\n",
              "\n",
              "  <script>\n",
              "    async function quickchart(key) {\n",
              "      const quickchartButtonEl =\n",
              "        document.querySelector('#' + key + ' button');\n",
              "      quickchartButtonEl.disabled = true;  // To prevent multiple clicks.\n",
              "      quickchartButtonEl.classList.add('colab-df-spinner');\n",
              "      try {\n",
              "        const charts = await google.colab.kernel.invokeFunction(\n",
              "            'suggestCharts', [key], {});\n",
              "      } catch (error) {\n",
              "        console.error('Error during call to suggestCharts:', error);\n",
              "      }\n",
              "      quickchartButtonEl.classList.remove('colab-df-spinner');\n",
              "      quickchartButtonEl.classList.add('colab-df-quickchart-complete');\n",
              "    }\n",
              "    (() => {\n",
              "      let quickchartButtonEl =\n",
              "        document.querySelector('#df-5a83a490-f541-4907-9279-6ad7fab5bd90 button');\n",
              "      quickchartButtonEl.style.display =\n",
              "        google.colab.kernel.accessAllowed ? 'block' : 'none';\n",
              "    })();\n",
              "  </script>\n",
              "</div>\n",
              "    </div>\n",
              "  </div>\n"
            ],
            "application/vnd.google.colaboratory.intrinsic+json": {
              "type": "dataframe",
              "variable_name": "f",
              "summary": "{\n  \"name\": \"f\",\n  \"rows\": 4,\n  \"fields\": [\n    {\n      \"column\": \"OriginalEP+ExtraTree\",\n      \"properties\": {\n        \"dtype\": \"number\",\n        \"std\": 0.00942668821991076,\n        \"min\": 0.7543988269794721,\n        \"max\": 0.7733333333333333,\n        \"num_unique_values\": 4,\n        \"samples\": [\n          0.7723704866562009,\n          0.7594793435200905,\n          0.7733333333333333\n        ],\n        \"semantic_type\": \"\",\n        \"description\": \"\"\n      }\n    },\n    {\n      \"column\": \"CMA_ES+ExtraTree\",\n      \"properties\": {\n        \"dtype\": \"number\",\n        \"std\": 0.01915867340927585,\n        \"min\": 0.7448680351906158,\n        \"max\": 0.7864493996569468,\n        \"num_unique_values\": 4,\n        \"samples\": [\n          0.7864493996569468,\n          0.7519937755300526,\n          0.7733333333333333\n        ],\n        \"semantic_type\": \"\",\n        \"description\": \"\"\n      }\n    },\n    {\n      \"column\": \"OriginalES+ExtraTree\",\n      \"properties\": {\n        \"dtype\": \"number\",\n        \"std\": 0.013647282415122641,\n        \"min\": 0.749633431085044,\n        \"max\": 0.7781862745098038,\n        \"num_unique_values\": 4,\n        \"samples\": [\n          0.7781862745098038,\n          0.7559808612440191,\n          0.7733333333333333\n        ],\n        \"semantic_type\": \"\",\n        \"description\": \"\"\n      }\n    },\n    {\n      \"column\": \"OriginalFPA+ExtraTree\",\n      \"properties\": {\n        \"dtype\": \"number\",\n        \"std\": 0.013647282415122641,\n        \"min\": 0.749633431085044,\n        \"max\": 0.7781862745098038,\n        \"num_unique_values\": 4,\n        \"samples\": [\n          0.7781862745098038,\n          0.7559808612440191,\n          0.7733333333333333\n        ],\n        \"semantic_type\": \"\",\n        \"description\": \"\"\n      }\n    },\n    {\n      \"column\": \"EliteSingleGA+ExtraTree\",\n      \"properties\": {\n        \"dtype\": \"number\",\n        \"std\": 0.01915867340927585,\n        \"min\": 0.7448680351906158,\n        \"max\": 0.7864493996569468,\n        \"num_unique_values\": 4,\n        \"samples\": [\n          0.7864493996569468,\n          0.7519937755300526,\n          0.7733333333333333\n        ],\n        \"semantic_type\": \"\",\n        \"description\": \"\"\n      }\n    },\n    {\n      \"column\": \"SingleGA+ExtraTree\",\n      \"properties\": {\n        \"dtype\": \"number\",\n        \"std\": 0.013647282415122641,\n        \"min\": 0.749633431085044,\n        \"max\": 0.7781862745098038,\n        \"num_unique_values\": 4,\n        \"samples\": [\n          0.7781862745098038,\n          0.7559808612440191,\n          0.7733333333333333\n        ],\n        \"semantic_type\": \"\",\n        \"description\": \"\"\n      }\n    },\n    {\n      \"column\": \"OriginalBBO+ExtraTree\",\n      \"properties\": {\n        \"dtype\": \"number\",\n        \"std\": 0.01915867340927585,\n        \"min\": 0.7448680351906158,\n        \"max\": 0.7864493996569468,\n        \"num_unique_values\": 4,\n        \"samples\": [\n          0.7864493996569468,\n          0.7519937755300526,\n          0.7733333333333333\n        ],\n        \"semantic_type\": \"\",\n        \"description\": \"\"\n      }\n    }\n  ]\n}"
            }
          },
          "metadata": {},
          "execution_count": 139
        }
      ]
    },
    {
      "cell_type": "code",
      "source": [
        "f.plot(kind='barh',grid=True)\n",
        "plt.xlim(0.74,0.8)\n",
        "f.to_csv(f'{path}results.csv')\n",
        "plt.savefig(f'{path}results.png')"
      ],
      "metadata": {
        "colab": {
          "base_uri": "https://localhost:8080/",
          "height": 430
        },
        "id": "fX4dLTSrpw6u",
        "outputId": "2c951a21-cb5c-4539-90d7-3406e5c0dfc1"
      },
      "execution_count": 143,
      "outputs": [
        {
          "output_type": "display_data",
          "data": {
            "text/plain": [
              "<Figure size 640x480 with 1 Axes>"
            ],
            "image/png": "[encoded data removed]"
          },
          "metadata": {}
        }
      ]
    },
    {
      "cell_type": "code",
      "source": [
        "f2 = pd.read_csv('/content/drive/MyDrive/work73heart/original_results.csv')\n",
        "list(f2[f2.columns[1]])"
      ],
      "metadata": {
        "colab": {
          "base_uri": "https://localhost:8080/"
        },
        "id": "qvIpHFt-sEgX",
        "outputId": "6ef28d1e-6556-4b16-93e5-3c955115ad1a"
      },
      "execution_count": 153,
      "outputs": [
        {
          "output_type": "execute_result",
          "data": {
            "text/plain": [
              "[0.7466666666666667,\n",
              " 0.7636363636363637,\n",
              " 0.7126099706744868,\n",
              " 0.7177658942364825]"
            ]
          },
          "metadata": {},
          "execution_count": 153
        }
      ]
    },
    {
      "cell_type": "code",
      "source": [
        "list(f[f.columns[3]])"
      ],
      "metadata": {
        "id": "1BXdM4HbsISk",
        "colab": {
          "base_uri": "https://localhost:8080/"
        },
        "outputId": "b2784d9e-c559-4a31-d398-64e71cd795a5"
      },
      "execution_count": 154,
      "outputs": [
        {
          "output_type": "execute_result",
          "data": {
            "text/plain": [
              "[0.7733333333333333, 0.7781862745098038, 0.749633431085044, 0.7559808612440191]"
            ]
          },
          "metadata": {},
          "execution_count": 154
        }
      ]
    },
    {
      "cell_type": "code",
      "source": [
        "l2 = pd.DataFrame()\n",
        "l2['ExtraTree'] = list(f2[f2.columns[1]])\n",
        "l2['OriginalEP+ExtraTree'] = list(f[f.columns[3]])\n",
        "l2"
      ],
      "metadata": {
        "id": "NJelT-fHtP04",
        "colab": {
          "base_uri": "https://localhost:8080/",
          "height": 175
        },
        "outputId": "b3a54da8-71e9-423a-fb90-722e99f87d91"
      },
      "execution_count": 155,
      "outputs": [
        {
          "output_type": "execute_result",
          "data": {
            "text/plain": [
              "   ExtraTree  OriginalEP+ExtraTree\n",
              "0   0.746667              0.773333\n",
              "1   0.763636              0.778186\n",
              "2   0.712610              0.749633\n",
              "3   0.717766              0.755981"
            ],
            "text/html": [
              "\n",
              "  <div id=\"df-69cdb1a3-9fa7-48d5-8700-81a28177d250\" class=\"colab-df-container\">\n",
              "    <div>\n",
              "<style scoped>\n",
              "    .dataframe tbody tr th:only-of-type {\n",
              "        vertical-align: middle;\n",
              "    }\n",
              "\n",
              "    .dataframe tbody tr th {\n",
              "        vertical-align: top;\n",
              "    }\n",
              "\n",
              "    .dataframe thead th {\n",
              "        text-align: right;\n",
              "    }\n",
              "</style>\n",
              "<table border=\"1\" class=\"dataframe\">\n",
              "  <thead>\n",
              "    <tr style=\"text-align: right;\">\n",
              "      <th></th>\n",
              "      <th>ExtraTree</th>\n",
              "      <th>OriginalEP+ExtraTree</th>\n",
              "    </tr>\n",
              "  </thead>\n",
              "  <tbody>\n",
              "    <tr>\n",
              "      <th>0</th>\n",
              "      <td>0.746667</td>\n",
              "      <td>0.773333</td>\n",
              "    </tr>\n",
              "    <tr>\n",
              "      <th>1</th>\n",
              "      <td>0.763636</td>\n",
              "      <td>0.778186</td>\n",
              "    </tr>\n",
              "    <tr>\n",
              "      <th>2</th>\n",
              "      <td>0.712610</td>\n",
              "      <td>0.749633</td>\n",
              "    </tr>\n",
              "    <tr>\n",
              "      <th>3</th>\n",
              "      <td>0.717766</td>\n",
              "      <td>0.755981</td>\n",
              "    </tr>\n",
              "  </tbody>\n",
              "</table>\n",
              "</div>\n",
              "    <div class=\"colab-df-buttons\">\n",
              "\n",
              "  <div class=\"colab-df-container\">\n",
              "    <button class=\"colab-df-convert\" onclick=\"convertToInteractive('df-69cdb1a3-9fa7-48d5-8700-81a28177d250')\"\n",
              "            title=\"Convert this dataframe to an interactive table.\"\n",
              "            style=\"display:none;\">\n",
              "\n",
              "  <svg xmlns=\"http://www.w3.org/2000/svg\" height=\"24px\" viewBox=\"0 -960 960 960\">\n",
              "    <path d=\"M120-120v-720h720v720H120Zm60-500h600v-160H180v160Zm220 220h160v-160H400v160Zm0 220h160v-160H400v160ZM180-400h160v-160H180v160Zm440 0h160v-160H620v160ZM180-180h160v-160H180v160Zm440 0h160v-160H620v160Z\"/>\n",
              "  </svg>\n",
              "    </button>\n",
              "\n",
              "  <style>\n",
              "    .colab-df-container {\n",
              "      display:flex;\n",
              "      gap: 12px;\n",
              "    }\n",
              "\n",
              "    .colab-df-convert {\n",
              "      background-color: #E8F0FE;\n",
              "      border: none;\n",
              "      border-radius: 50%;\n",
              "      cursor: pointer;\n",
              "      display: none;\n",
              "      fill: #1967D2;\n",
              "      height: 32px;\n",
              "      padding: 0 0 0 0;\n",
              "      width: 32px;\n",
              "    }\n",
              "\n",
              "    .colab-df-convert:hover {\n",
              "      background-color: #E2EBFA;\n",
              "      box-shadow: 0px 1px 2px rgba(60, 64, 67, 0.3), 0px 1px 3px 1px rgba(60, 64, 67, 0.15);\n",
              "      fill: #174EA6;\n",
              "    }\n",
              "\n",
              "    .colab-df-buttons div {\n",
              "      margin-bottom: 4px;\n",
              "    }\n",
              "\n",
              "    [theme=dark] .colab-df-convert {\n",
              "      background-color: #3B4455;\n",
              "      fill: #D2E3FC;\n",
              "    }\n",
              "\n",
              "    [theme=dark] .colab-df-convert:hover {\n",
              "      background-color: #434B5C;\n",
              "      box-shadow: 0px 1px 3px 1px rgba(0, 0, 0, 0.15);\n",
              "      filter: drop-shadow(0px 1px 2px rgba(0, 0, 0, 0.3));\n",
              "      fill: #FFFFFF;\n",
              "    }\n",
              "  </style>\n",
              "\n",
              "    <script>\n",
              "      const buttonEl =\n",
              "        document.querySelector('#df-69cdb1a3-9fa7-48d5-8700-81a28177d250 button.colab-df-convert');\n",
              "      buttonEl.style.display =\n",
              "        google.colab.kernel.accessAllowed ? 'block' : 'none';\n",
              "\n",
              "      async function convertToInteractive(key) {\n",
              "        const element = document.querySelector('#df-69cdb1a3-9fa7-48d5-8700-81a28177d250');\n",
              "        const dataTable =\n",
              "          await google.colab.kernel.invokeFunction('convertToInteractive',\n",
              "                                                    [key], {});\n",
              "        if (!dataTable) return;\n",
              "\n",
              "        const docLinkHtml = 'Like what you see? Visit the ' +\n",
              "          '<a target=\"_blank\" href=https://colab.research.google.com/notebooks/data_table.ipynb>data table notebook</a>'\n",
              "          + ' to learn more about interactive tables.';\n",
              "        element.innerHTML = '';\n",
              "        dataTable['output_type'] = 'display_data';\n",
              "        await google.colab.output.renderOutput(dataTable, element);\n",
              "        const docLink = document.createElement('div');\n",
              "        docLink.innerHTML = docLinkHtml;\n",
              "        element.appendChild(docLink);\n",
              "      }\n",
              "    </script>\n",
              "  </div>\n",
              "\n",
              "\n",
              "<div id=\"df-eb05d5ae-6947-4a97-8081-1d76a5c44b57\">\n",
              "  <button class=\"colab-df-quickchart\" onclick=\"quickchart('df-eb05d5ae-6947-4a97-8081-1d76a5c44b57')\"\n",
              "            title=\"Suggest charts\"\n",
              "            style=\"display:none;\">\n",
              "\n",
              "<svg xmlns=\"http://www.w3.org/2000/svg\" height=\"24px\"viewBox=\"0 0 24 24\"\n",
              "     width=\"24px\">\n",
              "    <g>\n",
              "        <path d=\"M19 3H5c-1.1 0-2 .9-2 2v14c0 1.1.9 2 2 2h14c1.1 0 2-.9 2-2V5c0-1.1-.9-2-2-2zM9 17H7v-7h2v7zm4 0h-2V7h2v10zm4 0h-2v-4h2v4z\"/>\n",
              "    </g>\n",
              "</svg>\n",
              "  </button>\n",
              "\n",
              "<style>\n",
              "  .colab-df-quickchart {\n",
              "      --bg-color: #E8F0FE;\n",
              "      --fill-color: #1967D2;\n",
              "      --hover-bg-color: #E2EBFA;\n",
              "      --hover-fill-color: #174EA6;\n",
              "      --disabled-fill-color: #AAA;\n",
              "      --disabled-bg-color: #DDD;\n",
              "  }\n",
              "\n",
              "  [theme=dark] .colab-df-quickchart {\n",
              "      --bg-color: #3B4455;\n",
              "      --fill-color: #D2E3FC;\n",
              "      --hover-bg-color: #434B5C;\n",
              "      --hover-fill-color: #FFFFFF;\n",
              "      --disabled-bg-color: #3B4455;\n",
              "      --disabled-fill-color: #666;\n",
              "  }\n",
              "\n",
              "  .colab-df-quickchart {\n",
              "    background-color: var(--bg-color);\n",
              "    border: none;\n",
              "    border-radius: 50%;\n",
              "    cursor: pointer;\n",
              "    display: none;\n",
              "    fill: var(--fill-color);\n",
              "    height: 32px;\n",
              "    padding: 0;\n",
              "    width: 32px;\n",
              "  }\n",
              "\n",
              "  .colab-df-quickchart:hover {\n",
              "    background-color: var(--hover-bg-color);\n",
              "    box-shadow: 0 1px 2px rgba(60, 64, 67, 0.3), 0 1px 3px 1px rgba(60, 64, 67, 0.15);\n",
              "    fill: var(--button-hover-fill-color);\n",
              "  }\n",
              "\n",
              "  .colab-df-quickchart-complete:disabled,\n",
              "  .colab-df-quickchart-complete:disabled:hover {\n",
              "    background-color: var(--disabled-bg-color);\n",
              "    fill: var(--disabled-fill-color);\n",
              "    box-shadow: none;\n",
              "  }\n",
              "\n",
              "  .colab-df-spinner {\n",
              "    border: 2px solid var(--fill-color);\n",
              "    border-color: transparent;\n",
              "    border-bottom-color: var(--fill-color);\n",
              "    animation:\n",
              "      spin 1s steps(1) infinite;\n",
              "  }\n",
              "\n",
              "  @keyframes spin {\n",
              "    0% {\n",
              "      border-color: transparent;\n",
              "      border-bottom-color: var(--fill-color);\n",
              "      border-left-color: var(--fill-color);\n",
              "    }\n",
              "    20% {\n",
              "      border-color: transparent;\n",
              "      border-left-color: var(--fill-color);\n",
              "      border-top-color: var(--fill-color);\n",
              "    }\n",
              "    30% {\n",
              "      border-color: transparent;\n",
              "      border-left-color: var(--fill-color);\n",
              "      border-top-color: var(--fill-color);\n",
              "      border-right-color: var(--fill-color);\n",
              "    }\n",
              "    40% {\n",
              "      border-color: transparent;\n",
              "      border-right-color: var(--fill-color);\n",
              "      border-top-color: var(--fill-color);\n",
              "    }\n",
              "    60% {\n",
              "      border-color: transparent;\n",
              "      border-right-color: var(--fill-color);\n",
              "    }\n",
              "    80% {\n",
              "      border-color: transparent;\n",
              "      border-right-color: var(--fill-color);\n",
              "      border-bottom-color: var(--fill-color);\n",
              "    }\n",
              "    90% {\n",
              "      border-color: transparent;\n",
              "      border-bottom-color: var(--fill-color);\n",
              "    }\n",
              "  }\n",
              "</style>\n",
              "\n",
              "  <script>\n",
              "    async function quickchart(key) {\n",
              "      const quickchartButtonEl =\n",
              "        document.querySelector('#' + key + ' button');\n",
              "      quickchartButtonEl.disabled = true;  // To prevent multiple clicks.\n",
              "      quickchartButtonEl.classList.add('colab-df-spinner');\n",
              "      try {\n",
              "        const charts = await google.colab.kernel.invokeFunction(\n",
              "            'suggestCharts', [key], {});\n",
              "      } catch (error) {\n",
              "        console.error('Error during call to suggestCharts:', error);\n",
              "      }\n",
              "      quickchartButtonEl.classList.remove('colab-df-spinner');\n",
              "      quickchartButtonEl.classList.add('colab-df-quickchart-complete');\n",
              "    }\n",
              "    (() => {\n",
              "      let quickchartButtonEl =\n",
              "        document.querySelector('#df-eb05d5ae-6947-4a97-8081-1d76a5c44b57 button');\n",
              "      quickchartButtonEl.style.display =\n",
              "        google.colab.kernel.accessAllowed ? 'block' : 'none';\n",
              "    })();\n",
              "  </script>\n",
              "</div>\n",
              "    </div>\n",
              "  </div>\n"
            ],
            "application/vnd.google.colaboratory.intrinsic+json": {
              "type": "dataframe",
              "variable_name": "l2",
              "summary": "{\n  \"name\": \"l2\",\n  \"rows\": 4,\n  \"fields\": [\n    {\n      \"column\": \"ExtraTree\",\n      \"properties\": {\n        \"dtype\": \"number\",\n        \"std\": 0.024182397340577515,\n        \"min\": 0.7126099706744868,\n        \"max\": 0.7636363636363637,\n        \"num_unique_values\": 4,\n        \"samples\": [\n          0.7636363636363637,\n          0.7177658942364825,\n          0.7466666666666667\n        ],\n        \"semantic_type\": \"\",\n        \"description\": \"\"\n      }\n    },\n    {\n      \"column\": \"OriginalEP+ExtraTree\",\n      \"properties\": {\n        \"dtype\": \"number\",\n        \"std\": 0.013647282415122641,\n        \"min\": 0.749633431085044,\n        \"max\": 0.7781862745098038,\n        \"num_unique_values\": 4,\n        \"samples\": [\n          0.7781862745098038,\n          0.7559808612440191,\n          0.7733333333333333\n        ],\n        \"semantic_type\": \"\",\n        \"description\": \"\"\n      }\n    }\n  ]\n}"
            }
          },
          "metadata": {},
          "execution_count": 155
        }
      ]
    },
    {
      "cell_type": "code",
      "source": [
        "l2.index = f.index"
      ],
      "metadata": {
        "id": "Ng1Yymg9WNJI"
      },
      "execution_count": 156,
      "outputs": []
    },
    {
      "cell_type": "code",
      "source": [
        "l2.plot(kind='barh',grid=True)\n",
        "plt.xlim(0.7,0.8)\n",
        "l2.to_csv(f'{path}improvment.csv')\n",
        "plt.savefig(f'{path}improvment.png')"
      ],
      "metadata": {
        "colab": {
          "base_uri": "https://localhost:8080/",
          "height": 430
        },
        "id": "vQSETf4GWOrs",
        "outputId": "10eafac5-71bc-4d3a-bb98-353333c94978"
      },
      "execution_count": 158,
      "outputs": [
        {
          "output_type": "display_data",
          "data": {
            "text/plain": [
              "<Figure size 640x480 with 1 Axes>"
            ],
            "image/png": "[encoded data removed]"
          },
          "metadata": {}
        }
      ]
    },
    {
      "cell_type": "code",
      "source": [
        "for i in l:\n",
        "    l2.append(i+' + ExtraTreesClassifier')\n",
        "l2"
      ],
      "metadata": {
        "colab": {
          "base_uri": "https://localhost:8080/"
        },
        "id": "T8jwdXRAsKT2",
        "outputId": "cc94bfeb-031b-4e76-e113-2fdda60ded15"
      },
      "execution_count": null,
      "outputs": [
        {
          "output_type": "execute_result",
          "data": {
            "text/plain": [
              "['OriginalCRO + ExtraTreesClassifier',\n",
              " 'JADE + ExtraTreesClassifier',\n",
              " 'OriginalDE + ExtraTreesClassifier',\n",
              " 'SADE + ExtraTreesClassifier',\n",
              " 'LevyEP + ExtraTreesClassifier']"
            ]
          },
          "metadata": {},
          "execution_count": 97
        }
      ]
    },
    {
      "cell_type": "code",
      "source": [
        "# st.columns.name = 'Models'"
      ],
      "metadata": {
        "id": "3Ov6O6hLtYcZ"
      },
      "execution_count": null,
      "outputs": []
    },
    {
      "cell_type": "code",
      "source": [
        "st['Original ExtraTreesClassifier'] = s2['ExtraTreesClassifier']"
      ],
      "metadata": {
        "id": "REceYudruZBV"
      },
      "execution_count": null,
      "outputs": []
    },
    {
      "cell_type": "code",
      "source": [
        "st"
      ],
      "metadata": {
        "colab": {
          "base_uri": "https://localhost:8080/",
          "height": 224
        },
        "id": "tLieGmJvzQMf",
        "outputId": "6d2f3c35-7345-4577-cbfa-3668d9323593"
      },
      "execution_count": null,
      "outputs": [
        {
          "output_type": "execute_result",
          "data": {
            "text/plain": [
              "Models     OriginalCRO + ExtraTreesClassifier  JADE + ExtraTreesClassifier  \\\n",
              "metrics                                                                      \n",
              "Accuracy                             0.988889                     0.990476   \n",
              "Precision                            0.986597                     0.987001   \n",
              "Recall                               0.990765                     0.993363   \n",
              "F1                                   0.988529                     0.990006   \n",
              "\n",
              "Models     OriginalDE + ExtraTreesClassifier  SADE + ExtraTreesClassifier  \\\n",
              "metrics                                                                     \n",
              "Accuracy                            0.988889                     0.990476   \n",
              "Precision                           0.985856                     0.987713   \n",
              "Recall                              0.991511                     0.992617   \n",
              "F1                                  0.988525                     0.990015   \n",
              "\n",
              "Models     LevyEP + ExtraTreesClassifier  Original ExtraTreesClassifier  \n",
              "metrics                                                                  \n",
              "Accuracy                        0.990476                       0.985714  \n",
              "Precision                       0.987001                       0.982598  \n",
              "Recall                          0.993363                       0.988553  \n",
              "F1                              0.990006                       0.985360  "
            ],
            "text/html": [
              "\n",
              "  <div id=\"df-16a3ee00-762d-4f0f-8272-79ee6ce80041\" class=\"colab-df-container\">\n",
              "    <div>\n",
              "<style scoped>\n",
              "    .dataframe tbody tr th:only-of-type {\n",
              "        vertical-align: middle;\n",
              "    }\n",
              "\n",
              "    .dataframe tbody tr th {\n",
              "        vertical-align: top;\n",
              "    }\n",
              "\n",
              "    .dataframe thead th {\n",
              "        text-align: right;\n",
              "    }\n",
              "</style>\n",
              "<table border=\"1\" class=\"dataframe\">\n",
              "  <thead>\n",
              "    <tr style=\"text-align: right;\">\n",
              "      <th>Models</th>\n",
              "      <th>OriginalCRO + ExtraTreesClassifier</th>\n",
              "      <th>JADE + ExtraTreesClassifier</th>\n",
              "      <th>OriginalDE + ExtraTreesClassifier</th>\n",
              "      <th>SADE + ExtraTreesClassifier</th>\n",
              "      <th>LevyEP + ExtraTreesClassifier</th>\n",
              "      <th>Original ExtraTreesClassifier</th>\n",
              "    </tr>\n",
              "    <tr>\n",
              "      <th>metrics</th>\n",
              "      <th></th>\n",
              "      <th></th>\n",
              "      <th></th>\n",
              "      <th></th>\n",
              "      <th></th>\n",
              "      <th></th>\n",
              "    </tr>\n",
              "  </thead>\n",
              "  <tbody>\n",
              "    <tr>\n",
              "      <th>Accuracy</th>\n",
              "      <td>0.988889</td>\n",
              "      <td>0.990476</td>\n",
              "      <td>0.988889</td>\n",
              "      <td>0.990476</td>\n",
              "      <td>0.990476</td>\n",
              "      <td>0.985714</td>\n",
              "    </tr>\n",
              "    <tr>\n",
              "      <th>Precision</th>\n",
              "      <td>0.986597</td>\n",
              "      <td>0.987001</td>\n",
              "      <td>0.985856</td>\n",
              "      <td>0.987713</td>\n",
              "      <td>0.987001</td>\n",
              "      <td>0.982598</td>\n",
              "    </tr>\n",
              "    <tr>\n",
              "      <th>Recall</th>\n",
              "      <td>0.990765</td>\n",
              "      <td>0.993363</td>\n",
              "      <td>0.991511</td>\n",
              "      <td>0.992617</td>\n",
              "      <td>0.993363</td>\n",
              "      <td>0.988553</td>\n",
              "    </tr>\n",
              "    <tr>\n",
              "      <th>F1</th>\n",
              "      <td>0.988529</td>\n",
              "      <td>0.990006</td>\n",
              "      <td>0.988525</td>\n",
              "      <td>0.990015</td>\n",
              "      <td>0.990006</td>\n",
              "      <td>0.985360</td>\n",
              "    </tr>\n",
              "  </tbody>\n",
              "</table>\n",
              "</div>\n",
              "    <div class=\"colab-df-buttons\">\n",
              "\n",
              "  <div class=\"colab-df-container\">\n",
              "    <button class=\"colab-df-convert\" onclick=\"convertToInteractive('df-16a3ee00-762d-4f0f-8272-79ee6ce80041')\"\n",
              "            title=\"Convert this dataframe to an interactive table.\"\n",
              "            style=\"display:none;\">\n",
              "\n",
              "  <svg xmlns=\"http://www.w3.org/2000/svg\" height=\"24px\" viewBox=\"0 -960 960 960\">\n",
              "    <path d=\"M120-120v-720h720v720H120Zm60-500h600v-160H180v160Zm220 220h160v-160H400v160Zm0 220h160v-160H400v160ZM180-400h160v-160H180v160Zm440 0h160v-160H620v160ZM180-180h160v-160H180v160Zm440 0h160v-160H620v160Z\"/>\n",
              "  </svg>\n",
              "    </button>\n",
              "\n",
              "  <style>\n",
              "    .colab-df-container {\n",
              "      display:flex;\n",
              "      gap: 12px;\n",
              "    }\n",
              "\n",
              "    .colab-df-convert {\n",
              "      background-color: #E8F0FE;\n",
              "      border: none;\n",
              "      border-radius: 50%;\n",
              "      cursor: pointer;\n",
              "      display: none;\n",
              "      fill: #1967D2;\n",
              "      height: 32px;\n",
              "      padding: 0 0 0 0;\n",
              "      width: 32px;\n",
              "    }\n",
              "\n",
              "    .colab-df-convert:hover {\n",
              "      background-color: #E2EBFA;\n",
              "      box-shadow: 0px 1px 2px rgba(60, 64, 67, 0.3), 0px 1px 3px 1px rgba(60, 64, 67, 0.15);\n",
              "      fill: #174EA6;\n",
              "    }\n",
              "\n",
              "    .colab-df-buttons div {\n",
              "      margin-bottom: 4px;\n",
              "    }\n",
              "\n",
              "    [theme=dark] .colab-df-convert {\n",
              "      background-color: #3B4455;\n",
              "      fill: #D2E3FC;\n",
              "    }\n",
              "\n",
              "    [theme=dark] .colab-df-convert:hover {\n",
              "      background-color: #434B5C;\n",
              "      box-shadow: 0px 1px 3px 1px rgba(0, 0, 0, 0.15);\n",
              "      filter: drop-shadow(0px 1px 2px rgba(0, 0, 0, 0.3));\n",
              "      fill: #FFFFFF;\n",
              "    }\n",
              "  </style>\n",
              "\n",
              "    <script>\n",
              "      const buttonEl =\n",
              "        document.querySelector('#df-16a3ee00-762d-4f0f-8272-79ee6ce80041 button.colab-df-convert');\n",
              "      buttonEl.style.display =\n",
              "        google.colab.kernel.accessAllowed ? 'block' : 'none';\n",
              "\n",
              "      async function convertToInteractive(key) {\n",
              "        const element = document.querySelector('#df-16a3ee00-762d-4f0f-8272-79ee6ce80041');\n",
              "        const dataTable =\n",
              "          await google.colab.kernel.invokeFunction('convertToInteractive',\n",
              "                                                    [key], {});\n",
              "        if (!dataTable) return;\n",
              "\n",
              "        const docLinkHtml = 'Like what you see? Visit the ' +\n",
              "          '<a target=\"_blank\" href=https://colab.research.google.com/notebooks/data_table.ipynb>data table notebook</a>'\n",
              "          + ' to learn more about interactive tables.';\n",
              "        element.innerHTML = '';\n",
              "        dataTable['output_type'] = 'display_data';\n",
              "        await google.colab.output.renderOutput(dataTable, element);\n",
              "        const docLink = document.createElement('div');\n",
              "        docLink.innerHTML = docLinkHtml;\n",
              "        element.appendChild(docLink);\n",
              "      }\n",
              "    </script>\n",
              "  </div>\n",
              "\n",
              "\n",
              "<div id=\"df-b8d8bd1f-16a8-4fa3-aac6-72c2b0078ccb\">\n",
              "  <button class=\"colab-df-quickchart\" onclick=\"quickchart('df-b8d8bd1f-16a8-4fa3-aac6-72c2b0078ccb')\"\n",
              "            title=\"Suggest charts\"\n",
              "            style=\"display:none;\">\n",
              "\n",
              "<svg xmlns=\"http://www.w3.org/2000/svg\" height=\"24px\"viewBox=\"0 0 24 24\"\n",
              "     width=\"24px\">\n",
              "    <g>\n",
              "        <path d=\"M19 3H5c-1.1 0-2 .9-2 2v14c0 1.1.9 2 2 2h14c1.1 0 2-.9 2-2V5c0-1.1-.9-2-2-2zM9 17H7v-7h2v7zm4 0h-2V7h2v10zm4 0h-2v-4h2v4z\"/>\n",
              "    </g>\n",
              "</svg>\n",
              "  </button>\n",
              "\n",
              "<style>\n",
              "  .colab-df-quickchart {\n",
              "      --bg-color: #E8F0FE;\n",
              "      --fill-color: #1967D2;\n",
              "      --hover-bg-color: #E2EBFA;\n",
              "      --hover-fill-color: #174EA6;\n",
              "      --disabled-fill-color: #AAA;\n",
              "      --disabled-bg-color: #DDD;\n",
              "  }\n",
              "\n",
              "  [theme=dark] .colab-df-quickchart {\n",
              "      --bg-color: #3B4455;\n",
              "      --fill-color: #D2E3FC;\n",
              "      --hover-bg-color: #434B5C;\n",
              "      --hover-fill-color: #FFFFFF;\n",
              "      --disabled-bg-color: #3B4455;\n",
              "      --disabled-fill-color: #666;\n",
              "  }\n",
              "\n",
              "  .colab-df-quickchart {\n",
              "    background-color: var(--bg-color);\n",
              "    border: none;\n",
              "    border-radius: 50%;\n",
              "    cursor: pointer;\n",
              "    display: none;\n",
              "    fill: var(--fill-color);\n",
              "    height: 32px;\n",
              "    padding: 0;\n",
              "    width: 32px;\n",
              "  }\n",
              "\n",
              "  .colab-df-quickchart:hover {\n",
              "    background-color: var(--hover-bg-color);\n",
              "    box-shadow: 0 1px 2px rgba(60, 64, 67, 0.3), 0 1px 3px 1px rgba(60, 64, 67, 0.15);\n",
              "    fill: var(--button-hover-fill-color);\n",
              "  }\n",
              "\n",
              "  .colab-df-quickchart-complete:disabled,\n",
              "  .colab-df-quickchart-complete:disabled:hover {\n",
              "    background-color: var(--disabled-bg-color);\n",
              "    fill: var(--disabled-fill-color);\n",
              "    box-shadow: none;\n",
              "  }\n",
              "\n",
              "  .colab-df-spinner {\n",
              "    border: 2px solid var(--fill-color);\n",
              "    border-color: transparent;\n",
              "    border-bottom-color: var(--fill-color);\n",
              "    animation:\n",
              "      spin 1s steps(1) infinite;\n",
              "  }\n",
              "\n",
              "  @keyframes spin {\n",
              "    0% {\n",
              "      border-color: transparent;\n",
              "      border-bottom-color: var(--fill-color);\n",
              "      border-left-color: var(--fill-color);\n",
              "    }\n",
              "    20% {\n",
              "      border-color: transparent;\n",
              "      border-left-color: var(--fill-color);\n",
              "      border-top-color: var(--fill-color);\n",
              "    }\n",
              "    30% {\n",
              "      border-color: transparent;\n",
              "      border-left-color: var(--fill-color);\n",
              "      border-top-color: var(--fill-color);\n",
              "      border-right-color: var(--fill-color);\n",
              "    }\n",
              "    40% {\n",
              "      border-color: transparent;\n",
              "      border-right-color: var(--fill-color);\n",
              "      border-top-color: var(--fill-color);\n",
              "    }\n",
              "    60% {\n",
              "      border-color: transparent;\n",
              "      border-right-color: var(--fill-color);\n",
              "    }\n",
              "    80% {\n",
              "      border-color: transparent;\n",
              "      border-right-color: var(--fill-color);\n",
              "      border-bottom-color: var(--fill-color);\n",
              "    }\n",
              "    90% {\n",
              "      border-color: transparent;\n",
              "      border-bottom-color: var(--fill-color);\n",
              "    }\n",
              "  }\n",
              "</style>\n",
              "\n",
              "  <script>\n",
              "    async function quickchart(key) {\n",
              "      const quickchartButtonEl =\n",
              "        document.querySelector('#' + key + ' button');\n",
              "      quickchartButtonEl.disabled = true;  // To prevent multiple clicks.\n",
              "      quickchartButtonEl.classList.add('colab-df-spinner');\n",
              "      try {\n",
              "        const charts = await google.colab.kernel.invokeFunction(\n",
              "            'suggestCharts', [key], {});\n",
              "      } catch (error) {\n",
              "        console.error('Error during call to suggestCharts:', error);\n",
              "      }\n",
              "      quickchartButtonEl.classList.remove('colab-df-spinner');\n",
              "      quickchartButtonEl.classList.add('colab-df-quickchart-complete');\n",
              "    }\n",
              "    (() => {\n",
              "      let quickchartButtonEl =\n",
              "        document.querySelector('#df-b8d8bd1f-16a8-4fa3-aac6-72c2b0078ccb button');\n",
              "      quickchartButtonEl.style.display =\n",
              "        google.colab.kernel.accessAllowed ? 'block' : 'none';\n",
              "    })();\n",
              "  </script>\n",
              "</div>\n",
              "    </div>\n",
              "  </div>\n"
            ],
            "application/vnd.google.colaboratory.intrinsic+json": {
              "type": "dataframe",
              "variable_name": "st",
              "summary": "{\n  \"name\": \"st\",\n  \"rows\": 4,\n  \"fields\": [\n    {\n      \"column\": \"metrics\",\n      \"properties\": {\n        \"dtype\": \"string\",\n        \"num_unique_values\": 4,\n        \"samples\": [\n          \"Precision\",\n          \"F1\",\n          \"Accuracy\"\n        ],\n        \"semantic_type\": \"\",\n        \"description\": \"\"\n      }\n    },\n    {\n      \"column\": \"OriginalCRO + ExtraTreesClassifier\",\n      \"properties\": {\n        \"dtype\": \"number\",\n        \"std\": 0.0017080617916072668,\n        \"min\": 0.986597133247918,\n        \"max\": 0.9907653228449688,\n        \"num_unique_values\": 4,\n        \"samples\": [\n          0.986597133247918,\n          0.9885290156897728,\n          0.9888888888888888\n        ],\n        \"semantic_type\": \"\",\n        \"description\": \"\"\n      }\n    },\n    {\n      \"column\": \"JADE + ExtraTreesClassifier\",\n      \"properties\": {\n        \"dtype\": \"number\",\n        \"std\": 0.0026044810839700883,\n        \"min\": 0.987001050420168,\n        \"max\": 0.9933628318584072,\n        \"num_unique_values\": 4,\n        \"samples\": [\n          0.987001050420168,\n          0.9900064995182786,\n          0.9904761904761904\n        ],\n        \"semantic_type\": \"\",\n        \"description\": \"\"\n      }\n    },\n    {\n      \"column\": \"OriginalDE + ExtraTreesClassifier\",\n      \"properties\": {\n        \"dtype\": \"number\",\n        \"std\": 0.002313353806567942,\n        \"min\": 0.9858562121429768,\n        \"max\": 0.9915109800065552,\n        \"num_unique_values\": 4,\n        \"samples\": [\n          0.9858562121429768,\n          0.9885253967767528,\n          0.9888888888888888\n        ],\n        \"semantic_type\": \"\",\n        \"description\": \"\"\n      }\n    },\n    {\n      \"column\": \"SADE + ExtraTreesClassifier\",\n      \"properties\": {\n        \"dtype\": \"number\",\n        \"std\": 0.0020114365101342913,\n        \"min\": 0.9877131595881596,\n        \"max\": 0.9926171746968206,\n        \"num_unique_values\": 4,\n        \"samples\": [\n          0.9877131595881596,\n          0.9900146551274684,\n          0.9904761904761904\n        ],\n        \"semantic_type\": \"\",\n        \"description\": \"\"\n      }\n    },\n    {\n      \"column\": \"LevyEP + ExtraTreesClassifier\",\n      \"properties\": {\n        \"dtype\": \"number\",\n        \"std\": 0.0026044810839700883,\n        \"min\": 0.987001050420168,\n        \"max\": 0.9933628318584072,\n        \"num_unique_values\": 4,\n        \"samples\": [\n          0.987001050420168,\n          0.9900064995182786,\n          0.9904761904761904\n        ],\n        \"semantic_type\": \"\",\n        \"description\": \"\"\n      }\n    },\n    {\n      \"column\": \"Original ExtraTreesClassifier\",\n      \"properties\": {\n        \"dtype\": \"number\",\n        \"std\": 0.0024356691947704794,\n        \"min\": 0.982597548636109,\n        \"max\": 0.9885529334644378,\n        \"num_unique_values\": 4,\n        \"samples\": [\n          0.982597548636109,\n          0.985360157045619,\n          0.9857142857142858\n        ],\n        \"semantic_type\": \"\",\n        \"description\": \"\"\n      }\n    }\n  ]\n}"
            }
          },
          "metadata": {},
          "execution_count": 104
        }
      ]
    },
    {
      "cell_type": "code",
      "source": [
        "st.plot(kind='barh',grid=True)\n",
        "plt.xlim(0.95,1.1)\n",
        "st.to_csv(f'{path}results3.csv')\n",
        "plt.savefig(f'{path}results3.png')"
      ],
      "metadata": {
        "colab": {
          "base_uri": "https://localhost:8080/",
          "height": 434
        },
        "id": "JaInxfDQr_a7",
        "outputId": "49ceba22-938e-4311-aff7-fb9924549c76"
      },
      "execution_count": null,
      "outputs": [
        {
          "output_type": "display_data",
          "data": {
            "text/plain": [
              "<Figure size 640x480 with 1 Axes>"
            ],
            "image/png": "[encoded data removed]"
          },
          "metadata": {}
        }
      ]
    },
    {
      "cell_type": "code",
      "source": [
        "clf = XGBClassifier(random_state=8)\n",
        "clf.fit(x1,y1)\n",
        "k = clf.predict(x2)\n",
        "k"
      ],
      "metadata": {
        "colab": {
          "base_uri": "https://localhost:8080/"
        },
        "id": "QH8Tqit6UBpF",
        "outputId": "55fc010c-0955-4b96-fafa-8aaa6bbe1b44"
      },
      "execution_count": null,
      "outputs": [
        {
          "output_type": "execute_result",
          "data": {
            "text/plain": [
              "array([2, 0, 0, 3, 4, 2, 4, 0, 5, 0, 5, 4, 5, 4, 0, 0, 4, 4, 5, 5, 5, 5,\n",
              "       1, 5, 3, 5, 3, 4, 3, 0, 3, 5, 0, 2, 0, 3, 0, 5, 5, 1, 0, 3, 5, 0,\n",
              "       3, 0, 3, 3, 2, 3, 2, 4, 0, 0, 0, 5, 3, 1, 3, 1, 4, 5, 4, 4, 2, 2,\n",
              "       5, 3, 3, 1, 2, 1, 4, 1, 4, 3, 4, 0, 4, 3, 1, 1, 2, 5, 1, 2, 5, 5,\n",
              "       5, 4, 1, 3, 5, 0, 2, 0, 3, 3, 4, 4, 4, 5, 5, 1, 0, 2, 5, 1, 0, 0,\n",
              "       3, 2, 3, 2, 2, 3, 1, 1, 5, 0, 5, 3, 0, 0, 2, 4, 4, 2, 3, 3, 5, 1,\n",
              "       5, 4, 1, 5, 0, 5, 3, 2, 2, 5, 2, 3, 4, 0, 0, 4, 1, 4, 5, 1, 2, 3,\n",
              "       4, 4, 3, 3, 2, 1, 0, 0, 1, 2, 5, 5, 5, 3, 5, 1, 3, 0, 0, 1, 5, 3,\n",
              "       2, 0, 3, 3, 3, 1, 4, 0, 3, 0, 4, 0, 4, 4, 0, 5, 0, 0, 4, 2, 5, 1,\n",
              "       5, 4, 4, 0, 0, 0, 4, 4, 2, 0, 1, 0, 4, 2, 5, 4, 2, 2, 1, 2, 4, 1,\n",
              "       2, 2, 5, 5, 0, 3, 5, 2, 0, 5, 5, 3, 4, 2, 5, 2, 2, 2, 2, 3, 2, 1,\n",
              "       3, 4, 1, 4, 3, 0, 3, 2, 5, 1, 2, 3, 2, 3, 0, 0, 2, 1, 0, 5, 4, 2,\n",
              "       1, 0, 4, 0, 0, 5, 5, 5, 5, 2, 5, 1, 2, 1, 5, 5, 3, 3, 2, 3, 3, 3,\n",
              "       2, 2, 3, 2, 0, 4, 0, 3, 1, 0, 4, 5, 5, 4, 3, 2, 5, 2, 4, 4, 1, 1,\n",
              "       5, 0, 3, 0, 0, 1, 2, 5, 0, 5, 2, 4, 5, 3, 3, 4, 1, 1, 3, 4, 2, 4,\n",
              "       3, 0, 4, 0, 4, 3, 4, 3, 3, 3, 3, 3, 2, 5, 4, 0, 0, 1, 4, 2, 5, 1,\n",
              "       4, 0, 2, 4, 0, 2, 4, 5, 3, 1, 5, 3, 2, 2, 2, 0, 3, 2, 2, 0, 1, 3,\n",
              "       0, 1, 3, 4, 4, 0, 5, 5, 2, 5, 1, 4, 5, 5, 4, 5, 4, 5, 1, 0, 0, 2,\n",
              "       0, 5, 0, 2, 0, 3, 4, 4, 5, 2, 2, 2, 0, 5, 5, 5, 0, 0, 1, 3, 5, 0,\n",
              "       0, 0, 2, 5, 5, 3, 4, 0, 3, 1, 2, 0, 4, 0, 5, 0, 1, 5, 1, 1, 4, 5,\n",
              "       0, 1, 5, 0, 4, 2, 1, 5, 0, 1, 3, 5, 0, 2, 0, 1, 5, 2, 5, 0, 5, 4,\n",
              "       4, 3, 5, 0, 0, 0, 2, 5, 1, 0, 1, 2, 1, 0, 2, 1, 0, 0, 2, 2, 2, 0,\n",
              "       0, 0, 2, 5, 5, 2, 0, 2, 1, 5, 4, 4, 0, 3, 4, 4, 1, 1, 5, 2, 0, 5,\n",
              "       5, 0, 0, 1, 2, 0, 0, 2, 2, 3, 2, 1, 3, 4, 2, 5, 4, 4, 5, 3, 4, 3,\n",
              "       3, 0, 2, 1, 2, 4, 4, 1, 4, 0, 1, 5, 3, 4, 5, 5, 2, 5, 3, 0, 3, 0,\n",
              "       5, 5, 5, 5, 3, 5, 3, 2, 5, 1, 1, 0, 5, 0, 3, 0, 0, 3, 4, 5, 5, 5,\n",
              "       4, 3, 0, 2, 3, 5, 0, 5, 1, 1, 4, 4, 0, 2, 0, 1, 1, 1, 4, 1, 0, 4,\n",
              "       3, 1, 0, 5, 5, 3, 5, 5, 5, 5, 2, 0, 0, 1, 5, 5, 5, 1, 5, 0, 2, 5,\n",
              "       1, 4, 4, 5, 3, 0, 4, 0, 3, 5, 4, 1, 1, 0, 5, 5, 0, 5, 5, 1, 4, 5,\n",
              "       5, 1, 5, 3, 0, 1, 5, 2, 3, 3, 4, 0, 2, 1])"
            ]
          },
          "metadata": {},
          "execution_count": 130
        }
      ]
    },
    {
      "cell_type": "code",
      "source": [
        "sum(k==y2)/k.shape[0]"
      ],
      "metadata": {
        "colab": {
          "base_uri": "https://localhost:8080/"
        },
        "id": "7oVk-U1hUW5v",
        "outputId": "656b0445-7887-497f-8c4c-fd98c0b564ea"
      },
      "execution_count": null,
      "outputs": [
        {
          "output_type": "execute_result",
          "data": {
            "text/plain": [
              "0.9049079754601227"
            ]
          },
          "metadata": {},
          "execution_count": 132
        }
      ]
    }
  ],
  "metadata": {
    "colab": {
      "provenance": [],
      "collapsed_sections": [
        "waNvzZNTLgXy",
        "eJt76ixMOqOd",
        "Wds6HXGZQ0_F",
        "mZCaf0gBQ5ZL",
        "ndd2DnaIQ8C9"
      ],
      "include_colab_link": true
    },
    "kernelspec": {
      "display_name": "Python 3",
      "name": "python3"
    },
    "language_info": {
      "name": "python"
    }
  },
  "nbformat": 4,
  "nbformat_minor": 0
}