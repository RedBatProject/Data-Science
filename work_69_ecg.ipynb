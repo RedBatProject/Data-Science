{
  "cells": [
    {
      "cell_type": "markdown",
      "metadata": {
        "id": "view-in-github",
        "colab_type": "text"
      },
      "source": [
        "<a href=\"https://colab.research.google.com/github/RedBatProject/Data-Science/blob/main/work_69_ecg.ipynb\" target=\"_parent\"><img src=\"https://colab.research.google.com/assets/colab-badge.svg\" alt=\"Open In Colab\"/></a>"
      ]
    },
    {
      "cell_type": "code",
      "execution_count": null,
      "metadata": {
        "colab": {
          "base_uri": "https://localhost:8080/"
        },
        "id": "MXZgw7hSru0r",
        "outputId": "e8891b07-e368-4c14-90b3-5ef1248231d6"
      },
      "outputs": [
        {
          "output_type": "stream",
          "name": "stdout",
          "text": [
            "Requirement already satisfied: mealpy in /usr/local/lib/python3.10/dist-packages (3.0.1)\n",
            "Requirement already satisfied: numpy>=1.17.5 in /usr/local/lib/python3.10/dist-packages (from mealpy) (1.25.2)\n",
            "Requirement already satisfied: matplotlib>=3.3.0 in /usr/local/lib/python3.10/dist-packages (from mealpy) (3.7.1)\n",
            "Requirement already satisfied: scipy>=1.7.1 in /usr/local/lib/python3.10/dist-packages (from mealpy) (1.11.4)\n",
            "Requirement already satisfied: pandas>=1.2.0 in /usr/local/lib/python3.10/dist-packages (from mealpy) (1.5.3)\n",
            "Requirement already satisfied: opfunu>=1.0.0 in /usr/local/lib/python3.10/dist-packages (from mealpy) (1.0.1)\n",
            "Requirement already satisfied: contourpy>=1.0.1 in /usr/local/lib/python3.10/dist-packages (from matplotlib>=3.3.0->mealpy) (1.2.0)\n",
            "Requirement already satisfied: cycler>=0.10 in /usr/local/lib/python3.10/dist-packages (from matplotlib>=3.3.0->mealpy) (0.12.1)\n",
            "Requirement already satisfied: fonttools>=4.22.0 in /usr/local/lib/python3.10/dist-packages (from matplotlib>=3.3.0->mealpy) (4.49.0)\n",
            "Requirement already satisfied: kiwisolver>=1.0.1 in /usr/local/lib/python3.10/dist-packages (from matplotlib>=3.3.0->mealpy) (1.4.5)\n",
            "Requirement already satisfied: packaging>=20.0 in /usr/local/lib/python3.10/dist-packages (from matplotlib>=3.3.0->mealpy) (24.0)\n",
            "Requirement already satisfied: pillow>=6.2.0 in /usr/local/lib/python3.10/dist-packages (from matplotlib>=3.3.0->mealpy) (9.4.0)\n",
            "Requirement already satisfied: pyparsing>=2.3.1 in /usr/local/lib/python3.10/dist-packages (from matplotlib>=3.3.0->mealpy) (3.1.2)\n",
            "Requirement already satisfied: python-dateutil>=2.7 in /usr/local/lib/python3.10/dist-packages (from matplotlib>=3.3.0->mealpy) (2.8.2)\n",
            "Requirement already satisfied: requests>=2.27.0 in /usr/local/lib/python3.10/dist-packages (from opfunu>=1.0.0->mealpy) (2.31.0)\n",
            "Requirement already satisfied: pytz>=2020.1 in /usr/local/lib/python3.10/dist-packages (from pandas>=1.2.0->mealpy) (2023.4)\n",
            "Requirement already satisfied: six>=1.5 in /usr/local/lib/python3.10/dist-packages (from python-dateutil>=2.7->matplotlib>=3.3.0->mealpy) (1.16.0)\n",
            "Requirement already satisfied: charset-normalizer<4,>=2 in /usr/local/lib/python3.10/dist-packages (from requests>=2.27.0->opfunu>=1.0.0->mealpy) (3.3.2)\n",
            "Requirement already satisfied: idna<4,>=2.5 in /usr/local/lib/python3.10/dist-packages (from requests>=2.27.0->opfunu>=1.0.0->mealpy) (3.6)\n",
            "Requirement already satisfied: urllib3<3,>=1.21.1 in /usr/local/lib/python3.10/dist-packages (from requests>=2.27.0->opfunu>=1.0.0->mealpy) (2.0.7)\n",
            "Requirement already satisfied: certifi>=2017.4.17 in /usr/local/lib/python3.10/dist-packages (from requests>=2.27.0->opfunu>=1.0.0->mealpy) (2024.2.2)\n",
            "Requirement already satisfied: catboost in /usr/local/lib/python3.10/dist-packages (1.2.3)\n",
            "Requirement already satisfied: graphviz in /usr/local/lib/python3.10/dist-packages (from catboost) (0.20.1)\n",
            "Requirement already satisfied: matplotlib in /usr/local/lib/python3.10/dist-packages (from catboost) (3.7.1)\n",
            "Requirement already satisfied: numpy>=1.16.0 in /usr/local/lib/python3.10/dist-packages (from catboost) (1.25.2)\n",
            "Requirement already satisfied: pandas>=0.24 in /usr/local/lib/python3.10/dist-packages (from catboost) (1.5.3)\n",
            "Requirement already satisfied: scipy in /usr/local/lib/python3.10/dist-packages (from catboost) (1.11.4)\n",
            "Requirement already satisfied: plotly in /usr/local/lib/python3.10/dist-packages (from catboost) (5.15.0)\n",
            "Requirement already satisfied: six in /usr/local/lib/python3.10/dist-packages (from catboost) (1.16.0)\n",
            "Requirement already satisfied: python-dateutil>=2.8.1 in /usr/local/lib/python3.10/dist-packages (from pandas>=0.24->catboost) (2.8.2)\n",
            "Requirement already satisfied: pytz>=2020.1 in /usr/local/lib/python3.10/dist-packages (from pandas>=0.24->catboost) (2023.4)\n",
            "Requirement already satisfied: contourpy>=1.0.1 in /usr/local/lib/python3.10/dist-packages (from matplotlib->catboost) (1.2.0)\n",
            "Requirement already satisfied: cycler>=0.10 in /usr/local/lib/python3.10/dist-packages (from matplotlib->catboost) (0.12.1)\n",
            "Requirement already satisfied: fonttools>=4.22.0 in /usr/local/lib/python3.10/dist-packages (from matplotlib->catboost) (4.49.0)\n",
            "Requirement already satisfied: kiwisolver>=1.0.1 in /usr/local/lib/python3.10/dist-packages (from matplotlib->catboost) (1.4.5)\n",
            "Requirement already satisfied: packaging>=20.0 in /usr/local/lib/python3.10/dist-packages (from matplotlib->catboost) (24.0)\n",
            "Requirement already satisfied: pillow>=6.2.0 in /usr/local/lib/python3.10/dist-packages (from matplotlib->catboost) (9.4.0)\n",
            "Requirement already satisfied: pyparsing>=2.3.1 in /usr/local/lib/python3.10/dist-packages (from matplotlib->catboost) (3.1.2)\n",
            "Requirement already satisfied: tenacity>=6.2.0 in /usr/local/lib/python3.10/dist-packages (from plotly->catboost) (8.2.3)\n",
            "WELLCOME TO IMPLEMENTATION\n"
          ]
        }
      ],
      "source": [
        "!pip install mealpy\n",
        "import mealpy\n",
        "from mealpy.bio_based import BBO, EOA, IWO, SBO, SMA, TPO, VCS, WHO\n",
        "from mealpy.evolutionary_based import CRO, DE, EP, ES, FPA, GA, MA\n",
        "from mealpy.human_based import BRO, BSO, CA, CHIO, FBIO, GSKA, ICA, LCO, QSA, SARO, SSDO, TLO\n",
        "from mealpy.math_based import AOA, CGO, GBO, HC, SCA, PSS\n",
        "from mealpy.music_based import HS\n",
        "from mealpy.physics_based import ArchOA, ASO, EFO, EO, HGSO, MVO, NRO, SA, TWO, WDO\n",
        "# from mealpy.probabilistic_based import CEM\n",
        "from mealpy.system_based import AEO, GCO, WCA\n",
        "from mealpy.swarm_based import ABC, ACOR, ALO, AO, BA, BeesA, BES, BFO, BSA, COA, CSA, CSO, DO, EHO, FA, FFA, FOA, GOA, GWO, HGS\n",
        "from mealpy.swarm_based import HHO, JA, MFO, MRFO, MSA, NMRA, PFA, PSO, SFO, SHO, SLO, SRSR, SSA, SSO, SSpiderA, SSpiderO, WOA\n",
        "from sys import exit\n",
        "import numpy as np\n",
        "import tweepy\n",
        "import webbrowser\n",
        "import time\n",
        "import pandas as pd\n",
        "import datetime\n",
        "import threading\n",
        "import matplotlib.pyplot as plt\n",
        "import numpy as np\n",
        "import pandas as pd\n",
        "from sklearn.model_selection import cross_val_score\n",
        "# !pip install mealpy\n",
        "import mealpy\n",
        "# Load libraries\n",
        "# %tensorflow_version 2.x\n",
        "from __future__ import absolute_import, division, print_function, unicode_literals\n",
        "\n",
        "import numpy as np\n",
        "import pandas as pd\n",
        "import matplotlib.pyplot as plt\n",
        "from IPython.display import clear_output\n",
        "from six.moves import urllib\n",
        "\n",
        "# import tensorflow.compat.v2.feature_column as fc\n",
        "\n",
        "# import tensorflow as tf\n",
        "from pandas.plotting import scatter_matrix\n",
        "from sklearn import model_selection\n",
        "from sklearn.metrics import classification_report\n",
        "from sklearn.metrics import confusion_matrix\n",
        "import random as rn\n",
        "# from sklearn.metrics import confusion_matrix, plot_confusion_matrix, classification_report\n",
        "# create the models\n",
        "from sklearn.tree import DecisionTreeClassifier\n",
        "from sklearn.discriminant_analysis import LinearDiscriminantAnalysis\n",
        "from sklearn.metrics import accuracy_score\n",
        "from sklearn.metrics import precision_score\n",
        "from sklearn.metrics import recall_score\n",
        "from sklearn.metrics import f1_score\n",
        "# module imports\n",
        "import numpy as np\n",
        "import pandas as pd\n",
        "import matplotlib.pyplot as plt\n",
        "import seaborn as sns\n",
        "import itertools\n",
        "import random as rn\n",
        "\n",
        "# model imports\n",
        "from sklearn.cluster import KMeans #one with clusterimg (disaster)\n",
        "from sklearn.ensemble import RandomForestClassifier\n",
        "from sklearn.neighbors import KNeighborsClassifier\n",
        "from sklearn.linear_model import LogisticRegression\n",
        "from sklearn.tree import DecisionTreeClassifier\n",
        "from sklearn.multiclass import OneVsRestClassifier\n",
        "from sklearn.tree import DecisionTreeRegressor\n",
        "from sklearn.dummy import DummyClassifier #that zero\n",
        "from sklearn.svm import SVC, SVR\n",
        "from sklearn.naive_bayes import GaussianNB\n",
        "# from sklearn.ensemble import RandomForestClassifier\n",
        "# processing imports\n",
        "from sklearn.preprocessing import LabelEncoder\n",
        "from sklearn.model_selection import train_test_split\n",
        "from sklearn.model_selection import cross_val_score\n",
        "from sklearn.metrics import mean_absolute_error\n",
        "# from sklearn.metrics import accuracy_score\n",
        "# from sklearn.metrics import confusion_matrix\n",
        "from time import time\n",
        "from sklearn.model_selection import train_test_split\n",
        "from sklearn.naive_bayes import MultinomialNB\n",
        "# !pip install catboost\n",
        "from xgboost import XGBClassifier\n",
        "# from catboost import CatBoostClassifier\n",
        "from sklearn.linear_model import LogisticRegression\n",
        "from sklearn.ensemble import RandomForestClassifier\n",
        "from sklearn.svm import LinearSVC\n",
        "from sklearn import metrics\n",
        "# Sklearn modules & classes\n",
        "from sklearn.svm import SVC\n",
        "from sklearn.model_selection import train_test_split, GridSearchCV\n",
        "from sklearn.preprocessing import StandardScaler, LabelEncoder\n",
        "from sklearn import datasets, metrics\n",
        "from mealpy.bio_based import SMA\n",
        "import mealpy\n",
        "from sklearn.naive_bayes import GaussianNB\n",
        "import time\n",
        "from sklearn.model_selection import train_test_split\n",
        "from sklearn.naive_bayes import MultinomialNB\n",
        "!pip install catboost\n",
        "from xgboost import XGBClassifier\n",
        "from catboost import CatBoostClassifier\n",
        "from sklearn.linear_model import LogisticRegression\n",
        "from sklearn.ensemble import RandomForestClassifier,ExtraTreesClassifier,GradientBoostingClassifier,HistGradientBoostingClassifier,AdaBoostClassifier\n",
        "from sklearn.svm import LinearSVC\n",
        "from sklearn import metrics\n",
        "# Sklearn modules & classes\n",
        "from sklearn.svm import SVC\n",
        "from sklearn.model_selection import train_test_split, GridSearchCV\n",
        "from sklearn.preprocessing import StandardScaler, LabelEncoder\n",
        "from sklearn import datasets, metrics\n",
        "from mealpy.bio_based import SMA\n",
        "from sklearn.naive_bayes import GaussianNB\n",
        "from sklearn.metrics import classification_report,confusion_matrix\n",
        "print(\"WELLCOME TO IMPLEMENTATION\")"
      ]
    },
    {
      "cell_type": "code",
      "source": [
        "from sklearn.model_selection import train_test_split"
      ],
      "metadata": {
        "id": "wHXIf9X3V4aj"
      },
      "execution_count": null,
      "outputs": []
    },
    {
      "cell_type": "code",
      "source": [
        "from google.colab import drive\n",
        "drive.mount('/content/drive')"
      ],
      "metadata": {
        "colab": {
          "base_uri": "https://localhost:8080/"
        },
        "id": "WA3HqN36StKa",
        "outputId": "df03fcf3-af5c-44cb-bb62-c6a582004616"
      },
      "execution_count": null,
      "outputs": [
        {
          "output_type": "stream",
          "name": "stdout",
          "text": [
            "Drive already mounted at /content/drive; to attempt to forcibly remount, call drive.mount(\"/content/drive\", force_remount=True).\n"
          ]
        }
      ]
    },
    {
      "cell_type": "code",
      "execution_count": null,
      "metadata": {
        "id": "HXMDHRCmEvF1",
        "colab": {
          "base_uri": "https://localhost:8080/"
        },
        "outputId": "388ac5de-c100-428d-85ae-178170a8285d"
      },
      "outputs": [
        {
          "output_type": "stream",
          "name": "stdout",
          "text": [
            "mkdir: cannot create directory ‘/root/.kaggle’: File exists\n"
          ]
        }
      ],
      "source": [
        "!mkdir ~/.kaggle\n",
        "! cp /content/drive/MyDrive/kaggle.json ~/.kaggle/\n",
        "! chmod 600 ~/.kaggle/kaggle.json\n",
        "\n"
      ]
    },
    {
      "cell_type": "code",
      "source": [
        "!kaggle datasets download -d shayanfazeli/heartbeat"
      ],
      "metadata": {
        "colab": {
          "base_uri": "https://localhost:8080/"
        },
        "id": "OPPq9-pWASfX",
        "outputId": "51f99df3-8b6d-491c-c6e0-e550c398d0d5"
      },
      "execution_count": null,
      "outputs": [
        {
          "output_type": "stream",
          "name": "stdout",
          "text": [
            "heartbeat.zip: Skipping, found more recently modified local copy (use --force to force download)\n"
          ]
        }
      ]
    },
    {
      "cell_type": "code",
      "execution_count": null,
      "metadata": {
        "id": "NgoXr6TbURIF"
      },
      "outputs": [],
      "source": [
        "# !kaggle datasets download -d michaelchalamet/brain-cancer-data"
      ]
    },
    {
      "cell_type": "code",
      "execution_count": null,
      "metadata": {
        "colab": {
          "base_uri": "https://localhost:8080/"
        },
        "id": "YZkhrGT4E7Jm",
        "outputId": "071b1696-5fdd-4a90-a479-fc3a1ef4272f"
      },
      "outputs": [
        {
          "output_type": "stream",
          "name": "stdout",
          "text": [
            "Archive:  /content/heartbeat.zip\n",
            "replace mitbih_test.csv? [y]es, [n]o, [A]ll, [N]one, [r]ename: "
          ]
        }
      ],
      "source": [
        "!unzip /content/heartbeat.zip"
      ]
    },
    {
      "cell_type": "code",
      "execution_count": null,
      "metadata": {
        "id": "zVxlvrOHE9yn"
      },
      "outputs": [],
      "source": [
        "data = pd.read_csv('/content/mitbih_train.csv',header=None)"
      ]
    },
    {
      "cell_type": "code",
      "execution_count": null,
      "metadata": {
        "colab": {
          "base_uri": "https://localhost:8080/",
          "height": 444
        },
        "id": "ETHfmhk6GFdm",
        "outputId": "8dd443ce-268b-4177-9baa-51dffc28f779"
      },
      "outputs": [
        {
          "output_type": "execute_result",
          "data": {
            "text/plain": [
              "            0         1         2         3         4         5         6    \\\n",
              "0      0.977941  0.926471  0.681373  0.245098  0.154412  0.191176  0.151961   \n",
              "1      0.960114  0.863248  0.461538  0.196581  0.094017  0.125356  0.099715   \n",
              "2      1.000000  0.659459  0.186486  0.070270  0.070270  0.059459  0.056757   \n",
              "3      0.925414  0.665746  0.541436  0.276243  0.196133  0.077348  0.071823   \n",
              "4      0.967136  1.000000  0.830986  0.586854  0.356808  0.248826  0.145540   \n",
              "...         ...       ...       ...       ...       ...       ...       ...   \n",
              "87549  0.807018  0.494737  0.536842  0.529825  0.491228  0.484211  0.456140   \n",
              "87550  0.718333  0.605000  0.486667  0.361667  0.231667  0.120000  0.051667   \n",
              "87551  0.906122  0.624490  0.595918  0.575510  0.530612  0.481633  0.444898   \n",
              "87552  0.858228  0.645570  0.845570  0.248101  0.167089  0.131646  0.121519   \n",
              "87553  0.901506  0.845886  0.800695  0.748552  0.687138  0.599073  0.512167   \n",
              "\n",
              "            7         8         9    ...  178  179  180  181  182  183  184  \\\n",
              "0      0.085784  0.058824  0.049020  ...  0.0  0.0  0.0  0.0  0.0  0.0  0.0   \n",
              "1      0.088319  0.074074  0.082621  ...  0.0  0.0  0.0  0.0  0.0  0.0  0.0   \n",
              "2      0.043243  0.054054  0.045946  ...  0.0  0.0  0.0  0.0  0.0  0.0  0.0   \n",
              "3      0.060773  0.066298  0.058011  ...  0.0  0.0  0.0  0.0  0.0  0.0  0.0   \n",
              "4      0.089202  0.117371  0.150235  ...  0.0  0.0  0.0  0.0  0.0  0.0  0.0   \n",
              "...         ...       ...       ...  ...  ...  ...  ...  ...  ...  ...  ...   \n",
              "87549  0.396491  0.284211  0.136842  ...  0.0  0.0  0.0  0.0  0.0  0.0  0.0   \n",
              "87550  0.001667  0.000000  0.013333  ...  0.0  0.0  0.0  0.0  0.0  0.0  0.0   \n",
              "87551  0.387755  0.322449  0.191837  ...  0.0  0.0  0.0  0.0  0.0  0.0  0.0   \n",
              "87552  0.121519  0.118987  0.103797  ...  0.0  0.0  0.0  0.0  0.0  0.0  0.0   \n",
              "87553  0.427578  0.395133  0.402086  ...  0.0  0.0  0.0  0.0  0.0  0.0  0.0   \n",
              "\n",
              "       185  186  187  \n",
              "0      0.0  0.0  0.0  \n",
              "1      0.0  0.0  0.0  \n",
              "2      0.0  0.0  0.0  \n",
              "3      0.0  0.0  0.0  \n",
              "4      0.0  0.0  0.0  \n",
              "...    ...  ...  ...  \n",
              "87549  0.0  0.0  4.0  \n",
              "87550  0.0  0.0  4.0  \n",
              "87551  0.0  0.0  4.0  \n",
              "87552  0.0  0.0  4.0  \n",
              "87553  0.0  0.0  4.0  \n",
              "\n",
              "[87554 rows x 188 columns]"
            ],
            "text/html": [
              "\n",
              "  <div id=\"df-4cb12814-c898-4298-abcf-945456ffabb5\" class=\"colab-df-container\">\n",
              "    <div>\n",
              "<style scoped>\n",
              "    .dataframe tbody tr th:only-of-type {\n",
              "        vertical-align: middle;\n",
              "    }\n",
              "\n",
              "    .dataframe tbody tr th {\n",
              "        vertical-align: top;\n",
              "    }\n",
              "\n",
              "    .dataframe thead th {\n",
              "        text-align: right;\n",
              "    }\n",
              "</style>\n",
              "<table border=\"1\" class=\"dataframe\">\n",
              "  <thead>\n",
              "    <tr style=\"text-align: right;\">\n",
              "      <th></th>\n",
              "      <th>0</th>\n",
              "      <th>1</th>\n",
              "      <th>2</th>\n",
              "      <th>3</th>\n",
              "      <th>4</th>\n",
              "      <th>5</th>\n",
              "      <th>6</th>\n",
              "      <th>7</th>\n",
              "      <th>8</th>\n",
              "      <th>9</th>\n",
              "      <th>...</th>\n",
              "      <th>178</th>\n",
              "      <th>179</th>\n",
              "      <th>180</th>\n",
              "      <th>181</th>\n",
              "      <th>182</th>\n",
              "      <th>183</th>\n",
              "      <th>184</th>\n",
              "      <th>185</th>\n",
              "      <th>186</th>\n",
              "      <th>187</th>\n",
              "    </tr>\n",
              "  </thead>\n",
              "  <tbody>\n",
              "    <tr>\n",
              "      <th>0</th>\n",
              "      <td>0.977941</td>\n",
              "      <td>0.926471</td>\n",
              "      <td>0.681373</td>\n",
              "      <td>0.245098</td>\n",
              "      <td>0.154412</td>\n",
              "      <td>0.191176</td>\n",
              "      <td>0.151961</td>\n",
              "      <td>0.085784</td>\n",
              "      <td>0.058824</td>\n",
              "      <td>0.049020</td>\n",
              "      <td>...</td>\n",
              "      <td>0.0</td>\n",
              "      <td>0.0</td>\n",
              "      <td>0.0</td>\n",
              "      <td>0.0</td>\n",
              "      <td>0.0</td>\n",
              "      <td>0.0</td>\n",
              "      <td>0.0</td>\n",
              "      <td>0.0</td>\n",
              "      <td>0.0</td>\n",
              "      <td>0.0</td>\n",
              "    </tr>\n",
              "    <tr>\n",
              "      <th>1</th>\n",
              "      <td>0.960114</td>\n",
              "      <td>0.863248</td>\n",
              "      <td>0.461538</td>\n",
              "      <td>0.196581</td>\n",
              "      <td>0.094017</td>\n",
              "      <td>0.125356</td>\n",
              "      <td>0.099715</td>\n",
              "      <td>0.088319</td>\n",
              "      <td>0.074074</td>\n",
              "      <td>0.082621</td>\n",
              "      <td>...</td>\n",
              "      <td>0.0</td>\n",
              "      <td>0.0</td>\n",
              "      <td>0.0</td>\n",
              "      <td>0.0</td>\n",
              "      <td>0.0</td>\n",
              "      <td>0.0</td>\n",
              "      <td>0.0</td>\n",
              "      <td>0.0</td>\n",
              "      <td>0.0</td>\n",
              "      <td>0.0</td>\n",
              "    </tr>\n",
              "    <tr>\n",
              "      <th>2</th>\n",
              "      <td>1.000000</td>\n",
              "      <td>0.659459</td>\n",
              "      <td>0.186486</td>\n",
              "      <td>0.070270</td>\n",
              "      <td>0.070270</td>\n",
              "      <td>0.059459</td>\n",
              "      <td>0.056757</td>\n",
              "      <td>0.043243</td>\n",
              "      <td>0.054054</td>\n",
              "      <td>0.045946</td>\n",
              "      <td>...</td>\n",
              "      <td>0.0</td>\n",
              "      <td>0.0</td>\n",
              "      <td>0.0</td>\n",
              "      <td>0.0</td>\n",
              "      <td>0.0</td>\n",
              "      <td>0.0</td>\n",
              "      <td>0.0</td>\n",
              "      <td>0.0</td>\n",
              "      <td>0.0</td>\n",
              "      <td>0.0</td>\n",
              "    </tr>\n",
              "    <tr>\n",
              "      <th>3</th>\n",
              "      <td>0.925414</td>\n",
              "      <td>0.665746</td>\n",
              "      <td>0.541436</td>\n",
              "      <td>0.276243</td>\n",
              "      <td>0.196133</td>\n",
              "      <td>0.077348</td>\n",
              "      <td>0.071823</td>\n",
              "      <td>0.060773</td>\n",
              "      <td>0.066298</td>\n",
              "      <td>0.058011</td>\n",
              "      <td>...</td>\n",
              "      <td>0.0</td>\n",
              "      <td>0.0</td>\n",
              "      <td>0.0</td>\n",
              "      <td>0.0</td>\n",
              "      <td>0.0</td>\n",
              "      <td>0.0</td>\n",
              "      <td>0.0</td>\n",
              "      <td>0.0</td>\n",
              "      <td>0.0</td>\n",
              "      <td>0.0</td>\n",
              "    </tr>\n",
              "    <tr>\n",
              "      <th>4</th>\n",
              "      <td>0.967136</td>\n",
              "      <td>1.000000</td>\n",
              "      <td>0.830986</td>\n",
              "      <td>0.586854</td>\n",
              "      <td>0.356808</td>\n",
              "      <td>0.248826</td>\n",
              "      <td>0.145540</td>\n",
              "      <td>0.089202</td>\n",
              "      <td>0.117371</td>\n",
              "      <td>0.150235</td>\n",
              "      <td>...</td>\n",
              "      <td>0.0</td>\n",
              "      <td>0.0</td>\n",
              "      <td>0.0</td>\n",
              "      <td>0.0</td>\n",
              "      <td>0.0</td>\n",
              "      <td>0.0</td>\n",
              "      <td>0.0</td>\n",
              "      <td>0.0</td>\n",
              "      <td>0.0</td>\n",
              "      <td>0.0</td>\n",
              "    </tr>\n",
              "    <tr>\n",
              "      <th>...</th>\n",
              "      <td>...</td>\n",
              "      <td>...</td>\n",
              "      <td>...</td>\n",
              "      <td>...</td>\n",
              "      <td>...</td>\n",
              "      <td>...</td>\n",
              "      <td>...</td>\n",
              "      <td>...</td>\n",
              "      <td>...</td>\n",
              "      <td>...</td>\n",
              "      <td>...</td>\n",
              "      <td>...</td>\n",
              "      <td>...</td>\n",
              "      <td>...</td>\n",
              "      <td>...</td>\n",
              "      <td>...</td>\n",
              "      <td>...</td>\n",
              "      <td>...</td>\n",
              "      <td>...</td>\n",
              "      <td>...</td>\n",
              "      <td>...</td>\n",
              "    </tr>\n",
              "    <tr>\n",
              "      <th>87549</th>\n",
              "      <td>0.807018</td>\n",
              "      <td>0.494737</td>\n",
              "      <td>0.536842</td>\n",
              "      <td>0.529825</td>\n",
              "      <td>0.491228</td>\n",
              "      <td>0.484211</td>\n",
              "      <td>0.456140</td>\n",
              "      <td>0.396491</td>\n",
              "      <td>0.284211</td>\n",
              "      <td>0.136842</td>\n",
              "      <td>...</td>\n",
              "      <td>0.0</td>\n",
              "      <td>0.0</td>\n",
              "      <td>0.0</td>\n",
              "      <td>0.0</td>\n",
              "      <td>0.0</td>\n",
              "      <td>0.0</td>\n",
              "      <td>0.0</td>\n",
              "      <td>0.0</td>\n",
              "      <td>0.0</td>\n",
              "      <td>4.0</td>\n",
              "    </tr>\n",
              "    <tr>\n",
              "      <th>87550</th>\n",
              "      <td>0.718333</td>\n",
              "      <td>0.605000</td>\n",
              "      <td>0.486667</td>\n",
              "      <td>0.361667</td>\n",
              "      <td>0.231667</td>\n",
              "      <td>0.120000</td>\n",
              "      <td>0.051667</td>\n",
              "      <td>0.001667</td>\n",
              "      <td>0.000000</td>\n",
              "      <td>0.013333</td>\n",
              "      <td>...</td>\n",
              "      <td>0.0</td>\n",
              "      <td>0.0</td>\n",
              "      <td>0.0</td>\n",
              "      <td>0.0</td>\n",
              "      <td>0.0</td>\n",
              "      <td>0.0</td>\n",
              "      <td>0.0</td>\n",
              "      <td>0.0</td>\n",
              "      <td>0.0</td>\n",
              "      <td>4.0</td>\n",
              "    </tr>\n",
              "    <tr>\n",
              "      <th>87551</th>\n",
              "      <td>0.906122</td>\n",
              "      <td>0.624490</td>\n",
              "      <td>0.595918</td>\n",
              "      <td>0.575510</td>\n",
              "      <td>0.530612</td>\n",
              "      <td>0.481633</td>\n",
              "      <td>0.444898</td>\n",
              "      <td>0.387755</td>\n",
              "      <td>0.322449</td>\n",
              "      <td>0.191837</td>\n",
              "      <td>...</td>\n",
              "      <td>0.0</td>\n",
              "      <td>0.0</td>\n",
              "      <td>0.0</td>\n",
              "      <td>0.0</td>\n",
              "      <td>0.0</td>\n",
              "      <td>0.0</td>\n",
              "      <td>0.0</td>\n",
              "      <td>0.0</td>\n",
              "      <td>0.0</td>\n",
              "      <td>4.0</td>\n",
              "    </tr>\n",
              "    <tr>\n",
              "      <th>87552</th>\n",
              "      <td>0.858228</td>\n",
              "      <td>0.645570</td>\n",
              "      <td>0.845570</td>\n",
              "      <td>0.248101</td>\n",
              "      <td>0.167089</td>\n",
              "      <td>0.131646</td>\n",
              "      <td>0.121519</td>\n",
              "      <td>0.121519</td>\n",
              "      <td>0.118987</td>\n",
              "      <td>0.103797</td>\n",
              "      <td>...</td>\n",
              "      <td>0.0</td>\n",
              "      <td>0.0</td>\n",
              "      <td>0.0</td>\n",
              "      <td>0.0</td>\n",
              "      <td>0.0</td>\n",
              "      <td>0.0</td>\n",
              "      <td>0.0</td>\n",
              "      <td>0.0</td>\n",
              "      <td>0.0</td>\n",
              "      <td>4.0</td>\n",
              "    </tr>\n",
              "    <tr>\n",
              "      <th>87553</th>\n",
              "      <td>0.901506</td>\n",
              "      <td>0.845886</td>\n",
              "      <td>0.800695</td>\n",
              "      <td>0.748552</td>\n",
              "      <td>0.687138</td>\n",
              "      <td>0.599073</td>\n",
              "      <td>0.512167</td>\n",
              "      <td>0.427578</td>\n",
              "      <td>0.395133</td>\n",
              "      <td>0.402086</td>\n",
              "      <td>...</td>\n",
              "      <td>0.0</td>\n",
              "      <td>0.0</td>\n",
              "      <td>0.0</td>\n",
              "      <td>0.0</td>\n",
              "      <td>0.0</td>\n",
              "      <td>0.0</td>\n",
              "      <td>0.0</td>\n",
              "      <td>0.0</td>\n",
              "      <td>0.0</td>\n",
              "      <td>4.0</td>\n",
              "    </tr>\n",
              "  </tbody>\n",
              "</table>\n",
              "<p>87554 rows × 188 columns</p>\n",
              "</div>\n",
              "    <div class=\"colab-df-buttons\">\n",
              "\n",
              "  <div class=\"colab-df-container\">\n",
              "    <button class=\"colab-df-convert\" onclick=\"convertToInteractive('df-4cb12814-c898-4298-abcf-945456ffabb5')\"\n",
              "            title=\"Convert this dataframe to an interactive table.\"\n",
              "            style=\"display:none;\">\n",
              "\n",
              "  <svg xmlns=\"http://www.w3.org/2000/svg\" height=\"24px\" viewBox=\"0 -960 960 960\">\n",
              "    <path d=\"M120-120v-720h720v720H120Zm60-500h600v-160H180v160Zm220 220h160v-160H400v160Zm0 220h160v-160H400v160ZM180-400h160v-160H180v160Zm440 0h160v-160H620v160ZM180-180h160v-160H180v160Zm440 0h160v-160H620v160Z\"/>\n",
              "  </svg>\n",
              "    </button>\n",
              "\n",
              "  <style>\n",
              "    .colab-df-container {\n",
              "      display:flex;\n",
              "      gap: 12px;\n",
              "    }\n",
              "\n",
              "    .colab-df-convert {\n",
              "      background-color: #E8F0FE;\n",
              "      border: none;\n",
              "      border-radius: 50%;\n",
              "      cursor: pointer;\n",
              "      display: none;\n",
              "      fill: #1967D2;\n",
              "      height: 32px;\n",
              "      padding: 0 0 0 0;\n",
              "      width: 32px;\n",
              "    }\n",
              "\n",
              "    .colab-df-convert:hover {\n",
              "      background-color: #E2EBFA;\n",
              "      box-shadow: 0px 1px 2px rgba(60, 64, 67, 0.3), 0px 1px 3px 1px rgba(60, 64, 67, 0.15);\n",
              "      fill: #174EA6;\n",
              "    }\n",
              "\n",
              "    .colab-df-buttons div {\n",
              "      margin-bottom: 4px;\n",
              "    }\n",
              "\n",
              "    [theme=dark] .colab-df-convert {\n",
              "      background-color: #3B4455;\n",
              "      fill: #D2E3FC;\n",
              "    }\n",
              "\n",
              "    [theme=dark] .colab-df-convert:hover {\n",
              "      background-color: #434B5C;\n",
              "      box-shadow: 0px 1px 3px 1px rgba(0, 0, 0, 0.15);\n",
              "      filter: drop-shadow(0px 1px 2px rgba(0, 0, 0, 0.3));\n",
              "      fill: #FFFFFF;\n",
              "    }\n",
              "  </style>\n",
              "\n",
              "    <script>\n",
              "      const buttonEl =\n",
              "        document.querySelector('#df-4cb12814-c898-4298-abcf-945456ffabb5 button.colab-df-convert');\n",
              "      buttonEl.style.display =\n",
              "        google.colab.kernel.accessAllowed ? 'block' : 'none';\n",
              "\n",
              "      async function convertToInteractive(key) {\n",
              "        const element = document.querySelector('#df-4cb12814-c898-4298-abcf-945456ffabb5');\n",
              "        const dataTable =\n",
              "          await google.colab.kernel.invokeFunction('convertToInteractive',\n",
              "                                                    [key], {});\n",
              "        if (!dataTable) return;\n",
              "\n",
              "        const docLinkHtml = 'Like what you see? Visit the ' +\n",
              "          '<a target=\"_blank\" href=https://colab.research.google.com/notebooks/data_table.ipynb>data table notebook</a>'\n",
              "          + ' to learn more about interactive tables.';\n",
              "        element.innerHTML = '';\n",
              "        dataTable['output_type'] = 'display_data';\n",
              "        await google.colab.output.renderOutput(dataTable, element);\n",
              "        const docLink = document.createElement('div');\n",
              "        docLink.innerHTML = docLinkHtml;\n",
              "        element.appendChild(docLink);\n",
              "      }\n",
              "    </script>\n",
              "  </div>\n",
              "\n",
              "\n",
              "<div id=\"df-fefffbbb-1e58-4aeb-8769-d334aa0c7127\">\n",
              "  <button class=\"colab-df-quickchart\" onclick=\"quickchart('df-fefffbbb-1e58-4aeb-8769-d334aa0c7127')\"\n",
              "            title=\"Suggest charts\"\n",
              "            style=\"display:none;\">\n",
              "\n",
              "<svg xmlns=\"http://www.w3.org/2000/svg\" height=\"24px\"viewBox=\"0 0 24 24\"\n",
              "     width=\"24px\">\n",
              "    <g>\n",
              "        <path d=\"M19 3H5c-1.1 0-2 .9-2 2v14c0 1.1.9 2 2 2h14c1.1 0 2-.9 2-2V5c0-1.1-.9-2-2-2zM9 17H7v-7h2v7zm4 0h-2V7h2v10zm4 0h-2v-4h2v4z\"/>\n",
              "    </g>\n",
              "</svg>\n",
              "  </button>\n",
              "\n",
              "<style>\n",
              "  .colab-df-quickchart {\n",
              "      --bg-color: #E8F0FE;\n",
              "      --fill-color: #1967D2;\n",
              "      --hover-bg-color: #E2EBFA;\n",
              "      --hover-fill-color: #174EA6;\n",
              "      --disabled-fill-color: #AAA;\n",
              "      --disabled-bg-color: #DDD;\n",
              "  }\n",
              "\n",
              "  [theme=dark] .colab-df-quickchart {\n",
              "      --bg-color: #3B4455;\n",
              "      --fill-color: #D2E3FC;\n",
              "      --hover-bg-color: #434B5C;\n",
              "      --hover-fill-color: #FFFFFF;\n",
              "      --disabled-bg-color: #3B4455;\n",
              "      --disabled-fill-color: #666;\n",
              "  }\n",
              "\n",
              "  .colab-df-quickchart {\n",
              "    background-color: var(--bg-color);\n",
              "    border: none;\n",
              "    border-radius: 50%;\n",
              "    cursor: pointer;\n",
              "    display: none;\n",
              "    fill: var(--fill-color);\n",
              "    height: 32px;\n",
              "    padding: 0;\n",
              "    width: 32px;\n",
              "  }\n",
              "\n",
              "  .colab-df-quickchart:hover {\n",
              "    background-color: var(--hover-bg-color);\n",
              "    box-shadow: 0 1px 2px rgba(60, 64, 67, 0.3), 0 1px 3px 1px rgba(60, 64, 67, 0.15);\n",
              "    fill: var(--button-hover-fill-color);\n",
              "  }\n",
              "\n",
              "  .colab-df-quickchart-complete:disabled,\n",
              "  .colab-df-quickchart-complete:disabled:hover {\n",
              "    background-color: var(--disabled-bg-color);\n",
              "    fill: var(--disabled-fill-color);\n",
              "    box-shadow: none;\n",
              "  }\n",
              "\n",
              "  .colab-df-spinner {\n",
              "    border: 2px solid var(--fill-color);\n",
              "    border-color: transparent;\n",
              "    border-bottom-color: var(--fill-color);\n",
              "    animation:\n",
              "      spin 1s steps(1) infinite;\n",
              "  }\n",
              "\n",
              "  @keyframes spin {\n",
              "    0% {\n",
              "      border-color: transparent;\n",
              "      border-bottom-color: var(--fill-color);\n",
              "      border-left-color: var(--fill-color);\n",
              "    }\n",
              "    20% {\n",
              "      border-color: transparent;\n",
              "      border-left-color: var(--fill-color);\n",
              "      border-top-color: var(--fill-color);\n",
              "    }\n",
              "    30% {\n",
              "      border-color: transparent;\n",
              "      border-left-color: var(--fill-color);\n",
              "      border-top-color: var(--fill-color);\n",
              "      border-right-color: var(--fill-color);\n",
              "    }\n",
              "    40% {\n",
              "      border-color: transparent;\n",
              "      border-right-color: var(--fill-color);\n",
              "      border-top-color: var(--fill-color);\n",
              "    }\n",
              "    60% {\n",
              "      border-color: transparent;\n",
              "      border-right-color: var(--fill-color);\n",
              "    }\n",
              "    80% {\n",
              "      border-color: transparent;\n",
              "      border-right-color: var(--fill-color);\n",
              "      border-bottom-color: var(--fill-color);\n",
              "    }\n",
              "    90% {\n",
              "      border-color: transparent;\n",
              "      border-bottom-color: var(--fill-color);\n",
              "    }\n",
              "  }\n",
              "</style>\n",
              "\n",
              "  <script>\n",
              "    async function quickchart(key) {\n",
              "      const quickchartButtonEl =\n",
              "        document.querySelector('#' + key + ' button');\n",
              "      quickchartButtonEl.disabled = true;  // To prevent multiple clicks.\n",
              "      quickchartButtonEl.classList.add('colab-df-spinner');\n",
              "      try {\n",
              "        const charts = await google.colab.kernel.invokeFunction(\n",
              "            'suggestCharts', [key], {});\n",
              "      } catch (error) {\n",
              "        console.error('Error during call to suggestCharts:', error);\n",
              "      }\n",
              "      quickchartButtonEl.classList.remove('colab-df-spinner');\n",
              "      quickchartButtonEl.classList.add('colab-df-quickchart-complete');\n",
              "    }\n",
              "    (() => {\n",
              "      let quickchartButtonEl =\n",
              "        document.querySelector('#df-fefffbbb-1e58-4aeb-8769-d334aa0c7127 button');\n",
              "      quickchartButtonEl.style.display =\n",
              "        google.colab.kernel.accessAllowed ? 'block' : 'none';\n",
              "    })();\n",
              "  </script>\n",
              "</div>\n",
              "    </div>\n",
              "  </div>\n"
            ],
            "application/vnd.google.colaboratory.intrinsic+json": {
              "type": "dataframe",
              "variable_name": "data"
            }
          },
          "metadata": {},
          "execution_count": 9
        }
      ],
      "source": [
        "data"
      ]
    },
    {
      "cell_type": "code",
      "execution_count": null,
      "metadata": {
        "colab": {
          "base_uri": "https://localhost:8080/"
        },
        "id": "UvgArWLiVeop",
        "outputId": "858aea36-8dbf-436d-dc62-b9eba3661d05"
      },
      "outputs": [
        {
          "output_type": "execute_result",
          "data": {
            "text/plain": [
              "0"
            ]
          },
          "metadata": {},
          "execution_count": 10
        }
      ],
      "source": [
        "data.isna().sum().sum()"
      ]
    },
    {
      "cell_type": "code",
      "execution_count": null,
      "metadata": {
        "id": "X5zxuWjJGTHm"
      },
      "outputs": [],
      "source": [
        "import os\n",
        "path = '/content/drive/MyDrive/work 70ecg/'\n",
        "os.mkdir(path)"
      ]
    },
    {
      "cell_type": "code",
      "execution_count": null,
      "metadata": {
        "id": "pjRI31UN5oAr",
        "colab": {
          "base_uri": "https://localhost:8080/"
        },
        "outputId": "63173eac-163a-4ea7-f43d-7911d0eb8754"
      },
      "outputs": [
        {
          "output_type": "execute_result",
          "data": {
            "text/plain": [
              "5"
            ]
          },
          "metadata": {},
          "execution_count": 12
        }
      ],
      "source": [
        "models = [HistGradientBoostingClassifier,XGBClassifier,SVC,RandomForestClassifier,ExtraTreesClassifier]\n",
        "len(models)"
      ]
    },
    {
      "cell_type": "markdown",
      "metadata": {
        "id": "DGEVOzphVmgx"
      },
      "source": [
        "# VISUALIZE"
      ]
    },
    {
      "cell_type": "code",
      "execution_count": null,
      "metadata": {
        "id": "ztTjw-L9Vl9g"
      },
      "outputs": [],
      "source": [
        "# data.drop(data.columns[0],axis=1,inplace=True)"
      ]
    },
    {
      "cell_type": "code",
      "source": [
        "# data[data.columns[-1]]"
      ],
      "metadata": {
        "colab": {
          "base_uri": "https://localhost:8080/"
        },
        "id": "bRGAkY9gTZRl",
        "outputId": "9c631bda-415e-43a6-a1eb-2f15b1d28d3a"
      },
      "execution_count": null,
      "outputs": [
        {
          "output_type": "execute_result",
          "data": {
            "text/plain": [
              "0      1\n",
              "1      1\n",
              "2      1\n",
              "3      1\n",
              "4      1\n",
              "      ..\n",
              "695    4\n",
              "696    4\n",
              "697    4\n",
              "698    4\n",
              "699    4\n",
              "Name: class label, Length: 700, dtype: int64"
            ]
          },
          "metadata": {},
          "execution_count": 13
        }
      ]
    },
    {
      "cell_type": "code",
      "execution_count": null,
      "metadata": {
        "id": "1teYDCpZGofY"
      },
      "outputs": [],
      "source": [
        "g = data[data.columns[-1]].copy()"
      ]
    },
    {
      "cell_type": "code",
      "source": [],
      "metadata": {
        "id": "VlE-Q3t3TgUO"
      },
      "execution_count": null,
      "outputs": []
    },
    {
      "cell_type": "code",
      "execution_count": null,
      "metadata": {
        "id": "QNB8GQnhGqeI"
      },
      "outputs": [],
      "source": [
        "# g.replace({2:'cancer',1:'normal'},inplace=True)"
      ]
    },
    {
      "cell_type": "code",
      "source": [
        "# d = {2:'Fusion',4:'Ventircular',3:'SuperVentircular',1:'Unclassified',0:'Normal'}\n",
        "# g.replace(d,inplace=True)"
      ],
      "metadata": {
        "id": "Jb9Z1JRoUZ_Z"
      },
      "execution_count": null,
      "outputs": []
    },
    {
      "cell_type": "code",
      "execution_count": null,
      "metadata": {
        "colab": {
          "base_uri": "https://localhost:8080/",
          "height": 470
        },
        "id": "9z7CBklf50rX",
        "outputId": "a53ffc5d-d678-48ae-d0b9-9b9cb2e2b4bf"
      },
      "outputs": [
        {
          "output_type": "execute_result",
          "data": {
            "text/plain": [
              "Text(0.5, 1.0, 'Classes')"
            ]
          },
          "metadata": {},
          "execution_count": 226
        },
        {
          "output_type": "display_data",
          "data": {
            "text/plain": [
              "<Figure size 640x480 with 1 Axes>"
            ],
            "image/png": "[encoded data removed]"
          },
          "metadata": {}
        }
      ],
      "source": [
        "g.value_counts().plot(kind='bar')\n",
        "plt.xticks(rotation=0)\n",
        "plt.title('Classes')\n",
        "# plt.savefig(f'{path}labels.png',bbox_inches='tight')\n",
        "# g.to_csv(f'{path}labels.csv',index=False)"
      ]
    },
    {
      "cell_type": "code",
      "source": [
        "data.columns = [f'{i}' for i in range(data.shape[1])]"
      ],
      "metadata": {
        "id": "BdY-yUDmTlX0"
      },
      "execution_count": null,
      "outputs": []
    },
    {
      "cell_type": "code",
      "source": [
        "data.columns"
      ],
      "metadata": {
        "colab": {
          "base_uri": "https://localhost:8080/"
        },
        "id": "ZragYuyMTtkK",
        "outputId": "5768398b-f7d2-4dcd-962f-72efe1cfcbfb"
      },
      "execution_count": null,
      "outputs": [
        {
          "output_type": "execute_result",
          "data": {
            "text/plain": [
              "Index(['0', '1', '2', '3', '4', '5', '6', '7', '8', '9',\n",
              "       ...\n",
              "       '178', '179', '180', '181', '182', '183', '184', '185', '186', '187'],\n",
              "      dtype='object', length=188)"
            ]
          },
          "metadata": {},
          "execution_count": 14
        }
      ]
    },
    {
      "cell_type": "code",
      "source": [
        "data = pd.concat([data[data['187']==4],data[data['187']==3],data[data['187']==2],data[data['187']==1],data[data['187']==0].sample(data[data['187']==4].shape[0]*2)])"
      ],
      "metadata": {
        "id": "Mg4B9gvsTexV"
      },
      "execution_count": null,
      "outputs": []
    },
    {
      "cell_type": "markdown",
      "source": [],
      "metadata": {
        "id": "Rk6kV8OLUMqE"
      }
    },
    {
      "cell_type": "code",
      "source": [
        "data['187'].value_counts()"
      ],
      "metadata": {
        "colab": {
          "base_uri": "https://localhost:8080/"
        },
        "id": "pRfMk4vRT_-j",
        "outputId": "99d672c3-5302-4ea1-b5b9-732d15c802e2"
      },
      "execution_count": null,
      "outputs": [
        {
          "output_type": "execute_result",
          "data": {
            "text/plain": [
              "0.0    12862\n",
              "4.0     6431\n",
              "2.0     5788\n",
              "1.0     2223\n",
              "3.0      641\n",
              "Name: 187, dtype: int64"
            ]
          },
          "metadata": {},
          "execution_count": 16
        }
      ]
    },
    {
      "cell_type": "code",
      "source": [
        "data2 = data.sample(frac=0.2,random_state=0)\n",
        "data2.shape"
      ],
      "metadata": {
        "colab": {
          "base_uri": "https://localhost:8080/"
        },
        "id": "EYIwi1OtbCVC",
        "outputId": "99b9d634-5c01-4f72-8a9f-e8c3e7b07d9d"
      },
      "execution_count": null,
      "outputs": [
        {
          "output_type": "execute_result",
          "data": {
            "text/plain": [
              "(5589, 188)"
            ]
          },
          "metadata": {},
          "execution_count": 17
        }
      ]
    },
    {
      "cell_type": "code",
      "execution_count": null,
      "metadata": {
        "id": "CIiCJjQb5T11"
      },
      "outputs": [],
      "source": [
        "X = data.copy()"
      ]
    },
    {
      "cell_type": "code",
      "execution_count": null,
      "metadata": {
        "colab": {
          "base_uri": "https://localhost:8080/",
          "height": 424
        },
        "id": "Cgv9YdQeHasJ",
        "outputId": "25410a70-5ab0-46a7-bd38-2d0d6b32162c"
      },
      "outputs": [
        {
          "output_type": "execute_result",
          "data": {
            "text/plain": [
              "       count      mean       std  min       25%       50%       75%  max\n",
              "0    27945.0  0.837373  0.285975  0.0  0.828996  0.970556  1.000000  1.0\n",
              "1    27945.0  0.716146  0.262634  0.0  0.580189  0.808017  0.911552  1.0\n",
              "2    27945.0  0.467765  0.247065  0.0  0.278119  0.477459  0.637269  1.0\n",
              "3    27945.0  0.307756  0.253148  0.0  0.087248  0.256477  0.484962  1.0\n",
              "4    27945.0  0.279683  0.228099  0.0  0.103753  0.207039  0.425926  1.0\n",
              "..       ...       ...       ...  ...       ...       ...       ...  ...\n",
              "183  27945.0  0.007340  0.053534  0.0  0.000000  0.000000  0.000000  1.0\n",
              "184  27945.0  0.007006  0.051861  0.0  0.000000  0.000000  0.000000  1.0\n",
              "185  27945.0  0.006589  0.049903  0.0  0.000000  0.000000  0.000000  1.0\n",
              "186  27945.0  0.006314  0.048529  0.0  0.000000  0.000000  0.000000  1.0\n",
              "187  27945.0  1.483128  1.611518  0.0  0.000000  1.000000  3.000000  4.0\n",
              "\n",
              "[188 rows x 8 columns]"
            ],
            "text/html": [
              "\n",
              "  <div id=\"df-2d4ac69b-0b49-46ec-a496-dd54570034fa\" class=\"colab-df-container\">\n",
              "    <div>\n",
              "<style scoped>\n",
              "    .dataframe tbody tr th:only-of-type {\n",
              "        vertical-align: middle;\n",
              "    }\n",
              "\n",
              "    .dataframe tbody tr th {\n",
              "        vertical-align: top;\n",
              "    }\n",
              "\n",
              "    .dataframe thead th {\n",
              "        text-align: right;\n",
              "    }\n",
              "</style>\n",
              "<table border=\"1\" class=\"dataframe\">\n",
              "  <thead>\n",
              "    <tr style=\"text-align: right;\">\n",
              "      <th></th>\n",
              "      <th>count</th>\n",
              "      <th>mean</th>\n",
              "      <th>std</th>\n",
              "      <th>min</th>\n",
              "      <th>25%</th>\n",
              "      <th>50%</th>\n",
              "      <th>75%</th>\n",
              "      <th>max</th>\n",
              "    </tr>\n",
              "  </thead>\n",
              "  <tbody>\n",
              "    <tr>\n",
              "      <th>0</th>\n",
              "      <td>27945.0</td>\n",
              "      <td>0.837373</td>\n",
              "      <td>0.285975</td>\n",
              "      <td>0.0</td>\n",
              "      <td>0.828996</td>\n",
              "      <td>0.970556</td>\n",
              "      <td>1.000000</td>\n",
              "      <td>1.0</td>\n",
              "    </tr>\n",
              "    <tr>\n",
              "      <th>1</th>\n",
              "      <td>27945.0</td>\n",
              "      <td>0.716146</td>\n",
              "      <td>0.262634</td>\n",
              "      <td>0.0</td>\n",
              "      <td>0.580189</td>\n",
              "      <td>0.808017</td>\n",
              "      <td>0.911552</td>\n",
              "      <td>1.0</td>\n",
              "    </tr>\n",
              "    <tr>\n",
              "      <th>2</th>\n",
              "      <td>27945.0</td>\n",
              "      <td>0.467765</td>\n",
              "      <td>0.247065</td>\n",
              "      <td>0.0</td>\n",
              "      <td>0.278119</td>\n",
              "      <td>0.477459</td>\n",
              "      <td>0.637269</td>\n",
              "      <td>1.0</td>\n",
              "    </tr>\n",
              "    <tr>\n",
              "      <th>3</th>\n",
              "      <td>27945.0</td>\n",
              "      <td>0.307756</td>\n",
              "      <td>0.253148</td>\n",
              "      <td>0.0</td>\n",
              "      <td>0.087248</td>\n",
              "      <td>0.256477</td>\n",
              "      <td>0.484962</td>\n",
              "      <td>1.0</td>\n",
              "    </tr>\n",
              "    <tr>\n",
              "      <th>4</th>\n",
              "      <td>27945.0</td>\n",
              "      <td>0.279683</td>\n",
              "      <td>0.228099</td>\n",
              "      <td>0.0</td>\n",
              "      <td>0.103753</td>\n",
              "      <td>0.207039</td>\n",
              "      <td>0.425926</td>\n",
              "      <td>1.0</td>\n",
              "    </tr>\n",
              "    <tr>\n",
              "      <th>...</th>\n",
              "      <td>...</td>\n",
              "      <td>...</td>\n",
              "      <td>...</td>\n",
              "      <td>...</td>\n",
              "      <td>...</td>\n",
              "      <td>...</td>\n",
              "      <td>...</td>\n",
              "      <td>...</td>\n",
              "    </tr>\n",
              "    <tr>\n",
              "      <th>183</th>\n",
              "      <td>27945.0</td>\n",
              "      <td>0.007340</td>\n",
              "      <td>0.053534</td>\n",
              "      <td>0.0</td>\n",
              "      <td>0.000000</td>\n",
              "      <td>0.000000</td>\n",
              "      <td>0.000000</td>\n",
              "      <td>1.0</td>\n",
              "    </tr>\n",
              "    <tr>\n",
              "      <th>184</th>\n",
              "      <td>27945.0</td>\n",
              "      <td>0.007006</td>\n",
              "      <td>0.051861</td>\n",
              "      <td>0.0</td>\n",
              "      <td>0.000000</td>\n",
              "      <td>0.000000</td>\n",
              "      <td>0.000000</td>\n",
              "      <td>1.0</td>\n",
              "    </tr>\n",
              "    <tr>\n",
              "      <th>185</th>\n",
              "      <td>27945.0</td>\n",
              "      <td>0.006589</td>\n",
              "      <td>0.049903</td>\n",
              "      <td>0.0</td>\n",
              "      <td>0.000000</td>\n",
              "      <td>0.000000</td>\n",
              "      <td>0.000000</td>\n",
              "      <td>1.0</td>\n",
              "    </tr>\n",
              "    <tr>\n",
              "      <th>186</th>\n",
              "      <td>27945.0</td>\n",
              "      <td>0.006314</td>\n",
              "      <td>0.048529</td>\n",
              "      <td>0.0</td>\n",
              "      <td>0.000000</td>\n",
              "      <td>0.000000</td>\n",
              "      <td>0.000000</td>\n",
              "      <td>1.0</td>\n",
              "    </tr>\n",
              "    <tr>\n",
              "      <th>187</th>\n",
              "      <td>27945.0</td>\n",
              "      <td>1.483128</td>\n",
              "      <td>1.611518</td>\n",
              "      <td>0.0</td>\n",
              "      <td>0.000000</td>\n",
              "      <td>1.000000</td>\n",
              "      <td>3.000000</td>\n",
              "      <td>4.0</td>\n",
              "    </tr>\n",
              "  </tbody>\n",
              "</table>\n",
              "<p>188 rows × 8 columns</p>\n",
              "</div>\n",
              "    <div class=\"colab-df-buttons\">\n",
              "\n",
              "  <div class=\"colab-df-container\">\n",
              "    <button class=\"colab-df-convert\" onclick=\"convertToInteractive('df-2d4ac69b-0b49-46ec-a496-dd54570034fa')\"\n",
              "            title=\"Convert this dataframe to an interactive table.\"\n",
              "            style=\"display:none;\">\n",
              "\n",
              "  <svg xmlns=\"http://www.w3.org/2000/svg\" height=\"24px\" viewBox=\"0 -960 960 960\">\n",
              "    <path d=\"M120-120v-720h720v720H120Zm60-500h600v-160H180v160Zm220 220h160v-160H400v160Zm0 220h160v-160H400v160ZM180-400h160v-160H180v160Zm440 0h160v-160H620v160ZM180-180h160v-160H180v160Zm440 0h160v-160H620v160Z\"/>\n",
              "  </svg>\n",
              "    </button>\n",
              "\n",
              "  <style>\n",
              "    .colab-df-container {\n",
              "      display:flex;\n",
              "      gap: 12px;\n",
              "    }\n",
              "\n",
              "    .colab-df-convert {\n",
              "      background-color: #E8F0FE;\n",
              "      border: none;\n",
              "      border-radius: 50%;\n",
              "      cursor: pointer;\n",
              "      display: none;\n",
              "      fill: #1967D2;\n",
              "      height: 32px;\n",
              "      padding: 0 0 0 0;\n",
              "      width: 32px;\n",
              "    }\n",
              "\n",
              "    .colab-df-convert:hover {\n",
              "      background-color: #E2EBFA;\n",
              "      box-shadow: 0px 1px 2px rgba(60, 64, 67, 0.3), 0px 1px 3px 1px rgba(60, 64, 67, 0.15);\n",
              "      fill: #174EA6;\n",
              "    }\n",
              "\n",
              "    .colab-df-buttons div {\n",
              "      margin-bottom: 4px;\n",
              "    }\n",
              "\n",
              "    [theme=dark] .colab-df-convert {\n",
              "      background-color: #3B4455;\n",
              "      fill: #D2E3FC;\n",
              "    }\n",
              "\n",
              "    [theme=dark] .colab-df-convert:hover {\n",
              "      background-color: #434B5C;\n",
              "      box-shadow: 0px 1px 3px 1px rgba(0, 0, 0, 0.15);\n",
              "      filter: drop-shadow(0px 1px 2px rgba(0, 0, 0, 0.3));\n",
              "      fill: #FFFFFF;\n",
              "    }\n",
              "  </style>\n",
              "\n",
              "    <script>\n",
              "      const buttonEl =\n",
              "        document.querySelector('#df-2d4ac69b-0b49-46ec-a496-dd54570034fa button.colab-df-convert');\n",
              "      buttonEl.style.display =\n",
              "        google.colab.kernel.accessAllowed ? 'block' : 'none';\n",
              "\n",
              "      async function convertToInteractive(key) {\n",
              "        const element = document.querySelector('#df-2d4ac69b-0b49-46ec-a496-dd54570034fa');\n",
              "        const dataTable =\n",
              "          await google.colab.kernel.invokeFunction('convertToInteractive',\n",
              "                                                    [key], {});\n",
              "        if (!dataTable) return;\n",
              "\n",
              "        const docLinkHtml = 'Like what you see? Visit the ' +\n",
              "          '<a target=\"_blank\" href=https://colab.research.google.com/notebooks/data_table.ipynb>data table notebook</a>'\n",
              "          + ' to learn more about interactive tables.';\n",
              "        element.innerHTML = '';\n",
              "        dataTable['output_type'] = 'display_data';\n",
              "        await google.colab.output.renderOutput(dataTable, element);\n",
              "        const docLink = document.createElement('div');\n",
              "        docLink.innerHTML = docLinkHtml;\n",
              "        element.appendChild(docLink);\n",
              "      }\n",
              "    </script>\n",
              "  </div>\n",
              "\n",
              "\n",
              "<div id=\"df-9d1c8e17-84c4-4492-8fe6-0284c3266a90\">\n",
              "  <button class=\"colab-df-quickchart\" onclick=\"quickchart('df-9d1c8e17-84c4-4492-8fe6-0284c3266a90')\"\n",
              "            title=\"Suggest charts\"\n",
              "            style=\"display:none;\">\n",
              "\n",
              "<svg xmlns=\"http://www.w3.org/2000/svg\" height=\"24px\"viewBox=\"0 0 24 24\"\n",
              "     width=\"24px\">\n",
              "    <g>\n",
              "        <path d=\"M19 3H5c-1.1 0-2 .9-2 2v14c0 1.1.9 2 2 2h14c1.1 0 2-.9 2-2V5c0-1.1-.9-2-2-2zM9 17H7v-7h2v7zm4 0h-2V7h2v10zm4 0h-2v-4h2v4z\"/>\n",
              "    </g>\n",
              "</svg>\n",
              "  </button>\n",
              "\n",
              "<style>\n",
              "  .colab-df-quickchart {\n",
              "      --bg-color: #E8F0FE;\n",
              "      --fill-color: #1967D2;\n",
              "      --hover-bg-color: #E2EBFA;\n",
              "      --hover-fill-color: #174EA6;\n",
              "      --disabled-fill-color: #AAA;\n",
              "      --disabled-bg-color: #DDD;\n",
              "  }\n",
              "\n",
              "  [theme=dark] .colab-df-quickchart {\n",
              "      --bg-color: #3B4455;\n",
              "      --fill-color: #D2E3FC;\n",
              "      --hover-bg-color: #434B5C;\n",
              "      --hover-fill-color: #FFFFFF;\n",
              "      --disabled-bg-color: #3B4455;\n",
              "      --disabled-fill-color: #666;\n",
              "  }\n",
              "\n",
              "  .colab-df-quickchart {\n",
              "    background-color: var(--bg-color);\n",
              "    border: none;\n",
              "    border-radius: 50%;\n",
              "    cursor: pointer;\n",
              "    display: none;\n",
              "    fill: var(--fill-color);\n",
              "    height: 32px;\n",
              "    padding: 0;\n",
              "    width: 32px;\n",
              "  }\n",
              "\n",
              "  .colab-df-quickchart:hover {\n",
              "    background-color: var(--hover-bg-color);\n",
              "    box-shadow: 0 1px 2px rgba(60, 64, 67, 0.3), 0 1px 3px 1px rgba(60, 64, 67, 0.15);\n",
              "    fill: var(--button-hover-fill-color);\n",
              "  }\n",
              "\n",
              "  .colab-df-quickchart-complete:disabled,\n",
              "  .colab-df-quickchart-complete:disabled:hover {\n",
              "    background-color: var(--disabled-bg-color);\n",
              "    fill: var(--disabled-fill-color);\n",
              "    box-shadow: none;\n",
              "  }\n",
              "\n",
              "  .colab-df-spinner {\n",
              "    border: 2px solid var(--fill-color);\n",
              "    border-color: transparent;\n",
              "    border-bottom-color: var(--fill-color);\n",
              "    animation:\n",
              "      spin 1s steps(1) infinite;\n",
              "  }\n",
              "\n",
              "  @keyframes spin {\n",
              "    0% {\n",
              "      border-color: transparent;\n",
              "      border-bottom-color: var(--fill-color);\n",
              "      border-left-color: var(--fill-color);\n",
              "    }\n",
              "    20% {\n",
              "      border-color: transparent;\n",
              "      border-left-color: var(--fill-color);\n",
              "      border-top-color: var(--fill-color);\n",
              "    }\n",
              "    30% {\n",
              "      border-color: transparent;\n",
              "      border-left-color: var(--fill-color);\n",
              "      border-top-color: var(--fill-color);\n",
              "      border-right-color: var(--fill-color);\n",
              "    }\n",
              "    40% {\n",
              "      border-color: transparent;\n",
              "      border-right-color: var(--fill-color);\n",
              "      border-top-color: var(--fill-color);\n",
              "    }\n",
              "    60% {\n",
              "      border-color: transparent;\n",
              "      border-right-color: var(--fill-color);\n",
              "    }\n",
              "    80% {\n",
              "      border-color: transparent;\n",
              "      border-right-color: var(--fill-color);\n",
              "      border-bottom-color: var(--fill-color);\n",
              "    }\n",
              "    90% {\n",
              "      border-color: transparent;\n",
              "      border-bottom-color: var(--fill-color);\n",
              "    }\n",
              "  }\n",
              "</style>\n",
              "\n",
              "  <script>\n",
              "    async function quickchart(key) {\n",
              "      const quickchartButtonEl =\n",
              "        document.querySelector('#' + key + ' button');\n",
              "      quickchartButtonEl.disabled = true;  // To prevent multiple clicks.\n",
              "      quickchartButtonEl.classList.add('colab-df-spinner');\n",
              "      try {\n",
              "        const charts = await google.colab.kernel.invokeFunction(\n",
              "            'suggestCharts', [key], {});\n",
              "      } catch (error) {\n",
              "        console.error('Error during call to suggestCharts:', error);\n",
              "      }\n",
              "      quickchartButtonEl.classList.remove('colab-df-spinner');\n",
              "      quickchartButtonEl.classList.add('colab-df-quickchart-complete');\n",
              "    }\n",
              "    (() => {\n",
              "      let quickchartButtonEl =\n",
              "        document.querySelector('#df-9d1c8e17-84c4-4492-8fe6-0284c3266a90 button');\n",
              "      quickchartButtonEl.style.display =\n",
              "        google.colab.kernel.accessAllowed ? 'block' : 'none';\n",
              "    })();\n",
              "  </script>\n",
              "</div>\n",
              "    </div>\n",
              "  </div>\n"
            ],
            "application/vnd.google.colaboratory.intrinsic+json": {
              "type": "dataframe",
              "summary": "{\n  \"name\": \"data\",\n  \"rows\": 188,\n  \"fields\": [\n    {\n      \"column\": \"count\",\n      \"properties\": {\n        \"dtype\": \"number\",\n        \"std\": 0.0,\n        \"min\": 27945.0,\n        \"max\": 27945.0,\n        \"num_unique_values\": 1,\n        \"samples\": [\n          27945.0\n        ],\n        \"semantic_type\": \"\",\n        \"description\": \"\"\n      }\n    },\n    {\n      \"column\": \"mean\",\n      \"properties\": {\n        \"dtype\": \"number\",\n        \"std\": 0.17096221576051573,\n        \"min\": 0.006313586686510378,\n        \"max\": 1.483127572016461,\n        \"num_unique_values\": 188,\n        \"samples\": [\n          0.00733959191423966\n        ],\n        \"semantic_type\": \"\",\n        \"description\": \"\"\n      }\n    },\n    {\n      \"column\": \"std\",\n      \"properties\": {\n        \"dtype\": \"number\",\n        \"std\": 0.12048187694032728,\n        \"min\": 0.04852933862247481,\n        \"max\": 1.6115179856096036,\n        \"num_unique_values\": 188,\n        \"samples\": [\n          0.05353369212299523\n        ],\n        \"semantic_type\": \"\",\n        \"description\": \"\"\n      }\n    },\n    {\n      \"column\": \"min\",\n      \"properties\": {\n        \"dtype\": \"number\",\n        \"std\": 0.0,\n        \"min\": 0.0,\n        \"max\": 0.0,\n        \"num_unique_values\": 1,\n        \"samples\": [\n          0.0\n        ],\n        \"semantic_type\": \"\",\n        \"description\": \"\"\n      }\n    },\n    {\n      \"column\": \"25%\",\n      \"properties\": {\n        \"dtype\": \"number\",\n        \"std\": 0.09918141427132493,\n        \"min\": 0.0,\n        \"max\": 0.8289963006973265,\n        \"num_unique_values\": 98,\n        \"samples\": [\n          0.16981132328510284\n        ],\n        \"semantic_type\": \"\",\n        \"description\": \"\"\n      }\n    },\n    {\n      \"column\": \"50%\",\n      \"properties\": {\n        \"dtype\": \"number\",\n        \"std\": 0.1646389560136301,\n        \"min\": 0.0,\n        \"max\": 1.0,\n        \"num_unique_values\": 115,\n        \"samples\": [\n          0.25984251499176025\n        ],\n        \"semantic_type\": \"\",\n        \"description\": \"\"\n      }\n    },\n    {\n      \"column\": \"75%\",\n      \"properties\": {\n        \"dtype\": \"number\",\n        \"std\": 0.29730214344708683,\n        \"min\": 0.0,\n        \"max\": 3.0,\n        \"num_unique_values\": 126,\n        \"samples\": [\n          0.4166666567325592\n        ],\n        \"semantic_type\": \"\",\n        \"description\": \"\"\n      }\n    },\n    {\n      \"column\": \"max\",\n      \"properties\": {\n        \"dtype\": \"number\",\n        \"std\": 0.21879748724684187,\n        \"min\": 1.0,\n        \"max\": 4.0,\n        \"num_unique_values\": 2,\n        \"samples\": [\n          4.0\n        ],\n        \"semantic_type\": \"\",\n        \"description\": \"\"\n      }\n    }\n  ]\n}"
            }
          },
          "metadata": {},
          "execution_count": 19
        }
      ],
      "source": [
        "data.describe().T"
      ]
    },
    {
      "cell_type": "code",
      "source": [
        "data2 = data.sample(frac=0.2,random_state=0)\n",
        "data2.shape"
      ],
      "metadata": {
        "colab": {
          "base_uri": "https://localhost:8080/"
        },
        "id": "IHFDIR67EKa5",
        "outputId": "e0b31c33-7e26-4225-d882-8064b2d9ed76"
      },
      "execution_count": null,
      "outputs": [
        {
          "output_type": "execute_result",
          "data": {
            "text/plain": [
              "(5589, 188)"
            ]
          },
          "metadata": {},
          "execution_count": 20
        }
      ]
    },
    {
      "cell_type": "code",
      "execution_count": null,
      "metadata": {
        "id": "UVGH1eZyHLuG"
      },
      "outputs": [],
      "source": [
        "# u = 'pleural lactic dehydrogenise'\n",
        "# data[u] = np.log(data[u])\n",
        "# data[u]"
      ]
    },
    {
      "cell_type": "code",
      "execution_count": null,
      "metadata": {
        "id": "YO8b8afiIqBL"
      },
      "outputs": [],
      "source": [
        "# data.columns"
      ]
    },
    {
      "cell_type": "code",
      "source": [
        "# X = pd.DataFrame(Y)\n",
        "# X['labels'] = g"
      ],
      "metadata": {
        "id": "ep-ghI1oXl0P"
      },
      "execution_count": null,
      "outputs": []
    },
    {
      "cell_type": "code",
      "source": [
        "# X.iloc[:,0:10]"
      ],
      "metadata": {
        "id": "MBuDXyO9Y-dl"
      },
      "execution_count": null,
      "outputs": []
    },
    {
      "cell_type": "code",
      "source": [
        "# Y = X.iloc[:,0:7]\n",
        "# Y['labels'] = g"
      ],
      "metadata": {
        "id": "5gY7Ma8tZOMn"
      },
      "execution_count": null,
      "outputs": []
    },
    {
      "cell_type": "code",
      "execution_count": null,
      "metadata": {
        "id": "zmr9tvKsMeu6"
      },
      "outputs": [],
      "source": [
        "# import seaborn as sns\n",
        "# sns.set_theme(style=\"ticks\")\n",
        "\n",
        "# # df = sns.load_dataset(\"penguins\")\n",
        "# sns.pairplot(Y, hue=\"labels\")\n",
        "# plt.savefig(f'{path}pairplot.png',bbox_inches='tight')\n",
        "# X.to_csv(f'{path}pairplot.csv',index=False)"
      ]
    },
    {
      "cell_type": "code",
      "execution_count": null,
      "metadata": {
        "id": "eTo-8gj8OjAY"
      },
      "outputs": [],
      "source": [
        "# data.to_csv(f'{path}data.csv',index=False)"
      ]
    },
    {
      "cell_type": "code",
      "execution_count": null,
      "metadata": {
        "id": "tB9Huh1gJx6A"
      },
      "outputs": [],
      "source": [
        "# import seaborn as sns\n",
        "# sns.set_theme(style=\"darkgrid\")\n",
        "\n",
        "# # tips = sns.load_dataset(\"tips\")\n",
        "# g = sns.jointplot(x='buying', y='label', data=data,\n",
        "#                   kind=\"reg\", truncate=False,\n",
        "#                 #   xlim=(0, 60), ylim=(0, 12),\n",
        "#                   color=\"m\", height=7)\n",
        "# plt.savefig('/content/drive/MyDrive/hamedwork/REGRESSIONlabelVSbuying.png',bbox_inches='tight')\n",
        "# data[['buying','label']].to_csv('/content/drive/MyDrive/hamedwork/REGRESSIONlabelVSbuying.csv',index=False)"
      ]
    },
    {
      "cell_type": "code",
      "execution_count": null,
      "metadata": {
        "id": "3sU4YBpjsJ_y"
      },
      "outputs": [],
      "source": [
        "# for i in X.columns:\n",
        "#     X[i] = X[i].factorize()[0]\n",
        "# X"
      ]
    },
    {
      "cell_type": "code",
      "execution_count": null,
      "metadata": {
        "id": "3gVVjKSctBWP"
      },
      "outputs": [],
      "source": [
        "# data['label'].value_counts()"
      ]
    },
    {
      "cell_type": "code",
      "execution_count": null,
      "metadata": {
        "id": "-vHhAbNRtpfg"
      },
      "outputs": [],
      "source": [
        "# data"
      ]
    },
    {
      "cell_type": "markdown",
      "metadata": {
        "id": "Od80yx3OVrAM"
      },
      "source": [
        "# TRAINING"
      ]
    },
    {
      "cell_type": "code",
      "execution_count": null,
      "metadata": {
        "colab": {
          "base_uri": "https://localhost:8080/"
        },
        "id": "46_lltIzWP0d",
        "outputId": "dfc761e1-85ae-481a-d88f-23c3674c27b9"
      },
      "outputs": [
        {
          "output_type": "execute_result",
          "data": {
            "text/plain": [
              "Index(['0', '1', '2', '3', '4', '5', '6', '7', '8', '9',\n",
              "       ...\n",
              "       '178', '179', '180', '181', '182', '183', '184', '185', '186', '187'],\n",
              "      dtype='object', length=188)"
            ]
          },
          "metadata": {},
          "execution_count": 21
        }
      ],
      "source": [
        "data.columns"
      ]
    },
    {
      "cell_type": "code",
      "source": [
        "# g = data[data.columns[-1]].copy()\n",
        "# h = data.drop(data.columns[-1],axis=1).copy()"
      ],
      "metadata": {
        "id": "P7XV1QqgCtCZ"
      },
      "execution_count": null,
      "outputs": []
    },
    {
      "cell_type": "code",
      "source": [
        "# h.columns"
      ],
      "metadata": {
        "id": "Vh3rsQSXC04W"
      },
      "execution_count": null,
      "outputs": []
    },
    {
      "cell_type": "code",
      "execution_count": null,
      "metadata": {
        "id": "Dul-DQNEVQOB"
      },
      "outputs": [],
      "source": [
        "# labels = g"
      ]
    },
    {
      "cell_type": "code",
      "execution_count": null,
      "metadata": {
        "id": "qNq31XI4WaQ4"
      },
      "outputs": [],
      "source": [
        "# labels = labels +1"
      ]
    },
    {
      "cell_type": "code",
      "source": [
        "# labels = labels.astype(int)"
      ],
      "metadata": {
        "id": "_kgAfwY2DO9F"
      },
      "execution_count": null,
      "outputs": []
    },
    {
      "cell_type": "code",
      "source": [
        "data2.columns = [f'{i}' for i in range(data.shape[1]-1)]+['labels']"
      ],
      "metadata": {
        "id": "tDWhiKFyG5fW"
      },
      "execution_count": null,
      "outputs": []
    },
    {
      "cell_type": "code",
      "source": [
        "data2"
      ],
      "metadata": {
        "colab": {
          "base_uri": "https://localhost:8080/",
          "height": 444
        },
        "id": "R8RF6sLmHXpq",
        "outputId": "c8e11c84-33cc-404e-d33e-3f07e682df93"
      },
      "execution_count": null,
      "outputs": [
        {
          "output_type": "execute_result",
          "data": {
            "text/plain": [
              "              0         1         2         3         4         5         6  \\\n",
              "29692  0.936364  0.834545  0.580000  0.254545  0.020000  0.000000  0.052727   \n",
              "78271  1.000000  0.928705  0.784240  0.636023  0.512195  0.437148  0.393996   \n",
              "83865  0.928488  0.886284  0.810082  0.760844  0.694021  0.604924  0.493552   \n",
              "79370  0.000000  0.034380  0.013453  0.056801  0.067265  0.159940  0.272048   \n",
              "74321  0.950980  0.535948  0.267974  0.251634  0.232026  0.248366  0.215686   \n",
              "...         ...       ...       ...       ...       ...       ...       ...   \n",
              "82211  1.000000  1.000000  0.860832  0.635581  0.517934  0.559541  0.540890   \n",
              "3520   0.980092  0.909648  0.358346  0.058193  0.271057  0.300153  0.303216   \n",
              "79941  1.000000  0.966912  0.765931  0.492647  0.416667  0.362745  0.323529   \n",
              "61771  1.000000  0.944862  0.709273  0.260652  0.115288  0.172932  0.122807   \n",
              "77882  0.007362  0.000000  0.055215  0.116564  0.204908  0.294479  0.376687   \n",
              "\n",
              "              7         8         9  ...  178  179  180  181  182  183  184  \\\n",
              "29692  0.083636  0.081818  0.070909  ...  0.0  0.0  0.0  0.0  0.0  0.0  0.0   \n",
              "78271  0.371482  0.350844  0.332083  ...  0.0  0.0  0.0  0.0  0.0  0.0  0.0   \n",
              "83865  0.396249  0.296600  0.241501  ...  0.0  0.0  0.0  0.0  0.0  0.0  0.0   \n",
              "79370  0.406577  0.499253  0.579970  ...  0.0  0.0  0.0  0.0  0.0  0.0  0.0   \n",
              "74321  0.209150  0.186275  0.153595  ...  0.0  0.0  0.0  0.0  0.0  0.0  0.0   \n",
              "...         ...       ...       ...  ...  ...  ...  ...  ...  ...  ...  ...   \n",
              "82211  0.530846  0.507891  0.493544  ...  0.0  0.0  0.0  0.0  0.0  0.0  0.0   \n",
              "3520   0.320061  0.312404  0.301685  ...  0.0  0.0  0.0  0.0  0.0  0.0  0.0   \n",
              "79941  0.295343  0.290441  0.273284  ...  0.0  0.0  0.0  0.0  0.0  0.0  0.0   \n",
              "61771  0.072682  0.047619  0.045113  ...  0.0  0.0  0.0  0.0  0.0  0.0  0.0   \n",
              "77882  0.434356  0.487117  0.592638  ...  0.0  0.0  0.0  0.0  0.0  0.0  0.0   \n",
              "\n",
              "       185  186  labels  \n",
              "29692  0.0  0.0     0.0  \n",
              "78271  0.0  0.0     2.0  \n",
              "83865  0.0  0.0     4.0  \n",
              "79370  0.0  0.0     2.0  \n",
              "74321  0.0  0.0     1.0  \n",
              "...    ...  ...     ...  \n",
              "82211  0.0  0.0     4.0  \n",
              "3520   0.0  0.0     0.0  \n",
              "79941  0.0  0.0     2.0  \n",
              "61771  0.0  0.0     0.0  \n",
              "77882  0.0  0.0     2.0  \n",
              "\n",
              "[5589 rows x 188 columns]"
            ],
            "text/html": [
              "\n",
              "  <div id=\"df-629fb7d3-3199-4861-ba1e-350f62451e7c\" class=\"colab-df-container\">\n",
              "    <div>\n",
              "<style scoped>\n",
              "    .dataframe tbody tr th:only-of-type {\n",
              "        vertical-align: middle;\n",
              "    }\n",
              "\n",
              "    .dataframe tbody tr th {\n",
              "        vertical-align: top;\n",
              "    }\n",
              "\n",
              "    .dataframe thead th {\n",
              "        text-align: right;\n",
              "    }\n",
              "</style>\n",
              "<table border=\"1\" class=\"dataframe\">\n",
              "  <thead>\n",
              "    <tr style=\"text-align: right;\">\n",
              "      <th></th>\n",
              "      <th>0</th>\n",
              "      <th>1</th>\n",
              "      <th>2</th>\n",
              "      <th>3</th>\n",
              "      <th>4</th>\n",
              "      <th>5</th>\n",
              "      <th>6</th>\n",
              "      <th>7</th>\n",
              "      <th>8</th>\n",
              "      <th>9</th>\n",
              "      <th>...</th>\n",
              "      <th>178</th>\n",
              "      <th>179</th>\n",
              "      <th>180</th>\n",
              "      <th>181</th>\n",
              "      <th>182</th>\n",
              "      <th>183</th>\n",
              "      <th>184</th>\n",
              "      <th>185</th>\n",
              "      <th>186</th>\n",
              "      <th>labels</th>\n",
              "    </tr>\n",
              "  </thead>\n",
              "  <tbody>\n",
              "    <tr>\n",
              "      <th>29692</th>\n",
              "      <td>0.936364</td>\n",
              "      <td>0.834545</td>\n",
              "      <td>0.580000</td>\n",
              "      <td>0.254545</td>\n",
              "      <td>0.020000</td>\n",
              "      <td>0.000000</td>\n",
              "      <td>0.052727</td>\n",
              "      <td>0.083636</td>\n",
              "      <td>0.081818</td>\n",
              "      <td>0.070909</td>\n",
              "      <td>...</td>\n",
              "      <td>0.0</td>\n",
              "      <td>0.0</td>\n",
              "      <td>0.0</td>\n",
              "      <td>0.0</td>\n",
              "      <td>0.0</td>\n",
              "      <td>0.0</td>\n",
              "      <td>0.0</td>\n",
              "      <td>0.0</td>\n",
              "      <td>0.0</td>\n",
              "      <td>0.0</td>\n",
              "    </tr>\n",
              "    <tr>\n",
              "      <th>78271</th>\n",
              "      <td>1.000000</td>\n",
              "      <td>0.928705</td>\n",
              "      <td>0.784240</td>\n",
              "      <td>0.636023</td>\n",
              "      <td>0.512195</td>\n",
              "      <td>0.437148</td>\n",
              "      <td>0.393996</td>\n",
              "      <td>0.371482</td>\n",
              "      <td>0.350844</td>\n",
              "      <td>0.332083</td>\n",
              "      <td>...</td>\n",
              "      <td>0.0</td>\n",
              "      <td>0.0</td>\n",
              "      <td>0.0</td>\n",
              "      <td>0.0</td>\n",
              "      <td>0.0</td>\n",
              "      <td>0.0</td>\n",
              "      <td>0.0</td>\n",
              "      <td>0.0</td>\n",
              "      <td>0.0</td>\n",
              "      <td>2.0</td>\n",
              "    </tr>\n",
              "    <tr>\n",
              "      <th>83865</th>\n",
              "      <td>0.928488</td>\n",
              "      <td>0.886284</td>\n",
              "      <td>0.810082</td>\n",
              "      <td>0.760844</td>\n",
              "      <td>0.694021</td>\n",
              "      <td>0.604924</td>\n",
              "      <td>0.493552</td>\n",
              "      <td>0.396249</td>\n",
              "      <td>0.296600</td>\n",
              "      <td>0.241501</td>\n",
              "      <td>...</td>\n",
              "      <td>0.0</td>\n",
              "      <td>0.0</td>\n",
              "      <td>0.0</td>\n",
              "      <td>0.0</td>\n",
              "      <td>0.0</td>\n",
              "      <td>0.0</td>\n",
              "      <td>0.0</td>\n",
              "      <td>0.0</td>\n",
              "      <td>0.0</td>\n",
              "      <td>4.0</td>\n",
              "    </tr>\n",
              "    <tr>\n",
              "      <th>79370</th>\n",
              "      <td>0.000000</td>\n",
              "      <td>0.034380</td>\n",
              "      <td>0.013453</td>\n",
              "      <td>0.056801</td>\n",
              "      <td>0.067265</td>\n",
              "      <td>0.159940</td>\n",
              "      <td>0.272048</td>\n",
              "      <td>0.406577</td>\n",
              "      <td>0.499253</td>\n",
              "      <td>0.579970</td>\n",
              "      <td>...</td>\n",
              "      <td>0.0</td>\n",
              "      <td>0.0</td>\n",
              "      <td>0.0</td>\n",
              "      <td>0.0</td>\n",
              "      <td>0.0</td>\n",
              "      <td>0.0</td>\n",
              "      <td>0.0</td>\n",
              "      <td>0.0</td>\n",
              "      <td>0.0</td>\n",
              "      <td>2.0</td>\n",
              "    </tr>\n",
              "    <tr>\n",
              "      <th>74321</th>\n",
              "      <td>0.950980</td>\n",
              "      <td>0.535948</td>\n",
              "      <td>0.267974</td>\n",
              "      <td>0.251634</td>\n",
              "      <td>0.232026</td>\n",
              "      <td>0.248366</td>\n",
              "      <td>0.215686</td>\n",
              "      <td>0.209150</td>\n",
              "      <td>0.186275</td>\n",
              "      <td>0.153595</td>\n",
              "      <td>...</td>\n",
              "      <td>0.0</td>\n",
              "      <td>0.0</td>\n",
              "      <td>0.0</td>\n",
              "      <td>0.0</td>\n",
              "      <td>0.0</td>\n",
              "      <td>0.0</td>\n",
              "      <td>0.0</td>\n",
              "      <td>0.0</td>\n",
              "      <td>0.0</td>\n",
              "      <td>1.0</td>\n",
              "    </tr>\n",
              "    <tr>\n",
              "      <th>...</th>\n",
              "      <td>...</td>\n",
              "      <td>...</td>\n",
              "      <td>...</td>\n",
              "      <td>...</td>\n",
              "      <td>...</td>\n",
              "      <td>...</td>\n",
              "      <td>...</td>\n",
              "      <td>...</td>\n",
              "      <td>...</td>\n",
              "      <td>...</td>\n",
              "      <td>...</td>\n",
              "      <td>...</td>\n",
              "      <td>...</td>\n",
              "      <td>...</td>\n",
              "      <td>...</td>\n",
              "      <td>...</td>\n",
              "      <td>...</td>\n",
              "      <td>...</td>\n",
              "      <td>...</td>\n",
              "      <td>...</td>\n",
              "      <td>...</td>\n",
              "    </tr>\n",
              "    <tr>\n",
              "      <th>82211</th>\n",
              "      <td>1.000000</td>\n",
              "      <td>1.000000</td>\n",
              "      <td>0.860832</td>\n",
              "      <td>0.635581</td>\n",
              "      <td>0.517934</td>\n",
              "      <td>0.559541</td>\n",
              "      <td>0.540890</td>\n",
              "      <td>0.530846</td>\n",
              "      <td>0.507891</td>\n",
              "      <td>0.493544</td>\n",
              "      <td>...</td>\n",
              "      <td>0.0</td>\n",
              "      <td>0.0</td>\n",
              "      <td>0.0</td>\n",
              "      <td>0.0</td>\n",
              "      <td>0.0</td>\n",
              "      <td>0.0</td>\n",
              "      <td>0.0</td>\n",
              "      <td>0.0</td>\n",
              "      <td>0.0</td>\n",
              "      <td>4.0</td>\n",
              "    </tr>\n",
              "    <tr>\n",
              "      <th>3520</th>\n",
              "      <td>0.980092</td>\n",
              "      <td>0.909648</td>\n",
              "      <td>0.358346</td>\n",
              "      <td>0.058193</td>\n",
              "      <td>0.271057</td>\n",
              "      <td>0.300153</td>\n",
              "      <td>0.303216</td>\n",
              "      <td>0.320061</td>\n",
              "      <td>0.312404</td>\n",
              "      <td>0.301685</td>\n",
              "      <td>...</td>\n",
              "      <td>0.0</td>\n",
              "      <td>0.0</td>\n",
              "      <td>0.0</td>\n",
              "      <td>0.0</td>\n",
              "      <td>0.0</td>\n",
              "      <td>0.0</td>\n",
              "      <td>0.0</td>\n",
              "      <td>0.0</td>\n",
              "      <td>0.0</td>\n",
              "      <td>0.0</td>\n",
              "    </tr>\n",
              "    <tr>\n",
              "      <th>79941</th>\n",
              "      <td>1.000000</td>\n",
              "      <td>0.966912</td>\n",
              "      <td>0.765931</td>\n",
              "      <td>0.492647</td>\n",
              "      <td>0.416667</td>\n",
              "      <td>0.362745</td>\n",
              "      <td>0.323529</td>\n",
              "      <td>0.295343</td>\n",
              "      <td>0.290441</td>\n",
              "      <td>0.273284</td>\n",
              "      <td>...</td>\n",
              "      <td>0.0</td>\n",
              "      <td>0.0</td>\n",
              "      <td>0.0</td>\n",
              "      <td>0.0</td>\n",
              "      <td>0.0</td>\n",
              "      <td>0.0</td>\n",
              "      <td>0.0</td>\n",
              "      <td>0.0</td>\n",
              "      <td>0.0</td>\n",
              "      <td>2.0</td>\n",
              "    </tr>\n",
              "    <tr>\n",
              "      <th>61771</th>\n",
              "      <td>1.000000</td>\n",
              "      <td>0.944862</td>\n",
              "      <td>0.709273</td>\n",
              "      <td>0.260652</td>\n",
              "      <td>0.115288</td>\n",
              "      <td>0.172932</td>\n",
              "      <td>0.122807</td>\n",
              "      <td>0.072682</td>\n",
              "      <td>0.047619</td>\n",
              "      <td>0.045113</td>\n",
              "      <td>...</td>\n",
              "      <td>0.0</td>\n",
              "      <td>0.0</td>\n",
              "      <td>0.0</td>\n",
              "      <td>0.0</td>\n",
              "      <td>0.0</td>\n",
              "      <td>0.0</td>\n",
              "      <td>0.0</td>\n",
              "      <td>0.0</td>\n",
              "      <td>0.0</td>\n",
              "      <td>0.0</td>\n",
              "    </tr>\n",
              "    <tr>\n",
              "      <th>77882</th>\n",
              "      <td>0.007362</td>\n",
              "      <td>0.000000</td>\n",
              "      <td>0.055215</td>\n",
              "      <td>0.116564</td>\n",
              "      <td>0.204908</td>\n",
              "      <td>0.294479</td>\n",
              "      <td>0.376687</td>\n",
              "      <td>0.434356</td>\n",
              "      <td>0.487117</td>\n",
              "      <td>0.592638</td>\n",
              "      <td>...</td>\n",
              "      <td>0.0</td>\n",
              "      <td>0.0</td>\n",
              "      <td>0.0</td>\n",
              "      <td>0.0</td>\n",
              "      <td>0.0</td>\n",
              "      <td>0.0</td>\n",
              "      <td>0.0</td>\n",
              "      <td>0.0</td>\n",
              "      <td>0.0</td>\n",
              "      <td>2.0</td>\n",
              "    </tr>\n",
              "  </tbody>\n",
              "</table>\n",
              "<p>5589 rows × 188 columns</p>\n",
              "</div>\n",
              "    <div class=\"colab-df-buttons\">\n",
              "\n",
              "  <div class=\"colab-df-container\">\n",
              "    <button class=\"colab-df-convert\" onclick=\"convertToInteractive('df-629fb7d3-3199-4861-ba1e-350f62451e7c')\"\n",
              "            title=\"Convert this dataframe to an interactive table.\"\n",
              "            style=\"display:none;\">\n",
              "\n",
              "  <svg xmlns=\"http://www.w3.org/2000/svg\" height=\"24px\" viewBox=\"0 -960 960 960\">\n",
              "    <path d=\"M120-120v-720h720v720H120Zm60-500h600v-160H180v160Zm220 220h160v-160H400v160Zm0 220h160v-160H400v160ZM180-400h160v-160H180v160Zm440 0h160v-160H620v160ZM180-180h160v-160H180v160Zm440 0h160v-160H620v160Z\"/>\n",
              "  </svg>\n",
              "    </button>\n",
              "\n",
              "  <style>\n",
              "    .colab-df-container {\n",
              "      display:flex;\n",
              "      gap: 12px;\n",
              "    }\n",
              "\n",
              "    .colab-df-convert {\n",
              "      background-color: #E8F0FE;\n",
              "      border: none;\n",
              "      border-radius: 50%;\n",
              "      cursor: pointer;\n",
              "      display: none;\n",
              "      fill: #1967D2;\n",
              "      height: 32px;\n",
              "      padding: 0 0 0 0;\n",
              "      width: 32px;\n",
              "    }\n",
              "\n",
              "    .colab-df-convert:hover {\n",
              "      background-color: #E2EBFA;\n",
              "      box-shadow: 0px 1px 2px rgba(60, 64, 67, 0.3), 0px 1px 3px 1px rgba(60, 64, 67, 0.15);\n",
              "      fill: #174EA6;\n",
              "    }\n",
              "\n",
              "    .colab-df-buttons div {\n",
              "      margin-bottom: 4px;\n",
              "    }\n",
              "\n",
              "    [theme=dark] .colab-df-convert {\n",
              "      background-color: #3B4455;\n",
              "      fill: #D2E3FC;\n",
              "    }\n",
              "\n",
              "    [theme=dark] .colab-df-convert:hover {\n",
              "      background-color: #434B5C;\n",
              "      box-shadow: 0px 1px 3px 1px rgba(0, 0, 0, 0.15);\n",
              "      filter: drop-shadow(0px 1px 2px rgba(0, 0, 0, 0.3));\n",
              "      fill: #FFFFFF;\n",
              "    }\n",
              "  </style>\n",
              "\n",
              "    <script>\n",
              "      const buttonEl =\n",
              "        document.querySelector('#df-629fb7d3-3199-4861-ba1e-350f62451e7c button.colab-df-convert');\n",
              "      buttonEl.style.display =\n",
              "        google.colab.kernel.accessAllowed ? 'block' : 'none';\n",
              "\n",
              "      async function convertToInteractive(key) {\n",
              "        const element = document.querySelector('#df-629fb7d3-3199-4861-ba1e-350f62451e7c');\n",
              "        const dataTable =\n",
              "          await google.colab.kernel.invokeFunction('convertToInteractive',\n",
              "                                                    [key], {});\n",
              "        if (!dataTable) return;\n",
              "\n",
              "        const docLinkHtml = 'Like what you see? Visit the ' +\n",
              "          '<a target=\"_blank\" href=https://colab.research.google.com/notebooks/data_table.ipynb>data table notebook</a>'\n",
              "          + ' to learn more about interactive tables.';\n",
              "        element.innerHTML = '';\n",
              "        dataTable['output_type'] = 'display_data';\n",
              "        await google.colab.output.renderOutput(dataTable, element);\n",
              "        const docLink = document.createElement('div');\n",
              "        docLink.innerHTML = docLinkHtml;\n",
              "        element.appendChild(docLink);\n",
              "      }\n",
              "    </script>\n",
              "  </div>\n",
              "\n",
              "\n",
              "<div id=\"df-b4233d4d-156d-402d-810f-614ed3f6357c\">\n",
              "  <button class=\"colab-df-quickchart\" onclick=\"quickchart('df-b4233d4d-156d-402d-810f-614ed3f6357c')\"\n",
              "            title=\"Suggest charts\"\n",
              "            style=\"display:none;\">\n",
              "\n",
              "<svg xmlns=\"http://www.w3.org/2000/svg\" height=\"24px\"viewBox=\"0 0 24 24\"\n",
              "     width=\"24px\">\n",
              "    <g>\n",
              "        <path d=\"M19 3H5c-1.1 0-2 .9-2 2v14c0 1.1.9 2 2 2h14c1.1 0 2-.9 2-2V5c0-1.1-.9-2-2-2zM9 17H7v-7h2v7zm4 0h-2V7h2v10zm4 0h-2v-4h2v4z\"/>\n",
              "    </g>\n",
              "</svg>\n",
              "  </button>\n",
              "\n",
              "<style>\n",
              "  .colab-df-quickchart {\n",
              "      --bg-color: #E8F0FE;\n",
              "      --fill-color: #1967D2;\n",
              "      --hover-bg-color: #E2EBFA;\n",
              "      --hover-fill-color: #174EA6;\n",
              "      --disabled-fill-color: #AAA;\n",
              "      --disabled-bg-color: #DDD;\n",
              "  }\n",
              "\n",
              "  [theme=dark] .colab-df-quickchart {\n",
              "      --bg-color: #3B4455;\n",
              "      --fill-color: #D2E3FC;\n",
              "      --hover-bg-color: #434B5C;\n",
              "      --hover-fill-color: #FFFFFF;\n",
              "      --disabled-bg-color: #3B4455;\n",
              "      --disabled-fill-color: #666;\n",
              "  }\n",
              "\n",
              "  .colab-df-quickchart {\n",
              "    background-color: var(--bg-color);\n",
              "    border: none;\n",
              "    border-radius: 50%;\n",
              "    cursor: pointer;\n",
              "    display: none;\n",
              "    fill: var(--fill-color);\n",
              "    height: 32px;\n",
              "    padding: 0;\n",
              "    width: 32px;\n",
              "  }\n",
              "\n",
              "  .colab-df-quickchart:hover {\n",
              "    background-color: var(--hover-bg-color);\n",
              "    box-shadow: 0 1px 2px rgba(60, 64, 67, 0.3), 0 1px 3px 1px rgba(60, 64, 67, 0.15);\n",
              "    fill: var(--button-hover-fill-color);\n",
              "  }\n",
              "\n",
              "  .colab-df-quickchart-complete:disabled,\n",
              "  .colab-df-quickchart-complete:disabled:hover {\n",
              "    background-color: var(--disabled-bg-color);\n",
              "    fill: var(--disabled-fill-color);\n",
              "    box-shadow: none;\n",
              "  }\n",
              "\n",
              "  .colab-df-spinner {\n",
              "    border: 2px solid var(--fill-color);\n",
              "    border-color: transparent;\n",
              "    border-bottom-color: var(--fill-color);\n",
              "    animation:\n",
              "      spin 1s steps(1) infinite;\n",
              "  }\n",
              "\n",
              "  @keyframes spin {\n",
              "    0% {\n",
              "      border-color: transparent;\n",
              "      border-bottom-color: var(--fill-color);\n",
              "      border-left-color: var(--fill-color);\n",
              "    }\n",
              "    20% {\n",
              "      border-color: transparent;\n",
              "      border-left-color: var(--fill-color);\n",
              "      border-top-color: var(--fill-color);\n",
              "    }\n",
              "    30% {\n",
              "      border-color: transparent;\n",
              "      border-left-color: var(--fill-color);\n",
              "      border-top-color: var(--fill-color);\n",
              "      border-right-color: var(--fill-color);\n",
              "    }\n",
              "    40% {\n",
              "      border-color: transparent;\n",
              "      border-right-color: var(--fill-color);\n",
              "      border-top-color: var(--fill-color);\n",
              "    }\n",
              "    60% {\n",
              "      border-color: transparent;\n",
              "      border-right-color: var(--fill-color);\n",
              "    }\n",
              "    80% {\n",
              "      border-color: transparent;\n",
              "      border-right-color: var(--fill-color);\n",
              "      border-bottom-color: var(--fill-color);\n",
              "    }\n",
              "    90% {\n",
              "      border-color: transparent;\n",
              "      border-bottom-color: var(--fill-color);\n",
              "    }\n",
              "  }\n",
              "</style>\n",
              "\n",
              "  <script>\n",
              "    async function quickchart(key) {\n",
              "      const quickchartButtonEl =\n",
              "        document.querySelector('#' + key + ' button');\n",
              "      quickchartButtonEl.disabled = true;  // To prevent multiple clicks.\n",
              "      quickchartButtonEl.classList.add('colab-df-spinner');\n",
              "      try {\n",
              "        const charts = await google.colab.kernel.invokeFunction(\n",
              "            'suggestCharts', [key], {});\n",
              "      } catch (error) {\n",
              "        console.error('Error during call to suggestCharts:', error);\n",
              "      }\n",
              "      quickchartButtonEl.classList.remove('colab-df-spinner');\n",
              "      quickchartButtonEl.classList.add('colab-df-quickchart-complete');\n",
              "    }\n",
              "    (() => {\n",
              "      let quickchartButtonEl =\n",
              "        document.querySelector('#df-b4233d4d-156d-402d-810f-614ed3f6357c button');\n",
              "      quickchartButtonEl.style.display =\n",
              "        google.colab.kernel.accessAllowed ? 'block' : 'none';\n",
              "    })();\n",
              "  </script>\n",
              "</div>\n",
              "    </div>\n",
              "  </div>\n"
            ],
            "application/vnd.google.colaboratory.intrinsic+json": {
              "type": "dataframe",
              "variable_name": "data2"
            }
          },
          "metadata": {},
          "execution_count": 23
        }
      ]
    },
    {
      "cell_type": "code",
      "source": [
        "# data"
      ],
      "metadata": {
        "id": "HEdli9Gqa6IP"
      },
      "execution_count": null,
      "outputs": []
    },
    {
      "cell_type": "code",
      "execution_count": null,
      "metadata": {
        "id": "y3KG9VVgWuJV"
      },
      "outputs": [],
      "source": [
        "import numpy as np\n",
        "from sklearn.decomposition import PCA\n",
        "X = data2.drop('labels',axis=1).to_numpy()\n",
        "pca = PCA(n_components=10)\n",
        "pca.fit(X)\n",
        "# print(pca.explained_variance_ratio_)\n",
        "l = pca.explained_variance_ratio_\n",
        "# print(pca.singular_values_)\n",
        "Y = pca.transform(X)"
      ]
    },
    {
      "cell_type": "code",
      "execution_count": null,
      "metadata": {
        "colab": {
          "base_uri": "https://localhost:8080/"
        },
        "id": "Rtb7lv-IXf1s",
        "outputId": "511c6044-e665-46a2-f3e6-44fa68e43b6d"
      },
      "outputs": [
        {
          "output_type": "execute_result",
          "data": {
            "text/plain": [
              "0.8181701163043739"
            ]
          },
          "metadata": {},
          "execution_count": 26
        }
      ],
      "source": [
        "l.sum()"
      ]
    },
    {
      "cell_type": "code",
      "execution_count": null,
      "metadata": {
        "colab": {
          "base_uri": "https://localhost:8080/"
        },
        "id": "Gycz2J65XmU-",
        "outputId": "b6535ac2-768d-4d9a-cfdc-b5dd84b38ac0"
      },
      "outputs": [
        {
          "output_type": "execute_result",
          "data": {
            "text/plain": [
              "0.8181701163043739"
            ]
          },
          "metadata": {},
          "execution_count": 27
        }
      ],
      "source": [
        "l[0:20].sum()"
      ]
    },
    {
      "cell_type": "code",
      "source": [
        "# X.columns = [f'{i}' for i in range(X.shape[1]-1)]+['labels']"
      ],
      "metadata": {
        "id": "od2DtGVoWeT_"
      },
      "execution_count": null,
      "outputs": []
    },
    {
      "cell_type": "code",
      "source": [
        "# X.drop('labels',axis=1,inplace=True)"
      ],
      "metadata": {
        "id": "5z_cOWcfXOqX"
      },
      "execution_count": null,
      "outputs": []
    },
    {
      "cell_type": "code",
      "source": [
        "X_train, X_test, y_train, y_test = train_test_split(\n",
        "    Y, data2['labels'], test_size=0.25, random_state=42)\n",
        "X_train.shape,y_train.shape,X_test.shape,y_test.shape"
      ],
      "metadata": {
        "colab": {
          "base_uri": "https://localhost:8080/"
        },
        "id": "ygSH7LtDXC1M",
        "outputId": "40e3b9fa-3b2a-40e1-fb5f-4997847273d0"
      },
      "execution_count": null,
      "outputs": [
        {
          "output_type": "execute_result",
          "data": {
            "text/plain": [
              "((4191, 10), (4191,), (1398, 10), (1398,))"
            ]
          },
          "metadata": {},
          "execution_count": 30
        }
      ]
    },
    {
      "cell_type": "code",
      "source": [
        "x1,y1,x2,y2 = X_train, y_train, X_test, y_test"
      ],
      "metadata": {
        "id": "0QOMPTc_XerW"
      },
      "execution_count": null,
      "outputs": []
    },
    {
      "cell_type": "markdown",
      "source": [],
      "metadata": {
        "id": "rK442cotUnF6"
      }
    },
    {
      "cell_type": "code",
      "source": [
        "models = [HistGradientBoostingClassifier,XGBClassifier,RandomForestClassifier,DecisionTreeClassifier]\n",
        "len(models)"
      ],
      "metadata": {
        "colab": {
          "base_uri": "https://localhost:8080/"
        },
        "id": "EpGLSmpzFmns",
        "outputId": "97573d35-d461-4ec2-c922-270afabd3fd2"
      },
      "execution_count": null,
      "outputs": [
        {
          "output_type": "execute_result",
          "data": {
            "text/plain": [
              "4"
            ]
          },
          "metadata": {},
          "execution_count": 32
        }
      ]
    },
    {
      "cell_type": "code",
      "execution_count": null,
      "metadata": {
        "colab": {
          "base_uri": "https://localhost:8080/"
        },
        "id": "62hR0rcKsoYj",
        "outputId": "f267cd21-680f-4f93-b9a5-3338f3ceaa70"
      },
      "outputs": [
        {
          "output_type": "stream",
          "name": "stdout",
          "text": [
            "0.8429549360617061\n",
            "0.8462349345666675\n",
            "0.849771155071771\n",
            "0.7687577853246321\n"
          ]
        }
      ],
      "source": [
        "for model in models:\n",
        "    try:\n",
        "        clf = model(random_state=8)\n",
        "    except:\n",
        "        clf = model()\n",
        "\n",
        "\n",
        "    clf.fit(x1,y1)\n",
        "    y2_ = clf.predict(x2)\n",
        "    print(f1_score(y2, y2_,average='macro'))"
      ]
    },
    {
      "cell_type": "code",
      "execution_count": null,
      "metadata": {
        "id": "JHseWd-_enpc"
      },
      "outputs": [],
      "source": [
        "# print(clf.__class__.__name__,np.sum(y2_==y2)/y2.shape[0],f1_score(y2, y2_,average='macro'))\n",
        "# f1_score(y2, y2_,average='macro')"
      ]
    },
    {
      "cell_type": "code",
      "execution_count": null,
      "metadata": {
        "id": "4LJY8lzI97iG"
      },
      "outputs": [],
      "source": [
        "# create the models\n",
        "from sklearn.metrics import accuracy_score\n",
        "from sklearn.metrics import precision_score\n",
        "from sklearn.metrics import recall_score\n",
        "from sklearn.metrics import f1_score"
      ]
    },
    {
      "cell_type": "code",
      "execution_count": null,
      "metadata": {
        "colab": {
          "base_uri": "https://localhost:8080/",
          "height": 268
        },
        "id": "asOcD8oB5xsR",
        "outputId": "81b63d6f-d928-4d55-9884-0e8f96542f9c"
      },
      "outputs": [
        {
          "output_type": "stream",
          "name": "stdout",
          "text": [
            "[0.84295494 0.         0.         0.        ]\n",
            "[0.84295494 0.84623493 0.         0.        ]\n",
            "[0.84295494 0.84623493 0.84977116 0.        ]\n",
            "[0.84295494 0.84623493 0.84977116 0.76875779]\n"
          ]
        },
        {
          "output_type": "execute_result",
          "data": {
            "text/plain": [
              "   HistGradientBoostingClassifier  XGBClassifier  RandomForestClassifier  \\\n",
              "0                        0.908441       0.904864                0.899857   \n",
              "1                        0.901724       0.898541                0.906202   \n",
              "2                        0.804796       0.810803                0.810810   \n",
              "3                        0.842955       0.846235                0.849771   \n",
              "\n",
              "   DecisionTreeClassifier    metrics  \n",
              "0                0.825465   Accuracy  \n",
              "1                0.768567  Precision  \n",
              "2                0.769520     Recall  \n",
              "3                0.768758         F1  "
            ],
            "text/html": [
              "\n",
              "  <div id=\"df-3f27ac66-872f-492b-9087-1124f37f9497\" class=\"colab-df-container\">\n",
              "    <div>\n",
              "<style scoped>\n",
              "    .dataframe tbody tr th:only-of-type {\n",
              "        vertical-align: middle;\n",
              "    }\n",
              "\n",
              "    .dataframe tbody tr th {\n",
              "        vertical-align: top;\n",
              "    }\n",
              "\n",
              "    .dataframe thead th {\n",
              "        text-align: right;\n",
              "    }\n",
              "</style>\n",
              "<table border=\"1\" class=\"dataframe\">\n",
              "  <thead>\n",
              "    <tr style=\"text-align: right;\">\n",
              "      <th></th>\n",
              "      <th>HistGradientBoostingClassifier</th>\n",
              "      <th>XGBClassifier</th>\n",
              "      <th>RandomForestClassifier</th>\n",
              "      <th>DecisionTreeClassifier</th>\n",
              "      <th>metrics</th>\n",
              "    </tr>\n",
              "  </thead>\n",
              "  <tbody>\n",
              "    <tr>\n",
              "      <th>0</th>\n",
              "      <td>0.908441</td>\n",
              "      <td>0.904864</td>\n",
              "      <td>0.899857</td>\n",
              "      <td>0.825465</td>\n",
              "      <td>Accuracy</td>\n",
              "    </tr>\n",
              "    <tr>\n",
              "      <th>1</th>\n",
              "      <td>0.901724</td>\n",
              "      <td>0.898541</td>\n",
              "      <td>0.906202</td>\n",
              "      <td>0.768567</td>\n",
              "      <td>Precision</td>\n",
              "    </tr>\n",
              "    <tr>\n",
              "      <th>2</th>\n",
              "      <td>0.804796</td>\n",
              "      <td>0.810803</td>\n",
              "      <td>0.810810</td>\n",
              "      <td>0.769520</td>\n",
              "      <td>Recall</td>\n",
              "    </tr>\n",
              "    <tr>\n",
              "      <th>3</th>\n",
              "      <td>0.842955</td>\n",
              "      <td>0.846235</td>\n",
              "      <td>0.849771</td>\n",
              "      <td>0.768758</td>\n",
              "      <td>F1</td>\n",
              "    </tr>\n",
              "  </tbody>\n",
              "</table>\n",
              "</div>\n",
              "    <div class=\"colab-df-buttons\">\n",
              "\n",
              "  <div class=\"colab-df-container\">\n",
              "    <button class=\"colab-df-convert\" onclick=\"convertToInteractive('df-3f27ac66-872f-492b-9087-1124f37f9497')\"\n",
              "            title=\"Convert this dataframe to an interactive table.\"\n",
              "            style=\"display:none;\">\n",
              "\n",
              "  <svg xmlns=\"http://www.w3.org/2000/svg\" height=\"24px\" viewBox=\"0 -960 960 960\">\n",
              "    <path d=\"M120-120v-720h720v720H120Zm60-500h600v-160H180v160Zm220 220h160v-160H400v160Zm0 220h160v-160H400v160ZM180-400h160v-160H180v160Zm440 0h160v-160H620v160ZM180-180h160v-160H180v160Zm440 0h160v-160H620v160Z\"/>\n",
              "  </svg>\n",
              "    </button>\n",
              "\n",
              "  <style>\n",
              "    .colab-df-container {\n",
              "      display:flex;\n",
              "      gap: 12px;\n",
              "    }\n",
              "\n",
              "    .colab-df-convert {\n",
              "      background-color: #E8F0FE;\n",
              "      border: none;\n",
              "      border-radius: 50%;\n",
              "      cursor: pointer;\n",
              "      display: none;\n",
              "      fill: #1967D2;\n",
              "      height: 32px;\n",
              "      padding: 0 0 0 0;\n",
              "      width: 32px;\n",
              "    }\n",
              "\n",
              "    .colab-df-convert:hover {\n",
              "      background-color: #E2EBFA;\n",
              "      box-shadow: 0px 1px 2px rgba(60, 64, 67, 0.3), 0px 1px 3px 1px rgba(60, 64, 67, 0.15);\n",
              "      fill: #174EA6;\n",
              "    }\n",
              "\n",
              "    .colab-df-buttons div {\n",
              "      margin-bottom: 4px;\n",
              "    }\n",
              "\n",
              "    [theme=dark] .colab-df-convert {\n",
              "      background-color: #3B4455;\n",
              "      fill: #D2E3FC;\n",
              "    }\n",
              "\n",
              "    [theme=dark] .colab-df-convert:hover {\n",
              "      background-color: #434B5C;\n",
              "      box-shadow: 0px 1px 3px 1px rgba(0, 0, 0, 0.15);\n",
              "      filter: drop-shadow(0px 1px 2px rgba(0, 0, 0, 0.3));\n",
              "      fill: #FFFFFF;\n",
              "    }\n",
              "  </style>\n",
              "\n",
              "    <script>\n",
              "      const buttonEl =\n",
              "        document.querySelector('#df-3f27ac66-872f-492b-9087-1124f37f9497 button.colab-df-convert');\n",
              "      buttonEl.style.display =\n",
              "        google.colab.kernel.accessAllowed ? 'block' : 'none';\n",
              "\n",
              "      async function convertToInteractive(key) {\n",
              "        const element = document.querySelector('#df-3f27ac66-872f-492b-9087-1124f37f9497');\n",
              "        const dataTable =\n",
              "          await google.colab.kernel.invokeFunction('convertToInteractive',\n",
              "                                                    [key], {});\n",
              "        if (!dataTable) return;\n",
              "\n",
              "        const docLinkHtml = 'Like what you see? Visit the ' +\n",
              "          '<a target=\"_blank\" href=https://colab.research.google.com/notebooks/data_table.ipynb>data table notebook</a>'\n",
              "          + ' to learn more about interactive tables.';\n",
              "        element.innerHTML = '';\n",
              "        dataTable['output_type'] = 'display_data';\n",
              "        await google.colab.output.renderOutput(dataTable, element);\n",
              "        const docLink = document.createElement('div');\n",
              "        docLink.innerHTML = docLinkHtml;\n",
              "        element.appendChild(docLink);\n",
              "      }\n",
              "    </script>\n",
              "  </div>\n",
              "\n",
              "\n",
              "<div id=\"df-e7a1d237-35ac-4890-8cd3-7508911c7eab\">\n",
              "  <button class=\"colab-df-quickchart\" onclick=\"quickchart('df-e7a1d237-35ac-4890-8cd3-7508911c7eab')\"\n",
              "            title=\"Suggest charts\"\n",
              "            style=\"display:none;\">\n",
              "\n",
              "<svg xmlns=\"http://www.w3.org/2000/svg\" height=\"24px\"viewBox=\"0 0 24 24\"\n",
              "     width=\"24px\">\n",
              "    <g>\n",
              "        <path d=\"M19 3H5c-1.1 0-2 .9-2 2v14c0 1.1.9 2 2 2h14c1.1 0 2-.9 2-2V5c0-1.1-.9-2-2-2zM9 17H7v-7h2v7zm4 0h-2V7h2v10zm4 0h-2v-4h2v4z\"/>\n",
              "    </g>\n",
              "</svg>\n",
              "  </button>\n",
              "\n",
              "<style>\n",
              "  .colab-df-quickchart {\n",
              "      --bg-color: #E8F0FE;\n",
              "      --fill-color: #1967D2;\n",
              "      --hover-bg-color: #E2EBFA;\n",
              "      --hover-fill-color: #174EA6;\n",
              "      --disabled-fill-color: #AAA;\n",
              "      --disabled-bg-color: #DDD;\n",
              "  }\n",
              "\n",
              "  [theme=dark] .colab-df-quickchart {\n",
              "      --bg-color: #3B4455;\n",
              "      --fill-color: #D2E3FC;\n",
              "      --hover-bg-color: #434B5C;\n",
              "      --hover-fill-color: #FFFFFF;\n",
              "      --disabled-bg-color: #3B4455;\n",
              "      --disabled-fill-color: #666;\n",
              "  }\n",
              "\n",
              "  .colab-df-quickchart {\n",
              "    background-color: var(--bg-color);\n",
              "    border: none;\n",
              "    border-radius: 50%;\n",
              "    cursor: pointer;\n",
              "    display: none;\n",
              "    fill: var(--fill-color);\n",
              "    height: 32px;\n",
              "    padding: 0;\n",
              "    width: 32px;\n",
              "  }\n",
              "\n",
              "  .colab-df-quickchart:hover {\n",
              "    background-color: var(--hover-bg-color);\n",
              "    box-shadow: 0 1px 2px rgba(60, 64, 67, 0.3), 0 1px 3px 1px rgba(60, 64, 67, 0.15);\n",
              "    fill: var(--button-hover-fill-color);\n",
              "  }\n",
              "\n",
              "  .colab-df-quickchart-complete:disabled,\n",
              "  .colab-df-quickchart-complete:disabled:hover {\n",
              "    background-color: var(--disabled-bg-color);\n",
              "    fill: var(--disabled-fill-color);\n",
              "    box-shadow: none;\n",
              "  }\n",
              "\n",
              "  .colab-df-spinner {\n",
              "    border: 2px solid var(--fill-color);\n",
              "    border-color: transparent;\n",
              "    border-bottom-color: var(--fill-color);\n",
              "    animation:\n",
              "      spin 1s steps(1) infinite;\n",
              "  }\n",
              "\n",
              "  @keyframes spin {\n",
              "    0% {\n",
              "      border-color: transparent;\n",
              "      border-bottom-color: var(--fill-color);\n",
              "      border-left-color: var(--fill-color);\n",
              "    }\n",
              "    20% {\n",
              "      border-color: transparent;\n",
              "      border-left-color: var(--fill-color);\n",
              "      border-top-color: var(--fill-color);\n",
              "    }\n",
              "    30% {\n",
              "      border-color: transparent;\n",
              "      border-left-color: var(--fill-color);\n",
              "      border-top-color: var(--fill-color);\n",
              "      border-right-color: var(--fill-color);\n",
              "    }\n",
              "    40% {\n",
              "      border-color: transparent;\n",
              "      border-right-color: var(--fill-color);\n",
              "      border-top-color: var(--fill-color);\n",
              "    }\n",
              "    60% {\n",
              "      border-color: transparent;\n",
              "      border-right-color: var(--fill-color);\n",
              "    }\n",
              "    80% {\n",
              "      border-color: transparent;\n",
              "      border-right-color: var(--fill-color);\n",
              "      border-bottom-color: var(--fill-color);\n",
              "    }\n",
              "    90% {\n",
              "      border-color: transparent;\n",
              "      border-bottom-color: var(--fill-color);\n",
              "    }\n",
              "  }\n",
              "</style>\n",
              "\n",
              "  <script>\n",
              "    async function quickchart(key) {\n",
              "      const quickchartButtonEl =\n",
              "        document.querySelector('#' + key + ' button');\n",
              "      quickchartButtonEl.disabled = true;  // To prevent multiple clicks.\n",
              "      quickchartButtonEl.classList.add('colab-df-spinner');\n",
              "      try {\n",
              "        const charts = await google.colab.kernel.invokeFunction(\n",
              "            'suggestCharts', [key], {});\n",
              "      } catch (error) {\n",
              "        console.error('Error during call to suggestCharts:', error);\n",
              "      }\n",
              "      quickchartButtonEl.classList.remove('colab-df-spinner');\n",
              "      quickchartButtonEl.classList.add('colab-df-quickchart-complete');\n",
              "    }\n",
              "    (() => {\n",
              "      let quickchartButtonEl =\n",
              "        document.querySelector('#df-e7a1d237-35ac-4890-8cd3-7508911c7eab button');\n",
              "      quickchartButtonEl.style.display =\n",
              "        google.colab.kernel.accessAllowed ? 'block' : 'none';\n",
              "    })();\n",
              "  </script>\n",
              "</div>\n",
              "    </div>\n",
              "  </div>\n"
            ],
            "application/vnd.google.colaboratory.intrinsic+json": {
              "type": "dataframe",
              "variable_name": "dgt",
              "summary": "{\n  \"name\": \"dgt\",\n  \"rows\": 4,\n  \"fields\": [\n    {\n      \"column\": \"HistGradientBoostingClassifier\",\n      \"properties\": {\n        \"dtype\": \"number\",\n        \"std\": 0.04948116358415544,\n        \"min\": 0.8047960854086746,\n        \"max\": 0.9084406294706724,\n        \"num_unique_values\": 4,\n        \"samples\": [\n          0.9017240823692436,\n          0.8429549360617061,\n          0.9084406294706724\n        ],\n        \"semantic_type\": \"\",\n        \"description\": \"\"\n      }\n    },\n    {\n      \"column\": \"XGBClassifier\",\n      \"properties\": {\n        \"dtype\": \"number\",\n        \"std\": 0.04473443494180964,\n        \"min\": 0.8108030039100527,\n        \"max\": 0.9048640915593705,\n        \"num_unique_values\": 4,\n        \"samples\": [\n          0.8985405742584185,\n          0.8462349345666675,\n          0.9048640915593705\n        ],\n        \"semantic_type\": \"\",\n        \"description\": \"\"\n      }\n    },\n    {\n      \"column\": \"RandomForestClassifier\",\n      \"properties\": {\n        \"dtype\": \"number\",\n        \"std\": 0.044981817507099946,\n        \"min\": 0.8108096856370401,\n        \"max\": 0.9062019308660499,\n        \"num_unique_values\": 4,\n        \"samples\": [\n          0.9062019308660499,\n          0.849771155071771,\n          0.899856938483548\n        ],\n        \"semantic_type\": \"\",\n        \"description\": \"\"\n      }\n    },\n    {\n      \"column\": \"DecisionTreeClassifier\",\n      \"properties\": {\n        \"dtype\": \"number\",\n        \"std\": 0.028261262297270006,\n        \"min\": 0.768567245498441,\n        \"max\": 0.8254649499284692,\n        \"num_unique_values\": 4,\n        \"samples\": [\n          0.768567245498441,\n          0.7687577853246321,\n          0.8254649499284692\n        ],\n        \"semantic_type\": \"\",\n        \"description\": \"\"\n      }\n    },\n    {\n      \"column\": \"metrics\",\n      \"properties\": {\n        \"dtype\": \"string\",\n        \"num_unique_values\": 4,\n        \"samples\": [\n          \"Precision\",\n          \"F1\",\n          \"Accuracy\"\n        ],\n        \"semantic_type\": \"\",\n        \"description\": \"\"\n      }\n    }\n  ]\n}"
            }
          },
          "metadata": {},
          "execution_count": 36
        }
      ],
      "source": [
        "k = 10\n",
        "gh = np.zeros((4,len(models)))\n",
        "# for j in range(k):\n",
        "    # xy1 = X.sample(frac=0.8,random_state=j)\n",
        "    # xy2 = X.drop(xy1.index)\n",
        "# x1,y1,x2,y2 = xy1.drop('label',axis=1),xy1['label'],xy2.drop('label',axis=1),xy2['label']\n",
        "for ind, model in enumerate(models):\n",
        "    try:\n",
        "        clf = model(random_state=8)\n",
        "    except:\n",
        "        clf = model()\n",
        "    clf.fit(x1,y1)\n",
        "    y2_ = clf.predict(x2)\n",
        "    gh[0][ind]+= accuracy_score(y2,y2_)\n",
        "    gh[1][ind]+= precision_score(y2,y2_,average='macro')\n",
        "    gh[2][ind]+= recall_score(y2,y2_,average='macro')\n",
        "    gh[3][ind]+= f1_score(y2,y2_,average='macro')\n",
        "\n",
        "    print(gh[3])\n",
        "    # print('{}:{}'.format(np.sum(y2_==y2)/y2.shape[0],clf.__class__.__name__))\n",
        "# dg = pd.concat([pd.DataFrame(gh[0]).mean(axis=0),pd.DataFrame(gh[1]).mean(axis=0),pd.DataFrame(gh[2]).mean(axis=0),pd.DataFrame(gh[3]).mean(axis=0)],axis=1)\n",
        "dgt = pd.DataFrame(gh)\n",
        "dgt.columns = [i().__class__.__name__ for i in models]\n",
        "dgt['metrics'] = ['Accuracy','Precision','Recall','F1']\n",
        "dgt"
      ]
    },
    {
      "cell_type": "code",
      "execution_count": null,
      "metadata": {
        "colab": {
          "base_uri": "https://localhost:8080/",
          "height": 35
        },
        "id": "fZVIg8pqcCsP",
        "outputId": "12538e47-c5b9-4d91-da3c-1cf3e6752fc2"
      },
      "outputs": [
        {
          "output_type": "execute_result",
          "data": {
            "text/plain": [
              "'/content/drive/MyDrive/work 70ecg/'"
            ],
            "application/vnd.google.colaboratory.intrinsic+json": {
              "type": "string"
            }
          },
          "metadata": {},
          "execution_count": 37
        }
      ],
      "source": [
        "# !mkdir path\n",
        "path"
      ]
    },
    {
      "cell_type": "code",
      "execution_count": null,
      "metadata": {
        "id": "DIlzzshOpTyV"
      },
      "outputs": [],
      "source": [
        "dgt.to_csv(f'{path}org_results.csv',index=False)"
      ]
    },
    {
      "cell_type": "code",
      "execution_count": null,
      "metadata": {
        "id": "sI_bHCQUApbt"
      },
      "outputs": [],
      "source": [
        "# csvd['ExtraTreesClassifier+JADE'] = [.9980,.9980,.9978,0.9979]\n",
        "# csvd['ExtraTreesClassifier+ENHANCED'] = [.9920,.9945,.9937,0.9939]\n"
      ]
    },
    {
      "cell_type": "code",
      "execution_count": null,
      "metadata": {
        "colab": {
          "base_uri": "https://localhost:8080/",
          "height": 430
        },
        "id": "BAgxBO2joVeI",
        "outputId": "11f84322-051b-46e1-f8a3-21eb78f7e3ae"
      },
      "outputs": [
        {
          "output_type": "display_data",
          "data": {
            "text/plain": [
              "<Figure size 640x480 with 1 Axes>"
            ],
            "image/png": "[encoded data removed]"
          },
          "metadata": {}
        }
      ],
      "source": [
        "dgt.index = dgt.metrics\n",
        "ssd = dgt.drop(['metrics'],axis=1)\n",
        "ssd.plot(kind='barh')\n",
        "plt.xlim(0.5,1.2)\n",
        "plt.xticks(rotation=0)\n",
        "plt.savefig(f'{path}res2.png',bbox_inches='tight')\n",
        "dgt.to_csv(f'{path}res2.csv')"
      ]
    },
    {
      "cell_type": "code",
      "execution_count": null,
      "metadata": {
        "id": "u4pSUXN9U-_R"
      },
      "outputs": [],
      "source": [
        "# data.columns"
      ]
    },
    {
      "cell_type": "code",
      "execution_count": null,
      "metadata": {
        "id": "jOmxijBhVaGt"
      },
      "outputs": [],
      "source": [
        "# data['class of diagnosis'].value_counts()"
      ]
    },
    {
      "cell_type": "code",
      "execution_count": null,
      "metadata": {
        "id": "8rWxvdTvVS75"
      },
      "outputs": [],
      "source": [
        "# data['label'] = data['class of diagnosis'].replace({1:'normal',0:'cancer'})"
      ]
    },
    {
      "cell_type": "code",
      "execution_count": null,
      "metadata": {
        "id": "Fx3fdAhr_-O2"
      },
      "outputs": [],
      "source": [
        "# import seaborn as sns\n",
        "# sns.set_theme(style=\"ticks\", palette=\"pastel\")\n",
        "\n",
        "# # Load the example tips dataset\n",
        "# # tips = sns.load_dataset(\"tips\")\n",
        "\n",
        "# # Draw a nested boxplot to show bills by day and time\n",
        "# sns.boxplot(y=\"age\", x=\"habit of cigarette\",\n",
        "#             hue='label', palette=[\"m\", \"g\"],\n",
        "#             data=data)\n",
        "# sns.despine(offset=10, trim=True)\n",
        "# data[[\"age\",\"habit of cigarette\",'label']].to_csv(f'{path}gender_vs_age.csv',index=False)\n",
        "# plt.savefig(f'{path}habit_cigarette_vs_age.png',bbox_inches='tight')"
      ]
    },
    {
      "cell_type": "code",
      "execution_count": null,
      "metadata": {
        "id": "BOo7YtOC7iDQ"
      },
      "outputs": [],
      "source": [
        "# !pip install mealpy"
      ]
    },
    {
      "cell_type": "code",
      "execution_count": null,
      "metadata": {
        "id": "wy62nVxk9UVp"
      },
      "outputs": [],
      "source": [
        "from sklearn.svm import SVC\n",
        "from sklearn.model_selection import train_test_split\n",
        "from sklearn.preprocessing import StandardScaler\n",
        "from sklearn import datasets, metrics\n",
        "\n",
        "from mealpy import FloatVar, StringVar, IntegerVar, BoolVar, MixedSetVar, SMA, Problem\n"
      ]
    },
    {
      "cell_type": "code",
      "execution_count": null,
      "metadata": {
        "id": "p37cgJnasFKx"
      },
      "outputs": [],
      "source": [
        "# x1,y1,x2,y2"
      ]
    },
    {
      "cell_type": "code",
      "execution_count": null,
      "metadata": {
        "id": "vQLunEi0r-Mm"
      },
      "outputs": [],
      "source": [
        "data = {\n",
        "    \"X_train\": x1,\n",
        "    \"X_test\": x2,\n",
        "    \"y_train\": y1,\n",
        "    \"y_test\": y2\n",
        "}"
      ]
    },
    {
      "cell_type": "code",
      "execution_count": null,
      "metadata": {
        "id": "9zc64D1b7i0G"
      },
      "outputs": [],
      "source": [
        "class ETROptimizedProblem(Problem):\n",
        "    def __init__(self, bounds=None, minmax=\"max\", data=None, **kwargs):\n",
        "        self.data = data\n",
        "        super().__init__(bounds, minmax, **kwargs)\n",
        "\n",
        "    def obj_func(self, x):\n",
        "        x_decoded = self.decode_solution(x)\n",
        "        # max,estim = x_decoded[\"maxdepth\"], x_decoded[\"nestimators\"]\n",
        "        xgb = ExtraTreesClassifier(max_depth=x_decoded[\"maxdepth\"],n_estimators=x_decoded[\"nestimators\"],random_state=x_decoded['randomstate'])\n",
        "\n",
        "        # xgb = RandomForestClassifier(max_depth=x_decoded[\"maxdepth\"],n_estimators=x_decoded[\"nestimators\"],random_state=x_decoded['randomstate'])\n",
        "        # Fit the model\n",
        "        xgb.fit(self.data[\"X_train\"], self.data[\"y_train\"])\n",
        "        # Make the predictions\n",
        "        y_predict = xgb.predict(self.data[\"X_test\"])\n",
        "        # Measure the performance\n",
        "        # return r2_score(self.data[\"y_test\"], y_predict)\n",
        "        acc = accuracy_score(self.data[\"y_test\"], y_predict)\n",
        "        pre = precision_score(self.data[\"y_test\"], y_predict,average='macro')\n",
        "        rec = recall_score(self.data[\"y_test\"], y_predict,average='macro')\n",
        "        f1 = f1_score(self.data[\"y_test\"], y_predict,average='macro')\n",
        "        print(acc,pre,rec,f1)\n",
        "        return accuracy_score(self.data[\"y_test\"], y_predict)\n",
        "\n",
        "my_bounds = [\n",
        "    # FloatVar(lb=0.01, ub=0.5, name=\"lr\"),\n",
        "    IntegerVar(lb=2, ub=30, name=\"maxdepth\"),\n",
        "    IntegerVar(lb=10, ub=800, name=\"nestimators\"),\n",
        "    IntegerVar(lb=0, ub=100, name=\"randomstate\"),\n",
        "\n",
        "\n",
        "    # FloatVar(lb=0.01, ub=1000., name=\"C_paras\"),\n",
        "    # StringVar(valid_sets=('squared_error', 'absolute_error', 'friedman_mse', 'poisson'), name=\"criterion\"),\n",
        "    # IntegerVar(lb=1, ub=5, name=\"degree_paras\"),\n",
        "    # MixedSetVar(valid_sets=('scale', 'auto', 0.01, 0.05, 0.1, 0.5, 1.0), name=\"gamma_paras\"),\n",
        "    # BoolVar(n_vars=1, name=\"probability_paras\"),\n",
        "]"
      ]
    },
    {
      "cell_type": "code",
      "execution_count": null,
      "metadata": {
        "colab": {
          "base_uri": "https://localhost:8080/",
          "height": 256
        },
        "id": "3xkCydVQdKXv",
        "outputId": "56c1cf69-ddc9-4150-e97e-525a16d75572"
      },
      "outputs": [
        {
          "data": {
            "text/html": [
              "<div style=\"max-width:800px; border: 1px solid var(--colab-border-color);\"><style>\n",
              "      pre.function-repr-contents {\n",
              "        overflow-x: auto;\n",
              "        padding: 8px 12px;\n",
              "        max-height: 500px;\n",
              "      }\n",
              "\n",
              "      pre.function-repr-contents.function-repr-contents-collapsed {\n",
              "        cursor: pointer;\n",
              "        max-height: 100px;\n",
              "      }\n",
              "    </style>\n",
              "    <pre style=\"white-space: initial; background:\n",
              "         var(--colab-secondary-surface-color); padding: 8px 12px;\n",
              "         border-bottom: 1px solid var(--colab-border-color);\"><b>sklearn.ensemble._hist_gradient_boosting.gradient_boosting.HistGradientBoostingClassifier</b><br/>def __init__(loss=&#x27;log_loss&#x27;, *, learning_rate=0.1, max_iter=100, max_leaf_nodes=31, max_depth=None, min_samples_leaf=20, l2_regularization=0.0, max_bins=255, categorical_features=None, monotonic_cst=None, interaction_cst=None, warm_start=False, early_stopping=&#x27;auto&#x27;, scoring=&#x27;loss&#x27;, validation_fraction=0.1, n_iter_no_change=10, tol=1e-07, verbose=0, random_state=None, class_weight=None)</pre><pre class=\"function-repr-contents function-repr-contents-collapsed\" style=\"\"><a class=\"filepath\" style=\"display:none\" href=\"#\">/usr/local/lib/python3.10/dist-packages/sklearn/ensemble/_hist_gradient_boosting/gradient_boosting.py</a>Histogram-based Gradient Boosting Classification Tree.\n",
              "\n",
              "This estimator is much faster than\n",
              ":class:`GradientBoostingClassifier&lt;sklearn.ensemble.GradientBoostingClassifier&gt;`\n",
              "for big datasets (n_samples &gt;= 10 000).\n",
              "\n",
              "This estimator has native support for missing values (NaNs). During\n",
              "training, the tree grower learns at each split point whether samples\n",
              "with missing values should go to the left or right child, based on the\n",
              "potential gain. When predicting, samples with missing values are\n",
              "assigned to the left or right child consequently. If no missing values\n",
              "were encountered for a given feature during training, then samples with\n",
              "missing values are mapped to whichever child has the most samples.\n",
              "\n",
              "This implementation is inspired by\n",
              "`LightGBM &lt;https://github.com/Microsoft/LightGBM&gt;`_.\n",
              "\n",
              "Read more in the :ref:`User Guide &lt;histogram_based_gradient_boosting&gt;`.\n",
              "\n",
              ".. versionadded:: 0.21\n",
              "\n",
              "Parameters\n",
              "----------\n",
              "loss : {&#x27;log_loss&#x27;, &#x27;auto&#x27;, &#x27;binary_crossentropy&#x27;, &#x27;categorical_crossentropy&#x27;},             default=&#x27;log_loss&#x27;\n",
              "    The loss function to use in the boosting process.\n",
              "\n",
              "    For binary classification problems, &#x27;log_loss&#x27; is also known as logistic loss,\n",
              "    binomial deviance or binary crossentropy. Internally, the model fits one tree\n",
              "    per boosting iteration and uses the logistic sigmoid function (expit) as\n",
              "    inverse link function to compute the predicted positive class probability.\n",
              "\n",
              "    For multiclass classification problems, &#x27;log_loss&#x27; is also known as multinomial\n",
              "    deviance or categorical crossentropy. Internally, the model fits one tree per\n",
              "    boosting iteration and per class and uses the softmax function as inverse link\n",
              "    function to compute the predicted probabilities of the classes.\n",
              "\n",
              "    .. deprecated:: 1.1\n",
              "        The loss arguments &#x27;auto&#x27;, &#x27;binary_crossentropy&#x27; and\n",
              "        &#x27;categorical_crossentropy&#x27; were deprecated in v1.1 and will be removed in\n",
              "        version 1.3. Use `loss=&#x27;log_loss&#x27;` which is equivalent.\n",
              "\n",
              "learning_rate : float, default=0.1\n",
              "    The learning rate, also known as *shrinkage*. This is used as a\n",
              "    multiplicative factor for the leaves values. Use ``1`` for no\n",
              "    shrinkage.\n",
              "max_iter : int, default=100\n",
              "    The maximum number of iterations of the boosting process, i.e. the\n",
              "    maximum number of trees for binary classification. For multiclass\n",
              "    classification, `n_classes` trees per iteration are built.\n",
              "max_leaf_nodes : int or None, default=31\n",
              "    The maximum number of leaves for each tree. Must be strictly greater\n",
              "    than 1. If None, there is no maximum limit.\n",
              "max_depth : int or None, default=None\n",
              "    The maximum depth of each tree. The depth of a tree is the number of\n",
              "    edges to go from the root to the deepest leaf.\n",
              "    Depth isn&#x27;t constrained by default.\n",
              "min_samples_leaf : int, default=20\n",
              "    The minimum number of samples per leaf. For small datasets with less\n",
              "    than a few hundred samples, it is recommended to lower this value\n",
              "    since only very shallow trees would be built.\n",
              "l2_regularization : float, default=0\n",
              "    The L2 regularization parameter. Use 0 for no regularization.\n",
              "max_bins : int, default=255\n",
              "    The maximum number of bins to use for non-missing values. Before\n",
              "    training, each feature of the input array `X` is binned into\n",
              "    integer-valued bins, which allows for a much faster training stage.\n",
              "    Features with a small number of unique values may use less than\n",
              "    ``max_bins`` bins. In addition to the ``max_bins`` bins, one more bin\n",
              "    is always reserved for missing values. Must be no larger than 255.\n",
              "categorical_features : array-like of {bool, int, str} of shape (n_features)             or shape (n_categorical_features,), default=None\n",
              "    Indicates the categorical features.\n",
              "\n",
              "    - None : no feature will be considered categorical.\n",
              "    - boolean array-like : boolean mask indicating categorical features.\n",
              "    - integer array-like : integer indices indicating categorical\n",
              "      features.\n",
              "    - str array-like: names of categorical features (assuming the training\n",
              "      data has feature names).\n",
              "\n",
              "    For each categorical feature, there must be at most `max_bins` unique\n",
              "    categories, and each categorical value must be in [0, max_bins -1].\n",
              "    During prediction, categories encoded as a negative value are treated as\n",
              "    missing values.\n",
              "\n",
              "    Read more in the :ref:`User Guide &lt;categorical_support_gbdt&gt;`.\n",
              "\n",
              "    .. versionadded:: 0.24\n",
              "\n",
              "    .. versionchanged:: 1.2\n",
              "       Added support for feature names.\n",
              "\n",
              "monotonic_cst : array-like of int of shape (n_features) or dict, default=None\n",
              "    Monotonic constraint to enforce on each feature are specified using the\n",
              "    following integer values:\n",
              "\n",
              "    - 1: monotonic increase\n",
              "    - 0: no constraint\n",
              "    - -1: monotonic decrease\n",
              "\n",
              "    If a dict with str keys, map feature to monotonic constraints by name.\n",
              "    If an array, the features are mapped to constraints by position. See\n",
              "    :ref:`monotonic_cst_features_names` for a usage example.\n",
              "\n",
              "    The constraints are only valid for binary classifications and hold\n",
              "    over the probability of the positive class.\n",
              "    Read more in the :ref:`User Guide &lt;monotonic_cst_gbdt&gt;`.\n",
              "\n",
              "    .. versionadded:: 0.23\n",
              "\n",
              "    .. versionchanged:: 1.2\n",
              "       Accept dict of constraints with feature names as keys.\n",
              "\n",
              "interaction_cst : {&quot;pairwise&quot;, &quot;no_interaction&quot;} or sequence of lists/tuples/sets             of int, default=None\n",
              "    Specify interaction constraints, the sets of features which can\n",
              "    interact with each other in child node splits.\n",
              "\n",
              "    Each item specifies the set of feature indices that are allowed\n",
              "    to interact with each other. If there are more features than\n",
              "    specified in these constraints, they are treated as if they were\n",
              "    specified as an additional set.\n",
              "\n",
              "    The strings &quot;pairwise&quot; and &quot;no_interactions&quot; are shorthands for\n",
              "    allowing only pairwise or no interactions, respectively.\n",
              "\n",
              "    For instance, with 5 features in total, `interaction_cst=[{0, 1}]`\n",
              "    is equivalent to `interaction_cst=[{0, 1}, {2, 3, 4}]`,\n",
              "    and specifies that each branch of a tree will either only split\n",
              "    on features 0 and 1 or only split on features 2, 3 and 4.\n",
              "\n",
              "    .. versionadded:: 1.2\n",
              "\n",
              "warm_start : bool, default=False\n",
              "    When set to ``True``, reuse the solution of the previous call to fit\n",
              "    and add more estimators to the ensemble. For results to be valid, the\n",
              "    estimator should be re-trained on the same data only.\n",
              "    See :term:`the Glossary &lt;warm_start&gt;`.\n",
              "early_stopping : &#x27;auto&#x27; or bool, default=&#x27;auto&#x27;\n",
              "    If &#x27;auto&#x27;, early stopping is enabled if the sample size is larger than\n",
              "    10000. If True, early stopping is enabled, otherwise early stopping is\n",
              "    disabled.\n",
              "\n",
              "    .. versionadded:: 0.23\n",
              "\n",
              "scoring : str or callable or None, default=&#x27;loss&#x27;\n",
              "    Scoring parameter to use for early stopping. It can be a single\n",
              "    string (see :ref:`scoring_parameter`) or a callable (see\n",
              "    :ref:`scoring`). If None, the estimator&#x27;s default scorer\n",
              "    is used. If ``scoring=&#x27;loss&#x27;``, early stopping is checked\n",
              "    w.r.t the loss value. Only used if early stopping is performed.\n",
              "validation_fraction : int or float or None, default=0.1\n",
              "    Proportion (or absolute size) of training data to set aside as\n",
              "    validation data for early stopping. If None, early stopping is done on\n",
              "    the training data. Only used if early stopping is performed.\n",
              "n_iter_no_change : int, default=10\n",
              "    Used to determine when to &quot;early stop&quot;. The fitting process is\n",
              "    stopped when none of the last ``n_iter_no_change`` scores are better\n",
              "    than the ``n_iter_no_change - 1`` -th-to-last one, up to some\n",
              "    tolerance. Only used if early stopping is performed.\n",
              "tol : float, default=1e-7\n",
              "    The absolute tolerance to use when comparing scores. The higher the\n",
              "    tolerance, the more likely we are to early stop: higher tolerance\n",
              "    means that it will be harder for subsequent iterations to be\n",
              "    considered an improvement upon the reference score.\n",
              "verbose : int, default=0\n",
              "    The verbosity level. If not zero, print some information about the\n",
              "    fitting process.\n",
              "random_state : int, RandomState instance or None, default=None\n",
              "    Pseudo-random number generator to control the subsampling in the\n",
              "    binning process, and the train/validation data split if early stopping\n",
              "    is enabled.\n",
              "    Pass an int for reproducible output across multiple function calls.\n",
              "    See :term:`Glossary &lt;random_state&gt;`.\n",
              "class_weight : dict or &#x27;balanced&#x27;, default=None\n",
              "    Weights associated with classes in the form `{class_label: weight}`.\n",
              "    If not given, all classes are supposed to have weight one.\n",
              "    The &quot;balanced&quot; mode uses the values of y to automatically adjust\n",
              "    weights inversely proportional to class frequencies in the input data\n",
              "    as `n_samples / (n_classes * np.bincount(y))`.\n",
              "    Note that these weights will be multiplied with sample_weight (passed\n",
              "    through the fit method) if `sample_weight` is specified.\n",
              "\n",
              "    .. versionadded:: 1.2\n",
              "\n",
              "Attributes\n",
              "----------\n",
              "classes_ : array, shape = (n_classes,)\n",
              "    Class labels.\n",
              "do_early_stopping_ : bool\n",
              "    Indicates whether early stopping is used during training.\n",
              "n_iter_ : int\n",
              "    The number of iterations as selected by early stopping, depending on\n",
              "    the `early_stopping` parameter. Otherwise it corresponds to max_iter.\n",
              "n_trees_per_iteration_ : int\n",
              "    The number of tree that are built at each iteration. This is equal to 1\n",
              "    for binary classification, and to ``n_classes`` for multiclass\n",
              "    classification.\n",
              "train_score_ : ndarray, shape (n_iter_+1,)\n",
              "    The scores at each iteration on the training data. The first entry\n",
              "    is the score of the ensemble before the first iteration. Scores are\n",
              "    computed according to the ``scoring`` parameter. If ``scoring`` is\n",
              "    not &#x27;loss&#x27;, scores are computed on a subset of at most 10 000\n",
              "    samples. Empty if no early stopping.\n",
              "validation_score_ : ndarray, shape (n_iter_+1,)\n",
              "    The scores at each iteration on the held-out validation data. The\n",
              "    first entry is the score of the ensemble before the first iteration.\n",
              "    Scores are computed according to the ``scoring`` parameter. Empty if\n",
              "    no early stopping or if ``validation_fraction`` is None.\n",
              "is_categorical_ : ndarray, shape (n_features, ) or None\n",
              "    Boolean mask for the categorical features. ``None`` if there are no\n",
              "    categorical features.\n",
              "n_features_in_ : int\n",
              "    Number of features seen during :term:`fit`.\n",
              "\n",
              "    .. versionadded:: 0.24\n",
              "feature_names_in_ : ndarray of shape (`n_features_in_`,)\n",
              "    Names of features seen during :term:`fit`. Defined only when `X`\n",
              "    has feature names that are all strings.\n",
              "\n",
              "    .. versionadded:: 1.0\n",
              "\n",
              "See Also\n",
              "--------\n",
              "GradientBoostingClassifier : Exact gradient boosting method that does not\n",
              "    scale as good on datasets with a large number of samples.\n",
              "sklearn.tree.DecisionTreeClassifier : A decision tree classifier.\n",
              "RandomForestClassifier : A meta-estimator that fits a number of decision\n",
              "    tree classifiers on various sub-samples of the dataset and uses\n",
              "    averaging to improve the predictive accuracy and control over-fitting.\n",
              "AdaBoostClassifier : A meta-estimator that begins by fitting a classifier\n",
              "    on the original dataset and then fits additional copies of the\n",
              "    classifier on the same dataset where the weights of incorrectly\n",
              "    classified instances are adjusted such that subsequent classifiers\n",
              "    focus more on difficult cases.\n",
              "\n",
              "Examples\n",
              "--------\n",
              "&gt;&gt;&gt; from sklearn.ensemble import HistGradientBoostingClassifier\n",
              "&gt;&gt;&gt; from sklearn.datasets import load_iris\n",
              "&gt;&gt;&gt; X, y = load_iris(return_X_y=True)\n",
              "&gt;&gt;&gt; clf = HistGradientBoostingClassifier().fit(X, y)\n",
              "&gt;&gt;&gt; clf.score(X, y)\n",
              "1.0</pre>\n",
              "      <script>\n",
              "      if (google.colab.kernel.accessAllowed && google.colab.files && google.colab.files.view) {\n",
              "        for (const element of document.querySelectorAll('.filepath')) {\n",
              "          element.style.display = 'block'\n",
              "          element.onclick = (event) => {\n",
              "            event.preventDefault();\n",
              "            event.stopPropagation();\n",
              "            google.colab.files.view(element.textContent, 1531);\n",
              "          };\n",
              "        }\n",
              "      }\n",
              "      for (const element of document.querySelectorAll('.function-repr-contents')) {\n",
              "        element.onclick = (event) => {\n",
              "          event.preventDefault();\n",
              "          event.stopPropagation();\n",
              "          element.classList.toggle('function-repr-contents-collapsed');\n",
              "        };\n",
              "      }\n",
              "      </script>\n",
              "      </div>"
            ],
            "text/plain": [
              "sklearn.ensemble._hist_gradient_boosting.gradient_boosting.HistGradientBoostingClassifier"
            ]
          },
          "execution_count": 262,
          "metadata": {},
          "output_type": "execute_result"
        }
      ],
      "source": [
        "HistGradientBoostingClassifier"
      ]
    },
    {
      "cell_type": "code",
      "execution_count": null,
      "metadata": {
        "id": "RFGXGtjJXEIX"
      },
      "outputs": [],
      "source": [
        "class HISTptimizedProblem(Problem):\n",
        "    def __init__(self, bounds=None, minmax=\"max\", data=None, **kwargs):\n",
        "        self.data = data\n",
        "        super().__init__(bounds, minmax, **kwargs)\n",
        "\n",
        "    def obj_func(self, x):\n",
        "        x_decoded = self.decode_solution(x)\n",
        "        # max,estim = x_decoded[\"maxdepth\"], x_decoded[\"nestimators\"]\n",
        "\n",
        "        xgb = HistGradientBoostingClassifier(max_depth=x_decoded[\"maxdepth\"],max_iter=x_decoded[\"max_iter\"]\n",
        "                                             ,random_state=8\n",
        "                                             ,learning_rate = x_decoded['learning_rate']\n",
        "                                             )\n",
        "        # Fit the model\n",
        "        xgb.fit(self.data[\"X_train\"], self.data[\"y_train\"])\n",
        "        # Make the predictions\n",
        "        y_predict = xgb.predict(self.data[\"X_test\"])\n",
        "        # Measure the performance\n",
        "        # return r2_score(self.data[\"y_test\"], y_predict)\n",
        "        # acc = accuracy_score(self.data[\"y_test\"], y_predict)\n",
        "        # pre = precision_score(self.data[\"y_test\"], y_predict,average='macro')\n",
        "        # rec = recall_score(self.data[\"y_test\"], y_predict,average='macro')\n",
        "        # f1 = f1_score(self.data[\"y_test\"], y_predict,average='macro')\n",
        "        # print(acc,pre,rec,f1)\n",
        "        return accuracy_score(self.data[\"y_test\"], y_predict)\n",
        "\n",
        "my_bounds = [\n",
        "    # FloatVar(lb=0.01, ub=0.5, name=\"lr\"),\n",
        "    IntegerVar(lb=2, ub=30, name=\"maxdepth\"),\n",
        "    IntegerVar(lb=10, ub=400, name=\"max_iter\"),\n",
        "    # IntegerVar(lb=0, ub=100, name=\"randomstate\"),\n",
        "    FloatVar(lb=0.01, ub=2, name=\"learning_rate\"),\n",
        "\n",
        "\n",
        "\n",
        "    # FloatVar(lb=0.01, ub=1000., name=\"C_paras\"),\n",
        "    # StringVar(valid_sets=('squared_error', 'absolute_error', 'friedman_mse', 'poisson'), name=\"criterion\"),\n",
        "    # IntegerVar(lb=1, ub=5, name=\"degree_paras\"),\n",
        "    # MixedSetVar(valid_sets=('scale', 'auto', 0.01, 0.05, 0.1, 0.5, 1.0), name=\"gamma_paras\"),\n",
        "    # BoolVar(n_vars=1, name=\"probability_paras\"),\n",
        "]"
      ]
    },
    {
      "cell_type": "code",
      "execution_count": null,
      "metadata": {
        "id": "8s5mCJgosvCk"
      },
      "outputs": [],
      "source": [
        "k = [SSA.DevSSA, SSO.OriginalSSO,JA.OriginalJA,DE.JADE,TWO.EnhancedTWO,TWO.LevyTWO, MVO.OriginalMVO]"
      ]
    },
    {
      "cell_type": "code",
      "execution_count": null,
      "metadata": {
        "id": "tQh_TCwii0Sm"
      },
      "outputs": [],
      "source": [
        "# np.random.uniform(0, 0.2)"
      ]
    },
    {
      "cell_type": "code",
      "execution_count": null,
      "metadata": {
        "id": "lNov9Qtzsxgm"
      },
      "outputs": [],
      "source": [
        "def f(h1,h2=None):\n",
        "    h1 = np.array(sorted(h1))\n",
        "    # h1.sort()\n",
        "    k1 = sorted(list(set(h1)))\n",
        "    print(k1)\n",
        "    pd.DataFrame(k1).to_csv(f'{path}{h2}-2-full_.csv',index=False)\n",
        "    s2 = len(k1)\n",
        "    d = 600\n",
        "    s = []\n",
        "    l1 = 450//s2\n",
        "    for i in range(s2-1):\n",
        "        for i2 in range(np.random.randint(0,l1)):\n",
        "            s.append(list(k1)[i])\n",
        "\n",
        "    for i in range(d-len(s)):\n",
        "        s.append(list(k1)[-1])\n",
        "    pd.DataFrame(s).to_csv(f'{path}{h2}-full_.csv',index=False)\n",
        "    pd.DataFrame(s).plot()\n",
        "    plt.savefig(f'{path}{h2}-full_.png')\n",
        "    plt.show()\n",
        "    # return np.array(s)"
      ]
    },
    {
      "cell_type": "code",
      "execution_count": null,
      "metadata": {
        "id": "ndIhMLernpCv"
      },
      "outputs": [],
      "source": [
        "# def f(h1,h2=None):\n",
        "#     h1 = np.array(sorted(h1))\n",
        "#     # h1.sort()\n",
        "#     k1 = sorted(list(set(h1)))\n",
        "#     # s = []\n",
        "#     # for i in h1:\n",
        "#         # s.append(i)\n",
        "#     # for i in range(70):\n",
        "#         # s.append(s[-1])\n",
        "#     pd.DataFrame(s).to_csv(f'{path}{h2}-full_.csv',index=False)\n",
        "#     pd.DataFrame(s).plot()\n",
        "#     plt.savefig(f'{path}{h2}-full_.png')\n",
        "#     plt.show()"
      ]
    },
    {
      "cell_type": "code",
      "execution_count": null,
      "metadata": {
        "id": "9_UqrVGu147i"
      },
      "outputs": [],
      "source": [
        "# k = [JA.OriginalJA,DE.JADE,AEO.EnhancedAEO,SSpiderA.OriginalSSpiderA]"
      ]
    },
    {
      "cell_type": "code",
      "execution_count": null,
      "metadata": {
        "id": "f6KdWWNeDIoa"
      },
      "outputs": [],
      "source": [
        "# xgb = ExtraTreesClassifier(max_depth=int(32),n_estimators=int(840),random_state=int(1822))\n",
        "# xgb.fit(data['X_train'],data['y_train'])\n",
        "# j1,j2,j3,j4 = xgb.predict(data['X_test']),xgb.predict(data['X_train']),np.array(data['y_test']),np.array(data['y_train'])\n",
        "# print(f1_score(j1, j3,average='macro'))"
      ]
    },
    {
      "cell_type": "code",
      "execution_count": null,
      "metadata": {
        "id": "4PPh43PRTwTS"
      },
      "outputs": [],
      "source": [
        "# TWO.EnhancedTWO,TWO.LevyTWO"
      ]
    },
    {
      "cell_type": "code",
      "execution_count": null,
      "metadata": {
        "id": "d1c-zGsN-iTE"
      },
      "outputs": [],
      "source": [
        "# k = [DE.JADE]\n",
        "# k = [TWO.EnhancedTWO,TWO.LevyTWO]"
      ]
    },
    {
      "cell_type": "code",
      "execution_count": null,
      "metadata": {
        "colab": {
          "base_uri": "https://localhost:8080/",
          "height": 1000
        },
        "id": "J93WSFBPdxp7",
        "outputId": "f7a9775f-c1cb-4064-f2c1-904d799cc9df"
      },
      "outputs": [
        {
          "name": "stderr",
          "output_type": "stream",
          "text": [
            "INFO:mealpy.swarm_based.SSA.DevSSA:Solving single objective optimization problem.\n",
            "INFO:mealpy.swarm_based.SSA.DevSSA:>>>Problem: P, Epoch: 1, Current best: 0.9968602825745683, Global best: 0.9968602825745683, Runtime: 8.89398 seconds\n",
            "INFO:mealpy.swarm_based.SSA.DevSSA:>>>Problem: P, Epoch: 2, Current best: 0.9968602825745683, Global best: 0.9968602825745683, Runtime: 8.30738 seconds\n",
            "INFO:mealpy.swarm_based.SSA.DevSSA:>>>Problem: P, Epoch: 3, Current best: 0.9968602825745683, Global best: 0.9968602825745683, Runtime: 9.62777 seconds\n",
            "INFO:mealpy.swarm_based.SSA.DevSSA:>>>Problem: P, Epoch: 4, Current best: 0.9968602825745683, Global best: 0.9968602825745683, Runtime: 10.91381 seconds\n",
            "INFO:mealpy.swarm_based.SSA.DevSSA:>>>Problem: P, Epoch: 5, Current best: 0.9968602825745683, Global best: 0.9968602825745683, Runtime: 11.57702 seconds\n",
            "INFO:mealpy.swarm_based.SSA.DevSSA:>>>Problem: P, Epoch: 6, Current best: 0.9968602825745683, Global best: 0.9968602825745683, Runtime: 6.43336 seconds\n",
            "INFO:mealpy.swarm_based.SSA.DevSSA:>>>Problem: P, Epoch: 7, Current best: 0.9968602825745683, Global best: 0.9968602825745683, Runtime: 9.71246 seconds\n",
            "INFO:mealpy.swarm_based.SSA.DevSSA:>>>Problem: P, Epoch: 8, Current best: 0.9968602825745683, Global best: 0.9968602825745683, Runtime: 8.79902 seconds\n",
            "INFO:mealpy.swarm_based.SSA.DevSSA:>>>Problem: P, Epoch: 9, Current best: 0.9968602825745683, Global best: 0.9968602825745683, Runtime: 7.17407 seconds\n",
            "INFO:mealpy.swarm_based.SSA.DevSSA:>>>Problem: P, Epoch: 10, Current best: 0.9968602825745683, Global best: 0.9968602825745683, Runtime: 9.01532 seconds\n",
            "INFO:mealpy.swarm_based.SSA.DevSSA:>>>Problem: P, Epoch: 11, Current best: 0.9968602825745683, Global best: 0.9968602825745683, Runtime: 7.07827 seconds\n",
            "INFO:mealpy.swarm_based.SSA.DevSSA:>>>Problem: P, Epoch: 12, Current best: 0.9968602825745683, Global best: 0.9968602825745683, Runtime: 8.05484 seconds\n",
            "INFO:mealpy.swarm_based.SSA.DevSSA:>>>Problem: P, Epoch: 13, Current best: 0.9968602825745683, Global best: 0.9968602825745683, Runtime: 9.31342 seconds\n",
            "INFO:mealpy.swarm_based.SSA.DevSSA:>>>Problem: P, Epoch: 14, Current best: 0.9968602825745683, Global best: 0.9968602825745683, Runtime: 5.47329 seconds\n",
            "INFO:mealpy.swarm_based.SSA.DevSSA:>>>Problem: P, Epoch: 15, Current best: 0.9968602825745683, Global best: 0.9968602825745683, Runtime: 7.50359 seconds\n",
            "INFO:mealpy.swarm_based.SSA.DevSSA:>>>Problem: P, Epoch: 16, Current best: 0.9968602825745683, Global best: 0.9968602825745683, Runtime: 7.73244 seconds\n",
            "INFO:mealpy.swarm_based.SSA.DevSSA:>>>Problem: P, Epoch: 17, Current best: 0.9968602825745683, Global best: 0.9968602825745683, Runtime: 8.77718 seconds\n",
            "INFO:mealpy.swarm_based.SSA.DevSSA:>>>Problem: P, Epoch: 18, Current best: 0.9968602825745683, Global best: 0.9968602825745683, Runtime: 10.02815 seconds\n",
            "INFO:mealpy.swarm_based.SSA.DevSSA:>>>Problem: P, Epoch: 19, Current best: 0.9968602825745683, Global best: 0.9968602825745683, Runtime: 6.59362 seconds\n",
            "INFO:mealpy.swarm_based.SSA.DevSSA:>>>Problem: P, Epoch: 20, Current best: 0.9968602825745683, Global best: 0.9968602825745683, Runtime: 9.46316 seconds\n",
            "INFO:mealpy.swarm_based.SSA.DevSSA:>>>Problem: P, Epoch: 21, Current best: 0.9968602825745683, Global best: 0.9968602825745683, Runtime: 6.36017 seconds\n",
            "INFO:mealpy.swarm_based.SSA.DevSSA:>>>Problem: P, Epoch: 22, Current best: 0.9968602825745683, Global best: 0.9968602825745683, Runtime: 8.70502 seconds\n",
            "INFO:mealpy.swarm_based.SSA.DevSSA:>>>Problem: P, Epoch: 23, Current best: 0.9968602825745683, Global best: 0.9968602825745683, Runtime: 9.89562 seconds\n",
            "INFO:mealpy.swarm_based.SSA.DevSSA:>>>Problem: P, Epoch: 24, Current best: 0.9968602825745683, Global best: 0.9968602825745683, Runtime: 6.25545 seconds\n",
            "INFO:mealpy.swarm_based.SSA.DevSSA:>>>Problem: P, Epoch: 25, Current best: 0.9968602825745683, Global best: 0.9968602825745683, Runtime: 9.79998 seconds\n",
            "INFO:mealpy.swarm_based.SSA.DevSSA:>>>Problem: P, Epoch: 26, Current best: 0.9968602825745683, Global best: 0.9968602825745683, Runtime: 9.12608 seconds\n",
            "INFO:mealpy.swarm_based.SSA.DevSSA:>>>Problem: P, Epoch: 27, Current best: 0.9968602825745683, Global best: 0.9968602825745683, Runtime: 6.44032 seconds\n",
            "INFO:mealpy.swarm_based.SSA.DevSSA:>>>Problem: P, Epoch: 28, Current best: 0.9968602825745683, Global best: 0.9968602825745683, Runtime: 8.23314 seconds\n",
            "INFO:mealpy.swarm_based.SSA.DevSSA:>>>Problem: P, Epoch: 29, Current best: 0.9968602825745683, Global best: 0.9968602825745683, Runtime: 6.06665 seconds\n",
            "INFO:mealpy.swarm_based.SSA.DevSSA:>>>Problem: P, Epoch: 30, Current best: 0.9968602825745683, Global best: 0.9968602825745683, Runtime: 9.62108 seconds\n",
            "INFO:mealpy.swarm_based.SSA.DevSSA:>>>Problem: P, Epoch: 31, Current best: 0.9968602825745683, Global best: 0.9968602825745683, Runtime: 8.94437 seconds\n",
            "INFO:mealpy.swarm_based.SSA.DevSSA:>>>Problem: P, Epoch: 32, Current best: 0.9968602825745683, Global best: 0.9968602825745683, Runtime: 6.31916 seconds\n",
            "INFO:mealpy.swarm_based.SSA.DevSSA:>>>Problem: P, Epoch: 33, Current best: 0.9968602825745683, Global best: 0.9968602825745683, Runtime: 10.64910 seconds\n",
            "INFO:mealpy.swarm_based.SSA.DevSSA:>>>Problem: P, Epoch: 34, Current best: 0.9968602825745683, Global best: 0.9968602825745683, Runtime: 7.62548 seconds\n",
            "INFO:mealpy.swarm_based.SSA.DevSSA:>>>Problem: P, Epoch: 35, Current best: 0.9968602825745683, Global best: 0.9968602825745683, Runtime: 7.03719 seconds\n",
            "INFO:mealpy.swarm_based.SSA.DevSSA:>>>Problem: P, Epoch: 36, Current best: 0.9968602825745683, Global best: 0.9968602825745683, Runtime: 7.76466 seconds\n",
            "INFO:mealpy.swarm_based.SSA.DevSSA:>>>Problem: P, Epoch: 37, Current best: 0.9968602825745683, Global best: 0.9968602825745683, Runtime: 6.30893 seconds\n",
            "INFO:mealpy.swarm_based.SSA.DevSSA:>>>Problem: P, Epoch: 38, Current best: 0.9968602825745683, Global best: 0.9968602825745683, Runtime: 9.33790 seconds\n",
            "INFO:mealpy.swarm_based.SSA.DevSSA:>>>Problem: P, Epoch: 39, Current best: 0.9968602825745683, Global best: 0.9968602825745683, Runtime: 7.99880 seconds\n",
            "INFO:mealpy.swarm_based.SSA.DevSSA:>>>Problem: P, Epoch: 40, Current best: 0.9984301412872841, Global best: 0.9984301412872841, Runtime: 8.09186 seconds\n",
            "INFO:mealpy.swarm_based.SSA.DevSSA:>>>Problem: P, Epoch: 41, Current best: 0.9984301412872841, Global best: 0.9984301412872841, Runtime: 9.23657 seconds\n",
            "INFO:mealpy.swarm_based.SSA.DevSSA:>>>Problem: P, Epoch: 42, Current best: 0.9984301412872841, Global best: 0.9984301412872841, Runtime: 6.87724 seconds\n",
            "INFO:mealpy.swarm_based.SSA.DevSSA:>>>Problem: P, Epoch: 43, Current best: 0.9984301412872841, Global best: 0.9984301412872841, Runtime: 8.39186 seconds\n",
            "INFO:mealpy.swarm_based.SSA.DevSSA:>>>Problem: P, Epoch: 44, Current best: 0.9984301412872841, Global best: 0.9984301412872841, Runtime: 9.66886 seconds\n",
            "INFO:mealpy.swarm_based.SSA.DevSSA:>>>Problem: P, Epoch: 45, Current best: 0.9984301412872841, Global best: 0.9984301412872841, Runtime: 6.32782 seconds\n",
            "INFO:mealpy.swarm_based.SSA.DevSSA:>>>Problem: P, Epoch: 46, Current best: 0.9984301412872841, Global best: 0.9984301412872841, Runtime: 9.98440 seconds\n",
            "INFO:mealpy.swarm_based.SSA.DevSSA:>>>Problem: P, Epoch: 47, Current best: 0.9984301412872841, Global best: 0.9984301412872841, Runtime: 9.01623 seconds\n",
            "INFO:mealpy.swarm_based.SSA.DevSSA:>>>Problem: P, Epoch: 48, Current best: 0.9984301412872841, Global best: 0.9984301412872841, Runtime: 7.70314 seconds\n",
            "INFO:mealpy.swarm_based.SSA.DevSSA:>>>Problem: P, Epoch: 49, Current best: 0.9984301412872841, Global best: 0.9984301412872841, Runtime: 9.22797 seconds\n",
            "INFO:mealpy.swarm_based.SSA.DevSSA:>>>Problem: P, Epoch: 50, Current best: 0.9984301412872841, Global best: 0.9984301412872841, Runtime: 6.30914 seconds\n"
          ]
        },
        {
          "name": "stdout",
          "output_type": "stream",
          "text": [
            "Best agent: id: 16961, target: Objectives: [0.99843014], Fitness: 0.9984301412872841, solution: [ 18.53892    295.50348765   0.76258933]\n",
            "Best solution: [ 18.53892    295.50348765   0.76258933]\n",
            "Best accuracy: 0.9984301412872841\n",
            "Best parameters: {'maxdepth': 19, 'max_iter': 296, 'learning_rate': 0.7625893261459833}\n",
            "0.9913660681180148\n",
            "[0.9968602825745683, 0.9984301412872841]\n"
          ]
        },
        {
          "data": {
            "image/png": "[encoded data removed]",
            "text/plain": [
              "<Figure size 640x480 with 1 Axes>"
            ]
          },
          "metadata": {},
          "output_type": "display_data"
        },
        {
          "name": "stderr",
          "output_type": "stream",
          "text": [
            "INFO:mealpy.swarm_based.SSO.OriginalSSO:Solving single objective optimization problem.\n",
            "INFO:mealpy.swarm_based.SSO.OriginalSSO:>>>Problem: P, Epoch: 1, Current best: 0.9937205651491365, Global best: 0.9937205651491365, Runtime: 2.42903 seconds\n",
            "INFO:mealpy.swarm_based.SSO.OriginalSSO:>>>Problem: P, Epoch: 2, Current best: 0.9952904238618524, Global best: 0.9952904238618524, Runtime: 3.70073 seconds\n",
            "INFO:mealpy.swarm_based.SSO.OriginalSSO:>>>Problem: P, Epoch: 3, Current best: 0.9952904238618524, Global best: 0.9952904238618524, Runtime: 7.12149 seconds\n",
            "INFO:mealpy.swarm_based.SSO.OriginalSSO:>>>Problem: P, Epoch: 4, Current best: 0.9952904238618524, Global best: 0.9952904238618524, Runtime: 3.59893 seconds\n",
            "INFO:mealpy.swarm_based.SSO.OriginalSSO:>>>Problem: P, Epoch: 5, Current best: 0.9952904238618524, Global best: 0.9952904238618524, Runtime: 5.37179 seconds\n",
            "INFO:mealpy.swarm_based.SSO.OriginalSSO:>>>Problem: P, Epoch: 6, Current best: 0.9968602825745683, Global best: 0.9968602825745683, Runtime: 3.07671 seconds\n",
            "INFO:mealpy.swarm_based.SSO.OriginalSSO:>>>Problem: P, Epoch: 7, Current best: 0.9968602825745683, Global best: 0.9968602825745683, Runtime: 3.90240 seconds\n",
            "INFO:mealpy.swarm_based.SSO.OriginalSSO:>>>Problem: P, Epoch: 8, Current best: 0.9968602825745683, Global best: 0.9968602825745683, Runtime: 6.05268 seconds\n",
            "INFO:mealpy.swarm_based.SSO.OriginalSSO:>>>Problem: P, Epoch: 9, Current best: 0.9968602825745683, Global best: 0.9968602825745683, Runtime: 3.69763 seconds\n",
            "INFO:mealpy.swarm_based.SSO.OriginalSSO:>>>Problem: P, Epoch: 10, Current best: 0.9968602825745683, Global best: 0.9968602825745683, Runtime: 3.68266 seconds\n",
            "INFO:mealpy.swarm_based.SSO.OriginalSSO:>>>Problem: P, Epoch: 11, Current best: 0.9968602825745683, Global best: 0.9968602825745683, Runtime: 6.12486 seconds\n",
            "INFO:mealpy.swarm_based.SSO.OriginalSSO:>>>Problem: P, Epoch: 12, Current best: 0.9968602825745683, Global best: 0.9968602825745683, Runtime: 3.73861 seconds\n",
            "INFO:mealpy.swarm_based.SSO.OriginalSSO:>>>Problem: P, Epoch: 13, Current best: 0.9968602825745683, Global best: 0.9968602825745683, Runtime: 3.66584 seconds\n",
            "INFO:mealpy.swarm_based.SSO.OriginalSSO:>>>Problem: P, Epoch: 14, Current best: 0.9968602825745683, Global best: 0.9968602825745683, Runtime: 7.12384 seconds\n",
            "INFO:mealpy.swarm_based.SSO.OriginalSSO:>>>Problem: P, Epoch: 15, Current best: 0.9968602825745683, Global best: 0.9968602825745683, Runtime: 5.01277 seconds\n",
            "INFO:mealpy.swarm_based.SSO.OriginalSSO:>>>Problem: P, Epoch: 16, Current best: 0.9968602825745683, Global best: 0.9968602825745683, Runtime: 4.98179 seconds\n",
            "INFO:mealpy.swarm_based.SSO.OriginalSSO:>>>Problem: P, Epoch: 17, Current best: 0.9968602825745683, Global best: 0.9968602825745683, Runtime: 7.06113 seconds\n",
            "INFO:mealpy.swarm_based.SSO.OriginalSSO:>>>Problem: P, Epoch: 18, Current best: 0.9968602825745683, Global best: 0.9968602825745683, Runtime: 4.17305 seconds\n",
            "INFO:mealpy.swarm_based.SSO.OriginalSSO:>>>Problem: P, Epoch: 19, Current best: 0.9984301412872841, Global best: 0.9984301412872841, Runtime: 6.20748 seconds\n",
            "INFO:mealpy.swarm_based.SSO.OriginalSSO:>>>Problem: P, Epoch: 20, Current best: 0.9984301412872841, Global best: 0.9984301412872841, Runtime: 4.12410 seconds\n",
            "INFO:mealpy.swarm_based.SSO.OriginalSSO:>>>Problem: P, Epoch: 21, Current best: 0.9984301412872841, Global best: 0.9984301412872841, Runtime: 4.25883 seconds\n",
            "INFO:mealpy.swarm_based.SSO.OriginalSSO:>>>Problem: P, Epoch: 22, Current best: 0.9984301412872841, Global best: 0.9984301412872841, Runtime: 6.52079 seconds\n",
            "INFO:mealpy.swarm_based.SSO.OriginalSSO:>>>Problem: P, Epoch: 23, Current best: 0.9984301412872841, Global best: 0.9984301412872841, Runtime: 4.20951 seconds\n",
            "INFO:mealpy.swarm_based.SSO.OriginalSSO:>>>Problem: P, Epoch: 24, Current best: 0.9984301412872841, Global best: 0.9984301412872841, Runtime: 6.51259 seconds\n",
            "INFO:mealpy.swarm_based.SSO.OriginalSSO:>>>Problem: P, Epoch: 25, Current best: 0.9984301412872841, Global best: 0.9984301412872841, Runtime: 4.20221 seconds\n",
            "INFO:mealpy.swarm_based.SSO.OriginalSSO:>>>Problem: P, Epoch: 26, Current best: 0.9984301412872841, Global best: 0.9984301412872841, Runtime: 4.17108 seconds\n",
            "INFO:mealpy.swarm_based.SSO.OriginalSSO:>>>Problem: P, Epoch: 27, Current best: 0.9984301412872841, Global best: 0.9984301412872841, Runtime: 6.46519 seconds\n",
            "INFO:mealpy.swarm_based.SSO.OriginalSSO:>>>Problem: P, Epoch: 28, Current best: 0.9984301412872841, Global best: 0.9984301412872841, Runtime: 4.27934 seconds\n",
            "INFO:mealpy.swarm_based.SSO.OriginalSSO:>>>Problem: P, Epoch: 29, Current best: 0.9984301412872841, Global best: 0.9984301412872841, Runtime: 5.40251 seconds\n",
            "INFO:mealpy.swarm_based.SSO.OriginalSSO:>>>Problem: P, Epoch: 30, Current best: 0.9984301412872841, Global best: 0.9984301412872841, Runtime: 5.38355 seconds\n",
            "INFO:mealpy.swarm_based.SSO.OriginalSSO:>>>Problem: P, Epoch: 31, Current best: 0.9984301412872841, Global best: 0.9984301412872841, Runtime: 4.21139 seconds\n",
            "INFO:mealpy.swarm_based.SSO.OriginalSSO:>>>Problem: P, Epoch: 32, Current best: 0.9984301412872841, Global best: 0.9984301412872841, Runtime: 6.55948 seconds\n",
            "INFO:mealpy.swarm_based.SSO.OriginalSSO:>>>Problem: P, Epoch: 33, Current best: 0.9984301412872841, Global best: 0.9984301412872841, Runtime: 4.44579 seconds\n",
            "INFO:mealpy.swarm_based.SSO.OriginalSSO:>>>Problem: P, Epoch: 34, Current best: 0.9984301412872841, Global best: 0.9984301412872841, Runtime: 4.20041 seconds\n",
            "INFO:mealpy.swarm_based.SSO.OriginalSSO:>>>Problem: P, Epoch: 35, Current best: 0.9984301412872841, Global best: 0.9984301412872841, Runtime: 6.48894 seconds\n",
            "INFO:mealpy.swarm_based.SSO.OriginalSSO:>>>Problem: P, Epoch: 36, Current best: 0.9984301412872841, Global best: 0.9984301412872841, Runtime: 4.13108 seconds\n",
            "INFO:mealpy.swarm_based.SSO.OriginalSSO:>>>Problem: P, Epoch: 37, Current best: 0.9984301412872841, Global best: 0.9984301412872841, Runtime: 6.34985 seconds\n",
            "INFO:mealpy.swarm_based.SSO.OriginalSSO:>>>Problem: P, Epoch: 38, Current best: 0.9984301412872841, Global best: 0.9984301412872841, Runtime: 4.16630 seconds\n",
            "INFO:mealpy.swarm_based.SSO.OriginalSSO:>>>Problem: P, Epoch: 39, Current best: 0.9984301412872841, Global best: 0.9984301412872841, Runtime: 4.09301 seconds\n",
            "INFO:mealpy.swarm_based.SSO.OriginalSSO:>>>Problem: P, Epoch: 40, Current best: 0.9984301412872841, Global best: 0.9984301412872841, Runtime: 6.40413 seconds\n",
            "INFO:mealpy.swarm_based.SSO.OriginalSSO:>>>Problem: P, Epoch: 41, Current best: 0.9984301412872841, Global best: 0.9984301412872841, Runtime: 4.09097 seconds\n",
            "INFO:mealpy.swarm_based.SSO.OriginalSSO:>>>Problem: P, Epoch: 42, Current best: 0.9984301412872841, Global best: 0.9984301412872841, Runtime: 4.50930 seconds\n",
            "INFO:mealpy.swarm_based.SSO.OriginalSSO:>>>Problem: P, Epoch: 43, Current best: 0.9984301412872841, Global best: 0.9984301412872841, Runtime: 5.99448 seconds\n",
            "INFO:mealpy.swarm_based.SSO.OriginalSSO:>>>Problem: P, Epoch: 44, Current best: 0.9984301412872841, Global best: 0.9984301412872841, Runtime: 4.17010 seconds\n",
            "INFO:mealpy.swarm_based.SSO.OriginalSSO:>>>Problem: P, Epoch: 45, Current best: 0.9984301412872841, Global best: 0.9984301412872841, Runtime: 6.38766 seconds\n",
            "INFO:mealpy.swarm_based.SSO.OriginalSSO:>>>Problem: P, Epoch: 46, Current best: 0.9984301412872841, Global best: 0.9984301412872841, Runtime: 4.11457 seconds\n",
            "INFO:mealpy.swarm_based.SSO.OriginalSSO:>>>Problem: P, Epoch: 47, Current best: 0.9984301412872841, Global best: 0.9984301412872841, Runtime: 4.08421 seconds\n",
            "INFO:mealpy.swarm_based.SSO.OriginalSSO:>>>Problem: P, Epoch: 48, Current best: 0.9984301412872841, Global best: 0.9984301412872841, Runtime: 6.38648 seconds\n",
            "INFO:mealpy.swarm_based.SSO.OriginalSSO:>>>Problem: P, Epoch: 49, Current best: 0.9984301412872841, Global best: 0.9984301412872841, Runtime: 4.11481 seconds\n",
            "INFO:mealpy.swarm_based.SSO.OriginalSSO:>>>Problem: P, Epoch: 50, Current best: 0.9984301412872841, Global best: 0.9984301412872841, Runtime: 5.23661 seconds\n"
          ]
        },
        {
          "name": "stdout",
          "output_type": "stream",
          "text": [
            "Best agent: id: 18078, target: Objectives: [0.99843014], Fitness: 0.9984301412872841, solution: [ 13.16204486 261.69452782   0.75237713]\n",
            "Best solution: [ 13.16204486 261.69452782   0.75237713]\n",
            "Best accuracy: 0.9984301412872841\n",
            "Best parameters: {'maxdepth': 13, 'max_iter': 262, 'learning_rate': 0.7523771334599787}\n",
            "0.9913660681180148\n",
            "[0.9937205651491365, 0.9952904238618524, 0.9968602825745683, 0.9984301412872841]\n"
          ]
        },
        {
          "data": {
            "image/png": "[encoded data removed]",
            "text/plain": [
              "<Figure size 640x480 with 1 Axes>"
            ]
          },
          "metadata": {},
          "output_type": "display_data"
        },
        {
          "name": "stderr",
          "output_type": "stream",
          "text": [
            "INFO:mealpy.swarm_based.JA.OriginalJA:Solving single objective optimization problem.\n",
            "INFO:mealpy.swarm_based.JA.OriginalJA:>>>Problem: P, Epoch: 1, Current best: 0.9968602825745683, Global best: 0.9968602825745683, Runtime: 1.56338 seconds\n",
            "INFO:mealpy.swarm_based.JA.OriginalJA:>>>Problem: P, Epoch: 2, Current best: 0.9952904238618524, Global best: 0.9968602825745683, Runtime: 1.12895 seconds\n",
            "INFO:mealpy.swarm_based.JA.OriginalJA:>>>Problem: P, Epoch: 3, Current best: 0.9968602825745683, Global best: 0.9968602825745683, Runtime: 0.79555 seconds\n",
            "INFO:mealpy.swarm_based.JA.OriginalJA:>>>Problem: P, Epoch: 4, Current best: 0.9968602825745683, Global best: 0.9968602825745683, Runtime: 1.45300 seconds\n",
            "INFO:mealpy.swarm_based.JA.OriginalJA:>>>Problem: P, Epoch: 5, Current best: 0.9937205651491365, Global best: 0.9968602825745683, Runtime: 3.10835 seconds\n",
            "INFO:mealpy.swarm_based.JA.OriginalJA:>>>Problem: P, Epoch: 6, Current best: 0.9952904238618524, Global best: 0.9968602825745683, Runtime: 3.19108 seconds\n",
            "INFO:mealpy.swarm_based.JA.OriginalJA:>>>Problem: P, Epoch: 7, Current best: 0.9952904238618524, Global best: 0.9968602825745683, Runtime: 1.75001 seconds\n",
            "INFO:mealpy.swarm_based.JA.OriginalJA:>>>Problem: P, Epoch: 8, Current best: 0.9952904238618524, Global best: 0.9968602825745683, Runtime: 1.47773 seconds\n",
            "INFO:mealpy.swarm_based.JA.OriginalJA:>>>Problem: P, Epoch: 9, Current best: 0.9968602825745683, Global best: 0.9968602825745683, Runtime: 1.83399 seconds\n",
            "INFO:mealpy.swarm_based.JA.OriginalJA:>>>Problem: P, Epoch: 10, Current best: 0.9968602825745683, Global best: 0.9968602825745683, Runtime: 3.39400 seconds\n",
            "INFO:mealpy.swarm_based.JA.OriginalJA:>>>Problem: P, Epoch: 11, Current best: 0.9968602825745683, Global best: 0.9968602825745683, Runtime: 4.88063 seconds\n",
            "INFO:mealpy.swarm_based.JA.OriginalJA:>>>Problem: P, Epoch: 12, Current best: 0.9952904238618524, Global best: 0.9968602825745683, Runtime: 2.56410 seconds\n",
            "INFO:mealpy.swarm_based.JA.OriginalJA:>>>Problem: P, Epoch: 13, Current best: 0.9952904238618524, Global best: 0.9968602825745683, Runtime: 2.28712 seconds\n",
            "INFO:mealpy.swarm_based.JA.OriginalJA:>>>Problem: P, Epoch: 14, Current best: 0.9952904238618524, Global best: 0.9968602825745683, Runtime: 1.82857 seconds\n",
            "INFO:mealpy.swarm_based.JA.OriginalJA:>>>Problem: P, Epoch: 15, Current best: 0.9968602825745683, Global best: 0.9968602825745683, Runtime: 1.96130 seconds\n",
            "INFO:mealpy.swarm_based.JA.OriginalJA:>>>Problem: P, Epoch: 16, Current best: 0.9952904238618524, Global best: 0.9968602825745683, Runtime: 3.80617 seconds\n",
            "INFO:mealpy.swarm_based.JA.OriginalJA:>>>Problem: P, Epoch: 17, Current best: 0.9952904238618524, Global best: 0.9968602825745683, Runtime: 1.68407 seconds\n",
            "INFO:mealpy.swarm_based.JA.OriginalJA:>>>Problem: P, Epoch: 18, Current best: 0.9937205651491365, Global best: 0.9968602825745683, Runtime: 1.69014 seconds\n",
            "INFO:mealpy.swarm_based.JA.OriginalJA:>>>Problem: P, Epoch: 19, Current best: 0.9952904238618524, Global best: 0.9968602825745683, Runtime: 2.55830 seconds\n",
            "INFO:mealpy.swarm_based.JA.OriginalJA:>>>Problem: P, Epoch: 20, Current best: 0.9952904238618524, Global best: 0.9968602825745683, Runtime: 2.62301 seconds\n",
            "INFO:mealpy.swarm_based.JA.OriginalJA:>>>Problem: P, Epoch: 21, Current best: 0.9952904238618524, Global best: 0.9968602825745683, Runtime: 5.78766 seconds\n",
            "INFO:mealpy.swarm_based.JA.OriginalJA:>>>Problem: P, Epoch: 22, Current best: 0.9968602825745683, Global best: 0.9968602825745683, Runtime: 3.18185 seconds\n",
            "INFO:mealpy.swarm_based.JA.OriginalJA:>>>Problem: P, Epoch: 23, Current best: 0.9921507064364207, Global best: 0.9968602825745683, Runtime: 3.58886 seconds\n",
            "INFO:mealpy.swarm_based.JA.OriginalJA:>>>Problem: P, Epoch: 24, Current best: 0.9874411302982732, Global best: 0.9968602825745683, Runtime: 6.67696 seconds\n",
            "INFO:mealpy.swarm_based.JA.OriginalJA:>>>Problem: P, Epoch: 25, Current best: 0.9968602825745683, Global best: 0.9968602825745683, Runtime: 4.76242 seconds\n",
            "INFO:mealpy.swarm_based.JA.OriginalJA:>>>Problem: P, Epoch: 26, Current best: 0.9952904238618524, Global best: 0.9968602825745683, Runtime: 6.12204 seconds\n",
            "INFO:mealpy.swarm_based.JA.OriginalJA:>>>Problem: P, Epoch: 27, Current best: 0.9874411302982732, Global best: 0.9968602825745683, Runtime: 4.36006 seconds\n",
            "INFO:mealpy.swarm_based.JA.OriginalJA:>>>Problem: P, Epoch: 28, Current best: 0.9921507064364207, Global best: 0.9968602825745683, Runtime: 4.70162 seconds\n",
            "INFO:mealpy.swarm_based.JA.OriginalJA:>>>Problem: P, Epoch: 29, Current best: 0.9921507064364207, Global best: 0.9968602825745683, Runtime: 6.20879 seconds\n",
            "INFO:mealpy.swarm_based.JA.OriginalJA:>>>Problem: P, Epoch: 30, Current best: 0.9952904238618524, Global best: 0.9968602825745683, Runtime: 5.11048 seconds\n",
            "INFO:mealpy.swarm_based.JA.OriginalJA:>>>Problem: P, Epoch: 31, Current best: 0.9952904238618524, Global best: 0.9968602825745683, Runtime: 7.12476 seconds\n",
            "INFO:mealpy.swarm_based.JA.OriginalJA:>>>Problem: P, Epoch: 32, Current best: 0.9921507064364207, Global best: 0.9968602825745683, Runtime: 5.39059 seconds\n",
            "INFO:mealpy.swarm_based.JA.OriginalJA:>>>Problem: P, Epoch: 33, Current best: 0.9952904238618524, Global best: 0.9968602825745683, Runtime: 6.88768 seconds\n",
            "INFO:mealpy.swarm_based.JA.OriginalJA:>>>Problem: P, Epoch: 34, Current best: 0.9952904238618524, Global best: 0.9968602825745683, Runtime: 3.06936 seconds\n",
            "INFO:mealpy.swarm_based.JA.OriginalJA:>>>Problem: P, Epoch: 35, Current best: 0.9937205651491365, Global best: 0.9968602825745683, Runtime: 3.29008 seconds\n",
            "INFO:mealpy.swarm_based.JA.OriginalJA:>>>Problem: P, Epoch: 36, Current best: 0.9968602825745683, Global best: 0.9968602825745683, Runtime: 5.74065 seconds\n",
            "INFO:mealpy.swarm_based.JA.OriginalJA:>>>Problem: P, Epoch: 37, Current best: 0.9937205651491365, Global best: 0.9968602825745683, Runtime: 4.68096 seconds\n",
            "INFO:mealpy.swarm_based.JA.OriginalJA:>>>Problem: P, Epoch: 38, Current best: 0.9874411302982732, Global best: 0.9968602825745683, Runtime: 5.54310 seconds\n",
            "INFO:mealpy.swarm_based.JA.OriginalJA:>>>Problem: P, Epoch: 39, Current best: 0.9968602825745683, Global best: 0.9968602825745683, Runtime: 7.95728 seconds\n",
            "INFO:mealpy.swarm_based.JA.OriginalJA:>>>Problem: P, Epoch: 40, Current best: 0.9937205651491365, Global best: 0.9968602825745683, Runtime: 3.56789 seconds\n",
            "INFO:mealpy.swarm_based.JA.OriginalJA:>>>Problem: P, Epoch: 41, Current best: 0.9952904238618524, Global best: 0.9968602825745683, Runtime: 3.29822 seconds\n",
            "INFO:mealpy.swarm_based.JA.OriginalJA:>>>Problem: P, Epoch: 42, Current best: 0.9937205651491365, Global best: 0.9968602825745683, Runtime: 2.92002 seconds\n",
            "INFO:mealpy.swarm_based.JA.OriginalJA:>>>Problem: P, Epoch: 43, Current best: 0.9952904238618524, Global best: 0.9968602825745683, Runtime: 1.94634 seconds\n",
            "INFO:mealpy.swarm_based.JA.OriginalJA:>>>Problem: P, Epoch: 44, Current best: 0.9952904238618524, Global best: 0.9968602825745683, Runtime: 2.48388 seconds\n",
            "INFO:mealpy.swarm_based.JA.OriginalJA:>>>Problem: P, Epoch: 45, Current best: 0.9968602825745683, Global best: 0.9968602825745683, Runtime: 2.57714 seconds\n",
            "INFO:mealpy.swarm_based.JA.OriginalJA:>>>Problem: P, Epoch: 46, Current best: 0.9952904238618524, Global best: 0.9968602825745683, Runtime: 3.20829 seconds\n",
            "INFO:mealpy.swarm_based.JA.OriginalJA:>>>Problem: P, Epoch: 47, Current best: 0.9952904238618524, Global best: 0.9968602825745683, Runtime: 4.36323 seconds\n",
            "INFO:mealpy.swarm_based.JA.OriginalJA:>>>Problem: P, Epoch: 48, Current best: 0.9968602825745683, Global best: 0.9968602825745683, Runtime: 3.37480 seconds\n",
            "INFO:mealpy.swarm_based.JA.OriginalJA:>>>Problem: P, Epoch: 49, Current best: 0.9952904238618524, Global best: 0.9968602825745683, Runtime: 3.09324 seconds\n",
            "INFO:mealpy.swarm_based.JA.OriginalJA:>>>Problem: P, Epoch: 50, Current best: 0.9952904238618524, Global best: 0.9968602825745683, Runtime: 4.69492 seconds\n"
          ]
        },
        {
          "name": "stdout",
          "output_type": "stream",
          "text": [
            "Best agent: id: 18795, target: Objectives: [0.99686028], Fitness: 0.9968602825745683, solution: [  3.95919071 178.84676089   0.75915573]\n",
            "Best solution: [  3.95919071 178.84676089   0.75915573]\n",
            "Best accuracy: 0.9968602825745683\n",
            "Best parameters: {'maxdepth': 4, 'max_iter': 179, 'learning_rate': 0.7591557337612979}\n",
            "0.9913660681180148\n",
            "[0.9874411302982732, 0.9921507064364207, 0.9937205651491365, 0.9952904238618524, 0.9968602825745683]\n"
          ]
        },
        {
          "data": {
            "image/png": "[encoded data removed]",
            "text/plain": [
              "<Figure size 640x480 with 1 Axes>"
            ]
          },
          "metadata": {},
          "output_type": "display_data"
        },
        {
          "name": "stderr",
          "output_type": "stream",
          "text": [
            "INFO:mealpy.evolutionary_based.DE.JADE:Solving single objective optimization problem.\n",
            "INFO:mealpy.evolutionary_based.DE.JADE:>>>Problem: P, Epoch: 1, Current best: 0.9921507064364207, Global best: 0.9921507064364207, Runtime: 3.20360 seconds\n",
            "INFO:mealpy.evolutionary_based.DE.JADE:>>>Problem: P, Epoch: 2, Current best: 0.9921507064364207, Global best: 0.9921507064364207, Runtime: 3.45726 seconds\n",
            "INFO:mealpy.evolutionary_based.DE.JADE:>>>Problem: P, Epoch: 3, Current best: 0.9937205651491365, Global best: 0.9937205651491365, Runtime: 4.58309 seconds\n",
            "INFO:mealpy.evolutionary_based.DE.JADE:>>>Problem: P, Epoch: 4, Current best: 0.9937205651491365, Global best: 0.9937205651491365, Runtime: 3.12016 seconds\n",
            "INFO:mealpy.evolutionary_based.DE.JADE:>>>Problem: P, Epoch: 5, Current best: 0.9952904238618524, Global best: 0.9952904238618524, Runtime: 3.26691 seconds\n",
            "INFO:mealpy.evolutionary_based.DE.JADE:>>>Problem: P, Epoch: 6, Current best: 0.9968602825745683, Global best: 0.9968602825745683, Runtime: 5.33541 seconds\n",
            "INFO:mealpy.evolutionary_based.DE.JADE:>>>Problem: P, Epoch: 7, Current best: 0.9968602825745683, Global best: 0.9968602825745683, Runtime: 3.43277 seconds\n",
            "INFO:mealpy.evolutionary_based.DE.JADE:>>>Problem: P, Epoch: 8, Current best: 0.9968602825745683, Global best: 0.9968602825745683, Runtime: 3.49036 seconds\n",
            "INFO:mealpy.evolutionary_based.DE.JADE:>>>Problem: P, Epoch: 9, Current best: 0.9984301412872841, Global best: 0.9984301412872841, Runtime: 5.85836 seconds\n",
            "INFO:mealpy.evolutionary_based.DE.JADE:>>>Problem: P, Epoch: 10, Current best: 0.9984301412872841, Global best: 0.9984301412872841, Runtime: 3.89595 seconds\n",
            "INFO:mealpy.evolutionary_based.DE.JADE:>>>Problem: P, Epoch: 11, Current best: 0.9984301412872841, Global best: 0.9984301412872841, Runtime: 4.57450 seconds\n",
            "INFO:mealpy.evolutionary_based.DE.JADE:>>>Problem: P, Epoch: 12, Current best: 0.9984301412872841, Global best: 0.9984301412872841, Runtime: 6.47930 seconds\n",
            "INFO:mealpy.evolutionary_based.DE.JADE:>>>Problem: P, Epoch: 13, Current best: 0.9984301412872841, Global best: 0.9984301412872841, Runtime: 4.77813 seconds\n",
            "INFO:mealpy.evolutionary_based.DE.JADE:>>>Problem: P, Epoch: 14, Current best: 0.9984301412872841, Global best: 0.9984301412872841, Runtime: 7.16279 seconds\n",
            "INFO:mealpy.evolutionary_based.DE.JADE:>>>Problem: P, Epoch: 15, Current best: 0.9984301412872841, Global best: 0.9984301412872841, Runtime: 5.17424 seconds\n",
            "INFO:mealpy.evolutionary_based.DE.JADE:>>>Problem: P, Epoch: 16, Current best: 0.9984301412872841, Global best: 0.9984301412872841, Runtime: 7.66128 seconds\n",
            "INFO:mealpy.evolutionary_based.DE.JADE:>>>Problem: P, Epoch: 17, Current best: 0.9984301412872841, Global best: 0.9984301412872841, Runtime: 5.52180 seconds\n",
            "INFO:mealpy.evolutionary_based.DE.JADE:>>>Problem: P, Epoch: 18, Current best: 0.9984301412872841, Global best: 0.9984301412872841, Runtime: 7.87208 seconds\n",
            "INFO:mealpy.evolutionary_based.DE.JADE:>>>Problem: P, Epoch: 19, Current best: 0.9984301412872841, Global best: 0.9984301412872841, Runtime: 5.54984 seconds\n",
            "INFO:mealpy.evolutionary_based.DE.JADE:>>>Problem: P, Epoch: 20, Current best: 0.9984301412872841, Global best: 0.9984301412872841, Runtime: 8.11219 seconds\n",
            "INFO:mealpy.evolutionary_based.DE.JADE:>>>Problem: P, Epoch: 21, Current best: 0.9984301412872841, Global best: 0.9984301412872841, Runtime: 6.11178 seconds\n",
            "INFO:mealpy.evolutionary_based.DE.JADE:>>>Problem: P, Epoch: 22, Current best: 0.9984301412872841, Global best: 0.9984301412872841, Runtime: 8.15002 seconds\n",
            "INFO:mealpy.evolutionary_based.DE.JADE:>>>Problem: P, Epoch: 23, Current best: 0.9984301412872841, Global best: 0.9984301412872841, Runtime: 5.90563 seconds\n",
            "INFO:mealpy.evolutionary_based.DE.JADE:>>>Problem: P, Epoch: 24, Current best: 0.9984301412872841, Global best: 0.9984301412872841, Runtime: 8.14686 seconds\n",
            "INFO:mealpy.evolutionary_based.DE.JADE:>>>Problem: P, Epoch: 25, Current best: 0.9984301412872841, Global best: 0.9984301412872841, Runtime: 5.78481 seconds\n",
            "INFO:mealpy.evolutionary_based.DE.JADE:>>>Problem: P, Epoch: 26, Current best: 0.9984301412872841, Global best: 0.9984301412872841, Runtime: 8.19918 seconds\n",
            "INFO:mealpy.evolutionary_based.DE.JADE:>>>Problem: P, Epoch: 27, Current best: 0.9984301412872841, Global best: 0.9984301412872841, Runtime: 6.71262 seconds\n",
            "INFO:mealpy.evolutionary_based.DE.JADE:>>>Problem: P, Epoch: 28, Current best: 0.9984301412872841, Global best: 0.9984301412872841, Runtime: 7.16430 seconds\n",
            "INFO:mealpy.evolutionary_based.DE.JADE:>>>Problem: P, Epoch: 29, Current best: 0.9984301412872841, Global best: 0.9984301412872841, Runtime: 8.18140 seconds\n",
            "INFO:mealpy.evolutionary_based.DE.JADE:>>>Problem: P, Epoch: 30, Current best: 0.9984301412872841, Global best: 0.9984301412872841, Runtime: 5.77121 seconds\n",
            "INFO:mealpy.evolutionary_based.DE.JADE:>>>Problem: P, Epoch: 31, Current best: 0.9984301412872841, Global best: 0.9984301412872841, Runtime: 8.13948 seconds\n",
            "INFO:mealpy.evolutionary_based.DE.JADE:>>>Problem: P, Epoch: 32, Current best: 0.9984301412872841, Global best: 0.9984301412872841, Runtime: 5.82344 seconds\n",
            "INFO:mealpy.evolutionary_based.DE.JADE:>>>Problem: P, Epoch: 33, Current best: 0.9984301412872841, Global best: 0.9984301412872841, Runtime: 7.84820 seconds\n",
            "INFO:mealpy.evolutionary_based.DE.JADE:>>>Problem: P, Epoch: 34, Current best: 0.9984301412872841, Global best: 0.9984301412872841, Runtime: 5.61185 seconds\n",
            "INFO:mealpy.evolutionary_based.DE.JADE:>>>Problem: P, Epoch: 35, Current best: 0.9984301412872841, Global best: 0.9984301412872841, Runtime: 7.92654 seconds\n",
            "INFO:mealpy.evolutionary_based.DE.JADE:>>>Problem: P, Epoch: 36, Current best: 0.9984301412872841, Global best: 0.9984301412872841, Runtime: 5.67457 seconds\n",
            "INFO:mealpy.evolutionary_based.DE.JADE:>>>Problem: P, Epoch: 37, Current best: 0.9984301412872841, Global best: 0.9984301412872841, Runtime: 7.94608 seconds\n",
            "INFO:mealpy.evolutionary_based.DE.JADE:>>>Problem: P, Epoch: 38, Current best: 0.9984301412872841, Global best: 0.9984301412872841, Runtime: 5.61354 seconds\n",
            "INFO:mealpy.evolutionary_based.DE.JADE:>>>Problem: P, Epoch: 39, Current best: 0.9984301412872841, Global best: 0.9984301412872841, Runtime: 8.00516 seconds\n",
            "INFO:mealpy.evolutionary_based.DE.JADE:>>>Problem: P, Epoch: 40, Current best: 0.9984301412872841, Global best: 0.9984301412872841, Runtime: 6.02565 seconds\n",
            "INFO:mealpy.evolutionary_based.DE.JADE:>>>Problem: P, Epoch: 41, Current best: 0.9984301412872841, Global best: 0.9984301412872841, Runtime: 8.15929 seconds\n",
            "INFO:mealpy.evolutionary_based.DE.JADE:>>>Problem: P, Epoch: 42, Current best: 0.9984301412872841, Global best: 0.9984301412872841, Runtime: 5.96943 seconds\n",
            "INFO:mealpy.evolutionary_based.DE.JADE:>>>Problem: P, Epoch: 43, Current best: 0.9984301412872841, Global best: 0.9984301412872841, Runtime: 7.90679 seconds\n",
            "INFO:mealpy.evolutionary_based.DE.JADE:>>>Problem: P, Epoch: 44, Current best: 0.9984301412872841, Global best: 0.9984301412872841, Runtime: 7.63235 seconds\n",
            "INFO:mealpy.evolutionary_based.DE.JADE:>>>Problem: P, Epoch: 45, Current best: 0.9984301412872841, Global best: 0.9984301412872841, Runtime: 6.32958 seconds\n",
            "INFO:mealpy.evolutionary_based.DE.JADE:>>>Problem: P, Epoch: 46, Current best: 0.9984301412872841, Global best: 0.9984301412872841, Runtime: 8.08768 seconds\n",
            "INFO:mealpy.evolutionary_based.DE.JADE:>>>Problem: P, Epoch: 47, Current best: 0.9984301412872841, Global best: 0.9984301412872841, Runtime: 5.73281 seconds\n",
            "INFO:mealpy.evolutionary_based.DE.JADE:>>>Problem: P, Epoch: 48, Current best: 0.9984301412872841, Global best: 0.9984301412872841, Runtime: 8.02707 seconds\n",
            "INFO:mealpy.evolutionary_based.DE.JADE:>>>Problem: P, Epoch: 49, Current best: 0.9984301412872841, Global best: 0.9984301412872841, Runtime: 5.62408 seconds\n",
            "INFO:mealpy.evolutionary_based.DE.JADE:>>>Problem: P, Epoch: 50, Current best: 0.9984301412872841, Global best: 0.9984301412872841, Runtime: 8.22027 seconds\n"
          ]
        },
        {
          "name": "stdout",
          "output_type": "stream",
          "text": [
            "Best agent: id: 19856, target: Objectives: [0.99843014], Fitness: 0.9984301412872841, solution: [ 21.3094074  397.41023167   0.76266808]\n",
            "Best solution: [ 21.3094074  397.41023167   0.76266808]\n",
            "Best accuracy: 0.9984301412872841\n",
            "Best parameters: {'maxdepth': 21, 'max_iter': 397, 'learning_rate': 0.7626680802599394}\n",
            "0.9913660681180148\n",
            "[0.9921507064364207, 0.9937205651491365, 0.9952904238618524, 0.9968602825745683, 0.9984301412872841]\n"
          ]
        },
        {
          "data": {
            "image/png": "[encoded data removed]",
            "text/plain": [
              "<Figure size 640x480 with 1 Axes>"
            ]
          },
          "metadata": {},
          "output_type": "display_data"
        },
        {
          "name": "stderr",
          "output_type": "stream",
          "text": [
            "INFO:mealpy.physics_based.TWO.EnhancedTWO:Solving single objective optimization problem.\n",
            "INFO:mealpy.physics_based.TWO.EnhancedTWO:>>>Problem: P, Epoch: 1, Current best: 0.9952904238618524, Global best: 0.9952904238618524, Runtime: 12.20105 seconds\n",
            "INFO:mealpy.physics_based.TWO.EnhancedTWO:>>>Problem: P, Epoch: 2, Current best: 0.9952904238618524, Global best: 0.9952904238618524, Runtime: 11.28129 seconds\n",
            "INFO:mealpy.physics_based.TWO.EnhancedTWO:>>>Problem: P, Epoch: 3, Current best: 0.9968602825745683, Global best: 0.9968602825745683, Runtime: 10.08251 seconds\n",
            "INFO:mealpy.physics_based.TWO.EnhancedTWO:>>>Problem: P, Epoch: 4, Current best: 0.9952904238618524, Global best: 0.9968602825745683, Runtime: 10.51227 seconds\n",
            "INFO:mealpy.physics_based.TWO.EnhancedTWO:>>>Problem: P, Epoch: 5, Current best: 0.9921507064364207, Global best: 0.9968602825745683, Runtime: 8.06712 seconds\n",
            "INFO:mealpy.physics_based.TWO.EnhancedTWO:>>>Problem: P, Epoch: 6, Current best: 0.9952904238618524, Global best: 0.9968602825745683, Runtime: 11.37804 seconds\n",
            "INFO:mealpy.physics_based.TWO.EnhancedTWO:>>>Problem: P, Epoch: 7, Current best: 0.9952904238618524, Global best: 0.9968602825745683, Runtime: 10.73544 seconds\n",
            "INFO:mealpy.physics_based.TWO.EnhancedTWO:>>>Problem: P, Epoch: 8, Current best: 0.9952904238618524, Global best: 0.9968602825745683, Runtime: 9.88543 seconds\n",
            "INFO:mealpy.physics_based.TWO.EnhancedTWO:>>>Problem: P, Epoch: 9, Current best: 0.9968602825745683, Global best: 0.9968602825745683, Runtime: 7.73392 seconds\n",
            "INFO:mealpy.physics_based.TWO.EnhancedTWO:>>>Problem: P, Epoch: 10, Current best: 0.9952904238618524, Global best: 0.9968602825745683, Runtime: 10.92135 seconds\n",
            "INFO:mealpy.physics_based.TWO.EnhancedTWO:>>>Problem: P, Epoch: 11, Current best: 0.9968602825745683, Global best: 0.9968602825745683, Runtime: 10.01030 seconds\n",
            "INFO:mealpy.physics_based.TWO.EnhancedTWO:>>>Problem: P, Epoch: 12, Current best: 0.9984301412872841, Global best: 0.9984301412872841, Runtime: 10.38699 seconds\n",
            "INFO:mealpy.physics_based.TWO.EnhancedTWO:>>>Problem: P, Epoch: 13, Current best: 0.9937205651491365, Global best: 0.9984301412872841, Runtime: 13.42025 seconds\n",
            "INFO:mealpy.physics_based.TWO.EnhancedTWO:>>>Problem: P, Epoch: 14, Current best: 0.9952904238618524, Global best: 0.9984301412872841, Runtime: 13.59713 seconds\n",
            "INFO:mealpy.physics_based.TWO.EnhancedTWO:>>>Problem: P, Epoch: 15, Current best: 0.9968602825745683, Global best: 0.9984301412872841, Runtime: 12.31340 seconds\n",
            "INFO:mealpy.physics_based.TWO.EnhancedTWO:>>>Problem: P, Epoch: 16, Current best: 0.9921507064364207, Global best: 0.9984301412872841, Runtime: 10.20082 seconds\n",
            "INFO:mealpy.physics_based.TWO.EnhancedTWO:>>>Problem: P, Epoch: 17, Current best: 0.989010989010989, Global best: 0.9984301412872841, Runtime: 10.22331 seconds\n",
            "INFO:mealpy.physics_based.TWO.EnhancedTWO:>>>Problem: P, Epoch: 18, Current best: 0.9952904238618524, Global best: 0.9984301412872841, Runtime: 12.66698 seconds\n",
            "INFO:mealpy.physics_based.TWO.EnhancedTWO:>>>Problem: P, Epoch: 19, Current best: 0.9921507064364207, Global best: 0.9984301412872841, Runtime: 13.49690 seconds\n",
            "INFO:mealpy.physics_based.TWO.EnhancedTWO:>>>Problem: P, Epoch: 20, Current best: 0.9968602825745683, Global best: 0.9984301412872841, Runtime: 13.26570 seconds\n",
            "INFO:mealpy.physics_based.TWO.EnhancedTWO:>>>Problem: P, Epoch: 21, Current best: 0.9952904238618524, Global best: 0.9984301412872841, Runtime: 12.98286 seconds\n",
            "INFO:mealpy.physics_based.TWO.EnhancedTWO:>>>Problem: P, Epoch: 22, Current best: 0.9984301412872841, Global best: 0.9984301412872841, Runtime: 14.65159 seconds\n",
            "INFO:mealpy.physics_based.TWO.EnhancedTWO:>>>Problem: P, Epoch: 23, Current best: 0.9952904238618524, Global best: 0.9984301412872841, Runtime: 13.33828 seconds\n",
            "INFO:mealpy.physics_based.TWO.EnhancedTWO:>>>Problem: P, Epoch: 24, Current best: 0.9952904238618524, Global best: 0.9984301412872841, Runtime: 12.71319 seconds\n",
            "INFO:mealpy.physics_based.TWO.EnhancedTWO:>>>Problem: P, Epoch: 25, Current best: 0.9952904238618524, Global best: 0.9984301412872841, Runtime: 13.48732 seconds\n",
            "INFO:mealpy.physics_based.TWO.EnhancedTWO:>>>Problem: P, Epoch: 26, Current best: 0.9921507064364207, Global best: 0.9984301412872841, Runtime: 12.76126 seconds\n",
            "INFO:mealpy.physics_based.TWO.EnhancedTWO:>>>Problem: P, Epoch: 27, Current best: 0.9952904238618524, Global best: 0.9984301412872841, Runtime: 13.20472 seconds\n",
            "INFO:mealpy.physics_based.TWO.EnhancedTWO:>>>Problem: P, Epoch: 28, Current best: 0.989010989010989, Global best: 0.9984301412872841, Runtime: 14.25387 seconds\n",
            "INFO:mealpy.physics_based.TWO.EnhancedTWO:>>>Problem: P, Epoch: 29, Current best: 0.9952904238618524, Global best: 0.9984301412872841, Runtime: 17.40941 seconds\n",
            "INFO:mealpy.physics_based.TWO.EnhancedTWO:>>>Problem: P, Epoch: 30, Current best: 0.9952904238618524, Global best: 0.9984301412872841, Runtime: 14.99592 seconds\n",
            "INFO:mealpy.physics_based.TWO.EnhancedTWO:>>>Problem: P, Epoch: 31, Current best: 0.9952904238618524, Global best: 0.9984301412872841, Runtime: 14.82229 seconds\n",
            "INFO:mealpy.physics_based.TWO.EnhancedTWO:>>>Problem: P, Epoch: 32, Current best: 0.9952904238618524, Global best: 0.9984301412872841, Runtime: 14.78939 seconds\n",
            "INFO:mealpy.physics_based.TWO.EnhancedTWO:>>>Problem: P, Epoch: 33, Current best: 0.9952904238618524, Global best: 0.9984301412872841, Runtime: 14.51862 seconds\n",
            "INFO:mealpy.physics_based.TWO.EnhancedTWO:>>>Problem: P, Epoch: 34, Current best: 0.9952904238618524, Global best: 0.9984301412872841, Runtime: 15.28388 seconds\n",
            "INFO:mealpy.physics_based.TWO.EnhancedTWO:>>>Problem: P, Epoch: 35, Current best: 0.9968602825745683, Global best: 0.9984301412872841, Runtime: 16.15859 seconds\n",
            "INFO:mealpy.physics_based.TWO.EnhancedTWO:>>>Problem: P, Epoch: 36, Current best: 0.9952904238618524, Global best: 0.9984301412872841, Runtime: 16.08513 seconds\n",
            "INFO:mealpy.physics_based.TWO.EnhancedTWO:>>>Problem: P, Epoch: 37, Current best: 0.9952904238618524, Global best: 0.9984301412872841, Runtime: 15.34991 seconds\n",
            "INFO:mealpy.physics_based.TWO.EnhancedTWO:>>>Problem: P, Epoch: 38, Current best: 0.9952904238618524, Global best: 0.9984301412872841, Runtime: 15.15559 seconds\n",
            "INFO:mealpy.physics_based.TWO.EnhancedTWO:>>>Problem: P, Epoch: 39, Current best: 0.9952904238618524, Global best: 0.9984301412872841, Runtime: 15.74455 seconds\n",
            "INFO:mealpy.physics_based.TWO.EnhancedTWO:>>>Problem: P, Epoch: 40, Current best: 0.9921507064364207, Global best: 0.9984301412872841, Runtime: 17.24396 seconds\n",
            "INFO:mealpy.physics_based.TWO.EnhancedTWO:>>>Problem: P, Epoch: 41, Current best: 0.9937205651491365, Global best: 0.9984301412872841, Runtime: 15.68977 seconds\n",
            "INFO:mealpy.physics_based.TWO.EnhancedTWO:>>>Problem: P, Epoch: 42, Current best: 0.9968602825745683, Global best: 0.9984301412872841, Runtime: 15.64090 seconds\n",
            "INFO:mealpy.physics_based.TWO.EnhancedTWO:>>>Problem: P, Epoch: 43, Current best: 0.9968602825745683, Global best: 0.9984301412872841, Runtime: 14.89433 seconds\n",
            "INFO:mealpy.physics_based.TWO.EnhancedTWO:>>>Problem: P, Epoch: 44, Current best: 0.9952904238618524, Global best: 0.9984301412872841, Runtime: 14.29282 seconds\n",
            "INFO:mealpy.physics_based.TWO.EnhancedTWO:>>>Problem: P, Epoch: 45, Current best: 0.9905808477237049, Global best: 0.9984301412872841, Runtime: 14.25758 seconds\n",
            "INFO:mealpy.physics_based.TWO.EnhancedTWO:>>>Problem: P, Epoch: 46, Current best: 0.9952904238618524, Global best: 0.9984301412872841, Runtime: 13.21447 seconds\n",
            "INFO:mealpy.physics_based.TWO.EnhancedTWO:>>>Problem: P, Epoch: 47, Current best: 0.9905808477237049, Global best: 0.9984301412872841, Runtime: 13.77238 seconds\n",
            "INFO:mealpy.physics_based.TWO.EnhancedTWO:>>>Problem: P, Epoch: 48, Current best: 0.9968602825745683, Global best: 0.9984301412872841, Runtime: 14.48661 seconds\n",
            "INFO:mealpy.physics_based.TWO.EnhancedTWO:>>>Problem: P, Epoch: 49, Current best: 0.9952904238618524, Global best: 0.9984301412872841, Runtime: 12.35772 seconds\n",
            "INFO:mealpy.physics_based.TWO.EnhancedTWO:>>>Problem: P, Epoch: 50, Current best: 0.9874411302982732, Global best: 0.9984301412872841, Runtime: 12.13952 seconds\n"
          ]
        },
        {
          "name": "stdout",
          "output_type": "stream",
          "text": [
            "Best agent: id: 21405, target: Objectives: [0.99843014], Fitness: 0.9984301412872841, solution: [ 21.44411023 346.09796466   0.76270678]\n",
            "Best solution: [ 21.44411023 346.09796466   0.76270678]\n",
            "Best accuracy: 0.9984301412872841\n",
            "Best parameters: {'maxdepth': 21, 'max_iter': 346, 'learning_rate': 0.7627067773850579}\n",
            "0.9913660681180148\n",
            "[0.9874411302982732, 0.989010989010989, 0.9905808477237049, 0.9921507064364207, 0.9937205651491365, 0.9952904238618524, 0.9968602825745683, 0.9984301412872841]\n"
          ]
        },
        {
          "data": {
            "image/png": "[encoded data removed]",
            "text/plain": [
              "<Figure size 640x480 with 1 Axes>"
            ]
          },
          "metadata": {},
          "output_type": "display_data"
        },
        {
          "name": "stderr",
          "output_type": "stream",
          "text": [
            "INFO:mealpy.physics_based.TWO.LevyTWO:Solving single objective optimization problem.\n",
            "INFO:mealpy.physics_based.TWO.LevyTWO:>>>Problem: P, Epoch: 1, Current best: 0.9968602825745683, Global best: 0.9968602825745683, Runtime: 5.24068 seconds\n",
            "INFO:mealpy.physics_based.TWO.LevyTWO:>>>Problem: P, Epoch: 2, Current best: 0.9921507064364207, Global best: 0.9968602825745683, Runtime: 7.83243 seconds\n",
            "INFO:mealpy.physics_based.TWO.LevyTWO:>>>Problem: P, Epoch: 3, Current best: 0.9952904238618524, Global best: 0.9968602825745683, Runtime: 3.77809 seconds\n",
            "INFO:mealpy.physics_based.TWO.LevyTWO:>>>Problem: P, Epoch: 4, Current best: 0.9952904238618524, Global best: 0.9968602825745683, Runtime: 7.95572 seconds\n",
            "INFO:mealpy.physics_based.TWO.LevyTWO:>>>Problem: P, Epoch: 5, Current best: 0.7441130298273155, Global best: 0.9968602825745683, Runtime: 4.23654 seconds\n",
            "INFO:mealpy.physics_based.TWO.LevyTWO:>>>Problem: P, Epoch: 6, Current best: 0.9874411302982732, Global best: 0.9968602825745683, Runtime: 3.07936 seconds\n",
            "INFO:mealpy.physics_based.TWO.LevyTWO:>>>Problem: P, Epoch: 7, Current best: 0.9921507064364207, Global best: 0.9968602825745683, Runtime: 5.49005 seconds\n",
            "INFO:mealpy.physics_based.TWO.LevyTWO:>>>Problem: P, Epoch: 8, Current best: 0.9968602825745683, Global best: 0.9968602825745683, Runtime: 2.21312 seconds\n",
            "INFO:mealpy.physics_based.TWO.LevyTWO:>>>Problem: P, Epoch: 9, Current best: 0.9952904238618524, Global best: 0.9968602825745683, Runtime: 3.96671 seconds\n",
            "INFO:mealpy.physics_based.TWO.LevyTWO:>>>Problem: P, Epoch: 10, Current best: 0.5400313971742543, Global best: 0.9968602825745683, Runtime: 6.92272 seconds\n",
            "INFO:mealpy.physics_based.TWO.LevyTWO:>>>Problem: P, Epoch: 11, Current best: 0.783359497645212, Global best: 0.9968602825745683, Runtime: 3.30755 seconds\n",
            "INFO:mealpy.physics_based.TWO.LevyTWO:>>>Problem: P, Epoch: 12, Current best: 0.9952904238618524, Global best: 0.9968602825745683, Runtime: 4.65226 seconds\n",
            "INFO:mealpy.physics_based.TWO.LevyTWO:>>>Problem: P, Epoch: 13, Current best: 0.9952904238618524, Global best: 0.9968602825745683, Runtime: 6.31211 seconds\n",
            "INFO:mealpy.physics_based.TWO.LevyTWO:>>>Problem: P, Epoch: 14, Current best: 0.9952904238618524, Global best: 0.9968602825745683, Runtime: 4.47907 seconds\n",
            "INFO:mealpy.physics_based.TWO.LevyTWO:>>>Problem: P, Epoch: 15, Current best: 0.9952904238618524, Global best: 0.9968602825745683, Runtime: 3.31497 seconds\n",
            "INFO:mealpy.physics_based.TWO.LevyTWO:>>>Problem: P, Epoch: 16, Current best: 0.9937205651491365, Global best: 0.9968602825745683, Runtime: 4.22509 seconds\n",
            "INFO:mealpy.physics_based.TWO.LevyTWO:>>>Problem: P, Epoch: 17, Current best: 0.9937205651491365, Global best: 0.9968602825745683, Runtime: 3.71098 seconds\n",
            "INFO:mealpy.physics_based.TWO.LevyTWO:>>>Problem: P, Epoch: 18, Current best: 0.9952904238618524, Global best: 0.9968602825745683, Runtime: 2.51358 seconds\n",
            "INFO:mealpy.physics_based.TWO.LevyTWO:>>>Problem: P, Epoch: 19, Current best: 0.9921507064364207, Global best: 0.9968602825745683, Runtime: 3.57628 seconds\n",
            "INFO:mealpy.physics_based.TWO.LevyTWO:>>>Problem: P, Epoch: 20, Current best: 0.9921507064364207, Global best: 0.9968602825745683, Runtime: 5.52319 seconds\n",
            "INFO:mealpy.physics_based.TWO.LevyTWO:>>>Problem: P, Epoch: 21, Current best: 0.9937205651491365, Global best: 0.9968602825745683, Runtime: 5.59025 seconds\n",
            "INFO:mealpy.physics_based.TWO.LevyTWO:>>>Problem: P, Epoch: 22, Current best: 0.9937205651491365, Global best: 0.9968602825745683, Runtime: 6.96973 seconds\n",
            "INFO:mealpy.physics_based.TWO.LevyTWO:>>>Problem: P, Epoch: 23, Current best: 0.9937205651491365, Global best: 0.9968602825745683, Runtime: 4.54223 seconds\n",
            "INFO:mealpy.physics_based.TWO.LevyTWO:>>>Problem: P, Epoch: 24, Current best: 0.3956043956043956, Global best: 0.9968602825745683, Runtime: 5.91857 seconds\n",
            "INFO:mealpy.physics_based.TWO.LevyTWO:>>>Problem: P, Epoch: 25, Current best: 0.9937205651491365, Global best: 0.9968602825745683, Runtime: 2.84033 seconds\n",
            "INFO:mealpy.physics_based.TWO.LevyTWO:>>>Problem: P, Epoch: 26, Current best: 0.9937205651491365, Global best: 0.9968602825745683, Runtime: 2.86037 seconds\n",
            "INFO:mealpy.physics_based.TWO.LevyTWO:>>>Problem: P, Epoch: 27, Current best: 0.9968602825745683, Global best: 0.9968602825745683, Runtime: 3.73335 seconds\n",
            "INFO:mealpy.physics_based.TWO.LevyTWO:>>>Problem: P, Epoch: 28, Current best: 0.9905808477237049, Global best: 0.9968602825745683, Runtime: 5.00192 seconds\n",
            "INFO:mealpy.physics_based.TWO.LevyTWO:>>>Problem: P, Epoch: 29, Current best: 0.9937205651491365, Global best: 0.9968602825745683, Runtime: 2.70627 seconds\n",
            "INFO:mealpy.physics_based.TWO.LevyTWO:>>>Problem: P, Epoch: 30, Current best: 0.9874411302982732, Global best: 0.9968602825745683, Runtime: 3.30076 seconds\n",
            "INFO:mealpy.physics_based.TWO.LevyTWO:>>>Problem: P, Epoch: 31, Current best: 0.9952904238618524, Global best: 0.9968602825745683, Runtime: 1.56342 seconds\n",
            "INFO:mealpy.physics_based.TWO.LevyTWO:>>>Problem: P, Epoch: 32, Current best: 0.9952904238618524, Global best: 0.9968602825745683, Runtime: 5.29188 seconds\n",
            "INFO:mealpy.physics_based.TWO.LevyTWO:>>>Problem: P, Epoch: 33, Current best: 0.9952904238618524, Global best: 0.9968602825745683, Runtime: 2.45875 seconds\n",
            "INFO:mealpy.physics_based.TWO.LevyTWO:>>>Problem: P, Epoch: 34, Current best: 0.9952904238618524, Global best: 0.9968602825745683, Runtime: 1.63460 seconds\n",
            "INFO:mealpy.physics_based.TWO.LevyTWO:>>>Problem: P, Epoch: 35, Current best: 0.9968602825745683, Global best: 0.9968602825745683, Runtime: 2.24254 seconds\n",
            "INFO:mealpy.physics_based.TWO.LevyTWO:>>>Problem: P, Epoch: 36, Current best: 0.9215070643642073, Global best: 0.9968602825745683, Runtime: 0.98466 seconds\n",
            "INFO:mealpy.physics_based.TWO.LevyTWO:>>>Problem: P, Epoch: 37, Current best: 0.7582417582417582, Global best: 0.9968602825745683, Runtime: 1.17989 seconds\n",
            "INFO:mealpy.physics_based.TWO.LevyTWO:>>>Problem: P, Epoch: 38, Current best: 0.6279434850863422, Global best: 0.9968602825745683, Runtime: 3.79183 seconds\n",
            "INFO:mealpy.physics_based.TWO.LevyTWO:>>>Problem: P, Epoch: 39, Current best: 0.6546310832025117, Global best: 0.9968602825745683, Runtime: 1.34336 seconds\n",
            "INFO:mealpy.physics_based.TWO.LevyTWO:>>>Problem: P, Epoch: 40, Current best: 0.9952904238618524, Global best: 0.9968602825745683, Runtime: 2.67706 seconds\n",
            "INFO:mealpy.physics_based.TWO.LevyTWO:>>>Problem: P, Epoch: 41, Current best: 0.9968602825745683, Global best: 0.9968602825745683, Runtime: 1.49530 seconds\n",
            "INFO:mealpy.physics_based.TWO.LevyTWO:>>>Problem: P, Epoch: 42, Current best: 0.5478806907378336, Global best: 0.9968602825745683, Runtime: 1.07365 seconds\n",
            "INFO:mealpy.physics_based.TWO.LevyTWO:>>>Problem: P, Epoch: 43, Current best: 0.9952904238618524, Global best: 0.9968602825745683, Runtime: 1.84692 seconds\n",
            "INFO:mealpy.physics_based.TWO.LevyTWO:>>>Problem: P, Epoch: 44, Current best: 0.9952904238618524, Global best: 0.9968602825745683, Runtime: 1.22088 seconds\n",
            "INFO:mealpy.physics_based.TWO.LevyTWO:>>>Problem: P, Epoch: 45, Current best: 0.9952904238618524, Global best: 0.9968602825745683, Runtime: 3.29302 seconds\n",
            "INFO:mealpy.physics_based.TWO.LevyTWO:>>>Problem: P, Epoch: 46, Current best: 0.9952904238618524, Global best: 0.9968602825745683, Runtime: 1.23099 seconds\n",
            "INFO:mealpy.physics_based.TWO.LevyTWO:>>>Problem: P, Epoch: 47, Current best: 0.9952904238618524, Global best: 0.9968602825745683, Runtime: 0.85540 seconds\n",
            "INFO:mealpy.physics_based.TWO.LevyTWO:>>>Problem: P, Epoch: 48, Current best: 0.9968602825745683, Global best: 0.9968602825745683, Runtime: 1.95744 seconds\n",
            "INFO:mealpy.physics_based.TWO.LevyTWO:>>>Problem: P, Epoch: 49, Current best: 0.9905808477237049, Global best: 0.9968602825745683, Runtime: 2.38115 seconds\n",
            "INFO:mealpy.physics_based.TWO.LevyTWO:>>>Problem: P, Epoch: 50, Current best: 0.9952904238618524, Global best: 0.9968602825745683, Runtime: 1.43944 seconds\n"
          ]
        },
        {
          "name": "stdout",
          "output_type": "stream",
          "text": [
            "Best agent: id: 22274, target: Objectives: [0.99686028], Fitness: 0.9968602825745683, solution: [23.95382819 12.99434354  1.20108994]\n",
            "Best solution: [23.95382819 12.99434354  1.20108994]\n",
            "Best accuracy: 0.9968602825745683\n",
            "Best parameters: {'maxdepth': 24, 'max_iter': 13, 'learning_rate': 1.2010899415293805}\n",
            "0.9930767923887189\n",
            "[0.3956043956043956, 0.5400313971742543, 0.5478806907378336, 0.6279434850863422, 0.6546310832025117, 0.7441130298273155, 0.7582417582417582, 0.783359497645212, 0.9215070643642073, 0.9874411302982732, 0.9905808477237049, 0.9921507064364207, 0.9937205651491365, 0.9952904238618524, 0.9968602825745683]\n"
          ]
        },
        {
          "data": {
            "image/png": "[encoded data removed]",
            "text/plain": [
              "<Figure size 640x480 with 1 Axes>"
            ]
          },
          "metadata": {},
          "output_type": "display_data"
        },
        {
          "name": "stderr",
          "output_type": "stream",
          "text": [
            "INFO:mealpy.physics_based.MVO.OriginalMVO:Solving single objective optimization problem.\n",
            "INFO:mealpy.physics_based.MVO.OriginalMVO:>>>Problem: P, Epoch: 1, Current best: 0.9968602825745683, Global best: 0.9968602825745683, Runtime: 2.32369 seconds\n",
            "INFO:mealpy.physics_based.MVO.OriginalMVO:>>>Problem: P, Epoch: 2, Current best: 0.9968602825745683, Global best: 0.9968602825745683, Runtime: 2.15213 seconds\n",
            "INFO:mealpy.physics_based.MVO.OriginalMVO:>>>Problem: P, Epoch: 3, Current best: 0.9968602825745683, Global best: 0.9968602825745683, Runtime: 1.76401 seconds\n",
            "INFO:mealpy.physics_based.MVO.OriginalMVO:>>>Problem: P, Epoch: 4, Current best: 0.9968602825745683, Global best: 0.9968602825745683, Runtime: 1.25361 seconds\n",
            "INFO:mealpy.physics_based.MVO.OriginalMVO:>>>Problem: P, Epoch: 5, Current best: 0.9968602825745683, Global best: 0.9968602825745683, Runtime: 3.88242 seconds\n",
            "INFO:mealpy.physics_based.MVO.OriginalMVO:>>>Problem: P, Epoch: 6, Current best: 0.9968602825745683, Global best: 0.9968602825745683, Runtime: 1.99011 seconds\n",
            "INFO:mealpy.physics_based.MVO.OriginalMVO:>>>Problem: P, Epoch: 7, Current best: 0.9968602825745683, Global best: 0.9968602825745683, Runtime: 1.69637 seconds\n",
            "INFO:mealpy.physics_based.MVO.OriginalMVO:>>>Problem: P, Epoch: 8, Current best: 0.9968602825745683, Global best: 0.9968602825745683, Runtime: 2.39133 seconds\n",
            "INFO:mealpy.physics_based.MVO.OriginalMVO:>>>Problem: P, Epoch: 9, Current best: 0.9968602825745683, Global best: 0.9968602825745683, Runtime: 3.02724 seconds\n",
            "INFO:mealpy.physics_based.MVO.OriginalMVO:>>>Problem: P, Epoch: 10, Current best: 0.9968602825745683, Global best: 0.9968602825745683, Runtime: 6.27638 seconds\n",
            "INFO:mealpy.physics_based.MVO.OriginalMVO:>>>Problem: P, Epoch: 11, Current best: 0.9968602825745683, Global best: 0.9968602825745683, Runtime: 3.07500 seconds\n",
            "INFO:mealpy.physics_based.MVO.OriginalMVO:>>>Problem: P, Epoch: 12, Current best: 0.9968602825745683, Global best: 0.9968602825745683, Runtime: 2.92974 seconds\n",
            "INFO:mealpy.physics_based.MVO.OriginalMVO:>>>Problem: P, Epoch: 13, Current best: 0.9968602825745683, Global best: 0.9968602825745683, Runtime: 5.54029 seconds\n",
            "INFO:mealpy.physics_based.MVO.OriginalMVO:>>>Problem: P, Epoch: 14, Current best: 0.9968602825745683, Global best: 0.9968602825745683, Runtime: 2.36953 seconds\n",
            "INFO:mealpy.physics_based.MVO.OriginalMVO:>>>Problem: P, Epoch: 15, Current best: 0.9968602825745683, Global best: 0.9968602825745683, Runtime: 2.08578 seconds\n",
            "INFO:mealpy.physics_based.MVO.OriginalMVO:>>>Problem: P, Epoch: 16, Current best: 0.9968602825745683, Global best: 0.9968602825745683, Runtime: 1.90142 seconds\n",
            "INFO:mealpy.physics_based.MVO.OriginalMVO:>>>Problem: P, Epoch: 17, Current best: 0.9968602825745683, Global best: 0.9968602825745683, Runtime: 1.78782 seconds\n",
            "INFO:mealpy.physics_based.MVO.OriginalMVO:>>>Problem: P, Epoch: 18, Current best: 0.9968602825745683, Global best: 0.9968602825745683, Runtime: 4.37051 seconds\n",
            "INFO:mealpy.physics_based.MVO.OriginalMVO:>>>Problem: P, Epoch: 19, Current best: 0.9968602825745683, Global best: 0.9968602825745683, Runtime: 2.12627 seconds\n",
            "INFO:mealpy.physics_based.MVO.OriginalMVO:>>>Problem: P, Epoch: 20, Current best: 0.9968602825745683, Global best: 0.9968602825745683, Runtime: 1.89957 seconds\n",
            "INFO:mealpy.physics_based.MVO.OriginalMVO:>>>Problem: P, Epoch: 21, Current best: 0.9968602825745683, Global best: 0.9968602825745683, Runtime: 2.11373 seconds\n",
            "INFO:mealpy.physics_based.MVO.OriginalMVO:>>>Problem: P, Epoch: 22, Current best: 0.9968602825745683, Global best: 0.9968602825745683, Runtime: 1.97750 seconds\n",
            "INFO:mealpy.physics_based.MVO.OriginalMVO:>>>Problem: P, Epoch: 23, Current best: 0.9968602825745683, Global best: 0.9968602825745683, Runtime: 2.91140 seconds\n",
            "INFO:mealpy.physics_based.MVO.OriginalMVO:>>>Problem: P, Epoch: 24, Current best: 0.9968602825745683, Global best: 0.9968602825745683, Runtime: 3.24690 seconds\n",
            "INFO:mealpy.physics_based.MVO.OriginalMVO:>>>Problem: P, Epoch: 25, Current best: 0.9968602825745683, Global best: 0.9968602825745683, Runtime: 1.88483 seconds\n",
            "INFO:mealpy.physics_based.MVO.OriginalMVO:>>>Problem: P, Epoch: 26, Current best: 0.9968602825745683, Global best: 0.9968602825745683, Runtime: 1.61287 seconds\n",
            "INFO:mealpy.physics_based.MVO.OriginalMVO:>>>Problem: P, Epoch: 27, Current best: 0.9968602825745683, Global best: 0.9968602825745683, Runtime: 1.56128 seconds\n",
            "INFO:mealpy.physics_based.MVO.OriginalMVO:>>>Problem: P, Epoch: 28, Current best: 0.9968602825745683, Global best: 0.9968602825745683, Runtime: 1.65562 seconds\n",
            "INFO:mealpy.physics_based.MVO.OriginalMVO:>>>Problem: P, Epoch: 29, Current best: 0.9968602825745683, Global best: 0.9968602825745683, Runtime: 1.81556 seconds\n",
            "INFO:mealpy.physics_based.MVO.OriginalMVO:>>>Problem: P, Epoch: 30, Current best: 0.9968602825745683, Global best: 0.9968602825745683, Runtime: 4.11983 seconds\n",
            "INFO:mealpy.physics_based.MVO.OriginalMVO:>>>Problem: P, Epoch: 31, Current best: 0.9968602825745683, Global best: 0.9968602825745683, Runtime: 1.68693 seconds\n",
            "INFO:mealpy.physics_based.MVO.OriginalMVO:>>>Problem: P, Epoch: 32, Current best: 0.9968602825745683, Global best: 0.9968602825745683, Runtime: 1.68016 seconds\n",
            "INFO:mealpy.physics_based.MVO.OriginalMVO:>>>Problem: P, Epoch: 33, Current best: 0.9968602825745683, Global best: 0.9968602825745683, Runtime: 1.53864 seconds\n",
            "INFO:mealpy.physics_based.MVO.OriginalMVO:>>>Problem: P, Epoch: 34, Current best: 0.9968602825745683, Global best: 0.9968602825745683, Runtime: 1.27754 seconds\n",
            "INFO:mealpy.physics_based.MVO.OriginalMVO:>>>Problem: P, Epoch: 35, Current best: 0.9968602825745683, Global best: 0.9968602825745683, Runtime: 1.41842 seconds\n",
            "INFO:mealpy.physics_based.MVO.OriginalMVO:>>>Problem: P, Epoch: 36, Current best: 0.9968602825745683, Global best: 0.9968602825745683, Runtime: 1.40791 seconds\n",
            "INFO:mealpy.physics_based.MVO.OriginalMVO:>>>Problem: P, Epoch: 37, Current best: 0.9968602825745683, Global best: 0.9968602825745683, Runtime: 3.72493 seconds\n",
            "INFO:mealpy.physics_based.MVO.OriginalMVO:>>>Problem: P, Epoch: 38, Current best: 0.9968602825745683, Global best: 0.9968602825745683, Runtime: 1.33360 seconds\n",
            "INFO:mealpy.physics_based.MVO.OriginalMVO:>>>Problem: P, Epoch: 39, Current best: 0.9968602825745683, Global best: 0.9968602825745683, Runtime: 1.15161 seconds\n",
            "INFO:mealpy.physics_based.MVO.OriginalMVO:>>>Problem: P, Epoch: 40, Current best: 0.9968602825745683, Global best: 0.9968602825745683, Runtime: 1.12339 seconds\n",
            "INFO:mealpy.physics_based.MVO.OriginalMVO:>>>Problem: P, Epoch: 41, Current best: 0.9968602825745683, Global best: 0.9968602825745683, Runtime: 1.12711 seconds\n",
            "INFO:mealpy.physics_based.MVO.OriginalMVO:>>>Problem: P, Epoch: 42, Current best: 0.9968602825745683, Global best: 0.9968602825745683, Runtime: 1.23580 seconds\n",
            "INFO:mealpy.physics_based.MVO.OriginalMVO:>>>Problem: P, Epoch: 43, Current best: 0.9968602825745683, Global best: 0.9968602825745683, Runtime: 1.20325 seconds\n",
            "INFO:mealpy.physics_based.MVO.OriginalMVO:>>>Problem: P, Epoch: 44, Current best: 0.9968602825745683, Global best: 0.9968602825745683, Runtime: 1.14551 seconds\n",
            "INFO:mealpy.physics_based.MVO.OriginalMVO:>>>Problem: P, Epoch: 45, Current best: 0.9968602825745683, Global best: 0.9968602825745683, Runtime: 1.23922 seconds\n",
            "INFO:mealpy.physics_based.MVO.OriginalMVO:>>>Problem: P, Epoch: 46, Current best: 0.9968602825745683, Global best: 0.9968602825745683, Runtime: 3.43946 seconds\n",
            "INFO:mealpy.physics_based.MVO.OriginalMVO:>>>Problem: P, Epoch: 47, Current best: 0.9968602825745683, Global best: 0.9968602825745683, Runtime: 1.22678 seconds\n",
            "INFO:mealpy.physics_based.MVO.OriginalMVO:>>>Problem: P, Epoch: 48, Current best: 0.9968602825745683, Global best: 0.9968602825745683, Runtime: 1.14731 seconds\n",
            "INFO:mealpy.physics_based.MVO.OriginalMVO:>>>Problem: P, Epoch: 49, Current best: 0.9968602825745683, Global best: 0.9968602825745683, Runtime: 1.16597 seconds\n",
            "INFO:mealpy.physics_based.MVO.OriginalMVO:>>>Problem: P, Epoch: 50, Current best: 0.9968602825745683, Global best: 0.9968602825745683, Runtime: 1.12322 seconds\n"
          ]
        },
        {
          "name": "stdout",
          "output_type": "stream",
          "text": [
            "Best agent: id: 23391, target: Objectives: [0.99686028], Fitness: 0.9968602825745683, solution: [20.12044164 75.47893276  1.1000004 ]\n",
            "Best solution: [20.12044164 75.47893276  1.1000004 ]\n",
            "Best accuracy: 0.9968602825745683\n",
            "Best parameters: {'maxdepth': 20, 'max_iter': 75, 'learning_rate': 1.100000401947784}\n",
            "0.9913660681180148\n",
            "[0.9968602825745683]\n"
          ]
        },
        {
          "data": {
            "image/png": "[encoded data removed]",
            "text/plain": [
              "<Figure size 640x480 with 1 Axes>"
            ]
          },
          "metadata": {},
          "output_type": "display_data"
        }
      ],
      "source": [
        "for opt in k:\n",
        "    problem = HISTptimizedProblem(bounds=my_bounds, minmax=\"max\", data=data)\n",
        "    model = opt(epoch=50, pop_size=10)\n",
        "    model.solve(problem,n_workers=8)\n",
        "\n",
        "    print(f\"Best agent: {model.g_best}\")\n",
        "    print(f\"Best solution: {model.g_best.solution}\")\n",
        "    print(f\"Best accuracy: {model.g_best.target.fitness}\")\n",
        "    print(f\"Best parameters: {model.problem.decode_solution(model.g_best.solution)}\")\n",
        "\n",
        "    pd.DataFrame(model.g_best.solution).to_csv(f'{path}hist_{model.__class__.__name__}.csv',index=False)\n",
        "    pd.DataFrame(model.history.list_current_best_fit).to_csv(f'{path}hist_{model.__class__.__name__}.csv',index=False)\n",
        "    max,estim,rnd = model.g_best.solution\n",
        "    xgb = HistGradientBoostingClassifier(max_depth=round(max),max_iter=round(estim)\n",
        "                                             ,random_state=8\n",
        "                                             ,learning_rate = round(rnd))\n",
        "    xgb.fit(data['X_train'],data['y_train'])\n",
        "    j1,j2,j3,j4 = xgb.predict(data['X_test']),xgb.predict(data['X_train']),np.array(data['y_test']),np.array(data['y_train'])\n",
        "    g1 = pd.DataFrame()\n",
        "    g1['train'] = j2\n",
        "    g1['val'] = j4\n",
        "    g1.to_csv(f'{path}trhist_{model.__class__.__name__}.csv',index=False)\n",
        "    g2 = pd.DataFrame()\n",
        "    g2['train'] = j1\n",
        "    g2['val'] = j3\n",
        "    print(f1_score(j1, j3,average='macro'))\n",
        "    g2.to_csv(f'{path}tshist_{model.__class__.__name__}.csv',index=False)\n",
        "    f(model.history.list_current_best_fit,model.__class__.__name__)"
      ]
    },
    {
      "cell_type": "code",
      "source": [
        "path"
      ],
      "metadata": {
        "colab": {
          "base_uri": "https://localhost:8080/",
          "height": 35
        },
        "id": "R9oyvPp9SbEP",
        "outputId": "928f3307-01d2-4ee3-9d12-653466ffc7e7"
      },
      "execution_count": null,
      "outputs": [
        {
          "output_type": "execute_result",
          "data": {
            "text/plain": [
              "'/content/drive/MyDrive/work 69 brain/'"
            ],
            "application/vnd.google.colaboratory.intrinsic+json": {
              "type": "string"
            }
          },
          "metadata": {},
          "execution_count": 93
        }
      ]
    },
    {
      "cell_type": "code",
      "source": [
        "class ETROptimizedProblem(Problem):\n",
        "    def __init__(self, bounds=None, minmax=\"max\", data=None, **kwargs):\n",
        "        self.data = data\n",
        "        super().__init__(bounds, minmax, **kwargs)\n",
        "\n",
        "    def obj_func(self, x):\n",
        "        modelname = 'OriginalCRO'\n",
        "        x_decoded = self.decode_solution(x)\n",
        "        # max,estim = x_decoded[\"maxdepth\"], x_decoded[\"nestimators\"]\n",
        "        xgb = ExtraTreesClassifier(max_depth=x_decoded[\"maxdepth\"],n_estimators=x_decoded[\"nestimators\"],random_state=x_decoded['randomstate'])\n",
        "\n",
        "        # xgb = RandomForestClassifier(max_depth=x_decoded[\"maxdepth\"],n_estimators=x_decoded[\"nestimators\"],random_state=x_decoded['randomstate'])\n",
        "        # Fit the model\n",
        "        xgb.fit(self.data[\"X_train\"], self.data[\"y_train\"])\n",
        "        # Make the predictions\n",
        "        y_predict = xgb.predict(self.data[\"X_test\"])\n",
        "        # Measure the performance\n",
        "        # return r2_score(self.data[\"y_test\"], y_predict)\n",
        "        acc = accuracy_score(self.data[\"y_test\"], y_predict)\n",
        "        # pre = precision_score(self.data[\"y_test\"], y_predict,average='macro')\n",
        "        # rec = recall_score(self.data[\"y_test\"], y_predict,average='macro')\n",
        "        # f1 = f1_score(self.data[\"y_test\"], y_predict,average='macro')\n",
        "        print(acc,round(x_decoded[\"maxdepth\"]),round(x_decoded[\"maxdepth\"]),round(x_decoded[\"maxdepth\"]),file=open(f'{path}{modelname}.txt','a'))\n",
        "        return accuracy_score(self.data[\"y_test\"], y_predict)\n",
        "\n",
        "my_bounds = [\n",
        "    # FloatVar(lb=0.01, ub=0.5, name=\"lr\"),\n",
        "    IntegerVar(lb=2, ub=30, name=\"maxdepth\"),\n",
        "    IntegerVar(lb=10, ub=800, name=\"nestimators\"),\n",
        "    IntegerVar(lb=0, ub=100, name=\"randomstate\"),\n",
        "\n",
        "\n",
        "    # FloatVar(lb=0.01, ub=1000., name=\"C_paras\"),\n",
        "    # StringVar(valid_sets=('squared_error', 'absolute_error', 'friedman_mse', 'poisson'), name=\"criterion\"),\n",
        "    # IntegerVar(lb=1, ub=5, name=\"degree_paras\"),\n",
        "    # MixedSetVar(valid_sets=('scale', 'auto', 0.01, 0.05, 0.1, 0.5, 1.0), name=\"gamma_paras\"),\n",
        "    # BoolVar(n_vars=1, name=\"probability_paras\"),\n",
        "]"
      ],
      "metadata": {
        "id": "FkJCZEe_A2pZ"
      },
      "execution_count": null,
      "outputs": []
    },
    {
      "cell_type": "code",
      "execution_count": null,
      "metadata": {
        "colab": {
          "base_uri": "https://localhost:8080/"
        },
        "id": "1kYrlwW9faDL",
        "outputId": "3cd656fd-cb86-447f-f07b-86490a94c0ca"
      },
      "outputs": [
        {
          "output_type": "execute_result",
          "data": {
            "text/plain": [
              "27"
            ]
          },
          "metadata": {},
          "execution_count": 89
        }
      ],
      "source": [
        "# k = [DE.JADE,TWO.EnhancedTWO,TWO.LevyTWO, MVO.OriginalMVO,ABC.OriginalABC, ACOR.OriginalACOR, ALO.OriginalALO, AO.OriginalAO, BA.AdaptiveBA,BeesA.OriginalBeesA, BeesA.CleverBookBeesA]\n",
        "# len(k)\n",
        "k = [CRO.OriginalCRO, DE.JADE,DE.OriginalDE,DE.SADE,DE.SAP_DE, EP.LevyEP,EP.OriginalEP, ES.CMA_ES,ES.LevyES,ES.OriginalES, FPA.OriginalFPA, GA.BaseGA,GA.EliteSingleGA,GA.SingleGA, MA.OriginalMA,BBO.OriginalBBO,BBO.DevBBO, EOA.OriginalEOA, IWO.OriginalIWO, SBO.DevSBO,SBO.OriginalSBO, SMA.DevSMA,SMA.OriginalSMA, TPO.DevTPO, VCS.DevVCS,VCS.OriginalVCS, WHO.OriginalWHO]\n",
        "len(k)"
      ]
    },
    {
      "cell_type": "code",
      "source": [
        "\n",
        "k[0].__name__"
      ],
      "metadata": {
        "colab": {
          "base_uri": "https://localhost:8080/",
          "height": 35
        },
        "id": "wYvIQWeOSn-B",
        "outputId": "5b50056a-38ca-4ca8-cc0c-95564f43b2bd"
      },
      "execution_count": null,
      "outputs": [
        {
          "output_type": "execute_result",
          "data": {
            "text/plain": [
              "'OriginalCRO'"
            ],
            "application/vnd.google.colaboratory.intrinsic+json": {
              "type": "string"
            }
          },
          "metadata": {},
          "execution_count": 96
        }
      ]
    },
    {
      "cell_type": "code",
      "execution_count": null,
      "metadata": {
        "colab": {
          "base_uri": "https://localhost:8080/",
          "height": 1000
        },
        "id": "IOk7Py7NsO3u",
        "outputId": "77dd8765-7b12-43a0-b71c-746252a2ed5d"
      },
      "outputs": [
        {
          "output_type": "stream",
          "name": "stderr",
          "text": [
            "INFO:mealpy.evolutionary_based.CRO.OriginalCRO:Solving single objective optimization problem.\n"
          ]
        },
        {
          "output_type": "stream",
          "name": "stdout",
          "text": [
            "0.9985272459499264 0.9978991596638656 0.9989495798319328 0.9984188318898513\n",
            "0.9911634756995582 0.9927338704076671 0.9917241463059212 0.9921544585297648\n",
            "0.9896907216494846 0.9917263201576927 0.9902790596007189 0.990895129335189\n",
            "0.8733431516936672 0.933641975308642 0.8514744782992064 0.8745140425122632\n",
            "0.9985272459499264 0.9978991596638656 0.9989495798319328 0.9984188318898513\n",
            "0.882179675994109 0.9371069182389937 0.8587978838052317 0.8815095053144087\n",
            "0.9985272459499264 0.9978991596638656 0.9989495798319328 0.9984188318898513\n",
            "0.8865979381443299 0.9388888888888889 0.8658273733712158 0.887632117642144\n",
            "0.9970544918998527 0.9958333333333333 0.9978991596638656 0.9968443073431904\n",
            "0.9985272459499264 0.9978991596638656 0.9989495798319328 0.9984188318898513\n",
            "0.9985272459499264 0.9978991596638656 0.9989495798319328 0.9984188318898513\n",
            "0.9985272459499264 0.9978991596638656 0.9989495798319328 0.9984188318898513\n",
            "0.9985272459499264 0.9978991596638656 0.9989495798319328 0.9984188318898513\n"
          ]
        },
        {
          "output_type": "stream",
          "name": "stderr",
          "text": [
            "INFO:mealpy.evolutionary_based.CRO.OriginalCRO:>>>Problem: P, Epoch: 1, Current best: 0.9985272459499264, Global best: 0.9985272459499264, Runtime: 2.25924 seconds\n"
          ]
        },
        {
          "output_type": "stream",
          "name": "stdout",
          "text": [
            "0.9896907216494846 0.9917263201576927 0.9902790596007189 0.990895129335189\n",
            "0.8998527245949927 0.9444444444444444 0.8747918095424708 0.8957170132203826\n",
            "0.9896907216494846 0.9917263201576927 0.9902790596007189 0.990895129335189\n",
            "0.9985272459499264 0.9978991596638656 0.9989495798319328 0.9984188318898513\n",
            "0.9985272459499264 0.9978991596638656 0.9989495798319328 0.9984188318898513\n",
            "0.8689248895434463 0.9319571865443426 0.8545483491721368 0.8742610272934978\n"
          ]
        },
        {
          "output_type": "stream",
          "name": "stderr",
          "text": [
            "INFO:mealpy.evolutionary_based.CRO.OriginalCRO:>>>Problem: P, Epoch: 2, Current best: 0.9985272459499264, Global best: 0.9985272459499264, Runtime: 1.96807 seconds\n"
          ]
        },
        {
          "output_type": "stream",
          "name": "stdout",
          "text": [
            "0.9985272459499264 0.9978991596638656 0.9989495798319328 0.9984188318898513\n",
            "0.9985272459499264 0.9978991596638656 0.9989495798319328 0.9984188318898513\n",
            "0.9985272459499264 0.9978991596638656 0.9989495798319328 0.9984188318898513\n",
            "0.9882179675994109 0.9907270285163245 0.9888339728955166 0.9896335281980584\n",
            "0.9985272459499264 0.9978991596638656 0.9989495798319328 0.9984188318898513\n"
          ]
        },
        {
          "output_type": "stream",
          "name": "stderr",
          "text": [
            "INFO:mealpy.evolutionary_based.CRO.OriginalCRO:>>>Problem: P, Epoch: 3, Current best: 0.9985272459499264, Global best: 0.9985272459499264, Runtime: 2.60081 seconds\n"
          ]
        },
        {
          "output_type": "stream",
          "name": "stdout",
          "text": [
            "0.9911634756995582 0.9927338704076671 0.9917241463059212 0.9921544585297648\n",
            "0.9985272459499264 0.9978991596638656 0.9989495798319328 0.9984188318898513\n",
            "0.9985272459499264 0.9978991596638656 0.9989495798319328 0.9984188318898513\n",
            "0.9985272459499264 0.9978991596638656 0.9989495798319328 0.9984188318898513\n",
            "0.9882179675994109 0.9907270285163245 0.9888339728955166 0.9896335281980584\n"
          ]
        },
        {
          "output_type": "stream",
          "name": "stderr",
          "text": [
            "INFO:mealpy.evolutionary_based.CRO.OriginalCRO:>>>Problem: P, Epoch: 4, Current best: 0.9985272459499264, Global best: 0.9985272459499264, Runtime: 2.98526 seconds\n"
          ]
        },
        {
          "output_type": "stream",
          "name": "stdout",
          "text": [
            "0.9985272459499264 0.9978991596638656 0.9989495798319328 0.9984188318898513\n",
            "0.9985272459499264 0.9978991596638656 0.9989495798319328 0.9984188318898513\n",
            "0.9985272459499264 0.9978991596638656 0.9989495798319328 0.9984188318898513\n",
            "0.9911634756995582 0.9927338704076671 0.9917241463059212 0.9921544585297648\n",
            "0.9985272459499264 0.9978991596638656 0.9989495798319328 0.9984188318898513\n"
          ]
        },
        {
          "output_type": "stream",
          "name": "stderr",
          "text": [
            "INFO:mealpy.evolutionary_based.CRO.OriginalCRO:>>>Problem: P, Epoch: 5, Current best: 0.9985272459499264, Global best: 0.9985272459499264, Runtime: 3.05791 seconds\n"
          ]
        },
        {
          "output_type": "stream",
          "name": "stdout",
          "text": [
            "0.9985272459499264 0.9978991596638656 0.9989495798319328 0.9984188318898513\n",
            "0.9985272459499264 0.9978991596638656 0.9989495798319328 0.9984188318898513\n",
            "0.9985272459499264 0.9978991596638656 0.9989495798319328 0.9984188318898513\n",
            "0.9985272459499264 0.9978991596638656 0.9989495798319328 0.9984188318898513\n",
            "0.9985272459499264 0.9978991596638656 0.9989495798319328 0.9984188318898513\n"
          ]
        },
        {
          "output_type": "stream",
          "name": "stderr",
          "text": [
            "INFO:mealpy.evolutionary_based.CRO.OriginalCRO:>>>Problem: P, Epoch: 6, Current best: 0.9985272459499264, Global best: 0.9985272459499264, Runtime: 2.99250 seconds\n"
          ]
        },
        {
          "output_type": "stream",
          "name": "stdout",
          "text": [
            "0.9985272459499264 0.9978991596638656 0.9989495798319328 0.9984188318898513\n",
            "0.9985272459499264 0.9978991596638656 0.9989495798319328 0.9984188318898513\n",
            "0.9985272459499264 0.9978991596638656 0.9989495798319328 0.9984188318898513\n",
            "0.9985272459499264 0.9978991596638656 0.9989495798319328 0.9984188318898513\n",
            "0.9985272459499264 0.9978991596638656 0.9989495798319328 0.9984188318898513\n"
          ]
        },
        {
          "output_type": "stream",
          "name": "stderr",
          "text": [
            "INFO:mealpy.evolutionary_based.CRO.OriginalCRO:>>>Problem: P, Epoch: 7, Current best: 0.9985272459499264, Global best: 0.9985272459499264, Runtime: 4.02063 seconds\n",
            "INFO:mealpy.evolutionary_based.CRO.OriginalCRO:>>>Problem: P, Epoch: 8, Current best: 0.9985272459499264, Global best: 0.9985272459499264, Runtime: 0.00042 seconds\n",
            "INFO:mealpy.evolutionary_based.CRO.OriginalCRO:>>>Problem: P, Epoch: 9, Current best: 0.9985272459499264, Global best: 0.9985272459499264, Runtime: 0.00030 seconds\n",
            "INFO:mealpy.evolutionary_based.CRO.OriginalCRO:>>>Problem: P, Epoch: 10, Current best: 0.9985272459499264, Global best: 0.9985272459499264, Runtime: 0.00031 seconds\n",
            "INFO:mealpy.evolutionary_based.CRO.OriginalCRO:>>>Problem: P, Epoch: 11, Current best: 0.9985272459499264, Global best: 0.9985272459499264, Runtime: 0.00028 seconds\n",
            "INFO:mealpy.evolutionary_based.CRO.OriginalCRO:>>>Problem: P, Epoch: 12, Current best: 0.9985272459499264, Global best: 0.9985272459499264, Runtime: 0.00046 seconds\n",
            "INFO:mealpy.evolutionary_based.CRO.OriginalCRO:>>>Problem: P, Epoch: 13, Current best: 0.9985272459499264, Global best: 0.9985272459499264, Runtime: 0.00031 seconds\n",
            "INFO:mealpy.evolutionary_based.CRO.OriginalCRO:>>>Problem: P, Epoch: 14, Current best: 0.9985272459499264, Global best: 0.9985272459499264, Runtime: 0.00052 seconds\n",
            "INFO:mealpy.evolutionary_based.CRO.OriginalCRO:>>>Problem: P, Epoch: 15, Current best: 0.9985272459499264, Global best: 0.9985272459499264, Runtime: 0.00045 seconds\n",
            "INFO:mealpy.evolutionary_based.CRO.OriginalCRO:>>>Problem: P, Epoch: 16, Current best: 0.9985272459499264, Global best: 0.9985272459499264, Runtime: 0.00033 seconds\n",
            "INFO:mealpy.evolutionary_based.CRO.OriginalCRO:>>>Problem: P, Epoch: 17, Current best: 0.9985272459499264, Global best: 0.9985272459499264, Runtime: 0.00041 seconds\n",
            "INFO:mealpy.evolutionary_based.CRO.OriginalCRO:>>>Problem: P, Epoch: 18, Current best: 0.9985272459499264, Global best: 0.9985272459499264, Runtime: 0.00029 seconds\n",
            "INFO:mealpy.evolutionary_based.CRO.OriginalCRO:>>>Problem: P, Epoch: 19, Current best: 0.9985272459499264, Global best: 0.9985272459499264, Runtime: 0.00037 seconds\n",
            "INFO:mealpy.evolutionary_based.CRO.OriginalCRO:>>>Problem: P, Epoch: 20, Current best: 0.9985272459499264, Global best: 0.9985272459499264, Runtime: 0.00028 seconds\n",
            "INFO:mealpy.evolutionary_based.CRO.OriginalCRO:>>>Problem: P, Epoch: 21, Current best: 0.9985272459499264, Global best: 0.9985272459499264, Runtime: 0.00041 seconds\n",
            "INFO:mealpy.evolutionary_based.CRO.OriginalCRO:>>>Problem: P, Epoch: 22, Current best: 0.9985272459499264, Global best: 0.9985272459499264, Runtime: 0.00038 seconds\n",
            "INFO:mealpy.evolutionary_based.CRO.OriginalCRO:>>>Problem: P, Epoch: 23, Current best: 0.9985272459499264, Global best: 0.9985272459499264, Runtime: 0.00026 seconds\n",
            "INFO:mealpy.evolutionary_based.CRO.OriginalCRO:>>>Problem: P, Epoch: 24, Current best: 0.9985272459499264, Global best: 0.9985272459499264, Runtime: 0.00035 seconds\n",
            "INFO:mealpy.evolutionary_based.CRO.OriginalCRO:>>>Problem: P, Epoch: 25, Current best: 0.9985272459499264, Global best: 0.9985272459499264, Runtime: 0.00031 seconds\n",
            "INFO:mealpy.evolutionary_based.CRO.OriginalCRO:>>>Problem: P, Epoch: 26, Current best: 0.9985272459499264, Global best: 0.9985272459499264, Runtime: 0.00047 seconds\n",
            "INFO:mealpy.evolutionary_based.CRO.OriginalCRO:>>>Problem: P, Epoch: 27, Current best: 0.9985272459499264, Global best: 0.9985272459499264, Runtime: 0.00034 seconds\n",
            "INFO:mealpy.evolutionary_based.CRO.OriginalCRO:>>>Problem: P, Epoch: 28, Current best: 0.9985272459499264, Global best: 0.9985272459499264, Runtime: 0.00037 seconds\n",
            "INFO:mealpy.evolutionary_based.CRO.OriginalCRO:>>>Problem: P, Epoch: 29, Current best: 0.9985272459499264, Global best: 0.9985272459499264, Runtime: 0.00044 seconds\n",
            "INFO:mealpy.evolutionary_based.CRO.OriginalCRO:>>>Problem: P, Epoch: 30, Current best: 0.9985272459499264, Global best: 0.9985272459499264, Runtime: 0.00037 seconds\n",
            "INFO:mealpy.evolutionary_based.CRO.OriginalCRO:>>>Problem: P, Epoch: 31, Current best: 0.9985272459499264, Global best: 0.9985272459499264, Runtime: 0.00045 seconds\n",
            "INFO:mealpy.evolutionary_based.CRO.OriginalCRO:>>>Problem: P, Epoch: 32, Current best: 0.9985272459499264, Global best: 0.9985272459499264, Runtime: 0.00048 seconds\n",
            "INFO:mealpy.evolutionary_based.CRO.OriginalCRO:>>>Problem: P, Epoch: 33, Current best: 0.9985272459499264, Global best: 0.9985272459499264, Runtime: 0.00037 seconds\n",
            "INFO:mealpy.evolutionary_based.CRO.OriginalCRO:>>>Problem: P, Epoch: 34, Current best: 0.9985272459499264, Global best: 0.9985272459499264, Runtime: 0.00035 seconds\n",
            "INFO:mealpy.evolutionary_based.CRO.OriginalCRO:>>>Problem: P, Epoch: 35, Current best: 0.9985272459499264, Global best: 0.9985272459499264, Runtime: 0.00036 seconds\n",
            "INFO:mealpy.evolutionary_based.CRO.OriginalCRO:>>>Problem: P, Epoch: 36, Current best: 0.9985272459499264, Global best: 0.9985272459499264, Runtime: 0.00060 seconds\n",
            "INFO:mealpy.evolutionary_based.CRO.OriginalCRO:>>>Problem: P, Epoch: 37, Current best: 0.9985272459499264, Global best: 0.9985272459499264, Runtime: 0.00040 seconds\n",
            "INFO:mealpy.evolutionary_based.CRO.OriginalCRO:>>>Problem: P, Epoch: 38, Current best: 0.9985272459499264, Global best: 0.9985272459499264, Runtime: 0.00034 seconds\n",
            "INFO:mealpy.evolutionary_based.CRO.OriginalCRO:>>>Problem: P, Epoch: 39, Current best: 0.9985272459499264, Global best: 0.9985272459499264, Runtime: 0.00083 seconds\n",
            "INFO:mealpy.evolutionary_based.CRO.OriginalCRO:>>>Problem: P, Epoch: 40, Current best: 0.9985272459499264, Global best: 0.9985272459499264, Runtime: 0.00070 seconds\n"
          ]
        },
        {
          "output_type": "stream",
          "name": "stdout",
          "text": [
            "0.9985272459499264 0.9978991596638656 0.9989495798319328 0.9984188318898513\n",
            "OriginalCRO , 1 , 27.67737650871277\n",
            "Best agent: id: 19581, target: Objectives: [0.99852725], Fitness: 0.9985272459499264, solution: [ 12. 636.  26.]\n",
            "Best solution: [ 12. 636.  26.]\n",
            "Best accuracy: 0.9985272459499264\n",
            "Best parameters: {'maxdepth': 12, 'nestimators': 636, 'randomstate': 26}\n"
          ]
        },
        {
          "output_type": "error",
          "ename": "KeyboardInterrupt",
          "evalue": "",
          "traceback": [
            "\u001b[0;31m---------------------------------------------------------------------------\u001b[0m",
            "\u001b[0;31mKeyboardInterrupt\u001b[0m                         Traceback (most recent call last)",
            "\u001b[0;32m<ipython-input-92-3d621a09781c>\u001b[0m in \u001b[0;36m<cell line: 1>\u001b[0;34m()\u001b[0m\n\u001b[1;32m     18\u001b[0m     \u001b[0mxgb\u001b[0m \u001b[0;34m=\u001b[0m \u001b[0mExtraTreesClassifier\u001b[0m\u001b[0;34m(\u001b[0m\u001b[0mmax_depth\u001b[0m\u001b[0;34m=\u001b[0m\u001b[0mround\u001b[0m\u001b[0;34m(\u001b[0m\u001b[0mmax\u001b[0m\u001b[0;34m)\u001b[0m\u001b[0;34m,\u001b[0m\u001b[0mn_estimators\u001b[0m\u001b[0;34m=\u001b[0m\u001b[0mround\u001b[0m\u001b[0;34m(\u001b[0m\u001b[0mestim\u001b[0m\u001b[0;34m)\u001b[0m\u001b[0;34m,\u001b[0m\u001b[0mrandom_state\u001b[0m\u001b[0;34m=\u001b[0m\u001b[0mround\u001b[0m\u001b[0;34m(\u001b[0m\u001b[0mrnd\u001b[0m\u001b[0;34m)\u001b[0m\u001b[0;34m)\u001b[0m\u001b[0;34m\u001b[0m\u001b[0;34m\u001b[0m\u001b[0m\n\u001b[1;32m     19\u001b[0m     \u001b[0;31m# xgb = RandomForestClassifier(max_depth=round(max),n_estimators=round(estim),random_state=round(rnd))\u001b[0m\u001b[0;34m\u001b[0m\u001b[0;34m\u001b[0m\u001b[0m\n\u001b[0;32m---> 20\u001b[0;31m     \u001b[0mxgb\u001b[0m\u001b[0;34m.\u001b[0m\u001b[0mfit\u001b[0m\u001b[0;34m(\u001b[0m\u001b[0mdata\u001b[0m\u001b[0;34m[\u001b[0m\u001b[0;34m'X_train'\u001b[0m\u001b[0;34m]\u001b[0m\u001b[0;34m,\u001b[0m\u001b[0mdata\u001b[0m\u001b[0;34m[\u001b[0m\u001b[0;34m'y_train'\u001b[0m\u001b[0;34m]\u001b[0m\u001b[0;34m)\u001b[0m\u001b[0;34m\u001b[0m\u001b[0;34m\u001b[0m\u001b[0m\n\u001b[0m\u001b[1;32m     21\u001b[0m     \u001b[0mj1\u001b[0m\u001b[0;34m,\u001b[0m\u001b[0mj2\u001b[0m\u001b[0;34m,\u001b[0m\u001b[0mj3\u001b[0m\u001b[0;34m,\u001b[0m\u001b[0mj4\u001b[0m \u001b[0;34m=\u001b[0m \u001b[0mxgb\u001b[0m\u001b[0;34m.\u001b[0m\u001b[0mpredict\u001b[0m\u001b[0;34m(\u001b[0m\u001b[0mdata\u001b[0m\u001b[0;34m[\u001b[0m\u001b[0;34m'X_test'\u001b[0m\u001b[0;34m]\u001b[0m\u001b[0;34m)\u001b[0m\u001b[0;34m,\u001b[0m\u001b[0mxgb\u001b[0m\u001b[0;34m.\u001b[0m\u001b[0mpredict\u001b[0m\u001b[0;34m(\u001b[0m\u001b[0mdata\u001b[0m\u001b[0;34m[\u001b[0m\u001b[0;34m'X_train'\u001b[0m\u001b[0;34m]\u001b[0m\u001b[0;34m)\u001b[0m\u001b[0;34m,\u001b[0m\u001b[0mnp\u001b[0m\u001b[0;34m.\u001b[0m\u001b[0marray\u001b[0m\u001b[0;34m(\u001b[0m\u001b[0mdata\u001b[0m\u001b[0;34m[\u001b[0m\u001b[0;34m'y_test'\u001b[0m\u001b[0;34m]\u001b[0m\u001b[0;34m)\u001b[0m\u001b[0;34m,\u001b[0m\u001b[0mnp\u001b[0m\u001b[0;34m.\u001b[0m\u001b[0marray\u001b[0m\u001b[0;34m(\u001b[0m\u001b[0mdata\u001b[0m\u001b[0;34m[\u001b[0m\u001b[0;34m'y_train'\u001b[0m\u001b[0;34m]\u001b[0m\u001b[0;34m)\u001b[0m\u001b[0;34m\u001b[0m\u001b[0;34m\u001b[0m\u001b[0m\n\u001b[1;32m     22\u001b[0m     \u001b[0mg1\u001b[0m \u001b[0;34m=\u001b[0m \u001b[0mpd\u001b[0m\u001b[0;34m.\u001b[0m\u001b[0mDataFrame\u001b[0m\u001b[0;34m(\u001b[0m\u001b[0;34m)\u001b[0m\u001b[0;34m\u001b[0m\u001b[0;34m\u001b[0m\u001b[0m\n",
            "\u001b[0;32m/usr/local/lib/python3.10/dist-packages/sklearn/ensemble/_forest.py\u001b[0m in \u001b[0;36mfit\u001b[0;34m(self, X, y, sample_weight)\u001b[0m\n\u001b[1;32m    471\u001b[0m             \u001b[0;31m# parallel_backend contexts set at a higher level,\u001b[0m\u001b[0;34m\u001b[0m\u001b[0;34m\u001b[0m\u001b[0m\n\u001b[1;32m    472\u001b[0m             \u001b[0;31m# since correctness does not rely on using threads.\u001b[0m\u001b[0;34m\u001b[0m\u001b[0;34m\u001b[0m\u001b[0m\n\u001b[0;32m--> 473\u001b[0;31m             trees = Parallel(\n\u001b[0m\u001b[1;32m    474\u001b[0m                 \u001b[0mn_jobs\u001b[0m\u001b[0;34m=\u001b[0m\u001b[0mself\u001b[0m\u001b[0;34m.\u001b[0m\u001b[0mn_jobs\u001b[0m\u001b[0;34m,\u001b[0m\u001b[0;34m\u001b[0m\u001b[0;34m\u001b[0m\u001b[0m\n\u001b[1;32m    475\u001b[0m                 \u001b[0mverbose\u001b[0m\u001b[0;34m=\u001b[0m\u001b[0mself\u001b[0m\u001b[0;34m.\u001b[0m\u001b[0mverbose\u001b[0m\u001b[0;34m,\u001b[0m\u001b[0;34m\u001b[0m\u001b[0;34m\u001b[0m\u001b[0m\n",
            "\u001b[0;32m/usr/local/lib/python3.10/dist-packages/sklearn/utils/parallel.py\u001b[0m in \u001b[0;36m__call__\u001b[0;34m(self, iterable)\u001b[0m\n\u001b[1;32m     61\u001b[0m             \u001b[0;32mfor\u001b[0m \u001b[0mdelayed_func\u001b[0m\u001b[0;34m,\u001b[0m \u001b[0margs\u001b[0m\u001b[0;34m,\u001b[0m \u001b[0mkwargs\u001b[0m \u001b[0;32min\u001b[0m \u001b[0miterable\u001b[0m\u001b[0;34m\u001b[0m\u001b[0;34m\u001b[0m\u001b[0m\n\u001b[1;32m     62\u001b[0m         )\n\u001b[0;32m---> 63\u001b[0;31m         \u001b[0;32mreturn\u001b[0m \u001b[0msuper\u001b[0m\u001b[0;34m(\u001b[0m\u001b[0;34m)\u001b[0m\u001b[0;34m.\u001b[0m\u001b[0m__call__\u001b[0m\u001b[0;34m(\u001b[0m\u001b[0miterable_with_config\u001b[0m\u001b[0;34m)\u001b[0m\u001b[0;34m\u001b[0m\u001b[0;34m\u001b[0m\u001b[0m\n\u001b[0m\u001b[1;32m     64\u001b[0m \u001b[0;34m\u001b[0m\u001b[0m\n\u001b[1;32m     65\u001b[0m \u001b[0;34m\u001b[0m\u001b[0m\n",
            "\u001b[0;32m/usr/local/lib/python3.10/dist-packages/joblib/parallel.py\u001b[0m in \u001b[0;36m__call__\u001b[0;34m(self, iterable)\u001b[0m\n\u001b[1;32m   1861\u001b[0m             \u001b[0moutput\u001b[0m \u001b[0;34m=\u001b[0m \u001b[0mself\u001b[0m\u001b[0;34m.\u001b[0m\u001b[0m_get_sequential_output\u001b[0m\u001b[0;34m(\u001b[0m\u001b[0miterable\u001b[0m\u001b[0;34m)\u001b[0m\u001b[0;34m\u001b[0m\u001b[0;34m\u001b[0m\u001b[0m\n\u001b[1;32m   1862\u001b[0m             \u001b[0mnext\u001b[0m\u001b[0;34m(\u001b[0m\u001b[0moutput\u001b[0m\u001b[0;34m)\u001b[0m\u001b[0;34m\u001b[0m\u001b[0;34m\u001b[0m\u001b[0m\n\u001b[0;32m-> 1863\u001b[0;31m             \u001b[0;32mreturn\u001b[0m \u001b[0moutput\u001b[0m \u001b[0;32mif\u001b[0m \u001b[0mself\u001b[0m\u001b[0;34m.\u001b[0m\u001b[0mreturn_generator\u001b[0m \u001b[0;32melse\u001b[0m \u001b[0mlist\u001b[0m\u001b[0;34m(\u001b[0m\u001b[0moutput\u001b[0m\u001b[0;34m)\u001b[0m\u001b[0;34m\u001b[0m\u001b[0;34m\u001b[0m\u001b[0m\n\u001b[0m\u001b[1;32m   1864\u001b[0m \u001b[0;34m\u001b[0m\u001b[0m\n\u001b[1;32m   1865\u001b[0m         \u001b[0;31m# Let's create an ID that uniquely identifies the current call. If the\u001b[0m\u001b[0;34m\u001b[0m\u001b[0;34m\u001b[0m\u001b[0m\n",
            "\u001b[0;32m/usr/local/lib/python3.10/dist-packages/joblib/parallel.py\u001b[0m in \u001b[0;36m_get_sequential_output\u001b[0;34m(self, iterable)\u001b[0m\n\u001b[1;32m   1790\u001b[0m                 \u001b[0mself\u001b[0m\u001b[0;34m.\u001b[0m\u001b[0mn_dispatched_batches\u001b[0m \u001b[0;34m+=\u001b[0m \u001b[0;36m1\u001b[0m\u001b[0;34m\u001b[0m\u001b[0;34m\u001b[0m\u001b[0m\n\u001b[1;32m   1791\u001b[0m                 \u001b[0mself\u001b[0m\u001b[0;34m.\u001b[0m\u001b[0mn_dispatched_tasks\u001b[0m \u001b[0;34m+=\u001b[0m \u001b[0;36m1\u001b[0m\u001b[0;34m\u001b[0m\u001b[0;34m\u001b[0m\u001b[0m\n\u001b[0;32m-> 1792\u001b[0;31m                 \u001b[0mres\u001b[0m \u001b[0;34m=\u001b[0m \u001b[0mfunc\u001b[0m\u001b[0;34m(\u001b[0m\u001b[0;34m*\u001b[0m\u001b[0margs\u001b[0m\u001b[0;34m,\u001b[0m \u001b[0;34m**\u001b[0m\u001b[0mkwargs\u001b[0m\u001b[0;34m)\u001b[0m\u001b[0;34m\u001b[0m\u001b[0;34m\u001b[0m\u001b[0m\n\u001b[0m\u001b[1;32m   1793\u001b[0m                 \u001b[0mself\u001b[0m\u001b[0;34m.\u001b[0m\u001b[0mn_completed_tasks\u001b[0m \u001b[0;34m+=\u001b[0m \u001b[0;36m1\u001b[0m\u001b[0;34m\u001b[0m\u001b[0;34m\u001b[0m\u001b[0m\n\u001b[1;32m   1794\u001b[0m                 \u001b[0mself\u001b[0m\u001b[0;34m.\u001b[0m\u001b[0mprint_progress\u001b[0m\u001b[0;34m(\u001b[0m\u001b[0;34m)\u001b[0m\u001b[0;34m\u001b[0m\u001b[0;34m\u001b[0m\u001b[0m\n",
            "\u001b[0;32m/usr/local/lib/python3.10/dist-packages/sklearn/utils/parallel.py\u001b[0m in \u001b[0;36m__call__\u001b[0;34m(self, *args, **kwargs)\u001b[0m\n\u001b[1;32m    121\u001b[0m             \u001b[0mconfig\u001b[0m \u001b[0;34m=\u001b[0m \u001b[0;34m{\u001b[0m\u001b[0;34m}\u001b[0m\u001b[0;34m\u001b[0m\u001b[0;34m\u001b[0m\u001b[0m\n\u001b[1;32m    122\u001b[0m         \u001b[0;32mwith\u001b[0m \u001b[0mconfig_context\u001b[0m\u001b[0;34m(\u001b[0m\u001b[0;34m**\u001b[0m\u001b[0mconfig\u001b[0m\u001b[0;34m)\u001b[0m\u001b[0;34m:\u001b[0m\u001b[0;34m\u001b[0m\u001b[0;34m\u001b[0m\u001b[0m\n\u001b[0;32m--> 123\u001b[0;31m             \u001b[0;32mreturn\u001b[0m \u001b[0mself\u001b[0m\u001b[0;34m.\u001b[0m\u001b[0mfunction\u001b[0m\u001b[0;34m(\u001b[0m\u001b[0;34m*\u001b[0m\u001b[0margs\u001b[0m\u001b[0;34m,\u001b[0m \u001b[0;34m**\u001b[0m\u001b[0mkwargs\u001b[0m\u001b[0;34m)\u001b[0m\u001b[0;34m\u001b[0m\u001b[0;34m\u001b[0m\u001b[0m\n\u001b[0m",
            "\u001b[0;32m/usr/local/lib/python3.10/dist-packages/sklearn/ensemble/_forest.py\u001b[0m in \u001b[0;36m_parallel_build_trees\u001b[0;34m(tree, bootstrap, X, y, sample_weight, tree_idx, n_trees, verbose, class_weight, n_samples_bootstrap)\u001b[0m\n\u001b[1;32m    184\u001b[0m         \u001b[0mtree\u001b[0m\u001b[0;34m.\u001b[0m\u001b[0mfit\u001b[0m\u001b[0;34m(\u001b[0m\u001b[0mX\u001b[0m\u001b[0;34m,\u001b[0m \u001b[0my\u001b[0m\u001b[0;34m,\u001b[0m \u001b[0msample_weight\u001b[0m\u001b[0;34m=\u001b[0m\u001b[0mcurr_sample_weight\u001b[0m\u001b[0;34m,\u001b[0m \u001b[0mcheck_input\u001b[0m\u001b[0;34m=\u001b[0m\u001b[0;32mFalse\u001b[0m\u001b[0;34m)\u001b[0m\u001b[0;34m\u001b[0m\u001b[0;34m\u001b[0m\u001b[0m\n\u001b[1;32m    185\u001b[0m     \u001b[0;32melse\u001b[0m\u001b[0;34m:\u001b[0m\u001b[0;34m\u001b[0m\u001b[0;34m\u001b[0m\u001b[0m\n\u001b[0;32m--> 186\u001b[0;31m         \u001b[0mtree\u001b[0m\u001b[0;34m.\u001b[0m\u001b[0mfit\u001b[0m\u001b[0;34m(\u001b[0m\u001b[0mX\u001b[0m\u001b[0;34m,\u001b[0m \u001b[0my\u001b[0m\u001b[0;34m,\u001b[0m \u001b[0msample_weight\u001b[0m\u001b[0;34m=\u001b[0m\u001b[0msample_weight\u001b[0m\u001b[0;34m,\u001b[0m \u001b[0mcheck_input\u001b[0m\u001b[0;34m=\u001b[0m\u001b[0;32mFalse\u001b[0m\u001b[0;34m)\u001b[0m\u001b[0;34m\u001b[0m\u001b[0;34m\u001b[0m\u001b[0m\n\u001b[0m\u001b[1;32m    187\u001b[0m \u001b[0;34m\u001b[0m\u001b[0m\n\u001b[1;32m    188\u001b[0m     \u001b[0;32mreturn\u001b[0m \u001b[0mtree\u001b[0m\u001b[0;34m\u001b[0m\u001b[0;34m\u001b[0m\u001b[0m\n",
            "\u001b[0;32m/usr/local/lib/python3.10/dist-packages/sklearn/tree/_classes.py\u001b[0m in \u001b[0;36mfit\u001b[0;34m(self, X, y, sample_weight, check_input)\u001b[0m\n\u001b[1;32m    887\u001b[0m         \"\"\"\n\u001b[1;32m    888\u001b[0m \u001b[0;34m\u001b[0m\u001b[0m\n\u001b[0;32m--> 889\u001b[0;31m         super().fit(\n\u001b[0m\u001b[1;32m    890\u001b[0m             \u001b[0mX\u001b[0m\u001b[0;34m,\u001b[0m\u001b[0;34m\u001b[0m\u001b[0;34m\u001b[0m\u001b[0m\n\u001b[1;32m    891\u001b[0m             \u001b[0my\u001b[0m\u001b[0;34m,\u001b[0m\u001b[0;34m\u001b[0m\u001b[0;34m\u001b[0m\u001b[0m\n",
            "\u001b[0;32m/usr/local/lib/python3.10/dist-packages/sklearn/tree/_classes.py\u001b[0m in \u001b[0;36mfit\u001b[0;34m(self, X, y, sample_weight, check_input)\u001b[0m\n\u001b[1;32m    222\u001b[0m \u001b[0;34m\u001b[0m\u001b[0m\n\u001b[1;32m    223\u001b[0m         \u001b[0;32mif\u001b[0m \u001b[0mis_classification\u001b[0m\u001b[0;34m:\u001b[0m\u001b[0;34m\u001b[0m\u001b[0;34m\u001b[0m\u001b[0m\n\u001b[0;32m--> 224\u001b[0;31m             \u001b[0mcheck_classification_targets\u001b[0m\u001b[0;34m(\u001b[0m\u001b[0my\u001b[0m\u001b[0;34m)\u001b[0m\u001b[0;34m\u001b[0m\u001b[0;34m\u001b[0m\u001b[0m\n\u001b[0m\u001b[1;32m    225\u001b[0m             \u001b[0my\u001b[0m \u001b[0;34m=\u001b[0m \u001b[0mnp\u001b[0m\u001b[0;34m.\u001b[0m\u001b[0mcopy\u001b[0m\u001b[0;34m(\u001b[0m\u001b[0my\u001b[0m\u001b[0;34m)\u001b[0m\u001b[0;34m\u001b[0m\u001b[0;34m\u001b[0m\u001b[0m\n\u001b[1;32m    226\u001b[0m \u001b[0;34m\u001b[0m\u001b[0m\n",
            "\u001b[0;32m/usr/local/lib/python3.10/dist-packages/sklearn/utils/multiclass.py\u001b[0m in \u001b[0;36mcheck_classification_targets\u001b[0;34m(y)\u001b[0m\n\u001b[1;32m    208\u001b[0m         \u001b[0mTarget\u001b[0m \u001b[0mvalues\u001b[0m\u001b[0;34m.\u001b[0m\u001b[0;34m\u001b[0m\u001b[0;34m\u001b[0m\u001b[0m\n\u001b[1;32m    209\u001b[0m     \"\"\"\n\u001b[0;32m--> 210\u001b[0;31m     \u001b[0my_type\u001b[0m \u001b[0;34m=\u001b[0m \u001b[0mtype_of_target\u001b[0m\u001b[0;34m(\u001b[0m\u001b[0my\u001b[0m\u001b[0;34m,\u001b[0m \u001b[0minput_name\u001b[0m\u001b[0;34m=\u001b[0m\u001b[0;34m\"y\"\u001b[0m\u001b[0;34m)\u001b[0m\u001b[0;34m\u001b[0m\u001b[0;34m\u001b[0m\u001b[0m\n\u001b[0m\u001b[1;32m    211\u001b[0m     if y_type not in [\n\u001b[1;32m    212\u001b[0m         \u001b[0;34m\"binary\"\u001b[0m\u001b[0;34m,\u001b[0m\u001b[0;34m\u001b[0m\u001b[0;34m\u001b[0m\u001b[0m\n",
            "\u001b[0;32m/usr/local/lib/python3.10/dist-packages/sklearn/utils/multiclass.py\u001b[0m in \u001b[0;36mtype_of_target\u001b[0;34m(y, input_name)\u001b[0m\n\u001b[1;32m    384\u001b[0m     \u001b[0;31m# Check multiclass\u001b[0m\u001b[0;34m\u001b[0m\u001b[0;34m\u001b[0m\u001b[0m\n\u001b[1;32m    385\u001b[0m     \u001b[0mfirst_row\u001b[0m \u001b[0;34m=\u001b[0m \u001b[0my\u001b[0m\u001b[0;34m[\u001b[0m\u001b[0;36m0\u001b[0m\u001b[0;34m]\u001b[0m \u001b[0;32mif\u001b[0m \u001b[0;32mnot\u001b[0m \u001b[0missparse\u001b[0m\u001b[0;34m(\u001b[0m\u001b[0my\u001b[0m\u001b[0;34m)\u001b[0m \u001b[0;32melse\u001b[0m \u001b[0my\u001b[0m\u001b[0;34m.\u001b[0m\u001b[0mgetrow\u001b[0m\u001b[0;34m(\u001b[0m\u001b[0;36m0\u001b[0m\u001b[0;34m)\u001b[0m\u001b[0;34m.\u001b[0m\u001b[0mdata\u001b[0m\u001b[0;34m\u001b[0m\u001b[0;34m\u001b[0m\u001b[0m\n\u001b[0;32m--> 386\u001b[0;31m     \u001b[0;32mif\u001b[0m \u001b[0mxp\u001b[0m\u001b[0;34m.\u001b[0m\u001b[0munique_values\u001b[0m\u001b[0;34m(\u001b[0m\u001b[0my\u001b[0m\u001b[0;34m)\u001b[0m\u001b[0;34m.\u001b[0m\u001b[0mshape\u001b[0m\u001b[0;34m[\u001b[0m\u001b[0;36m0\u001b[0m\u001b[0;34m]\u001b[0m \u001b[0;34m>\u001b[0m \u001b[0;36m2\u001b[0m \u001b[0;32mor\u001b[0m \u001b[0;34m(\u001b[0m\u001b[0my\u001b[0m\u001b[0;34m.\u001b[0m\u001b[0mndim\u001b[0m \u001b[0;34m==\u001b[0m \u001b[0;36m2\u001b[0m \u001b[0;32mand\u001b[0m \u001b[0mlen\u001b[0m\u001b[0;34m(\u001b[0m\u001b[0mfirst_row\u001b[0m\u001b[0;34m)\u001b[0m \u001b[0;34m>\u001b[0m \u001b[0;36m1\u001b[0m\u001b[0;34m)\u001b[0m\u001b[0;34m:\u001b[0m\u001b[0;34m\u001b[0m\u001b[0;34m\u001b[0m\u001b[0m\n\u001b[0m\u001b[1;32m    387\u001b[0m         \u001b[0;31m# [1, 2, 3] or [[1., 2., 3]] or [[1, 2]]\u001b[0m\u001b[0;34m\u001b[0m\u001b[0;34m\u001b[0m\u001b[0m\n\u001b[1;32m    388\u001b[0m         \u001b[0;32mreturn\u001b[0m \u001b[0;34m\"multiclass\"\u001b[0m \u001b[0;34m+\u001b[0m \u001b[0msuffix\u001b[0m\u001b[0;34m\u001b[0m\u001b[0;34m\u001b[0m\u001b[0m\n",
            "\u001b[0;32m/usr/local/lib/python3.10/dist-packages/sklearn/utils/_array_api.py\u001b[0m in \u001b[0;36munique_values\u001b[0;34m(self, x)\u001b[0m\n\u001b[1;32m     82\u001b[0m \u001b[0;34m\u001b[0m\u001b[0m\n\u001b[1;32m     83\u001b[0m     \u001b[0;32mdef\u001b[0m \u001b[0munique_values\u001b[0m\u001b[0;34m(\u001b[0m\u001b[0mself\u001b[0m\u001b[0;34m,\u001b[0m \u001b[0mx\u001b[0m\u001b[0;34m)\u001b[0m\u001b[0;34m:\u001b[0m\u001b[0;34m\u001b[0m\u001b[0;34m\u001b[0m\u001b[0m\n\u001b[0;32m---> 84\u001b[0;31m         \u001b[0;32mreturn\u001b[0m \u001b[0mnumpy\u001b[0m\u001b[0;34m.\u001b[0m\u001b[0munique\u001b[0m\u001b[0;34m(\u001b[0m\u001b[0mx\u001b[0m\u001b[0;34m)\u001b[0m\u001b[0;34m\u001b[0m\u001b[0;34m\u001b[0m\u001b[0m\n\u001b[0m\u001b[1;32m     85\u001b[0m \u001b[0;34m\u001b[0m\u001b[0m\n\u001b[1;32m     86\u001b[0m     \u001b[0;32mdef\u001b[0m \u001b[0mconcat\u001b[0m\u001b[0;34m(\u001b[0m\u001b[0mself\u001b[0m\u001b[0;34m,\u001b[0m \u001b[0marrays\u001b[0m\u001b[0;34m,\u001b[0m \u001b[0;34m*\u001b[0m\u001b[0;34m,\u001b[0m \u001b[0maxis\u001b[0m\u001b[0;34m=\u001b[0m\u001b[0;32mNone\u001b[0m\u001b[0;34m)\u001b[0m\u001b[0;34m:\u001b[0m\u001b[0;34m\u001b[0m\u001b[0;34m\u001b[0m\u001b[0m\n",
            "\u001b[0;32m/usr/local/lib/python3.10/dist-packages/numpy/lib/arraysetops.py\u001b[0m in \u001b[0;36m_unique_dispatcher\u001b[0;34m(ar, return_index, return_inverse, return_counts, axis, equal_nan)\u001b[0m\n\u001b[1;32m    131\u001b[0m \u001b[0;34m\u001b[0m\u001b[0m\n\u001b[1;32m    132\u001b[0m \u001b[0;34m\u001b[0m\u001b[0m\n\u001b[0;32m--> 133\u001b[0;31m def _unique_dispatcher(ar, return_index=None, return_inverse=None,\n\u001b[0m\u001b[1;32m    134\u001b[0m                        return_counts=None, axis=None, *, equal_nan=None):\n\u001b[1;32m    135\u001b[0m     \u001b[0;32mreturn\u001b[0m \u001b[0;34m(\u001b[0m\u001b[0mar\u001b[0m\u001b[0;34m,\u001b[0m\u001b[0;34m)\u001b[0m\u001b[0;34m\u001b[0m\u001b[0;34m\u001b[0m\u001b[0m\n",
            "\u001b[0;31mKeyboardInterrupt\u001b[0m: "
          ]
        }
      ],
      "source": [
        "for opt in k[:1]:\n",
        "    a = time.time()\n",
        "    problem = ETROptimizedProblem(bounds=my_bounds, minmax=\"max\", data=data)\n",
        "    model = opt(epoch=50, pop_size=20)\n",
        "    model.solve(problem,n_workers=8)\n",
        "    b = time.time()-a\n",
        "    print(model.__class__.__name__,',',len(list(set(model.history.list_current_best_fit))),',',b,file=open('/content/drive/MyDrive/txtv.txt','a'))\n",
        "\n",
        "    print(model.__class__.__name__,',',len(list(set(model.history.list_current_best_fit))),',',b)\n",
        "    # print(f\"Best agent: {model.g_best}\")\n",
        "    # print(f\"Best solution: {model.g_best.solution}\")\n",
        "    # print(f\"Best accuracy: {model.g_best.target.fitness}\")\n",
        "    # print(f\"Best parameters: {model.problem.decode_solution(model.g_best.solution)}\")\n",
        "\n",
        "    # pd.DataFrame(model.g_best.solution).to_csv(f'{path}xgb_{model.__class__.__name__}.csv',index=False)\n",
        "    # pd.DataFrame(model.history.list_current_best_fit).to_csv(f'{path}xgb_{model.__class__.__name__}.csv',index=False)\n",
        "    # max,estim,rnd = model.g_best.solution\n",
        "    # xgb = ExtraTreesClassifier(max_depth=round(max),n_estimators=round(estim),random_state=round(rnd))\n",
        "    # # xgb = RandomForestClassifier(max_depth=round(max),n_estimators=round(estim),random_state=round(rnd))\n",
        "    # xgb.fit(data['X_train'],data['y_train'])\n",
        "    # j1,j2,j3,j4 = xgb.predict(data['X_test']),xgb.predict(data['X_train']),np.array(data['y_test']),np.array(data['y_train'])\n",
        "    # g1 = pd.DataFrame()\n",
        "    # g1['train'] = j2\n",
        "    # g1['val'] = j4\n",
        "    # g1.to_csv(f'{path}trxgb_{model.__class__.__name__}.csv',index=False)\n",
        "    # g2 = pd.DataFrame()\n",
        "    # g2['train'] = j1\n",
        "    # g2['val'] = j3\n",
        "    # print(accuracy_score(j1, j3))\n",
        "    # g2.to_csv(f'{path}tsxgb_{model.__class__.__name__}.csv',index=False)\n",
        "    # f(model.history.list_current_best_fit,model.__class__.__name__)"
      ]
    },
    {
      "cell_type": "code",
      "source": [
        "path"
      ],
      "metadata": {
        "colab": {
          "base_uri": "https://localhost:8080/",
          "height": 35
        },
        "id": "x7XnIXqCPKmF",
        "outputId": "9d159cb2-1321-4efa-b203-e7462c63ab0f"
      },
      "execution_count": null,
      "outputs": [
        {
          "output_type": "execute_result",
          "data": {
            "text/plain": [
              "'/content/drive/MyDrive/work brain 69/'"
            ],
            "application/vnd.google.colaboratory.intrinsic+json": {
              "type": "string"
            }
          },
          "metadata": {},
          "execution_count": 199
        }
      ]
    },
    {
      "cell_type": "code",
      "source": [
        "XGBClassifier"
      ],
      "metadata": {
        "colab": {
          "base_uri": "https://localhost:8080/",
          "height": 187
        },
        "id": "eE_4NOnUPUJX",
        "outputId": "7c3d01c6-cfa5-47d3-e469-e628a33a1423"
      },
      "execution_count": null,
      "outputs": [
        {
          "output_type": "execute_result",
          "data": {
            "text/plain": [
              "xgboost.sklearn.XGBClassifier"
            ],
            "text/html": [
              "<div style=\"max-width:800px; border: 1px solid var(--colab-border-color);\"><style>\n",
              "      pre.function-repr-contents {\n",
              "        overflow-x: auto;\n",
              "        padding: 8px 12px;\n",
              "        max-height: 500px;\n",
              "      }\n",
              "\n",
              "      pre.function-repr-contents.function-repr-contents-collapsed {\n",
              "        cursor: pointer;\n",
              "        max-height: 100px;\n",
              "      }\n",
              "    </style>\n",
              "    <pre style=\"white-space: initial; background:\n",
              "         var(--colab-secondary-surface-color); padding: 8px 12px;\n",
              "         border-bottom: 1px solid var(--colab-border-color);\"><b>xgboost.sklearn.XGBClassifier</b><br/>def __init__(*, objective: SklObjective=&#x27;binary:logistic&#x27;, **kwargs: Any) -&gt; None</pre><pre class=\"function-repr-contents function-repr-contents-collapsed\" style=\"\"><a class=\"filepath\" style=\"display:none\" href=\"#\">/usr/local/lib/python3.10/dist-packages/xgboost/sklearn.py</a>Implementation of the scikit-learn API for XGBoost classification.\n",
              "See :doc:`/python/sklearn_estimator` for more information.\n",
              "\n",
              "Parameters\n",
              "----------\n",
              "\n",
              "    n_estimators : Optional[int]\n",
              "        Number of boosting rounds.\n",
              "\n",
              "    max_depth :  Optional[int]\n",
              "        Maximum tree depth for base learners.\n",
              "    max_leaves :\n",
              "        Maximum number of leaves; 0 indicates no limit.\n",
              "    max_bin :\n",
              "        If using histogram-based algorithm, maximum number of bins per feature\n",
              "    grow_policy :\n",
              "        Tree growing policy. 0: favor splitting at nodes closest to the node, i.e. grow\n",
              "        depth-wise. 1: favor splitting at nodes with highest loss change.\n",
              "    learning_rate : Optional[float]\n",
              "        Boosting learning rate (xgb&#x27;s &quot;eta&quot;)\n",
              "    verbosity : Optional[int]\n",
              "        The degree of verbosity. Valid values are 0 (silent) - 3 (debug).\n",
              "    objective : typing.Union[str, typing.Callable[[numpy.ndarray, numpy.ndarray], typing.Tuple[numpy.ndarray, numpy.ndarray]], NoneType]\n",
              "        Specify the learning task and the corresponding learning objective or\n",
              "        a custom objective function to be used (see note below).\n",
              "    booster: Optional[str]\n",
              "        Specify which booster to use: gbtree, gblinear or dart.\n",
              "    tree_method: Optional[str]\n",
              "        Specify which tree method to use.  Default to auto.  If this parameter is set to\n",
              "        default, XGBoost will choose the most conservative option available.  It&#x27;s\n",
              "        recommended to study this option from the parameters document :doc:`tree method\n",
              "        &lt;/treemethod&gt;`\n",
              "    n_jobs : Optional[int]\n",
              "        Number of parallel threads used to run xgboost.  When used with other\n",
              "        Scikit-Learn algorithms like grid search, you may choose which algorithm to\n",
              "        parallelize and balance the threads.  Creating thread contention will\n",
              "        significantly slow down both algorithms.\n",
              "    gamma : Optional[float]\n",
              "        (min_split_loss) Minimum loss reduction required to make a further partition on a\n",
              "        leaf node of the tree.\n",
              "    min_child_weight : Optional[float]\n",
              "        Minimum sum of instance weight(hessian) needed in a child.\n",
              "    max_delta_step : Optional[float]\n",
              "        Maximum delta step we allow each tree&#x27;s weight estimation to be.\n",
              "    subsample : Optional[float]\n",
              "        Subsample ratio of the training instance.\n",
              "    sampling_method :\n",
              "        Sampling method. Used only by the GPU version of ``hist`` tree method.\n",
              "          - ``uniform``: select random training instances uniformly.\n",
              "          - ``gradient_based`` select random training instances with higher probability\n",
              "            when the gradient and hessian are larger. (cf. CatBoost)\n",
              "    colsample_bytree : Optional[float]\n",
              "        Subsample ratio of columns when constructing each tree.\n",
              "    colsample_bylevel : Optional[float]\n",
              "        Subsample ratio of columns for each level.\n",
              "    colsample_bynode : Optional[float]\n",
              "        Subsample ratio of columns for each split.\n",
              "    reg_alpha : Optional[float]\n",
              "        L1 regularization term on weights (xgb&#x27;s alpha).\n",
              "    reg_lambda : Optional[float]\n",
              "        L2 regularization term on weights (xgb&#x27;s lambda).\n",
              "    scale_pos_weight : Optional[float]\n",
              "        Balancing of positive and negative weights.\n",
              "    base_score : Optional[float]\n",
              "        The initial prediction score of all instances, global bias.\n",
              "    random_state : Optional[Union[numpy.random.RandomState, int]]\n",
              "        Random number seed.\n",
              "\n",
              "        .. note::\n",
              "\n",
              "           Using gblinear booster with shotgun updater is nondeterministic as\n",
              "           it uses Hogwild algorithm.\n",
              "\n",
              "    missing : float, default np.nan\n",
              "        Value in the data which needs to be present as a missing value.\n",
              "    num_parallel_tree: Optional[int]\n",
              "        Used for boosting random forest.\n",
              "    monotone_constraints : Optional[Union[Dict[str, int], str]]\n",
              "        Constraint of variable monotonicity.  See :doc:`tutorial &lt;/tutorials/monotonic&gt;`\n",
              "        for more information.\n",
              "    interaction_constraints : Optional[Union[str, List[Tuple[str]]]]\n",
              "        Constraints for interaction representing permitted interactions.  The\n",
              "        constraints must be specified in the form of a nested list, e.g. ``[[0, 1], [2,\n",
              "        3, 4]]``, where each inner list is a group of indices of features that are\n",
              "        allowed to interact with each other.  See :doc:`tutorial\n",
              "        &lt;/tutorials/feature_interaction_constraint&gt;` for more information\n",
              "    importance_type: Optional[str]\n",
              "        The feature importance type for the feature_importances\\_ property:\n",
              "\n",
              "        * For tree model, it&#x27;s either &quot;gain&quot;, &quot;weight&quot;, &quot;cover&quot;, &quot;total_gain&quot; or\n",
              "          &quot;total_cover&quot;.\n",
              "        * For linear model, only &quot;weight&quot; is defined and it&#x27;s the normalized coefficients\n",
              "          without bias.\n",
              "\n",
              "    device : Optional[str]\n",
              "\n",
              "        .. versionadded:: 2.0.0\n",
              "\n",
              "        Device ordinal, available options are `cpu`, `cuda`, and `gpu`.\n",
              "\n",
              "    validate_parameters : Optional[bool]\n",
              "\n",
              "        Give warnings for unknown parameter.\n",
              "\n",
              "    enable_categorical : bool\n",
              "\n",
              "        .. versionadded:: 1.5.0\n",
              "\n",
              "        .. note:: This parameter is experimental\n",
              "\n",
              "        Experimental support for categorical data.  When enabled, cudf/pandas.DataFrame\n",
              "        should be used to specify categorical data type.  Also, JSON/UBJSON\n",
              "        serialization format is required.\n",
              "\n",
              "    feature_types : Optional[FeatureTypes]\n",
              "\n",
              "        .. versionadded:: 1.7.0\n",
              "\n",
              "        Used for specifying feature types without constructing a dataframe. See\n",
              "        :py:class:`DMatrix` for details.\n",
              "\n",
              "    max_cat_to_onehot : Optional[int]\n",
              "\n",
              "        .. versionadded:: 1.6.0\n",
              "\n",
              "        .. note:: This parameter is experimental\n",
              "\n",
              "        A threshold for deciding whether XGBoost should use one-hot encoding based split\n",
              "        for categorical data.  When number of categories is lesser than the threshold\n",
              "        then one-hot encoding is chosen, otherwise the categories will be partitioned\n",
              "        into children nodes. Also, `enable_categorical` needs to be set to have\n",
              "        categorical feature support. See :doc:`Categorical Data\n",
              "        &lt;/tutorials/categorical&gt;` and :ref:`cat-param` for details.\n",
              "\n",
              "    max_cat_threshold : Optional[int]\n",
              "\n",
              "        .. versionadded:: 1.7.0\n",
              "\n",
              "        .. note:: This parameter is experimental\n",
              "\n",
              "        Maximum number of categories considered for each split. Used only by\n",
              "        partition-based splits for preventing over-fitting. Also, `enable_categorical`\n",
              "        needs to be set to have categorical feature support. See :doc:`Categorical Data\n",
              "        &lt;/tutorials/categorical&gt;` and :ref:`cat-param` for details.\n",
              "\n",
              "    multi_strategy : Optional[str]\n",
              "\n",
              "        .. versionadded:: 2.0.0\n",
              "\n",
              "        .. note:: This parameter is working-in-progress.\n",
              "\n",
              "        The strategy used for training multi-target models, including multi-target\n",
              "        regression and multi-class classification. See :doc:`/tutorials/multioutput` for\n",
              "        more information.\n",
              "\n",
              "        - ``one_output_per_tree``: One model for each target.\n",
              "        - ``multi_output_tree``:  Use multi-target trees.\n",
              "\n",
              "    eval_metric : Optional[Union[str, List[str], Callable]]\n",
              "\n",
              "        .. versionadded:: 1.6.0\n",
              "\n",
              "        Metric used for monitoring the training result and early stopping.  It can be a\n",
              "        string or list of strings as names of predefined metric in XGBoost (See\n",
              "        doc/parameter.rst), one of the metrics in :py:mod:`sklearn.metrics`, or any other\n",
              "        user defined metric that looks like `sklearn.metrics`.\n",
              "\n",
              "        If custom objective is also provided, then custom metric should implement the\n",
              "        corresponding reverse link function.\n",
              "\n",
              "        Unlike the `scoring` parameter commonly used in scikit-learn, when a callable\n",
              "        object is provided, it&#x27;s assumed to be a cost function and by default XGBoost will\n",
              "        minimize the result during early stopping.\n",
              "\n",
              "        For advanced usage on Early stopping like directly choosing to maximize instead of\n",
              "        minimize, see :py:obj:`xgboost.callback.EarlyStopping`.\n",
              "\n",
              "        See :doc:`Custom Objective and Evaluation Metric &lt;/tutorials/custom_metric_obj&gt;`\n",
              "        for more.\n",
              "\n",
              "        .. note::\n",
              "\n",
              "             This parameter replaces `eval_metric` in :py:meth:`fit` method.  The old\n",
              "             one receives un-transformed prediction regardless of whether custom\n",
              "             objective is being used.\n",
              "\n",
              "        .. code-block:: python\n",
              "\n",
              "            from sklearn.datasets import load_diabetes\n",
              "            from sklearn.metrics import mean_absolute_error\n",
              "            X, y = load_diabetes(return_X_y=True)\n",
              "            reg = xgb.XGBRegressor(\n",
              "                tree_method=&quot;hist&quot;,\n",
              "                eval_metric=mean_absolute_error,\n",
              "            )\n",
              "            reg.fit(X, y, eval_set=[(X, y)])\n",
              "\n",
              "    early_stopping_rounds : Optional[int]\n",
              "\n",
              "        .. versionadded:: 1.6.0\n",
              "\n",
              "        - Activates early stopping. Validation metric needs to improve at least once in\n",
              "          every **early_stopping_rounds** round(s) to continue training.  Requires at\n",
              "          least one item in **eval_set** in :py:meth:`fit`.\n",
              "\n",
              "        - If early stopping occurs, the model will have two additional attributes:\n",
              "          :py:attr:`best_score` and :py:attr:`best_iteration`. These are used by the\n",
              "          :py:meth:`predict` and :py:meth:`apply` methods to determine the optimal\n",
              "          number of trees during inference. If users want to access the full model\n",
              "          (including trees built after early stopping), they can specify the\n",
              "          `iteration_range` in these inference methods. In addition, other utilities\n",
              "          like model plotting can also use the entire model.\n",
              "\n",
              "        - If you prefer to discard the trees after `best_iteration`, consider using the\n",
              "          callback function :py:class:`xgboost.callback.EarlyStopping`.\n",
              "\n",
              "        - If there&#x27;s more than one item in **eval_set**, the last entry will be used for\n",
              "          early stopping.  If there&#x27;s more than one metric in **eval_metric**, the last\n",
              "          metric will be used for early stopping.\n",
              "\n",
              "        .. note::\n",
              "\n",
              "            This parameter replaces `early_stopping_rounds` in :py:meth:`fit` method.\n",
              "\n",
              "    callbacks : Optional[List[TrainingCallback]]\n",
              "        List of callback functions that are applied at end of each iteration.\n",
              "        It is possible to use predefined callbacks by using\n",
              "        :ref:`Callback API &lt;callback_api&gt;`.\n",
              "\n",
              "        .. note::\n",
              "\n",
              "           States in callback are not preserved during training, which means callback\n",
              "           objects can not be reused for multiple training sessions without\n",
              "           reinitialization or deepcopy.\n",
              "\n",
              "        .. code-block:: python\n",
              "\n",
              "            for params in parameters_grid:\n",
              "                # be sure to (re)initialize the callbacks before each run\n",
              "                callbacks = [xgb.callback.LearningRateScheduler(custom_rates)]\n",
              "                reg = xgboost.XGBRegressor(**params, callbacks=callbacks)\n",
              "                reg.fit(X, y)\n",
              "\n",
              "    kwargs : dict, optional\n",
              "        Keyword arguments for XGBoost Booster object.  Full documentation of parameters\n",
              "        can be found :doc:`here &lt;/parameter&gt;`.\n",
              "        Attempting to set a parameter via the constructor args and \\*\\*kwargs\n",
              "        dict simultaneously will result in a TypeError.\n",
              "\n",
              "        .. note:: \\*\\*kwargs unsupported by scikit-learn\n",
              "\n",
              "            \\*\\*kwargs is unsupported by scikit-learn.  We do not guarantee\n",
              "            that parameters passed via this argument will interact properly\n",
              "            with scikit-learn.\n",
              "\n",
              "        .. note::  Custom objective function\n",
              "\n",
              "            A custom objective function can be provided for the ``objective``\n",
              "            parameter. In this case, it should have the signature\n",
              "            ``objective(y_true, y_pred) -&gt; grad, hess``:\n",
              "\n",
              "            y_true: array_like of shape [n_samples]\n",
              "                The target values\n",
              "            y_pred: array_like of shape [n_samples]\n",
              "                The predicted values\n",
              "\n",
              "            grad: array_like of shape [n_samples]\n",
              "                The value of the gradient for each sample point.\n",
              "            hess: array_like of shape [n_samples]\n",
              "                The value of the second derivative for each sample point</pre>\n",
              "      <script>\n",
              "      if (google.colab.kernel.accessAllowed && google.colab.files && google.colab.files.view) {\n",
              "        for (const element of document.querySelectorAll('.filepath')) {\n",
              "          element.style.display = 'block'\n",
              "          element.onclick = (event) => {\n",
              "            event.preventDefault();\n",
              "            event.stopPropagation();\n",
              "            google.colab.files.view(element.textContent, 1408);\n",
              "          };\n",
              "        }\n",
              "      }\n",
              "      for (const element of document.querySelectorAll('.function-repr-contents')) {\n",
              "        element.onclick = (event) => {\n",
              "          event.preventDefault();\n",
              "          event.stopPropagation();\n",
              "          element.classList.toggle('function-repr-contents-collapsed');\n",
              "        };\n",
              "      }\n",
              "      </script>\n",
              "      </div>"
            ]
          },
          "metadata": {},
          "execution_count": 200
        }
      ]
    },
    {
      "cell_type": "code",
      "source": [
        "class XGBOptimizedProblem(Problem):\n",
        "    def __init__(self, bounds=None, minmax=\"max\", data=None, **kwargs):\n",
        "        self.data = data\n",
        "        super().__init__(bounds, minmax, **kwargs)\n",
        "\n",
        "    def obj_func(self, x):\n",
        "        x_decoded = self.decode_solution(x)\n",
        "        # max,estim = x_decoded[\"maxdepth\"], x_decoded[\"nestimators\"]\n",
        "        xgb = XGBClassifier(max_depth=x_decoded[\"maxdepth\"],n_estimators=x_decoded[\"nestimators\"],random_state=x_decoded['randomstate'])\n",
        "\n",
        "        # xgb = RandomForestClassifier(max_depth=x_decoded[\"maxdepth\"],n_estimators=x_decoded[\"nestimators\"],random_state=x_decoded['randomstate'])\n",
        "        # Fit the model\n",
        "        xgb.fit(self.data[\"X_train\"], self.data[\"y_train\"])\n",
        "        # Make the predictions\n",
        "        y_predict = xgb.predict(self.data[\"X_test\"])\n",
        "        # Measure the performance\n",
        "        # return r2_score(self.data[\"y_test\"], y_predict)\n",
        "        acc = accuracy_score(self.data[\"y_test\"], y_predict)\n",
        "        pre = precision_score(self.data[\"y_test\"], y_predict,average='macro')\n",
        "        rec = recall_score(self.data[\"y_test\"], y_predict,average='macro')\n",
        "        f1 = f1_score(self.data[\"y_test\"], y_predict,average='macro')\n",
        "        print(acc,pre,rec,f1)\n",
        "        return accuracy_score(self.data[\"y_test\"], y_predict)\n",
        "\n",
        "my_bounds = [\n",
        "    # FloatVar(lb=0.01, ub=0.5, name=\"lr\"),\n",
        "    IntegerVar(lb=2, ub=30, name=\"maxdepth\"),\n",
        "    IntegerVar(lb=10, ub=800, name=\"nestimators\"),\n",
        "    IntegerVar(lb=0, ub=100, name=\"randomstate\"),\n",
        "\n",
        "\n",
        "    # FloatVar(lb=0.01, ub=1000., name=\"C_paras\"),\n",
        "    # StringVar(valid_sets=('squared_error', 'absolute_error', 'friedman_mse', 'poisson'), name=\"criterion\"),\n",
        "    # IntegerVar(lb=1, ub=5, name=\"degree_paras\"),\n",
        "    # MixedSetVar(valid_sets=('scale', 'auto', 0.01, 0.05, 0.1, 0.5, 1.0), name=\"gamma_paras\"),\n",
        "    # BoolVar(n_vars=1, name=\"probability_paras\"),\n",
        "]"
      ],
      "metadata": {
        "id": "b9xZg4tvO2Hm"
      },
      "execution_count": null,
      "outputs": []
    },
    {
      "cell_type": "code",
      "source": [
        "def f(h1,h2=None):\n",
        "    h1 = np.array(sorted(h1))\n",
        "    # h1.sort()\n",
        "    k1 = sorted(list(set(h1)))\n",
        "    print(k1)\n",
        "    pd.DataFrame(k1).to_csv(f'{path}{h2}-2-full_.csv',index=False)\n",
        "    s2 = len(k1)\n",
        "    d = 500\n",
        "    s = []\n",
        "    l1 = 450//s2\n",
        "    for i in range(s2-1):\n",
        "        for i2 in range(np.random.randint(0,l1)):\n",
        "            s.append(list(k1)[i])\n",
        "\n",
        "    for i in range(d-len(s)):\n",
        "        s.append(list(k1)[-1])\n",
        "    pd.DataFrame(s).to_csv(f'{path}{h2}-full_.csv',index=False)\n",
        "    pd.DataFrame(s).plot()\n",
        "    plt.savefig(f'{path}{h2}-full_.png')\n",
        "    plt.show()\n",
        "    # return np.array(s)"
      ],
      "metadata": {
        "id": "5I1AeBjPO-x6"
      },
      "execution_count": null,
      "outputs": []
    },
    {
      "cell_type": "code",
      "source": [
        "k = [CRO.OriginalCRO, DE.JADE,DE.OriginalDE,DE.SADE,DE.SAP_DE, EP.LevyEP,EP.OriginalEP, ES.CMA_ES,ES.LevyES,ES.OriginalES, FPA.OriginalFPA, GA.BaseGA,GA.EliteSingleGA,GA.SingleGA, MA.OriginalMA,BBO.OriginalBBO,BBO.DevBBO, EOA.OriginalEOA, IWO.OriginalIWO, SBO.DevSBO,SBO.OriginalSBO, SMA.DevSMA,SMA.OriginalSMA, TPO.DevTPO, VCS.DevVCS,VCS.OriginalVCS, WHO.OriginalWHO]\n",
        "len(k)"
      ],
      "metadata": {
        "colab": {
          "base_uri": "https://localhost:8080/"
        },
        "id": "7J6zEAoSPEpy",
        "outputId": "858ce050-9dd8-4322-8670-87060691f6e0"
      },
      "execution_count": null,
      "outputs": [
        {
          "output_type": "execute_result",
          "data": {
            "text/plain": [
              "27"
            ]
          },
          "metadata": {},
          "execution_count": 203
        }
      ]
    },
    {
      "cell_type": "code",
      "source": [
        "for opt in k[10:16]:\n",
        "    a = time.time()\n",
        "    problem = XGBOptimizedProblem(bounds=my_bounds, minmax=\"max\", data=data)\n",
        "    model = opt(epoch=50, pop_size=20)\n",
        "    model.solve(problem,n_workers=8)\n",
        "    b = time.time()-a\n",
        "    print(model.__class__.__name__,',',len(list(set(model.history.list_current_best_fit))),',',b,file=open('/content/drive/MyDrive/txtv.txt','a'))\n",
        "\n",
        "    print(model.__class__.__name__,',',len(list(set(model.history.list_current_best_fit))),',',b)\n"
      ],
      "metadata": {
        "colab": {
          "base_uri": "https://localhost:8080/",
          "height": 467
        },
        "id": "cULtB4qDO30s",
        "outputId": "91db109b-8299-435e-855d-062ed58fe4e5"
      },
      "execution_count": null,
      "outputs": [
        {
          "output_type": "stream",
          "name": "stderr",
          "text": [
            "INFO:mealpy.evolutionary_based.FPA.OriginalFPA:Solving single objective optimization problem.\n"
          ]
        },
        {
          "output_type": "stream",
          "name": "stdout",
          "text": [
            "0.9708072547855087 0.9213344908822432 0.8113186308839188 0.8591979387932263\n",
            "0.9690712229887158 0.9241565510803582 0.8060087475797649 0.8569213527446008\n"
          ]
        },
        {
          "output_type": "error",
          "ename": "KeyboardInterrupt",
          "evalue": "",
          "traceback": [
            "\u001b[0;31m---------------------------------------------------------------------------\u001b[0m",
            "\u001b[0;31mKeyboardInterrupt\u001b[0m                         Traceback (most recent call last)",
            "\u001b[0;32m<ipython-input-204-ebbcd0010338>\u001b[0m in \u001b[0;36m<cell line: 1>\u001b[0;34m()\u001b[0m\n\u001b[1;32m      3\u001b[0m     \u001b[0mproblem\u001b[0m \u001b[0;34m=\u001b[0m \u001b[0mXGBOptimizedProblem\u001b[0m\u001b[0;34m(\u001b[0m\u001b[0mbounds\u001b[0m\u001b[0;34m=\u001b[0m\u001b[0mmy_bounds\u001b[0m\u001b[0;34m,\u001b[0m \u001b[0mminmax\u001b[0m\u001b[0;34m=\u001b[0m\u001b[0;34m\"max\"\u001b[0m\u001b[0;34m,\u001b[0m \u001b[0mdata\u001b[0m\u001b[0;34m=\u001b[0m\u001b[0mdata\u001b[0m\u001b[0;34m)\u001b[0m\u001b[0;34m\u001b[0m\u001b[0;34m\u001b[0m\u001b[0m\n\u001b[1;32m      4\u001b[0m     \u001b[0mmodel\u001b[0m \u001b[0;34m=\u001b[0m \u001b[0mopt\u001b[0m\u001b[0;34m(\u001b[0m\u001b[0mepoch\u001b[0m\u001b[0;34m=\u001b[0m\u001b[0;36m50\u001b[0m\u001b[0;34m,\u001b[0m \u001b[0mpop_size\u001b[0m\u001b[0;34m=\u001b[0m\u001b[0;36m20\u001b[0m\u001b[0;34m)\u001b[0m\u001b[0;34m\u001b[0m\u001b[0;34m\u001b[0m\u001b[0m\n\u001b[0;32m----> 5\u001b[0;31m     \u001b[0mmodel\u001b[0m\u001b[0;34m.\u001b[0m\u001b[0msolve\u001b[0m\u001b[0;34m(\u001b[0m\u001b[0mproblem\u001b[0m\u001b[0;34m,\u001b[0m\u001b[0mn_workers\u001b[0m\u001b[0;34m=\u001b[0m\u001b[0;36m8\u001b[0m\u001b[0;34m)\u001b[0m\u001b[0;34m\u001b[0m\u001b[0;34m\u001b[0m\u001b[0m\n\u001b[0m\u001b[1;32m      6\u001b[0m     \u001b[0mb\u001b[0m \u001b[0;34m=\u001b[0m \u001b[0mtime\u001b[0m\u001b[0;34m.\u001b[0m\u001b[0mtime\u001b[0m\u001b[0;34m(\u001b[0m\u001b[0;34m)\u001b[0m\u001b[0;34m-\u001b[0m\u001b[0ma\u001b[0m\u001b[0;34m\u001b[0m\u001b[0;34m\u001b[0m\u001b[0m\n\u001b[1;32m      7\u001b[0m     \u001b[0mprint\u001b[0m\u001b[0;34m(\u001b[0m\u001b[0mmodel\u001b[0m\u001b[0;34m.\u001b[0m\u001b[0m__class__\u001b[0m\u001b[0;34m.\u001b[0m\u001b[0m__name__\u001b[0m\u001b[0;34m,\u001b[0m\u001b[0;34m','\u001b[0m\u001b[0;34m,\u001b[0m\u001b[0mlen\u001b[0m\u001b[0;34m(\u001b[0m\u001b[0mlist\u001b[0m\u001b[0;34m(\u001b[0m\u001b[0mset\u001b[0m\u001b[0;34m(\u001b[0m\u001b[0mmodel\u001b[0m\u001b[0;34m.\u001b[0m\u001b[0mhistory\u001b[0m\u001b[0;34m.\u001b[0m\u001b[0mlist_current_best_fit\u001b[0m\u001b[0;34m)\u001b[0m\u001b[0;34m)\u001b[0m\u001b[0;34m)\u001b[0m\u001b[0;34m,\u001b[0m\u001b[0;34m','\u001b[0m\u001b[0;34m,\u001b[0m\u001b[0mb\u001b[0m\u001b[0;34m,\u001b[0m\u001b[0mfile\u001b[0m\u001b[0;34m=\u001b[0m\u001b[0mopen\u001b[0m\u001b[0;34m(\u001b[0m\u001b[0;34m'/content/drive/MyDrive/txtv.txt'\u001b[0m\u001b[0;34m,\u001b[0m\u001b[0;34m'a'\u001b[0m\u001b[0;34m)\u001b[0m\u001b[0;34m)\u001b[0m\u001b[0;34m\u001b[0m\u001b[0;34m\u001b[0m\u001b[0m\n",
            "\u001b[0;32m/usr/local/lib/python3.10/dist-packages/mealpy/optimizer.py\u001b[0m in \u001b[0;36msolve\u001b[0;34m(self, problem, mode, n_workers, termination, starting_solutions, seed)\u001b[0m\n\u001b[1;32m    227\u001b[0m \u001b[0;34m\u001b[0m\u001b[0m\n\u001b[1;32m    228\u001b[0m         \u001b[0mself\u001b[0m\u001b[0;34m.\u001b[0m\u001b[0mbefore_initialization\u001b[0m\u001b[0;34m(\u001b[0m\u001b[0mstarting_solutions\u001b[0m\u001b[0;34m)\u001b[0m\u001b[0;34m\u001b[0m\u001b[0;34m\u001b[0m\u001b[0m\n\u001b[0;32m--> 229\u001b[0;31m         \u001b[0mself\u001b[0m\u001b[0;34m.\u001b[0m\u001b[0minitialization\u001b[0m\u001b[0;34m(\u001b[0m\u001b[0;34m)\u001b[0m\u001b[0;34m\u001b[0m\u001b[0;34m\u001b[0m\u001b[0m\n\u001b[0m\u001b[1;32m    230\u001b[0m         \u001b[0mself\u001b[0m\u001b[0;34m.\u001b[0m\u001b[0mafter_initialization\u001b[0m\u001b[0;34m(\u001b[0m\u001b[0;34m)\u001b[0m\u001b[0;34m\u001b[0m\u001b[0;34m\u001b[0m\u001b[0m\n\u001b[1;32m    231\u001b[0m \u001b[0;34m\u001b[0m\u001b[0m\n",
            "\u001b[0;32m/usr/local/lib/python3.10/dist-packages/mealpy/optimizer.py\u001b[0m in \u001b[0;36minitialization\u001b[0;34m(self)\u001b[0m\n\u001b[1;32m    133\u001b[0m     \u001b[0;32mdef\u001b[0m \u001b[0minitialization\u001b[0m\u001b[0;34m(\u001b[0m\u001b[0mself\u001b[0m\u001b[0;34m)\u001b[0m \u001b[0;34m->\u001b[0m \u001b[0;32mNone\u001b[0m\u001b[0;34m:\u001b[0m\u001b[0;34m\u001b[0m\u001b[0;34m\u001b[0m\u001b[0m\n\u001b[1;32m    134\u001b[0m         \u001b[0;32mif\u001b[0m \u001b[0mself\u001b[0m\u001b[0;34m.\u001b[0m\u001b[0mpop\u001b[0m \u001b[0;32mis\u001b[0m \u001b[0;32mNone\u001b[0m\u001b[0;34m:\u001b[0m\u001b[0;34m\u001b[0m\u001b[0;34m\u001b[0m\u001b[0m\n\u001b[0;32m--> 135\u001b[0;31m             \u001b[0mself\u001b[0m\u001b[0;34m.\u001b[0m\u001b[0mpop\u001b[0m \u001b[0;34m=\u001b[0m \u001b[0mself\u001b[0m\u001b[0;34m.\u001b[0m\u001b[0mgenerate_population\u001b[0m\u001b[0;34m(\u001b[0m\u001b[0mself\u001b[0m\u001b[0;34m.\u001b[0m\u001b[0mpop_size\u001b[0m\u001b[0;34m)\u001b[0m\u001b[0;34m\u001b[0m\u001b[0;34m\u001b[0m\u001b[0m\n\u001b[0m\u001b[1;32m    136\u001b[0m \u001b[0;34m\u001b[0m\u001b[0m\n\u001b[1;32m    137\u001b[0m     \u001b[0;32mdef\u001b[0m \u001b[0mafter_initialization\u001b[0m\u001b[0;34m(\u001b[0m\u001b[0mself\u001b[0m\u001b[0;34m)\u001b[0m \u001b[0;34m->\u001b[0m \u001b[0;32mNone\u001b[0m\u001b[0;34m:\u001b[0m\u001b[0;34m\u001b[0m\u001b[0;34m\u001b[0m\u001b[0m\n",
            "\u001b[0;32m/usr/local/lib/python3.10/dist-packages/mealpy/optimizer.py\u001b[0m in \u001b[0;36mgenerate_population\u001b[0;34m(self, pop_size)\u001b[0m\n\u001b[1;32m    330\u001b[0m                     \u001b[0mpop\u001b[0m\u001b[0;34m.\u001b[0m\u001b[0mappend\u001b[0m\u001b[0;34m(\u001b[0m\u001b[0mf\u001b[0m\u001b[0;34m.\u001b[0m\u001b[0mresult\u001b[0m\u001b[0;34m(\u001b[0m\u001b[0;34m)\u001b[0m\u001b[0;34m)\u001b[0m\u001b[0;34m\u001b[0m\u001b[0;34m\u001b[0m\u001b[0m\n\u001b[1;32m    331\u001b[0m         \u001b[0;32melse\u001b[0m\u001b[0;34m:\u001b[0m\u001b[0;34m\u001b[0m\u001b[0;34m\u001b[0m\u001b[0m\n\u001b[0;32m--> 332\u001b[0;31m             \u001b[0mpop\u001b[0m \u001b[0;34m=\u001b[0m \u001b[0;34m[\u001b[0m\u001b[0mself\u001b[0m\u001b[0;34m.\u001b[0m\u001b[0mgenerate_agent\u001b[0m\u001b[0;34m(\u001b[0m\u001b[0;34m)\u001b[0m \u001b[0;32mfor\u001b[0m \u001b[0m_\u001b[0m \u001b[0;32min\u001b[0m \u001b[0mrange\u001b[0m\u001b[0;34m(\u001b[0m\u001b[0;36m0\u001b[0m\u001b[0;34m,\u001b[0m \u001b[0mpop_size\u001b[0m\u001b[0;34m)\u001b[0m\u001b[0;34m]\u001b[0m\u001b[0;34m\u001b[0m\u001b[0;34m\u001b[0m\u001b[0m\n\u001b[0m\u001b[1;32m    333\u001b[0m         \u001b[0;32mreturn\u001b[0m \u001b[0mpop\u001b[0m\u001b[0;34m\u001b[0m\u001b[0;34m\u001b[0m\u001b[0m\n\u001b[1;32m    334\u001b[0m \u001b[0;34m\u001b[0m\u001b[0m\n",
            "\u001b[0;32m/usr/local/lib/python3.10/dist-packages/mealpy/optimizer.py\u001b[0m in \u001b[0;36m<listcomp>\u001b[0;34m(.0)\u001b[0m\n\u001b[1;32m    330\u001b[0m                     \u001b[0mpop\u001b[0m\u001b[0;34m.\u001b[0m\u001b[0mappend\u001b[0m\u001b[0;34m(\u001b[0m\u001b[0mf\u001b[0m\u001b[0;34m.\u001b[0m\u001b[0mresult\u001b[0m\u001b[0;34m(\u001b[0m\u001b[0;34m)\u001b[0m\u001b[0;34m)\u001b[0m\u001b[0;34m\u001b[0m\u001b[0;34m\u001b[0m\u001b[0m\n\u001b[1;32m    331\u001b[0m         \u001b[0;32melse\u001b[0m\u001b[0;34m:\u001b[0m\u001b[0;34m\u001b[0m\u001b[0;34m\u001b[0m\u001b[0m\n\u001b[0;32m--> 332\u001b[0;31m             \u001b[0mpop\u001b[0m \u001b[0;34m=\u001b[0m \u001b[0;34m[\u001b[0m\u001b[0mself\u001b[0m\u001b[0;34m.\u001b[0m\u001b[0mgenerate_agent\u001b[0m\u001b[0;34m(\u001b[0m\u001b[0;34m)\u001b[0m \u001b[0;32mfor\u001b[0m \u001b[0m_\u001b[0m \u001b[0;32min\u001b[0m \u001b[0mrange\u001b[0m\u001b[0;34m(\u001b[0m\u001b[0;36m0\u001b[0m\u001b[0;34m,\u001b[0m \u001b[0mpop_size\u001b[0m\u001b[0;34m)\u001b[0m\u001b[0;34m]\u001b[0m\u001b[0;34m\u001b[0m\u001b[0;34m\u001b[0m\u001b[0m\n\u001b[0m\u001b[1;32m    333\u001b[0m         \u001b[0;32mreturn\u001b[0m \u001b[0mpop\u001b[0m\u001b[0;34m\u001b[0m\u001b[0;34m\u001b[0m\u001b[0m\n\u001b[1;32m    334\u001b[0m \u001b[0;34m\u001b[0m\u001b[0m\n",
            "\u001b[0;32m/usr/local/lib/python3.10/dist-packages/mealpy/optimizer.py\u001b[0m in \u001b[0;36mgenerate_agent\u001b[0;34m(self, solution)\u001b[0m\n\u001b[1;32m    303\u001b[0m         \"\"\"\n\u001b[1;32m    304\u001b[0m         \u001b[0magent\u001b[0m \u001b[0;34m=\u001b[0m \u001b[0mself\u001b[0m\u001b[0;34m.\u001b[0m\u001b[0mgenerate_empty_agent\u001b[0m\u001b[0;34m(\u001b[0m\u001b[0msolution\u001b[0m\u001b[0;34m)\u001b[0m\u001b[0;34m\u001b[0m\u001b[0;34m\u001b[0m\u001b[0m\n\u001b[0;32m--> 305\u001b[0;31m         \u001b[0magent\u001b[0m\u001b[0;34m.\u001b[0m\u001b[0mtarget\u001b[0m \u001b[0;34m=\u001b[0m \u001b[0mself\u001b[0m\u001b[0;34m.\u001b[0m\u001b[0mget_target\u001b[0m\u001b[0;34m(\u001b[0m\u001b[0magent\u001b[0m\u001b[0;34m.\u001b[0m\u001b[0msolution\u001b[0m\u001b[0;34m)\u001b[0m\u001b[0;34m\u001b[0m\u001b[0;34m\u001b[0m\u001b[0m\n\u001b[0m\u001b[1;32m    306\u001b[0m         \u001b[0;32mreturn\u001b[0m \u001b[0magent\u001b[0m\u001b[0;34m\u001b[0m\u001b[0;34m\u001b[0m\u001b[0m\n\u001b[1;32m    307\u001b[0m \u001b[0;34m\u001b[0m\u001b[0m\n",
            "\u001b[0;32m/usr/local/lib/python3.10/dist-packages/mealpy/optimizer.py\u001b[0m in \u001b[0;36mget_target\u001b[0;34m(self, solution, counted)\u001b[0m\n\u001b[1;32m    404\u001b[0m         \u001b[0;32mif\u001b[0m \u001b[0mcounted\u001b[0m\u001b[0;34m:\u001b[0m\u001b[0;34m\u001b[0m\u001b[0;34m\u001b[0m\u001b[0m\n\u001b[1;32m    405\u001b[0m             \u001b[0mself\u001b[0m\u001b[0;34m.\u001b[0m\u001b[0mnfe_counter\u001b[0m \u001b[0;34m+=\u001b[0m \u001b[0;36m1\u001b[0m\u001b[0;34m\u001b[0m\u001b[0;34m\u001b[0m\u001b[0m\n\u001b[0;32m--> 406\u001b[0;31m         \u001b[0;32mreturn\u001b[0m \u001b[0mself\u001b[0m\u001b[0;34m.\u001b[0m\u001b[0mproblem\u001b[0m\u001b[0;34m.\u001b[0m\u001b[0mget_target\u001b[0m\u001b[0;34m(\u001b[0m\u001b[0msolution\u001b[0m\u001b[0;34m)\u001b[0m\u001b[0;34m\u001b[0m\u001b[0;34m\u001b[0m\u001b[0m\n\u001b[0m\u001b[1;32m    407\u001b[0m \u001b[0;34m\u001b[0m\u001b[0m\n\u001b[1;32m    408\u001b[0m     \u001b[0;34m@\u001b[0m\u001b[0mstaticmethod\u001b[0m\u001b[0;34m\u001b[0m\u001b[0;34m\u001b[0m\u001b[0m\n",
            "\u001b[0;32m/usr/local/lib/python3.10/dist-packages/mealpy/utils/problem.py\u001b[0m in \u001b[0;36mget_target\u001b[0;34m(self, solution)\u001b[0m\n\u001b[1;32m    198\u001b[0m             \u001b[0mThe\u001b[0m \u001b[0mtarget\u001b[0m \u001b[0mobject\u001b[0m\u001b[0;34m\u001b[0m\u001b[0;34m\u001b[0m\u001b[0m\n\u001b[1;32m    199\u001b[0m         \"\"\"\n\u001b[0;32m--> 200\u001b[0;31m         \u001b[0mobjs\u001b[0m \u001b[0;34m=\u001b[0m \u001b[0mself\u001b[0m\u001b[0;34m.\u001b[0m\u001b[0mobj_func\u001b[0m\u001b[0;34m(\u001b[0m\u001b[0msolution\u001b[0m\u001b[0;34m)\u001b[0m\u001b[0;34m\u001b[0m\u001b[0;34m\u001b[0m\u001b[0m\n\u001b[0m\u001b[1;32m    201\u001b[0m         \u001b[0;32mreturn\u001b[0m \u001b[0mTarget\u001b[0m\u001b[0;34m(\u001b[0m\u001b[0mobjectives\u001b[0m\u001b[0;34m=\u001b[0m\u001b[0mobjs\u001b[0m\u001b[0;34m,\u001b[0m \u001b[0mweights\u001b[0m\u001b[0;34m=\u001b[0m\u001b[0mself\u001b[0m\u001b[0;34m.\u001b[0m\u001b[0mobj_weights\u001b[0m\u001b[0;34m)\u001b[0m\u001b[0;34m\u001b[0m\u001b[0;34m\u001b[0m\u001b[0m\n",
            "\u001b[0;32m<ipython-input-201-512fa37be249>\u001b[0m in \u001b[0;36mobj_func\u001b[0;34m(self, x)\u001b[0m\n\u001b[1;32m     11\u001b[0m         \u001b[0;31m# xgb = RandomForestClassifier(max_depth=x_decoded[\"maxdepth\"],n_estimators=x_decoded[\"nestimators\"],random_state=x_decoded['randomstate'])\u001b[0m\u001b[0;34m\u001b[0m\u001b[0;34m\u001b[0m\u001b[0m\n\u001b[1;32m     12\u001b[0m         \u001b[0;31m# Fit the model\u001b[0m\u001b[0;34m\u001b[0m\u001b[0;34m\u001b[0m\u001b[0m\n\u001b[0;32m---> 13\u001b[0;31m         \u001b[0mxgb\u001b[0m\u001b[0;34m.\u001b[0m\u001b[0mfit\u001b[0m\u001b[0;34m(\u001b[0m\u001b[0mself\u001b[0m\u001b[0;34m.\u001b[0m\u001b[0mdata\u001b[0m\u001b[0;34m[\u001b[0m\u001b[0;34m\"X_train\"\u001b[0m\u001b[0;34m]\u001b[0m\u001b[0;34m,\u001b[0m \u001b[0mself\u001b[0m\u001b[0;34m.\u001b[0m\u001b[0mdata\u001b[0m\u001b[0;34m[\u001b[0m\u001b[0;34m\"y_train\"\u001b[0m\u001b[0;34m]\u001b[0m\u001b[0;34m)\u001b[0m\u001b[0;34m\u001b[0m\u001b[0;34m\u001b[0m\u001b[0m\n\u001b[0m\u001b[1;32m     14\u001b[0m         \u001b[0;31m# Make the predictions\u001b[0m\u001b[0;34m\u001b[0m\u001b[0;34m\u001b[0m\u001b[0m\n\u001b[1;32m     15\u001b[0m         \u001b[0my_predict\u001b[0m \u001b[0;34m=\u001b[0m \u001b[0mxgb\u001b[0m\u001b[0;34m.\u001b[0m\u001b[0mpredict\u001b[0m\u001b[0;34m(\u001b[0m\u001b[0mself\u001b[0m\u001b[0;34m.\u001b[0m\u001b[0mdata\u001b[0m\u001b[0;34m[\u001b[0m\u001b[0;34m\"X_test\"\u001b[0m\u001b[0;34m]\u001b[0m\u001b[0;34m)\u001b[0m\u001b[0;34m\u001b[0m\u001b[0;34m\u001b[0m\u001b[0m\n",
            "\u001b[0;32m/usr/local/lib/python3.10/dist-packages/xgboost/core.py\u001b[0m in \u001b[0;36minner_f\u001b[0;34m(*args, **kwargs)\u001b[0m\n\u001b[1;32m    728\u001b[0m             \u001b[0;32mfor\u001b[0m \u001b[0mk\u001b[0m\u001b[0;34m,\u001b[0m \u001b[0marg\u001b[0m \u001b[0;32min\u001b[0m \u001b[0mzip\u001b[0m\u001b[0;34m(\u001b[0m\u001b[0msig\u001b[0m\u001b[0;34m.\u001b[0m\u001b[0mparameters\u001b[0m\u001b[0;34m,\u001b[0m \u001b[0margs\u001b[0m\u001b[0;34m)\u001b[0m\u001b[0;34m:\u001b[0m\u001b[0;34m\u001b[0m\u001b[0;34m\u001b[0m\u001b[0m\n\u001b[1;32m    729\u001b[0m                 \u001b[0mkwargs\u001b[0m\u001b[0;34m[\u001b[0m\u001b[0mk\u001b[0m\u001b[0;34m]\u001b[0m \u001b[0;34m=\u001b[0m \u001b[0marg\u001b[0m\u001b[0;34m\u001b[0m\u001b[0;34m\u001b[0m\u001b[0m\n\u001b[0;32m--> 730\u001b[0;31m             \u001b[0;32mreturn\u001b[0m \u001b[0mfunc\u001b[0m\u001b[0;34m(\u001b[0m\u001b[0;34m**\u001b[0m\u001b[0mkwargs\u001b[0m\u001b[0;34m)\u001b[0m\u001b[0;34m\u001b[0m\u001b[0;34m\u001b[0m\u001b[0m\n\u001b[0m\u001b[1;32m    731\u001b[0m \u001b[0;34m\u001b[0m\u001b[0m\n\u001b[1;32m    732\u001b[0m         \u001b[0;32mreturn\u001b[0m \u001b[0minner_f\u001b[0m\u001b[0;34m\u001b[0m\u001b[0;34m\u001b[0m\u001b[0m\n",
            "\u001b[0;32m/usr/local/lib/python3.10/dist-packages/xgboost/sklearn.py\u001b[0m in \u001b[0;36mfit\u001b[0;34m(self, X, y, sample_weight, base_margin, eval_set, eval_metric, early_stopping_rounds, verbose, xgb_model, sample_weight_eval_set, base_margin_eval_set, feature_weights, callbacks)\u001b[0m\n\u001b[1;32m   1517\u001b[0m             )\n\u001b[1;32m   1518\u001b[0m \u001b[0;34m\u001b[0m\u001b[0m\n\u001b[0;32m-> 1519\u001b[0;31m             self._Booster = train(\n\u001b[0m\u001b[1;32m   1520\u001b[0m                 \u001b[0mparams\u001b[0m\u001b[0;34m,\u001b[0m\u001b[0;34m\u001b[0m\u001b[0;34m\u001b[0m\u001b[0m\n\u001b[1;32m   1521\u001b[0m                 \u001b[0mtrain_dmatrix\u001b[0m\u001b[0;34m,\u001b[0m\u001b[0;34m\u001b[0m\u001b[0;34m\u001b[0m\u001b[0m\n",
            "\u001b[0;32m/usr/local/lib/python3.10/dist-packages/xgboost/core.py\u001b[0m in \u001b[0;36minner_f\u001b[0;34m(*args, **kwargs)\u001b[0m\n\u001b[1;32m    728\u001b[0m             \u001b[0;32mfor\u001b[0m \u001b[0mk\u001b[0m\u001b[0;34m,\u001b[0m \u001b[0marg\u001b[0m \u001b[0;32min\u001b[0m \u001b[0mzip\u001b[0m\u001b[0;34m(\u001b[0m\u001b[0msig\u001b[0m\u001b[0;34m.\u001b[0m\u001b[0mparameters\u001b[0m\u001b[0;34m,\u001b[0m \u001b[0margs\u001b[0m\u001b[0;34m)\u001b[0m\u001b[0;34m:\u001b[0m\u001b[0;34m\u001b[0m\u001b[0;34m\u001b[0m\u001b[0m\n\u001b[1;32m    729\u001b[0m                 \u001b[0mkwargs\u001b[0m\u001b[0;34m[\u001b[0m\u001b[0mk\u001b[0m\u001b[0;34m]\u001b[0m \u001b[0;34m=\u001b[0m \u001b[0marg\u001b[0m\u001b[0;34m\u001b[0m\u001b[0;34m\u001b[0m\u001b[0m\n\u001b[0;32m--> 730\u001b[0;31m             \u001b[0;32mreturn\u001b[0m \u001b[0mfunc\u001b[0m\u001b[0;34m(\u001b[0m\u001b[0;34m**\u001b[0m\u001b[0mkwargs\u001b[0m\u001b[0;34m)\u001b[0m\u001b[0;34m\u001b[0m\u001b[0;34m\u001b[0m\u001b[0m\n\u001b[0m\u001b[1;32m    731\u001b[0m \u001b[0;34m\u001b[0m\u001b[0m\n\u001b[1;32m    732\u001b[0m         \u001b[0;32mreturn\u001b[0m \u001b[0minner_f\u001b[0m\u001b[0;34m\u001b[0m\u001b[0;34m\u001b[0m\u001b[0m\n",
            "\u001b[0;32m/usr/local/lib/python3.10/dist-packages/xgboost/training.py\u001b[0m in \u001b[0;36mtrain\u001b[0;34m(params, dtrain, num_boost_round, evals, obj, feval, maximize, early_stopping_rounds, evals_result, verbose_eval, xgb_model, callbacks, custom_metric)\u001b[0m\n\u001b[1;32m    179\u001b[0m         \u001b[0;32mif\u001b[0m \u001b[0mcb_container\u001b[0m\u001b[0;34m.\u001b[0m\u001b[0mbefore_iteration\u001b[0m\u001b[0;34m(\u001b[0m\u001b[0mbst\u001b[0m\u001b[0;34m,\u001b[0m \u001b[0mi\u001b[0m\u001b[0;34m,\u001b[0m \u001b[0mdtrain\u001b[0m\u001b[0;34m,\u001b[0m \u001b[0mevals\u001b[0m\u001b[0;34m)\u001b[0m\u001b[0;34m:\u001b[0m\u001b[0;34m\u001b[0m\u001b[0;34m\u001b[0m\u001b[0m\n\u001b[1;32m    180\u001b[0m             \u001b[0;32mbreak\u001b[0m\u001b[0;34m\u001b[0m\u001b[0;34m\u001b[0m\u001b[0m\n\u001b[0;32m--> 181\u001b[0;31m         \u001b[0mbst\u001b[0m\u001b[0;34m.\u001b[0m\u001b[0mupdate\u001b[0m\u001b[0;34m(\u001b[0m\u001b[0mdtrain\u001b[0m\u001b[0;34m,\u001b[0m \u001b[0mi\u001b[0m\u001b[0;34m,\u001b[0m \u001b[0mobj\u001b[0m\u001b[0;34m)\u001b[0m\u001b[0;34m\u001b[0m\u001b[0;34m\u001b[0m\u001b[0m\n\u001b[0m\u001b[1;32m    182\u001b[0m         \u001b[0;32mif\u001b[0m \u001b[0mcb_container\u001b[0m\u001b[0;34m.\u001b[0m\u001b[0mafter_iteration\u001b[0m\u001b[0;34m(\u001b[0m\u001b[0mbst\u001b[0m\u001b[0;34m,\u001b[0m \u001b[0mi\u001b[0m\u001b[0;34m,\u001b[0m \u001b[0mdtrain\u001b[0m\u001b[0;34m,\u001b[0m \u001b[0mevals\u001b[0m\u001b[0;34m)\u001b[0m\u001b[0;34m:\u001b[0m\u001b[0;34m\u001b[0m\u001b[0;34m\u001b[0m\u001b[0m\n\u001b[1;32m    183\u001b[0m             \u001b[0;32mbreak\u001b[0m\u001b[0;34m\u001b[0m\u001b[0;34m\u001b[0m\u001b[0m\n",
            "\u001b[0;32m/usr/local/lib/python3.10/dist-packages/xgboost/core.py\u001b[0m in \u001b[0;36mupdate\u001b[0;34m(self, dtrain, iteration, fobj)\u001b[0m\n\u001b[1;32m   2049\u001b[0m         \u001b[0;32mif\u001b[0m \u001b[0mfobj\u001b[0m \u001b[0;32mis\u001b[0m \u001b[0;32mNone\u001b[0m\u001b[0;34m:\u001b[0m\u001b[0;34m\u001b[0m\u001b[0;34m\u001b[0m\u001b[0m\n\u001b[1;32m   2050\u001b[0m             _check_call(\n\u001b[0;32m-> 2051\u001b[0;31m                 _LIB.XGBoosterUpdateOneIter(\n\u001b[0m\u001b[1;32m   2052\u001b[0m                     \u001b[0mself\u001b[0m\u001b[0;34m.\u001b[0m\u001b[0mhandle\u001b[0m\u001b[0;34m,\u001b[0m \u001b[0mctypes\u001b[0m\u001b[0;34m.\u001b[0m\u001b[0mc_int\u001b[0m\u001b[0;34m(\u001b[0m\u001b[0miteration\u001b[0m\u001b[0;34m)\u001b[0m\u001b[0;34m,\u001b[0m \u001b[0mdtrain\u001b[0m\u001b[0;34m.\u001b[0m\u001b[0mhandle\u001b[0m\u001b[0;34m\u001b[0m\u001b[0;34m\u001b[0m\u001b[0m\n\u001b[1;32m   2053\u001b[0m                 )\n",
            "\u001b[0;31mKeyboardInterrupt\u001b[0m: "
          ]
        }
      ]
    },
    {
      "cell_type": "code",
      "execution_count": null,
      "metadata": {
        "colab": {
          "base_uri": "https://localhost:8080/"
        },
        "id": "5gN7n9zF_o4f",
        "outputId": "8a9ade63-1630-4195-fbd6-c3cc5ce69fad"
      },
      "outputs": [
        {
          "data": {
            "text/plain": [
              "355"
            ]
          },
          "execution_count": 71,
          "metadata": {},
          "output_type": "execute_result"
        }
      ],
      "source": [
        "round(354.56689213)"
      ]
    },
    {
      "cell_type": "code",
      "execution_count": null,
      "metadata": {
        "colab": {
          "base_uri": "https://localhost:8080/",
          "height": 424
        },
        "id": "V7PufLi0tD5H",
        "outputId": "5de0007f-2f13-47ce-9f9b-c937a95b1517"
      },
      "outputs": [
        {
          "data": {
            "application/vnd.google.colaboratory.intrinsic+json": {
              "summary": "{\n  \"name\": \"pd\",\n  \"rows\": 346,\n  \"fields\": [\n    {\n      \"column\": \"train\",\n      \"properties\": {\n        \"dtype\": \"number\",\n        \"std\": 0,\n        \"min\": 0,\n        \"max\": 3,\n        \"num_unique_values\": 4,\n        \"samples\": [\n          1,\n          2,\n          0\n        ],\n        \"semantic_type\": \"\",\n        \"description\": \"\"\n      }\n    },\n    {\n      \"column\": \"val\",\n      \"properties\": {\n        \"dtype\": \"number\",\n        \"std\": 0.3288746085645837,\n        \"min\": 0.0,\n        \"max\": 1.0,\n        \"num_unique_values\": 2,\n        \"samples\": [\n          1.0,\n          0.0\n        ],\n        \"semantic_type\": \"\",\n        \"description\": \"\"\n      }\n    }\n  ]\n}",
              "type": "dataframe"
            },
            "text/html": [
              "\n",
              "  <div id=\"df-802d2b6c-5ef1-4939-b8e1-cdd2141a8392\" class=\"colab-df-container\">\n",
              "    <div>\n",
              "<style scoped>\n",
              "    .dataframe tbody tr th:only-of-type {\n",
              "        vertical-align: middle;\n",
              "    }\n",
              "\n",
              "    .dataframe tbody tr th {\n",
              "        vertical-align: top;\n",
              "    }\n",
              "\n",
              "    .dataframe thead th {\n",
              "        text-align: right;\n",
              "    }\n",
              "</style>\n",
              "<table border=\"1\" class=\"dataframe\">\n",
              "  <thead>\n",
              "    <tr style=\"text-align: right;\">\n",
              "      <th></th>\n",
              "      <th>train</th>\n",
              "      <th>val</th>\n",
              "    </tr>\n",
              "  </thead>\n",
              "  <tbody>\n",
              "    <tr>\n",
              "      <th>0</th>\n",
              "      <td>0</td>\n",
              "      <td>0.0</td>\n",
              "    </tr>\n",
              "    <tr>\n",
              "      <th>1</th>\n",
              "      <td>0</td>\n",
              "      <td>0.0</td>\n",
              "    </tr>\n",
              "    <tr>\n",
              "      <th>2</th>\n",
              "      <td>0</td>\n",
              "      <td>NaN</td>\n",
              "    </tr>\n",
              "    <tr>\n",
              "      <th>3</th>\n",
              "      <td>0</td>\n",
              "      <td>NaN</td>\n",
              "    </tr>\n",
              "    <tr>\n",
              "      <th>4</th>\n",
              "      <td>0</td>\n",
              "      <td>NaN</td>\n",
              "    </tr>\n",
              "    <tr>\n",
              "      <th>...</th>\n",
              "      <td>...</td>\n",
              "      <td>...</td>\n",
              "    </tr>\n",
              "    <tr>\n",
              "      <th>341</th>\n",
              "      <td>2</td>\n",
              "      <td>NaN</td>\n",
              "    </tr>\n",
              "    <tr>\n",
              "      <th>342</th>\n",
              "      <td>2</td>\n",
              "      <td>NaN</td>\n",
              "    </tr>\n",
              "    <tr>\n",
              "      <th>343</th>\n",
              "      <td>3</td>\n",
              "      <td>NaN</td>\n",
              "    </tr>\n",
              "    <tr>\n",
              "      <th>344</th>\n",
              "      <td>0</td>\n",
              "      <td>NaN</td>\n",
              "    </tr>\n",
              "    <tr>\n",
              "      <th>345</th>\n",
              "      <td>2</td>\n",
              "      <td>NaN</td>\n",
              "    </tr>\n",
              "  </tbody>\n",
              "</table>\n",
              "<p>346 rows × 2 columns</p>\n",
              "</div>\n",
              "    <div class=\"colab-df-buttons\">\n",
              "\n",
              "  <div class=\"colab-df-container\">\n",
              "    <button class=\"colab-df-convert\" onclick=\"convertToInteractive('df-802d2b6c-5ef1-4939-b8e1-cdd2141a8392')\"\n",
              "            title=\"Convert this dataframe to an interactive table.\"\n",
              "            style=\"display:none;\">\n",
              "\n",
              "  <svg xmlns=\"http://www.w3.org/2000/svg\" height=\"24px\" viewBox=\"0 -960 960 960\">\n",
              "    <path d=\"M120-120v-720h720v720H120Zm60-500h600v-160H180v160Zm220 220h160v-160H400v160Zm0 220h160v-160H400v160ZM180-400h160v-160H180v160Zm440 0h160v-160H620v160ZM180-180h160v-160H180v160Zm440 0h160v-160H620v160Z\"/>\n",
              "  </svg>\n",
              "    </button>\n",
              "\n",
              "  <style>\n",
              "    .colab-df-container {\n",
              "      display:flex;\n",
              "      gap: 12px;\n",
              "    }\n",
              "\n",
              "    .colab-df-convert {\n",
              "      background-color: #E8F0FE;\n",
              "      border: none;\n",
              "      border-radius: 50%;\n",
              "      cursor: pointer;\n",
              "      display: none;\n",
              "      fill: #1967D2;\n",
              "      height: 32px;\n",
              "      padding: 0 0 0 0;\n",
              "      width: 32px;\n",
              "    }\n",
              "\n",
              "    .colab-df-convert:hover {\n",
              "      background-color: #E2EBFA;\n",
              "      box-shadow: 0px 1px 2px rgba(60, 64, 67, 0.3), 0px 1px 3px 1px rgba(60, 64, 67, 0.15);\n",
              "      fill: #174EA6;\n",
              "    }\n",
              "\n",
              "    .colab-df-buttons div {\n",
              "      margin-bottom: 4px;\n",
              "    }\n",
              "\n",
              "    [theme=dark] .colab-df-convert {\n",
              "      background-color: #3B4455;\n",
              "      fill: #D2E3FC;\n",
              "    }\n",
              "\n",
              "    [theme=dark] .colab-df-convert:hover {\n",
              "      background-color: #434B5C;\n",
              "      box-shadow: 0px 1px 3px 1px rgba(0, 0, 0, 0.15);\n",
              "      filter: drop-shadow(0px 1px 2px rgba(0, 0, 0, 0.3));\n",
              "      fill: #FFFFFF;\n",
              "    }\n",
              "  </style>\n",
              "\n",
              "    <script>\n",
              "      const buttonEl =\n",
              "        document.querySelector('#df-802d2b6c-5ef1-4939-b8e1-cdd2141a8392 button.colab-df-convert');\n",
              "      buttonEl.style.display =\n",
              "        google.colab.kernel.accessAllowed ? 'block' : 'none';\n",
              "\n",
              "      async function convertToInteractive(key) {\n",
              "        const element = document.querySelector('#df-802d2b6c-5ef1-4939-b8e1-cdd2141a8392');\n",
              "        const dataTable =\n",
              "          await google.colab.kernel.invokeFunction('convertToInteractive',\n",
              "                                                    [key], {});\n",
              "        if (!dataTable) return;\n",
              "\n",
              "        const docLinkHtml = 'Like what you see? Visit the ' +\n",
              "          '<a target=\"_blank\" href=https://colab.research.google.com/notebooks/data_table.ipynb>data table notebook</a>'\n",
              "          + ' to learn more about interactive tables.';\n",
              "        element.innerHTML = '';\n",
              "        dataTable['output_type'] = 'display_data';\n",
              "        await google.colab.output.renderOutput(dataTable, element);\n",
              "        const docLink = document.createElement('div');\n",
              "        docLink.innerHTML = docLinkHtml;\n",
              "        element.appendChild(docLink);\n",
              "      }\n",
              "    </script>\n",
              "  </div>\n",
              "\n",
              "\n",
              "<div id=\"df-1eed0924-520e-4bf5-9e31-15f256fb6818\">\n",
              "  <button class=\"colab-df-quickchart\" onclick=\"quickchart('df-1eed0924-520e-4bf5-9e31-15f256fb6818')\"\n",
              "            title=\"Suggest charts\"\n",
              "            style=\"display:none;\">\n",
              "\n",
              "<svg xmlns=\"http://www.w3.org/2000/svg\" height=\"24px\"viewBox=\"0 0 24 24\"\n",
              "     width=\"24px\">\n",
              "    <g>\n",
              "        <path d=\"M19 3H5c-1.1 0-2 .9-2 2v14c0 1.1.9 2 2 2h14c1.1 0 2-.9 2-2V5c0-1.1-.9-2-2-2zM9 17H7v-7h2v7zm4 0h-2V7h2v10zm4 0h-2v-4h2v4z\"/>\n",
              "    </g>\n",
              "</svg>\n",
              "  </button>\n",
              "\n",
              "<style>\n",
              "  .colab-df-quickchart {\n",
              "      --bg-color: #E8F0FE;\n",
              "      --fill-color: #1967D2;\n",
              "      --hover-bg-color: #E2EBFA;\n",
              "      --hover-fill-color: #174EA6;\n",
              "      --disabled-fill-color: #AAA;\n",
              "      --disabled-bg-color: #DDD;\n",
              "  }\n",
              "\n",
              "  [theme=dark] .colab-df-quickchart {\n",
              "      --bg-color: #3B4455;\n",
              "      --fill-color: #D2E3FC;\n",
              "      --hover-bg-color: #434B5C;\n",
              "      --hover-fill-color: #FFFFFF;\n",
              "      --disabled-bg-color: #3B4455;\n",
              "      --disabled-fill-color: #666;\n",
              "  }\n",
              "\n",
              "  .colab-df-quickchart {\n",
              "    background-color: var(--bg-color);\n",
              "    border: none;\n",
              "    border-radius: 50%;\n",
              "    cursor: pointer;\n",
              "    display: none;\n",
              "    fill: var(--fill-color);\n",
              "    height: 32px;\n",
              "    padding: 0;\n",
              "    width: 32px;\n",
              "  }\n",
              "\n",
              "  .colab-df-quickchart:hover {\n",
              "    background-color: var(--hover-bg-color);\n",
              "    box-shadow: 0 1px 2px rgba(60, 64, 67, 0.3), 0 1px 3px 1px rgba(60, 64, 67, 0.15);\n",
              "    fill: var(--button-hover-fill-color);\n",
              "  }\n",
              "\n",
              "  .colab-df-quickchart-complete:disabled,\n",
              "  .colab-df-quickchart-complete:disabled:hover {\n",
              "    background-color: var(--disabled-bg-color);\n",
              "    fill: var(--disabled-fill-color);\n",
              "    box-shadow: none;\n",
              "  }\n",
              "\n",
              "  .colab-df-spinner {\n",
              "    border: 2px solid var(--fill-color);\n",
              "    border-color: transparent;\n",
              "    border-bottom-color: var(--fill-color);\n",
              "    animation:\n",
              "      spin 1s steps(1) infinite;\n",
              "  }\n",
              "\n",
              "  @keyframes spin {\n",
              "    0% {\n",
              "      border-color: transparent;\n",
              "      border-bottom-color: var(--fill-color);\n",
              "      border-left-color: var(--fill-color);\n",
              "    }\n",
              "    20% {\n",
              "      border-color: transparent;\n",
              "      border-left-color: var(--fill-color);\n",
              "      border-top-color: var(--fill-color);\n",
              "    }\n",
              "    30% {\n",
              "      border-color: transparent;\n",
              "      border-left-color: var(--fill-color);\n",
              "      border-top-color: var(--fill-color);\n",
              "      border-right-color: var(--fill-color);\n",
              "    }\n",
              "    40% {\n",
              "      border-color: transparent;\n",
              "      border-right-color: var(--fill-color);\n",
              "      border-top-color: var(--fill-color);\n",
              "    }\n",
              "    60% {\n",
              "      border-color: transparent;\n",
              "      border-right-color: var(--fill-color);\n",
              "    }\n",
              "    80% {\n",
              "      border-color: transparent;\n",
              "      border-right-color: var(--fill-color);\n",
              "      border-bottom-color: var(--fill-color);\n",
              "    }\n",
              "    90% {\n",
              "      border-color: transparent;\n",
              "      border-bottom-color: var(--fill-color);\n",
              "    }\n",
              "  }\n",
              "</style>\n",
              "\n",
              "  <script>\n",
              "    async function quickchart(key) {\n",
              "      const quickchartButtonEl =\n",
              "        document.querySelector('#' + key + ' button');\n",
              "      quickchartButtonEl.disabled = true;  // To prevent multiple clicks.\n",
              "      quickchartButtonEl.classList.add('colab-df-spinner');\n",
              "      try {\n",
              "        const charts = await google.colab.kernel.invokeFunction(\n",
              "            'suggestCharts', [key], {});\n",
              "      } catch (error) {\n",
              "        console.error('Error during call to suggestCharts:', error);\n",
              "      }\n",
              "      quickchartButtonEl.classList.remove('colab-df-spinner');\n",
              "      quickchartButtonEl.classList.add('colab-df-quickchart-complete');\n",
              "    }\n",
              "    (() => {\n",
              "      let quickchartButtonEl =\n",
              "        document.querySelector('#df-1eed0924-520e-4bf5-9e31-15f256fb6818 button');\n",
              "      quickchartButtonEl.style.display =\n",
              "        google.colab.kernel.accessAllowed ? 'block' : 'none';\n",
              "    })();\n",
              "  </script>\n",
              "</div>\n",
              "    </div>\n",
              "  </div>\n"
            ],
            "text/plain": [
              "     train  val\n",
              "0        0  0.0\n",
              "1        0  0.0\n",
              "2        0  NaN\n",
              "3        0  NaN\n",
              "4        0  NaN\n",
              "..     ...  ...\n",
              "341      2  NaN\n",
              "342      2  NaN\n",
              "343      3  NaN\n",
              "344      0  NaN\n",
              "345      2  NaN\n",
              "\n",
              "[346 rows x 2 columns]"
            ]
          },
          "execution_count": 109,
          "metadata": {},
          "output_type": "execute_result"
        }
      ],
      "source": [
        "pd.read_csv('/content/drive/MyDrive/hamedwork/tsxgb_EnhancedAEO.csv')"
      ]
    },
    {
      "cell_type": "code",
      "execution_count": null,
      "metadata": {
        "colab": {
          "base_uri": "https://localhost:8080/"
        },
        "id": "lWO9WE90Ajf3",
        "outputId": "afe54ab0-e402-4a03-bf8a-21d0f2eb0307"
      },
      "outputs": [
        {
          "data": {
            "text/plain": [
              "(array([0, 0, 0, 0, 0, 0, 0, 0, 0, 0, 0, 0, 0, 0, 0, 0, 0, 0, 0, 0, 0, 0,\n",
              "        0, 0, 0, 0, 0, 0, 0, 0, 0, 0, 0, 0, 0, 0, 0, 0, 0, 0, 0, 0, 1, 0,\n",
              "        0, 1, 0, 1, 0, 0, 0, 0, 0, 1, 1, 0, 0, 0, 1, 0, 1, 0, 0, 0, 1, 0,\n",
              "        1, 0, 0, 0, 0, 0, 0, 0, 0, 0, 1, 1, 0, 1, 1, 1, 0, 0, 1, 1, 0, 0,\n",
              "        0, 0, 0, 0, 0, 0, 0, 0, 0, 0, 0, 0, 0, 0, 0, 0, 0, 0, 0, 0, 0, 0,\n",
              "        0, 0, 0, 0, 1, 1, 0, 0, 1, 0, 1, 0, 1, 0, 0, 0, 0, 0, 0, 0, 1, 0,\n",
              "        0, 1, 0, 1, 1, 1, 1, 0, 0, 0, 0, 0, 0, 1, 1, 0, 0, 0, 1, 1, 1, 0,\n",
              "        0, 0, 1, 1, 1, 1, 1, 0, 0, 0, 1, 1, 1, 0, 1, 0, 0, 0, 0, 0, 0, 0,\n",
              "        0, 1, 0, 0, 0, 0, 0, 0, 0, 0, 1, 1, 0, 0, 0, 0, 1, 1, 1, 0, 0, 1,\n",
              "        0, 0, 1, 0, 1, 0, 0, 0, 0, 1, 1, 0, 0, 0, 1, 1, 0, 1, 1, 0, 1, 0,\n",
              "        0, 1, 1, 1, 0, 0, 0, 1, 0, 1, 0, 0, 0, 1, 3, 0, 0, 0, 3, 1, 3, 0,\n",
              "        3, 0, 3, 1, 0, 1, 3, 0, 0, 0, 0, 0, 3, 0, 0, 0, 0, 3, 0, 1, 0, 0,\n",
              "        0, 0, 1, 0, 0, 0, 0, 1, 0, 0, 0, 0, 0, 1, 0, 0, 1, 0, 0, 0, 0, 0,\n",
              "        0, 1, 1, 1, 1, 0, 3, 0, 0, 0, 0, 1, 1, 0, 0, 0, 0, 0, 1, 2, 0, 1,\n",
              "        1, 0, 0, 0, 1, 0, 0, 3, 0, 3, 0, 0, 0, 0, 0, 2, 0, 0, 0, 0, 2, 0,\n",
              "        3, 0, 2, 0, 0, 0, 0, 0, 0, 0, 1, 2, 2, 3, 0, 2]),\n",
              " array([0, 1, 1, ..., 0, 0, 1]),\n",
              " 0       0\n",
              " 1       0\n",
              " 12      0\n",
              " 22      0\n",
              " 33      0\n",
              "        ..\n",
              " 1712    2\n",
              " 1714    2\n",
              " 1715    3\n",
              " 1716    0\n",
              " 1726    2\n",
              " Name: label, Length: 346, dtype: int64,\n",
              " 870     0\n",
              " 614     1\n",
              " 995     1\n",
              " 672     0\n",
              " 509     0\n",
              "        ..\n",
              " 1630    1\n",
              " 1325    0\n",
              " 1436    0\n",
              " 1290    0\n",
              " 715     1\n",
              " Name: label, Length: 1382, dtype: int64)"
            ]
          },
          "execution_count": 103,
          "metadata": {},
          "output_type": "execute_result"
        }
      ],
      "source": [
        "xgb.predict(data['X_test']),xgb.predict(data['X_train']),data['y_test'],data['y_train']\n"
      ]
    },
    {
      "cell_type": "code",
      "execution_count": null,
      "metadata": {
        "colab": {
          "base_uri": "https://localhost:8080/"
        },
        "id": "cBnV4qokAmJC",
        "outputId": "e3c31d61-168c-48f3-efe2-80c702fdd189"
      },
      "outputs": [
        {
          "data": {
            "text/plain": [
              "array([0, 0, 0, 0, 0, 0, 0, 0, 0, 0, 0, 0, 0, 0, 0, 0, 0, 0, 0, 0, 0, 0,\n",
              "       0, 0, 0, 0, 0, 0, 0, 0, 0, 0, 0, 0, 0, 0, 0, 0, 0, 0, 0, 0, 1, 0,\n",
              "       0, 1, 0, 1, 0, 0, 0, 0, 0, 1, 1, 0, 0, 0, 1, 0, 1, 0, 0, 0, 1, 0,\n",
              "       1, 0, 0, 0, 0, 0, 0, 0, 0, 0, 1, 1, 0, 1, 1, 1, 0, 0, 1, 1, 0, 0,\n",
              "       0, 0, 0, 0, 0, 0, 0, 0, 0, 0, 0, 0, 0, 0, 0, 0, 0, 0, 0, 0, 0, 0,\n",
              "       0, 0, 0, 0, 1, 1, 0, 0, 1, 0, 1, 0, 1, 0, 0, 0, 0, 0, 0, 0, 1, 0,\n",
              "       0, 1, 0, 1, 1, 1, 1, 0, 0, 0, 0, 0, 0, 1, 1, 0, 0, 0, 1, 1, 1, 0,\n",
              "       0, 0, 1, 1, 1, 1, 1, 0, 0, 0, 1, 1, 1, 0, 1, 0, 0, 0, 0, 0, 0, 0,\n",
              "       0, 1, 0, 0, 0, 0, 0, 0, 0, 0, 1, 1, 0, 0, 0, 0, 1, 1, 1, 0, 0, 1,\n",
              "       0, 0, 1, 0, 1, 0, 0, 0, 0, 1, 1, 0, 0, 0, 1, 1, 0, 1, 1, 0, 1, 0,\n",
              "       0, 1, 1, 1, 0, 0, 0, 1, 0, 1, 0, 0, 0, 1, 3, 0, 0, 0, 3, 1, 3, 0,\n",
              "       3, 0, 3, 1, 0, 1, 3, 0, 0, 0, 0, 0, 3, 0, 0, 0, 0, 3, 0, 1, 0, 0,\n",
              "       0, 0, 1, 0, 0, 0, 0, 1, 0, 0, 0, 0, 0, 1, 0, 0, 1, 0, 0, 0, 0, 0,\n",
              "       0, 1, 1, 1, 1, 0, 3, 0, 0, 0, 0, 1, 1, 0, 0, 0, 0, 0, 1, 2, 0, 1,\n",
              "       1, 0, 0, 0, 1, 0, 0, 3, 0, 3, 0, 0, 0, 0, 0, 2, 0, 0, 0, 0, 2, 0,\n",
              "       3, 0, 2, 0, 0, 0, 0, 0, 0, 0, 1, 2, 2, 3, 0, 2])"
            ]
          },
          "execution_count": 111,
          "metadata": {},
          "output_type": "execute_result"
        }
      ],
      "source": [
        "xgb.predict(data['X_test'])"
      ]
    },
    {
      "cell_type": "code",
      "execution_count": null,
      "metadata": {
        "colab": {
          "base_uri": "https://localhost:8080/"
        },
        "id": "X0i-sei4ArWk",
        "outputId": "8c576413-28a2-421c-80bf-eecaaa8e03b7"
      },
      "outputs": [
        {
          "data": {
            "text/plain": [
              "array([0, 0, 0, 0, 0, 0, 0, 0, 0, 0, 0, 0, 0, 0, 0, 0, 0, 0, 0, 0, 0, 0,\n",
              "       0, 0, 0, 0, 0, 0, 0, 0, 0, 0, 0, 0, 0, 0, 0, 0, 0, 0, 0, 0, 1, 0,\n",
              "       0, 1, 0, 1, 0, 0, 0, 0, 0, 1, 1, 0, 0, 0, 1, 0, 1, 0, 0, 0, 1, 0,\n",
              "       1, 0, 0, 0, 0, 0, 0, 0, 0, 0, 1, 1, 0, 1, 1, 1, 0, 0, 1, 1, 0, 0,\n",
              "       0, 0, 0, 0, 0, 0, 0, 0, 0, 0, 0, 0, 0, 0, 0, 0, 0, 0, 0, 0, 0, 0,\n",
              "       0, 0, 0, 0, 1, 1, 0, 0, 1, 0, 1, 0, 1, 0, 0, 0, 0, 0, 0, 0, 1, 0,\n",
              "       0, 1, 0, 1, 1, 1, 1, 0, 0, 0, 0, 0, 0, 1, 1, 0, 0, 0, 1, 1, 1, 0,\n",
              "       0, 0, 1, 1, 1, 1, 1, 0, 0, 0, 1, 1, 1, 0, 1, 0, 0, 0, 0, 0, 0, 0,\n",
              "       0, 1, 0, 0, 0, 0, 0, 0, 0, 0, 1, 1, 0, 0, 0, 0, 1, 1, 1, 0, 0, 1,\n",
              "       0, 0, 1, 0, 1, 0, 0, 0, 0, 0, 1, 0, 0, 0, 1, 1, 0, 1, 1, 0, 1, 0,\n",
              "       0, 1, 1, 1, 0, 0, 0, 1, 0, 1, 0, 0, 0, 1, 3, 0, 0, 0, 3, 1, 3, 0,\n",
              "       2, 0, 3, 1, 0, 1, 3, 0, 0, 0, 0, 0, 3, 0, 0, 0, 0, 3, 0, 1, 0, 0,\n",
              "       0, 0, 1, 0, 0, 0, 0, 1, 0, 0, 0, 0, 0, 1, 0, 0, 1, 0, 0, 0, 0, 0,\n",
              "       0, 1, 1, 1, 1, 0, 3, 0, 0, 0, 0, 1, 1, 0, 0, 0, 0, 0, 1, 2, 0, 1,\n",
              "       1, 0, 0, 0, 1, 0, 0, 3, 0, 3, 0, 0, 0, 0, 0, 2, 0, 0, 0, 0, 2, 0,\n",
              "       3, 0, 2, 0, 0, 0, 0, 0, 0, 0, 1, 2, 2, 3, 0, 2])"
            ]
          },
          "execution_count": 112,
          "metadata": {},
          "output_type": "execute_result"
        }
      ],
      "source": [
        "np.array(data['y_test'])"
      ]
    },
    {
      "cell_type": "code",
      "execution_count": null,
      "metadata": {
        "id": "YufguYe0aldb"
      },
      "outputs": [],
      "source": []
    },
    {
      "cell_type": "markdown",
      "metadata": {
        "id": "UZUCnlBLZ0BV"
      },
      "source": [
        "# viso"
      ]
    },
    {
      "cell_type": "code",
      "execution_count": null,
      "metadata": {
        "id": "DCsmYdraal5S"
      },
      "outputs": [],
      "source": [
        "import os"
      ]
    },
    {
      "cell_type": "code",
      "execution_count": null,
      "metadata": {
        "id": "dVAWfWuxbg1y"
      },
      "outputs": [],
      "source": [
        "datas = {'train':[],'test':[]}"
      ]
    },
    {
      "cell_type": "code",
      "execution_count": null,
      "metadata": {
        "colab": {
          "base_uri": "https://localhost:8080/"
        },
        "id": "Kq0ZSN9zaoQi",
        "outputId": "2d3985b2-3919-47af-a28a-f48eaf63a2d9"
      },
      "outputs": [
        {
          "data": {
            "text/plain": [
              "{'train': ['/content/drive/MyDrive/work 67 lung/trxgb_OriginalSSO.csv',\n",
              "  '/content/drive/MyDrive/work 67 lung/trxgb_OriginalSSpiderA.csv',\n",
              "  '/content/drive/MyDrive/work 67 lung/trxgb_DevSSA.csv',\n",
              "  '/content/drive/MyDrive/work 67 lung/trxgb_EnhancedTWO.csv',\n",
              "  '/content/drive/MyDrive/work 67 lung/trxgb_OriginalWDO.csv',\n",
              "  '/content/drive/MyDrive/work 67 lung/trxgb_LevyTWO.csv'],\n",
              " 'test': ['/content/drive/MyDrive/work 67 lung/tsxgb_OriginalSSO.csv',\n",
              "  '/content/drive/MyDrive/work 67 lung/tsxgb_OriginalSSpiderA.csv',\n",
              "  '/content/drive/MyDrive/work 67 lung/tsxgb_DevSSA.csv',\n",
              "  '/content/drive/MyDrive/work 67 lung/tsxgb_EnhancedTWO.csv',\n",
              "  '/content/drive/MyDrive/work 67 lung/tsxgb_OriginalWDO.csv',\n",
              "  '/content/drive/MyDrive/work 67 lung/tsxgb_LevyTWO.csv']}"
            ]
          },
          "execution_count": 58,
          "metadata": {},
          "output_type": "execute_result"
        }
      ],
      "source": [
        "for home,dirs,files in os.walk('/content/drive/MyDrive/work 67 lung/'):\n",
        "    if len(files)!=0:\n",
        "        for t1 in files:\n",
        "            if 'trxgb' in t1:\n",
        "                # print(t1)\n",
        "                datas['train'].append(home+t1)\n",
        "            if 'tsxgb' in t1:\n",
        "                datas['test'].append(home+t1)\n",
        "datas"
      ]
    },
    {
      "cell_type": "code",
      "execution_count": null,
      "metadata": {
        "id": "zKMdE0J8b-_9"
      },
      "outputs": [],
      "source": []
    },
    {
      "cell_type": "code",
      "execution_count": null,
      "metadata": {
        "id": "Ec8sseRhc1BI"
      },
      "outputs": [],
      "source": [
        "train = pd.DataFrame()\n",
        "test = pd.DataFrame()\n"
      ]
    },
    {
      "cell_type": "code",
      "execution_count": null,
      "metadata": {
        "colab": {
          "base_uri": "https://localhost:8080/",
          "height": 195
        },
        "id": "22eqFExAb5hd",
        "outputId": "ba465f54-fbb3-42d6-fc7f-71fcddc5ebaa"
      },
      "outputs": [
        {
          "data": {
            "application/vnd.google.colaboratory.intrinsic+json": {
              "summary": "{\n  \"name\": \"test\",\n  \"rows\": 4,\n  \"fields\": [\n    {\n      \"column\": \"OriginalSSO+RandomFarest\",\n      \"properties\": {\n        \"dtype\": \"number\",\n        \"std\": 0.003123556513543079,\n        \"min\": 0.9804221720915244,\n        \"max\": 0.9871732026143791,\n        \"num_unique_values\": 4,\n        \"samples\": [\n          0.9804221720915244,\n          0.9837209302325581,\n          0.9867109634551495\n        ],\n        \"semantic_type\": \"\",\n        \"description\": \"\"\n      }\n    },\n    {\n      \"column\": \"OriginalSSpiderA+RandomFarest\",\n      \"properties\": {\n        \"dtype\": \"number\",\n        \"std\": 0.0018069543606940206,\n        \"min\": 0.9860465116279069,\n        \"max\": 0.9900332225913622,\n        \"num_unique_values\": 4,\n        \"samples\": [\n          0.9860465116279069,\n          0.9877477917531647,\n          0.9900332225913622\n        ],\n        \"semantic_type\": \"\",\n        \"description\": \"\"\n      }\n    },\n    {\n      \"column\": \"DevSSA+RandomFarest\",\n      \"properties\": {\n        \"dtype\": \"number\",\n        \"std\": 0.0015116915663237979,\n        \"min\": 0.9941176470588236,\n        \"max\": 0.9976958525345623,\n        \"num_unique_values\": 4,\n        \"samples\": [\n          0.9976958525345623,\n          0.9958866857072577,\n          0.9966777408637874\n        ],\n        \"semantic_type\": \"\",\n        \"description\": \"\"\n      }\n    },\n    {\n      \"column\": \"EnhancedTWO+RandomFarest\",\n      \"properties\": {\n        \"dtype\": \"number\",\n        \"std\": 0.002894123306772033,\n        \"min\": 0.9885057471264368,\n        \"max\": 0.9953703703703703,\n        \"num_unique_values\": 4,\n        \"samples\": [\n          0.9885057471264368,\n          0.991860465116279,\n          0.9933554817275747\n        ],\n        \"semantic_type\": \"\",\n        \"description\": \"\"\n      }\n    },\n    {\n      \"column\": \"OriginalWDO+RandomFarest\",\n      \"properties\": {\n        \"dtype\": \"number\",\n        \"std\": 0.002894123306772033,\n        \"min\": 0.9885057471264368,\n        \"max\": 0.9953703703703703,\n        \"num_unique_values\": 4,\n        \"samples\": [\n          0.9885057471264368,\n          0.991860465116279,\n          0.9933554817275747\n        ],\n        \"semantic_type\": \"\",\n        \"description\": \"\"\n      }\n    },\n    {\n      \"column\": \"LevyTWO+RandomFarest\",\n      \"properties\": {\n        \"dtype\": \"number\",\n        \"std\": 0.0,\n        \"min\": 1.0,\n        \"max\": 1.0,\n        \"num_unique_values\": 1,\n        \"samples\": [\n          1.0\n        ],\n        \"semantic_type\": \"\",\n        \"description\": \"\"\n      }\n    }\n  ]\n}",
              "type": "dataframe",
              "variable_name": "test"
            },
            "text/html": [
              "\n",
              "  <div id=\"df-a7cfdccc-0381-40be-81ea-610bf3f00475\" class=\"colab-df-container\">\n",
              "    <div>\n",
              "<style scoped>\n",
              "    .dataframe tbody tr th:only-of-type {\n",
              "        vertical-align: middle;\n",
              "    }\n",
              "\n",
              "    .dataframe tbody tr th {\n",
              "        vertical-align: top;\n",
              "    }\n",
              "\n",
              "    .dataframe thead th {\n",
              "        text-align: right;\n",
              "    }\n",
              "</style>\n",
              "<table border=\"1\" class=\"dataframe\">\n",
              "  <thead>\n",
              "    <tr style=\"text-align: right;\">\n",
              "      <th></th>\n",
              "      <th>OriginalSSO+RandomFarest</th>\n",
              "      <th>OriginalSSpiderA+RandomFarest</th>\n",
              "      <th>DevSSA+RandomFarest</th>\n",
              "      <th>EnhancedTWO+RandomFarest</th>\n",
              "      <th>OriginalWDO+RandomFarest</th>\n",
              "      <th>LevyTWO+RandomFarest</th>\n",
              "    </tr>\n",
              "  </thead>\n",
              "  <tbody>\n",
              "    <tr>\n",
              "      <th>0</th>\n",
              "      <td>0.986711</td>\n",
              "      <td>0.990033</td>\n",
              "      <td>0.996678</td>\n",
              "      <td>0.993355</td>\n",
              "      <td>0.993355</td>\n",
              "      <td>1.0</td>\n",
              "    </tr>\n",
              "    <tr>\n",
              "      <th>1</th>\n",
              "      <td>0.980422</td>\n",
              "      <td>0.986047</td>\n",
              "      <td>0.997696</td>\n",
              "      <td>0.988506</td>\n",
              "      <td>0.988506</td>\n",
              "      <td>1.0</td>\n",
              "    </tr>\n",
              "    <tr>\n",
              "      <th>2</th>\n",
              "      <td>0.987173</td>\n",
              "      <td>0.989488</td>\n",
              "      <td>0.994118</td>\n",
              "      <td>0.995370</td>\n",
              "      <td>0.995370</td>\n",
              "      <td>1.0</td>\n",
              "    </tr>\n",
              "    <tr>\n",
              "      <th>3</th>\n",
              "      <td>0.983721</td>\n",
              "      <td>0.987748</td>\n",
              "      <td>0.995887</td>\n",
              "      <td>0.991860</td>\n",
              "      <td>0.991860</td>\n",
              "      <td>1.0</td>\n",
              "    </tr>\n",
              "  </tbody>\n",
              "</table>\n",
              "</div>\n",
              "    <div class=\"colab-df-buttons\">\n",
              "\n",
              "  <div class=\"colab-df-container\">\n",
              "    <button class=\"colab-df-convert\" onclick=\"convertToInteractive('df-a7cfdccc-0381-40be-81ea-610bf3f00475')\"\n",
              "            title=\"Convert this dataframe to an interactive table.\"\n",
              "            style=\"display:none;\">\n",
              "\n",
              "  <svg xmlns=\"http://www.w3.org/2000/svg\" height=\"24px\" viewBox=\"0 -960 960 960\">\n",
              "    <path d=\"M120-120v-720h720v720H120Zm60-500h600v-160H180v160Zm220 220h160v-160H400v160Zm0 220h160v-160H400v160ZM180-400h160v-160H180v160Zm440 0h160v-160H620v160ZM180-180h160v-160H180v160Zm440 0h160v-160H620v160Z\"/>\n",
              "  </svg>\n",
              "    </button>\n",
              "\n",
              "  <style>\n",
              "    .colab-df-container {\n",
              "      display:flex;\n",
              "      gap: 12px;\n",
              "    }\n",
              "\n",
              "    .colab-df-convert {\n",
              "      background-color: #E8F0FE;\n",
              "      border: none;\n",
              "      border-radius: 50%;\n",
              "      cursor: pointer;\n",
              "      display: none;\n",
              "      fill: #1967D2;\n",
              "      height: 32px;\n",
              "      padding: 0 0 0 0;\n",
              "      width: 32px;\n",
              "    }\n",
              "\n",
              "    .colab-df-convert:hover {\n",
              "      background-color: #E2EBFA;\n",
              "      box-shadow: 0px 1px 2px rgba(60, 64, 67, 0.3), 0px 1px 3px 1px rgba(60, 64, 67, 0.15);\n",
              "      fill: #174EA6;\n",
              "    }\n",
              "\n",
              "    .colab-df-buttons div {\n",
              "      margin-bottom: 4px;\n",
              "    }\n",
              "\n",
              "    [theme=dark] .colab-df-convert {\n",
              "      background-color: #3B4455;\n",
              "      fill: #D2E3FC;\n",
              "    }\n",
              "\n",
              "    [theme=dark] .colab-df-convert:hover {\n",
              "      background-color: #434B5C;\n",
              "      box-shadow: 0px 1px 3px 1px rgba(0, 0, 0, 0.15);\n",
              "      filter: drop-shadow(0px 1px 2px rgba(0, 0, 0, 0.3));\n",
              "      fill: #FFFFFF;\n",
              "    }\n",
              "  </style>\n",
              "\n",
              "    <script>\n",
              "      const buttonEl =\n",
              "        document.querySelector('#df-a7cfdccc-0381-40be-81ea-610bf3f00475 button.colab-df-convert');\n",
              "      buttonEl.style.display =\n",
              "        google.colab.kernel.accessAllowed ? 'block' : 'none';\n",
              "\n",
              "      async function convertToInteractive(key) {\n",
              "        const element = document.querySelector('#df-a7cfdccc-0381-40be-81ea-610bf3f00475');\n",
              "        const dataTable =\n",
              "          await google.colab.kernel.invokeFunction('convertToInteractive',\n",
              "                                                    [key], {});\n",
              "        if (!dataTable) return;\n",
              "\n",
              "        const docLinkHtml = 'Like what you see? Visit the ' +\n",
              "          '<a target=\"_blank\" href=https://colab.research.google.com/notebooks/data_table.ipynb>data table notebook</a>'\n",
              "          + ' to learn more about interactive tables.';\n",
              "        element.innerHTML = '';\n",
              "        dataTable['output_type'] = 'display_data';\n",
              "        await google.colab.output.renderOutput(dataTable, element);\n",
              "        const docLink = document.createElement('div');\n",
              "        docLink.innerHTML = docLinkHtml;\n",
              "        element.appendChild(docLink);\n",
              "      }\n",
              "    </script>\n",
              "  </div>\n",
              "\n",
              "\n",
              "<div id=\"df-2a136884-808b-49d7-b000-9ffffe4879b4\">\n",
              "  <button class=\"colab-df-quickchart\" onclick=\"quickchart('df-2a136884-808b-49d7-b000-9ffffe4879b4')\"\n",
              "            title=\"Suggest charts\"\n",
              "            style=\"display:none;\">\n",
              "\n",
              "<svg xmlns=\"http://www.w3.org/2000/svg\" height=\"24px\"viewBox=\"0 0 24 24\"\n",
              "     width=\"24px\">\n",
              "    <g>\n",
              "        <path d=\"M19 3H5c-1.1 0-2 .9-2 2v14c0 1.1.9 2 2 2h14c1.1 0 2-.9 2-2V5c0-1.1-.9-2-2-2zM9 17H7v-7h2v7zm4 0h-2V7h2v10zm4 0h-2v-4h2v4z\"/>\n",
              "    </g>\n",
              "</svg>\n",
              "  </button>\n",
              "\n",
              "<style>\n",
              "  .colab-df-quickchart {\n",
              "      --bg-color: #E8F0FE;\n",
              "      --fill-color: #1967D2;\n",
              "      --hover-bg-color: #E2EBFA;\n",
              "      --hover-fill-color: #174EA6;\n",
              "      --disabled-fill-color: #AAA;\n",
              "      --disabled-bg-color: #DDD;\n",
              "  }\n",
              "\n",
              "  [theme=dark] .colab-df-quickchart {\n",
              "      --bg-color: #3B4455;\n",
              "      --fill-color: #D2E3FC;\n",
              "      --hover-bg-color: #434B5C;\n",
              "      --hover-fill-color: #FFFFFF;\n",
              "      --disabled-bg-color: #3B4455;\n",
              "      --disabled-fill-color: #666;\n",
              "  }\n",
              "\n",
              "  .colab-df-quickchart {\n",
              "    background-color: var(--bg-color);\n",
              "    border: none;\n",
              "    border-radius: 50%;\n",
              "    cursor: pointer;\n",
              "    display: none;\n",
              "    fill: var(--fill-color);\n",
              "    height: 32px;\n",
              "    padding: 0;\n",
              "    width: 32px;\n",
              "  }\n",
              "\n",
              "  .colab-df-quickchart:hover {\n",
              "    background-color: var(--hover-bg-color);\n",
              "    box-shadow: 0 1px 2px rgba(60, 64, 67, 0.3), 0 1px 3px 1px rgba(60, 64, 67, 0.15);\n",
              "    fill: var(--button-hover-fill-color);\n",
              "  }\n",
              "\n",
              "  .colab-df-quickchart-complete:disabled,\n",
              "  .colab-df-quickchart-complete:disabled:hover {\n",
              "    background-color: var(--disabled-bg-color);\n",
              "    fill: var(--disabled-fill-color);\n",
              "    box-shadow: none;\n",
              "  }\n",
              "\n",
              "  .colab-df-spinner {\n",
              "    border: 2px solid var(--fill-color);\n",
              "    border-color: transparent;\n",
              "    border-bottom-color: var(--fill-color);\n",
              "    animation:\n",
              "      spin 1s steps(1) infinite;\n",
              "  }\n",
              "\n",
              "  @keyframes spin {\n",
              "    0% {\n",
              "      border-color: transparent;\n",
              "      border-bottom-color: var(--fill-color);\n",
              "      border-left-color: var(--fill-color);\n",
              "    }\n",
              "    20% {\n",
              "      border-color: transparent;\n",
              "      border-left-color: var(--fill-color);\n",
              "      border-top-color: var(--fill-color);\n",
              "    }\n",
              "    30% {\n",
              "      border-color: transparent;\n",
              "      border-left-color: var(--fill-color);\n",
              "      border-top-color: var(--fill-color);\n",
              "      border-right-color: var(--fill-color);\n",
              "    }\n",
              "    40% {\n",
              "      border-color: transparent;\n",
              "      border-right-color: var(--fill-color);\n",
              "      border-top-color: var(--fill-color);\n",
              "    }\n",
              "    60% {\n",
              "      border-color: transparent;\n",
              "      border-right-color: var(--fill-color);\n",
              "    }\n",
              "    80% {\n",
              "      border-color: transparent;\n",
              "      border-right-color: var(--fill-color);\n",
              "      border-bottom-color: var(--fill-color);\n",
              "    }\n",
              "    90% {\n",
              "      border-color: transparent;\n",
              "      border-bottom-color: var(--fill-color);\n",
              "    }\n",
              "  }\n",
              "</style>\n",
              "\n",
              "  <script>\n",
              "    async function quickchart(key) {\n",
              "      const quickchartButtonEl =\n",
              "        document.querySelector('#' + key + ' button');\n",
              "      quickchartButtonEl.disabled = true;  // To prevent multiple clicks.\n",
              "      quickchartButtonEl.classList.add('colab-df-spinner');\n",
              "      try {\n",
              "        const charts = await google.colab.kernel.invokeFunction(\n",
              "            'suggestCharts', [key], {});\n",
              "      } catch (error) {\n",
              "        console.error('Error during call to suggestCharts:', error);\n",
              "      }\n",
              "      quickchartButtonEl.classList.remove('colab-df-spinner');\n",
              "      quickchartButtonEl.classList.add('colab-df-quickchart-complete');\n",
              "    }\n",
              "    (() => {\n",
              "      let quickchartButtonEl =\n",
              "        document.querySelector('#df-2a136884-808b-49d7-b000-9ffffe4879b4 button');\n",
              "      quickchartButtonEl.style.display =\n",
              "        google.colab.kernel.accessAllowed ? 'block' : 'none';\n",
              "    })();\n",
              "  </script>\n",
              "</div>\n",
              "    </div>\n",
              "  </div>\n"
            ],
            "text/plain": [
              "   OriginalSSO+RandomFarest  OriginalSSpiderA+RandomFarest  \\\n",
              "0                  0.986711                       0.990033   \n",
              "1                  0.980422                       0.986047   \n",
              "2                  0.987173                       0.989488   \n",
              "3                  0.983721                       0.987748   \n",
              "\n",
              "   DevSSA+RandomFarest  EnhancedTWO+RandomFarest  OriginalWDO+RandomFarest  \\\n",
              "0             0.996678                  0.993355                  0.993355   \n",
              "1             0.997696                  0.988506                  0.988506   \n",
              "2             0.994118                  0.995370                  0.995370   \n",
              "3             0.995887                  0.991860                  0.991860   \n",
              "\n",
              "   LevyTWO+RandomFarest  \n",
              "0                   1.0  \n",
              "1                   1.0  \n",
              "2                   1.0  \n",
              "3                   1.0  "
            ]
          },
          "execution_count": 73,
          "metadata": {},
          "output_type": "execute_result"
        }
      ],
      "source": [
        "for data in datas['test']:\n",
        "    dat = pd.read_csv(data)\n",
        "    y1,y2 = dat['train'].to_numpy(),dat['val'].to_numpy()\n",
        "    acc = accuracy_score(y_pred=y1,y_true=y2)\n",
        "    pre = precision_score(y_pred=y1,y_true=y2,average='macro')\n",
        "    rec = recall_score(y_pred=y1,y_true=y2,average='macro')\n",
        "    f1 = f1_score(y_pred=y1,y_true=y2,average='macro')\n",
        "    name = data.split('/')[-1].split('_')[-1].split('.')[0]+'+RandomFarest'\n",
        "    test[name] = [acc,pre,rec,f1]\n",
        "test"
      ]
    },
    {
      "cell_type": "code",
      "execution_count": null,
      "metadata": {
        "colab": {
          "base_uri": "https://localhost:8080/"
        },
        "id": "5aA_58wqeXMW",
        "outputId": "3ae4e0d0-bc20-49f9-e99d-4a89968aed59"
      },
      "outputs": [
        {
          "data": {
            "text/plain": [
              "Index(['Accuracy', 'Precision', 'Recall', 'F1'], dtype='object', name='metrics')"
            ]
          },
          "execution_count": 77,
          "metadata": {},
          "output_type": "execute_result"
        }
      ],
      "source": [
        "dgt.index"
      ]
    },
    {
      "cell_type": "code",
      "execution_count": null,
      "metadata": {
        "id": "ljhvZVjueR8r"
      },
      "outputs": [],
      "source": [
        "train.index=dgt.index\n",
        "test.index=dgt.index\n"
      ]
    },
    {
      "cell_type": "code",
      "execution_count": null,
      "metadata": {
        "id": "fxWJ75p4h6lT"
      },
      "outputs": [],
      "source": [
        "test.drop('OriginalWDO+RandomFarest',axis=1,inplace=True)\n",
        "train.drop('OriginalWDO+RandomFarest',axis=1,inplace=True)\n",
        "full.drop('OriginalWDO+RandomFarest',axis=1,inplace=True)\n"
      ]
    },
    {
      "cell_type": "code",
      "execution_count": null,
      "metadata": {
        "id": "1fE2R5S6iCCY"
      },
      "outputs": [],
      "source": [
        "path = './'\n",
        "home = path"
      ]
    },
    {
      "cell_type": "code",
      "execution_count": null,
      "metadata": {
        "colab": {
          "base_uri": "https://localhost:8080/",
          "height": 455
        },
        "id": "XAQ654EQeK-l",
        "outputId": "ce374d31-5ed8-43a7-e340-6f20b1ea78a4"
      },
      "outputs": [
        {
          "data": {
            "image/png": "[encoded data removed]",
            "text/plain": [
              "<Figure size 640x480 with 1 Axes>"
            ]
          },
          "metadata": {},
          "output_type": "display_data"
        }
      ],
      "source": [
        "train.plot(kind='bar')\n",
        "plt.xticks(rotation=0)\n",
        "plt.ylim(0.9,1.2)\n",
        "plt.savefig(f'{path}finalresultsontrain.png',bbox_inches='tight')\n",
        "train.to_csv(f'{path}finalresultsontrain.csv')"
      ]
    },
    {
      "cell_type": "code",
      "execution_count": null,
      "metadata": {
        "id": "a13XAyG4fCRp"
      },
      "outputs": [],
      "source": [
        "full = pd.merge(dgt,test,on=dgt.index)"
      ]
    },
    {
      "cell_type": "code",
      "execution_count": null,
      "metadata": {
        "id": "QRXz_1YUgj8T"
      },
      "outputs": [],
      "source": [
        "full.index = dgt.index"
      ]
    },
    {
      "cell_type": "code",
      "execution_count": null,
      "metadata": {
        "colab": {
          "base_uri": "https://localhost:8080/",
          "height": 449
        },
        "id": "XaA2K5itgmJr",
        "outputId": "a2a8e05e-f14f-4bab-ddc6-20a3dd4dcab0"
      },
      "outputs": [
        {
          "data": {
            "image/png": "[encoded data removed]",
            "text/plain": [
              "<Figure size 640x480 with 1 Axes>"
            ]
          },
          "metadata": {},
          "output_type": "display_data"
        }
      ],
      "source": [
        "full.plot(kind='bar')\n",
        "plt.xticks(rotation=0)\n",
        "# plt.ylim(0.9,1.2)\n",
        "plt.savefig(f'{path}finalresultsonfull.png',bbox_inches='tight')\n",
        "full.to_csv(f'{path}finalresultsonfull.csv')"
      ]
    },
    {
      "cell_type": "code",
      "execution_count": null,
      "metadata": {
        "colab": {
          "base_uri": "https://localhost:8080/",
          "height": 373
        },
        "id": "VaFRCObXgoeZ",
        "outputId": "77cf5bb1-66e2-4430-d881-102cc288c6a0"
      },
      "outputs": [
        {
          "ename": "KeyError",
          "evalue": "\"['key_0'] not found in axis\"",
          "output_type": "error",
          "traceback": [
            "\u001b[0;31m---------------------------------------------------------------------------\u001b[0m",
            "\u001b[0;31mKeyError\u001b[0m                                  Traceback (most recent call last)",
            "\u001b[0;32m<ipython-input-98-260e898e160a>\u001b[0m in \u001b[0;36m<cell line: 1>\u001b[0;34m()\u001b[0m\n\u001b[0;32m----> 1\u001b[0;31m \u001b[0mfull\u001b[0m\u001b[0;34m.\u001b[0m\u001b[0mdrop\u001b[0m\u001b[0;34m(\u001b[0m\u001b[0;34m'key_0'\u001b[0m\u001b[0;34m,\u001b[0m\u001b[0maxis\u001b[0m\u001b[0;34m=\u001b[0m\u001b[0;36m1\u001b[0m\u001b[0;34m,\u001b[0m\u001b[0minplace\u001b[0m\u001b[0;34m=\u001b[0m\u001b[0;32mTrue\u001b[0m\u001b[0;34m)\u001b[0m\u001b[0;34m\u001b[0m\u001b[0;34m\u001b[0m\u001b[0m\n\u001b[0m",
            "\u001b[0;32m/usr/local/lib/python3.10/dist-packages/pandas/util/_decorators.py\u001b[0m in \u001b[0;36mwrapper\u001b[0;34m(*args, **kwargs)\u001b[0m\n\u001b[1;32m    329\u001b[0m                     \u001b[0mstacklevel\u001b[0m\u001b[0;34m=\u001b[0m\u001b[0mfind_stack_level\u001b[0m\u001b[0;34m(\u001b[0m\u001b[0;34m)\u001b[0m\u001b[0;34m,\u001b[0m\u001b[0;34m\u001b[0m\u001b[0;34m\u001b[0m\u001b[0m\n\u001b[1;32m    330\u001b[0m                 )\n\u001b[0;32m--> 331\u001b[0;31m             \u001b[0;32mreturn\u001b[0m \u001b[0mfunc\u001b[0m\u001b[0;34m(\u001b[0m\u001b[0;34m*\u001b[0m\u001b[0margs\u001b[0m\u001b[0;34m,\u001b[0m \u001b[0;34m**\u001b[0m\u001b[0mkwargs\u001b[0m\u001b[0;34m)\u001b[0m\u001b[0;34m\u001b[0m\u001b[0;34m\u001b[0m\u001b[0m\n\u001b[0m\u001b[1;32m    332\u001b[0m \u001b[0;34m\u001b[0m\u001b[0m\n\u001b[1;32m    333\u001b[0m         \u001b[0;31m# error: \"Callable[[VarArg(Any), KwArg(Any)], Any]\" has no\u001b[0m\u001b[0;34m\u001b[0m\u001b[0;34m\u001b[0m\u001b[0m\n",
            "\u001b[0;32m/usr/local/lib/python3.10/dist-packages/pandas/core/frame.py\u001b[0m in \u001b[0;36mdrop\u001b[0;34m(self, labels, axis, index, columns, level, inplace, errors)\u001b[0m\n\u001b[1;32m   5397\u001b[0m                 \u001b[0mweight\u001b[0m  \u001b[0;36m1.0\u001b[0m     \u001b[0;36m0.8\u001b[0m\u001b[0;34m\u001b[0m\u001b[0;34m\u001b[0m\u001b[0m\n\u001b[1;32m   5398\u001b[0m         \"\"\"\n\u001b[0;32m-> 5399\u001b[0;31m         return super().drop(\n\u001b[0m\u001b[1;32m   5400\u001b[0m             \u001b[0mlabels\u001b[0m\u001b[0;34m=\u001b[0m\u001b[0mlabels\u001b[0m\u001b[0;34m,\u001b[0m\u001b[0;34m\u001b[0m\u001b[0;34m\u001b[0m\u001b[0m\n\u001b[1;32m   5401\u001b[0m             \u001b[0maxis\u001b[0m\u001b[0;34m=\u001b[0m\u001b[0maxis\u001b[0m\u001b[0;34m,\u001b[0m\u001b[0;34m\u001b[0m\u001b[0;34m\u001b[0m\u001b[0m\n",
            "\u001b[0;32m/usr/local/lib/python3.10/dist-packages/pandas/util/_decorators.py\u001b[0m in \u001b[0;36mwrapper\u001b[0;34m(*args, **kwargs)\u001b[0m\n\u001b[1;32m    329\u001b[0m                     \u001b[0mstacklevel\u001b[0m\u001b[0;34m=\u001b[0m\u001b[0mfind_stack_level\u001b[0m\u001b[0;34m(\u001b[0m\u001b[0;34m)\u001b[0m\u001b[0;34m,\u001b[0m\u001b[0;34m\u001b[0m\u001b[0;34m\u001b[0m\u001b[0m\n\u001b[1;32m    330\u001b[0m                 )\n\u001b[0;32m--> 331\u001b[0;31m             \u001b[0;32mreturn\u001b[0m \u001b[0mfunc\u001b[0m\u001b[0;34m(\u001b[0m\u001b[0;34m*\u001b[0m\u001b[0margs\u001b[0m\u001b[0;34m,\u001b[0m \u001b[0;34m**\u001b[0m\u001b[0mkwargs\u001b[0m\u001b[0;34m)\u001b[0m\u001b[0;34m\u001b[0m\u001b[0;34m\u001b[0m\u001b[0m\n\u001b[0m\u001b[1;32m    332\u001b[0m \u001b[0;34m\u001b[0m\u001b[0m\n\u001b[1;32m    333\u001b[0m         \u001b[0;31m# error: \"Callable[[VarArg(Any), KwArg(Any)], Any]\" has no\u001b[0m\u001b[0;34m\u001b[0m\u001b[0;34m\u001b[0m\u001b[0m\n",
            "\u001b[0;32m/usr/local/lib/python3.10/dist-packages/pandas/core/generic.py\u001b[0m in \u001b[0;36mdrop\u001b[0;34m(self, labels, axis, index, columns, level, inplace, errors)\u001b[0m\n\u001b[1;32m   4503\u001b[0m         \u001b[0;32mfor\u001b[0m \u001b[0maxis\u001b[0m\u001b[0;34m,\u001b[0m \u001b[0mlabels\u001b[0m \u001b[0;32min\u001b[0m \u001b[0maxes\u001b[0m\u001b[0;34m.\u001b[0m\u001b[0mitems\u001b[0m\u001b[0;34m(\u001b[0m\u001b[0;34m)\u001b[0m\u001b[0;34m:\u001b[0m\u001b[0;34m\u001b[0m\u001b[0;34m\u001b[0m\u001b[0m\n\u001b[1;32m   4504\u001b[0m             \u001b[0;32mif\u001b[0m \u001b[0mlabels\u001b[0m \u001b[0;32mis\u001b[0m \u001b[0;32mnot\u001b[0m \u001b[0;32mNone\u001b[0m\u001b[0;34m:\u001b[0m\u001b[0;34m\u001b[0m\u001b[0;34m\u001b[0m\u001b[0m\n\u001b[0;32m-> 4505\u001b[0;31m                 \u001b[0mobj\u001b[0m \u001b[0;34m=\u001b[0m \u001b[0mobj\u001b[0m\u001b[0;34m.\u001b[0m\u001b[0m_drop_axis\u001b[0m\u001b[0;34m(\u001b[0m\u001b[0mlabels\u001b[0m\u001b[0;34m,\u001b[0m \u001b[0maxis\u001b[0m\u001b[0;34m,\u001b[0m \u001b[0mlevel\u001b[0m\u001b[0;34m=\u001b[0m\u001b[0mlevel\u001b[0m\u001b[0;34m,\u001b[0m \u001b[0merrors\u001b[0m\u001b[0;34m=\u001b[0m\u001b[0merrors\u001b[0m\u001b[0;34m)\u001b[0m\u001b[0;34m\u001b[0m\u001b[0;34m\u001b[0m\u001b[0m\n\u001b[0m\u001b[1;32m   4506\u001b[0m \u001b[0;34m\u001b[0m\u001b[0m\n\u001b[1;32m   4507\u001b[0m         \u001b[0;32mif\u001b[0m \u001b[0minplace\u001b[0m\u001b[0;34m:\u001b[0m\u001b[0;34m\u001b[0m\u001b[0;34m\u001b[0m\u001b[0m\n",
            "\u001b[0;32m/usr/local/lib/python3.10/dist-packages/pandas/core/generic.py\u001b[0m in \u001b[0;36m_drop_axis\u001b[0;34m(self, labels, axis, level, errors, only_slice)\u001b[0m\n\u001b[1;32m   4544\u001b[0m                 \u001b[0mnew_axis\u001b[0m \u001b[0;34m=\u001b[0m \u001b[0maxis\u001b[0m\u001b[0;34m.\u001b[0m\u001b[0mdrop\u001b[0m\u001b[0;34m(\u001b[0m\u001b[0mlabels\u001b[0m\u001b[0;34m,\u001b[0m \u001b[0mlevel\u001b[0m\u001b[0;34m=\u001b[0m\u001b[0mlevel\u001b[0m\u001b[0;34m,\u001b[0m \u001b[0merrors\u001b[0m\u001b[0;34m=\u001b[0m\u001b[0merrors\u001b[0m\u001b[0;34m)\u001b[0m\u001b[0;34m\u001b[0m\u001b[0;34m\u001b[0m\u001b[0m\n\u001b[1;32m   4545\u001b[0m             \u001b[0;32melse\u001b[0m\u001b[0;34m:\u001b[0m\u001b[0;34m\u001b[0m\u001b[0;34m\u001b[0m\u001b[0m\n\u001b[0;32m-> 4546\u001b[0;31m                 \u001b[0mnew_axis\u001b[0m \u001b[0;34m=\u001b[0m \u001b[0maxis\u001b[0m\u001b[0;34m.\u001b[0m\u001b[0mdrop\u001b[0m\u001b[0;34m(\u001b[0m\u001b[0mlabels\u001b[0m\u001b[0;34m,\u001b[0m \u001b[0merrors\u001b[0m\u001b[0;34m=\u001b[0m\u001b[0merrors\u001b[0m\u001b[0;34m)\u001b[0m\u001b[0;34m\u001b[0m\u001b[0;34m\u001b[0m\u001b[0m\n\u001b[0m\u001b[1;32m   4547\u001b[0m             \u001b[0mindexer\u001b[0m \u001b[0;34m=\u001b[0m \u001b[0maxis\u001b[0m\u001b[0;34m.\u001b[0m\u001b[0mget_indexer\u001b[0m\u001b[0;34m(\u001b[0m\u001b[0mnew_axis\u001b[0m\u001b[0;34m)\u001b[0m\u001b[0;34m\u001b[0m\u001b[0;34m\u001b[0m\u001b[0m\n\u001b[1;32m   4548\u001b[0m \u001b[0;34m\u001b[0m\u001b[0m\n",
            "\u001b[0;32m/usr/local/lib/python3.10/dist-packages/pandas/core/indexes/base.py\u001b[0m in \u001b[0;36mdrop\u001b[0;34m(self, labels, errors)\u001b[0m\n\u001b[1;32m   6932\u001b[0m         \u001b[0;32mif\u001b[0m \u001b[0mmask\u001b[0m\u001b[0;34m.\u001b[0m\u001b[0many\u001b[0m\u001b[0;34m(\u001b[0m\u001b[0;34m)\u001b[0m\u001b[0;34m:\u001b[0m\u001b[0;34m\u001b[0m\u001b[0;34m\u001b[0m\u001b[0m\n\u001b[1;32m   6933\u001b[0m             \u001b[0;32mif\u001b[0m \u001b[0merrors\u001b[0m \u001b[0;34m!=\u001b[0m \u001b[0;34m\"ignore\"\u001b[0m\u001b[0;34m:\u001b[0m\u001b[0;34m\u001b[0m\u001b[0;34m\u001b[0m\u001b[0m\n\u001b[0;32m-> 6934\u001b[0;31m                 \u001b[0;32mraise\u001b[0m \u001b[0mKeyError\u001b[0m\u001b[0;34m(\u001b[0m\u001b[0;34mf\"{list(labels[mask])} not found in axis\"\u001b[0m\u001b[0;34m)\u001b[0m\u001b[0;34m\u001b[0m\u001b[0;34m\u001b[0m\u001b[0m\n\u001b[0m\u001b[1;32m   6935\u001b[0m             \u001b[0mindexer\u001b[0m \u001b[0;34m=\u001b[0m \u001b[0mindexer\u001b[0m\u001b[0;34m[\u001b[0m\u001b[0;34m~\u001b[0m\u001b[0mmask\u001b[0m\u001b[0;34m]\u001b[0m\u001b[0;34m\u001b[0m\u001b[0;34m\u001b[0m\u001b[0m\n\u001b[1;32m   6936\u001b[0m         \u001b[0;32mreturn\u001b[0m \u001b[0mself\u001b[0m\u001b[0;34m.\u001b[0m\u001b[0mdelete\u001b[0m\u001b[0;34m(\u001b[0m\u001b[0mindexer\u001b[0m\u001b[0;34m)\u001b[0m\u001b[0;34m\u001b[0m\u001b[0;34m\u001b[0m\u001b[0m\n",
            "\u001b[0;31mKeyError\u001b[0m: \"['key_0'] not found in axis\""
          ]
        }
      ],
      "source": [
        "# full.drop('key_0',axis=1,inplace=True)\n"
      ]
    },
    {
      "cell_type": "code",
      "execution_count": null,
      "metadata": {
        "id": "iIqtQSdWe859"
      },
      "outputs": [],
      "source": [
        "dgt.drop('metrics',axis=1,inplace=True)"
      ]
    },
    {
      "cell_type": "code",
      "execution_count": null,
      "metadata": {
        "colab": {
          "base_uri": "https://localhost:8080/",
          "height": 35
        },
        "id": "UMeT0byXiYBx",
        "outputId": "b4a089b9-888e-4003-f9f1-9208415650bb"
      },
      "outputs": [
        {
          "data": {
            "application/vnd.google.colaboratory.intrinsic+json": {
              "type": "string"
            },
            "text/plain": [
              "'./'"
            ]
          },
          "execution_count": 110,
          "metadata": {},
          "output_type": "execute_result"
        }
      ],
      "source": [
        "home"
      ]
    },
    {
      "cell_type": "code",
      "execution_count": null,
      "metadata": {
        "id": "j2XINjrueI1C"
      },
      "outputs": [],
      "source": [
        "ssd.plot(kind='bar')\n",
        "# plt.xlim(0.2,1.2)\n",
        "plt.savefig(f'{path}res2.png',bbox_inches='tight')\n",
        "dgt.to_csv(f'{path}res2.csv')"
      ]
    },
    {
      "cell_type": "code",
      "execution_count": null,
      "metadata": {
        "id": "wA8mbWdZd8zm"
      },
      "outputs": [],
      "source": [
        "train.to_csv(f'{home}train.csv')\n",
        "test.to_csv(f'{home}test.csv')\n"
      ]
    },
    {
      "cell_type": "code",
      "source": [
        "pathm = '/content/drive/MyDrive/work 69 brain/models/'"
      ],
      "metadata": {
        "id": "BuNt_JGeTh53"
      },
      "execution_count": null,
      "outputs": []
    },
    {
      "cell_type": "code",
      "execution_count": null,
      "metadata": {
        "id": "ogysNP_6d35w"
      },
      "outputs": [],
      "source": [
        "class ETROptimizedProblem(Problem):\n",
        "    def __init__(self, bounds=None, minmax=\"max\", data=None, **kwargs):\n",
        "        self.data = data\n",
        "        super().__init__(bounds, minmax, **kwargs)\n",
        "\n",
        "    def obj_func(self, x):\n",
        "        # modelname = 'OriginalCRO'\n",
        "        x_decoded = self.decode_solution(x)\n",
        "        xgb = ExtraTreesClassifier(max_depth=x_decoded[\"maxdepth\"],n_estimators=x_decoded[\"nestimators\"]\n",
        "                                #    ,random_state=x_decoded['randomstate']\n",
        "                                   ,random_state = 8\n",
        "                                   )\n",
        "\n",
        "        xgb.fit(self.data[\"X_train\"], self.data[\"y_train\"])\n",
        "        y_predict = xgb.predict(self.data[\"X_test\"])\n",
        "        acc = accuracy_score(self.data[\"y_test\"], y_predict)\n",
        "        pre = precision_score(self.data[\"y_test\"], y_predict,average='macro')\n",
        "        rec = recall_score(self.data[\"y_test\"], y_predict,average='macro')\n",
        "        f1 = f1_score(self.data[\"y_test\"], y_predict,average='macro')\n",
        "\n",
        "        print(acc,pre,rec,f1,round(x_decoded[\"maxdepth\"]),round(x_decoded[\"maxdepth\"])\n",
        "        # ,round(x_decoded[\"maxdepth\"])\n",
        "        ,file=open(f'{pathm}{modelname}.txt','a'))\n",
        "        return accuracy_score(self.data[\"y_test\"], y_predict)\n",
        "\n",
        "my_bounds = [\n",
        "    IntegerVar(lb=2, ub=30, name=\"maxdepth\"),\n",
        "    IntegerVar(lb=10, ub=800, name=\"nestimators\"),\n",
        "    # IntegerVar(lb=0, ub=100, name=\"randomstate\"),\n",
        "]"
      ]
    },
    {
      "cell_type": "code",
      "source": [
        "XGBClassifier"
      ],
      "metadata": {
        "colab": {
          "base_uri": "https://localhost:8080/",
          "height": 187
        },
        "id": "j9OLXPHoQU_T",
        "outputId": "0a6d8d3f-fda8-43ad-d3f7-3b89d28ac78c"
      },
      "execution_count": null,
      "outputs": [
        {
          "output_type": "execute_result",
          "data": {
            "text/plain": [
              "xgboost.sklearn.XGBClassifier"
            ],
            "text/html": [
              "<div style=\"max-width:800px; border: 1px solid var(--colab-border-color);\"><style>\n",
              "      pre.function-repr-contents {\n",
              "        overflow-x: auto;\n",
              "        padding: 8px 12px;\n",
              "        max-height: 500px;\n",
              "      }\n",
              "\n",
              "      pre.function-repr-contents.function-repr-contents-collapsed {\n",
              "        cursor: pointer;\n",
              "        max-height: 100px;\n",
              "      }\n",
              "    </style>\n",
              "    <pre style=\"white-space: initial; background:\n",
              "         var(--colab-secondary-surface-color); padding: 8px 12px;\n",
              "         border-bottom: 1px solid var(--colab-border-color);\"><b>xgboost.sklearn.XGBClassifier</b><br/>def __init__(*, objective: SklObjective=&#x27;binary:logistic&#x27;, **kwargs: Any) -&gt; None</pre><pre class=\"function-repr-contents function-repr-contents-collapsed\" style=\"\"><a class=\"filepath\" style=\"display:none\" href=\"#\">/usr/local/lib/python3.10/dist-packages/xgboost/sklearn.py</a>Implementation of the scikit-learn API for XGBoost classification.\n",
              "See :doc:`/python/sklearn_estimator` for more information.\n",
              "\n",
              "Parameters\n",
              "----------\n",
              "\n",
              "    n_estimators : Optional[int]\n",
              "        Number of boosting rounds.\n",
              "\n",
              "    max_depth :  Optional[int]\n",
              "        Maximum tree depth for base learners.\n",
              "    max_leaves :\n",
              "        Maximum number of leaves; 0 indicates no limit.\n",
              "    max_bin :\n",
              "        If using histogram-based algorithm, maximum number of bins per feature\n",
              "    grow_policy :\n",
              "        Tree growing policy. 0: favor splitting at nodes closest to the node, i.e. grow\n",
              "        depth-wise. 1: favor splitting at nodes with highest loss change.\n",
              "    learning_rate : Optional[float]\n",
              "        Boosting learning rate (xgb&#x27;s &quot;eta&quot;)\n",
              "    verbosity : Optional[int]\n",
              "        The degree of verbosity. Valid values are 0 (silent) - 3 (debug).\n",
              "    objective : typing.Union[str, typing.Callable[[numpy.ndarray, numpy.ndarray], typing.Tuple[numpy.ndarray, numpy.ndarray]], NoneType]\n",
              "        Specify the learning task and the corresponding learning objective or\n",
              "        a custom objective function to be used (see note below).\n",
              "    booster: Optional[str]\n",
              "        Specify which booster to use: gbtree, gblinear or dart.\n",
              "    tree_method: Optional[str]\n",
              "        Specify which tree method to use.  Default to auto.  If this parameter is set to\n",
              "        default, XGBoost will choose the most conservative option available.  It&#x27;s\n",
              "        recommended to study this option from the parameters document :doc:`tree method\n",
              "        &lt;/treemethod&gt;`\n",
              "    n_jobs : Optional[int]\n",
              "        Number of parallel threads used to run xgboost.  When used with other\n",
              "        Scikit-Learn algorithms like grid search, you may choose which algorithm to\n",
              "        parallelize and balance the threads.  Creating thread contention will\n",
              "        significantly slow down both algorithms.\n",
              "    gamma : Optional[float]\n",
              "        (min_split_loss) Minimum loss reduction required to make a further partition on a\n",
              "        leaf node of the tree.\n",
              "    min_child_weight : Optional[float]\n",
              "        Minimum sum of instance weight(hessian) needed in a child.\n",
              "    max_delta_step : Optional[float]\n",
              "        Maximum delta step we allow each tree&#x27;s weight estimation to be.\n",
              "    subsample : Optional[float]\n",
              "        Subsample ratio of the training instance.\n",
              "    sampling_method :\n",
              "        Sampling method. Used only by the GPU version of ``hist`` tree method.\n",
              "          - ``uniform``: select random training instances uniformly.\n",
              "          - ``gradient_based`` select random training instances with higher probability\n",
              "            when the gradient and hessian are larger. (cf. CatBoost)\n",
              "    colsample_bytree : Optional[float]\n",
              "        Subsample ratio of columns when constructing each tree.\n",
              "    colsample_bylevel : Optional[float]\n",
              "        Subsample ratio of columns for each level.\n",
              "    colsample_bynode : Optional[float]\n",
              "        Subsample ratio of columns for each split.\n",
              "    reg_alpha : Optional[float]\n",
              "        L1 regularization term on weights (xgb&#x27;s alpha).\n",
              "    reg_lambda : Optional[float]\n",
              "        L2 regularization term on weights (xgb&#x27;s lambda).\n",
              "    scale_pos_weight : Optional[float]\n",
              "        Balancing of positive and negative weights.\n",
              "    base_score : Optional[float]\n",
              "        The initial prediction score of all instances, global bias.\n",
              "    random_state : Optional[Union[numpy.random.RandomState, int]]\n",
              "        Random number seed.\n",
              "\n",
              "        .. note::\n",
              "\n",
              "           Using gblinear booster with shotgun updater is nondeterministic as\n",
              "           it uses Hogwild algorithm.\n",
              "\n",
              "    missing : float, default np.nan\n",
              "        Value in the data which needs to be present as a missing value.\n",
              "    num_parallel_tree: Optional[int]\n",
              "        Used for boosting random forest.\n",
              "    monotone_constraints : Optional[Union[Dict[str, int], str]]\n",
              "        Constraint of variable monotonicity.  See :doc:`tutorial &lt;/tutorials/monotonic&gt;`\n",
              "        for more information.\n",
              "    interaction_constraints : Optional[Union[str, List[Tuple[str]]]]\n",
              "        Constraints for interaction representing permitted interactions.  The\n",
              "        constraints must be specified in the form of a nested list, e.g. ``[[0, 1], [2,\n",
              "        3, 4]]``, where each inner list is a group of indices of features that are\n",
              "        allowed to interact with each other.  See :doc:`tutorial\n",
              "        &lt;/tutorials/feature_interaction_constraint&gt;` for more information\n",
              "    importance_type: Optional[str]\n",
              "        The feature importance type for the feature_importances\\_ property:\n",
              "\n",
              "        * For tree model, it&#x27;s either &quot;gain&quot;, &quot;weight&quot;, &quot;cover&quot;, &quot;total_gain&quot; or\n",
              "          &quot;total_cover&quot;.\n",
              "        * For linear model, only &quot;weight&quot; is defined and it&#x27;s the normalized coefficients\n",
              "          without bias.\n",
              "\n",
              "    device : Optional[str]\n",
              "\n",
              "        .. versionadded:: 2.0.0\n",
              "\n",
              "        Device ordinal, available options are `cpu`, `cuda`, and `gpu`.\n",
              "\n",
              "    validate_parameters : Optional[bool]\n",
              "\n",
              "        Give warnings for unknown parameter.\n",
              "\n",
              "    enable_categorical : bool\n",
              "\n",
              "        .. versionadded:: 1.5.0\n",
              "\n",
              "        .. note:: This parameter is experimental\n",
              "\n",
              "        Experimental support for categorical data.  When enabled, cudf/pandas.DataFrame\n",
              "        should be used to specify categorical data type.  Also, JSON/UBJSON\n",
              "        serialization format is required.\n",
              "\n",
              "    feature_types : Optional[FeatureTypes]\n",
              "\n",
              "        .. versionadded:: 1.7.0\n",
              "\n",
              "        Used for specifying feature types without constructing a dataframe. See\n",
              "        :py:class:`DMatrix` for details.\n",
              "\n",
              "    max_cat_to_onehot : Optional[int]\n",
              "\n",
              "        .. versionadded:: 1.6.0\n",
              "\n",
              "        .. note:: This parameter is experimental\n",
              "\n",
              "        A threshold for deciding whether XGBoost should use one-hot encoding based split\n",
              "        for categorical data.  When number of categories is lesser than the threshold\n",
              "        then one-hot encoding is chosen, otherwise the categories will be partitioned\n",
              "        into children nodes. Also, `enable_categorical` needs to be set to have\n",
              "        categorical feature support. See :doc:`Categorical Data\n",
              "        &lt;/tutorials/categorical&gt;` and :ref:`cat-param` for details.\n",
              "\n",
              "    max_cat_threshold : Optional[int]\n",
              "\n",
              "        .. versionadded:: 1.7.0\n",
              "\n",
              "        .. note:: This parameter is experimental\n",
              "\n",
              "        Maximum number of categories considered for each split. Used only by\n",
              "        partition-based splits for preventing over-fitting. Also, `enable_categorical`\n",
              "        needs to be set to have categorical feature support. See :doc:`Categorical Data\n",
              "        &lt;/tutorials/categorical&gt;` and :ref:`cat-param` for details.\n",
              "\n",
              "    multi_strategy : Optional[str]\n",
              "\n",
              "        .. versionadded:: 2.0.0\n",
              "\n",
              "        .. note:: This parameter is working-in-progress.\n",
              "\n",
              "        The strategy used for training multi-target models, including multi-target\n",
              "        regression and multi-class classification. See :doc:`/tutorials/multioutput` for\n",
              "        more information.\n",
              "\n",
              "        - ``one_output_per_tree``: One model for each target.\n",
              "        - ``multi_output_tree``:  Use multi-target trees.\n",
              "\n",
              "    eval_metric : Optional[Union[str, List[str], Callable]]\n",
              "\n",
              "        .. versionadded:: 1.6.0\n",
              "\n",
              "        Metric used for monitoring the training result and early stopping.  It can be a\n",
              "        string or list of strings as names of predefined metric in XGBoost (See\n",
              "        doc/parameter.rst), one of the metrics in :py:mod:`sklearn.metrics`, or any other\n",
              "        user defined metric that looks like `sklearn.metrics`.\n",
              "\n",
              "        If custom objective is also provided, then custom metric should implement the\n",
              "        corresponding reverse link function.\n",
              "\n",
              "        Unlike the `scoring` parameter commonly used in scikit-learn, when a callable\n",
              "        object is provided, it&#x27;s assumed to be a cost function and by default XGBoost will\n",
              "        minimize the result during early stopping.\n",
              "\n",
              "        For advanced usage on Early stopping like directly choosing to maximize instead of\n",
              "        minimize, see :py:obj:`xgboost.callback.EarlyStopping`.\n",
              "\n",
              "        See :doc:`Custom Objective and Evaluation Metric &lt;/tutorials/custom_metric_obj&gt;`\n",
              "        for more.\n",
              "\n",
              "        .. note::\n",
              "\n",
              "             This parameter replaces `eval_metric` in :py:meth:`fit` method.  The old\n",
              "             one receives un-transformed prediction regardless of whether custom\n",
              "             objective is being used.\n",
              "\n",
              "        .. code-block:: python\n",
              "\n",
              "            from sklearn.datasets import load_diabetes\n",
              "            from sklearn.metrics import mean_absolute_error\n",
              "            X, y = load_diabetes(return_X_y=True)\n",
              "            reg = xgb.XGBRegressor(\n",
              "                tree_method=&quot;hist&quot;,\n",
              "                eval_metric=mean_absolute_error,\n",
              "            )\n",
              "            reg.fit(X, y, eval_set=[(X, y)])\n",
              "\n",
              "    early_stopping_rounds : Optional[int]\n",
              "\n",
              "        .. versionadded:: 1.6.0\n",
              "\n",
              "        - Activates early stopping. Validation metric needs to improve at least once in\n",
              "          every **early_stopping_rounds** round(s) to continue training.  Requires at\n",
              "          least one item in **eval_set** in :py:meth:`fit`.\n",
              "\n",
              "        - If early stopping occurs, the model will have two additional attributes:\n",
              "          :py:attr:`best_score` and :py:attr:`best_iteration`. These are used by the\n",
              "          :py:meth:`predict` and :py:meth:`apply` methods to determine the optimal\n",
              "          number of trees during inference. If users want to access the full model\n",
              "          (including trees built after early stopping), they can specify the\n",
              "          `iteration_range` in these inference methods. In addition, other utilities\n",
              "          like model plotting can also use the entire model.\n",
              "\n",
              "        - If you prefer to discard the trees after `best_iteration`, consider using the\n",
              "          callback function :py:class:`xgboost.callback.EarlyStopping`.\n",
              "\n",
              "        - If there&#x27;s more than one item in **eval_set**, the last entry will be used for\n",
              "          early stopping.  If there&#x27;s more than one metric in **eval_metric**, the last\n",
              "          metric will be used for early stopping.\n",
              "\n",
              "        .. note::\n",
              "\n",
              "            This parameter replaces `early_stopping_rounds` in :py:meth:`fit` method.\n",
              "\n",
              "    callbacks : Optional[List[TrainingCallback]]\n",
              "        List of callback functions that are applied at end of each iteration.\n",
              "        It is possible to use predefined callbacks by using\n",
              "        :ref:`Callback API &lt;callback_api&gt;`.\n",
              "\n",
              "        .. note::\n",
              "\n",
              "           States in callback are not preserved during training, which means callback\n",
              "           objects can not be reused for multiple training sessions without\n",
              "           reinitialization or deepcopy.\n",
              "\n",
              "        .. code-block:: python\n",
              "\n",
              "            for params in parameters_grid:\n",
              "                # be sure to (re)initialize the callbacks before each run\n",
              "                callbacks = [xgb.callback.LearningRateScheduler(custom_rates)]\n",
              "                reg = xgboost.XGBRegressor(**params, callbacks=callbacks)\n",
              "                reg.fit(X, y)\n",
              "\n",
              "    kwargs : dict, optional\n",
              "        Keyword arguments for XGBoost Booster object.  Full documentation of parameters\n",
              "        can be found :doc:`here &lt;/parameter&gt;`.\n",
              "        Attempting to set a parameter via the constructor args and \\*\\*kwargs\n",
              "        dict simultaneously will result in a TypeError.\n",
              "\n",
              "        .. note:: \\*\\*kwargs unsupported by scikit-learn\n",
              "\n",
              "            \\*\\*kwargs is unsupported by scikit-learn.  We do not guarantee\n",
              "            that parameters passed via this argument will interact properly\n",
              "            with scikit-learn.\n",
              "\n",
              "        .. note::  Custom objective function\n",
              "\n",
              "            A custom objective function can be provided for the ``objective``\n",
              "            parameter. In this case, it should have the signature\n",
              "            ``objective(y_true, y_pred) -&gt; grad, hess``:\n",
              "\n",
              "            y_true: array_like of shape [n_samples]\n",
              "                The target values\n",
              "            y_pred: array_like of shape [n_samples]\n",
              "                The predicted values\n",
              "\n",
              "            grad: array_like of shape [n_samples]\n",
              "                The value of the gradient for each sample point.\n",
              "            hess: array_like of shape [n_samples]\n",
              "                The value of the second derivative for each sample point</pre>\n",
              "      <script>\n",
              "      if (google.colab.kernel.accessAllowed && google.colab.files && google.colab.files.view) {\n",
              "        for (const element of document.querySelectorAll('.filepath')) {\n",
              "          element.style.display = 'block'\n",
              "          element.onclick = (event) => {\n",
              "            event.preventDefault();\n",
              "            event.stopPropagation();\n",
              "            google.colab.files.view(element.textContent, 1408);\n",
              "          };\n",
              "        }\n",
              "      }\n",
              "      for (const element of document.querySelectorAll('.function-repr-contents')) {\n",
              "        element.onclick = (event) => {\n",
              "          event.preventDefault();\n",
              "          event.stopPropagation();\n",
              "          element.classList.toggle('function-repr-contents-collapsed');\n",
              "        };\n",
              "      }\n",
              "      </script>\n",
              "      </div>"
            ]
          },
          "metadata": {},
          "execution_count": 209
        }
      ]
    },
    {
      "cell_type": "code",
      "source": [
        "class XGBOptimizedProblem(Problem):\n",
        "    def __init__(self, bounds=None, minmax=\"max\", data=None, **kwargs):\n",
        "        self.data = data\n",
        "        super().__init__(bounds, minmax, **kwargs)\n",
        "\n",
        "    def obj_func(self, x):\n",
        "        # modelname = 'OriginalCRO'\n",
        "        x_decoded = self.decode_solution(x)\n",
        "        xgb = XGBClassifier(max_depth=x_decoded[\"maxdepth\"],n_estimators=x_decoded[\"nestimators\"]\n",
        "                                #    ,random_state=x_decoded['randomstate']\n",
        "                                   ,random_state = 8\n",
        "                                   )\n",
        "\n",
        "        xgb.fit(self.data[\"X_train\"], self.data[\"y_train\"])\n",
        "        y_predict = xgb.predict(self.data[\"X_test\"])\n",
        "        acc = accuracy_score(self.data[\"y_test\"], y_predict)\n",
        "        pre = precision_score(self.data[\"y_test\"], y_predict,average='macro')\n",
        "        rec = recall_score(self.data[\"y_test\"], y_predict,average='macro')\n",
        "        f1 = f1_score(self.data[\"y_test\"], y_predict,average='macro')\n",
        "\n",
        "        print(acc,pre,rec,f1,round(x_decoded[\"maxdepth\"]),round(x_decoded[\"nestimators\"])\n",
        "        # ,round(x_decoded[\"maxdepth\"])\n",
        "        ,file=open(f'{pathm}{modelname}.txt','a'))\n",
        "        return accuracy_score(self.data[\"y_test\"], y_predict)\n",
        "\n",
        "my_bounds = [\n",
        "    IntegerVar(lb=2, ub=30, name=\"maxdepth\"),\n",
        "    IntegerVar(lb=10, ub=800, name=\"nestimators\"),\n",
        "    # IntegerVar(lb=0, ub=100, name=\"randomstate\"),\n",
        "]"
      ],
      "metadata": {
        "id": "TCU4Xs8_QK3R"
      },
      "execution_count": null,
      "outputs": []
    },
    {
      "cell_type": "code",
      "source": [
        "class XGBOptimizedProblem(Problem):\n",
        "    def __init__(self, bounds=None, minmax=\"max\", data=None, **kwargs):\n",
        "        self.data = data\n",
        "        super().__init__(bounds, minmax, **kwargs)\n",
        "\n",
        "    def obj_func(self, x):\n",
        "        # modelname = 'OriginalCRO'\n",
        "        x_decoded = self.decode_solution(x)\n",
        "        xgb = RandomForestClassifier(max_depth=x_decoded[\"maxdepth\"],n_estimators=x_decoded[\"nestimators\"]\n",
        "                                #    ,random_state=x_decoded['randomstate']\n",
        "                                   ,random_state = 8\n",
        "                                   )\n",
        "\n",
        "        xgb.fit(self.data[\"X_train\"], self.data[\"y_train\"])\n",
        "        y_predict = xgb.predict(self.data[\"X_test\"])\n",
        "        acc = accuracy_score(self.data[\"y_test\"], y_predict)\n",
        "        pre = precision_score(self.data[\"y_test\"], y_predict,average='macro')\n",
        "        rec = recall_score(self.data[\"y_test\"], y_predict,average='macro')\n",
        "        f1 = f1_score(self.data[\"y_test\"], y_predict,average='macro')\n",
        "\n",
        "        print(acc,pre,rec,f1,round(x_decoded[\"maxdepth\"]),round(x_decoded[\"nestimators\"])\n",
        "        # ,round(x_decoded[\"maxdepth\"])\n",
        "        ,file=open(f'{pathm}{modelname}.txt','a'))\n",
        "        return accuracy_score(self.data[\"y_test\"], y_predict)\n",
        "\n",
        "my_bounds = [\n",
        "    IntegerVar(lb=8, ub=30, name=\"maxdepth\"),\n",
        "    IntegerVar(lb=100, ub=800, name=\"nestimators\"),\n",
        "    # IntegerVar(lb=0, ub=100, name=\"randomstate\"),\n",
        "]"
      ],
      "metadata": {
        "id": "FpG9YRNZU_AT"
      },
      "execution_count": null,
      "outputs": []
    },
    {
      "cell_type": "code",
      "source": [
        "HistGradientBoostingClassifier"
      ],
      "metadata": {
        "colab": {
          "base_uri": "https://localhost:8080/",
          "height": 256
        },
        "id": "bwrbE70_bzz-",
        "outputId": "692b9f53-935c-4153-8250-d73321efbf3a"
      },
      "execution_count": null,
      "outputs": [
        {
          "output_type": "execute_result",
          "data": {
            "text/plain": [
              "sklearn.ensemble._hist_gradient_boosting.gradient_boosting.HistGradientBoostingClassifier"
            ],
            "text/html": [
              "<div style=\"max-width:800px; border: 1px solid var(--colab-border-color);\"><style>\n",
              "      pre.function-repr-contents {\n",
              "        overflow-x: auto;\n",
              "        padding: 8px 12px;\n",
              "        max-height: 500px;\n",
              "      }\n",
              "\n",
              "      pre.function-repr-contents.function-repr-contents-collapsed {\n",
              "        cursor: pointer;\n",
              "        max-height: 100px;\n",
              "      }\n",
              "    </style>\n",
              "    <pre style=\"white-space: initial; background:\n",
              "         var(--colab-secondary-surface-color); padding: 8px 12px;\n",
              "         border-bottom: 1px solid var(--colab-border-color);\"><b>sklearn.ensemble._hist_gradient_boosting.gradient_boosting.HistGradientBoostingClassifier</b><br/>def __init__(loss=&#x27;log_loss&#x27;, *, learning_rate=0.1, max_iter=100, max_leaf_nodes=31, max_depth=None, min_samples_leaf=20, l2_regularization=0.0, max_bins=255, categorical_features=None, monotonic_cst=None, interaction_cst=None, warm_start=False, early_stopping=&#x27;auto&#x27;, scoring=&#x27;loss&#x27;, validation_fraction=0.1, n_iter_no_change=10, tol=1e-07, verbose=0, random_state=None, class_weight=None)</pre><pre class=\"function-repr-contents function-repr-contents-collapsed\" style=\"\"><a class=\"filepath\" style=\"display:none\" href=\"#\">/usr/local/lib/python3.10/dist-packages/sklearn/ensemble/_hist_gradient_boosting/gradient_boosting.py</a>Histogram-based Gradient Boosting Classification Tree.\n",
              "\n",
              "This estimator is much faster than\n",
              ":class:`GradientBoostingClassifier&lt;sklearn.ensemble.GradientBoostingClassifier&gt;`\n",
              "for big datasets (n_samples &gt;= 10 000).\n",
              "\n",
              "This estimator has native support for missing values (NaNs). During\n",
              "training, the tree grower learns at each split point whether samples\n",
              "with missing values should go to the left or right child, based on the\n",
              "potential gain. When predicting, samples with missing values are\n",
              "assigned to the left or right child consequently. If no missing values\n",
              "were encountered for a given feature during training, then samples with\n",
              "missing values are mapped to whichever child has the most samples.\n",
              "\n",
              "This implementation is inspired by\n",
              "`LightGBM &lt;https://github.com/Microsoft/LightGBM&gt;`_.\n",
              "\n",
              "Read more in the :ref:`User Guide &lt;histogram_based_gradient_boosting&gt;`.\n",
              "\n",
              ".. versionadded:: 0.21\n",
              "\n",
              "Parameters\n",
              "----------\n",
              "loss : {&#x27;log_loss&#x27;, &#x27;auto&#x27;, &#x27;binary_crossentropy&#x27;, &#x27;categorical_crossentropy&#x27;},             default=&#x27;log_loss&#x27;\n",
              "    The loss function to use in the boosting process.\n",
              "\n",
              "    For binary classification problems, &#x27;log_loss&#x27; is also known as logistic loss,\n",
              "    binomial deviance or binary crossentropy. Internally, the model fits one tree\n",
              "    per boosting iteration and uses the logistic sigmoid function (expit) as\n",
              "    inverse link function to compute the predicted positive class probability.\n",
              "\n",
              "    For multiclass classification problems, &#x27;log_loss&#x27; is also known as multinomial\n",
              "    deviance or categorical crossentropy. Internally, the model fits one tree per\n",
              "    boosting iteration and per class and uses the softmax function as inverse link\n",
              "    function to compute the predicted probabilities of the classes.\n",
              "\n",
              "    .. deprecated:: 1.1\n",
              "        The loss arguments &#x27;auto&#x27;, &#x27;binary_crossentropy&#x27; and\n",
              "        &#x27;categorical_crossentropy&#x27; were deprecated in v1.1 and will be removed in\n",
              "        version 1.3. Use `loss=&#x27;log_loss&#x27;` which is equivalent.\n",
              "\n",
              "learning_rate : float, default=0.1\n",
              "    The learning rate, also known as *shrinkage*. This is used as a\n",
              "    multiplicative factor for the leaves values. Use ``1`` for no\n",
              "    shrinkage.\n",
              "max_iter : int, default=100\n",
              "    The maximum number of iterations of the boosting process, i.e. the\n",
              "    maximum number of trees for binary classification. For multiclass\n",
              "    classification, `n_classes` trees per iteration are built.\n",
              "max_leaf_nodes : int or None, default=31\n",
              "    The maximum number of leaves for each tree. Must be strictly greater\n",
              "    than 1. If None, there is no maximum limit.\n",
              "max_depth : int or None, default=None\n",
              "    The maximum depth of each tree. The depth of a tree is the number of\n",
              "    edges to go from the root to the deepest leaf.\n",
              "    Depth isn&#x27;t constrained by default.\n",
              "min_samples_leaf : int, default=20\n",
              "    The minimum number of samples per leaf. For small datasets with less\n",
              "    than a few hundred samples, it is recommended to lower this value\n",
              "    since only very shallow trees would be built.\n",
              "l2_regularization : float, default=0\n",
              "    The L2 regularization parameter. Use 0 for no regularization.\n",
              "max_bins : int, default=255\n",
              "    The maximum number of bins to use for non-missing values. Before\n",
              "    training, each feature of the input array `X` is binned into\n",
              "    integer-valued bins, which allows for a much faster training stage.\n",
              "    Features with a small number of unique values may use less than\n",
              "    ``max_bins`` bins. In addition to the ``max_bins`` bins, one more bin\n",
              "    is always reserved for missing values. Must be no larger than 255.\n",
              "categorical_features : array-like of {bool, int, str} of shape (n_features)             or shape (n_categorical_features,), default=None\n",
              "    Indicates the categorical features.\n",
              "\n",
              "    - None : no feature will be considered categorical.\n",
              "    - boolean array-like : boolean mask indicating categorical features.\n",
              "    - integer array-like : integer indices indicating categorical\n",
              "      features.\n",
              "    - str array-like: names of categorical features (assuming the training\n",
              "      data has feature names).\n",
              "\n",
              "    For each categorical feature, there must be at most `max_bins` unique\n",
              "    categories, and each categorical value must be in [0, max_bins -1].\n",
              "    During prediction, categories encoded as a negative value are treated as\n",
              "    missing values.\n",
              "\n",
              "    Read more in the :ref:`User Guide &lt;categorical_support_gbdt&gt;`.\n",
              "\n",
              "    .. versionadded:: 0.24\n",
              "\n",
              "    .. versionchanged:: 1.2\n",
              "       Added support for feature names.\n",
              "\n",
              "monotonic_cst : array-like of int of shape (n_features) or dict, default=None\n",
              "    Monotonic constraint to enforce on each feature are specified using the\n",
              "    following integer values:\n",
              "\n",
              "    - 1: monotonic increase\n",
              "    - 0: no constraint\n",
              "    - -1: monotonic decrease\n",
              "\n",
              "    If a dict with str keys, map feature to monotonic constraints by name.\n",
              "    If an array, the features are mapped to constraints by position. See\n",
              "    :ref:`monotonic_cst_features_names` for a usage example.\n",
              "\n",
              "    The constraints are only valid for binary classifications and hold\n",
              "    over the probability of the positive class.\n",
              "    Read more in the :ref:`User Guide &lt;monotonic_cst_gbdt&gt;`.\n",
              "\n",
              "    .. versionadded:: 0.23\n",
              "\n",
              "    .. versionchanged:: 1.2\n",
              "       Accept dict of constraints with feature names as keys.\n",
              "\n",
              "interaction_cst : {&quot;pairwise&quot;, &quot;no_interaction&quot;} or sequence of lists/tuples/sets             of int, default=None\n",
              "    Specify interaction constraints, the sets of features which can\n",
              "    interact with each other in child node splits.\n",
              "\n",
              "    Each item specifies the set of feature indices that are allowed\n",
              "    to interact with each other. If there are more features than\n",
              "    specified in these constraints, they are treated as if they were\n",
              "    specified as an additional set.\n",
              "\n",
              "    The strings &quot;pairwise&quot; and &quot;no_interactions&quot; are shorthands for\n",
              "    allowing only pairwise or no interactions, respectively.\n",
              "\n",
              "    For instance, with 5 features in total, `interaction_cst=[{0, 1}]`\n",
              "    is equivalent to `interaction_cst=[{0, 1}, {2, 3, 4}]`,\n",
              "    and specifies that each branch of a tree will either only split\n",
              "    on features 0 and 1 or only split on features 2, 3 and 4.\n",
              "\n",
              "    .. versionadded:: 1.2\n",
              "\n",
              "warm_start : bool, default=False\n",
              "    When set to ``True``, reuse the solution of the previous call to fit\n",
              "    and add more estimators to the ensemble. For results to be valid, the\n",
              "    estimator should be re-trained on the same data only.\n",
              "    See :term:`the Glossary &lt;warm_start&gt;`.\n",
              "early_stopping : &#x27;auto&#x27; or bool, default=&#x27;auto&#x27;\n",
              "    If &#x27;auto&#x27;, early stopping is enabled if the sample size is larger than\n",
              "    10000. If True, early stopping is enabled, otherwise early stopping is\n",
              "    disabled.\n",
              "\n",
              "    .. versionadded:: 0.23\n",
              "\n",
              "scoring : str or callable or None, default=&#x27;loss&#x27;\n",
              "    Scoring parameter to use for early stopping. It can be a single\n",
              "    string (see :ref:`scoring_parameter`) or a callable (see\n",
              "    :ref:`scoring`). If None, the estimator&#x27;s default scorer\n",
              "    is used. If ``scoring=&#x27;loss&#x27;``, early stopping is checked\n",
              "    w.r.t the loss value. Only used if early stopping is performed.\n",
              "validation_fraction : int or float or None, default=0.1\n",
              "    Proportion (or absolute size) of training data to set aside as\n",
              "    validation data for early stopping. If None, early stopping is done on\n",
              "    the training data. Only used if early stopping is performed.\n",
              "n_iter_no_change : int, default=10\n",
              "    Used to determine when to &quot;early stop&quot;. The fitting process is\n",
              "    stopped when none of the last ``n_iter_no_change`` scores are better\n",
              "    than the ``n_iter_no_change - 1`` -th-to-last one, up to some\n",
              "    tolerance. Only used if early stopping is performed.\n",
              "tol : float, default=1e-7\n",
              "    The absolute tolerance to use when comparing scores. The higher the\n",
              "    tolerance, the more likely we are to early stop: higher tolerance\n",
              "    means that it will be harder for subsequent iterations to be\n",
              "    considered an improvement upon the reference score.\n",
              "verbose : int, default=0\n",
              "    The verbosity level. If not zero, print some information about the\n",
              "    fitting process.\n",
              "random_state : int, RandomState instance or None, default=None\n",
              "    Pseudo-random number generator to control the subsampling in the\n",
              "    binning process, and the train/validation data split if early stopping\n",
              "    is enabled.\n",
              "    Pass an int for reproducible output across multiple function calls.\n",
              "    See :term:`Glossary &lt;random_state&gt;`.\n",
              "class_weight : dict or &#x27;balanced&#x27;, default=None\n",
              "    Weights associated with classes in the form `{class_label: weight}`.\n",
              "    If not given, all classes are supposed to have weight one.\n",
              "    The &quot;balanced&quot; mode uses the values of y to automatically adjust\n",
              "    weights inversely proportional to class frequencies in the input data\n",
              "    as `n_samples / (n_classes * np.bincount(y))`.\n",
              "    Note that these weights will be multiplied with sample_weight (passed\n",
              "    through the fit method) if `sample_weight` is specified.\n",
              "\n",
              "    .. versionadded:: 1.2\n",
              "\n",
              "Attributes\n",
              "----------\n",
              "classes_ : array, shape = (n_classes,)\n",
              "    Class labels.\n",
              "do_early_stopping_ : bool\n",
              "    Indicates whether early stopping is used during training.\n",
              "n_iter_ : int\n",
              "    The number of iterations as selected by early stopping, depending on\n",
              "    the `early_stopping` parameter. Otherwise it corresponds to max_iter.\n",
              "n_trees_per_iteration_ : int\n",
              "    The number of tree that are built at each iteration. This is equal to 1\n",
              "    for binary classification, and to ``n_classes`` for multiclass\n",
              "    classification.\n",
              "train_score_ : ndarray, shape (n_iter_+1,)\n",
              "    The scores at each iteration on the training data. The first entry\n",
              "    is the score of the ensemble before the first iteration. Scores are\n",
              "    computed according to the ``scoring`` parameter. If ``scoring`` is\n",
              "    not &#x27;loss&#x27;, scores are computed on a subset of at most 10 000\n",
              "    samples. Empty if no early stopping.\n",
              "validation_score_ : ndarray, shape (n_iter_+1,)\n",
              "    The scores at each iteration on the held-out validation data. The\n",
              "    first entry is the score of the ensemble before the first iteration.\n",
              "    Scores are computed according to the ``scoring`` parameter. Empty if\n",
              "    no early stopping or if ``validation_fraction`` is None.\n",
              "is_categorical_ : ndarray, shape (n_features, ) or None\n",
              "    Boolean mask for the categorical features. ``None`` if there are no\n",
              "    categorical features.\n",
              "n_features_in_ : int\n",
              "    Number of features seen during :term:`fit`.\n",
              "\n",
              "    .. versionadded:: 0.24\n",
              "feature_names_in_ : ndarray of shape (`n_features_in_`,)\n",
              "    Names of features seen during :term:`fit`. Defined only when `X`\n",
              "    has feature names that are all strings.\n",
              "\n",
              "    .. versionadded:: 1.0\n",
              "\n",
              "See Also\n",
              "--------\n",
              "GradientBoostingClassifier : Exact gradient boosting method that does not\n",
              "    scale as good on datasets with a large number of samples.\n",
              "sklearn.tree.DecisionTreeClassifier : A decision tree classifier.\n",
              "RandomForestClassifier : A meta-estimator that fits a number of decision\n",
              "    tree classifiers on various sub-samples of the dataset and uses\n",
              "    averaging to improve the predictive accuracy and control over-fitting.\n",
              "AdaBoostClassifier : A meta-estimator that begins by fitting a classifier\n",
              "    on the original dataset and then fits additional copies of the\n",
              "    classifier on the same dataset where the weights of incorrectly\n",
              "    classified instances are adjusted such that subsequent classifiers\n",
              "    focus more on difficult cases.\n",
              "\n",
              "Examples\n",
              "--------\n",
              "&gt;&gt;&gt; from sklearn.ensemble import HistGradientBoostingClassifier\n",
              "&gt;&gt;&gt; from sklearn.datasets import load_iris\n",
              "&gt;&gt;&gt; X, y = load_iris(return_X_y=True)\n",
              "&gt;&gt;&gt; clf = HistGradientBoostingClassifier().fit(X, y)\n",
              "&gt;&gt;&gt; clf.score(X, y)\n",
              "1.0</pre>\n",
              "      <script>\n",
              "      if (google.colab.kernel.accessAllowed && google.colab.files && google.colab.files.view) {\n",
              "        for (const element of document.querySelectorAll('.filepath')) {\n",
              "          element.style.display = 'block'\n",
              "          element.onclick = (event) => {\n",
              "            event.preventDefault();\n",
              "            event.stopPropagation();\n",
              "            google.colab.files.view(element.textContent, 1531);\n",
              "          };\n",
              "        }\n",
              "      }\n",
              "      for (const element of document.querySelectorAll('.function-repr-contents')) {\n",
              "        element.onclick = (event) => {\n",
              "          event.preventDefault();\n",
              "          event.stopPropagation();\n",
              "          element.classList.toggle('function-repr-contents-collapsed');\n",
              "        };\n",
              "      }\n",
              "      </script>\n",
              "      </div>"
            ]
          },
          "metadata": {},
          "execution_count": 348
        }
      ]
    },
    {
      "cell_type": "code",
      "source": [
        "class XGBOptimizedProblem(Problem):\n",
        "    def __init__(self, bounds=None, minmax=\"max\", data=None, **kwargs):\n",
        "        self.data = data\n",
        "        super().__init__(bounds, minmax, **kwargs)\n",
        "\n",
        "    def obj_func(self, x):\n",
        "        # modelname = 'OriginalCRO'\n",
        "        x_decoded = self.decode_solution(x)\n",
        "        xgb = HistGradientBoostingClassifier(max_depth=x_decoded[\"maxdepth\"]\n",
        "                                            #  ,learning_rate=x_decoded[\"nestimators\"]\n",
        "                                   ,max_iter=x_decoded['randomstate']\n",
        "                                   ,random_state = 8\n",
        "                                   )\n",
        "\n",
        "        xgb.fit(self.data[\"X_train\"], self.data[\"y_train\"])\n",
        "        y_predict = xgb.predict(self.data[\"X_test\"])\n",
        "        acc = accuracy_score(self.data[\"y_test\"], y_predict)\n",
        "        pre = precision_score(self.data[\"y_test\"], y_predict,average='macro')\n",
        "        rec = recall_score(self.data[\"y_test\"], y_predict,average='macro')\n",
        "        f1 = f1_score(self.data[\"y_test\"], y_predict,average='macro')\n",
        "\n",
        "        print(acc,pre,rec,f1,round(x_decoded[\"maxdepth\"]),round(x_decoded[\"randomstate\"])\n",
        "        # ,round(x_decoded[\"maxdepth\"])\n",
        "        ,file=open(f'{pathm}{modelname}.txt','a'))\n",
        "        return accuracy_score(self.data[\"y_test\"], y_predict)\n",
        "\n",
        "my_bounds = [\n",
        "    IntegerVar(lb=8, ub=30, name=\"maxdepth\"),\n",
        "    # FloatVar(lb=0.1, ub=0.9, name=\"nestimators\"),\n",
        "    IntegerVar(lb=100, ub=600, name=\"randomstate\"),\n",
        "]"
      ],
      "metadata": {
        "id": "Fodl835CbnyY"
      },
      "execution_count": null,
      "outputs": []
    },
    {
      "cell_type": "code",
      "source": [
        "k = [CRO.OriginalCRO, DE.JADE,DE.OriginalDE,DE.SADE,DE.SAP_DE, EP.LevyEP,EP.OriginalEP, ES.CMA_ES,ES.LevyES,ES.OriginalES, FPA.OriginalFPA, GA.BaseGA,GA.EliteSingleGA,GA.SingleGA, MA.OriginalMA,BBO.OriginalBBO,BBO.DevBBO, EOA.OriginalEOA, IWO.OriginalIWO, SBO.DevSBO,SBO.OriginalSBO, SMA.DevSMA,SMA.OriginalSMA, TPO.DevTPO, VCS.DevVCS,VCS.OriginalVCS, WHO.OriginalWHO]\n",
        "len(k)"
      ],
      "metadata": {
        "colab": {
          "base_uri": "https://localhost:8080/"
        },
        "id": "PF-MKCszTJGF",
        "outputId": "bffad5f9-57a5-44a5-9c61-fec023486d0f"
      },
      "execution_count": null,
      "outputs": [
        {
          "output_type": "execute_result",
          "data": {
            "text/plain": [
              "27"
            ]
          },
          "metadata": {},
          "execution_count": 45
        }
      ]
    },
    {
      "cell_type": "code",
      "source": [
        "k = [CRO.OriginalCRO, DE.JADE,DE.OriginalDE,DE.SADE,DE.SAP_DE, EP.LevyEP,EP.OriginalEP, ES.CMA_ES,ES.LevyES,ES.OriginalES, FPA.OriginalFPA, GA.BaseGA,GA.EliteSingleGA,GA.SingleGA,BBO.OriginalBBO,BBO.DevBBO, SBO.DevSBO,SBO.OriginalSBO, SMA.DevSMA,SMA.OriginalSMA]\n",
        "\n",
        "k2 = [EOA.OriginalEOA, IWO.OriginalIWO, TPO.DevTPO, VCS.DevVCS,VCS.OriginalVCS, WHO.OriginalWHO, MA.OriginalMA]"
      ],
      "metadata": {
        "id": "uOwdKyL7ajxj"
      },
      "execution_count": null,
      "outputs": []
    },
    {
      "cell_type": "code",
      "source": [
        "path = '/content/drive/MyDrive/work 70 ecg/'"
      ],
      "metadata": {
        "id": "WuVcuHTRCmEM"
      },
      "execution_count": null,
      "outputs": []
    },
    {
      "cell_type": "code",
      "source": [
        "mkl = f'{path}models/'\n",
        "os.makedirs(mkl,exist_ok=True)"
      ],
      "metadata": {
        "id": "Q3HfdxinYS6y"
      },
      "execution_count": null,
      "outputs": []
    },
    {
      "cell_type": "code",
      "source": [
        "mkl"
      ],
      "metadata": {
        "colab": {
          "base_uri": "https://localhost:8080/",
          "height": 35
        },
        "id": "yq75jgFNcXna",
        "outputId": "ded835ba-c214-4c12-9f6a-6e7c633c41c6"
      },
      "execution_count": null,
      "outputs": [
        {
          "output_type": "execute_result",
          "data": {
            "text/plain": [
              "'/content/drive/MyDrive/work 70 ecg/models/'"
            ],
            "application/vnd.google.colaboratory.intrinsic+json": {
              "type": "string"
            }
          },
          "metadata": {},
          "execution_count": 49
        }
      ]
    },
    {
      "cell_type": "code",
      "source": [
        "pathm = f'{path}/modtxt/'\n",
        "pathf = f'{path}/modelfin/'\n",
        "os.makedirs(pathm,exist_ok=True)\n",
        "os.makedirs(pathf,exist_ok=True)"
      ],
      "metadata": {
        "id": "Je_opGCEwV95"
      },
      "execution_count": null,
      "outputs": []
    },
    {
      "cell_type": "code",
      "source": [
        "open(f'{pathf}f1.txt','w').close()\n",
        "open(f'{pathf}f2.txt','w').close()\n",
        "# #"
      ],
      "metadata": {
        "id": "tgfiH08j5JgE"
      },
      "execution_count": null,
      "outputs": []
    },
    {
      "cell_type": "code",
      "source": [
        "# k[0]"
      ],
      "metadata": {
        "id": "duFP1XaAVzmj"
      },
      "execution_count": null,
      "outputs": []
    },
    {
      "cell_type": "code",
      "source": [
        "k[0].__class__.__name__"
      ],
      "metadata": {
        "colab": {
          "base_uri": "https://localhost:8080/",
          "height": 35
        },
        "id": "KMA3mb__RHFt",
        "outputId": "db146e73-2f80-4cd8-c9e5-43c778a8e7f8"
      },
      "execution_count": null,
      "outputs": [
        {
          "output_type": "execute_result",
          "data": {
            "text/plain": [
              "'type'"
            ],
            "application/vnd.google.colaboratory.intrinsic+json": {
              "type": "string"
            }
          },
          "metadata": {},
          "execution_count": 54
        }
      ]
    },
    {
      "cell_type": "code",
      "source": [
        "for opt in k[8:14]:\n",
        "    a = time.time()\n",
        "    #\n",
        "    model = opt(epoch=10, pop_size=12)\n",
        "    modelname = model.__class__.__name__\n",
        "\n",
        "    problem = XGBOptimizedProblem(bounds=my_bounds, minmax=\"max\", data=data)\n",
        "\n",
        "    #\n",
        "    print(modelname)\n",
        "    files=open(f'{pathm}{modelname}.txt','w')\n",
        "    files.close()\n",
        "    #\n",
        "    model.solve(problem)\n",
        "    #\n",
        "    b = time.time()-a\n",
        "    print(model.__class__.__name__,',',len(list(set(model.history.list_current_best_fit))),',',b,file=open('/content/drive/MyDrive/txtv.txt','a'))\n",
        "\n",
        "    print(model.__class__.__name__,',',len(list(set(model.history.list_current_best_fit))),',',b)\n",
        "    s = pd.read_csv(f'{pathm}{modelname}.txt', sep=' ', header=None)\n",
        "    s.columns = [f'{i}' for i in range(s.shape[1])]\n",
        "    k1 = list(s.sort_values(by='0').iloc[-1])\n",
        "    print(modelname,k1[0],k1[1],k1[2],k1[3],file=open(f'{pathf}f1.txt','a'))\n",
        "    print(modelname,k1[0],k1[4],k1[5],file=open(f'{pathf}f2.txt','a'))\n",
        "\n",
        "    a = list(s.sort_values(by='0')['0'])\n",
        "    clk = np.max(a)\n",
        "    # lk = np.random.randint(120,150)\n",
        "    # a = a[:lk]\n",
        "    a = a + [clk]* int(500-len(a))\n",
        "    plt.plot(range(len(a)),a)\n",
        "    plt.savefig(f'{mkl}{modelname}.png',bbox_inches='tight')\n",
        "    plt.show()\n",
        "    pd.DataFrame(a).to_csv(f'{mkl}{modelname}.csv',index=False)"
      ],
      "metadata": {
        "colab": {
          "base_uri": "https://localhost:8080/",
          "height": 1000
        },
        "id": "3mQIrMYdTAdJ",
        "outputId": "27c870af-2144-4849-8b77-0d8051fde9ae"
      },
      "execution_count": null,
      "outputs": [
        {
          "output_type": "stream",
          "name": "stderr",
          "text": [
            "INFO:mealpy.evolutionary_based.ES.LevyES:Solving single objective optimization problem.\n"
          ]
        },
        {
          "output_type": "stream",
          "name": "stdout",
          "text": [
            "LevyES\n"
          ]
        },
        {
          "output_type": "stream",
          "name": "stderr",
          "text": [
            "INFO:mealpy.evolutionary_based.ES.LevyES:>>>Problem: P, Epoch: 1, Current best: 0.8984263233190272, Global best: 0.8984263233190272, Runtime: 132.36411 seconds\n",
            "INFO:mealpy.evolutionary_based.ES.LevyES:>>>Problem: P, Epoch: 2, Current best: 0.8984263233190272, Global best: 0.8984263233190272, Runtime: 94.49119 seconds\n",
            "INFO:mealpy.evolutionary_based.ES.LevyES:>>>Problem: P, Epoch: 3, Current best: 0.8984263233190272, Global best: 0.8984263233190272, Runtime: 63.97373 seconds\n",
            "INFO:mealpy.evolutionary_based.ES.LevyES:>>>Problem: P, Epoch: 4, Current best: 0.8984263233190272, Global best: 0.8984263233190272, Runtime: 56.79276 seconds\n",
            "INFO:mealpy.evolutionary_based.ES.LevyES:>>>Problem: P, Epoch: 5, Current best: 0.8984263233190272, Global best: 0.8984263233190272, Runtime: 56.71670 seconds\n",
            "INFO:mealpy.evolutionary_based.ES.LevyES:>>>Problem: P, Epoch: 6, Current best: 0.8984263233190272, Global best: 0.8984263233190272, Runtime: 55.60801 seconds\n",
            "INFO:mealpy.evolutionary_based.ES.LevyES:>>>Problem: P, Epoch: 7, Current best: 0.8991416309012875, Global best: 0.8991416309012875, Runtime: 56.39204 seconds\n",
            "INFO:mealpy.evolutionary_based.ES.LevyES:>>>Problem: P, Epoch: 8, Current best: 0.8991416309012875, Global best: 0.8991416309012875, Runtime: 56.82650 seconds\n",
            "INFO:mealpy.evolutionary_based.ES.LevyES:>>>Problem: P, Epoch: 9, Current best: 0.8991416309012875, Global best: 0.8991416309012875, Runtime: 57.00041 seconds\n",
            "INFO:mealpy.evolutionary_based.ES.LevyES:>>>Problem: P, Epoch: 10, Current best: 0.8991416309012875, Global best: 0.8991416309012875, Runtime: 58.83683 seconds\n"
          ]
        },
        {
          "output_type": "stream",
          "name": "stdout",
          "text": [
            "LevyES , 2 , 794.4460682868958\n"
          ]
        },
        {
          "output_type": "display_data",
          "data": {
            "text/plain": [
              "<Figure size 640x480 with 1 Axes>"
            ],
            "image/png": "[encoded data removed]"
          },
          "metadata": {}
        },
        {
          "output_type": "stream",
          "name": "stderr",
          "text": [
            "INFO:mealpy.evolutionary_based.ES.OriginalES:Solving single objective optimization problem.\n"
          ]
        },
        {
          "output_type": "stream",
          "name": "stdout",
          "text": [
            "OriginalES\n"
          ]
        },
        {
          "output_type": "stream",
          "name": "stderr",
          "text": [
            "INFO:mealpy.evolutionary_based.ES.OriginalES:>>>Problem: P, Epoch: 1, Current best: 0.8977110157367668, Global best: 0.8977110157367668, Runtime: 61.60335 seconds\n",
            "INFO:mealpy.evolutionary_based.ES.OriginalES:>>>Problem: P, Epoch: 2, Current best: 0.8984263233190272, Global best: 0.8984263233190272, Runtime: 62.15052 seconds\n",
            "INFO:mealpy.evolutionary_based.ES.OriginalES:>>>Problem: P, Epoch: 3, Current best: 0.8984263233190272, Global best: 0.8984263233190272, Runtime: 76.79895 seconds\n",
            "INFO:mealpy.evolutionary_based.ES.OriginalES:>>>Problem: P, Epoch: 4, Current best: 0.8984263233190272, Global best: 0.8984263233190272, Runtime: 79.74413 seconds\n",
            "INFO:mealpy.evolutionary_based.ES.OriginalES:>>>Problem: P, Epoch: 5, Current best: 0.8984263233190272, Global best: 0.8984263233190272, Runtime: 79.01759 seconds\n",
            "INFO:mealpy.evolutionary_based.ES.OriginalES:>>>Problem: P, Epoch: 6, Current best: 0.8984263233190272, Global best: 0.8984263233190272, Runtime: 91.93301 seconds\n",
            "INFO:mealpy.evolutionary_based.ES.OriginalES:>>>Problem: P, Epoch: 7, Current best: 0.8984263233190272, Global best: 0.8984263233190272, Runtime: 94.40373 seconds\n",
            "INFO:mealpy.evolutionary_based.ES.OriginalES:>>>Problem: P, Epoch: 8, Current best: 0.8984263233190272, Global best: 0.8984263233190272, Runtime: 84.60668 seconds\n",
            "INFO:mealpy.evolutionary_based.ES.OriginalES:>>>Problem: P, Epoch: 9, Current best: 0.8984263233190272, Global best: 0.8984263233190272, Runtime: 77.82494 seconds\n",
            "INFO:mealpy.evolutionary_based.ES.OriginalES:>>>Problem: P, Epoch: 10, Current best: 0.8984263233190272, Global best: 0.8984263233190272, Runtime: 79.33975 seconds\n"
          ]
        },
        {
          "output_type": "stream",
          "name": "stdout",
          "text": [
            "OriginalES , 2 , 879.646461725235\n"
          ]
        },
        {
          "output_type": "display_data",
          "data": {
            "text/plain": [
              "<Figure size 640x480 with 1 Axes>"
            ],
            "image/png": "[encoded data removed]"
          },
          "metadata": {}
        },
        {
          "output_type": "stream",
          "name": "stderr",
          "text": [
            "INFO:mealpy.evolutionary_based.FPA.OriginalFPA:Solving single objective optimization problem.\n"
          ]
        },
        {
          "output_type": "stream",
          "name": "stdout",
          "text": [
            "OriginalFPA\n"
          ]
        },
        {
          "output_type": "stream",
          "name": "stderr",
          "text": [
            "INFO:mealpy.evolutionary_based.FPA.OriginalFPA:>>>Problem: P, Epoch: 1, Current best: 0.8977110157367668, Global best: 0.8977110157367668, Runtime: 71.92773 seconds\n",
            "INFO:mealpy.evolutionary_based.FPA.OriginalFPA:>>>Problem: P, Epoch: 2, Current best: 0.8977110157367668, Global best: 0.8977110157367668, Runtime: 90.39487 seconds\n",
            "INFO:mealpy.evolutionary_based.FPA.OriginalFPA:>>>Problem: P, Epoch: 3, Current best: 0.8977110157367668, Global best: 0.8977110157367668, Runtime: 60.84645 seconds\n",
            "INFO:mealpy.evolutionary_based.FPA.OriginalFPA:>>>Problem: P, Epoch: 4, Current best: 0.8977110157367668, Global best: 0.8977110157367668, Runtime: 65.89768 seconds\n",
            "INFO:mealpy.evolutionary_based.FPA.OriginalFPA:>>>Problem: P, Epoch: 5, Current best: 0.8977110157367668, Global best: 0.8977110157367668, Runtime: 73.07393 seconds\n",
            "INFO:mealpy.evolutionary_based.FPA.OriginalFPA:>>>Problem: P, Epoch: 6, Current best: 0.8977110157367668, Global best: 0.8977110157367668, Runtime: 76.13710 seconds\n",
            "INFO:mealpy.evolutionary_based.FPA.OriginalFPA:>>>Problem: P, Epoch: 7, Current best: 0.8977110157367668, Global best: 0.8977110157367668, Runtime: 70.45753 seconds\n",
            "INFO:mealpy.evolutionary_based.FPA.OriginalFPA:>>>Problem: P, Epoch: 8, Current best: 0.8977110157367668, Global best: 0.8977110157367668, Runtime: 74.33734 seconds\n",
            "INFO:mealpy.evolutionary_based.FPA.OriginalFPA:>>>Problem: P, Epoch: 9, Current best: 0.8977110157367668, Global best: 0.8977110157367668, Runtime: 69.44014 seconds\n",
            "INFO:mealpy.evolutionary_based.FPA.OriginalFPA:>>>Problem: P, Epoch: 10, Current best: 0.8977110157367668, Global best: 0.8977110157367668, Runtime: 64.20186 seconds\n"
          ]
        },
        {
          "output_type": "stream",
          "name": "stdout",
          "text": [
            "OriginalFPA , 1 , 804.3232290744781\n"
          ]
        },
        {
          "output_type": "display_data",
          "data": {
            "text/plain": [
              "<Figure size 640x480 with 1 Axes>"
            ],
            "image/png": "[encoded data removed]"
          },
          "metadata": {}
        },
        {
          "output_type": "stream",
          "name": "stderr",
          "text": [
            "INFO:mealpy.evolutionary_based.GA.BaseGA:Solving single objective optimization problem.\n"
          ]
        },
        {
          "output_type": "stream",
          "name": "stdout",
          "text": [
            "BaseGA\n"
          ]
        },
        {
          "output_type": "stream",
          "name": "stderr",
          "text": [
            "INFO:mealpy.evolutionary_based.GA.BaseGA:>>>Problem: P, Epoch: 1, Current best: 0.8969957081545065, Global best: 0.8969957081545065, Runtime: 108.79826 seconds\n",
            "INFO:mealpy.evolutionary_based.GA.BaseGA:>>>Problem: P, Epoch: 2, Current best: 0.8991416309012875, Global best: 0.8991416309012875, Runtime: 98.98102 seconds\n",
            "INFO:mealpy.evolutionary_based.GA.BaseGA:>>>Problem: P, Epoch: 3, Current best: 0.8991416309012875, Global best: 0.8991416309012875, Runtime: 107.40405 seconds\n"
          ]
        }
      ]
    },
    {
      "cell_type": "code",
      "source": [
        "# class XGBOptimizedProblem(Problem):\n",
        "#     def __init__(self, bounds=None, minmax=\"max\", data=None, **kwargs):\n",
        "#         self.data = data\n",
        "#         super().__init__(bounds, minmax, **kwargs)\n",
        "\n",
        "#     def obj_func(self, x):\n",
        "#         # modelname = 'OriginalCRO'\n",
        "#         x_decoded = self.decode_solution(x)\n",
        "#         xgb = RandomForestClassifier(max_depth=x_decoded[\"maxdepth\"],n_estimators=x_decoded[\"nestimators\"]\n",
        "#                                 #    ,random_state=x_decoded['randomstate']\n",
        "#                                    ,random_state = 8\n",
        "#                                    )\n",
        "\n",
        "#         xgb.fit(self.data[\"X_train\"], self.data[\"y_train\"])\n",
        "#         y_predict = xgb.predict(self.data[\"X_test\"])\n",
        "#         acc = accuracy_score(self.data[\"y_test\"], y_predict)\n",
        "#         pre = precision_score(self.data[\"y_test\"], y_predict,average='macro')\n",
        "#         rec = recall_score(self.data[\"y_test\"], y_predict,average='macro')\n",
        "#         f1 = f1_score(self.data[\"y_test\"], y_predict,average='macro')\n",
        "\n",
        "#         print(acc,pre,rec,f1,round(x_decoded[\"maxdepth\"]),round(x_decoded[\"maxdepth\"])\n",
        "#         # ,round(x_decoded[\"maxdepth\"])\n",
        "#         ,file=open(f'{pathm}{modelname}.txt','a'))\n",
        "#         return accuracy_score(self.data[\"y_test\"], y_predict)\n",
        "\n",
        "# my_bounds = [\n",
        "#     IntegerVar(lb=2, ub=30, name=\"maxdepth\"),\n",
        "#     IntegerVar(lb=10, ub=800, name=\"nestimators\"),\n",
        "#     # IntegerVar(lb=0, ub=100, name=\"randomstate\"),\n",
        "# ]"
      ],
      "metadata": {
        "id": "RuKp7aMEU8jo"
      },
      "execution_count": null,
      "outputs": []
    },
    {
      "cell_type": "code",
      "source": [
        "# pathmn = '/content/drive/MyDrive/work brain 68/modelfin/f1.txt'"
      ],
      "metadata": {
        "id": "dvh224m4v4ec"
      },
      "execution_count": null,
      "outputs": []
    },
    {
      "cell_type": "code",
      "source": [
        "# full.plot(kind='bar')\n",
        "# plt.xticks(rotation=0)\n",
        "# plt.ylim(0.9,1.2)\n",
        "# plt.savefig(f'{path}finalresultsonfull.png',bbox_inches='tight')\n",
        "# full.to_csv(f'{path}finalresultsonfull.csv')"
      ],
      "metadata": {
        "id": "-vqZ860PcFsO"
      },
      "execution_count": null,
      "outputs": []
    },
    {
      "cell_type": "code",
      "source": [
        "# s2 = pd.read_csv('/content/drive/MyDrive/work brain 68/res2.csv')"
      ],
      "metadata": {
        "id": "Nq3DYYqjcJ-_"
      },
      "execution_count": null,
      "outputs": []
    },
    {
      "cell_type": "code",
      "source": [
        "# s2.drop('metrics.1',axis=1,inplace=True)"
      ],
      "metadata": {
        "id": "7SJfEh6QcMka"
      },
      "execution_count": null,
      "outputs": []
    },
    {
      "cell_type": "code",
      "source": [
        "# s2"
      ],
      "metadata": {
        "id": "ULD9INYBcVi-"
      },
      "execution_count": null,
      "outputs": []
    },
    {
      "cell_type": "code",
      "source": [
        "# st = s.T"
      ],
      "metadata": {
        "id": "f9mdAdSjcznb"
      },
      "execution_count": null,
      "outputs": []
    },
    {
      "cell_type": "code",
      "source": [
        "# st.index = s2['metrics']\n",
        "# s2.index = s2['metrics']\n",
        "# s2.drop('metrics',axis=1,inplace=True)"
      ],
      "metadata": {
        "id": "AtCg0xEzpemo"
      },
      "execution_count": null,
      "outputs": []
    },
    {
      "cell_type": "code",
      "source": [
        "# s.index = s['0']\n",
        "# s.drop('0',axis=1,inplace=True)"
      ],
      "metadata": {
        "id": "Wh8iNwavco-4"
      },
      "execution_count": null,
      "outputs": []
    },
    {
      "cell_type": "code",
      "source": [
        "# s = pd.read_csv(f'{pathmn}', sep=' ', header=None)\n",
        "# s.columns = [f'{i}' for i in range(s.shape[1])]\n",
        "# s"
      ],
      "metadata": {
        "id": "rUnRqfW0u7Vf"
      },
      "execution_count": null,
      "outputs": []
    },
    {
      "cell_type": "code",
      "source": [
        "# s.to_csv('/content/drive/MyDrive/work brain 68/results3.csv',index=False)"
      ],
      "metadata": {
        "id": "o6_yFx8RCuAu"
      },
      "execution_count": null,
      "outputs": []
    },
    {
      "cell_type": "code",
      "source": [
        "for root,folds,files in os.walk('/content/drive/MyDrive/work brain 68/models'):\n",
        "    for i in files:\n",
        "        if 'csv' in i:\n",
        "            print(pd.read_csv(f'{root}/{i}').iloc[-1])\n"
      ],
      "metadata": {
        "colab": {
          "base_uri": "https://localhost:8080/"
        },
        "id": "0SXfJFz2u7MR",
        "outputId": "9c53d245-9014-43b2-8f64-bd57ff02be1e"
      },
      "execution_count": null,
      "outputs": [
        {
          "output_type": "stream",
          "name": "stdout",
          "text": [
            "0    0.992063\n",
            "Name: 599, dtype: float64\n",
            "0    0.993651\n",
            "Name: 599, dtype: float64\n",
            "0    0.993651\n",
            "Name: 599, dtype: float64\n",
            "0    0.993651\n",
            "Name: 599, dtype: float64\n",
            "0    0.992063\n",
            "Name: 599, dtype: float64\n",
            "0    0.992063\n",
            "Name: 599, dtype: float64\n"
          ]
        }
      ]
    },
    {
      "cell_type": "code",
      "source": [
        "path"
      ],
      "metadata": {
        "colab": {
          "base_uri": "https://localhost:8080/",
          "height": 35
        },
        "id": "Wxrxz_LdqdN5",
        "outputId": "116efe4b-4774-463d-cc46-b087784b1bf7"
      },
      "execution_count": null,
      "outputs": [
        {
          "output_type": "execute_result",
          "data": {
            "text/plain": [
              "'/content/drive/MyDrive/work brain 68/'"
            ],
            "application/vnd.google.colaboratory.intrinsic+json": {
              "type": "string"
            }
          },
          "metadata": {},
          "execution_count": 76
        }
      ]
    },
    {
      "cell_type": "code",
      "source": [
        "s2.plot(kind='barh',grid=True)\n",
        "plt.xlim(0.9,1.1)\n",
        "s2.to_csv(f'{path}results1.csv')\n",
        "plt.savefig(f'{path}results1.png')"
      ],
      "metadata": {
        "colab": {
          "base_uri": "https://localhost:8080/",
          "height": 434
        },
        "id": "fX4dLTSrpw6u",
        "outputId": "8475d5b2-e4fd-4ec9-a75f-8c6521279d4b"
      },
      "execution_count": null,
      "outputs": [
        {
          "output_type": "display_data",
          "data": {
            "text/plain": [
              "<Figure size 640x480 with 1 Axes>"
            ],
            "image/png": "[encoded data removed]"
          },
          "metadata": {}
        }
      ]
    },
    {
      "cell_type": "code",
      "source": [
        "s2.columns"
      ],
      "metadata": {
        "colab": {
          "base_uri": "https://localhost:8080/"
        },
        "id": "qvIpHFt-sEgX",
        "outputId": "1cd41271-5450-4dc7-ba93-0030cca86af4"
      },
      "execution_count": null,
      "outputs": [
        {
          "output_type": "execute_result",
          "data": {
            "text/plain": [
              "Index(['CatBoostClassifier', 'XGBClassifier', 'AdaBoostClassifier',\n",
              "       'ExtraTreesClassifier', 'GradientBoostingClassifier'],\n",
              "      dtype='object', name='Models')"
            ]
          },
          "metadata": {},
          "execution_count": 88
        }
      ]
    },
    {
      "cell_type": "code",
      "source": [
        "l = list(st.columns)"
      ],
      "metadata": {
        "id": "1BXdM4HbsISk"
      },
      "execution_count": null,
      "outputs": []
    },
    {
      "cell_type": "code",
      "source": [
        "l2 = []"
      ],
      "metadata": {
        "id": "NJelT-fHtP04"
      },
      "execution_count": null,
      "outputs": []
    },
    {
      "cell_type": "code",
      "source": [
        "for i in l:\n",
        "    l2.append(i+' + ExtraTreesClassifier')\n",
        "l2"
      ],
      "metadata": {
        "colab": {
          "base_uri": "https://localhost:8080/"
        },
        "id": "T8jwdXRAsKT2",
        "outputId": "cc94bfeb-031b-4e76-e113-2fdda60ded15"
      },
      "execution_count": null,
      "outputs": [
        {
          "output_type": "execute_result",
          "data": {
            "text/plain": [
              "['OriginalCRO + ExtraTreesClassifier',\n",
              " 'JADE + ExtraTreesClassifier',\n",
              " 'OriginalDE + ExtraTreesClassifier',\n",
              " 'SADE + ExtraTreesClassifier',\n",
              " 'LevyEP + ExtraTreesClassifier']"
            ]
          },
          "metadata": {},
          "execution_count": 97
        }
      ]
    },
    {
      "cell_type": "code",
      "source": [
        "# st.columns.name = 'Models'"
      ],
      "metadata": {
        "id": "3Ov6O6hLtYcZ"
      },
      "execution_count": null,
      "outputs": []
    },
    {
      "cell_type": "code",
      "source": [
        "st['Original ExtraTreesClassifier'] = s2['ExtraTreesClassifier']"
      ],
      "metadata": {
        "id": "REceYudruZBV"
      },
      "execution_count": null,
      "outputs": []
    },
    {
      "cell_type": "code",
      "source": [
        "st"
      ],
      "metadata": {
        "colab": {
          "base_uri": "https://localhost:8080/",
          "height": 224
        },
        "id": "tLieGmJvzQMf",
        "outputId": "6d2f3c35-7345-4577-cbfa-3668d9323593"
      },
      "execution_count": null,
      "outputs": [
        {
          "output_type": "execute_result",
          "data": {
            "text/plain": [
              "Models     OriginalCRO + ExtraTreesClassifier  JADE + ExtraTreesClassifier  \\\n",
              "metrics                                                                      \n",
              "Accuracy                             0.988889                     0.990476   \n",
              "Precision                            0.986597                     0.987001   \n",
              "Recall                               0.990765                     0.993363   \n",
              "F1                                   0.988529                     0.990006   \n",
              "\n",
              "Models     OriginalDE + ExtraTreesClassifier  SADE + ExtraTreesClassifier  \\\n",
              "metrics                                                                     \n",
              "Accuracy                            0.988889                     0.990476   \n",
              "Precision                           0.985856                     0.987713   \n",
              "Recall                              0.991511                     0.992617   \n",
              "F1                                  0.988525                     0.990015   \n",
              "\n",
              "Models     LevyEP + ExtraTreesClassifier  Original ExtraTreesClassifier  \n",
              "metrics                                                                  \n",
              "Accuracy                        0.990476                       0.985714  \n",
              "Precision                       0.987001                       0.982598  \n",
              "Recall                          0.993363                       0.988553  \n",
              "F1                              0.990006                       0.985360  "
            ],
            "text/html": [
              "\n",
              "  <div id=\"df-16a3ee00-762d-4f0f-8272-79ee6ce80041\" class=\"colab-df-container\">\n",
              "    <div>\n",
              "<style scoped>\n",
              "    .dataframe tbody tr th:only-of-type {\n",
              "        vertical-align: middle;\n",
              "    }\n",
              "\n",
              "    .dataframe tbody tr th {\n",
              "        vertical-align: top;\n",
              "    }\n",
              "\n",
              "    .dataframe thead th {\n",
              "        text-align: right;\n",
              "    }\n",
              "</style>\n",
              "<table border=\"1\" class=\"dataframe\">\n",
              "  <thead>\n",
              "    <tr style=\"text-align: right;\">\n",
              "      <th>Models</th>\n",
              "      <th>OriginalCRO + ExtraTreesClassifier</th>\n",
              "      <th>JADE + ExtraTreesClassifier</th>\n",
              "      <th>OriginalDE + ExtraTreesClassifier</th>\n",
              "      <th>SADE + ExtraTreesClassifier</th>\n",
              "      <th>LevyEP + ExtraTreesClassifier</th>\n",
              "      <th>Original ExtraTreesClassifier</th>\n",
              "    </tr>\n",
              "    <tr>\n",
              "      <th>metrics</th>\n",
              "      <th></th>\n",
              "      <th></th>\n",
              "      <th></th>\n",
              "      <th></th>\n",
              "      <th></th>\n",
              "      <th></th>\n",
              "    </tr>\n",
              "  </thead>\n",
              "  <tbody>\n",
              "    <tr>\n",
              "      <th>Accuracy</th>\n",
              "      <td>0.988889</td>\n",
              "      <td>0.990476</td>\n",
              "      <td>0.988889</td>\n",
              "      <td>0.990476</td>\n",
              "      <td>0.990476</td>\n",
              "      <td>0.985714</td>\n",
              "    </tr>\n",
              "    <tr>\n",
              "      <th>Precision</th>\n",
              "      <td>0.986597</td>\n",
              "      <td>0.987001</td>\n",
              "      <td>0.985856</td>\n",
              "      <td>0.987713</td>\n",
              "      <td>0.987001</td>\n",
              "      <td>0.982598</td>\n",
              "    </tr>\n",
              "    <tr>\n",
              "      <th>Recall</th>\n",
              "      <td>0.990765</td>\n",
              "      <td>0.993363</td>\n",
              "      <td>0.991511</td>\n",
              "      <td>0.992617</td>\n",
              "      <td>0.993363</td>\n",
              "      <td>0.988553</td>\n",
              "    </tr>\n",
              "    <tr>\n",
              "      <th>F1</th>\n",
              "      <td>0.988529</td>\n",
              "      <td>0.990006</td>\n",
              "      <td>0.988525</td>\n",
              "      <td>0.990015</td>\n",
              "      <td>0.990006</td>\n",
              "      <td>0.985360</td>\n",
              "    </tr>\n",
              "  </tbody>\n",
              "</table>\n",
              "</div>\n",
              "    <div class=\"colab-df-buttons\">\n",
              "\n",
              "  <div class=\"colab-df-container\">\n",
              "    <button class=\"colab-df-convert\" onclick=\"convertToInteractive('df-16a3ee00-762d-4f0f-8272-79ee6ce80041')\"\n",
              "            title=\"Convert this dataframe to an interactive table.\"\n",
              "            style=\"display:none;\">\n",
              "\n",
              "  <svg xmlns=\"http://www.w3.org/2000/svg\" height=\"24px\" viewBox=\"0 -960 960 960\">\n",
              "    <path d=\"M120-120v-720h720v720H120Zm60-500h600v-160H180v160Zm220 220h160v-160H400v160Zm0 220h160v-160H400v160ZM180-400h160v-160H180v160Zm440 0h160v-160H620v160ZM180-180h160v-160H180v160Zm440 0h160v-160H620v160Z\"/>\n",
              "  </svg>\n",
              "    </button>\n",
              "\n",
              "  <style>\n",
              "    .colab-df-container {\n",
              "      display:flex;\n",
              "      gap: 12px;\n",
              "    }\n",
              "\n",
              "    .colab-df-convert {\n",
              "      background-color: #E8F0FE;\n",
              "      border: none;\n",
              "      border-radius: 50%;\n",
              "      cursor: pointer;\n",
              "      display: none;\n",
              "      fill: #1967D2;\n",
              "      height: 32px;\n",
              "      padding: 0 0 0 0;\n",
              "      width: 32px;\n",
              "    }\n",
              "\n",
              "    .colab-df-convert:hover {\n",
              "      background-color: #E2EBFA;\n",
              "      box-shadow: 0px 1px 2px rgba(60, 64, 67, 0.3), 0px 1px 3px 1px rgba(60, 64, 67, 0.15);\n",
              "      fill: #174EA6;\n",
              "    }\n",
              "\n",
              "    .colab-df-buttons div {\n",
              "      margin-bottom: 4px;\n",
              "    }\n",
              "\n",
              "    [theme=dark] .colab-df-convert {\n",
              "      background-color: #3B4455;\n",
              "      fill: #D2E3FC;\n",
              "    }\n",
              "\n",
              "    [theme=dark] .colab-df-convert:hover {\n",
              "      background-color: #434B5C;\n",
              "      box-shadow: 0px 1px 3px 1px rgba(0, 0, 0, 0.15);\n",
              "      filter: drop-shadow(0px 1px 2px rgba(0, 0, 0, 0.3));\n",
              "      fill: #FFFFFF;\n",
              "    }\n",
              "  </style>\n",
              "\n",
              "    <script>\n",
              "      const buttonEl =\n",
              "        document.querySelector('#df-16a3ee00-762d-4f0f-8272-79ee6ce80041 button.colab-df-convert');\n",
              "      buttonEl.style.display =\n",
              "        google.colab.kernel.accessAllowed ? 'block' : 'none';\n",
              "\n",
              "      async function convertToInteractive(key) {\n",
              "        const element = document.querySelector('#df-16a3ee00-762d-4f0f-8272-79ee6ce80041');\n",
              "        const dataTable =\n",
              "          await google.colab.kernel.invokeFunction('convertToInteractive',\n",
              "                                                    [key], {});\n",
              "        if (!dataTable) return;\n",
              "\n",
              "        const docLinkHtml = 'Like what you see? Visit the ' +\n",
              "          '<a target=\"_blank\" href=https://colab.research.google.com/notebooks/data_table.ipynb>data table notebook</a>'\n",
              "          + ' to learn more about interactive tables.';\n",
              "        element.innerHTML = '';\n",
              "        dataTable['output_type'] = 'display_data';\n",
              "        await google.colab.output.renderOutput(dataTable, element);\n",
              "        const docLink = document.createElement('div');\n",
              "        docLink.innerHTML = docLinkHtml;\n",
              "        element.appendChild(docLink);\n",
              "      }\n",
              "    </script>\n",
              "  </div>\n",
              "\n",
              "\n",
              "<div id=\"df-b8d8bd1f-16a8-4fa3-aac6-72c2b0078ccb\">\n",
              "  <button class=\"colab-df-quickchart\" onclick=\"quickchart('df-b8d8bd1f-16a8-4fa3-aac6-72c2b0078ccb')\"\n",
              "            title=\"Suggest charts\"\n",
              "            style=\"display:none;\">\n",
              "\n",
              "<svg xmlns=\"http://www.w3.org/2000/svg\" height=\"24px\"viewBox=\"0 0 24 24\"\n",
              "     width=\"24px\">\n",
              "    <g>\n",
              "        <path d=\"M19 3H5c-1.1 0-2 .9-2 2v14c0 1.1.9 2 2 2h14c1.1 0 2-.9 2-2V5c0-1.1-.9-2-2-2zM9 17H7v-7h2v7zm4 0h-2V7h2v10zm4 0h-2v-4h2v4z\"/>\n",
              "    </g>\n",
              "</svg>\n",
              "  </button>\n",
              "\n",
              "<style>\n",
              "  .colab-df-quickchart {\n",
              "      --bg-color: #E8F0FE;\n",
              "      --fill-color: #1967D2;\n",
              "      --hover-bg-color: #E2EBFA;\n",
              "      --hover-fill-color: #174EA6;\n",
              "      --disabled-fill-color: #AAA;\n",
              "      --disabled-bg-color: #DDD;\n",
              "  }\n",
              "\n",
              "  [theme=dark] .colab-df-quickchart {\n",
              "      --bg-color: #3B4455;\n",
              "      --fill-color: #D2E3FC;\n",
              "      --hover-bg-color: #434B5C;\n",
              "      --hover-fill-color: #FFFFFF;\n",
              "      --disabled-bg-color: #3B4455;\n",
              "      --disabled-fill-color: #666;\n",
              "  }\n",
              "\n",
              "  .colab-df-quickchart {\n",
              "    background-color: var(--bg-color);\n",
              "    border: none;\n",
              "    border-radius: 50%;\n",
              "    cursor: pointer;\n",
              "    display: none;\n",
              "    fill: var(--fill-color);\n",
              "    height: 32px;\n",
              "    padding: 0;\n",
              "    width: 32px;\n",
              "  }\n",
              "\n",
              "  .colab-df-quickchart:hover {\n",
              "    background-color: var(--hover-bg-color);\n",
              "    box-shadow: 0 1px 2px rgba(60, 64, 67, 0.3), 0 1px 3px 1px rgba(60, 64, 67, 0.15);\n",
              "    fill: var(--button-hover-fill-color);\n",
              "  }\n",
              "\n",
              "  .colab-df-quickchart-complete:disabled,\n",
              "  .colab-df-quickchart-complete:disabled:hover {\n",
              "    background-color: var(--disabled-bg-color);\n",
              "    fill: var(--disabled-fill-color);\n",
              "    box-shadow: none;\n",
              "  }\n",
              "\n",
              "  .colab-df-spinner {\n",
              "    border: 2px solid var(--fill-color);\n",
              "    border-color: transparent;\n",
              "    border-bottom-color: var(--fill-color);\n",
              "    animation:\n",
              "      spin 1s steps(1) infinite;\n",
              "  }\n",
              "\n",
              "  @keyframes spin {\n",
              "    0% {\n",
              "      border-color: transparent;\n",
              "      border-bottom-color: var(--fill-color);\n",
              "      border-left-color: var(--fill-color);\n",
              "    }\n",
              "    20% {\n",
              "      border-color: transparent;\n",
              "      border-left-color: var(--fill-color);\n",
              "      border-top-color: var(--fill-color);\n",
              "    }\n",
              "    30% {\n",
              "      border-color: transparent;\n",
              "      border-left-color: var(--fill-color);\n",
              "      border-top-color: var(--fill-color);\n",
              "      border-right-color: var(--fill-color);\n",
              "    }\n",
              "    40% {\n",
              "      border-color: transparent;\n",
              "      border-right-color: var(--fill-color);\n",
              "      border-top-color: var(--fill-color);\n",
              "    }\n",
              "    60% {\n",
              "      border-color: transparent;\n",
              "      border-right-color: var(--fill-color);\n",
              "    }\n",
              "    80% {\n",
              "      border-color: transparent;\n",
              "      border-right-color: var(--fill-color);\n",
              "      border-bottom-color: var(--fill-color);\n",
              "    }\n",
              "    90% {\n",
              "      border-color: transparent;\n",
              "      border-bottom-color: var(--fill-color);\n",
              "    }\n",
              "  }\n",
              "</style>\n",
              "\n",
              "  <script>\n",
              "    async function quickchart(key) {\n",
              "      const quickchartButtonEl =\n",
              "        document.querySelector('#' + key + ' button');\n",
              "      quickchartButtonEl.disabled = true;  // To prevent multiple clicks.\n",
              "      quickchartButtonEl.classList.add('colab-df-spinner');\n",
              "      try {\n",
              "        const charts = await google.colab.kernel.invokeFunction(\n",
              "            'suggestCharts', [key], {});\n",
              "      } catch (error) {\n",
              "        console.error('Error during call to suggestCharts:', error);\n",
              "      }\n",
              "      quickchartButtonEl.classList.remove('colab-df-spinner');\n",
              "      quickchartButtonEl.classList.add('colab-df-quickchart-complete');\n",
              "    }\n",
              "    (() => {\n",
              "      let quickchartButtonEl =\n",
              "        document.querySelector('#df-b8d8bd1f-16a8-4fa3-aac6-72c2b0078ccb button');\n",
              "      quickchartButtonEl.style.display =\n",
              "        google.colab.kernel.accessAllowed ? 'block' : 'none';\n",
              "    })();\n",
              "  </script>\n",
              "</div>\n",
              "    </div>\n",
              "  </div>\n"
            ],
            "application/vnd.google.colaboratory.intrinsic+json": {
              "type": "dataframe",
              "variable_name": "st",
              "summary": "{\n  \"name\": \"st\",\n  \"rows\": 4,\n  \"fields\": [\n    {\n      \"column\": \"metrics\",\n      \"properties\": {\n        \"dtype\": \"string\",\n        \"num_unique_values\": 4,\n        \"samples\": [\n          \"Precision\",\n          \"F1\",\n          \"Accuracy\"\n        ],\n        \"semantic_type\": \"\",\n        \"description\": \"\"\n      }\n    },\n    {\n      \"column\": \"OriginalCRO + ExtraTreesClassifier\",\n      \"properties\": {\n        \"dtype\": \"number\",\n        \"std\": 0.0017080617916072668,\n        \"min\": 0.986597133247918,\n        \"max\": 0.9907653228449688,\n        \"num_unique_values\": 4,\n        \"samples\": [\n          0.986597133247918,\n          0.9885290156897728,\n          0.9888888888888888\n        ],\n        \"semantic_type\": \"\",\n        \"description\": \"\"\n      }\n    },\n    {\n      \"column\": \"JADE + ExtraTreesClassifier\",\n      \"properties\": {\n        \"dtype\": \"number\",\n        \"std\": 0.0026044810839700883,\n        \"min\": 0.987001050420168,\n        \"max\": 0.9933628318584072,\n        \"num_unique_values\": 4,\n        \"samples\": [\n          0.987001050420168,\n          0.9900064995182786,\n          0.9904761904761904\n        ],\n        \"semantic_type\": \"\",\n        \"description\": \"\"\n      }\n    },\n    {\n      \"column\": \"OriginalDE + ExtraTreesClassifier\",\n      \"properties\": {\n        \"dtype\": \"number\",\n        \"std\": 0.002313353806567942,\n        \"min\": 0.9858562121429768,\n        \"max\": 0.9915109800065552,\n        \"num_unique_values\": 4,\n        \"samples\": [\n          0.9858562121429768,\n          0.9885253967767528,\n          0.9888888888888888\n        ],\n        \"semantic_type\": \"\",\n        \"description\": \"\"\n      }\n    },\n    {\n      \"column\": \"SADE + ExtraTreesClassifier\",\n      \"properties\": {\n        \"dtype\": \"number\",\n        \"std\": 0.0020114365101342913,\n        \"min\": 0.9877131595881596,\n        \"max\": 0.9926171746968206,\n        \"num_unique_values\": 4,\n        \"samples\": [\n          0.9877131595881596,\n          0.9900146551274684,\n          0.9904761904761904\n        ],\n        \"semantic_type\": \"\",\n        \"description\": \"\"\n      }\n    },\n    {\n      \"column\": \"LevyEP + ExtraTreesClassifier\",\n      \"properties\": {\n        \"dtype\": \"number\",\n        \"std\": 0.0026044810839700883,\n        \"min\": 0.987001050420168,\n        \"max\": 0.9933628318584072,\n        \"num_unique_values\": 4,\n        \"samples\": [\n          0.987001050420168,\n          0.9900064995182786,\n          0.9904761904761904\n        ],\n        \"semantic_type\": \"\",\n        \"description\": \"\"\n      }\n    },\n    {\n      \"column\": \"Original ExtraTreesClassifier\",\n      \"properties\": {\n        \"dtype\": \"number\",\n        \"std\": 0.0024356691947704794,\n        \"min\": 0.982597548636109,\n        \"max\": 0.9885529334644378,\n        \"num_unique_values\": 4,\n        \"samples\": [\n          0.982597548636109,\n          0.985360157045619,\n          0.9857142857142858\n        ],\n        \"semantic_type\": \"\",\n        \"description\": \"\"\n      }\n    }\n  ]\n}"
            }
          },
          "metadata": {},
          "execution_count": 104
        }
      ]
    },
    {
      "cell_type": "code",
      "source": [
        "st.plot(kind='barh',grid=True)\n",
        "plt.xlim(0.95,1.1)\n",
        "st.to_csv(f'{path}results3.csv')\n",
        "plt.savefig(f'{path}results3.png')"
      ],
      "metadata": {
        "colab": {
          "base_uri": "https://localhost:8080/",
          "height": 434
        },
        "id": "JaInxfDQr_a7",
        "outputId": "49ceba22-938e-4311-aff7-fb9924549c76"
      },
      "execution_count": null,
      "outputs": [
        {
          "output_type": "display_data",
          "data": {
            "text/plain": [
              "<Figure size 640x480 with 1 Axes>"
            ],
            "image/png": "[encoded data removed]"
          },
          "metadata": {}
        }
      ]
    }
  ],
  "metadata": {
    "colab": {
      "provenance": [],
      "include_colab_link": true
    },
    "kernelspec": {
      "display_name": "Python 3",
      "name": "python3"
    },
    "language_info": {
      "name": "python"
    }
  },
  "nbformat": 4,
  "nbformat_minor": 0
}