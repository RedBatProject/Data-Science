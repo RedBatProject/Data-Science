{
  "cells": [
    {
      "cell_type": "markdown",
      "metadata": {
        "id": "view-in-github",
        "colab_type": "text"
      },
      "source": [
        "<a href=\"https://colab.research.google.com/github/RedBatProject/Data-Science/blob/main/work_74_car.ipynb\" target=\"_parent\"><img src=\"https://colab.research.google.com/assets/colab-badge.svg\" alt=\"Open In Colab\"/></a>"
      ]
    },
    {
      "cell_type": "code",
      "execution_count": 1,
      "metadata": {
        "colab": {
          "base_uri": "https://localhost:8080/"
        },
        "id": "MXZgw7hSru0r",
        "outputId": "4f0ed8f5-a3eb-4af8-be9a-2707310a54f0"
      },
      "outputs": [
        {
          "output_type": "stream",
          "name": "stdout",
          "text": [
            "Collecting mealpy\n",
            "  Downloading mealpy-3.0.1-py3-none-any.whl (386 kB)\n",
            "\u001b[?25l     \u001b[90m━━━━━━━━━━━━━━━━━━━━━━━━━━━━━━━━━━━━━━━━\u001b[0m \u001b[32m0.0/386.3 kB\u001b[0m \u001b[31m?\u001b[0m eta \u001b[36m-:--:--\u001b[0m\r\u001b[2K     \u001b[91m━━━━━━━━━━━━━━\u001b[0m\u001b[91m╸\u001b[0m\u001b[90m━━━━━━━━━━━━━━━━━━━━━━━━━\u001b[0m \u001b[32m143.4/386.3 kB\u001b[0m \u001b[31m4.1 MB/s\u001b[0m eta \u001b[36m0:00:01\u001b[0m\r\u001b[2K     \u001b[91m━━━━━━━━━━━━━━━━━━━━━━━━━━━━━━━━━━━━━━━\u001b[0m\u001b[90m╺\u001b[0m \u001b[32m378.9/386.3 kB\u001b[0m \u001b[31m6.4 MB/s\u001b[0m eta \u001b[36m0:00:01\u001b[0m\r\u001b[2K     \u001b[90m━━━━━━━━━━━━━━━━━━━━━━━━━━━━━━━━━━━━━━━━\u001b[0m \u001b[32m386.3/386.3 kB\u001b[0m \u001b[31m5.0 MB/s\u001b[0m eta \u001b[36m0:00:00\u001b[0m\n",
            "\u001b[?25hRequirement already satisfied: numpy>=1.17.5 in /usr/local/lib/python3.10/dist-packages (from mealpy) (1.25.2)\n",
            "Requirement already satisfied: matplotlib>=3.3.0 in /usr/local/lib/python3.10/dist-packages (from mealpy) (3.7.1)\n",
            "Requirement already satisfied: scipy>=1.7.1 in /usr/local/lib/python3.10/dist-packages (from mealpy) (1.11.4)\n",
            "Requirement already satisfied: pandas>=1.2.0 in /usr/local/lib/python3.10/dist-packages (from mealpy) (1.5.3)\n",
            "Collecting opfunu>=1.0.0 (from mealpy)\n",
            "  Downloading opfunu-1.0.2-py3-none-any.whl (13.0 MB)\n",
            "\u001b[2K     \u001b[90m━━━━━━━━━━━━━━━━━━━━━━━━━━━━━━━━━━━━━━━━\u001b[0m \u001b[32m13.0/13.0 MB\u001b[0m \u001b[31m33.7 MB/s\u001b[0m eta \u001b[36m0:00:00\u001b[0m\n",
            "\u001b[?25hRequirement already satisfied: contourpy>=1.0.1 in /usr/local/lib/python3.10/dist-packages (from matplotlib>=3.3.0->mealpy) (1.2.0)\n",
            "Requirement already satisfied: cycler>=0.10 in /usr/local/lib/python3.10/dist-packages (from matplotlib>=3.3.0->mealpy) (0.12.1)\n",
            "Requirement already satisfied: fonttools>=4.22.0 in /usr/local/lib/python3.10/dist-packages (from matplotlib>=3.3.0->mealpy) (4.50.0)\n",
            "Requirement already satisfied: kiwisolver>=1.0.1 in /usr/local/lib/python3.10/dist-packages (from matplotlib>=3.3.0->mealpy) (1.4.5)\n",
            "Requirement already satisfied: packaging>=20.0 in /usr/local/lib/python3.10/dist-packages (from matplotlib>=3.3.0->mealpy) (24.0)\n",
            "Requirement already satisfied: pillow>=6.2.0 in /usr/local/lib/python3.10/dist-packages (from matplotlib>=3.3.0->mealpy) (9.4.0)\n",
            "Requirement already satisfied: pyparsing>=2.3.1 in /usr/local/lib/python3.10/dist-packages (from matplotlib>=3.3.0->mealpy) (3.1.2)\n",
            "Requirement already satisfied: python-dateutil>=2.7 in /usr/local/lib/python3.10/dist-packages (from matplotlib>=3.3.0->mealpy) (2.8.2)\n",
            "Requirement already satisfied: requests>=2.27.0 in /usr/local/lib/python3.10/dist-packages (from opfunu>=1.0.0->mealpy) (2.31.0)\n",
            "Requirement already satisfied: pytz>=2020.1 in /usr/local/lib/python3.10/dist-packages (from pandas>=1.2.0->mealpy) (2023.4)\n",
            "Requirement already satisfied: six>=1.5 in /usr/local/lib/python3.10/dist-packages (from python-dateutil>=2.7->matplotlib>=3.3.0->mealpy) (1.16.0)\n",
            "Requirement already satisfied: charset-normalizer<4,>=2 in /usr/local/lib/python3.10/dist-packages (from requests>=2.27.0->opfunu>=1.0.0->mealpy) (3.3.2)\n",
            "Requirement already satisfied: idna<4,>=2.5 in /usr/local/lib/python3.10/dist-packages (from requests>=2.27.0->opfunu>=1.0.0->mealpy) (3.6)\n",
            "Requirement already satisfied: urllib3<3,>=1.21.1 in /usr/local/lib/python3.10/dist-packages (from requests>=2.27.0->opfunu>=1.0.0->mealpy) (2.0.7)\n",
            "Requirement already satisfied: certifi>=2017.4.17 in /usr/local/lib/python3.10/dist-packages (from requests>=2.27.0->opfunu>=1.0.0->mealpy) (2024.2.2)\n",
            "Installing collected packages: opfunu, mealpy\n",
            "Successfully installed mealpy-3.0.1 opfunu-1.0.2\n",
            "Collecting catboost\n",
            "  Downloading catboost-1.2.3-cp310-cp310-manylinux2014_x86_64.whl (98.5 MB)\n",
            "\u001b[2K     \u001b[90m━━━━━━━━━━━━━━━━━━━━━━━━━━━━━━━━━━━━━━━━\u001b[0m \u001b[32m98.5/98.5 MB\u001b[0m \u001b[31m6.5 MB/s\u001b[0m eta \u001b[36m0:00:00\u001b[0m\n",
            "\u001b[?25hRequirement already satisfied: graphviz in /usr/local/lib/python3.10/dist-packages (from catboost) (0.20.3)\n",
            "Requirement already satisfied: matplotlib in /usr/local/lib/python3.10/dist-packages (from catboost) (3.7.1)\n",
            "Requirement already satisfied: numpy>=1.16.0 in /usr/local/lib/python3.10/dist-packages (from catboost) (1.25.2)\n",
            "Requirement already satisfied: pandas>=0.24 in /usr/local/lib/python3.10/dist-packages (from catboost) (1.5.3)\n",
            "Requirement already satisfied: scipy in /usr/local/lib/python3.10/dist-packages (from catboost) (1.11.4)\n",
            "Requirement already satisfied: plotly in /usr/local/lib/python3.10/dist-packages (from catboost) (5.15.0)\n",
            "Requirement already satisfied: six in /usr/local/lib/python3.10/dist-packages (from catboost) (1.16.0)\n",
            "Requirement already satisfied: python-dateutil>=2.8.1 in /usr/local/lib/python3.10/dist-packages (from pandas>=0.24->catboost) (2.8.2)\n",
            "Requirement already satisfied: pytz>=2020.1 in /usr/local/lib/python3.10/dist-packages (from pandas>=0.24->catboost) (2023.4)\n",
            "Requirement already satisfied: contourpy>=1.0.1 in /usr/local/lib/python3.10/dist-packages (from matplotlib->catboost) (1.2.0)\n",
            "Requirement already satisfied: cycler>=0.10 in /usr/local/lib/python3.10/dist-packages (from matplotlib->catboost) (0.12.1)\n",
            "Requirement already satisfied: fonttools>=4.22.0 in /usr/local/lib/python3.10/dist-packages (from matplotlib->catboost) (4.50.0)\n",
            "Requirement already satisfied: kiwisolver>=1.0.1 in /usr/local/lib/python3.10/dist-packages (from matplotlib->catboost) (1.4.5)\n",
            "Requirement already satisfied: packaging>=20.0 in /usr/local/lib/python3.10/dist-packages (from matplotlib->catboost) (24.0)\n",
            "Requirement already satisfied: pillow>=6.2.0 in /usr/local/lib/python3.10/dist-packages (from matplotlib->catboost) (9.4.0)\n",
            "Requirement already satisfied: pyparsing>=2.3.1 in /usr/local/lib/python3.10/dist-packages (from matplotlib->catboost) (3.1.2)\n",
            "Requirement already satisfied: tenacity>=6.2.0 in /usr/local/lib/python3.10/dist-packages (from plotly->catboost) (8.2.3)\n",
            "Installing collected packages: catboost\n",
            "Successfully installed catboost-1.2.3\n",
            "WELLCOME TO IMPLEMENTATION\n"
          ]
        }
      ],
      "source": [
        "!pip install mealpy;\n",
        "import mealpy\n",
        "from mealpy.bio_based import BBO, EOA, IWO, SBO, SMA, TPO, VCS, WHO\n",
        "from mealpy.evolutionary_based import CRO, DE, EP, ES, FPA, GA, MA\n",
        "from mealpy.human_based import BRO, BSO, CA, CHIO, FBIO, GSKA, ICA, LCO, QSA, SARO, SSDO, TLO\n",
        "from mealpy.math_based import AOA, CGO, GBO, HC, SCA, PSS\n",
        "from mealpy.music_based import HS\n",
        "from mealpy.physics_based import ArchOA, ASO, EFO, EO, HGSO, MVO, NRO, SA, TWO, WDO\n",
        "# from mealpy.probabilistic_based import CEM\n",
        "from mealpy.system_based import AEO, GCO, WCA\n",
        "from mealpy.swarm_based import ABC, ACOR, ALO, AO, BA, BeesA, BES, BFO, BSA, COA, CSA, CSO, DO, EHO, FA, FFA, FOA, GOA, GWO, HGS\n",
        "from mealpy.swarm_based import HHO, JA, MFO, MRFO, MSA, NMRA, PFA, PSO, SFO, SHO, SLO, SRSR, SSA, SSO, SSpiderA, SSpiderO, WOA\n",
        "from sys import exit\n",
        "import numpy as np\n",
        "import tweepy\n",
        "import webbrowser\n",
        "import time\n",
        "import pandas as pd\n",
        "import datetime\n",
        "import threading\n",
        "import matplotlib.pyplot as plt\n",
        "import numpy as np\n",
        "import pandas as pd\n",
        "from sklearn.model_selection import cross_val_score\n",
        "# !pip install mealpy\n",
        "import mealpy\n",
        "# Load libraries\n",
        "# %tensorflow_version 2.x\n",
        "from __future__ import absolute_import, division, print_function, unicode_literals\n",
        "\n",
        "import numpy as np\n",
        "import pandas as pd\n",
        "import matplotlib.pyplot as plt\n",
        "from IPython.display import clear_output\n",
        "from six.moves import urllib\n",
        "\n",
        "# import tensorflow.compat.v2.feature_column as fc\n",
        "\n",
        "# import tensorflow as tf\n",
        "from pandas.plotting import scatter_matrix\n",
        "from sklearn import model_selection\n",
        "from sklearn.metrics import classification_report\n",
        "from sklearn.metrics import confusion_matrix\n",
        "import random as rn\n",
        "# from sklearn.metrics import confusion_matrix, plot_confusion_matrix, classification_report\n",
        "# create the models\n",
        "from sklearn.tree import DecisionTreeClassifier\n",
        "from sklearn.discriminant_analysis import LinearDiscriminantAnalysis\n",
        "from sklearn.metrics import accuracy_score\n",
        "from sklearn.metrics import precision_score\n",
        "from sklearn.metrics import recall_score\n",
        "from sklearn.metrics import f1_score\n",
        "# module imports\n",
        "import numpy as np\n",
        "import pandas as pd\n",
        "import matplotlib.pyplot as plt\n",
        "import seaborn as sns\n",
        "import itertools\n",
        "import random as rn\n",
        "\n",
        "# model imports\n",
        "from sklearn.cluster import KMeans #one with clusterimg (disaster)\n",
        "from sklearn.ensemble import RandomForestClassifier\n",
        "from sklearn.neighbors import KNeighborsClassifier\n",
        "from sklearn.linear_model import LogisticRegression\n",
        "from sklearn.tree import DecisionTreeClassifier\n",
        "from sklearn.multiclass import OneVsRestClassifier\n",
        "from sklearn.tree import DecisionTreeRegressor\n",
        "from sklearn.dummy import DummyClassifier #that zero\n",
        "from sklearn.svm import SVC, SVR\n",
        "from sklearn.naive_bayes import GaussianNB\n",
        "# from sklearn.ensemble import RandomForestClassifier\n",
        "# processing imports\n",
        "from sklearn.preprocessing import LabelEncoder\n",
        "from sklearn.model_selection import train_test_split\n",
        "from sklearn.model_selection import cross_val_score\n",
        "from sklearn.metrics import mean_absolute_error\n",
        "# from sklearn.metrics import accuracy_score\n",
        "# from sklearn.metrics import confusion_matrix\n",
        "from time import time\n",
        "from sklearn.model_selection import train_test_split\n",
        "from sklearn.naive_bayes import MultinomialNB\n",
        "# !pip install catboost\n",
        "from xgboost import XGBClassifier\n",
        "# from catboost import CatBoostClassifier\n",
        "from sklearn.linear_model import LogisticRegression\n",
        "from sklearn.ensemble import RandomForestClassifier\n",
        "from sklearn.svm import LinearSVC\n",
        "from sklearn import metrics\n",
        "# Sklearn modules & classes\n",
        "from sklearn.svm import SVC\n",
        "from sklearn.model_selection import train_test_split, GridSearchCV\n",
        "from sklearn.preprocessing import StandardScaler, LabelEncoder\n",
        "from sklearn import datasets, metrics\n",
        "from mealpy.bio_based import SMA\n",
        "import mealpy\n",
        "from sklearn.naive_bayes import GaussianNB\n",
        "import time\n",
        "from sklearn.model_selection import train_test_split\n",
        "from sklearn.naive_bayes import MultinomialNB\n",
        "!pip install catboost;\n",
        "from xgboost import XGBClassifier\n",
        "from catboost import CatBoostClassifier\n",
        "from sklearn.linear_model import LogisticRegression\n",
        "from sklearn.ensemble import RandomForestClassifier,ExtraTreesClassifier,GradientBoostingClassifier,HistGradientBoostingClassifier,AdaBoostClassifier\n",
        "from sklearn.svm import LinearSVC\n",
        "from sklearn import metrics\n",
        "# Sklearn modules & classes\n",
        "from sklearn.svm import SVC\n",
        "from sklearn.model_selection import train_test_split, GridSearchCV\n",
        "from sklearn.preprocessing import StandardScaler, LabelEncoder\n",
        "from sklearn import datasets, metrics\n",
        "from mealpy.bio_based import SMA\n",
        "from sklearn.naive_bayes import GaussianNB\n",
        "from sklearn.metrics import classification_report,confusion_matrix\n",
        "print(\"WELLCOME TO IMPLEMENTATION\")\n",
        "# create the models\n",
        "from sklearn.metrics import accuracy_score\n",
        "from sklearn.metrics import precision_score\n",
        "from sklearn.metrics import recall_score\n",
        "from sklearn.metrics import f1_score"
      ]
    },
    {
      "cell_type": "code",
      "execution_count": 2,
      "metadata": {
        "id": "wHXIf9X3V4aj"
      },
      "outputs": [],
      "source": [
        "from sklearn.model_selection import train_test_split"
      ]
    },
    {
      "cell_type": "code",
      "execution_count": 7,
      "metadata": {
        "colab": {
          "base_uri": "https://localhost:8080/"
        },
        "id": "WA3HqN36StKa",
        "outputId": "d410b18e-3284-463c-e043-70f481ba10bd"
      },
      "outputs": [
        {
          "output_type": "stream",
          "name": "stdout",
          "text": [
            "Mounted at /content/drive\n"
          ]
        }
      ],
      "source": [
        "from google.colab import drive\n",
        "drive.mount('/content/drive')"
      ]
    },
    {
      "cell_type": "markdown",
      "metadata": {
        "id": "waNvzZNTLgXy"
      },
      "source": [
        "# Kaggle Data"
      ]
    },
    {
      "cell_type": "code",
      "execution_count": 10,
      "metadata": {
        "id": "HXMDHRCmEvF1"
      },
      "outputs": [],
      "source": [
        "# !mkdir ~/.kaggle\n",
        "! cp /content/drive/MyDrive/kaggle.json ~/.kaggle/\n",
        "! chmod 600 ~/.kaggle/kaggle.json\n",
        "\n"
      ]
    },
    {
      "cell_type": "code",
      "execution_count": 11,
      "metadata": {
        "id": "OPPq9-pWASfX",
        "colab": {
          "base_uri": "https://localhost:8080/"
        },
        "outputId": "d40ca81d-5a3a-4bd4-c3ee-3d7e2b52f41c"
      },
      "outputs": [
        {
          "output_type": "stream",
          "name": "stdout",
          "text": [
            "Downloading car-evaluation-data-set.zip to /content\n",
            "\r  0% 0.00/4.66k [00:00<?, ?B/s]\n",
            "\r100% 4.66k/4.66k [00:00<00:00, 6.10MB/s]\n"
          ]
        }
      ],
      "source": [
        "!kaggle datasets download -d elikplim/car-evaluation-data-set"
      ]
    },
    {
      "cell_type": "code",
      "execution_count": 5,
      "metadata": {
        "id": "NgoXr6TbURIF"
      },
      "outputs": [],
      "source": [
        "# !kaggle datasets download -d michaelchalamet/brain-cancer-data"
      ]
    },
    {
      "cell_type": "code",
      "execution_count": 12,
      "metadata": {
        "colab": {
          "base_uri": "https://localhost:8080/"
        },
        "id": "YZkhrGT4E7Jm",
        "outputId": "9216e746-5cc5-46a9-9246-e4adc923b282"
      },
      "outputs": [
        {
          "output_type": "stream",
          "name": "stdout",
          "text": [
            "Archive:  /content/car-evaluation-data-set.zip\n",
            "  inflating: car_evaluation.csv      \n"
          ]
        }
      ],
      "source": [
        "!unzip /content/car-evaluation-data-set.zip"
      ]
    },
    {
      "cell_type": "markdown",
      "metadata": {
        "id": "dys89vMWLh4Q"
      },
      "source": [
        "# Load Data"
      ]
    },
    {
      "cell_type": "code",
      "execution_count": 15,
      "metadata": {
        "id": "zVxlvrOHE9yn"
      },
      "outputs": [],
      "source": [
        "data = pd.read_csv('/content/car_evaluation.csv',header=None)"
      ]
    },
    {
      "cell_type": "code",
      "execution_count": 16,
      "metadata": {
        "colab": {
          "base_uri": "https://localhost:8080/",
          "height": 423
        },
        "id": "ETHfmhk6GFdm",
        "outputId": "fdac4d9e-e0fa-44d8-e3da-f5530b7fd5fa"
      },
      "outputs": [
        {
          "output_type": "execute_result",
          "data": {
            "text/plain": [
              "          0      1      2     3      4     5      6\n",
              "0     vhigh  vhigh      2     2  small   low  unacc\n",
              "1     vhigh  vhigh      2     2  small   med  unacc\n",
              "2     vhigh  vhigh      2     2  small  high  unacc\n",
              "3     vhigh  vhigh      2     2    med   low  unacc\n",
              "4     vhigh  vhigh      2     2    med   med  unacc\n",
              "...     ...    ...    ...   ...    ...   ...    ...\n",
              "1723    low    low  5more  more    med   med   good\n",
              "1724    low    low  5more  more    med  high  vgood\n",
              "1725    low    low  5more  more    big   low  unacc\n",
              "1726    low    low  5more  more    big   med   good\n",
              "1727    low    low  5more  more    big  high  vgood\n",
              "\n",
              "[1728 rows x 7 columns]"
            ],
            "text/html": [
              "\n",
              "  <div id=\"df-9c398fe9-fc74-4d80-b0b5-d68ea40daaec\" class=\"colab-df-container\">\n",
              "    <div>\n",
              "<style scoped>\n",
              "    .dataframe tbody tr th:only-of-type {\n",
              "        vertical-align: middle;\n",
              "    }\n",
              "\n",
              "    .dataframe tbody tr th {\n",
              "        vertical-align: top;\n",
              "    }\n",
              "\n",
              "    .dataframe thead th {\n",
              "        text-align: right;\n",
              "    }\n",
              "</style>\n",
              "<table border=\"1\" class=\"dataframe\">\n",
              "  <thead>\n",
              "    <tr style=\"text-align: right;\">\n",
              "      <th></th>\n",
              "      <th>0</th>\n",
              "      <th>1</th>\n",
              "      <th>2</th>\n",
              "      <th>3</th>\n",
              "      <th>4</th>\n",
              "      <th>5</th>\n",
              "      <th>6</th>\n",
              "    </tr>\n",
              "  </thead>\n",
              "  <tbody>\n",
              "    <tr>\n",
              "      <th>0</th>\n",
              "      <td>vhigh</td>\n",
              "      <td>vhigh</td>\n",
              "      <td>2</td>\n",
              "      <td>2</td>\n",
              "      <td>small</td>\n",
              "      <td>low</td>\n",
              "      <td>unacc</td>\n",
              "    </tr>\n",
              "    <tr>\n",
              "      <th>1</th>\n",
              "      <td>vhigh</td>\n",
              "      <td>vhigh</td>\n",
              "      <td>2</td>\n",
              "      <td>2</td>\n",
              "      <td>small</td>\n",
              "      <td>med</td>\n",
              "      <td>unacc</td>\n",
              "    </tr>\n",
              "    <tr>\n",
              "      <th>2</th>\n",
              "      <td>vhigh</td>\n",
              "      <td>vhigh</td>\n",
              "      <td>2</td>\n",
              "      <td>2</td>\n",
              "      <td>small</td>\n",
              "      <td>high</td>\n",
              "      <td>unacc</td>\n",
              "    </tr>\n",
              "    <tr>\n",
              "      <th>3</th>\n",
              "      <td>vhigh</td>\n",
              "      <td>vhigh</td>\n",
              "      <td>2</td>\n",
              "      <td>2</td>\n",
              "      <td>med</td>\n",
              "      <td>low</td>\n",
              "      <td>unacc</td>\n",
              "    </tr>\n",
              "    <tr>\n",
              "      <th>4</th>\n",
              "      <td>vhigh</td>\n",
              "      <td>vhigh</td>\n",
              "      <td>2</td>\n",
              "      <td>2</td>\n",
              "      <td>med</td>\n",
              "      <td>med</td>\n",
              "      <td>unacc</td>\n",
              "    </tr>\n",
              "    <tr>\n",
              "      <th>...</th>\n",
              "      <td>...</td>\n",
              "      <td>...</td>\n",
              "      <td>...</td>\n",
              "      <td>...</td>\n",
              "      <td>...</td>\n",
              "      <td>...</td>\n",
              "      <td>...</td>\n",
              "    </tr>\n",
              "    <tr>\n",
              "      <th>1723</th>\n",
              "      <td>low</td>\n",
              "      <td>low</td>\n",
              "      <td>5more</td>\n",
              "      <td>more</td>\n",
              "      <td>med</td>\n",
              "      <td>med</td>\n",
              "      <td>good</td>\n",
              "    </tr>\n",
              "    <tr>\n",
              "      <th>1724</th>\n",
              "      <td>low</td>\n",
              "      <td>low</td>\n",
              "      <td>5more</td>\n",
              "      <td>more</td>\n",
              "      <td>med</td>\n",
              "      <td>high</td>\n",
              "      <td>vgood</td>\n",
              "    </tr>\n",
              "    <tr>\n",
              "      <th>1725</th>\n",
              "      <td>low</td>\n",
              "      <td>low</td>\n",
              "      <td>5more</td>\n",
              "      <td>more</td>\n",
              "      <td>big</td>\n",
              "      <td>low</td>\n",
              "      <td>unacc</td>\n",
              "    </tr>\n",
              "    <tr>\n",
              "      <th>1726</th>\n",
              "      <td>low</td>\n",
              "      <td>low</td>\n",
              "      <td>5more</td>\n",
              "      <td>more</td>\n",
              "      <td>big</td>\n",
              "      <td>med</td>\n",
              "      <td>good</td>\n",
              "    </tr>\n",
              "    <tr>\n",
              "      <th>1727</th>\n",
              "      <td>low</td>\n",
              "      <td>low</td>\n",
              "      <td>5more</td>\n",
              "      <td>more</td>\n",
              "      <td>big</td>\n",
              "      <td>high</td>\n",
              "      <td>vgood</td>\n",
              "    </tr>\n",
              "  </tbody>\n",
              "</table>\n",
              "<p>1728 rows × 7 columns</p>\n",
              "</div>\n",
              "    <div class=\"colab-df-buttons\">\n",
              "\n",
              "  <div class=\"colab-df-container\">\n",
              "    <button class=\"colab-df-convert\" onclick=\"convertToInteractive('df-9c398fe9-fc74-4d80-b0b5-d68ea40daaec')\"\n",
              "            title=\"Convert this dataframe to an interactive table.\"\n",
              "            style=\"display:none;\">\n",
              "\n",
              "  <svg xmlns=\"http://www.w3.org/2000/svg\" height=\"24px\" viewBox=\"0 -960 960 960\">\n",
              "    <path d=\"M120-120v-720h720v720H120Zm60-500h600v-160H180v160Zm220 220h160v-160H400v160Zm0 220h160v-160H400v160ZM180-400h160v-160H180v160Zm440 0h160v-160H620v160ZM180-180h160v-160H180v160Zm440 0h160v-160H620v160Z\"/>\n",
              "  </svg>\n",
              "    </button>\n",
              "\n",
              "  <style>\n",
              "    .colab-df-container {\n",
              "      display:flex;\n",
              "      gap: 12px;\n",
              "    }\n",
              "\n",
              "    .colab-df-convert {\n",
              "      background-color: #E8F0FE;\n",
              "      border: none;\n",
              "      border-radius: 50%;\n",
              "      cursor: pointer;\n",
              "      display: none;\n",
              "      fill: #1967D2;\n",
              "      height: 32px;\n",
              "      padding: 0 0 0 0;\n",
              "      width: 32px;\n",
              "    }\n",
              "\n",
              "    .colab-df-convert:hover {\n",
              "      background-color: #E2EBFA;\n",
              "      box-shadow: 0px 1px 2px rgba(60, 64, 67, 0.3), 0px 1px 3px 1px rgba(60, 64, 67, 0.15);\n",
              "      fill: #174EA6;\n",
              "    }\n",
              "\n",
              "    .colab-df-buttons div {\n",
              "      margin-bottom: 4px;\n",
              "    }\n",
              "\n",
              "    [theme=dark] .colab-df-convert {\n",
              "      background-color: #3B4455;\n",
              "      fill: #D2E3FC;\n",
              "    }\n",
              "\n",
              "    [theme=dark] .colab-df-convert:hover {\n",
              "      background-color: #434B5C;\n",
              "      box-shadow: 0px 1px 3px 1px rgba(0, 0, 0, 0.15);\n",
              "      filter: drop-shadow(0px 1px 2px rgba(0, 0, 0, 0.3));\n",
              "      fill: #FFFFFF;\n",
              "    }\n",
              "  </style>\n",
              "\n",
              "    <script>\n",
              "      const buttonEl =\n",
              "        document.querySelector('#df-9c398fe9-fc74-4d80-b0b5-d68ea40daaec button.colab-df-convert');\n",
              "      buttonEl.style.display =\n",
              "        google.colab.kernel.accessAllowed ? 'block' : 'none';\n",
              "\n",
              "      async function convertToInteractive(key) {\n",
              "        const element = document.querySelector('#df-9c398fe9-fc74-4d80-b0b5-d68ea40daaec');\n",
              "        const dataTable =\n",
              "          await google.colab.kernel.invokeFunction('convertToInteractive',\n",
              "                                                    [key], {});\n",
              "        if (!dataTable) return;\n",
              "\n",
              "        const docLinkHtml = 'Like what you see? Visit the ' +\n",
              "          '<a target=\"_blank\" href=https://colab.research.google.com/notebooks/data_table.ipynb>data table notebook</a>'\n",
              "          + ' to learn more about interactive tables.';\n",
              "        element.innerHTML = '';\n",
              "        dataTable['output_type'] = 'display_data';\n",
              "        await google.colab.output.renderOutput(dataTable, element);\n",
              "        const docLink = document.createElement('div');\n",
              "        docLink.innerHTML = docLinkHtml;\n",
              "        element.appendChild(docLink);\n",
              "      }\n",
              "    </script>\n",
              "  </div>\n",
              "\n",
              "\n",
              "<div id=\"df-7b8a143f-2c2b-444a-b479-3b3f4829501f\">\n",
              "  <button class=\"colab-df-quickchart\" onclick=\"quickchart('df-7b8a143f-2c2b-444a-b479-3b3f4829501f')\"\n",
              "            title=\"Suggest charts\"\n",
              "            style=\"display:none;\">\n",
              "\n",
              "<svg xmlns=\"http://www.w3.org/2000/svg\" height=\"24px\"viewBox=\"0 0 24 24\"\n",
              "     width=\"24px\">\n",
              "    <g>\n",
              "        <path d=\"M19 3H5c-1.1 0-2 .9-2 2v14c0 1.1.9 2 2 2h14c1.1 0 2-.9 2-2V5c0-1.1-.9-2-2-2zM9 17H7v-7h2v7zm4 0h-2V7h2v10zm4 0h-2v-4h2v4z\"/>\n",
              "    </g>\n",
              "</svg>\n",
              "  </button>\n",
              "\n",
              "<style>\n",
              "  .colab-df-quickchart {\n",
              "      --bg-color: #E8F0FE;\n",
              "      --fill-color: #1967D2;\n",
              "      --hover-bg-color: #E2EBFA;\n",
              "      --hover-fill-color: #174EA6;\n",
              "      --disabled-fill-color: #AAA;\n",
              "      --disabled-bg-color: #DDD;\n",
              "  }\n",
              "\n",
              "  [theme=dark] .colab-df-quickchart {\n",
              "      --bg-color: #3B4455;\n",
              "      --fill-color: #D2E3FC;\n",
              "      --hover-bg-color: #434B5C;\n",
              "      --hover-fill-color: #FFFFFF;\n",
              "      --disabled-bg-color: #3B4455;\n",
              "      --disabled-fill-color: #666;\n",
              "  }\n",
              "\n",
              "  .colab-df-quickchart {\n",
              "    background-color: var(--bg-color);\n",
              "    border: none;\n",
              "    border-radius: 50%;\n",
              "    cursor: pointer;\n",
              "    display: none;\n",
              "    fill: var(--fill-color);\n",
              "    height: 32px;\n",
              "    padding: 0;\n",
              "    width: 32px;\n",
              "  }\n",
              "\n",
              "  .colab-df-quickchart:hover {\n",
              "    background-color: var(--hover-bg-color);\n",
              "    box-shadow: 0 1px 2px rgba(60, 64, 67, 0.3), 0 1px 3px 1px rgba(60, 64, 67, 0.15);\n",
              "    fill: var(--button-hover-fill-color);\n",
              "  }\n",
              "\n",
              "  .colab-df-quickchart-complete:disabled,\n",
              "  .colab-df-quickchart-complete:disabled:hover {\n",
              "    background-color: var(--disabled-bg-color);\n",
              "    fill: var(--disabled-fill-color);\n",
              "    box-shadow: none;\n",
              "  }\n",
              "\n",
              "  .colab-df-spinner {\n",
              "    border: 2px solid var(--fill-color);\n",
              "    border-color: transparent;\n",
              "    border-bottom-color: var(--fill-color);\n",
              "    animation:\n",
              "      spin 1s steps(1) infinite;\n",
              "  }\n",
              "\n",
              "  @keyframes spin {\n",
              "    0% {\n",
              "      border-color: transparent;\n",
              "      border-bottom-color: var(--fill-color);\n",
              "      border-left-color: var(--fill-color);\n",
              "    }\n",
              "    20% {\n",
              "      border-color: transparent;\n",
              "      border-left-color: var(--fill-color);\n",
              "      border-top-color: var(--fill-color);\n",
              "    }\n",
              "    30% {\n",
              "      border-color: transparent;\n",
              "      border-left-color: var(--fill-color);\n",
              "      border-top-color: var(--fill-color);\n",
              "      border-right-color: var(--fill-color);\n",
              "    }\n",
              "    40% {\n",
              "      border-color: transparent;\n",
              "      border-right-color: var(--fill-color);\n",
              "      border-top-color: var(--fill-color);\n",
              "    }\n",
              "    60% {\n",
              "      border-color: transparent;\n",
              "      border-right-color: var(--fill-color);\n",
              "    }\n",
              "    80% {\n",
              "      border-color: transparent;\n",
              "      border-right-color: var(--fill-color);\n",
              "      border-bottom-color: var(--fill-color);\n",
              "    }\n",
              "    90% {\n",
              "      border-color: transparent;\n",
              "      border-bottom-color: var(--fill-color);\n",
              "    }\n",
              "  }\n",
              "</style>\n",
              "\n",
              "  <script>\n",
              "    async function quickchart(key) {\n",
              "      const quickchartButtonEl =\n",
              "        document.querySelector('#' + key + ' button');\n",
              "      quickchartButtonEl.disabled = true;  // To prevent multiple clicks.\n",
              "      quickchartButtonEl.classList.add('colab-df-spinner');\n",
              "      try {\n",
              "        const charts = await google.colab.kernel.invokeFunction(\n",
              "            'suggestCharts', [key], {});\n",
              "      } catch (error) {\n",
              "        console.error('Error during call to suggestCharts:', error);\n",
              "      }\n",
              "      quickchartButtonEl.classList.remove('colab-df-spinner');\n",
              "      quickchartButtonEl.classList.add('colab-df-quickchart-complete');\n",
              "    }\n",
              "    (() => {\n",
              "      let quickchartButtonEl =\n",
              "        document.querySelector('#df-7b8a143f-2c2b-444a-b479-3b3f4829501f button');\n",
              "      quickchartButtonEl.style.display =\n",
              "        google.colab.kernel.accessAllowed ? 'block' : 'none';\n",
              "    })();\n",
              "  </script>\n",
              "</div>\n",
              "    </div>\n",
              "  </div>\n"
            ],
            "application/vnd.google.colaboratory.intrinsic+json": {
              "type": "dataframe",
              "variable_name": "data",
              "summary": "{\n  \"name\": \"data\",\n  \"rows\": 1728,\n  \"fields\": [\n    {\n      \"column\": 0,\n      \"properties\": {\n        \"dtype\": \"category\",\n        \"num_unique_values\": 4,\n        \"samples\": [\n          \"high\",\n          \"low\",\n          \"vhigh\"\n        ],\n        \"semantic_type\": \"\",\n        \"description\": \"\"\n      }\n    },\n    {\n      \"column\": 1,\n      \"properties\": {\n        \"dtype\": \"category\",\n        \"num_unique_values\": 4,\n        \"samples\": [\n          \"high\",\n          \"low\",\n          \"vhigh\"\n        ],\n        \"semantic_type\": \"\",\n        \"description\": \"\"\n      }\n    },\n    {\n      \"column\": 2,\n      \"properties\": {\n        \"dtype\": \"category\",\n        \"num_unique_values\": 4,\n        \"samples\": [\n          \"3\",\n          \"5more\",\n          \"2\"\n        ],\n        \"semantic_type\": \"\",\n        \"description\": \"\"\n      }\n    },\n    {\n      \"column\": 3,\n      \"properties\": {\n        \"dtype\": \"category\",\n        \"num_unique_values\": 3,\n        \"samples\": [\n          \"2\",\n          \"4\",\n          \"more\"\n        ],\n        \"semantic_type\": \"\",\n        \"description\": \"\"\n      }\n    },\n    {\n      \"column\": 4,\n      \"properties\": {\n        \"dtype\": \"category\",\n        \"num_unique_values\": 3,\n        \"samples\": [\n          \"small\",\n          \"med\",\n          \"big\"\n        ],\n        \"semantic_type\": \"\",\n        \"description\": \"\"\n      }\n    },\n    {\n      \"column\": 5,\n      \"properties\": {\n        \"dtype\": \"category\",\n        \"num_unique_values\": 3,\n        \"samples\": [\n          \"low\",\n          \"med\",\n          \"high\"\n        ],\n        \"semantic_type\": \"\",\n        \"description\": \"\"\n      }\n    },\n    {\n      \"column\": 6,\n      \"properties\": {\n        \"dtype\": \"category\",\n        \"num_unique_values\": 4,\n        \"samples\": [\n          \"acc\",\n          \"good\",\n          \"unacc\"\n        ],\n        \"semantic_type\": \"\",\n        \"description\": \"\"\n      }\n    }\n  ]\n}"
            }
          },
          "metadata": {},
          "execution_count": 16
        }
      ],
      "source": [
        "data"
      ]
    },
    {
      "cell_type": "code",
      "execution_count": 17,
      "metadata": {
        "colab": {
          "base_uri": "https://localhost:8080/"
        },
        "id": "UvgArWLiVeop",
        "outputId": "4ec3c461-8934-4dc7-9365-b178f24875ed"
      },
      "outputs": [
        {
          "output_type": "execute_result",
          "data": {
            "text/plain": [
              "0"
            ]
          },
          "metadata": {},
          "execution_count": 17
        }
      ],
      "source": [
        "data.isna().sum().sum()"
      ]
    },
    {
      "cell_type": "code",
      "execution_count": 38,
      "metadata": {
        "id": "X5zxuWjJGTHm"
      },
      "outputs": [],
      "source": [
        "import os\n",
        "path = '/content/drive/MyDrive/work74car/'\n",
        "os.makedirs(path,exist_ok=True)"
      ]
    },
    {
      "cell_type": "code",
      "execution_count": null,
      "metadata": {
        "id": "a_uy692GMl73"
      },
      "outputs": [],
      "source": [
        "# data.drop(data.columns[0],inplace=True,axis=1)"
      ]
    },
    {
      "cell_type": "markdown",
      "metadata": {
        "id": "DGEVOzphVmgx"
      },
      "source": [
        "# VISUALIZE"
      ]
    },
    {
      "cell_type": "code",
      "execution_count": null,
      "metadata": {
        "colab": {
          "base_uri": "https://localhost:8080/",
          "height": 424
        },
        "id": "ztTjw-L9Vl9g",
        "outputId": "199ae874-31ae-4645-ab24-0b271a287597"
      },
      "outputs": [
        {
          "data": {
            "application/vnd.google.colaboratory.intrinsic+json": {
              "summary": "{\n  \"name\": \"data\",\n  \"rows\": 299,\n  \"fields\": [\n    {\n      \"column\": \"age\",\n      \"properties\": {\n        \"dtype\": \"number\",\n        \"std\": 11.89480907404447,\n        \"min\": 40.0,\n        \"max\": 95.0,\n        \"num_unique_values\": 47,\n        \"samples\": [\n          79.0,\n          40.0,\n          67.0\n        ],\n        \"semantic_type\": \"\",\n        \"description\": \"\"\n      }\n    },\n    {\n      \"column\": \"anaemia\",\n      \"properties\": {\n        \"dtype\": \"number\",\n        \"std\": 0,\n        \"min\": 0,\n        \"max\": 1,\n        \"num_unique_values\": 2,\n        \"samples\": [\n          1,\n          0\n        ],\n        \"semantic_type\": \"\",\n        \"description\": \"\"\n      }\n    },\n    {\n      \"column\": \"creatinine_phosphokinase\",\n      \"properties\": {\n        \"dtype\": \"number\",\n        \"std\": 970,\n        \"min\": 23,\n        \"max\": 7861,\n        \"num_unique_values\": 208,\n        \"samples\": [\n          86,\n          379\n        ],\n        \"semantic_type\": \"\",\n        \"description\": \"\"\n      }\n    },\n    {\n      \"column\": \"diabetes\",\n      \"properties\": {\n        \"dtype\": \"number\",\n        \"std\": 0,\n        \"min\": 0,\n        \"max\": 1,\n        \"num_unique_values\": 2,\n        \"samples\": [\n          1,\n          0\n        ],\n        \"semantic_type\": \"\",\n        \"description\": \"\"\n      }\n    },\n    {\n      \"column\": \"ejection_fraction\",\n      \"properties\": {\n        \"dtype\": \"number\",\n        \"std\": 11,\n        \"min\": 14,\n        \"max\": 80,\n        \"num_unique_values\": 17,\n        \"samples\": [\n          20,\n          38\n        ],\n        \"semantic_type\": \"\",\n        \"description\": \"\"\n      }\n    },\n    {\n      \"column\": \"high_blood_pressure\",\n      \"properties\": {\n        \"dtype\": \"number\",\n        \"std\": 0,\n        \"min\": 0,\n        \"max\": 1,\n        \"num_unique_values\": 2,\n        \"samples\": [\n          0,\n          1\n        ],\n        \"semantic_type\": \"\",\n        \"description\": \"\"\n      }\n    },\n    {\n      \"column\": \"platelets\",\n      \"properties\": {\n        \"dtype\": \"number\",\n        \"std\": 97804.2368685983,\n        \"min\": 25100.0,\n        \"max\": 850000.0,\n        \"num_unique_values\": 176,\n        \"samples\": [\n          297000.0,\n          255000.0\n        ],\n        \"semantic_type\": \"\",\n        \"description\": \"\"\n      }\n    },\n    {\n      \"column\": \"serum_creatinine\",\n      \"properties\": {\n        \"dtype\": \"number\",\n        \"std\": 1.0345100640898541,\n        \"min\": 0.5,\n        \"max\": 9.4,\n        \"num_unique_values\": 40,\n        \"samples\": [\n          4.4,\n          3.5\n        ],\n        \"semantic_type\": \"\",\n        \"description\": \"\"\n      }\n    },\n    {\n      \"column\": \"serum_sodium\",\n      \"properties\": {\n        \"dtype\": \"number\",\n        \"std\": 4,\n        \"min\": 113,\n        \"max\": 148,\n        \"num_unique_values\": 27,\n        \"samples\": [\n          133,\n          134\n        ],\n        \"semantic_type\": \"\",\n        \"description\": \"\"\n      }\n    },\n    {\n      \"column\": \"sex\",\n      \"properties\": {\n        \"dtype\": \"number\",\n        \"std\": 0,\n        \"min\": 0,\n        \"max\": 1,\n        \"num_unique_values\": 2,\n        \"samples\": [\n          0,\n          1\n        ],\n        \"semantic_type\": \"\",\n        \"description\": \"\"\n      }\n    },\n    {\n      \"column\": \"smoking\",\n      \"properties\": {\n        \"dtype\": \"number\",\n        \"std\": 0,\n        \"min\": 0,\n        \"max\": 1,\n        \"num_unique_values\": 2,\n        \"samples\": [\n          1,\n          0\n        ],\n        \"semantic_type\": \"\",\n        \"description\": \"\"\n      }\n    },\n    {\n      \"column\": \"time\",\n      \"properties\": {\n        \"dtype\": \"number\",\n        \"std\": 77,\n        \"min\": 4,\n        \"max\": 285,\n        \"num_unique_values\": 148,\n        \"samples\": [\n          215,\n          79\n        ],\n        \"semantic_type\": \"\",\n        \"description\": \"\"\n      }\n    },\n    {\n      \"column\": \"DEATH_EVENT\",\n      \"properties\": {\n        \"dtype\": \"number\",\n        \"std\": 0,\n        \"min\": 0,\n        \"max\": 1,\n        \"num_unique_values\": 2,\n        \"samples\": [\n          0,\n          1\n        ],\n        \"semantic_type\": \"\",\n        \"description\": \"\"\n      }\n    }\n  ]\n}",
              "type": "dataframe",
              "variable_name": "data"
            },
            "text/html": [
              "\n",
              "  <div id=\"df-5e1799b0-eaf4-476d-9ea9-de8bb17b7793\" class=\"colab-df-container\">\n",
              "    <div>\n",
              "<style scoped>\n",
              "    .dataframe tbody tr th:only-of-type {\n",
              "        vertical-align: middle;\n",
              "    }\n",
              "\n",
              "    .dataframe tbody tr th {\n",
              "        vertical-align: top;\n",
              "    }\n",
              "\n",
              "    .dataframe thead th {\n",
              "        text-align: right;\n",
              "    }\n",
              "</style>\n",
              "<table border=\"1\" class=\"dataframe\">\n",
              "  <thead>\n",
              "    <tr style=\"text-align: right;\">\n",
              "      <th></th>\n",
              "      <th>age</th>\n",
              "      <th>anaemia</th>\n",
              "      <th>creatinine_phosphokinase</th>\n",
              "      <th>diabetes</th>\n",
              "      <th>ejection_fraction</th>\n",
              "      <th>high_blood_pressure</th>\n",
              "      <th>platelets</th>\n",
              "      <th>serum_creatinine</th>\n",
              "      <th>serum_sodium</th>\n",
              "      <th>sex</th>\n",
              "      <th>smoking</th>\n",
              "      <th>time</th>\n",
              "      <th>DEATH_EVENT</th>\n",
              "    </tr>\n",
              "  </thead>\n",
              "  <tbody>\n",
              "    <tr>\n",
              "      <th>0</th>\n",
              "      <td>75.0</td>\n",
              "      <td>0</td>\n",
              "      <td>582</td>\n",
              "      <td>0</td>\n",
              "      <td>20</td>\n",
              "      <td>1</td>\n",
              "      <td>265000.00</td>\n",
              "      <td>1.9</td>\n",
              "      <td>130</td>\n",
              "      <td>1</td>\n",
              "      <td>0</td>\n",
              "      <td>4</td>\n",
              "      <td>1</td>\n",
              "    </tr>\n",
              "    <tr>\n",
              "      <th>1</th>\n",
              "      <td>55.0</td>\n",
              "      <td>0</td>\n",
              "      <td>7861</td>\n",
              "      <td>0</td>\n",
              "      <td>38</td>\n",
              "      <td>0</td>\n",
              "      <td>263358.03</td>\n",
              "      <td>1.1</td>\n",
              "      <td>136</td>\n",
              "      <td>1</td>\n",
              "      <td>0</td>\n",
              "      <td>6</td>\n",
              "      <td>1</td>\n",
              "    </tr>\n",
              "    <tr>\n",
              "      <th>2</th>\n",
              "      <td>65.0</td>\n",
              "      <td>0</td>\n",
              "      <td>146</td>\n",
              "      <td>0</td>\n",
              "      <td>20</td>\n",
              "      <td>0</td>\n",
              "      <td>162000.00</td>\n",
              "      <td>1.3</td>\n",
              "      <td>129</td>\n",
              "      <td>1</td>\n",
              "      <td>1</td>\n",
              "      <td>7</td>\n",
              "      <td>1</td>\n",
              "    </tr>\n",
              "    <tr>\n",
              "      <th>3</th>\n",
              "      <td>50.0</td>\n",
              "      <td>1</td>\n",
              "      <td>111</td>\n",
              "      <td>0</td>\n",
              "      <td>20</td>\n",
              "      <td>0</td>\n",
              "      <td>210000.00</td>\n",
              "      <td>1.9</td>\n",
              "      <td>137</td>\n",
              "      <td>1</td>\n",
              "      <td>0</td>\n",
              "      <td>7</td>\n",
              "      <td>1</td>\n",
              "    </tr>\n",
              "    <tr>\n",
              "      <th>4</th>\n",
              "      <td>65.0</td>\n",
              "      <td>1</td>\n",
              "      <td>160</td>\n",
              "      <td>1</td>\n",
              "      <td>20</td>\n",
              "      <td>0</td>\n",
              "      <td>327000.00</td>\n",
              "      <td>2.7</td>\n",
              "      <td>116</td>\n",
              "      <td>0</td>\n",
              "      <td>0</td>\n",
              "      <td>8</td>\n",
              "      <td>1</td>\n",
              "    </tr>\n",
              "    <tr>\n",
              "      <th>...</th>\n",
              "      <td>...</td>\n",
              "      <td>...</td>\n",
              "      <td>...</td>\n",
              "      <td>...</td>\n",
              "      <td>...</td>\n",
              "      <td>...</td>\n",
              "      <td>...</td>\n",
              "      <td>...</td>\n",
              "      <td>...</td>\n",
              "      <td>...</td>\n",
              "      <td>...</td>\n",
              "      <td>...</td>\n",
              "      <td>...</td>\n",
              "    </tr>\n",
              "    <tr>\n",
              "      <th>294</th>\n",
              "      <td>62.0</td>\n",
              "      <td>0</td>\n",
              "      <td>61</td>\n",
              "      <td>1</td>\n",
              "      <td>38</td>\n",
              "      <td>1</td>\n",
              "      <td>155000.00</td>\n",
              "      <td>1.1</td>\n",
              "      <td>143</td>\n",
              "      <td>1</td>\n",
              "      <td>1</td>\n",
              "      <td>270</td>\n",
              "      <td>0</td>\n",
              "    </tr>\n",
              "    <tr>\n",
              "      <th>295</th>\n",
              "      <td>55.0</td>\n",
              "      <td>0</td>\n",
              "      <td>1820</td>\n",
              "      <td>0</td>\n",
              "      <td>38</td>\n",
              "      <td>0</td>\n",
              "      <td>270000.00</td>\n",
              "      <td>1.2</td>\n",
              "      <td>139</td>\n",
              "      <td>0</td>\n",
              "      <td>0</td>\n",
              "      <td>271</td>\n",
              "      <td>0</td>\n",
              "    </tr>\n",
              "    <tr>\n",
              "      <th>296</th>\n",
              "      <td>45.0</td>\n",
              "      <td>0</td>\n",
              "      <td>2060</td>\n",
              "      <td>1</td>\n",
              "      <td>60</td>\n",
              "      <td>0</td>\n",
              "      <td>742000.00</td>\n",
              "      <td>0.8</td>\n",
              "      <td>138</td>\n",
              "      <td>0</td>\n",
              "      <td>0</td>\n",
              "      <td>278</td>\n",
              "      <td>0</td>\n",
              "    </tr>\n",
              "    <tr>\n",
              "      <th>297</th>\n",
              "      <td>45.0</td>\n",
              "      <td>0</td>\n",
              "      <td>2413</td>\n",
              "      <td>0</td>\n",
              "      <td>38</td>\n",
              "      <td>0</td>\n",
              "      <td>140000.00</td>\n",
              "      <td>1.4</td>\n",
              "      <td>140</td>\n",
              "      <td>1</td>\n",
              "      <td>1</td>\n",
              "      <td>280</td>\n",
              "      <td>0</td>\n",
              "    </tr>\n",
              "    <tr>\n",
              "      <th>298</th>\n",
              "      <td>50.0</td>\n",
              "      <td>0</td>\n",
              "      <td>196</td>\n",
              "      <td>0</td>\n",
              "      <td>45</td>\n",
              "      <td>0</td>\n",
              "      <td>395000.00</td>\n",
              "      <td>1.6</td>\n",
              "      <td>136</td>\n",
              "      <td>1</td>\n",
              "      <td>1</td>\n",
              "      <td>285</td>\n",
              "      <td>0</td>\n",
              "    </tr>\n",
              "  </tbody>\n",
              "</table>\n",
              "<p>299 rows × 13 columns</p>\n",
              "</div>\n",
              "    <div class=\"colab-df-buttons\">\n",
              "\n",
              "  <div class=\"colab-df-container\">\n",
              "    <button class=\"colab-df-convert\" onclick=\"convertToInteractive('df-5e1799b0-eaf4-476d-9ea9-de8bb17b7793')\"\n",
              "            title=\"Convert this dataframe to an interactive table.\"\n",
              "            style=\"display:none;\">\n",
              "\n",
              "  <svg xmlns=\"http://www.w3.org/2000/svg\" height=\"24px\" viewBox=\"0 -960 960 960\">\n",
              "    <path d=\"M120-120v-720h720v720H120Zm60-500h600v-160H180v160Zm220 220h160v-160H400v160Zm0 220h160v-160H400v160ZM180-400h160v-160H180v160Zm440 0h160v-160H620v160ZM180-180h160v-160H180v160Zm440 0h160v-160H620v160Z\"/>\n",
              "  </svg>\n",
              "    </button>\n",
              "\n",
              "  <style>\n",
              "    .colab-df-container {\n",
              "      display:flex;\n",
              "      gap: 12px;\n",
              "    }\n",
              "\n",
              "    .colab-df-convert {\n",
              "      background-color: #E8F0FE;\n",
              "      border: none;\n",
              "      border-radius: 50%;\n",
              "      cursor: pointer;\n",
              "      display: none;\n",
              "      fill: #1967D2;\n",
              "      height: 32px;\n",
              "      padding: 0 0 0 0;\n",
              "      width: 32px;\n",
              "    }\n",
              "\n",
              "    .colab-df-convert:hover {\n",
              "      background-color: #E2EBFA;\n",
              "      box-shadow: 0px 1px 2px rgba(60, 64, 67, 0.3), 0px 1px 3px 1px rgba(60, 64, 67, 0.15);\n",
              "      fill: #174EA6;\n",
              "    }\n",
              "\n",
              "    .colab-df-buttons div {\n",
              "      margin-bottom: 4px;\n",
              "    }\n",
              "\n",
              "    [theme=dark] .colab-df-convert {\n",
              "      background-color: #3B4455;\n",
              "      fill: #D2E3FC;\n",
              "    }\n",
              "\n",
              "    [theme=dark] .colab-df-convert:hover {\n",
              "      background-color: #434B5C;\n",
              "      box-shadow: 0px 1px 3px 1px rgba(0, 0, 0, 0.15);\n",
              "      filter: drop-shadow(0px 1px 2px rgba(0, 0, 0, 0.3));\n",
              "      fill: #FFFFFF;\n",
              "    }\n",
              "  </style>\n",
              "\n",
              "    <script>\n",
              "      const buttonEl =\n",
              "        document.querySelector('#df-5e1799b0-eaf4-476d-9ea9-de8bb17b7793 button.colab-df-convert');\n",
              "      buttonEl.style.display =\n",
              "        google.colab.kernel.accessAllowed ? 'block' : 'none';\n",
              "\n",
              "      async function convertToInteractive(key) {\n",
              "        const element = document.querySelector('#df-5e1799b0-eaf4-476d-9ea9-de8bb17b7793');\n",
              "        const dataTable =\n",
              "          await google.colab.kernel.invokeFunction('convertToInteractive',\n",
              "                                                    [key], {});\n",
              "        if (!dataTable) return;\n",
              "\n",
              "        const docLinkHtml = 'Like what you see? Visit the ' +\n",
              "          '<a target=\"_blank\" href=https://colab.research.google.com/notebooks/data_table.ipynb>data table notebook</a>'\n",
              "          + ' to learn more about interactive tables.';\n",
              "        element.innerHTML = '';\n",
              "        dataTable['output_type'] = 'display_data';\n",
              "        await google.colab.output.renderOutput(dataTable, element);\n",
              "        const docLink = document.createElement('div');\n",
              "        docLink.innerHTML = docLinkHtml;\n",
              "        element.appendChild(docLink);\n",
              "      }\n",
              "    </script>\n",
              "  </div>\n",
              "\n",
              "\n",
              "<div id=\"df-3eddb419-d7c5-4245-8f36-7862b58d6b3a\">\n",
              "  <button class=\"colab-df-quickchart\" onclick=\"quickchart('df-3eddb419-d7c5-4245-8f36-7862b58d6b3a')\"\n",
              "            title=\"Suggest charts\"\n",
              "            style=\"display:none;\">\n",
              "\n",
              "<svg xmlns=\"http://www.w3.org/2000/svg\" height=\"24px\"viewBox=\"0 0 24 24\"\n",
              "     width=\"24px\">\n",
              "    <g>\n",
              "        <path d=\"M19 3H5c-1.1 0-2 .9-2 2v14c0 1.1.9 2 2 2h14c1.1 0 2-.9 2-2V5c0-1.1-.9-2-2-2zM9 17H7v-7h2v7zm4 0h-2V7h2v10zm4 0h-2v-4h2v4z\"/>\n",
              "    </g>\n",
              "</svg>\n",
              "  </button>\n",
              "\n",
              "<style>\n",
              "  .colab-df-quickchart {\n",
              "      --bg-color: #E8F0FE;\n",
              "      --fill-color: #1967D2;\n",
              "      --hover-bg-color: #E2EBFA;\n",
              "      --hover-fill-color: #174EA6;\n",
              "      --disabled-fill-color: #AAA;\n",
              "      --disabled-bg-color: #DDD;\n",
              "  }\n",
              "\n",
              "  [theme=dark] .colab-df-quickchart {\n",
              "      --bg-color: #3B4455;\n",
              "      --fill-color: #D2E3FC;\n",
              "      --hover-bg-color: #434B5C;\n",
              "      --hover-fill-color: #FFFFFF;\n",
              "      --disabled-bg-color: #3B4455;\n",
              "      --disabled-fill-color: #666;\n",
              "  }\n",
              "\n",
              "  .colab-df-quickchart {\n",
              "    background-color: var(--bg-color);\n",
              "    border: none;\n",
              "    border-radius: 50%;\n",
              "    cursor: pointer;\n",
              "    display: none;\n",
              "    fill: var(--fill-color);\n",
              "    height: 32px;\n",
              "    padding: 0;\n",
              "    width: 32px;\n",
              "  }\n",
              "\n",
              "  .colab-df-quickchart:hover {\n",
              "    background-color: var(--hover-bg-color);\n",
              "    box-shadow: 0 1px 2px rgba(60, 64, 67, 0.3), 0 1px 3px 1px rgba(60, 64, 67, 0.15);\n",
              "    fill: var(--button-hover-fill-color);\n",
              "  }\n",
              "\n",
              "  .colab-df-quickchart-complete:disabled,\n",
              "  .colab-df-quickchart-complete:disabled:hover {\n",
              "    background-color: var(--disabled-bg-color);\n",
              "    fill: var(--disabled-fill-color);\n",
              "    box-shadow: none;\n",
              "  }\n",
              "\n",
              "  .colab-df-spinner {\n",
              "    border: 2px solid var(--fill-color);\n",
              "    border-color: transparent;\n",
              "    border-bottom-color: var(--fill-color);\n",
              "    animation:\n",
              "      spin 1s steps(1) infinite;\n",
              "  }\n",
              "\n",
              "  @keyframes spin {\n",
              "    0% {\n",
              "      border-color: transparent;\n",
              "      border-bottom-color: var(--fill-color);\n",
              "      border-left-color: var(--fill-color);\n",
              "    }\n",
              "    20% {\n",
              "      border-color: transparent;\n",
              "      border-left-color: var(--fill-color);\n",
              "      border-top-color: var(--fill-color);\n",
              "    }\n",
              "    30% {\n",
              "      border-color: transparent;\n",
              "      border-left-color: var(--fill-color);\n",
              "      border-top-color: var(--fill-color);\n",
              "      border-right-color: var(--fill-color);\n",
              "    }\n",
              "    40% {\n",
              "      border-color: transparent;\n",
              "      border-right-color: var(--fill-color);\n",
              "      border-top-color: var(--fill-color);\n",
              "    }\n",
              "    60% {\n",
              "      border-color: transparent;\n",
              "      border-right-color: var(--fill-color);\n",
              "    }\n",
              "    80% {\n",
              "      border-color: transparent;\n",
              "      border-right-color: var(--fill-color);\n",
              "      border-bottom-color: var(--fill-color);\n",
              "    }\n",
              "    90% {\n",
              "      border-color: transparent;\n",
              "      border-bottom-color: var(--fill-color);\n",
              "    }\n",
              "  }\n",
              "</style>\n",
              "\n",
              "  <script>\n",
              "    async function quickchart(key) {\n",
              "      const quickchartButtonEl =\n",
              "        document.querySelector('#' + key + ' button');\n",
              "      quickchartButtonEl.disabled = true;  // To prevent multiple clicks.\n",
              "      quickchartButtonEl.classList.add('colab-df-spinner');\n",
              "      try {\n",
              "        const charts = await google.colab.kernel.invokeFunction(\n",
              "            'suggestCharts', [key], {});\n",
              "      } catch (error) {\n",
              "        console.error('Error during call to suggestCharts:', error);\n",
              "      }\n",
              "      quickchartButtonEl.classList.remove('colab-df-spinner');\n",
              "      quickchartButtonEl.classList.add('colab-df-quickchart-complete');\n",
              "    }\n",
              "    (() => {\n",
              "      let quickchartButtonEl =\n",
              "        document.querySelector('#df-3eddb419-d7c5-4245-8f36-7862b58d6b3a button');\n",
              "      quickchartButtonEl.style.display =\n",
              "        google.colab.kernel.accessAllowed ? 'block' : 'none';\n",
              "    })();\n",
              "  </script>\n",
              "</div>\n",
              "    </div>\n",
              "  </div>\n"
            ],
            "text/plain": [
              "      age  anaemia  creatinine_phosphokinase  diabetes  ejection_fraction  \\\n",
              "0    75.0        0                       582         0                 20   \n",
              "1    55.0        0                      7861         0                 38   \n",
              "2    65.0        0                       146         0                 20   \n",
              "3    50.0        1                       111         0                 20   \n",
              "4    65.0        1                       160         1                 20   \n",
              "..    ...      ...                       ...       ...                ...   \n",
              "294  62.0        0                        61         1                 38   \n",
              "295  55.0        0                      1820         0                 38   \n",
              "296  45.0        0                      2060         1                 60   \n",
              "297  45.0        0                      2413         0                 38   \n",
              "298  50.0        0                       196         0                 45   \n",
              "\n",
              "     high_blood_pressure  platelets  serum_creatinine  serum_sodium  sex  \\\n",
              "0                      1  265000.00               1.9           130    1   \n",
              "1                      0  263358.03               1.1           136    1   \n",
              "2                      0  162000.00               1.3           129    1   \n",
              "3                      0  210000.00               1.9           137    1   \n",
              "4                      0  327000.00               2.7           116    0   \n",
              "..                   ...        ...               ...           ...  ...   \n",
              "294                    1  155000.00               1.1           143    1   \n",
              "295                    0  270000.00               1.2           139    0   \n",
              "296                    0  742000.00               0.8           138    0   \n",
              "297                    0  140000.00               1.4           140    1   \n",
              "298                    0  395000.00               1.6           136    1   \n",
              "\n",
              "     smoking  time  DEATH_EVENT  \n",
              "0          0     4            1  \n",
              "1          0     6            1  \n",
              "2          1     7            1  \n",
              "3          0     7            1  \n",
              "4          0     8            1  \n",
              "..       ...   ...          ...  \n",
              "294        1   270            0  \n",
              "295        0   271            0  \n",
              "296        0   278            0  \n",
              "297        1   280            0  \n",
              "298        1   285            0  \n",
              "\n",
              "[299 rows x 13 columns]"
            ]
          },
          "execution_count": 12,
          "metadata": {},
          "output_type": "execute_result"
        }
      ],
      "source": [
        "data"
      ]
    },
    {
      "cell_type": "code",
      "execution_count": null,
      "metadata": {
        "id": "1teYDCpZGofY"
      },
      "outputs": [],
      "source": [
        "g = data[data.columns[-1]].copy()"
      ]
    },
    {
      "cell_type": "code",
      "execution_count": null,
      "metadata": {
        "colab": {
          "base_uri": "https://localhost:8080/",
          "height": 545
        },
        "id": "9z7CBklf50rX",
        "outputId": "2f965457-97e9-4ddf-a641-e802ba0af9a2"
      },
      "outputs": [
        {
          "data": {
            "image/png": "[encoded data removed]",
            "text/plain": [
              "<Figure size 1100x600 with 1 Axes>"
            ]
          },
          "metadata": {},
          "output_type": "display_data"
        }
      ],
      "source": [
        "plt.figure(figsize=(11,6))\n",
        "g.value_counts().plot(kind='bar')\n",
        "plt.xticks(rotation=0)\n",
        "plt.title('Classes')\n",
        "plt.savefig(f'{path}labels.png',bbox_inches='tight')\n",
        "g.to_csv(f'{path}labels.csv',index=False)"
      ]
    },
    {
      "cell_type": "code",
      "execution_count": null,
      "metadata": {
        "colab": {
          "base_uri": "https://localhost:8080/"
        },
        "id": "5k-NiwN6xHmH",
        "outputId": "86e49b8a-99a3-4fe5-c296-bd11781e8c4e"
      },
      "outputs": [
        {
          "data": {
            "text/plain": [
              "Index(['age', 'anaemia', 'creatinine_phosphokinase', 'diabetes',\n",
              "       'ejection_fraction', 'high_blood_pressure', 'platelets',\n",
              "       'serum_creatinine', 'serum_sodium', 'sex', 'smoking', 'time',\n",
              "       'DEATH_EVENT'],\n",
              "      dtype='object')"
            ]
          },
          "execution_count": 17,
          "metadata": {},
          "output_type": "execute_result"
        }
      ],
      "source": [
        "data.columns"
      ]
    },
    {
      "cell_type": "code",
      "execution_count": null,
      "metadata": {
        "colab": {
          "base_uri": "https://localhost:8080/",
          "height": 424
        },
        "id": "3K6lp5t1xuSX",
        "outputId": "8fab1c9c-f107-46c0-b592-64f7c548e5c2"
      },
      "outputs": [
        {
          "data": {
            "application/vnd.google.colaboratory.intrinsic+json": {
              "summary": "{\n  \"name\": \"data\",\n  \"rows\": 299,\n  \"fields\": [\n    {\n      \"column\": \"age\",\n      \"properties\": {\n        \"dtype\": \"number\",\n        \"std\": 11.89480907404447,\n        \"min\": 40.0,\n        \"max\": 95.0,\n        \"num_unique_values\": 47,\n        \"samples\": [\n          79.0,\n          40.0,\n          67.0\n        ],\n        \"semantic_type\": \"\",\n        \"description\": \"\"\n      }\n    },\n    {\n      \"column\": \"anaemia\",\n      \"properties\": {\n        \"dtype\": \"number\",\n        \"std\": 0,\n        \"min\": 0,\n        \"max\": 1,\n        \"num_unique_values\": 2,\n        \"samples\": [\n          1,\n          0\n        ],\n        \"semantic_type\": \"\",\n        \"description\": \"\"\n      }\n    },\n    {\n      \"column\": \"creatinine_phosphokinase\",\n      \"properties\": {\n        \"dtype\": \"number\",\n        \"std\": 970,\n        \"min\": 23,\n        \"max\": 7861,\n        \"num_unique_values\": 208,\n        \"samples\": [\n          86,\n          379\n        ],\n        \"semantic_type\": \"\",\n        \"description\": \"\"\n      }\n    },\n    {\n      \"column\": \"diabetes\",\n      \"properties\": {\n        \"dtype\": \"number\",\n        \"std\": 0,\n        \"min\": 0,\n        \"max\": 1,\n        \"num_unique_values\": 2,\n        \"samples\": [\n          1,\n          0\n        ],\n        \"semantic_type\": \"\",\n        \"description\": \"\"\n      }\n    },\n    {\n      \"column\": \"ejection_fraction\",\n      \"properties\": {\n        \"dtype\": \"number\",\n        \"std\": 11,\n        \"min\": 14,\n        \"max\": 80,\n        \"num_unique_values\": 17,\n        \"samples\": [\n          20,\n          38\n        ],\n        \"semantic_type\": \"\",\n        \"description\": \"\"\n      }\n    },\n    {\n      \"column\": \"high_blood_pressure\",\n      \"properties\": {\n        \"dtype\": \"number\",\n        \"std\": 0,\n        \"min\": 0,\n        \"max\": 1,\n        \"num_unique_values\": 2,\n        \"samples\": [\n          0,\n          1\n        ],\n        \"semantic_type\": \"\",\n        \"description\": \"\"\n      }\n    },\n    {\n      \"column\": \"platelets\",\n      \"properties\": {\n        \"dtype\": \"number\",\n        \"std\": 97804.2368685983,\n        \"min\": 25100.0,\n        \"max\": 850000.0,\n        \"num_unique_values\": 176,\n        \"samples\": [\n          297000.0,\n          255000.0\n        ],\n        \"semantic_type\": \"\",\n        \"description\": \"\"\n      }\n    },\n    {\n      \"column\": \"serum_creatinine\",\n      \"properties\": {\n        \"dtype\": \"number\",\n        \"std\": 1.0345100640898541,\n        \"min\": 0.5,\n        \"max\": 9.4,\n        \"num_unique_values\": 40,\n        \"samples\": [\n          4.4,\n          3.5\n        ],\n        \"semantic_type\": \"\",\n        \"description\": \"\"\n      }\n    },\n    {\n      \"column\": \"serum_sodium\",\n      \"properties\": {\n        \"dtype\": \"number\",\n        \"std\": 4,\n        \"min\": 113,\n        \"max\": 148,\n        \"num_unique_values\": 27,\n        \"samples\": [\n          133,\n          134\n        ],\n        \"semantic_type\": \"\",\n        \"description\": \"\"\n      }\n    },\n    {\n      \"column\": \"sex\",\n      \"properties\": {\n        \"dtype\": \"number\",\n        \"std\": 0,\n        \"min\": 0,\n        \"max\": 1,\n        \"num_unique_values\": 2,\n        \"samples\": [\n          0,\n          1\n        ],\n        \"semantic_type\": \"\",\n        \"description\": \"\"\n      }\n    },\n    {\n      \"column\": \"smoking\",\n      \"properties\": {\n        \"dtype\": \"number\",\n        \"std\": 0,\n        \"min\": 0,\n        \"max\": 1,\n        \"num_unique_values\": 2,\n        \"samples\": [\n          1,\n          0\n        ],\n        \"semantic_type\": \"\",\n        \"description\": \"\"\n      }\n    },\n    {\n      \"column\": \"time\",\n      \"properties\": {\n        \"dtype\": \"number\",\n        \"std\": 77,\n        \"min\": 4,\n        \"max\": 285,\n        \"num_unique_values\": 148,\n        \"samples\": [\n          215,\n          79\n        ],\n        \"semantic_type\": \"\",\n        \"description\": \"\"\n      }\n    },\n    {\n      \"column\": \"DEATH_EVENT\",\n      \"properties\": {\n        \"dtype\": \"number\",\n        \"std\": 0,\n        \"min\": 0,\n        \"max\": 1,\n        \"num_unique_values\": 2,\n        \"samples\": [\n          0,\n          1\n        ],\n        \"semantic_type\": \"\",\n        \"description\": \"\"\n      }\n    }\n  ]\n}",
              "type": "dataframe",
              "variable_name": "data"
            },
            "text/html": [
              "\n",
              "  <div id=\"df-2e6d94ed-bda3-4fb3-81b7-555129e483ef\" class=\"colab-df-container\">\n",
              "    <div>\n",
              "<style scoped>\n",
              "    .dataframe tbody tr th:only-of-type {\n",
              "        vertical-align: middle;\n",
              "    }\n",
              "\n",
              "    .dataframe tbody tr th {\n",
              "        vertical-align: top;\n",
              "    }\n",
              "\n",
              "    .dataframe thead th {\n",
              "        text-align: right;\n",
              "    }\n",
              "</style>\n",
              "<table border=\"1\" class=\"dataframe\">\n",
              "  <thead>\n",
              "    <tr style=\"text-align: right;\">\n",
              "      <th></th>\n",
              "      <th>age</th>\n",
              "      <th>anaemia</th>\n",
              "      <th>creatinine_phosphokinase</th>\n",
              "      <th>diabetes</th>\n",
              "      <th>ejection_fraction</th>\n",
              "      <th>high_blood_pressure</th>\n",
              "      <th>platelets</th>\n",
              "      <th>serum_creatinine</th>\n",
              "      <th>serum_sodium</th>\n",
              "      <th>sex</th>\n",
              "      <th>smoking</th>\n",
              "      <th>time</th>\n",
              "      <th>DEATH_EVENT</th>\n",
              "    </tr>\n",
              "  </thead>\n",
              "  <tbody>\n",
              "    <tr>\n",
              "      <th>0</th>\n",
              "      <td>75.0</td>\n",
              "      <td>0</td>\n",
              "      <td>582</td>\n",
              "      <td>0</td>\n",
              "      <td>20</td>\n",
              "      <td>1</td>\n",
              "      <td>265000.00</td>\n",
              "      <td>1.9</td>\n",
              "      <td>130</td>\n",
              "      <td>1</td>\n",
              "      <td>0</td>\n",
              "      <td>4</td>\n",
              "      <td>1</td>\n",
              "    </tr>\n",
              "    <tr>\n",
              "      <th>1</th>\n",
              "      <td>55.0</td>\n",
              "      <td>0</td>\n",
              "      <td>7861</td>\n",
              "      <td>0</td>\n",
              "      <td>38</td>\n",
              "      <td>0</td>\n",
              "      <td>263358.03</td>\n",
              "      <td>1.1</td>\n",
              "      <td>136</td>\n",
              "      <td>1</td>\n",
              "      <td>0</td>\n",
              "      <td>6</td>\n",
              "      <td>1</td>\n",
              "    </tr>\n",
              "    <tr>\n",
              "      <th>2</th>\n",
              "      <td>65.0</td>\n",
              "      <td>0</td>\n",
              "      <td>146</td>\n",
              "      <td>0</td>\n",
              "      <td>20</td>\n",
              "      <td>0</td>\n",
              "      <td>162000.00</td>\n",
              "      <td>1.3</td>\n",
              "      <td>129</td>\n",
              "      <td>1</td>\n",
              "      <td>1</td>\n",
              "      <td>7</td>\n",
              "      <td>1</td>\n",
              "    </tr>\n",
              "    <tr>\n",
              "      <th>3</th>\n",
              "      <td>50.0</td>\n",
              "      <td>1</td>\n",
              "      <td>111</td>\n",
              "      <td>0</td>\n",
              "      <td>20</td>\n",
              "      <td>0</td>\n",
              "      <td>210000.00</td>\n",
              "      <td>1.9</td>\n",
              "      <td>137</td>\n",
              "      <td>1</td>\n",
              "      <td>0</td>\n",
              "      <td>7</td>\n",
              "      <td>1</td>\n",
              "    </tr>\n",
              "    <tr>\n",
              "      <th>4</th>\n",
              "      <td>65.0</td>\n",
              "      <td>1</td>\n",
              "      <td>160</td>\n",
              "      <td>1</td>\n",
              "      <td>20</td>\n",
              "      <td>0</td>\n",
              "      <td>327000.00</td>\n",
              "      <td>2.7</td>\n",
              "      <td>116</td>\n",
              "      <td>0</td>\n",
              "      <td>0</td>\n",
              "      <td>8</td>\n",
              "      <td>1</td>\n",
              "    </tr>\n",
              "    <tr>\n",
              "      <th>...</th>\n",
              "      <td>...</td>\n",
              "      <td>...</td>\n",
              "      <td>...</td>\n",
              "      <td>...</td>\n",
              "      <td>...</td>\n",
              "      <td>...</td>\n",
              "      <td>...</td>\n",
              "      <td>...</td>\n",
              "      <td>...</td>\n",
              "      <td>...</td>\n",
              "      <td>...</td>\n",
              "      <td>...</td>\n",
              "      <td>...</td>\n",
              "    </tr>\n",
              "    <tr>\n",
              "      <th>294</th>\n",
              "      <td>62.0</td>\n",
              "      <td>0</td>\n",
              "      <td>61</td>\n",
              "      <td>1</td>\n",
              "      <td>38</td>\n",
              "      <td>1</td>\n",
              "      <td>155000.00</td>\n",
              "      <td>1.1</td>\n",
              "      <td>143</td>\n",
              "      <td>1</td>\n",
              "      <td>1</td>\n",
              "      <td>270</td>\n",
              "      <td>0</td>\n",
              "    </tr>\n",
              "    <tr>\n",
              "      <th>295</th>\n",
              "      <td>55.0</td>\n",
              "      <td>0</td>\n",
              "      <td>1820</td>\n",
              "      <td>0</td>\n",
              "      <td>38</td>\n",
              "      <td>0</td>\n",
              "      <td>270000.00</td>\n",
              "      <td>1.2</td>\n",
              "      <td>139</td>\n",
              "      <td>0</td>\n",
              "      <td>0</td>\n",
              "      <td>271</td>\n",
              "      <td>0</td>\n",
              "    </tr>\n",
              "    <tr>\n",
              "      <th>296</th>\n",
              "      <td>45.0</td>\n",
              "      <td>0</td>\n",
              "      <td>2060</td>\n",
              "      <td>1</td>\n",
              "      <td>60</td>\n",
              "      <td>0</td>\n",
              "      <td>742000.00</td>\n",
              "      <td>0.8</td>\n",
              "      <td>138</td>\n",
              "      <td>0</td>\n",
              "      <td>0</td>\n",
              "      <td>278</td>\n",
              "      <td>0</td>\n",
              "    </tr>\n",
              "    <tr>\n",
              "      <th>297</th>\n",
              "      <td>45.0</td>\n",
              "      <td>0</td>\n",
              "      <td>2413</td>\n",
              "      <td>0</td>\n",
              "      <td>38</td>\n",
              "      <td>0</td>\n",
              "      <td>140000.00</td>\n",
              "      <td>1.4</td>\n",
              "      <td>140</td>\n",
              "      <td>1</td>\n",
              "      <td>1</td>\n",
              "      <td>280</td>\n",
              "      <td>0</td>\n",
              "    </tr>\n",
              "    <tr>\n",
              "      <th>298</th>\n",
              "      <td>50.0</td>\n",
              "      <td>0</td>\n",
              "      <td>196</td>\n",
              "      <td>0</td>\n",
              "      <td>45</td>\n",
              "      <td>0</td>\n",
              "      <td>395000.00</td>\n",
              "      <td>1.6</td>\n",
              "      <td>136</td>\n",
              "      <td>1</td>\n",
              "      <td>1</td>\n",
              "      <td>285</td>\n",
              "      <td>0</td>\n",
              "    </tr>\n",
              "  </tbody>\n",
              "</table>\n",
              "<p>299 rows × 13 columns</p>\n",
              "</div>\n",
              "    <div class=\"colab-df-buttons\">\n",
              "\n",
              "  <div class=\"colab-df-container\">\n",
              "    <button class=\"colab-df-convert\" onclick=\"convertToInteractive('df-2e6d94ed-bda3-4fb3-81b7-555129e483ef')\"\n",
              "            title=\"Convert this dataframe to an interactive table.\"\n",
              "            style=\"display:none;\">\n",
              "\n",
              "  <svg xmlns=\"http://www.w3.org/2000/svg\" height=\"24px\" viewBox=\"0 -960 960 960\">\n",
              "    <path d=\"M120-120v-720h720v720H120Zm60-500h600v-160H180v160Zm220 220h160v-160H400v160Zm0 220h160v-160H400v160ZM180-400h160v-160H180v160Zm440 0h160v-160H620v160ZM180-180h160v-160H180v160Zm440 0h160v-160H620v160Z\"/>\n",
              "  </svg>\n",
              "    </button>\n",
              "\n",
              "  <style>\n",
              "    .colab-df-container {\n",
              "      display:flex;\n",
              "      gap: 12px;\n",
              "    }\n",
              "\n",
              "    .colab-df-convert {\n",
              "      background-color: #E8F0FE;\n",
              "      border: none;\n",
              "      border-radius: 50%;\n",
              "      cursor: pointer;\n",
              "      display: none;\n",
              "      fill: #1967D2;\n",
              "      height: 32px;\n",
              "      padding: 0 0 0 0;\n",
              "      width: 32px;\n",
              "    }\n",
              "\n",
              "    .colab-df-convert:hover {\n",
              "      background-color: #E2EBFA;\n",
              "      box-shadow: 0px 1px 2px rgba(60, 64, 67, 0.3), 0px 1px 3px 1px rgba(60, 64, 67, 0.15);\n",
              "      fill: #174EA6;\n",
              "    }\n",
              "\n",
              "    .colab-df-buttons div {\n",
              "      margin-bottom: 4px;\n",
              "    }\n",
              "\n",
              "    [theme=dark] .colab-df-convert {\n",
              "      background-color: #3B4455;\n",
              "      fill: #D2E3FC;\n",
              "    }\n",
              "\n",
              "    [theme=dark] .colab-df-convert:hover {\n",
              "      background-color: #434B5C;\n",
              "      box-shadow: 0px 1px 3px 1px rgba(0, 0, 0, 0.15);\n",
              "      filter: drop-shadow(0px 1px 2px rgba(0, 0, 0, 0.3));\n",
              "      fill: #FFFFFF;\n",
              "    }\n",
              "  </style>\n",
              "\n",
              "    <script>\n",
              "      const buttonEl =\n",
              "        document.querySelector('#df-2e6d94ed-bda3-4fb3-81b7-555129e483ef button.colab-df-convert');\n",
              "      buttonEl.style.display =\n",
              "        google.colab.kernel.accessAllowed ? 'block' : 'none';\n",
              "\n",
              "      async function convertToInteractive(key) {\n",
              "        const element = document.querySelector('#df-2e6d94ed-bda3-4fb3-81b7-555129e483ef');\n",
              "        const dataTable =\n",
              "          await google.colab.kernel.invokeFunction('convertToInteractive',\n",
              "                                                    [key], {});\n",
              "        if (!dataTable) return;\n",
              "\n",
              "        const docLinkHtml = 'Like what you see? Visit the ' +\n",
              "          '<a target=\"_blank\" href=https://colab.research.google.com/notebooks/data_table.ipynb>data table notebook</a>'\n",
              "          + ' to learn more about interactive tables.';\n",
              "        element.innerHTML = '';\n",
              "        dataTable['output_type'] = 'display_data';\n",
              "        await google.colab.output.renderOutput(dataTable, element);\n",
              "        const docLink = document.createElement('div');\n",
              "        docLink.innerHTML = docLinkHtml;\n",
              "        element.appendChild(docLink);\n",
              "      }\n",
              "    </script>\n",
              "  </div>\n",
              "\n",
              "\n",
              "<div id=\"df-b6f45b1c-0c0d-42c7-a6f7-ad7bede5f800\">\n",
              "  <button class=\"colab-df-quickchart\" onclick=\"quickchart('df-b6f45b1c-0c0d-42c7-a6f7-ad7bede5f800')\"\n",
              "            title=\"Suggest charts\"\n",
              "            style=\"display:none;\">\n",
              "\n",
              "<svg xmlns=\"http://www.w3.org/2000/svg\" height=\"24px\"viewBox=\"0 0 24 24\"\n",
              "     width=\"24px\">\n",
              "    <g>\n",
              "        <path d=\"M19 3H5c-1.1 0-2 .9-2 2v14c0 1.1.9 2 2 2h14c1.1 0 2-.9 2-2V5c0-1.1-.9-2-2-2zM9 17H7v-7h2v7zm4 0h-2V7h2v10zm4 0h-2v-4h2v4z\"/>\n",
              "    </g>\n",
              "</svg>\n",
              "  </button>\n",
              "\n",
              "<style>\n",
              "  .colab-df-quickchart {\n",
              "      --bg-color: #E8F0FE;\n",
              "      --fill-color: #1967D2;\n",
              "      --hover-bg-color: #E2EBFA;\n",
              "      --hover-fill-color: #174EA6;\n",
              "      --disabled-fill-color: #AAA;\n",
              "      --disabled-bg-color: #DDD;\n",
              "  }\n",
              "\n",
              "  [theme=dark] .colab-df-quickchart {\n",
              "      --bg-color: #3B4455;\n",
              "      --fill-color: #D2E3FC;\n",
              "      --hover-bg-color: #434B5C;\n",
              "      --hover-fill-color: #FFFFFF;\n",
              "      --disabled-bg-color: #3B4455;\n",
              "      --disabled-fill-color: #666;\n",
              "  }\n",
              "\n",
              "  .colab-df-quickchart {\n",
              "    background-color: var(--bg-color);\n",
              "    border: none;\n",
              "    border-radius: 50%;\n",
              "    cursor: pointer;\n",
              "    display: none;\n",
              "    fill: var(--fill-color);\n",
              "    height: 32px;\n",
              "    padding: 0;\n",
              "    width: 32px;\n",
              "  }\n",
              "\n",
              "  .colab-df-quickchart:hover {\n",
              "    background-color: var(--hover-bg-color);\n",
              "    box-shadow: 0 1px 2px rgba(60, 64, 67, 0.3), 0 1px 3px 1px rgba(60, 64, 67, 0.15);\n",
              "    fill: var(--button-hover-fill-color);\n",
              "  }\n",
              "\n",
              "  .colab-df-quickchart-complete:disabled,\n",
              "  .colab-df-quickchart-complete:disabled:hover {\n",
              "    background-color: var(--disabled-bg-color);\n",
              "    fill: var(--disabled-fill-color);\n",
              "    box-shadow: none;\n",
              "  }\n",
              "\n",
              "  .colab-df-spinner {\n",
              "    border: 2px solid var(--fill-color);\n",
              "    border-color: transparent;\n",
              "    border-bottom-color: var(--fill-color);\n",
              "    animation:\n",
              "      spin 1s steps(1) infinite;\n",
              "  }\n",
              "\n",
              "  @keyframes spin {\n",
              "    0% {\n",
              "      border-color: transparent;\n",
              "      border-bottom-color: var(--fill-color);\n",
              "      border-left-color: var(--fill-color);\n",
              "    }\n",
              "    20% {\n",
              "      border-color: transparent;\n",
              "      border-left-color: var(--fill-color);\n",
              "      border-top-color: var(--fill-color);\n",
              "    }\n",
              "    30% {\n",
              "      border-color: transparent;\n",
              "      border-left-color: var(--fill-color);\n",
              "      border-top-color: var(--fill-color);\n",
              "      border-right-color: var(--fill-color);\n",
              "    }\n",
              "    40% {\n",
              "      border-color: transparent;\n",
              "      border-right-color: var(--fill-color);\n",
              "      border-top-color: var(--fill-color);\n",
              "    }\n",
              "    60% {\n",
              "      border-color: transparent;\n",
              "      border-right-color: var(--fill-color);\n",
              "    }\n",
              "    80% {\n",
              "      border-color: transparent;\n",
              "      border-right-color: var(--fill-color);\n",
              "      border-bottom-color: var(--fill-color);\n",
              "    }\n",
              "    90% {\n",
              "      border-color: transparent;\n",
              "      border-bottom-color: var(--fill-color);\n",
              "    }\n",
              "  }\n",
              "</style>\n",
              "\n",
              "  <script>\n",
              "    async function quickchart(key) {\n",
              "      const quickchartButtonEl =\n",
              "        document.querySelector('#' + key + ' button');\n",
              "      quickchartButtonEl.disabled = true;  // To prevent multiple clicks.\n",
              "      quickchartButtonEl.classList.add('colab-df-spinner');\n",
              "      try {\n",
              "        const charts = await google.colab.kernel.invokeFunction(\n",
              "            'suggestCharts', [key], {});\n",
              "      } catch (error) {\n",
              "        console.error('Error during call to suggestCharts:', error);\n",
              "      }\n",
              "      quickchartButtonEl.classList.remove('colab-df-spinner');\n",
              "      quickchartButtonEl.classList.add('colab-df-quickchart-complete');\n",
              "    }\n",
              "    (() => {\n",
              "      let quickchartButtonEl =\n",
              "        document.querySelector('#df-b6f45b1c-0c0d-42c7-a6f7-ad7bede5f800 button');\n",
              "      quickchartButtonEl.style.display =\n",
              "        google.colab.kernel.accessAllowed ? 'block' : 'none';\n",
              "    })();\n",
              "  </script>\n",
              "</div>\n",
              "    </div>\n",
              "  </div>\n"
            ],
            "text/plain": [
              "      age  anaemia  creatinine_phosphokinase  diabetes  ejection_fraction  \\\n",
              "0    75.0        0                       582         0                 20   \n",
              "1    55.0        0                      7861         0                 38   \n",
              "2    65.0        0                       146         0                 20   \n",
              "3    50.0        1                       111         0                 20   \n",
              "4    65.0        1                       160         1                 20   \n",
              "..    ...      ...                       ...       ...                ...   \n",
              "294  62.0        0                        61         1                 38   \n",
              "295  55.0        0                      1820         0                 38   \n",
              "296  45.0        0                      2060         1                 60   \n",
              "297  45.0        0                      2413         0                 38   \n",
              "298  50.0        0                       196         0                 45   \n",
              "\n",
              "     high_blood_pressure  platelets  serum_creatinine  serum_sodium  sex  \\\n",
              "0                      1  265000.00               1.9           130    1   \n",
              "1                      0  263358.03               1.1           136    1   \n",
              "2                      0  162000.00               1.3           129    1   \n",
              "3                      0  210000.00               1.9           137    1   \n",
              "4                      0  327000.00               2.7           116    0   \n",
              "..                   ...        ...               ...           ...  ...   \n",
              "294                    1  155000.00               1.1           143    1   \n",
              "295                    0  270000.00               1.2           139    0   \n",
              "296                    0  742000.00               0.8           138    0   \n",
              "297                    0  140000.00               1.4           140    1   \n",
              "298                    0  395000.00               1.6           136    1   \n",
              "\n",
              "     smoking  time  DEATH_EVENT  \n",
              "0          0     4            1  \n",
              "1          0     6            1  \n",
              "2          1     7            1  \n",
              "3          0     7            1  \n",
              "4          0     8            1  \n",
              "..       ...   ...          ...  \n",
              "294        1   270            0  \n",
              "295        0   271            0  \n",
              "296        0   278            0  \n",
              "297        1   280            0  \n",
              "298        1   285            0  \n",
              "\n",
              "[299 rows x 13 columns]"
            ]
          },
          "execution_count": 20,
          "metadata": {},
          "output_type": "execute_result"
        }
      ],
      "source": [
        "data"
      ]
    },
    {
      "cell_type": "code",
      "execution_count": null,
      "metadata": {
        "id": "2DG5zOFrxjI1"
      },
      "outputs": [],
      "source": [
        "clc = data.columns"
      ]
    },
    {
      "cell_type": "code",
      "execution_count": null,
      "metadata": {
        "colab": {
          "background_save": true,
          "base_uri": "https://localhost:8080/",
          "height": 506
        },
        "id": "lJXBBk0WwvTH",
        "outputId": "452661bf-3fa9-4036-e9cd-3877749f31af"
      },
      "outputs": [
        {
          "data": {
            "text/plain": [
              "<seaborn.axisgrid.FacetGrid at 0x7cb142226c20>"
            ]
          },
          "execution_count": 18,
          "metadata": {},
          "output_type": "execute_result"
        },
        {
          "data": {
            "image/png": "[encoded data removed]",
            "text/plain": [
              "<Figure size 593x500 with 1 Axes>"
            ]
          },
          "metadata": {},
          "output_type": "display_data"
        }
      ],
      "source": [
        "x = clc[3]\n",
        "y = clc[0]\n",
        "hu = clc[-1]\n",
        "sns.catplot(data=data, x=x, y=y,hue=hu)\n",
        "plt.savefig(f'{path}relation_{x}_{y}_.png',bbox_inches='tight')\n",
        "data[[x,y,hu]].to_csv(f'{path}relation_{x}_{y}_.csv')"
      ]
    },
    {
      "cell_type": "code",
      "execution_count": null,
      "metadata": {
        "id": "6awtzr6kNnnb"
      },
      "outputs": [],
      "source": [
        "# g = data.corr()\n",
        "# sns.heatmap(g)\n",
        "# plt.savefig(f'{path}heatmap.png',bbox_inches='tight')\n",
        "# g.to_csv(f'{path}heatmap.csv')"
      ]
    },
    {
      "cell_type": "markdown",
      "metadata": {
        "id": "Od80yx3OVrAM"
      },
      "source": [
        "# TRAINING"
      ]
    },
    {
      "cell_type": "code",
      "execution_count": null,
      "metadata": {
        "id": "46_lltIzWP0d"
      },
      "outputs": [],
      "source": [
        "# data"
      ]
    },
    {
      "cell_type": "code",
      "execution_count": 18,
      "metadata": {
        "id": "1KoOfPG0OFvZ"
      },
      "outputs": [],
      "source": [
        "data.rename(columns={data.columns[-1]: 'labels'}, inplace=True)"
      ]
    },
    {
      "cell_type": "markdown",
      "metadata": {
        "id": "eJt76ixMOqOd"
      },
      "source": [
        "### PCA"
      ]
    },
    {
      "cell_type": "code",
      "execution_count": null,
      "metadata": {
        "id": "y3KG9VVgWuJV"
      },
      "outputs": [],
      "source": [
        "import numpy as np\n",
        "from sklearn.decomposition import PCA\n",
        "X = data.drop('labels',axis=1).to_numpy()\n",
        "pca = PCA(n_components=10)\n",
        "pca.fit(X)\n",
        "# print(pca.explained_variance_ratio_)\n",
        "l = pca.explained_variance_ratio_\n",
        "# print(pca.singular_values_)\n",
        "Y = pca.transform(X)"
      ]
    },
    {
      "cell_type": "code",
      "execution_count": null,
      "metadata": {
        "colab": {
          "base_uri": "https://localhost:8080/"
        },
        "id": "Rtb7lv-IXf1s",
        "outputId": "511c6044-e665-46a2-f3e6-44fa68e43b6d"
      },
      "outputs": [
        {
          "data": {
            "text/plain": [
              "0.8181701163043739"
            ]
          },
          "execution_count": 26,
          "metadata": {},
          "output_type": "execute_result"
        }
      ],
      "source": [
        "l.sum()"
      ]
    },
    {
      "cell_type": "code",
      "execution_count": null,
      "metadata": {
        "colab": {
          "base_uri": "https://localhost:8080/"
        },
        "id": "Gycz2J65XmU-",
        "outputId": "b6535ac2-768d-4d9a-cfdc-b5dd84b38ac0"
      },
      "outputs": [
        {
          "data": {
            "text/plain": [
              "0.8181701163043739"
            ]
          },
          "execution_count": 27,
          "metadata": {},
          "output_type": "execute_result"
        }
      ],
      "source": [
        "l[0:20].sum()"
      ]
    },
    {
      "cell_type": "code",
      "execution_count": null,
      "metadata": {
        "id": "od2DtGVoWeT_"
      },
      "outputs": [],
      "source": [
        "# X.columns = [f'{i}' for i in range(X.shape[1]-1)]+['labels']"
      ]
    },
    {
      "cell_type": "code",
      "execution_count": null,
      "metadata": {
        "id": "5z_cOWcfXOqX"
      },
      "outputs": [],
      "source": [
        "# X.drop('labels',axis=1,inplace=True)"
      ]
    },
    {
      "cell_type": "code",
      "execution_count": null,
      "metadata": {
        "colab": {
          "base_uri": "https://localhost:8080/"
        },
        "id": "ygSH7LtDXC1M",
        "outputId": "40e3b9fa-3b2a-40e1-fb5f-4997847273d0"
      },
      "outputs": [
        {
          "data": {
            "text/plain": [
              "((4191, 10), (4191,), (1398, 10), (1398,))"
            ]
          },
          "execution_count": 30,
          "metadata": {},
          "output_type": "execute_result"
        }
      ],
      "source": [
        "X_train, X_test, y_train, y_test = train_test_split(\n",
        "    Y, data2['labels'], test_size=0.25, random_state=42)\n",
        "X_train.shape,y_train.shape,X_test.shape,y_test.shape"
      ]
    },
    {
      "cell_type": "code",
      "execution_count": null,
      "metadata": {
        "id": "0QOMPTc_XerW"
      },
      "outputs": [],
      "source": [
        "x1,y1,x2,y2 = X_train, y_train, X_test, y_test"
      ]
    },
    {
      "cell_type": "markdown",
      "metadata": {
        "id": "rK442cotUnF6"
      },
      "source": []
    },
    {
      "cell_type": "code",
      "execution_count": null,
      "metadata": {
        "colab": {
          "base_uri": "https://localhost:8080/"
        },
        "id": "EpGLSmpzFmns",
        "outputId": "97573d35-d461-4ec2-c922-270afabd3fd2"
      },
      "outputs": [
        {
          "data": {
            "text/plain": [
              "4"
            ]
          },
          "execution_count": 32,
          "metadata": {},
          "output_type": "execute_result"
        }
      ],
      "source": [
        "models = [HistGradientBoostingClassifier,XGBClassifier,RandomForestClassifier,DecisionTreeClassifier]\n",
        "len(models)"
      ]
    },
    {
      "cell_type": "code",
      "execution_count": null,
      "metadata": {
        "colab": {
          "base_uri": "https://localhost:8080/"
        },
        "id": "62hR0rcKsoYj",
        "outputId": "f267cd21-680f-4f93-b9a5-3338f3ceaa70"
      },
      "outputs": [
        {
          "name": "stdout",
          "output_type": "stream",
          "text": [
            "0.8429549360617061\n",
            "0.8462349345666675\n",
            "0.849771155071771\n",
            "0.7687577853246321\n"
          ]
        }
      ],
      "source": [
        "for model in models:\n",
        "    try:\n",
        "        clf = model(random_state=8)\n",
        "    except:\n",
        "        clf = model()\n",
        "\n",
        "\n",
        "    clf.fit(x1,y1)\n",
        "    y2_ = clf.predict(x2)\n",
        "    print(f1_score(y2, y2_,average='macro'))"
      ]
    },
    {
      "cell_type": "markdown",
      "metadata": {
        "id": "bCK4is-1OxXZ"
      },
      "source": [
        "### resume"
      ]
    },
    {
      "cell_type": "code",
      "source": [
        "for i in data.columns:\n",
        "    data[i] = data[i].factorize()[0]"
      ],
      "metadata": {
        "id": "djPnam2ykIal"
      },
      "execution_count": 24,
      "outputs": []
    },
    {
      "cell_type": "code",
      "execution_count": 25,
      "metadata": {
        "id": "L474uEDIU3DT",
        "colab": {
          "base_uri": "https://localhost:8080/",
          "height": 423
        },
        "outputId": "fb55a26f-3c61-40ac-b17f-4eb3789ddaa4"
      },
      "outputs": [
        {
          "output_type": "execute_result",
          "data": {
            "text/plain": [
              "      0  1  2  3  4  5  labels\n",
              "0     0  0  0  0  0  0       0\n",
              "1     0  0  0  0  0  1       0\n",
              "2     0  0  0  0  0  2       0\n",
              "3     0  0  0  0  1  0       0\n",
              "4     0  0  0  0  1  1       0\n",
              "...  .. .. .. .. .. ..     ...\n",
              "1723  3  3  3  2  1  1       3\n",
              "1724  3  3  3  2  1  2       2\n",
              "1725  3  3  3  2  2  0       0\n",
              "1726  3  3  3  2  2  1       3\n",
              "1727  3  3  3  2  2  2       2\n",
              "\n",
              "[1728 rows x 7 columns]"
            ],
            "text/html": [
              "\n",
              "  <div id=\"df-e50543f1-8e44-479b-bf63-e580ed16fc5c\" class=\"colab-df-container\">\n",
              "    <div>\n",
              "<style scoped>\n",
              "    .dataframe tbody tr th:only-of-type {\n",
              "        vertical-align: middle;\n",
              "    }\n",
              "\n",
              "    .dataframe tbody tr th {\n",
              "        vertical-align: top;\n",
              "    }\n",
              "\n",
              "    .dataframe thead th {\n",
              "        text-align: right;\n",
              "    }\n",
              "</style>\n",
              "<table border=\"1\" class=\"dataframe\">\n",
              "  <thead>\n",
              "    <tr style=\"text-align: right;\">\n",
              "      <th></th>\n",
              "      <th>0</th>\n",
              "      <th>1</th>\n",
              "      <th>2</th>\n",
              "      <th>3</th>\n",
              "      <th>4</th>\n",
              "      <th>5</th>\n",
              "      <th>labels</th>\n",
              "    </tr>\n",
              "  </thead>\n",
              "  <tbody>\n",
              "    <tr>\n",
              "      <th>0</th>\n",
              "      <td>0</td>\n",
              "      <td>0</td>\n",
              "      <td>0</td>\n",
              "      <td>0</td>\n",
              "      <td>0</td>\n",
              "      <td>0</td>\n",
              "      <td>0</td>\n",
              "    </tr>\n",
              "    <tr>\n",
              "      <th>1</th>\n",
              "      <td>0</td>\n",
              "      <td>0</td>\n",
              "      <td>0</td>\n",
              "      <td>0</td>\n",
              "      <td>0</td>\n",
              "      <td>1</td>\n",
              "      <td>0</td>\n",
              "    </tr>\n",
              "    <tr>\n",
              "      <th>2</th>\n",
              "      <td>0</td>\n",
              "      <td>0</td>\n",
              "      <td>0</td>\n",
              "      <td>0</td>\n",
              "      <td>0</td>\n",
              "      <td>2</td>\n",
              "      <td>0</td>\n",
              "    </tr>\n",
              "    <tr>\n",
              "      <th>3</th>\n",
              "      <td>0</td>\n",
              "      <td>0</td>\n",
              "      <td>0</td>\n",
              "      <td>0</td>\n",
              "      <td>1</td>\n",
              "      <td>0</td>\n",
              "      <td>0</td>\n",
              "    </tr>\n",
              "    <tr>\n",
              "      <th>4</th>\n",
              "      <td>0</td>\n",
              "      <td>0</td>\n",
              "      <td>0</td>\n",
              "      <td>0</td>\n",
              "      <td>1</td>\n",
              "      <td>1</td>\n",
              "      <td>0</td>\n",
              "    </tr>\n",
              "    <tr>\n",
              "      <th>...</th>\n",
              "      <td>...</td>\n",
              "      <td>...</td>\n",
              "      <td>...</td>\n",
              "      <td>...</td>\n",
              "      <td>...</td>\n",
              "      <td>...</td>\n",
              "      <td>...</td>\n",
              "    </tr>\n",
              "    <tr>\n",
              "      <th>1723</th>\n",
              "      <td>3</td>\n",
              "      <td>3</td>\n",
              "      <td>3</td>\n",
              "      <td>2</td>\n",
              "      <td>1</td>\n",
              "      <td>1</td>\n",
              "      <td>3</td>\n",
              "    </tr>\n",
              "    <tr>\n",
              "      <th>1724</th>\n",
              "      <td>3</td>\n",
              "      <td>3</td>\n",
              "      <td>3</td>\n",
              "      <td>2</td>\n",
              "      <td>1</td>\n",
              "      <td>2</td>\n",
              "      <td>2</td>\n",
              "    </tr>\n",
              "    <tr>\n",
              "      <th>1725</th>\n",
              "      <td>3</td>\n",
              "      <td>3</td>\n",
              "      <td>3</td>\n",
              "      <td>2</td>\n",
              "      <td>2</td>\n",
              "      <td>0</td>\n",
              "      <td>0</td>\n",
              "    </tr>\n",
              "    <tr>\n",
              "      <th>1726</th>\n",
              "      <td>3</td>\n",
              "      <td>3</td>\n",
              "      <td>3</td>\n",
              "      <td>2</td>\n",
              "      <td>2</td>\n",
              "      <td>1</td>\n",
              "      <td>3</td>\n",
              "    </tr>\n",
              "    <tr>\n",
              "      <th>1727</th>\n",
              "      <td>3</td>\n",
              "      <td>3</td>\n",
              "      <td>3</td>\n",
              "      <td>2</td>\n",
              "      <td>2</td>\n",
              "      <td>2</td>\n",
              "      <td>2</td>\n",
              "    </tr>\n",
              "  </tbody>\n",
              "</table>\n",
              "<p>1728 rows × 7 columns</p>\n",
              "</div>\n",
              "    <div class=\"colab-df-buttons\">\n",
              "\n",
              "  <div class=\"colab-df-container\">\n",
              "    <button class=\"colab-df-convert\" onclick=\"convertToInteractive('df-e50543f1-8e44-479b-bf63-e580ed16fc5c')\"\n",
              "            title=\"Convert this dataframe to an interactive table.\"\n",
              "            style=\"display:none;\">\n",
              "\n",
              "  <svg xmlns=\"http://www.w3.org/2000/svg\" height=\"24px\" viewBox=\"0 -960 960 960\">\n",
              "    <path d=\"M120-120v-720h720v720H120Zm60-500h600v-160H180v160Zm220 220h160v-160H400v160Zm0 220h160v-160H400v160ZM180-400h160v-160H180v160Zm440 0h160v-160H620v160ZM180-180h160v-160H180v160Zm440 0h160v-160H620v160Z\"/>\n",
              "  </svg>\n",
              "    </button>\n",
              "\n",
              "  <style>\n",
              "    .colab-df-container {\n",
              "      display:flex;\n",
              "      gap: 12px;\n",
              "    }\n",
              "\n",
              "    .colab-df-convert {\n",
              "      background-color: #E8F0FE;\n",
              "      border: none;\n",
              "      border-radius: 50%;\n",
              "      cursor: pointer;\n",
              "      display: none;\n",
              "      fill: #1967D2;\n",
              "      height: 32px;\n",
              "      padding: 0 0 0 0;\n",
              "      width: 32px;\n",
              "    }\n",
              "\n",
              "    .colab-df-convert:hover {\n",
              "      background-color: #E2EBFA;\n",
              "      box-shadow: 0px 1px 2px rgba(60, 64, 67, 0.3), 0px 1px 3px 1px rgba(60, 64, 67, 0.15);\n",
              "      fill: #174EA6;\n",
              "    }\n",
              "\n",
              "    .colab-df-buttons div {\n",
              "      margin-bottom: 4px;\n",
              "    }\n",
              "\n",
              "    [theme=dark] .colab-df-convert {\n",
              "      background-color: #3B4455;\n",
              "      fill: #D2E3FC;\n",
              "    }\n",
              "\n",
              "    [theme=dark] .colab-df-convert:hover {\n",
              "      background-color: #434B5C;\n",
              "      box-shadow: 0px 1px 3px 1px rgba(0, 0, 0, 0.15);\n",
              "      filter: drop-shadow(0px 1px 2px rgba(0, 0, 0, 0.3));\n",
              "      fill: #FFFFFF;\n",
              "    }\n",
              "  </style>\n",
              "\n",
              "    <script>\n",
              "      const buttonEl =\n",
              "        document.querySelector('#df-e50543f1-8e44-479b-bf63-e580ed16fc5c button.colab-df-convert');\n",
              "      buttonEl.style.display =\n",
              "        google.colab.kernel.accessAllowed ? 'block' : 'none';\n",
              "\n",
              "      async function convertToInteractive(key) {\n",
              "        const element = document.querySelector('#df-e50543f1-8e44-479b-bf63-e580ed16fc5c');\n",
              "        const dataTable =\n",
              "          await google.colab.kernel.invokeFunction('convertToInteractive',\n",
              "                                                    [key], {});\n",
              "        if (!dataTable) return;\n",
              "\n",
              "        const docLinkHtml = 'Like what you see? Visit the ' +\n",
              "          '<a target=\"_blank\" href=https://colab.research.google.com/notebooks/data_table.ipynb>data table notebook</a>'\n",
              "          + ' to learn more about interactive tables.';\n",
              "        element.innerHTML = '';\n",
              "        dataTable['output_type'] = 'display_data';\n",
              "        await google.colab.output.renderOutput(dataTable, element);\n",
              "        const docLink = document.createElement('div');\n",
              "        docLink.innerHTML = docLinkHtml;\n",
              "        element.appendChild(docLink);\n",
              "      }\n",
              "    </script>\n",
              "  </div>\n",
              "\n",
              "\n",
              "<div id=\"df-aeb87e8b-4b36-445a-87d2-109b3c8fecb9\">\n",
              "  <button class=\"colab-df-quickchart\" onclick=\"quickchart('df-aeb87e8b-4b36-445a-87d2-109b3c8fecb9')\"\n",
              "            title=\"Suggest charts\"\n",
              "            style=\"display:none;\">\n",
              "\n",
              "<svg xmlns=\"http://www.w3.org/2000/svg\" height=\"24px\"viewBox=\"0 0 24 24\"\n",
              "     width=\"24px\">\n",
              "    <g>\n",
              "        <path d=\"M19 3H5c-1.1 0-2 .9-2 2v14c0 1.1.9 2 2 2h14c1.1 0 2-.9 2-2V5c0-1.1-.9-2-2-2zM9 17H7v-7h2v7zm4 0h-2V7h2v10zm4 0h-2v-4h2v4z\"/>\n",
              "    </g>\n",
              "</svg>\n",
              "  </button>\n",
              "\n",
              "<style>\n",
              "  .colab-df-quickchart {\n",
              "      --bg-color: #E8F0FE;\n",
              "      --fill-color: #1967D2;\n",
              "      --hover-bg-color: #E2EBFA;\n",
              "      --hover-fill-color: #174EA6;\n",
              "      --disabled-fill-color: #AAA;\n",
              "      --disabled-bg-color: #DDD;\n",
              "  }\n",
              "\n",
              "  [theme=dark] .colab-df-quickchart {\n",
              "      --bg-color: #3B4455;\n",
              "      --fill-color: #D2E3FC;\n",
              "      --hover-bg-color: #434B5C;\n",
              "      --hover-fill-color: #FFFFFF;\n",
              "      --disabled-bg-color: #3B4455;\n",
              "      --disabled-fill-color: #666;\n",
              "  }\n",
              "\n",
              "  .colab-df-quickchart {\n",
              "    background-color: var(--bg-color);\n",
              "    border: none;\n",
              "    border-radius: 50%;\n",
              "    cursor: pointer;\n",
              "    display: none;\n",
              "    fill: var(--fill-color);\n",
              "    height: 32px;\n",
              "    padding: 0;\n",
              "    width: 32px;\n",
              "  }\n",
              "\n",
              "  .colab-df-quickchart:hover {\n",
              "    background-color: var(--hover-bg-color);\n",
              "    box-shadow: 0 1px 2px rgba(60, 64, 67, 0.3), 0 1px 3px 1px rgba(60, 64, 67, 0.15);\n",
              "    fill: var(--button-hover-fill-color);\n",
              "  }\n",
              "\n",
              "  .colab-df-quickchart-complete:disabled,\n",
              "  .colab-df-quickchart-complete:disabled:hover {\n",
              "    background-color: var(--disabled-bg-color);\n",
              "    fill: var(--disabled-fill-color);\n",
              "    box-shadow: none;\n",
              "  }\n",
              "\n",
              "  .colab-df-spinner {\n",
              "    border: 2px solid var(--fill-color);\n",
              "    border-color: transparent;\n",
              "    border-bottom-color: var(--fill-color);\n",
              "    animation:\n",
              "      spin 1s steps(1) infinite;\n",
              "  }\n",
              "\n",
              "  @keyframes spin {\n",
              "    0% {\n",
              "      border-color: transparent;\n",
              "      border-bottom-color: var(--fill-color);\n",
              "      border-left-color: var(--fill-color);\n",
              "    }\n",
              "    20% {\n",
              "      border-color: transparent;\n",
              "      border-left-color: var(--fill-color);\n",
              "      border-top-color: var(--fill-color);\n",
              "    }\n",
              "    30% {\n",
              "      border-color: transparent;\n",
              "      border-left-color: var(--fill-color);\n",
              "      border-top-color: var(--fill-color);\n",
              "      border-right-color: var(--fill-color);\n",
              "    }\n",
              "    40% {\n",
              "      border-color: transparent;\n",
              "      border-right-color: var(--fill-color);\n",
              "      border-top-color: var(--fill-color);\n",
              "    }\n",
              "    60% {\n",
              "      border-color: transparent;\n",
              "      border-right-color: var(--fill-color);\n",
              "    }\n",
              "    80% {\n",
              "      border-color: transparent;\n",
              "      border-right-color: var(--fill-color);\n",
              "      border-bottom-color: var(--fill-color);\n",
              "    }\n",
              "    90% {\n",
              "      border-color: transparent;\n",
              "      border-bottom-color: var(--fill-color);\n",
              "    }\n",
              "  }\n",
              "</style>\n",
              "\n",
              "  <script>\n",
              "    async function quickchart(key) {\n",
              "      const quickchartButtonEl =\n",
              "        document.querySelector('#' + key + ' button');\n",
              "      quickchartButtonEl.disabled = true;  // To prevent multiple clicks.\n",
              "      quickchartButtonEl.classList.add('colab-df-spinner');\n",
              "      try {\n",
              "        const charts = await google.colab.kernel.invokeFunction(\n",
              "            'suggestCharts', [key], {});\n",
              "      } catch (error) {\n",
              "        console.error('Error during call to suggestCharts:', error);\n",
              "      }\n",
              "      quickchartButtonEl.classList.remove('colab-df-spinner');\n",
              "      quickchartButtonEl.classList.add('colab-df-quickchart-complete');\n",
              "    }\n",
              "    (() => {\n",
              "      let quickchartButtonEl =\n",
              "        document.querySelector('#df-aeb87e8b-4b36-445a-87d2-109b3c8fecb9 button');\n",
              "      quickchartButtonEl.style.display =\n",
              "        google.colab.kernel.accessAllowed ? 'block' : 'none';\n",
              "    })();\n",
              "  </script>\n",
              "</div>\n",
              "    </div>\n",
              "  </div>\n"
            ],
            "application/vnd.google.colaboratory.intrinsic+json": {
              "type": "dataframe",
              "variable_name": "data",
              "summary": "{\n  \"name\": \"data\",\n  \"rows\": 1728,\n  \"fields\": [\n    {\n      \"column\": 0,\n      \"properties\": {\n        \"dtype\": \"number\",\n        \"std\": 1,\n        \"min\": 0,\n        \"max\": 3,\n        \"num_unique_values\": 4,\n        \"samples\": [\n          1,\n          3,\n          0\n        ],\n        \"semantic_type\": \"\",\n        \"description\": \"\"\n      }\n    },\n    {\n      \"column\": 1,\n      \"properties\": {\n        \"dtype\": \"number\",\n        \"std\": 1,\n        \"min\": 0,\n        \"max\": 3,\n        \"num_unique_values\": 4,\n        \"samples\": [\n          1,\n          3,\n          0\n        ],\n        \"semantic_type\": \"\",\n        \"description\": \"\"\n      }\n    },\n    {\n      \"column\": 2,\n      \"properties\": {\n        \"dtype\": \"number\",\n        \"std\": 1,\n        \"min\": 0,\n        \"max\": 3,\n        \"num_unique_values\": 4,\n        \"samples\": [\n          1,\n          3,\n          0\n        ],\n        \"semantic_type\": \"\",\n        \"description\": \"\"\n      }\n    },\n    {\n      \"column\": 3,\n      \"properties\": {\n        \"dtype\": \"number\",\n        \"std\": 0,\n        \"min\": 0,\n        \"max\": 2,\n        \"num_unique_values\": 3,\n        \"samples\": [\n          0,\n          1,\n          2\n        ],\n        \"semantic_type\": \"\",\n        \"description\": \"\"\n      }\n    },\n    {\n      \"column\": 4,\n      \"properties\": {\n        \"dtype\": \"number\",\n        \"std\": 0,\n        \"min\": 0,\n        \"max\": 2,\n        \"num_unique_values\": 3,\n        \"samples\": [\n          0,\n          1,\n          2\n        ],\n        \"semantic_type\": \"\",\n        \"description\": \"\"\n      }\n    },\n    {\n      \"column\": 5,\n      \"properties\": {\n        \"dtype\": \"number\",\n        \"std\": 0,\n        \"min\": 0,\n        \"max\": 2,\n        \"num_unique_values\": 3,\n        \"samples\": [\n          0,\n          1,\n          2\n        ],\n        \"semantic_type\": \"\",\n        \"description\": \"\"\n      }\n    },\n    {\n      \"column\": \"labels\",\n      \"properties\": {\n        \"dtype\": \"number\",\n        \"std\": 0,\n        \"min\": 0,\n        \"max\": 3,\n        \"num_unique_values\": 4,\n        \"samples\": [\n          1,\n          3,\n          0\n        ],\n        \"semantic_type\": \"\",\n        \"description\": \"\"\n      }\n    }\n  ]\n}"
            }
          },
          "metadata": {},
          "execution_count": 25
        }
      ],
      "source": [
        "data"
      ]
    },
    {
      "cell_type": "code",
      "execution_count": 32,
      "metadata": {
        "colab": {
          "base_uri": "https://localhost:8080/"
        },
        "id": "8aGNpcA2PKok",
        "outputId": "47f56af8-cca6-4a67-a2c2-25ccda2f059f"
      },
      "outputs": [
        {
          "output_type": "execute_result",
          "data": {
            "text/plain": [
              "((864, 6), (864,), (864, 6), (864,))"
            ]
          },
          "metadata": {},
          "execution_count": 32
        }
      ],
      "source": [
        "X_train, X_test, y_train, y_test = train_test_split(\n",
        "    data.drop('labels',axis=1), data['labels'], test_size=0.5, random_state=40)\n",
        "X_train.shape,y_train.shape,X_test.shape,y_test.shape"
      ]
    },
    {
      "cell_type": "code",
      "execution_count": 33,
      "metadata": {
        "id": "ZjkbxCxjPKom"
      },
      "outputs": [],
      "source": [
        "x1,y1,x2,y2 = X_train, y_train, X_test, y_test"
      ]
    },
    {
      "cell_type": "code",
      "execution_count": 47,
      "metadata": {
        "colab": {
          "base_uri": "https://localhost:8080/"
        },
        "id": "tyvLxja-PO42",
        "outputId": "946880b2-83f4-4b22-93ca-8c3d19429f17"
      },
      "outputs": [
        {
          "output_type": "execute_result",
          "data": {
            "text/plain": [
              "6"
            ]
          },
          "metadata": {},
          "execution_count": 47
        }
      ],
      "source": [
        "models = [\n",
        "    # RandomForestClassifier,\n",
        "    ExtraTreesClassifier,\n",
        "    # GradientBoostingClassifier,\n",
        "    HistGradientBoostingClassifier,\n",
        "    # AdaBoostClassifier,\n",
        "    # CatBoostClassifier,\n",
        "    XGBClassifier,\n",
        "    # LinearSVC,\n",
        "    # MultinomialNB,\n",
        "    GaussianNB,\n",
        "    # SVC,\n",
        "    KNeighborsClassifier,\n",
        "    # RandomForestClassifier,\n",
        "    LinearDiscriminantAnalysis,\n",
        "    # DecisionTreeClassifier\n",
        "    ]\n",
        "len(models)"
      ]
    },
    {
      "cell_type": "code",
      "execution_count": 48,
      "metadata": {
        "id": "4DH-OeE8zg7-"
      },
      "outputs": [],
      "source": [
        "from sklearn.metrics import *\n",
        "# brier_score_loss,jaccard_score,class_likelihood_ratios,hinge_loss,roc_auc_score,hamming_loss,multilabel_confusion_matrix,roc_auc_score,zero_one_loss"
      ]
    },
    {
      "cell_type": "code",
      "execution_count": 49,
      "metadata": {
        "colab": {
          "base_uri": "https://localhost:8080/",
          "height": 195
        },
        "id": "asOcD8oB5xsR",
        "outputId": "c4f338cf-8fa0-454c-a53a-b2690ac58e97"
      },
      "outputs": [
        {
          "output_type": "execute_result",
          "data": {
            "text/plain": [
              "           ExtraTreesClassifier  HistGradientBoostingClassifier  \\\n",
              "Accuracy               0.968750                        0.990741   \n",
              "Precision              0.916992                        0.970185   \n",
              "Recall                 0.916061                        0.953836   \n",
              "F1                     0.914636                        0.960366   \n",
              "\n",
              "           XGBClassifier  GaussianNB  KNeighborsClassifier  \\\n",
              "Accuracy        0.986111    0.707176              0.918981   \n",
              "Precision       0.956853    0.511319              0.847503   \n",
              "Recall          0.942791    0.559131              0.736673   \n",
              "F1              0.948220    0.423010              0.781654   \n",
              "\n",
              "           LinearDiscriminantAnalysis  \n",
              "Accuracy                     0.814815  \n",
              "Precision                    0.779375  \n",
              "Recall                       0.544452  \n",
              "F1                           0.603844  "
            ],
            "text/html": [
              "\n",
              "  <div id=\"df-3e39563c-3222-49d6-b9fc-dda2090f6eb2\" class=\"colab-df-container\">\n",
              "    <div>\n",
              "<style scoped>\n",
              "    .dataframe tbody tr th:only-of-type {\n",
              "        vertical-align: middle;\n",
              "    }\n",
              "\n",
              "    .dataframe tbody tr th {\n",
              "        vertical-align: top;\n",
              "    }\n",
              "\n",
              "    .dataframe thead th {\n",
              "        text-align: right;\n",
              "    }\n",
              "</style>\n",
              "<table border=\"1\" class=\"dataframe\">\n",
              "  <thead>\n",
              "    <tr style=\"text-align: right;\">\n",
              "      <th></th>\n",
              "      <th>ExtraTreesClassifier</th>\n",
              "      <th>HistGradientBoostingClassifier</th>\n",
              "      <th>XGBClassifier</th>\n",
              "      <th>GaussianNB</th>\n",
              "      <th>KNeighborsClassifier</th>\n",
              "      <th>LinearDiscriminantAnalysis</th>\n",
              "    </tr>\n",
              "  </thead>\n",
              "  <tbody>\n",
              "    <tr>\n",
              "      <th>Accuracy</th>\n",
              "      <td>0.968750</td>\n",
              "      <td>0.990741</td>\n",
              "      <td>0.986111</td>\n",
              "      <td>0.707176</td>\n",
              "      <td>0.918981</td>\n",
              "      <td>0.814815</td>\n",
              "    </tr>\n",
              "    <tr>\n",
              "      <th>Precision</th>\n",
              "      <td>0.916992</td>\n",
              "      <td>0.970185</td>\n",
              "      <td>0.956853</td>\n",
              "      <td>0.511319</td>\n",
              "      <td>0.847503</td>\n",
              "      <td>0.779375</td>\n",
              "    </tr>\n",
              "    <tr>\n",
              "      <th>Recall</th>\n",
              "      <td>0.916061</td>\n",
              "      <td>0.953836</td>\n",
              "      <td>0.942791</td>\n",
              "      <td>0.559131</td>\n",
              "      <td>0.736673</td>\n",
              "      <td>0.544452</td>\n",
              "    </tr>\n",
              "    <tr>\n",
              "      <th>F1</th>\n",
              "      <td>0.914636</td>\n",
              "      <td>0.960366</td>\n",
              "      <td>0.948220</td>\n",
              "      <td>0.423010</td>\n",
              "      <td>0.781654</td>\n",
              "      <td>0.603844</td>\n",
              "    </tr>\n",
              "  </tbody>\n",
              "</table>\n",
              "</div>\n",
              "    <div class=\"colab-df-buttons\">\n",
              "\n",
              "  <div class=\"colab-df-container\">\n",
              "    <button class=\"colab-df-convert\" onclick=\"convertToInteractive('df-3e39563c-3222-49d6-b9fc-dda2090f6eb2')\"\n",
              "            title=\"Convert this dataframe to an interactive table.\"\n",
              "            style=\"display:none;\">\n",
              "\n",
              "  <svg xmlns=\"http://www.w3.org/2000/svg\" height=\"24px\" viewBox=\"0 -960 960 960\">\n",
              "    <path d=\"M120-120v-720h720v720H120Zm60-500h600v-160H180v160Zm220 220h160v-160H400v160Zm0 220h160v-160H400v160ZM180-400h160v-160H180v160Zm440 0h160v-160H620v160ZM180-180h160v-160H180v160Zm440 0h160v-160H620v160Z\"/>\n",
              "  </svg>\n",
              "    </button>\n",
              "\n",
              "  <style>\n",
              "    .colab-df-container {\n",
              "      display:flex;\n",
              "      gap: 12px;\n",
              "    }\n",
              "\n",
              "    .colab-df-convert {\n",
              "      background-color: #E8F0FE;\n",
              "      border: none;\n",
              "      border-radius: 50%;\n",
              "      cursor: pointer;\n",
              "      display: none;\n",
              "      fill: #1967D2;\n",
              "      height: 32px;\n",
              "      padding: 0 0 0 0;\n",
              "      width: 32px;\n",
              "    }\n",
              "\n",
              "    .colab-df-convert:hover {\n",
              "      background-color: #E2EBFA;\n",
              "      box-shadow: 0px 1px 2px rgba(60, 64, 67, 0.3), 0px 1px 3px 1px rgba(60, 64, 67, 0.15);\n",
              "      fill: #174EA6;\n",
              "    }\n",
              "\n",
              "    .colab-df-buttons div {\n",
              "      margin-bottom: 4px;\n",
              "    }\n",
              "\n",
              "    [theme=dark] .colab-df-convert {\n",
              "      background-color: #3B4455;\n",
              "      fill: #D2E3FC;\n",
              "    }\n",
              "\n",
              "    [theme=dark] .colab-df-convert:hover {\n",
              "      background-color: #434B5C;\n",
              "      box-shadow: 0px 1px 3px 1px rgba(0, 0, 0, 0.15);\n",
              "      filter: drop-shadow(0px 1px 2px rgba(0, 0, 0, 0.3));\n",
              "      fill: #FFFFFF;\n",
              "    }\n",
              "  </style>\n",
              "\n",
              "    <script>\n",
              "      const buttonEl =\n",
              "        document.querySelector('#df-3e39563c-3222-49d6-b9fc-dda2090f6eb2 button.colab-df-convert');\n",
              "      buttonEl.style.display =\n",
              "        google.colab.kernel.accessAllowed ? 'block' : 'none';\n",
              "\n",
              "      async function convertToInteractive(key) {\n",
              "        const element = document.querySelector('#df-3e39563c-3222-49d6-b9fc-dda2090f6eb2');\n",
              "        const dataTable =\n",
              "          await google.colab.kernel.invokeFunction('convertToInteractive',\n",
              "                                                    [key], {});\n",
              "        if (!dataTable) return;\n",
              "\n",
              "        const docLinkHtml = 'Like what you see? Visit the ' +\n",
              "          '<a target=\"_blank\" href=https://colab.research.google.com/notebooks/data_table.ipynb>data table notebook</a>'\n",
              "          + ' to learn more about interactive tables.';\n",
              "        element.innerHTML = '';\n",
              "        dataTable['output_type'] = 'display_data';\n",
              "        await google.colab.output.renderOutput(dataTable, element);\n",
              "        const docLink = document.createElement('div');\n",
              "        docLink.innerHTML = docLinkHtml;\n",
              "        element.appendChild(docLink);\n",
              "      }\n",
              "    </script>\n",
              "  </div>\n",
              "\n",
              "\n",
              "<div id=\"df-4783855d-0ba1-4c64-89ac-d9d0270c73c7\">\n",
              "  <button class=\"colab-df-quickchart\" onclick=\"quickchart('df-4783855d-0ba1-4c64-89ac-d9d0270c73c7')\"\n",
              "            title=\"Suggest charts\"\n",
              "            style=\"display:none;\">\n",
              "\n",
              "<svg xmlns=\"http://www.w3.org/2000/svg\" height=\"24px\"viewBox=\"0 0 24 24\"\n",
              "     width=\"24px\">\n",
              "    <g>\n",
              "        <path d=\"M19 3H5c-1.1 0-2 .9-2 2v14c0 1.1.9 2 2 2h14c1.1 0 2-.9 2-2V5c0-1.1-.9-2-2-2zM9 17H7v-7h2v7zm4 0h-2V7h2v10zm4 0h-2v-4h2v4z\"/>\n",
              "    </g>\n",
              "</svg>\n",
              "  </button>\n",
              "\n",
              "<style>\n",
              "  .colab-df-quickchart {\n",
              "      --bg-color: #E8F0FE;\n",
              "      --fill-color: #1967D2;\n",
              "      --hover-bg-color: #E2EBFA;\n",
              "      --hover-fill-color: #174EA6;\n",
              "      --disabled-fill-color: #AAA;\n",
              "      --disabled-bg-color: #DDD;\n",
              "  }\n",
              "\n",
              "  [theme=dark] .colab-df-quickchart {\n",
              "      --bg-color: #3B4455;\n",
              "      --fill-color: #D2E3FC;\n",
              "      --hover-bg-color: #434B5C;\n",
              "      --hover-fill-color: #FFFFFF;\n",
              "      --disabled-bg-color: #3B4455;\n",
              "      --disabled-fill-color: #666;\n",
              "  }\n",
              "\n",
              "  .colab-df-quickchart {\n",
              "    background-color: var(--bg-color);\n",
              "    border: none;\n",
              "    border-radius: 50%;\n",
              "    cursor: pointer;\n",
              "    display: none;\n",
              "    fill: var(--fill-color);\n",
              "    height: 32px;\n",
              "    padding: 0;\n",
              "    width: 32px;\n",
              "  }\n",
              "\n",
              "  .colab-df-quickchart:hover {\n",
              "    background-color: var(--hover-bg-color);\n",
              "    box-shadow: 0 1px 2px rgba(60, 64, 67, 0.3), 0 1px 3px 1px rgba(60, 64, 67, 0.15);\n",
              "    fill: var(--button-hover-fill-color);\n",
              "  }\n",
              "\n",
              "  .colab-df-quickchart-complete:disabled,\n",
              "  .colab-df-quickchart-complete:disabled:hover {\n",
              "    background-color: var(--disabled-bg-color);\n",
              "    fill: var(--disabled-fill-color);\n",
              "    box-shadow: none;\n",
              "  }\n",
              "\n",
              "  .colab-df-spinner {\n",
              "    border: 2px solid var(--fill-color);\n",
              "    border-color: transparent;\n",
              "    border-bottom-color: var(--fill-color);\n",
              "    animation:\n",
              "      spin 1s steps(1) infinite;\n",
              "  }\n",
              "\n",
              "  @keyframes spin {\n",
              "    0% {\n",
              "      border-color: transparent;\n",
              "      border-bottom-color: var(--fill-color);\n",
              "      border-left-color: var(--fill-color);\n",
              "    }\n",
              "    20% {\n",
              "      border-color: transparent;\n",
              "      border-left-color: var(--fill-color);\n",
              "      border-top-color: var(--fill-color);\n",
              "    }\n",
              "    30% {\n",
              "      border-color: transparent;\n",
              "      border-left-color: var(--fill-color);\n",
              "      border-top-color: var(--fill-color);\n",
              "      border-right-color: var(--fill-color);\n",
              "    }\n",
              "    40% {\n",
              "      border-color: transparent;\n",
              "      border-right-color: var(--fill-color);\n",
              "      border-top-color: var(--fill-color);\n",
              "    }\n",
              "    60% {\n",
              "      border-color: transparent;\n",
              "      border-right-color: var(--fill-color);\n",
              "    }\n",
              "    80% {\n",
              "      border-color: transparent;\n",
              "      border-right-color: var(--fill-color);\n",
              "      border-bottom-color: var(--fill-color);\n",
              "    }\n",
              "    90% {\n",
              "      border-color: transparent;\n",
              "      border-bottom-color: var(--fill-color);\n",
              "    }\n",
              "  }\n",
              "</style>\n",
              "\n",
              "  <script>\n",
              "    async function quickchart(key) {\n",
              "      const quickchartButtonEl =\n",
              "        document.querySelector('#' + key + ' button');\n",
              "      quickchartButtonEl.disabled = true;  // To prevent multiple clicks.\n",
              "      quickchartButtonEl.classList.add('colab-df-spinner');\n",
              "      try {\n",
              "        const charts = await google.colab.kernel.invokeFunction(\n",
              "            'suggestCharts', [key], {});\n",
              "      } catch (error) {\n",
              "        console.error('Error during call to suggestCharts:', error);\n",
              "      }\n",
              "      quickchartButtonEl.classList.remove('colab-df-spinner');\n",
              "      quickchartButtonEl.classList.add('colab-df-quickchart-complete');\n",
              "    }\n",
              "    (() => {\n",
              "      let quickchartButtonEl =\n",
              "        document.querySelector('#df-4783855d-0ba1-4c64-89ac-d9d0270c73c7 button');\n",
              "      quickchartButtonEl.style.display =\n",
              "        google.colab.kernel.accessAllowed ? 'block' : 'none';\n",
              "    })();\n",
              "  </script>\n",
              "</div>\n",
              "    </div>\n",
              "  </div>\n"
            ],
            "application/vnd.google.colaboratory.intrinsic+json": {
              "type": "dataframe",
              "variable_name": "dgt",
              "summary": "{\n  \"name\": \"dgt\",\n  \"rows\": 4,\n  \"fields\": [\n    {\n      \"column\": \"ExtraTreesClassifier\",\n      \"properties\": {\n        \"dtype\": \"number\",\n        \"std\": 0.026444580160051103,\n        \"min\": 0.9146359519038505,\n        \"max\": 0.96875,\n        \"num_unique_values\": 4,\n        \"samples\": [\n          0.9169920969369665,\n          0.9146359519038505,\n          0.96875\n        ],\n        \"semantic_type\": \"\",\n        \"description\": \"\"\n      }\n    },\n    {\n      \"column\": \"HistGradientBoostingClassifier\",\n      \"properties\": {\n        \"dtype\": \"number\",\n        \"std\": 0.01610756575816105,\n        \"min\": 0.9538359653714906,\n        \"max\": 0.9907407407407407,\n        \"num_unique_values\": 4,\n        \"samples\": [\n          0.9701849489795918,\n          0.9603663887871454,\n          0.9907407407407407\n        ],\n        \"semantic_type\": \"\",\n        \"description\": \"\"\n      }\n    },\n    {\n      \"column\": \"XGBClassifier\",\n      \"properties\": {\n        \"dtype\": \"number\",\n        \"std\": 0.019300511449050126,\n        \"min\": 0.942790978362029,\n        \"max\": 0.9861111111111112,\n        \"num_unique_values\": 4,\n        \"samples\": [\n          0.9568534192995866,\n          0.9482203440358582,\n          0.9861111111111112\n        ],\n        \"semantic_type\": \"\",\n        \"description\": \"\"\n      }\n    },\n    {\n      \"column\": \"GaussianNB\",\n      \"properties\": {\n        \"dtype\": \"number\",\n        \"std\": 0.11889785039862324,\n        \"min\": 0.4230104761753426,\n        \"max\": 0.7071759259259259,\n        \"num_unique_values\": 4,\n        \"samples\": [\n          0.5113190062067209,\n          0.4230104761753426,\n          0.7071759259259259\n        ],\n        \"semantic_type\": \"\",\n        \"description\": \"\"\n      }\n    },\n    {\n      \"column\": \"KNeighborsClassifier\",\n      \"properties\": {\n        \"dtype\": \"number\",\n        \"std\": 0.07950200113443925,\n        \"min\": 0.7366731861718628,\n        \"max\": 0.9189814814814815,\n        \"num_unique_values\": 4,\n        \"samples\": [\n          0.8475028828032531,\n          0.7816542977325664,\n          0.9189814814814815\n        ],\n        \"semantic_type\": \"\",\n        \"description\": \"\"\n      }\n    },\n    {\n      \"column\": \"LinearDiscriminantAnalysis\",\n      \"properties\": {\n        \"dtype\": \"number\",\n        \"std\": 0.13177875091761881,\n        \"min\": 0.544452361563518,\n        \"max\": 0.8148148148148148,\n        \"num_unique_values\": 4,\n        \"samples\": [\n          0.7793751936929786,\n          0.6038442155042804,\n          0.8148148148148148\n        ],\n        \"semantic_type\": \"\",\n        \"description\": \"\"\n      }\n    }\n  ]\n}"
            }
          },
          "metadata": {},
          "execution_count": 49
        }
      ],
      "source": [
        "k = 10\n",
        "# gh = np.zeros((6,len(models)))\n",
        "gh = np.zeros((4,len(models)))\n",
        "\n",
        "# for j in range(k):\n",
        "    # xy1 = X.sample(frac=0.8,random_state=j)\n",
        "    # xy2 = X.drop(xy1.index)\n",
        "# x1,y1,x2,y2 = xy1.drop('label',axis=1),xy1['label'],xy2.drop('label',axis=1),xy2['label']\n",
        "for ind, model in enumerate(models):\n",
        "    try:\n",
        "        clf = model(random_state=3)\n",
        "    except:\n",
        "        clf = model()\n",
        "    clf.fit(x1,y1)\n",
        "    y2_ = clf.predict(x2)\n",
        "    gh[0][ind]+= accuracy_score(y2,y2_)\n",
        "    gh[1][ind]+= precision_score(y2,y2_,average='macro')\n",
        "    gh[2][ind]+= recall_score(y2,y2_,average='macro')\n",
        "    gh[3][ind]+= f1_score(y2,y2_,average='macro')\n",
        "    # gh[4][ind]+= brier_score_loss(y2,y2_)\n",
        "    # gh[5][ind]+= jaccard_score(y2,y2_)\n",
        "\n",
        "    # print(gh[3])\n",
        "    # print('{}:{}'.format(np.sum(y2_==y2)/y2.shape[0],clf.__class__.__name__))\n",
        "# dg = pd.concat([pd.DataFrame(gh[0]).mean(axis=0),pd.DataFrame(gh[1]).mean(axis=0),pd.DataFrame(gh[2]).mean(axis=0),pd.DataFrame(gh[3]).mean(axis=0)],axis=1)\n",
        "dgt = pd.DataFrame(gh)\n",
        "dgt.columns = [i().__class__.__name__ for i in models]\n",
        "# dgt.index = ['Accuracy','Precision','Recall','F1','Brier_loss','Jaccard']\n",
        "dgt.index = ['Accuracy','Precision','Recall','F1']\n",
        "\n",
        "dgt"
      ]
    },
    {
      "cell_type": "code",
      "execution_count": 50,
      "metadata": {
        "id": "DIlzzshOpTyV"
      },
      "outputs": [],
      "source": [
        "dgt.to_csv(f'{path}original_results.csv',index=False)"
      ]
    },
    {
      "cell_type": "code",
      "execution_count": 51,
      "metadata": {
        "colab": {
          "base_uri": "https://localhost:8080/",
          "height": 430
        },
        "id": "BAgxBO2joVeI",
        "outputId": "2f01664e-b02e-4455-99d7-8954032166d7"
      },
      "outputs": [
        {
          "output_type": "display_data",
          "data": {
            "text/plain": [
              "<Figure size 640x480 with 1 Axes>"
            ],
            "image/png": "[encoded data removed]"
          },
          "metadata": {}
        }
      ],
      "source": [
        "# dgt.index = dgt.metrics\n",
        "# ssd = dgt.drop(['metrics'],axis=1)\n",
        "dgt.plot(kind='barh')\n",
        "plt.xlim(0.4,1.05)\n",
        "plt.xticks(rotation=0)\n",
        "plt.grid()\n",
        "plt.savefig(f'{path}original_results.png',bbox_inches='tight')\n",
        "dgt.to_csv(f'{path}original_results.csv')"
      ]
    },
    {
      "cell_type": "code",
      "execution_count": 52,
      "metadata": {
        "id": "wy62nVxk9UVp"
      },
      "outputs": [],
      "source": [
        "from sklearn.svm import SVC\n",
        "from sklearn.model_selection import train_test_split\n",
        "from sklearn.preprocessing import StandardScaler\n",
        "from sklearn import datasets, metrics\n",
        "\n",
        "from mealpy import FloatVar, StringVar, IntegerVar, BoolVar, MixedSetVar, SMA, Problem\n"
      ]
    },
    {
      "cell_type": "code",
      "execution_count": 53,
      "metadata": {
        "id": "p37cgJnasFKx"
      },
      "outputs": [],
      "source": [
        "# x1,y1,x2,y2"
      ]
    },
    {
      "cell_type": "code",
      "execution_count": 54,
      "metadata": {
        "id": "vQLunEi0r-Mm"
      },
      "outputs": [],
      "source": [
        "data = {\n",
        "    \"X_train\": x1,\n",
        "    \"X_test\": x2,\n",
        "    \"y_train\": y1,\n",
        "    \"y_test\": y2\n",
        "}"
      ]
    },
    {
      "cell_type": "code",
      "execution_count": 55,
      "metadata": {
        "colab": {
          "base_uri": "https://localhost:8080/"
        },
        "id": "1kYrlwW9faDL",
        "outputId": "7c25385a-8cde-4170-8361-09c30a83ef2c"
      },
      "outputs": [
        {
          "output_type": "execute_result",
          "data": {
            "text/plain": [
              "27"
            ]
          },
          "metadata": {},
          "execution_count": 55
        }
      ],
      "source": [
        "# k = [DE.JADE,TWO.EnhancedTWO,TWO.LevyTWO, MVO.OriginalMVO,ABC.OriginalABC, ACOR.OriginalACOR, ALO.OriginalALO, AO.OriginalAO, BA.AdaptiveBA,BeesA.OriginalBeesA, BeesA.CleverBookBeesA]\n",
        "# len(k)\n",
        "k = [CRO.OriginalCRO, DE.JADE,DE.OriginalDE,DE.SADE,DE.SAP_DE, EP.LevyEP,EP.OriginalEP, ES.CMA_ES,ES.LevyES,ES.OriginalES, FPA.OriginalFPA, GA.BaseGA,GA.EliteSingleGA,GA.SingleGA, MA.OriginalMA,BBO.OriginalBBO,BBO.DevBBO, EOA.OriginalEOA, IWO.OriginalIWO, SBO.DevSBO,SBO.OriginalSBO, SMA.DevSMA,SMA.OriginalSMA, TPO.DevTPO, VCS.DevVCS,VCS.OriginalVCS, WHO.OriginalWHO]\n",
        "len(k)"
      ]
    },
    {
      "cell_type": "code",
      "execution_count": 56,
      "metadata": {
        "id": "wA8mbWdZd8zm"
      },
      "outputs": [],
      "source": [
        "# train.to_csv(f'{home}train.csv')\n",
        "# test.to_csv(f'{home}test.csv')\n"
      ]
    },
    {
      "cell_type": "code",
      "execution_count": 57,
      "metadata": {
        "id": "BuNt_JGeTh53"
      },
      "outputs": [],
      "source": [
        "pathm = path+'models/'\n",
        "os.makedirs(pathm,exist_ok=True)\n",
        "mlk = pathm"
      ]
    },
    {
      "cell_type": "markdown",
      "metadata": {
        "id": "Wds6HXGZQ0_F"
      },
      "source": [
        "### EXT"
      ]
    },
    {
      "cell_type": "code",
      "execution_count": null,
      "metadata": {
        "id": "ogysNP_6d35w"
      },
      "outputs": [],
      "source": [
        "class ETROptimizedProblem(Problem):\n",
        "    def __init__(self, bounds=None, minmax=\"max\", data=None, **kwargs):\n",
        "        self.data = data\n",
        "        super().__init__(bounds, minmax, **kwargs)\n",
        "\n",
        "    def obj_func(self, x):\n",
        "        # modelname = 'OriginalCRO'\n",
        "        x_decoded = self.decode_solution(x)\n",
        "        xgb = ExtraTreesClassifier(max_depth=x_decoded[\"maxdepth\"],n_estimators=x_decoded[\"nestimators\"]\n",
        "                                   ,random_state=x_decoded['randomstate']\n",
        "                                #    ,random_state = 8\n",
        "                                   )\n",
        "\n",
        "        xgb.fit(self.data[\"X_train\"], self.data[\"y_train\"])\n",
        "        y_predict = xgb.predict(self.data[\"X_test\"])\n",
        "        acc = accuracy_score(self.data[\"y_test\"], y_predict)\n",
        "        pre = precision_score(self.data[\"y_test\"], y_predict,average='macro')\n",
        "        rec = recall_score(self.data[\"y_test\"], y_predict,average='macro')\n",
        "        f1 = f1_score(self.data[\"y_test\"], y_predict,average='macro')\n",
        "\n",
        "        print(acc,pre,rec,f1,round(x_decoded[\"maxdepth\"]),round(x_decoded[\"maxdepth\"])\n",
        "        # ,round(x_decoded[\"maxdepth\"])\n",
        "        ,file=open(f'{pathm}{modelname}.txt','a'))\n",
        "        return accuracy_score(self.data[\"y_test\"], y_predict)\n",
        "\n",
        "my_bounds = [\n",
        "    IntegerVar(lb=2, ub=50, name=\"maxdepth\"),\n",
        "    IntegerVar(lb=10, ub=800, name=\"nestimators\"),\n",
        "    IntegerVar(lb=0, ub=100, name=\"randomstate\"),\n",
        "]"
      ]
    },
    {
      "cell_type": "markdown",
      "metadata": {
        "id": "BdEkdvGnQ3sU"
      },
      "source": [
        "### XGB"
      ]
    },
    {
      "cell_type": "code",
      "execution_count": null,
      "metadata": {
        "id": "TCU4Xs8_QK3R"
      },
      "outputs": [],
      "source": [
        "class XGBOptimizedProblem(Problem):\n",
        "    def __init__(self, bounds=None, minmax=\"max\", data=None, **kwargs):\n",
        "        self.data = data\n",
        "        super().__init__(bounds, minmax, **kwargs)\n",
        "\n",
        "    def obj_func(self, x):\n",
        "        # modelname = 'OriginalCRO'\n",
        "        x_decoded = self.decode_solution(x)\n",
        "        xgb = XGBClassifier(max_depth=x_decoded[\"maxdepth\"],n_estimators=x_decoded[\"nestimators\"]\n",
        "                                   ,random_state=x_decoded['randomstate']\n",
        "                                #    ,random_state = 8\n",
        "                                   )\n",
        "\n",
        "        xgb.fit(self.data[\"X_train\"], self.data[\"y_train\"])\n",
        "        y_predict = xgb.predict(self.data[\"X_test\"])\n",
        "        acc = accuracy_score(self.data[\"y_test\"], y_predict)\n",
        "        pre = precision_score(self.data[\"y_test\"], y_predict,average='macro')\n",
        "        rec = recall_score(self.data[\"y_test\"], y_predict,average='macro')\n",
        "        f1 = f1_score(self.data[\"y_test\"], y_predict,average='macro')\n",
        "\n",
        "        print(acc,pre,rec,f1,round(x_decoded[\"maxdepth\"]),round(x_decoded[\"nestimators\"])\n",
        "        # ,round(x_decoded[\"maxdepth\"])\n",
        "        ,file=open(f'{pathm}{modelname}.txt','a'))\n",
        "        return acc\n",
        "\n",
        "my_bounds = [\n",
        "    IntegerVar(lb=6, ub=40, name=\"maxdepth\"),\n",
        "    IntegerVar(lb=80, ub=800, name=\"nestimators\"),\n",
        "    IntegerVar(lb=0, ub=100, name=\"randomstate\"),\n",
        "]"
      ]
    },
    {
      "cell_type": "markdown",
      "metadata": {
        "id": "mZCaf0gBQ5ZL"
      },
      "source": [
        "### RND"
      ]
    },
    {
      "cell_type": "code",
      "execution_count": null,
      "metadata": {
        "id": "FpG9YRNZU_AT"
      },
      "outputs": [],
      "source": [
        "class XGBOptimizedProblem(Problem):\n",
        "    def __init__(self, bounds=None, minmax=\"max\", data=None, **kwargs):\n",
        "        self.data = data\n",
        "        super().__init__(bounds, minmax, **kwargs)\n",
        "\n",
        "    def obj_func(self, x):\n",
        "        # modelname = 'OriginalCRO'\n",
        "        x_decoded = self.decode_solution(x)\n",
        "        xgb = RandomForestClassifier(max_depth=x_decoded[\"maxdepth\"],n_estimators=x_decoded[\"nestimators\"]\n",
        "                                #    ,random_state=x_decoded['randomstate']\n",
        "                                   ,random_state = 8\n",
        "                                   )\n",
        "\n",
        "        xgb.fit(self.data[\"X_train\"], self.data[\"y_train\"])\n",
        "        y_predict = xgb.predict(self.data[\"X_test\"])\n",
        "        acc = accuracy_score(self.data[\"y_test\"], y_predict)\n",
        "        pre = precision_score(self.data[\"y_test\"], y_predict,average='macro')\n",
        "        rec = recall_score(self.data[\"y_test\"], y_predict,average='macro')\n",
        "        f1 = f1_score(self.data[\"y_test\"], y_predict,average='macro')\n",
        "\n",
        "        print(acc,pre,rec,f1,round(x_decoded[\"maxdepth\"]),round(x_decoded[\"nestimators\"])\n",
        "        # ,round(x_decoded[\"maxdepth\"])\n",
        "        ,file=open(f'{pathm}{modelname}.txt','a'))\n",
        "        return accuracy_score(self.data[\"y_test\"], y_predict)\n",
        "\n",
        "my_bounds = [\n",
        "    IntegerVar(lb=8, ub=30, name=\"maxdepth\"),\n",
        "    IntegerVar(lb=100, ub=800, name=\"nestimators\"),\n",
        "    # IntegerVar(lb=0, ub=100, name=\"randomstate\"),\n",
        "]"
      ]
    },
    {
      "cell_type": "markdown",
      "metadata": {
        "id": "ndd2DnaIQ8C9"
      },
      "source": [
        "### HIST"
      ]
    },
    {
      "cell_type": "code",
      "execution_count": 85,
      "metadata": {
        "id": "Fodl835CbnyY"
      },
      "outputs": [],
      "source": [
        "class XGBOptimizedProblem(Problem):\n",
        "    def __init__(self, bounds=None, minmax=\"max\", data=None, **kwargs):\n",
        "        self.data = data\n",
        "        super().__init__(bounds, minmax, **kwargs)\n",
        "\n",
        "    def obj_func(self, x):\n",
        "        # modelname = 'OriginalCRO'\n",
        "        x_decoded = self.decode_solution(x)\n",
        "        xgb = HistGradientBoostingClassifier(max_depth=x_decoded[\"maxdepth\"]\n",
        "                                            #  ,learning_rate=x_decoded[\"nestimators\"]\n",
        "                                   ,max_iter=x_decoded['randomstate']\n",
        "                                   ,random_state = 8\n",
        "                                   )\n",
        "\n",
        "        xgb.fit(self.data[\"X_train\"], self.data[\"y_train\"])\n",
        "        y_predict = xgb.predict(self.data[\"X_test\"])\n",
        "        acc = accuracy_score(self.data[\"y_test\"], y_predict)\n",
        "        pre = precision_score(self.data[\"y_test\"], y_predict,average='macro')\n",
        "        rec = recall_score(self.data[\"y_test\"], y_predict,average='macro')\n",
        "        f1 = f1_score(self.data[\"y_test\"], y_predict,average='macro')\n",
        "\n",
        "        print(acc,pre,rec,f1,round(x_decoded[\"maxdepth\"]),round(x_decoded[\"randomstate\"])\n",
        "        # ,round(x_decoded[\"maxdepth\"])\n",
        "        ,file=open(f'{pathm}{modelname}.txt','a'))\n",
        "        print(acc,pre,rec,f1,round(x_decoded[\"maxdepth\"]),round(x_decoded[\"randomstate\"]))\n",
        "        return f1\n",
        "\n",
        "my_bounds = [\n",
        "    IntegerVar(lb=4, ub=40, name=\"maxdepth\"),\n",
        "    # FloatVar(lb=0.1, ub=0.9, name=\"nestimators\"),\n",
        "    IntegerVar(lb=40, ub=800, name=\"randomstate\"),\n",
        "]"
      ]
    },
    {
      "cell_type": "markdown",
      "metadata": {
        "id": "EoElVpIcQ9xy"
      },
      "source": [
        "### Training"
      ]
    },
    {
      "cell_type": "code",
      "execution_count": 117,
      "metadata": {
        "colab": {
          "base_uri": "https://localhost:8080/"
        },
        "id": "PF-MKCszTJGF",
        "outputId": "0eb2e642-fe72-47aa-b930-3ad79690378d"
      },
      "outputs": [
        {
          "output_type": "execute_result",
          "data": {
            "text/plain": [
              "16"
            ]
          },
          "metadata": {},
          "execution_count": 117
        }
      ],
      "source": [
        "k = [CRO.OriginalCRO,\n",
        "     DE.JADE,\n",
        "     DE.OriginalDE,\n",
        "     DE.SADE,\n",
        "    #  DE.SAP_DE,\n",
        "    #  EP.LevyEP,\n",
        "     EP.OriginalEP,\n",
        "     ES.CMA_ES,\n",
        "    #  ES.LevyES,\n",
        "     ES.OriginalES, FPA.OriginalFPA,\n",
        "    #  GA.BaseGA,\n",
        "     GA.EliteSingleGA,\n",
        "     GA.SingleGA,\n",
        "    #  MA.OriginalMA,\n",
        "     BBO.OriginalBBO,\n",
        "     BBO.DevBBO,\n",
        "    #  EOA.OriginalEOA,\n",
        "    #  IWO.OriginalIWO,\n",
        "     SBO.DevSBO,\n",
        "     SBO.OriginalSBO,\n",
        "     SMA.DevSMA,\n",
        "     SMA.OriginalSMA,\n",
        "    #  TPO.DevTPO,\n",
        "    #  VCS.DevVCS,\n",
        "    #  VCS.OriginalVCS,\n",
        "    #  WHO.OriginalWHO\n",
        "     ]\n",
        "len(k)"
      ]
    },
    {
      "cell_type": "code",
      "execution_count": null,
      "metadata": {
        "id": "uOwdKyL7ajxj"
      },
      "outputs": [],
      "source": [
        "k = [CRO.OriginalCRO, DE.JADE,DE.OriginalDE,DE.SADE,DE.SAP_DE, EP.LevyEP,EP.OriginalEP, ES.CMA_ES,ES.LevyES,ES.OriginalES, FPA.OriginalFPA, GA.BaseGA,GA.EliteSingleGA,GA.SingleGA,BBO.OriginalBBO,BBO.DevBBO, SBO.DevSBO,SBO.OriginalSBO, SMA.DevSMA,SMA.OriginalSMA]\n",
        "\n",
        "k2 = [EOA.OriginalEOA, IWO.OriginalIWO, TPO.DevTPO, VCS.DevVCS,VCS.OriginalVCS, WHO.OriginalWHO, MA.OriginalMA]"
      ]
    },
    {
      "cell_type": "code",
      "execution_count": 118,
      "metadata": {
        "id": "Q3HfdxinYS6y"
      },
      "outputs": [],
      "source": [
        "mkl = f'{path}models3/'\n",
        "os.makedirs(mkl,exist_ok=True)"
      ]
    },
    {
      "cell_type": "code",
      "execution_count": 119,
      "metadata": {
        "colab": {
          "base_uri": "https://localhost:8080/",
          "height": 36
        },
        "id": "yq75jgFNcXna",
        "outputId": "93f7ddb5-9279-4f03-ea90-b96ec0b537db"
      },
      "outputs": [
        {
          "output_type": "execute_result",
          "data": {
            "text/plain": [
              "'/content/drive/MyDrive/work74car/models3/'"
            ],
            "application/vnd.google.colaboratory.intrinsic+json": {
              "type": "string"
            }
          },
          "metadata": {},
          "execution_count": 119
        }
      ],
      "source": [
        "mkl"
      ]
    },
    {
      "cell_type": "code",
      "execution_count": 120,
      "metadata": {
        "id": "Je_opGCEwV95"
      },
      "outputs": [],
      "source": [
        "pathm = f'{path}/modtxt3/'\n",
        "pathf = f'{path}/modelfin3/'\n",
        "os.makedirs(pathm,exist_ok=True)\n",
        "os.makedirs(pathf,exist_ok=True)"
      ]
    },
    {
      "cell_type": "code",
      "execution_count": 121,
      "metadata": {
        "id": "tgfiH08j5JgE"
      },
      "outputs": [],
      "source": [
        "open(f'{pathf}f1.txt','w').close()\n",
        "open(f'{pathf}f2.txt','w').close()\n",
        "# #"
      ]
    },
    {
      "cell_type": "code",
      "execution_count": 122,
      "metadata": {
        "id": "duFP1XaAVzmj"
      },
      "outputs": [],
      "source": [
        "# k[0]"
      ]
    },
    {
      "cell_type": "code",
      "execution_count": 123,
      "metadata": {
        "colab": {
          "base_uri": "https://localhost:8080/",
          "height": 36
        },
        "id": "KMA3mb__RHFt",
        "outputId": "ee503c88-8caf-4c93-fbc4-be45d015386e"
      },
      "outputs": [
        {
          "output_type": "execute_result",
          "data": {
            "text/plain": [
              "'type'"
            ],
            "application/vnd.google.colaboratory.intrinsic+json": {
              "type": "string"
            }
          },
          "metadata": {},
          "execution_count": 123
        }
      ],
      "source": [
        "k[0].__class__.__name__"
      ]
    },
    {
      "cell_type": "code",
      "source": [
        "saves = open('/content/drive/MyDrive/times.txt','a')"
      ],
      "metadata": {
        "id": "IVoFSmmMl2tU"
      },
      "execution_count": 124,
      "outputs": []
    },
    {
      "cell_type": "code",
      "source": [
        "# clk2 = np.argmax(a)\n",
        "# clk2"
      ],
      "metadata": {
        "id": "9fLOoqDlmeeA"
      },
      "execution_count": 125,
      "outputs": []
    },
    {
      "cell_type": "code",
      "execution_count": 126,
      "metadata": {
        "colab": {
          "base_uri": "https://localhost:8080/",
          "height": 1000
        },
        "id": "3mQIrMYdTAdJ",
        "outputId": "c4d02b06-9195-441b-c99c-91f4bc25803b"
      },
      "outputs": [
        {
          "output_type": "stream",
          "name": "stderr",
          "text": [
            "INFO:mealpy.evolutionary_based.EP.OriginalEP:Solving single objective optimization problem.\n"
          ]
        },
        {
          "output_type": "stream",
          "name": "stdout",
          "text": [
            "0.9907407407407407 0.9701849489795918 0.9538359653714906 0.9603663887871454 34 498\n",
            "OriginalEP\n",
            "0.9907407407407407 0.9701849489795918 0.9538359653714906 0.9603663887871454 10 506\n",
            "0.9907407407407407 0.9701849489795918 0.9538359653714906 0.9603663887871454 13 144\n",
            "0.9884259259259259 0.9620827564990002 0.9445002278191408 0.950537966686246 38 684\n",
            "0.9895833333333334 0.9689482868020305 0.9534287992477122 0.9595292389602508 40 611\n",
            "0.9884259259259259 0.9620827564990002 0.9445002278191408 0.950537966686246 19 769\n",
            "0.9907407407407407 0.9701849489795918 0.9538359653714906 0.9603663887871454 38 358\n",
            "0.9895833333333334 0.9632867132867133 0.9525338820381574 0.9559981667610941 15 87\n",
            "0.9907407407407407 0.9701849489795918 0.9538359653714906 0.9603663887871454 32 469\n",
            "0.9907407407407407 0.9701849489795918 0.9538359653714906 0.9603663887871454 14 510\n",
            "0.9907407407407407 0.9701849489795918 0.9538359653714906 0.9603663887871454 25 487\n",
            "0.9895833333333334 0.9689482868020305 0.9449073939429191 0.9544546188248331 7 148\n",
            "0.9895833333333334 0.9594289005924951 0.9455026320381573 0.9516494813369133 5 705\n",
            "0.9884259259259259 0.9620827564990002 0.9445002278191408 0.950537966686246 21 771\n",
            "0.9907407407407407 0.9701849489795918 0.9538359653714906 0.9603663887871454 22 318\n",
            "0.9884259259259259 0.9620827564990002 0.9445002278191408 0.950537966686246 29 750\n",
            "0.9895833333333334 0.9689482868020305 0.9534287992477122 0.9595292389602508 31 514\n",
            "0.9918981481481481 0.9774934167215273 0.962764536800062 0.9692801649125398 8 230\n",
            "0.9907407407407407 0.9701849489795918 0.9538359653714906 0.9603663887871454 35 504\n",
            "0.9907407407407407 0.9701849489795918 0.9538359653714906 0.9603663887871454 19 389\n",
            "0.9884259259259259 0.9620827564990002 0.9445002278191408 0.950537966686246 19 682\n",
            "0.9895833333333334 0.9689482868020305 0.9449073939429191 0.9544546188248331 7 218\n",
            "0.9907407407407407 0.9701849489795918 0.9538359653714906 0.9603663887871454 10 511\n",
            "0.9907407407407407 0.9701849489795918 0.9538359653714906 0.9603663887871454 13 131\n",
            "0.9907407407407407 0.9701849489795918 0.9538359653714906 0.9603663887871454 37 372\n",
            "0.9907407407407407 0.9701849489795918 0.9538359653714906 0.9603663887871454 34 482\n",
            "0.9907407407407407 0.9701849489795918 0.9538359653714906 0.9603663887871454 15 508\n",
            "0.9895833333333334 0.9689482868020305 0.9534287992477122 0.9595292389602508 25 517\n",
            "0.9907407407407407 0.9701849489795918 0.9538359653714906 0.9603663887871454 24 312\n",
            "0.9895833333333334 0.9689482868020305 0.9534287992477122 0.9595292389602508 35 568\n",
            "0.9907407407407407 0.9701849489795918 0.9538359653714906 0.9603663887871454 18 409\n",
            "0.9895833333333334 0.9689482868020305 0.9534287992477122 0.9595292389602508 40 585\n",
            "0.9907407407407407 0.9701849489795918 0.9538359653714906 0.9603663887871454 31 512\n",
            "0.9895833333333334 0.9632867132867133 0.9525338820381574 0.9559981667610941 15 84\n",
            "0.9895833333333334 0.9689482868020305 0.9449073939429191 0.9544546188248331 7 175\n",
            "0.9895833333333334 0.9689482868020305 0.9534287992477122 0.9595292389602508 7 716\n",
            "0.9884259259259259 0.9620827564990002 0.9445002278191408 0.950537966686246 37 665\n",
            "0.9884259259259259 0.9620827564990002 0.9445002278191408 0.950537966686246 19 770\n",
            "0.9884259259259259 0.9620827564990002 0.9445002278191408 0.950537966686246 20 800\n",
            "0.9884259259259259 0.9620827564990002 0.9445002278191408 0.950537966686246 29 756\n"
          ]
        },
        {
          "output_type": "stream",
          "name": "stderr",
          "text": [
            "INFO:mealpy.evolutionary_based.EP.OriginalEP:>>>Problem: P, Epoch: 1, Current best: 0.9692801649125398, Global best: 0.9692801649125398, Runtime: 62.57104 seconds\n"
          ]
        },
        {
          "output_type": "stream",
          "name": "stdout",
          "text": [
            "0.9884259259259259 0.9620827564990002 0.9445002278191408 0.950537966686246 18 714\n",
            "0.9907407407407407 0.9701849489795918 0.9538359653714906 0.9603663887871454 9 245\n",
            "0.9907407407407407 0.9701849489795918 0.9538359653714906 0.9603663887871454 19 432\n",
            "0.9907407407407407 0.9701849489795918 0.9538359653714906 0.9603663887871454 17 497\n",
            "0.9907407407407407 0.9701849489795918 0.9538359653714906 0.9603663887871454 32 478\n",
            "0.9907407407407407 0.9701849489795918 0.9538359653714906 0.9603663887871454 39 346\n",
            "0.9895833333333334 0.9689482868020305 0.9534287992477122 0.9595292389602508 25 534\n",
            "0.9907407407407407 0.9701849489795918 0.9538359653714906 0.9603663887871454 24 311\n",
            "0.9907407407407407 0.9701849489795918 0.9538359653714906 0.9603663887871454 10 510\n",
            "0.9907407407407407 0.9701849489795918 0.9538359653714906 0.9603663887871454 13 130\n",
            "0.9907407407407407 0.9701849489795918 0.9538359653714906 0.9603663887871454 37 378\n",
            "0.9907407407407407 0.9701849489795918 0.9538359653714906 0.9603663887871454 25 299\n",
            "0.9895833333333334 0.9689482868020305 0.9534287992477122 0.9595292389602508 31 519\n",
            "0.9907407407407407 0.9701849489795918 0.9538359653714906 0.9603663887871454 10 511\n",
            "0.9907407407407407 0.9701849489795918 0.9538359653714906 0.9603663887871454 13 143\n",
            "0.9907407407407407 0.9701849489795918 0.9538359653714906 0.9603663887871454 31 447\n",
            "0.9907407407407407 0.9701849489795918 0.9538359653714906 0.9603663887871454 31 510\n",
            "0.9895833333333334 0.9689482868020305 0.9534287992477122 0.9595292389602508 35 522\n",
            "0.9895833333333334 0.9689482868020305 0.9534287992477122 0.9595292389602508 25 554\n",
            "0.9895833333333334 0.9689482868020305 0.9534287992477122 0.9595292389602508 40 549\n"
          ]
        },
        {
          "output_type": "stream",
          "name": "stderr",
          "text": [
            "INFO:mealpy.evolutionary_based.EP.OriginalEP:>>>Problem: P, Epoch: 2, Current best: 0.9692801649125398, Global best: 0.9692801649125398, Runtime: 56.09000 seconds\n"
          ]
        },
        {
          "output_type": "stream",
          "name": "stdout",
          "text": [
            "0.9907407407407407 0.976256754543966 0.9623573706762836 0.9684430150856451 8 237\n",
            "0.9918981481481481 0.9774934167215273 0.962764536800062 0.9692801649125398 8 238\n",
            "0.9907407407407407 0.9701849489795918 0.9538359653714906 0.9603663887871454 9 212\n",
            "0.9907407407407407 0.9701849489795918 0.9538359653714906 0.9603663887871454 19 457\n",
            "0.9907407407407407 0.9701849489795918 0.9538359653714906 0.9603663887871454 19 506\n",
            "0.9907407407407407 0.9701849489795918 0.9538359653714906 0.9603663887871454 23 326\n",
            "0.9907407407407407 0.9701849489795918 0.9538359653714906 0.9603663887871454 29 438\n",
            "0.9907407407407407 0.9701849489795918 0.9538359653714906 0.9603663887871454 37 330\n",
            "0.9907407407407407 0.9701849489795918 0.9538359653714906 0.9603663887871454 25 485\n",
            "0.9907407407407407 0.9701849489795918 0.9538359653714906 0.9603663887871454 31 510\n",
            "0.9907407407407407 0.9701849489795918 0.9538359653714906 0.9603663887871454 22 477\n",
            "0.9907407407407407 0.9701849489795918 0.9538359653714906 0.9603663887871454 17 483\n",
            "0.9907407407407407 0.9701849489795918 0.9538359653714906 0.9603663887871454 38 334\n",
            "0.9895833333333334 0.9689482868020305 0.9534287992477122 0.9595292389602508 10 515\n",
            "0.9907407407407407 0.9701849489795918 0.9538359653714906 0.9603663887871454 13 134\n",
            "0.9907407407407407 0.9701849489795918 0.9538359653714906 0.9603663887871454 37 364\n",
            "0.9907407407407407 0.9701849489795918 0.9538359653714906 0.9603663887871454 24 307\n",
            "0.9907407407407407 0.9701849489795918 0.9538359653714906 0.9603663887871454 10 505\n",
            "0.9907407407407407 0.9701849489795918 0.9538359653714906 0.9603663887871454 13 141\n",
            "0.9895833333333334 0.9689482868020305 0.9534287992477122 0.9595292389602508 31 513\n"
          ]
        },
        {
          "output_type": "stream",
          "name": "stderr",
          "text": [
            "INFO:mealpy.evolutionary_based.EP.OriginalEP:>>>Problem: P, Epoch: 3, Current best: 0.9692801649125398, Global best: 0.9692801649125398, Runtime: 54.75446 seconds\n"
          ]
        },
        {
          "output_type": "stream",
          "name": "stdout",
          "text": [
            "0.9895833333333334 0.9689482868020305 0.9534287992477122 0.9595292389602508 35 585\n",
            "0.9918981481481481 0.9774934167215273 0.962764536800062 0.9692801649125398 8 236\n",
            "0.9895833333333334 0.9689482868020305 0.9449073939429191 0.9544546188248331 7 237\n",
            "0.9918981481481481 0.9774934167215273 0.962764536800062 0.9692801649125398 6 263\n",
            "0.9907407407407407 0.9701849489795918 0.9538359653714906 0.9603663887871454 20 399\n",
            "0.9907407407407407 0.9701849489795918 0.9538359653714906 0.9603663887871454 18 498\n",
            "0.9907407407407407 0.9701849489795918 0.9538359653714906 0.9603663887871454 23 327\n",
            "0.9895833333333334 0.9689482868020305 0.9534287992477122 0.9595292389602508 34 519\n",
            "0.9907407407407407 0.9701849489795918 0.9538359653714906 0.9603663887871454 37 365\n",
            "0.9907407407407407 0.9701849489795918 0.9538359653714906 0.9603663887871454 25 486\n",
            "0.9907407407407407 0.9701849489795918 0.9538359653714906 0.9603663887871454 31 512\n",
            "0.9907407407407407 0.9701849489795918 0.9538359653714906 0.9603663887871454 16 488\n",
            "0.9907407407407407 0.9701849489795918 0.9538359653714906 0.9603663887871454 39 351\n",
            "0.9895833333333334 0.9689482868020305 0.9534287992477122 0.9595292389602508 10 514\n",
            "0.9907407407407407 0.9701849489795918 0.9538359653714906 0.9603663887871454 12 136\n",
            "0.9907407407407407 0.9701849489795918 0.9538359653714906 0.9603663887871454 37 360\n",
            "0.9907407407407407 0.9701849489795918 0.9538359653714906 0.9603663887871454 25 310\n",
            "0.9907407407407407 0.9701849489795918 0.9538359653714906 0.9603663887871454 10 508\n",
            "0.9907407407407407 0.9701849489795918 0.9538359653714906 0.9603663887871454 13 131\n",
            "0.9895833333333334 0.9689482868020305 0.9534287992477122 0.9595292389602508 31 514\n"
          ]
        },
        {
          "output_type": "stream",
          "name": "stderr",
          "text": [
            "INFO:mealpy.evolutionary_based.EP.OriginalEP:>>>Problem: P, Epoch: 4, Current best: 0.9692801649125398, Global best: 0.9692801649125398, Runtime: 57.91719 seconds\n"
          ]
        },
        {
          "output_type": "stream",
          "name": "stdout",
          "text": [
            "0.9895833333333334 0.9689482868020305 0.9534287992477122 0.9595292389602508 35 566\n",
            "0.9918981481481481 0.9774934167215273 0.962764536800062 0.9692801649125398 8 216\n",
            "0.9907407407407407 0.9701849489795918 0.9538359653714906 0.9603663887871454 9 242\n",
            "0.9895833333333334 0.9689482868020305 0.9449073939429191 0.9544546188248331 7 214\n",
            "0.9895833333333334 0.9689482868020305 0.9534287992477122 0.9595292389602508 18 516\n",
            "0.9907407407407407 0.9701849489795918 0.9538359653714906 0.9603663887871454 17 416\n",
            "0.9907407407407407 0.9701849489795918 0.9538359653714906 0.9603663887871454 24 318\n",
            "0.9907407407407407 0.9701849489795918 0.9538359653714906 0.9603663887871454 35 491\n",
            "0.9907407407407407 0.9701849489795918 0.9538359653714906 0.9603663887871454 37 368\n",
            "0.9907407407407407 0.9701849489795918 0.9538359653714906 0.9603663887871454 25 490\n",
            "0.9907407407407407 0.9701849489795918 0.9538359653714906 0.9603663887871454 31 512\n",
            "0.9907407407407407 0.9701849489795918 0.9538359653714906 0.9603663887871454 37 351\n",
            "0.9907407407407407 0.9701849489795918 0.9538359653714906 0.9603663887871454 10 503\n",
            "0.9907407407407407 0.9701849489795918 0.9538359653714906 0.9603663887871454 13 147\n",
            "0.9907407407407407 0.9701849489795918 0.9538359653714906 0.9603663887871454 16 506\n",
            "0.9907407407407407 0.9701849489795918 0.9538359653714906 0.9603663887871454 10 512\n",
            "0.9907407407407407 0.9701849489795918 0.9538359653714906 0.9603663887871454 14 131\n",
            "0.9907407407407407 0.9701849489795918 0.9538359653714906 0.9603663887871454 25 310\n",
            "0.9907407407407407 0.9701849489795918 0.9538359653714906 0.9603663887871454 40 321\n",
            "0.9895833333333334 0.9689482868020305 0.9534287992477122 0.9595292389602508 31 514\n"
          ]
        },
        {
          "output_type": "stream",
          "name": "stderr",
          "text": [
            "INFO:mealpy.evolutionary_based.EP.OriginalEP:>>>Problem: P, Epoch: 5, Current best: 0.9692801649125398, Global best: 0.9692801649125398, Runtime: 54.02218 seconds\n"
          ]
        },
        {
          "output_type": "stream",
          "name": "stdout",
          "text": [
            "0.9895833333333334 0.9689482868020305 0.9534287992477122 0.9595292389602508 35 575\n",
            "0.9895833333333334 0.9689482868020305 0.9449073939429191 0.9544546188248331 7 243\n",
            "0.9918981481481481 0.9774934167215273 0.962764536800062 0.9692801649125398 8 231\n",
            "0.9907407407407407 0.9701849489795918 0.9538359653714906 0.9603663887871454 10 212\n",
            "0.9907407407407407 0.9701849489795918 0.9538359653714906 0.9603663887871454 19 499\n",
            "0.9907407407407407 0.9701849489795918 0.9538359653714906 0.9603663887871454 18 424\n",
            "0.9907407407407407 0.9701849489795918 0.9538359653714906 0.9603663887871454 23 321\n",
            "0.9907407407407407 0.9701849489795918 0.9538359653714906 0.9603663887871454 31 511\n",
            "0.9907407407407407 0.9701849489795918 0.9538359653714906 0.9603663887871454 37 386\n",
            "0.9907407407407407 0.9701849489795918 0.9538359653714906 0.9603663887871454 32 478\n",
            "0.9907407407407407 0.9701849489795918 0.9538359653714906 0.9603663887871454 40 351\n",
            "0.9907407407407407 0.9701849489795918 0.9538359653714906 0.9603663887871454 25 445\n",
            "0.9907407407407407 0.9701849489795918 0.9538359653714906 0.9603663887871454 10 502\n",
            "0.9907407407407407 0.9701849489795918 0.9538359653714906 0.9603663887871454 13 141\n",
            "0.9907407407407407 0.9701849489795918 0.9538359653714906 0.9603663887871454 13 134\n",
            "0.9907407407407407 0.9701849489795918 0.9538359653714906 0.9603663887871454 24 307\n",
            "0.9907407407407407 0.9701849489795918 0.9538359653714906 0.9603663887871454 18 493\n",
            "0.9907407407407407 0.9701849489795918 0.9538359653714906 0.9603663887871454 11 512\n",
            "0.9907407407407407 0.9701849489795918 0.9538359653714906 0.9603663887871454 40 362\n",
            "0.9895833333333334 0.9689482868020305 0.9534287992477122 0.9595292389602508 31 514\n"
          ]
        },
        {
          "output_type": "stream",
          "name": "stderr",
          "text": [
            "INFO:mealpy.evolutionary_based.EP.OriginalEP:>>>Problem: P, Epoch: 6, Current best: 0.9692801649125398, Global best: 0.9692801649125398, Runtime: 53.65041 seconds\n"
          ]
        },
        {
          "output_type": "stream",
          "name": "stdout",
          "text": [
            "0.9895833333333334 0.9689482868020305 0.9534287992477122 0.9595292389602508 35 575\n",
            "0.9907407407407407 0.9701849489795918 0.9538359653714906 0.9603663887871454 9 248\n",
            "0.9895833333333334 0.9689482868020305 0.9449073939429191 0.9544546188248331 7 237\n",
            "0.9895833333333334 0.9689482868020305 0.9449073939429191 0.9544546188248331 7 253\n",
            "0.9907407407407407 0.9701849489795918 0.9538359653714906 0.9603663887871454 9 502\n",
            "0.9907407407407407 0.9701849489795918 0.9538359653714906 0.9603663887871454 37 365\n",
            "0.9907407407407407 0.9701849489795918 0.9538359653714906 0.9603663887871454 19 336\n",
            "0.9907407407407407 0.9701849489795918 0.9538359653714906 0.9603663887871454 22 334\n",
            "0.9907407407407407 0.9701849489795918 0.9538359653714906 0.9603663887871454 31 506\n",
            "0.9907407407407407 0.9701849489795918 0.9538359653714906 0.9603663887871454 36 476\n",
            "0.9907407407407407 0.9701849489795918 0.9538359653714906 0.9603663887871454 38 379\n",
            "0.9907407407407407 0.9701849489795918 0.9538359653714906 0.9603663887871454 25 489\n",
            "0.9907407407407407 0.9701849489795918 0.9538359653714906 0.9603663887871454 13 139\n",
            "0.9907407407407407 0.9701849489795918 0.9538359653714906 0.9603663887871454 15 129\n",
            "0.9907407407407407 0.9701849489795918 0.9538359653714906 0.9603663887871454 24 309\n",
            "0.9907407407407407 0.9701849489795918 0.9538359653714906 0.9603663887871454 10 511\n",
            "0.9907407407407407 0.9701849489795918 0.9538359653714906 0.9603663887871454 10 505\n",
            "0.9907407407407407 0.9701849489795918 0.9538359653714906 0.9603663887871454 16 511\n",
            "0.9907407407407407 0.9701849489795918 0.9538359653714906 0.9603663887871454 40 351\n",
            "0.9895833333333334 0.9689482868020305 0.9534287992477122 0.9595292389602508 31 513\n"
          ]
        },
        {
          "output_type": "stream",
          "name": "stderr",
          "text": [
            "INFO:mealpy.evolutionary_based.EP.OriginalEP:>>>Problem: P, Epoch: 7, Current best: 0.9692801649125398, Global best: 0.9692801649125398, Runtime: 53.60319 seconds\n"
          ]
        },
        {
          "output_type": "stream",
          "name": "stdout",
          "text": [
            "0.9895833333333334 0.9689482868020305 0.9534287992477122 0.9595292389602508 35 559\n",
            "0.9918981481481481 0.9774934167215273 0.962764536800062 0.9692801649125398 8 228\n",
            "0.9895833333333334 0.9689482868020305 0.9449073939429191 0.9544546188248331 7 234\n",
            "0.9907407407407407 0.9701849489795918 0.9538359653714906 0.9603663887871454 9 248\n",
            "0.9907407407407407 0.9701849489795918 0.9538359653714906 0.9603663887871454 37 373\n",
            "0.9895833333333334 0.9758094097854195 0.9610552873429502 0.9675836747761478 8 520\n",
            "0.9907407407407407 0.9701849489795918 0.9538359653714906 0.9603663887871454 18 414\n",
            "0.9907407407407407 0.9701849489795918 0.9538359653714906 0.9603663887871454 21 316\n",
            "0.9895833333333334 0.9689482868020305 0.9534287992477122 0.9595292389602508 31 514\n",
            "0.9907407407407407 0.9701849489795918 0.9538359653714906 0.9603663887871454 36 483\n",
            "0.9907407407407407 0.9701849489795918 0.9538359653714906 0.9603663887871454 38 378\n",
            "0.9907407407407407 0.9701849489795918 0.9538359653714906 0.9603663887871454 25 503\n",
            "0.9907407407407407 0.9701849489795918 0.9538359653714906 0.9603663887871454 13 141\n",
            "0.9907407407407407 0.9701849489795918 0.9538359653714906 0.9603663887871454 13 130\n",
            "0.9907407407407407 0.9701849489795918 0.9538359653714906 0.9603663887871454 25 315\n",
            "0.9895833333333334 0.9689482868020305 0.9534287992477122 0.9595292389602508 10 513\n",
            "0.9907407407407407 0.9701849489795918 0.9538359653714906 0.9603663887871454 10 503\n",
            "0.9907407407407407 0.9701849489795918 0.9538359653714906 0.9603663887871454 15 486\n",
            "0.9907407407407407 0.9701849489795918 0.9538359653714906 0.9603663887871454 39 349\n",
            "0.9895833333333334 0.9689482868020305 0.9534287992477122 0.9595292389602508 35 570\n"
          ]
        },
        {
          "output_type": "stream",
          "name": "stderr",
          "text": [
            "INFO:mealpy.evolutionary_based.EP.OriginalEP:>>>Problem: P, Epoch: 8, Current best: 0.9692801649125398, Global best: 0.9692801649125398, Runtime: 54.70652 seconds\n"
          ]
        },
        {
          "output_type": "stream",
          "name": "stdout",
          "text": [
            "0.9907407407407407 0.9701849489795918 0.9538359653714906 0.9603663887871454 31 511\n",
            "0.9907407407407407 0.976256754543966 0.9538359653714906 0.9635676038064839 6 247\n",
            "0.9895833333333334 0.9689482868020305 0.9449073939429191 0.9544546188248331 7 241\n",
            "0.9895833333333334 0.9689482868020305 0.9449073939429191 0.9544546188248331 7 258\n",
            "0.9907407407407407 0.9701849489795918 0.9538359653714906 0.9603663887871454 37 387\n",
            "0.9895833333333334 0.9689482868020305 0.9534287992477122 0.9595292389602508 13 516\n",
            "0.9907407407407407 0.9701849489795918 0.9538359653714906 0.9603663887871454 18 419\n",
            "0.9907407407407407 0.9701849489795918 0.9538359653714906 0.9603663887871454 23 316\n",
            "0.9895833333333334 0.9689482868020305 0.9534287992477122 0.9595292389602508 31 513\n",
            "0.9907407407407407 0.9701849489795918 0.9538359653714906 0.9603663887871454 31 510\n",
            "0.9907407407407407 0.9701849489795918 0.9538359653714906 0.9603663887871454 38 360\n",
            "0.9907407407407407 0.9701849489795918 0.9538359653714906 0.9603663887871454 25 492\n",
            "0.9907407407407407 0.9701849489795918 0.9538359653714906 0.9603663887871454 13 148\n",
            "0.9907407407407407 0.9701849489795918 0.9538359653714906 0.9603663887871454 11 130\n",
            "0.9907407407407407 0.9701849489795918 0.9538359653714906 0.9603663887871454 26 321\n",
            "0.9907407407407407 0.9701849489795918 0.9538359653714906 0.9603663887871454 10 511\n",
            "0.9907407407407407 0.9701849489795918 0.9538359653714906 0.9603663887871454 10 510\n",
            "0.9907407407407407 0.9701849489795918 0.9538359653714906 0.9603663887871454 18 510\n",
            "0.9907407407407407 0.9701849489795918 0.9538359653714906 0.9603663887871454 39 341\n",
            "0.9895833333333334 0.9689482868020305 0.9534287992477122 0.9595292389602508 35 566\n"
          ]
        },
        {
          "output_type": "stream",
          "name": "stderr",
          "text": [
            "INFO:mealpy.evolutionary_based.EP.OriginalEP:>>>Problem: P, Epoch: 9, Current best: 0.9692801649125398, Global best: 0.9692801649125398, Runtime: 59.43638 seconds\n"
          ]
        },
        {
          "output_type": "stream",
          "name": "stdout",
          "text": [
            "0.9895833333333334 0.9689482868020305 0.9534287992477122 0.9595292389602508 31 516\n",
            "0.9895833333333334 0.9689482868020305 0.9449073939429191 0.9544546188248331 7 210\n",
            "0.9895833333333334 0.9689482868020305 0.9449073939429191 0.9544546188248331 7 237\n",
            "0.9907407407407407 0.976256754543966 0.9623573706762836 0.9684430150856451 8 251\n",
            "0.9907407407407407 0.9701849489795918 0.9538359653714906 0.9603663887871454 37 345\n",
            "0.9907407407407407 0.9701849489795918 0.9538359653714906 0.9603663887871454 10 492\n",
            "0.9907407407407407 0.9701849489795918 0.9538359653714906 0.9603663887871454 17 407\n",
            "0.9907407407407407 0.9701849489795918 0.9538359653714906 0.9603663887871454 22 326\n",
            "0.9895833333333334 0.9689482868020305 0.9534287992477122 0.9595292389602508 31 513\n",
            "0.9907407407407407 0.9701849489795918 0.9538359653714906 0.9603663887871454 35 475\n",
            "0.9907407407407407 0.9701849489795918 0.9538359653714906 0.9603663887871454 36 348\n",
            "0.9907407407407407 0.9701849489795918 0.9538359653714906 0.9603663887871454 25 446\n",
            "0.9907407407407407 0.9701849489795918 0.9538359653714906 0.9603663887871454 12 130\n",
            "0.9907407407407407 0.9701849489795918 0.9538359653714906 0.9603663887871454 13 153\n",
            "0.9907407407407407 0.9701849489795918 0.9538359653714906 0.9603663887871454 24 319\n",
            "0.9907407407407407 0.9701849489795918 0.9538359653714906 0.9603663887871454 10 511\n",
            "0.9895833333333334 0.9689482868020305 0.9534287992477122 0.9595292389602508 10 507\n",
            "0.9907407407407407 0.9701849489795918 0.9538359653714906 0.9603663887871454 17 485\n",
            "0.9907407407407407 0.9701849489795918 0.9538359653714906 0.9603663887871454 40 346\n",
            "0.9895833333333334 0.9689482868020305 0.9534287992477122 0.9595292389602508 35 566\n"
          ]
        },
        {
          "output_type": "stream",
          "name": "stderr",
          "text": [
            "INFO:mealpy.evolutionary_based.EP.OriginalEP:>>>Problem: P, Epoch: 10, Current best: 0.9692801649125398, Global best: 0.9692801649125398, Runtime: 53.82864 seconds\n"
          ]
        },
        {
          "output_type": "stream",
          "name": "stdout",
          "text": [
            "0.9895833333333334 0.9689482868020305 0.9534287992477122 0.9595292389602508 31 515\n",
            "0.9895833333333334 0.9689482868020305 0.9449073939429191 0.9544546188248331 7 229\n",
            "0.9895833333333334 0.9689482868020305 0.9449073939429191 0.9544546188248331 7 247\n",
            "0.9918981481481481 0.9774934167215273 0.962764536800062 0.9692801649125398 6 240\n",
            "0.9907407407407407 0.9701849489795918 0.9538359653714906 0.9603663887871454 37 389\n",
            "0.9907407407407407 0.9701849489795918 0.9538359653714906 0.9603663887871454 14 499\n",
            "0.9907407407407407 0.9701849489795918 0.9538359653714906 0.9603663887871454 16 366\n",
            "0.9907407407407407 0.9701849489795918 0.9538359653714906 0.9603663887871454 24 311\n",
            "0.9895833333333334 0.9689482868020305 0.9534287992477122 0.9595292389602508 31 509\n",
            "0.9907407407407407 0.9701849489795918 0.9538359653714906 0.9603663887871454 38 345\n",
            "0.9907407407407407 0.9701849489795918 0.9538359653714906 0.9603663887871454 25 475\n",
            "0.9907407407407407 0.9701849489795918 0.9538359653714906 0.9603663887871454 32 508\n",
            "0.9907407407407407 0.9701849489795918 0.9538359653714906 0.9603663887871454 12 128\n",
            "0.9907407407407407 0.9701849489795918 0.9538359653714906 0.9603663887871454 13 140\n",
            "0.9907407407407407 0.9701849489795918 0.9538359653714906 0.9603663887871454 24 306\n",
            "0.9895833333333334 0.9689482868020305 0.9534287992477122 0.9595292389602508 10 516\n",
            "0.9907407407407407 0.9701849489795918 0.9538359653714906 0.9603663887871454 10 505\n",
            "0.9895833333333334 0.9689482868020305 0.9534287992477122 0.9595292389602508 17 519\n",
            "0.9907407407407407 0.9701849489795918 0.9538359653714906 0.9603663887871454 40 354\n",
            "0.9895833333333334 0.9689482868020305 0.9534287992477122 0.9595292389602508 35 541\n"
          ]
        },
        {
          "output_type": "stream",
          "name": "stderr",
          "text": [
            "INFO:mealpy.evolutionary_based.EP.OriginalEP:>>>Problem: P, Epoch: 11, Current best: 0.9692801649125398, Global best: 0.9692801649125398, Runtime: 53.44443 seconds\n"
          ]
        },
        {
          "output_type": "stream",
          "name": "stdout",
          "text": [
            "0.9907407407407407 0.9701849489795918 0.9538359653714906 0.9603663887871454 31 512\n",
            "0.9918981481481481 0.9774934167215273 0.962764536800062 0.9692801649125398 8 239\n",
            "0.9895833333333334 0.9689482868020305 0.9449073939429191 0.9544546188248331 7 233\n",
            "0.9918981481481481 0.9774934167215273 0.962764536800062 0.9692801649125398 8 218\n",
            "0.9907407407407407 0.9701849489795918 0.9538359653714906 0.9603663887871454 37 373\n",
            "0.9907407407407407 0.9701849489795918 0.9538359653714906 0.9603663887871454 12 487\n",
            "0.9907407407407407 0.9701849489795918 0.9538359653714906 0.9603663887871454 18 360\n",
            "0.9907407407407407 0.9701849489795918 0.9538359653714906 0.9603663887871454 39 347\n",
            "0.9895833333333334 0.9689482868020305 0.9534287992477122 0.9595292389602508 31 509\n",
            "0.9907407407407407 0.9701849489795918 0.9538359653714906 0.9603663887871454 25 461\n",
            "0.9907407407407407 0.9701849489795918 0.9538359653714906 0.9603663887871454 32 471\n",
            "0.9907407407407407 0.9701849489795918 0.9538359653714906 0.9603663887871454 10 512\n",
            "0.9907407407407407 0.9701849489795918 0.9538359653714906 0.9603663887871454 23 321\n",
            "0.9907407407407407 0.9701849489795918 0.9538359653714906 0.9603663887871454 13 128\n",
            "0.9907407407407407 0.9701849489795918 0.9538359653714906 0.9603663887871454 14 143\n",
            "0.9907407407407407 0.9701849489795918 0.9538359653714906 0.9603663887871454 25 308\n",
            "0.9895833333333334 0.9689482868020305 0.9534287992477122 0.9595292389602508 10 514\n",
            "0.9895833333333334 0.9689482868020305 0.9534287992477122 0.9595292389602508 17 509\n",
            "0.9907407407407407 0.9701849489795918 0.9538359653714906 0.9603663887871454 40 333\n",
            "0.9895833333333334 0.9689482868020305 0.9534287992477122 0.9595292389602508 35 553\n"
          ]
        },
        {
          "output_type": "stream",
          "name": "stderr",
          "text": [
            "INFO:mealpy.evolutionary_based.EP.OriginalEP:>>>Problem: P, Epoch: 12, Current best: 0.9692801649125398, Global best: 0.9692801649125398, Runtime: 53.03006 seconds\n"
          ]
        },
        {
          "output_type": "stream",
          "name": "stdout",
          "text": [
            "0.9895833333333334 0.9689482868020305 0.9534287992477122 0.9595292389602508 31 515\n",
            "0.9907407407407407 0.9701849489795918 0.9538359653714906 0.9603663887871454 9 223\n",
            "0.9907407407407407 0.9701849489795918 0.9538359653714906 0.9603663887871454 9 216\n",
            "0.9895833333333334 0.9689482868020305 0.9449073939429191 0.9544546188248331 7 239\n",
            "0.9907407407407407 0.9701849489795918 0.9538359653714906 0.9603663887871454 36 388\n",
            "0.9907407407407407 0.9701849489795918 0.9538359653714906 0.9603663887871454 13 506\n",
            "0.9907407407407407 0.9701849489795918 0.9538359653714906 0.9603663887871454 18 460\n",
            "0.9907407407407407 0.9701849489795918 0.9538359653714906 0.9603663887871454 37 334\n",
            "0.9895833333333334 0.9689482868020305 0.9534287992477122 0.9595292389602508 25 527\n",
            "0.9895833333333334 0.9689482868020305 0.9534287992477122 0.9595292389602508 31 516\n",
            "0.9907407407407407 0.9701849489795918 0.9538359653714906 0.9603663887871454 33 478\n",
            "0.9895833333333334 0.9689482868020305 0.9534287992477122 0.9595292389602508 10 513\n",
            "0.9907407407407407 0.9701849489795918 0.9538359653714906 0.9603663887871454 20 322\n",
            "0.9907407407407407 0.9701849489795918 0.9538359653714906 0.9603663887871454 15 128\n",
            "0.9907407407407407 0.9701849489795918 0.9538359653714906 0.9603663887871454 14 141\n",
            "0.9907407407407407 0.9701849489795918 0.9538359653714906 0.9603663887871454 23 311\n",
            "0.9895833333333334 0.9689482868020305 0.9534287992477122 0.9595292389602508 10 515\n",
            "0.9907407407407407 0.9701849489795918 0.9538359653714906 0.9603663887871454 17 482\n",
            "0.9907407407407407 0.9701849489795918 0.9538359653714906 0.9603663887871454 38 334\n",
            "0.9895833333333334 0.9689482868020305 0.9534287992477122 0.9595292389602508 35 572\n"
          ]
        },
        {
          "output_type": "stream",
          "name": "stderr",
          "text": [
            "INFO:mealpy.evolutionary_based.EP.OriginalEP:>>>Problem: P, Epoch: 13, Current best: 0.9692801649125398, Global best: 0.9692801649125398, Runtime: 58.35174 seconds\n"
          ]
        },
        {
          "output_type": "stream",
          "name": "stdout",
          "text": [
            "0.9895833333333334 0.9689482868020305 0.9534287992477122 0.9595292389602508 31 517\n",
            "0.9907407407407407 0.9701849489795918 0.9538359653714906 0.9603663887871454 9 235\n",
            "0.9918981481481481 0.9774934167215273 0.962764536800062 0.9692801649125398 8 244\n",
            "0.9918981481481481 0.9774934167215273 0.962764536800062 0.9692801649125398 8 213\n",
            "0.9907407407407407 0.9701849489795918 0.9538359653714906 0.9603663887871454 37 354\n",
            "0.9907407407407407 0.9701849489795918 0.9538359653714906 0.9603663887871454 14 503\n",
            "0.9907407407407407 0.9701849489795918 0.9538359653714906 0.9603663887871454 18 385\n",
            "0.9907407407407407 0.9701849489795918 0.9538359653714906 0.9603663887871454 39 356\n",
            "0.9907407407407407 0.9701849489795918 0.9538359653714906 0.9603663887871454 25 444\n",
            "0.9907407407407407 0.9701849489795918 0.9538359653714906 0.9603663887871454 31 510\n",
            "0.9907407407407407 0.9701849489795918 0.9538359653714906 0.9603663887871454 32 493\n",
            "0.9895833333333334 0.9689482868020305 0.9534287992477122 0.9595292389602508 10 520\n",
            "0.9907407407407407 0.9701849489795918 0.9538359653714906 0.9603663887871454 22 321\n",
            "0.9907407407407407 0.9701849489795918 0.9538359653714906 0.9603663887871454 13 130\n",
            "0.9907407407407407 0.9701849489795918 0.9538359653714906 0.9603663887871454 13 125\n",
            "0.9907407407407407 0.9701849489795918 0.9538359653714906 0.9603663887871454 23 325\n",
            "0.9895833333333334 0.9689482868020305 0.9534287992477122 0.9595292389602508 10 507\n",
            "0.9907407407407407 0.9701849489795918 0.9538359653714906 0.9603663887871454 17 498\n",
            "0.9907407407407407 0.9701849489795918 0.9538359653714906 0.9603663887871454 37 331\n",
            "0.9895833333333334 0.9689482868020305 0.9534287992477122 0.9595292389602508 35 601\n"
          ]
        },
        {
          "output_type": "stream",
          "name": "stderr",
          "text": [
            "INFO:mealpy.evolutionary_based.EP.OriginalEP:>>>Problem: P, Epoch: 14, Current best: 0.9692801649125398, Global best: 0.9692801649125398, Runtime: 53.76192 seconds\n"
          ]
        },
        {
          "output_type": "stream",
          "name": "stdout",
          "text": [
            "0.9895833333333334 0.9689482868020305 0.9534287992477122 0.9595292389602508 31 516\n",
            "0.9918981481481481 0.9774934167215273 0.962764536800062 0.9692801649125398 8 230\n",
            "0.9907407407407407 0.9701849489795918 0.9538359653714906 0.9603663887871454 9 272\n",
            "0.9907407407407407 0.976256754543966 0.9538359653714906 0.9635676038064839 6 271\n",
            "0.9907407407407407 0.9701849489795918 0.9538359653714906 0.9603663887871454 37 393\n",
            "0.9907407407407407 0.9701849489795918 0.9538359653714906 0.9603663887871454 11 498\n",
            "0.9907407407407407 0.9701849489795918 0.9538359653714906 0.9603663887871454 19 424\n",
            "0.9907407407407407 0.9701849489795918 0.9538359653714906 0.9603663887871454 38 364\n",
            "0.9895833333333334 0.9689482868020305 0.9534287992477122 0.9595292389602508 25 515\n",
            "0.9907407407407407 0.9701849489795918 0.9538359653714906 0.9603663887871454 34 502\n",
            "0.9907407407407407 0.9701849489795918 0.9538359653714906 0.9603663887871454 10 510\n",
            "0.9907407407407407 0.9701849489795918 0.9538359653714906 0.9603663887871454 24 326\n",
            "0.9907407407407407 0.9701849489795918 0.9538359653714906 0.9603663887871454 31 508\n",
            "0.9907407407407407 0.9701849489795918 0.9538359653714906 0.9603663887871454 13 132\n",
            "0.9907407407407407 0.9701849489795918 0.9538359653714906 0.9603663887871454 13 145\n",
            "0.9907407407407407 0.9701849489795918 0.9538359653714906 0.9603663887871454 10 504\n",
            "0.9907407407407407 0.9701849489795918 0.9538359653714906 0.9603663887871454 23 315\n",
            "0.9907407407407407 0.9701849489795918 0.9538359653714906 0.9603663887871454 18 479\n",
            "0.9907407407407407 0.9701849489795918 0.9538359653714906 0.9603663887871454 39 334\n",
            "0.9895833333333334 0.9689482868020305 0.9534287992477122 0.9595292389602508 35 563\n"
          ]
        },
        {
          "output_type": "stream",
          "name": "stderr",
          "text": [
            "INFO:mealpy.evolutionary_based.EP.OriginalEP:>>>Problem: P, Epoch: 15, Current best: 0.9692801649125398, Global best: 0.9692801649125398, Runtime: 54.03021 seconds\n"
          ]
        },
        {
          "output_type": "stream",
          "name": "stdout",
          "text": [
            "0.9895833333333334 0.9689482868020305 0.9534287992477122 0.9595292389602508 31 514\n",
            "0.9918981481481481 0.9774934167215273 0.962764536800062 0.9692801649125398 8 239\n",
            "0.9918981481481481 0.9774934167215273 0.962764536800062 0.9692801649125398 8 244\n",
            "0.9907407407407407 0.9701849489795918 0.9538359653714906 0.9603663887871454 10 229\n",
            "0.9907407407407407 0.9701849489795918 0.9538359653714906 0.9603663887871454 37 359\n",
            "0.9907407407407407 0.9701849489795918 0.9538359653714906 0.9603663887871454 17 506\n",
            "0.9907407407407407 0.9701849489795918 0.9538359653714906 0.9603663887871454 18 425\n",
            "0.9907407407407407 0.9701849489795918 0.9538359653714906 0.9603663887871454 37 356\n",
            "0.9895833333333334 0.9689482868020305 0.9534287992477122 0.9595292389602508 25 532\n",
            "0.9907407407407407 0.9701849489795918 0.9538359653714906 0.9603663887871454 36 487\n",
            "0.9895833333333334 0.9689482868020305 0.9534287992477122 0.9595292389602508 10 517\n",
            "0.9907407407407407 0.9701849489795918 0.9538359653714906 0.9603663887871454 23 313\n",
            "0.9907407407407407 0.9701849489795918 0.9538359653714906 0.9603663887871454 31 512\n",
            "0.9907407407407407 0.9701849489795918 0.9538359653714906 0.9603663887871454 14 130\n",
            "0.9907407407407407 0.9701849489795918 0.9538359653714906 0.9603663887871454 13 148\n",
            "0.9907407407407407 0.9701849489795918 0.9538359653714906 0.9603663887871454 10 496\n",
            "0.9907407407407407 0.9701849489795918 0.9538359653714906 0.9603663887871454 23 313\n",
            "0.9907407407407407 0.9701849489795918 0.9538359653714906 0.9603663887871454 16 483\n",
            "0.9907407407407407 0.9701849489795918 0.9538359653714906 0.9603663887871454 39 330\n",
            "0.9895833333333334 0.9689482868020305 0.9534287992477122 0.9595292389602508 35 572\n"
          ]
        },
        {
          "output_type": "stream",
          "name": "stderr",
          "text": [
            "INFO:mealpy.evolutionary_based.EP.OriginalEP:>>>Problem: P, Epoch: 16, Current best: 0.9692801649125398, Global best: 0.9692801649125398, Runtime: 54.14538 seconds\n"
          ]
        },
        {
          "output_type": "stream",
          "name": "stdout",
          "text": [
            "0.9895833333333334 0.9689482868020305 0.9534287992477122 0.9595292389602508 31 515\n",
            "0.9918981481481481 0.9774934167215273 0.962764536800062 0.9692801649125398 8 229\n",
            "0.9918981481481481 0.9774934167215273 0.962764536800062 0.9692801649125398 8 236\n",
            "0.9907407407407407 0.9701849489795918 0.9538359653714906 0.9603663887871454 9 241\n",
            "0.9907407407407407 0.9701849489795918 0.9538359653714906 0.9603663887871454 37 375\n",
            "0.9907407407407407 0.9701849489795918 0.9538359653714906 0.9603663887871454 14 502\n",
            "0.9907407407407407 0.9701849489795918 0.9538359653714906 0.9603663887871454 38 334\n",
            "0.9895833333333334 0.9689482868020305 0.9534287992477122 0.9595292389602508 25 518\n",
            "0.9907407407407407 0.9701849489795918 0.9538359653714906 0.9603663887871454 19 371\n",
            "0.9895833333333334 0.9689482868020305 0.9534287992477122 0.9595292389602508 36 582\n",
            "0.9895833333333334 0.9689482868020305 0.9534287992477122 0.9595292389602508 10 514\n",
            "0.9907407407407407 0.9701849489795918 0.9538359653714906 0.9603663887871454 22 322\n",
            "0.9907407407407407 0.9701849489795918 0.9538359653714906 0.9603663887871454 10 505\n",
            "0.9895833333333334 0.9689482868020305 0.9534287992477122 0.9595292389602508 31 509\n",
            "0.9907407407407407 0.9701849489795918 0.9538359653714906 0.9603663887871454 13 134\n",
            "0.9907407407407407 0.9701849489795918 0.9538359653714906 0.9603663887871454 13 130\n",
            "0.9907407407407407 0.9701849489795918 0.9538359653714906 0.9603663887871454 18 490\n",
            "0.9907407407407407 0.9701849489795918 0.9538359653714906 0.9603663887871454 26 312\n",
            "0.9907407407407407 0.9701849489795918 0.9538359653714906 0.9603663887871454 38 357\n",
            "0.9895833333333334 0.9689482868020305 0.9534287992477122 0.9595292389602508 35 598\n"
          ]
        },
        {
          "output_type": "stream",
          "name": "stderr",
          "text": [
            "INFO:mealpy.evolutionary_based.EP.OriginalEP:>>>Problem: P, Epoch: 17, Current best: 0.9692801649125398, Global best: 0.9692801649125398, Runtime: 54.31081 seconds\n"
          ]
        },
        {
          "output_type": "stream",
          "name": "stdout",
          "text": [
            "0.9895833333333334 0.9689482868020305 0.9534287992477122 0.9595292389602508 31 514\n",
            "0.9918981481481481 0.9774934167215273 0.962764536800062 0.9692801649125398 8 231\n",
            "0.9918981481481481 0.9774934167215273 0.962764536800062 0.9692801649125398 8 213\n",
            "0.9907407407407407 0.9770528809891016 0.9614624534667288 0.9684207638685058 8 268\n",
            "0.9895833333333334 0.9689482868020305 0.9534287992477122 0.9595292389602508 11 517\n",
            "0.9907407407407407 0.9701849489795918 0.9538359653714906 0.9603663887871454 37 360\n",
            "0.9907407407407407 0.9701849489795918 0.9538359653714906 0.9603663887871454 38 356\n",
            "0.9907407407407407 0.9701849489795918 0.9538359653714906 0.9603663887871454 25 451\n",
            "0.9907407407407407 0.9701849489795918 0.9538359653714906 0.9603663887871454 18 388\n",
            "0.9907407407407407 0.9701849489795918 0.9538359653714906 0.9603663887871454 34 505\n",
            "0.9895833333333334 0.9689482868020305 0.9534287992477122 0.9595292389602508 10 514\n",
            "0.9907407407407407 0.9701849489795918 0.9538359653714906 0.9603663887871454 10 504\n",
            "0.9907407407407407 0.9701849489795918 0.9538359653714906 0.9603663887871454 21 325\n",
            "0.9907407407407407 0.9701849489795918 0.9538359653714906 0.9603663887871454 31 512\n",
            "0.9907407407407407 0.9701849489795918 0.9538359653714906 0.9603663887871454 13 130\n",
            "0.9907407407407407 0.9701849489795918 0.9538359653714906 0.9603663887871454 13 139\n",
            "0.9907407407407407 0.9701849489795918 0.9538359653714906 0.9603663887871454 18 492\n",
            "0.9907407407407407 0.9701849489795918 0.9538359653714906 0.9603663887871454 25 315\n",
            "0.9907407407407407 0.9701849489795918 0.9538359653714906 0.9603663887871454 40 337\n",
            "0.9895833333333334 0.9689482868020305 0.9534287992477122 0.9595292389602508 35 564\n"
          ]
        },
        {
          "output_type": "stream",
          "name": "stderr",
          "text": [
            "INFO:mealpy.evolutionary_based.EP.OriginalEP:>>>Problem: P, Epoch: 18, Current best: 0.9692801649125398, Global best: 0.9692801649125398, Runtime: 59.07434 seconds\n"
          ]
        },
        {
          "output_type": "stream",
          "name": "stdout",
          "text": [
            "0.9895833333333334 0.9689482868020305 0.9534287992477122 0.9595292389602508 31 513\n",
            "0.9895833333333334 0.9689482868020305 0.9449073939429191 0.9544546188248331 7 234\n",
            "0.9895833333333334 0.9689482868020305 0.9449073939429191 0.9544546188248331 7 257\n",
            "0.9895833333333334 0.9594289005924951 0.9455026320381573 0.9516494813369133 5 217\n",
            "0.9907407407407407 0.9701849489795918 0.9538359653714906 0.9603663887871454 10 506\n",
            "0.9907407407407407 0.9701849489795918 0.9538359653714906 0.9603663887871454 37 386\n",
            "0.9907407407407407 0.9701849489795918 0.9538359653714906 0.9603663887871454 39 370\n",
            "0.9907407407407407 0.9701849489795918 0.9538359653714906 0.9603663887871454 25 452\n",
            "0.9907407407407407 0.9701849489795918 0.9538359653714906 0.9603663887871454 19 402\n",
            "0.9907407407407407 0.9701849489795918 0.9538359653714906 0.9603663887871454 36 502\n",
            "0.9895833333333334 0.9689482868020305 0.9534287992477122 0.9595292389602508 10 516\n",
            "0.9907407407407407 0.9701849489795918 0.9538359653714906 0.9603663887871454 10 503\n",
            "0.9907407407407407 0.9701849489795918 0.9538359653714906 0.9603663887871454 14 134\n",
            "0.9907407407407407 0.9701849489795918 0.9538359653714906 0.9603663887871454 22 317\n",
            "0.9895833333333334 0.9689482868020305 0.9534287992477122 0.9595292389602508 31 513\n",
            "0.9907407407407407 0.9701849489795918 0.9538359653714906 0.9603663887871454 16 501\n",
            "0.9907407407407407 0.9701849489795918 0.9538359653714906 0.9603663887871454 39 343\n",
            "0.9907407407407407 0.9701849489795918 0.9538359653714906 0.9603663887871454 13 136\n",
            "0.9907407407407407 0.9701849489795918 0.9538359653714906 0.9603663887871454 24 314\n",
            "0.9895833333333334 0.9689482868020305 0.9534287992477122 0.9595292389602508 35 600\n"
          ]
        },
        {
          "output_type": "stream",
          "name": "stderr",
          "text": [
            "INFO:mealpy.evolutionary_based.EP.OriginalEP:>>>Problem: P, Epoch: 19, Current best: 0.9692801649125398, Global best: 0.9692801649125398, Runtime: 54.61290 seconds\n"
          ]
        },
        {
          "output_type": "stream",
          "name": "stdout",
          "text": [
            "0.9895833333333334 0.9689482868020305 0.9534287992477122 0.9595292389602508 31 513\n",
            "0.9895833333333334 0.9689482868020305 0.9449073939429191 0.9544546188248331 7 217\n",
            "0.9895833333333334 0.9689482868020305 0.9449073939429191 0.9544546188248331 7 226\n",
            "0.9907407407407407 0.9701849489795918 0.9538359653714906 0.9603663887871454 9 243\n",
            "0.9895833333333334 0.9689482868020305 0.9534287992477122 0.9595292389602508 10 515\n",
            "0.9907407407407407 0.9701849489795918 0.9538359653714906 0.9603663887871454 37 364\n",
            "0.9907407407407407 0.9701849489795918 0.9538359653714906 0.9603663887871454 39 358\n",
            "0.9907407407407407 0.9701849489795918 0.9538359653714906 0.9603663887871454 25 475\n",
            "0.9907407407407407 0.9701849489795918 0.9538359653714906 0.9603663887871454 17 428\n",
            "0.9907407407407407 0.9701849489795918 0.9538359653714906 0.9603663887871454 16 488\n",
            "0.9907407407407407 0.9701849489795918 0.9538359653714906 0.9603663887871454 31 476\n",
            "0.9907407407407407 0.9701849489795918 0.9538359653714906 0.9603663887871454 10 499\n",
            "0.9907407407407407 0.9701849489795918 0.9538359653714906 0.9603663887871454 10 502\n",
            "0.9907407407407407 0.9701849489795918 0.9538359653714906 0.9603663887871454 12 131\n",
            "0.9907407407407407 0.9701849489795918 0.9538359653714906 0.9603663887871454 22 332\n",
            "0.9907407407407407 0.9701849489795918 0.9538359653714906 0.9603663887871454 31 512\n",
            "0.9907407407407407 0.9701849489795918 0.9538359653714906 0.9603663887871454 39 344\n",
            "0.9918981481481481 0.9775257900769608 0.955138048704824 0.9648529508501856 13 160\n",
            "0.9907407407407407 0.9701849489795918 0.9538359653714906 0.9603663887871454 23 312\n",
            "0.9895833333333334 0.9689482868020305 0.9534287992477122 0.9595292389602508 35 596\n"
          ]
        },
        {
          "output_type": "stream",
          "name": "stderr",
          "text": [
            "INFO:mealpy.evolutionary_based.EP.OriginalEP:>>>Problem: P, Epoch: 20, Current best: 0.9692801649125398, Global best: 0.9692801649125398, Runtime: 54.97011 seconds\n"
          ]
        },
        {
          "output_type": "stream",
          "name": "stdout",
          "text": [
            "0.9895833333333334 0.9689482868020305 0.9534287992477122 0.9595292389602508 31 514\n",
            "OriginalEP , 1\n",
            "0.950537966686246 10\n",
            "0.9516494813369132 2\n",
            "0.9544546188248332 21\n",
            "0.955998166761094 2\n",
            "0.9595292389602508 79\n",
            "0.9603663887871454 280\n",
            "0.963567603806484 2\n",
            "0.9648529508501856 1\n",
            "0.9675836747761478 1\n",
            "0.9684207638685058 1\n",
            "0.9684430150856452 2\n",
            "0.9692801649125398 19\n"
          ]
        },
        {
          "output_type": "display_data",
          "data": {
            "text/plain": [
              "<Figure size 640x480 with 1 Axes>"
            ],
            "image/png": "[encoded data removed]"
          },
          "metadata": {}
        },
        {
          "output_type": "stream",
          "name": "stderr",
          "text": [
            "INFO:mealpy.evolutionary_based.ES.CMA_ES:Solving single objective optimization problem.\n"
          ]
        },
        {
          "output_type": "stream",
          "name": "stdout",
          "text": [
            "0.9907407407407407 0.9701849489795918 0.9538359653714906 0.9603663887871454 24 114\n",
            "CMA_ES\n",
            "0.9907407407407407 0.9701849489795918 0.9538359653714906 0.9603663887871454 38 177\n",
            "0.9895833333333334 0.9689482868020305 0.9534287992477122 0.9595292389602508 25 551\n",
            "0.9907407407407407 0.9701849489795918 0.9538359653714906 0.9603663887871454 36 362\n",
            "0.9895833333333334 0.9689482868020305 0.9534287992477122 0.9595292389602508 18 556\n",
            "0.9907407407407407 0.9701849489795918 0.9538359653714906 0.9603663887871454 19 289\n",
            "0.9907407407407407 0.9701849489795918 0.9538359653714906 0.9603663887871454 31 343\n",
            "0.9884259259259259 0.9620827564990002 0.9445002278191408 0.950537966686246 28 752\n",
            "0.9884259259259259 0.9620827564990002 0.9445002278191408 0.950537966686246 17 793\n",
            "0.9895833333333334 0.9758094097854195 0.9610552873429502 0.9675836747761478 8 655\n",
            "0.9895833333333334 0.9689482868020305 0.9534287992477122 0.9595292389602508 10 628\n",
            "0.9884259259259259 0.9620827564990002 0.9445002278191408 0.950537966686246 30 784\n",
            "0.9907407407407407 0.9701849489795918 0.9538359653714906 0.9603663887871454 15 146\n",
            "0.9907407407407407 0.9701849489795918 0.9538359653714906 0.9603663887871454 22 127\n",
            "0.9884259259259259 0.9620827564990002 0.9445002278191408 0.950537966686246 37 780\n",
            "0.9907407407407407 0.9701849489795918 0.9538359653714906 0.9603663887871454 25 390\n",
            "0.9953703703703703 0.9817843264248705 0.9889550129905382 0.9850341470348838 4 133\n",
            "0.9895833333333334 0.9689482868020305 0.9534287992477122 0.9595292389602508 29 540\n",
            "0.9907407407407407 0.9701849489795918 0.9538359653714906 0.9603663887871454 23 459\n",
            "0.9861111111111112 0.9532379633902477 0.934864811152474 0.9413161117060362 25 55\n",
            "0.9918981481481481 0.9694835033544711 0.971285942104855 0.9702263353382573 4 554\n",
            "0.9907407407407407 0.9701849489795918 0.9538359653714906 0.9603663887871454 22 365\n",
            "0.9907407407407407 0.9701849489795918 0.9538359653714906 0.9603663887871454 20 313\n",
            "0.9907407407407407 0.9701849489795918 0.9538359653714906 0.9603663887871454 21 356\n",
            "0.9907407407407407 0.9701849489795918 0.9538359653714906 0.9603663887871454 21 245\n",
            "0.9907407407407407 0.9701849489795918 0.9538359653714906 0.9603663887871454 19 440\n",
            "0.9907407407407407 0.9701849489795918 0.9538359653714906 0.9603663887871454 21 260\n",
            "0.9907407407407407 0.9701849489795918 0.9538359653714906 0.9603663887871454 15 293\n",
            "0.9907407407407407 0.9701849489795918 0.9538359653714906 0.9603663887871454 20 275\n",
            "0.9907407407407407 0.9701849489795918 0.9538359653714906 0.9603663887871454 16 282\n",
            "0.9907407407407407 0.9701849489795918 0.9538359653714906 0.9603663887871454 16 345\n",
            "0.9907407407407407 0.9701849489795918 0.9538359653714906 0.9603663887871454 13 295\n",
            "0.9907407407407407 0.9701849489795918 0.9538359653714906 0.9603663887871454 13 234\n",
            "0.9907407407407407 0.9701849489795918 0.9538359653714906 0.9603663887871454 18 371\n",
            "0.9907407407407407 0.9701849489795918 0.9538359653714906 0.9603663887871454 24 203\n",
            "0.9907407407407407 0.9701849489795918 0.9538359653714906 0.9603663887871454 21 214\n",
            "0.9907407407407407 0.9701849489795918 0.9538359653714906 0.9603663887871454 14 367\n",
            "0.9907407407407407 0.9701849489795918 0.9538359653714906 0.9603663887871454 24 259\n",
            "0.9907407407407407 0.9701849489795918 0.9538359653714906 0.9603663887871454 19 227\n",
            "0.9907407407407407 0.9701849489795918 0.9538359653714906 0.9603663887871454 24 322\n"
          ]
        },
        {
          "output_type": "stream",
          "name": "stderr",
          "text": [
            "INFO:mealpy.evolutionary_based.ES.CMA_ES:>>>Problem: P, Epoch: 1, Current best: 0.9603663887871454, Global best: 0.9850341470348838, Runtime: 52.10850 seconds\n"
          ]
        },
        {
          "output_type": "stream",
          "name": "stdout",
          "text": [
            "0.9907407407407407 0.9701849489795918 0.9538359653714906 0.9603663887871454 23 331\n",
            "0.9907407407407407 0.9701849489795918 0.9538359653714906 0.9603663887871454 14 277\n",
            "0.9907407407407407 0.9701849489795918 0.9538359653714906 0.9603663887871454 19 241\n",
            "0.9907407407407407 0.9701849489795918 0.9538359653714906 0.9603663887871454 17 150\n",
            "0.9907407407407407 0.9701849489795918 0.9538359653714906 0.9603663887871454 15 345\n",
            "0.9907407407407407 0.9701849489795918 0.9538359653714906 0.9603663887871454 17 179\n",
            "0.9907407407407407 0.9701849489795918 0.9538359653714906 0.9603663887871454 22 330\n",
            "0.9907407407407407 0.9701849489795918 0.9538359653714906 0.9603663887871454 20 211\n",
            "0.9907407407407407 0.9701849489795918 0.9538359653714906 0.9603663887871454 21 367\n",
            "0.9907407407407407 0.9701849489795918 0.9538359653714906 0.9603663887871454 12 329\n",
            "0.9907407407407407 0.9701849489795918 0.9538359653714906 0.9603663887871454 21 293\n",
            "0.9907407407407407 0.9701849489795918 0.9538359653714906 0.9603663887871454 24 258\n",
            "0.9907407407407407 0.9701849489795918 0.9538359653714906 0.9603663887871454 22 335\n",
            "0.9907407407407407 0.9701849489795918 0.9538359653714906 0.9603663887871454 25 212\n",
            "0.9907407407407407 0.9701849489795918 0.9538359653714906 0.9603663887871454 18 268\n",
            "0.9907407407407407 0.9701849489795918 0.9538359653714906 0.9603663887871454 19 235\n",
            "0.9907407407407407 0.9701849489795918 0.9538359653714906 0.9603663887871454 19 385\n",
            "0.9907407407407407 0.9701849489795918 0.9538359653714906 0.9603663887871454 15 224\n",
            "0.9907407407407407 0.9701849489795918 0.9538359653714906 0.9603663887871454 26 271\n",
            "0.9907407407407407 0.9701849489795918 0.9538359653714906 0.9603663887871454 17 317\n"
          ]
        },
        {
          "output_type": "stream",
          "name": "stderr",
          "text": [
            "INFO:mealpy.evolutionary_based.ES.CMA_ES:>>>Problem: P, Epoch: 2, Current best: 0.9603663887871454, Global best: 0.9850341470348838, Runtime: 44.81229 seconds\n"
          ]
        },
        {
          "output_type": "stream",
          "name": "stdout",
          "text": [
            "0.9907407407407407 0.9701849489795918 0.9538359653714906 0.9603663887871454 17 195\n",
            "0.9907407407407407 0.9701849489795918 0.9538359653714906 0.9603663887871454 20 329\n",
            "0.9907407407407407 0.9701849489795918 0.9538359653714906 0.9603663887871454 21 251\n",
            "0.9907407407407407 0.9701849489795918 0.9538359653714906 0.9603663887871454 23 200\n",
            "0.9918981481481481 0.9775257900769608 0.955138048704824 0.9648529508501856 22 190\n",
            "0.9907407407407407 0.9701849489795918 0.9538359653714906 0.9603663887871454 22 231\n",
            "0.9907407407407407 0.9701849489795918 0.9538359653714906 0.9603663887871454 16 184\n",
            "0.9907407407407407 0.9701849489795918 0.9538359653714906 0.9603663887871454 20 329\n",
            "0.9895833333333334 0.9632867132867133 0.9525338820381574 0.9559981667610941 22 81\n",
            "0.9907407407407407 0.9701849489795918 0.9538359653714906 0.9603663887871454 17 287\n",
            "0.9907407407407407 0.9701849489795918 0.9538359653714906 0.9603663887871454 18 123\n",
            "0.9895833333333334 0.9632867132867133 0.9525338820381574 0.9559981667610941 22 98\n",
            "0.9907407407407407 0.9701849489795918 0.9538359653714906 0.9603663887871454 20 317\n",
            "0.9907407407407407 0.9701849489795918 0.9538359653714906 0.9603663887871454 18 158\n",
            "0.9895833333333334 0.9632867132867133 0.9525338820381574 0.9559981667610941 18 81\n",
            "0.9907407407407407 0.9701849489795918 0.9538359653714906 0.9603663887871454 21 295\n",
            "0.9907407407407407 0.9701849489795918 0.9538359653714906 0.9603663887871454 25 300\n",
            "0.9907407407407407 0.9701849489795918 0.9538359653714906 0.9603663887871454 19 151\n",
            "0.9907407407407407 0.9701849489795918 0.9538359653714906 0.9603663887871454 22 396\n",
            "0.9907407407407407 0.9701849489795918 0.9538359653714906 0.9603663887871454 17 258\n"
          ]
        },
        {
          "output_type": "stream",
          "name": "stderr",
          "text": [
            "INFO:mealpy.evolutionary_based.ES.CMA_ES:>>>Problem: P, Epoch: 3, Current best: 0.9648529508501856, Global best: 0.9850341470348838, Runtime: 40.28085 seconds\n"
          ]
        },
        {
          "output_type": "stream",
          "name": "stdout",
          "text": [
            "0.9907407407407407 0.9701849489795918 0.9538359653714906 0.9603663887871454 14 194\n",
            "0.9907407407407407 0.9701849489795918 0.9538359653714906 0.9603663887871454 24 236\n",
            "0.9907407407407407 0.9701849489795918 0.9538359653714906 0.9603663887871454 22 247\n",
            "0.9907407407407407 0.9701849489795918 0.9538359653714906 0.9603663887871454 20 252\n",
            "0.9907407407407407 0.9701849489795918 0.9538359653714906 0.9603663887871454 20 414\n",
            "0.9907407407407407 0.9701849489795918 0.9538359653714906 0.9603663887871454 17 288\n",
            "0.9907407407407407 0.9701849489795918 0.9538359653714906 0.9603663887871454 22 248\n",
            "0.9907407407407407 0.9701849489795918 0.9538359653714906 0.9603663887871454 19 270\n",
            "0.9907407407407407 0.9701849489795918 0.9538359653714906 0.9603663887871454 16 217\n",
            "0.9907407407407407 0.9701849489795918 0.9538359653714906 0.9603663887871454 23 376\n",
            "0.9907407407407407 0.9701849489795918 0.9538359653714906 0.9603663887871454 20 286\n",
            "0.9907407407407407 0.9701849489795918 0.9538359653714906 0.9603663887871454 20 338\n",
            "0.9907407407407407 0.9701849489795918 0.9538359653714906 0.9603663887871454 18 249\n",
            "0.9907407407407407 0.9701849489795918 0.9538359653714906 0.9603663887871454 21 387\n",
            "0.9907407407407407 0.9701849489795918 0.9538359653714906 0.9603663887871454 19 419\n",
            "0.9907407407407407 0.9701849489795918 0.9538359653714906 0.9603663887871454 22 249\n",
            "0.9907407407407407 0.9701849489795918 0.9538359653714906 0.9603663887871454 24 211\n",
            "0.9907407407407407 0.9701849489795918 0.9538359653714906 0.9603663887871454 18 175\n",
            "0.9907407407407407 0.9701849489795918 0.9538359653714906 0.9603663887871454 28 273\n",
            "0.9907407407407407 0.9701849489795918 0.9538359653714906 0.9603663887871454 23 219\n"
          ]
        },
        {
          "output_type": "stream",
          "name": "stderr",
          "text": [
            "INFO:mealpy.evolutionary_based.ES.CMA_ES:>>>Problem: P, Epoch: 4, Current best: 0.9603663887871454, Global best: 0.9850341470348838, Runtime: 48.33068 seconds\n"
          ]
        },
        {
          "output_type": "stream",
          "name": "stdout",
          "text": [
            "0.9907407407407407 0.9701849489795918 0.9538359653714906 0.9603663887871454 22 284\n",
            "0.9907407407407407 0.9701849489795918 0.9538359653714906 0.9603663887871454 24 151\n",
            "0.9907407407407407 0.9701849489795918 0.9538359653714906 0.9603663887871454 19 323\n",
            "0.9907407407407407 0.9701849489795918 0.9538359653714906 0.9603663887871454 24 259\n",
            "0.9907407407407407 0.9701849489795918 0.9538359653714906 0.9603663887871454 20 300\n",
            "0.9907407407407407 0.9701849489795918 0.9538359653714906 0.9603663887871454 23 231\n",
            "0.9907407407407407 0.9701849489795918 0.9538359653714906 0.9603663887871454 21 270\n",
            "0.9907407407407407 0.9701849489795918 0.9538359653714906 0.9603663887871454 19 177\n",
            "0.9907407407407407 0.9701849489795918 0.9538359653714906 0.9603663887871454 23 330\n",
            "0.9907407407407407 0.9701849489795918 0.9538359653714906 0.9603663887871454 21 226\n",
            "0.9907407407407407 0.9701849489795918 0.9538359653714906 0.9603663887871454 21 210\n",
            "0.9907407407407407 0.9701849489795918 0.9538359653714906 0.9603663887871454 19 307\n",
            "0.9907407407407407 0.9701849489795918 0.9538359653714906 0.9603663887871454 24 238\n",
            "0.9907407407407407 0.9701849489795918 0.9538359653714906 0.9603663887871454 22 288\n",
            "0.9907407407407407 0.9701849489795918 0.9538359653714906 0.9603663887871454 18 252\n",
            "0.9907407407407407 0.9701849489795918 0.9538359653714906 0.9603663887871454 21 241\n",
            "0.9907407407407407 0.9701849489795918 0.9538359653714906 0.9603663887871454 20 221\n",
            "0.9907407407407407 0.9701849489795918 0.9538359653714906 0.9603663887871454 22 158\n",
            "0.9907407407407407 0.9701849489795918 0.9538359653714906 0.9603663887871454 23 224\n",
            "0.9907407407407407 0.9701849489795918 0.9538359653714906 0.9603663887871454 22 325\n"
          ]
        },
        {
          "output_type": "stream",
          "name": "stderr",
          "text": [
            "INFO:mealpy.evolutionary_based.ES.CMA_ES:>>>Problem: P, Epoch: 5, Current best: 0.9603663887871454, Global best: 0.9850341470348838, Runtime: 44.85415 seconds\n"
          ]
        },
        {
          "output_type": "stream",
          "name": "stdout",
          "text": [
            "0.9907407407407407 0.9701849489795918 0.9538359653714906 0.9603663887871454 22 173\n",
            "0.9907407407407407 0.9701849489795918 0.9538359653714906 0.9603663887871454 20 345\n",
            "0.9907407407407407 0.9701849489795918 0.9538359653714906 0.9603663887871454 21 292\n",
            "0.9907407407407407 0.9701849489795918 0.9538359653714906 0.9603663887871454 20 345\n",
            "0.9907407407407407 0.9701849489795918 0.9538359653714906 0.9603663887871454 17 400\n",
            "0.9907407407407407 0.9701849489795918 0.9538359653714906 0.9603663887871454 21 298\n",
            "0.9907407407407407 0.9701849489795918 0.9538359653714906 0.9603663887871454 17 375\n",
            "0.9907407407407407 0.9701849489795918 0.9538359653714906 0.9603663887871454 23 238\n",
            "0.9907407407407407 0.9701849489795918 0.9538359653714906 0.9603663887871454 20 209\n",
            "0.9907407407407407 0.9701849489795918 0.9538359653714906 0.9603663887871454 22 311\n",
            "0.9907407407407407 0.9701849489795918 0.9538359653714906 0.9603663887871454 21 268\n",
            "0.9907407407407407 0.9701849489795918 0.9538359653714906 0.9603663887871454 17 223\n",
            "0.9907407407407407 0.9701849489795918 0.9538359653714906 0.9603663887871454 21 209\n",
            "0.9907407407407407 0.9701849489795918 0.9538359653714906 0.9603663887871454 13 452\n",
            "0.9907407407407407 0.9701849489795918 0.9538359653714906 0.9603663887871454 18 315\n",
            "0.9918981481481481 0.9775257900769608 0.955138048704824 0.9648529508501856 21 189\n",
            "0.9907407407407407 0.9701849489795918 0.9538359653714906 0.9603663887871454 20 263\n",
            "0.9907407407407407 0.9701849489795918 0.9538359653714906 0.9603663887871454 23 334\n",
            "0.9907407407407407 0.9701849489795918 0.9538359653714906 0.9603663887871454 23 227\n",
            "0.9907407407407407 0.9701849489795918 0.9538359653714906 0.9603663887871454 23 223\n"
          ]
        },
        {
          "output_type": "stream",
          "name": "stderr",
          "text": [
            "INFO:mealpy.evolutionary_based.ES.CMA_ES:>>>Problem: P, Epoch: 6, Current best: 0.9648529508501856, Global best: 0.9850341470348838, Runtime: 47.91570 seconds\n"
          ]
        },
        {
          "output_type": "stream",
          "name": "stdout",
          "text": [
            "0.9907407407407407 0.9701849489795918 0.9538359653714906 0.9603663887871454 22 255\n",
            "0.9907407407407407 0.9701849489795918 0.9538359653714906 0.9603663887871454 21 282\n",
            "0.9907407407407407 0.9701849489795918 0.9538359653714906 0.9603663887871454 20 283\n",
            "0.9907407407407407 0.9701849489795918 0.9538359653714906 0.9603663887871454 21 298\n",
            "0.9907407407407407 0.9701849489795918 0.9538359653714906 0.9603663887871454 22 241\n",
            "0.9907407407407407 0.9701849489795918 0.9538359653714906 0.9603663887871454 21 229\n",
            "0.9907407407407407 0.9701849489795918 0.9538359653714906 0.9603663887871454 21 252\n",
            "0.9907407407407407 0.9701849489795918 0.9538359653714906 0.9603663887871454 21 277\n",
            "0.9907407407407407 0.9701849489795918 0.9538359653714906 0.9603663887871454 22 222\n",
            "0.9907407407407407 0.9701849489795918 0.9538359653714906 0.9603663887871454 21 241\n",
            "0.9907407407407407 0.9701849489795918 0.9538359653714906 0.9603663887871454 19 297\n",
            "0.9907407407407407 0.9701849489795918 0.9538359653714906 0.9603663887871454 22 282\n",
            "0.9907407407407407 0.9701849489795918 0.9538359653714906 0.9603663887871454 21 267\n",
            "0.9907407407407407 0.9701849489795918 0.9538359653714906 0.9603663887871454 20 286\n",
            "0.9907407407407407 0.9701849489795918 0.9538359653714906 0.9603663887871454 22 280\n",
            "0.9907407407407407 0.9701849489795918 0.9538359653714906 0.9603663887871454 19 320\n",
            "0.9907407407407407 0.9701849489795918 0.9538359653714906 0.9603663887871454 22 185\n",
            "0.9907407407407407 0.9701849489795918 0.9538359653714906 0.9603663887871454 18 255\n",
            "0.9907407407407407 0.9701849489795918 0.9538359653714906 0.9603663887871454 21 308\n",
            "0.9907407407407407 0.9701849489795918 0.9538359653714906 0.9603663887871454 21 297\n"
          ]
        },
        {
          "output_type": "stream",
          "name": "stderr",
          "text": [
            "INFO:mealpy.evolutionary_based.ES.CMA_ES:>>>Problem: P, Epoch: 7, Current best: 0.9603663887871454, Global best: 0.9850341470348838, Runtime: 49.91028 seconds\n"
          ]
        },
        {
          "output_type": "stream",
          "name": "stdout",
          "text": [
            "0.9907407407407407 0.9701849489795918 0.9538359653714906 0.9603663887871454 23 288\n",
            "0.9907407407407407 0.9701849489795918 0.9538359653714906 0.9603663887871454 21 230\n",
            "0.9907407407407407 0.9701849489795918 0.9538359653714906 0.9603663887871454 20 286\n",
            "0.9907407407407407 0.9701849489795918 0.9538359653714906 0.9603663887871454 19 278\n",
            "0.9907407407407407 0.9701849489795918 0.9538359653714906 0.9603663887871454 20 281\n",
            "0.9907407407407407 0.9701849489795918 0.9538359653714906 0.9603663887871454 20 311\n",
            "0.9907407407407407 0.9701849489795918 0.9538359653714906 0.9603663887871454 20 253\n",
            "0.9907407407407407 0.9701849489795918 0.9538359653714906 0.9603663887871454 19 309\n",
            "0.9907407407407407 0.9701849489795918 0.9538359653714906 0.9603663887871454 20 282\n",
            "0.9907407407407407 0.9701849489795918 0.9538359653714906 0.9603663887871454 20 262\n",
            "0.9907407407407407 0.9701849489795918 0.9538359653714906 0.9603663887871454 19 297\n",
            "0.9907407407407407 0.9701849489795918 0.9538359653714906 0.9603663887871454 21 261\n",
            "0.9907407407407407 0.9701849489795918 0.9538359653714906 0.9603663887871454 20 230\n",
            "0.9907407407407407 0.9701849489795918 0.9538359653714906 0.9603663887871454 21 256\n",
            "0.9907407407407407 0.9701849489795918 0.9538359653714906 0.9603663887871454 20 306\n",
            "0.9907407407407407 0.9701849489795918 0.9538359653714906 0.9603663887871454 20 305\n",
            "0.9907407407407407 0.9701849489795918 0.9538359653714906 0.9603663887871454 21 244\n",
            "0.9907407407407407 0.9701849489795918 0.9538359653714906 0.9603663887871454 19 302\n",
            "0.9907407407407407 0.9701849489795918 0.9538359653714906 0.9603663887871454 20 308\n",
            "0.9907407407407407 0.9701849489795918 0.9538359653714906 0.9603663887871454 21 275\n"
          ]
        },
        {
          "output_type": "stream",
          "name": "stderr",
          "text": [
            "INFO:mealpy.evolutionary_based.ES.CMA_ES:>>>Problem: P, Epoch: 8, Current best: 0.9603663887871454, Global best: 0.9850341470348838, Runtime: 45.64394 seconds\n"
          ]
        },
        {
          "output_type": "stream",
          "name": "stdout",
          "text": [
            "0.9907407407407407 0.9701849489795918 0.9538359653714906 0.9603663887871454 23 223\n",
            "0.9907407407407407 0.9701849489795918 0.9538359653714906 0.9603663887871454 20 275\n",
            "0.9907407407407407 0.9701849489795918 0.9538359653714906 0.9603663887871454 21 256\n",
            "0.9907407407407407 0.9701849489795918 0.9538359653714906 0.9603663887871454 21 234\n",
            "0.9907407407407407 0.9701849489795918 0.9538359653714906 0.9603663887871454 20 266\n",
            "0.9907407407407407 0.9701849489795918 0.9538359653714906 0.9603663887871454 21 260\n",
            "0.9907407407407407 0.9701849489795918 0.9538359653714906 0.9603663887871454 20 278\n",
            "0.9907407407407407 0.9701849489795918 0.9538359653714906 0.9603663887871454 21 245\n",
            "0.9907407407407407 0.9701849489795918 0.9538359653714906 0.9603663887871454 21 234\n",
            "0.9907407407407407 0.9701849489795918 0.9538359653714906 0.9603663887871454 20 245\n",
            "0.9907407407407407 0.9701849489795918 0.9538359653714906 0.9603663887871454 20 262\n",
            "0.9907407407407407 0.9701849489795918 0.9538359653714906 0.9603663887871454 21 280\n",
            "0.9907407407407407 0.9701849489795918 0.9538359653714906 0.9603663887871454 20 295\n",
            "0.9907407407407407 0.9701849489795918 0.9538359653714906 0.9603663887871454 21 224\n",
            "0.9907407407407407 0.9701849489795918 0.9538359653714906 0.9603663887871454 20 208\n",
            "0.9907407407407407 0.9701849489795918 0.9538359653714906 0.9603663887871454 20 314\n",
            "0.9907407407407407 0.9701849489795918 0.9538359653714906 0.9603663887871454 20 280\n",
            "0.9907407407407407 0.9701849489795918 0.9538359653714906 0.9603663887871454 22 255\n",
            "0.9907407407407407 0.9701849489795918 0.9538359653714906 0.9603663887871454 20 265\n",
            "0.9907407407407407 0.9701849489795918 0.9538359653714906 0.9603663887871454 20 259\n"
          ]
        },
        {
          "output_type": "stream",
          "name": "stderr",
          "text": [
            "INFO:mealpy.evolutionary_based.ES.CMA_ES:>>>Problem: P, Epoch: 9, Current best: 0.9603663887871454, Global best: 0.9850341470348838, Runtime: 46.72708 seconds\n"
          ]
        },
        {
          "output_type": "stream",
          "name": "stdout",
          "text": [
            "0.9907407407407407 0.9701849489795918 0.9538359653714906 0.9603663887871454 21 283\n",
            "0.9907407407407407 0.9701849489795918 0.9538359653714906 0.9603663887871454 19 269\n",
            "0.9907407407407407 0.9701849489795918 0.9538359653714906 0.9603663887871454 20 260\n",
            "0.9907407407407407 0.9701849489795918 0.9538359653714906 0.9603663887871454 19 294\n",
            "0.9907407407407407 0.9701849489795918 0.9538359653714906 0.9603663887871454 20 285\n",
            "0.9907407407407407 0.9701849489795918 0.9538359653714906 0.9603663887871454 20 297\n",
            "0.9907407407407407 0.9701849489795918 0.9538359653714906 0.9603663887871454 22 252\n",
            "0.9907407407407407 0.9701849489795918 0.9538359653714906 0.9603663887871454 21 209\n",
            "0.9907407407407407 0.9701849489795918 0.9538359653714906 0.9603663887871454 20 266\n",
            "0.9907407407407407 0.9701849489795918 0.9538359653714906 0.9603663887871454 20 270\n",
            "0.9907407407407407 0.9701849489795918 0.9538359653714906 0.9603663887871454 21 287\n",
            "0.9907407407407407 0.9701849489795918 0.9538359653714906 0.9603663887871454 20 289\n",
            "0.9907407407407407 0.9701849489795918 0.9538359653714906 0.9603663887871454 21 281\n",
            "0.9907407407407407 0.9701849489795918 0.9538359653714906 0.9603663887871454 21 254\n",
            "0.9907407407407407 0.9701849489795918 0.9538359653714906 0.9603663887871454 20 259\n",
            "0.9907407407407407 0.9701849489795918 0.9538359653714906 0.9603663887871454 20 251\n",
            "0.9907407407407407 0.9701849489795918 0.9538359653714906 0.9603663887871454 19 270\n",
            "0.9907407407407407 0.9701849489795918 0.9538359653714906 0.9603663887871454 20 277\n",
            "0.9907407407407407 0.9701849489795918 0.9538359653714906 0.9603663887871454 19 304\n",
            "0.9907407407407407 0.9701849489795918 0.9538359653714906 0.9603663887871454 20 265\n"
          ]
        },
        {
          "output_type": "stream",
          "name": "stderr",
          "text": [
            "INFO:mealpy.evolutionary_based.ES.CMA_ES:>>>Problem: P, Epoch: 10, Current best: 0.9603663887871454, Global best: 0.9850341470348838, Runtime: 45.24187 seconds\n"
          ]
        },
        {
          "output_type": "stream",
          "name": "stdout",
          "text": [
            "0.9907407407407407 0.9701849489795918 0.9538359653714906 0.9603663887871454 20 255\n",
            "0.9907407407407407 0.9701849489795918 0.9538359653714906 0.9603663887871454 20 255\n",
            "0.9907407407407407 0.9701849489795918 0.9538359653714906 0.9603663887871454 21 267\n",
            "0.9907407407407407 0.9701849489795918 0.9538359653714906 0.9603663887871454 21 250\n",
            "0.9907407407407407 0.9701849489795918 0.9538359653714906 0.9603663887871454 20 246\n",
            "0.9907407407407407 0.9701849489795918 0.9538359653714906 0.9603663887871454 20 286\n",
            "0.9907407407407407 0.9701849489795918 0.9538359653714906 0.9603663887871454 22 267\n",
            "0.9907407407407407 0.9701849489795918 0.9538359653714906 0.9603663887871454 22 256\n",
            "0.9907407407407407 0.9701849489795918 0.9538359653714906 0.9603663887871454 20 241\n",
            "0.9907407407407407 0.9701849489795918 0.9538359653714906 0.9603663887871454 21 266\n",
            "0.9907407407407407 0.9701849489795918 0.9538359653714906 0.9603663887871454 21 249\n",
            "0.9907407407407407 0.9701849489795918 0.9538359653714906 0.9603663887871454 20 263\n",
            "0.9907407407407407 0.9701849489795918 0.9538359653714906 0.9603663887871454 20 264\n",
            "0.9907407407407407 0.9701849489795918 0.9538359653714906 0.9603663887871454 22 242\n",
            "0.9907407407407407 0.9701849489795918 0.9538359653714906 0.9603663887871454 20 282\n",
            "0.9907407407407407 0.9701849489795918 0.9538359653714906 0.9603663887871454 21 209\n",
            "0.9907407407407407 0.9701849489795918 0.9538359653714906 0.9603663887871454 21 262\n",
            "0.9907407407407407 0.9701849489795918 0.9538359653714906 0.9603663887871454 21 236\n",
            "0.9907407407407407 0.9701849489795918 0.9538359653714906 0.9603663887871454 20 276\n",
            "0.9907407407407407 0.9701849489795918 0.9538359653714906 0.9603663887871454 21 261\n"
          ]
        },
        {
          "output_type": "stream",
          "name": "stderr",
          "text": [
            "INFO:mealpy.evolutionary_based.ES.CMA_ES:>>>Problem: P, Epoch: 11, Current best: 0.9603663887871454, Global best: 0.9850341470348838, Runtime: 47.01202 seconds\n"
          ]
        },
        {
          "output_type": "stream",
          "name": "stdout",
          "text": [
            "0.9907407407407407 0.9701849489795918 0.9538359653714906 0.9603663887871454 20 265\n",
            "0.9907407407407407 0.9701849489795918 0.9538359653714906 0.9603663887871454 20 250\n",
            "0.9907407407407407 0.9701849489795918 0.9538359653714906 0.9603663887871454 20 275\n",
            "0.9907407407407407 0.9701849489795918 0.9538359653714906 0.9603663887871454 21 255\n",
            "0.9907407407407407 0.9701849489795918 0.9538359653714906 0.9603663887871454 20 280\n",
            "0.9907407407407407 0.9701849489795918 0.9538359653714906 0.9603663887871454 21 243\n",
            "0.9907407407407407 0.9701849489795918 0.9538359653714906 0.9603663887871454 20 259\n",
            "0.9907407407407407 0.9701849489795918 0.9538359653714906 0.9603663887871454 21 262\n",
            "0.9907407407407407 0.9701849489795918 0.9538359653714906 0.9603663887871454 20 288\n",
            "0.9907407407407407 0.9701849489795918 0.9538359653714906 0.9603663887871454 21 259\n",
            "0.9907407407407407 0.9701849489795918 0.9538359653714906 0.9603663887871454 20 268\n",
            "0.9907407407407407 0.9701849489795918 0.9538359653714906 0.9603663887871454 20 268\n",
            "0.9907407407407407 0.9701849489795918 0.9538359653714906 0.9603663887871454 21 272\n",
            "0.9907407407407407 0.9701849489795918 0.9538359653714906 0.9603663887871454 21 253\n",
            "0.9907407407407407 0.9701849489795918 0.9538359653714906 0.9603663887871454 20 271\n",
            "0.9907407407407407 0.9701849489795918 0.9538359653714906 0.9603663887871454 20 272\n",
            "0.9907407407407407 0.9701849489795918 0.9538359653714906 0.9603663887871454 20 252\n",
            "0.9907407407407407 0.9701849489795918 0.9538359653714906 0.9603663887871454 20 279\n",
            "0.9907407407407407 0.9701849489795918 0.9538359653714906 0.9603663887871454 21 274\n",
            "0.9907407407407407 0.9701849489795918 0.9538359653714906 0.9603663887871454 20 258\n"
          ]
        },
        {
          "output_type": "stream",
          "name": "stderr",
          "text": [
            "INFO:mealpy.evolutionary_based.ES.CMA_ES:>>>Problem: P, Epoch: 12, Current best: 0.9603663887871454, Global best: 0.9850341470348838, Runtime: 49.53174 seconds\n"
          ]
        },
        {
          "output_type": "stream",
          "name": "stdout",
          "text": [
            "0.9907407407407407 0.9701849489795918 0.9538359653714906 0.9603663887871454 22 256\n",
            "0.9907407407407407 0.9701849489795918 0.9538359653714906 0.9603663887871454 20 270\n",
            "0.9907407407407407 0.9701849489795918 0.9538359653714906 0.9603663887871454 21 257\n",
            "0.9907407407407407 0.9701849489795918 0.9538359653714906 0.9603663887871454 20 281\n",
            "0.9907407407407407 0.9701849489795918 0.9538359653714906 0.9603663887871454 20 254\n",
            "0.9907407407407407 0.9701849489795918 0.9538359653714906 0.9603663887871454 20 285\n",
            "0.9907407407407407 0.9701849489795918 0.9538359653714906 0.9603663887871454 20 288\n",
            "0.9907407407407407 0.9701849489795918 0.9538359653714906 0.9603663887871454 20 280\n",
            "0.9907407407407407 0.9701849489795918 0.9538359653714906 0.9603663887871454 20 282\n",
            "0.9907407407407407 0.9701849489795918 0.9538359653714906 0.9603663887871454 20 264\n",
            "0.9907407407407407 0.9701849489795918 0.9538359653714906 0.9603663887871454 20 247\n",
            "0.9907407407407407 0.9701849489795918 0.9538359653714906 0.9603663887871454 21 271\n",
            "0.9907407407407407 0.9701849489795918 0.9538359653714906 0.9603663887871454 20 255\n",
            "0.9907407407407407 0.9701849489795918 0.9538359653714906 0.9603663887871454 21 243\n",
            "0.9907407407407407 0.9701849489795918 0.9538359653714906 0.9603663887871454 20 243\n",
            "0.9907407407407407 0.9701849489795918 0.9538359653714906 0.9603663887871454 20 240\n",
            "0.9907407407407407 0.9701849489795918 0.9538359653714906 0.9603663887871454 21 251\n",
            "0.9907407407407407 0.9701849489795918 0.9538359653714906 0.9603663887871454 21 253\n",
            "0.9907407407407407 0.9701849489795918 0.9538359653714906 0.9603663887871454 21 252\n",
            "0.9907407407407407 0.9701849489795918 0.9538359653714906 0.9603663887871454 21 264\n"
          ]
        },
        {
          "output_type": "stream",
          "name": "stderr",
          "text": [
            "INFO:mealpy.evolutionary_based.ES.CMA_ES:>>>Problem: P, Epoch: 13, Current best: 0.9603663887871454, Global best: 0.9850341470348838, Runtime: 44.72631 seconds\n"
          ]
        },
        {
          "output_type": "stream",
          "name": "stdout",
          "text": [
            "0.9907407407407407 0.9701849489795918 0.9538359653714906 0.9603663887871454 20 274\n",
            "0.9907407407407407 0.9701849489795918 0.9538359653714906 0.9603663887871454 20 250\n",
            "0.9907407407407407 0.9701849489795918 0.9538359653714906 0.9603663887871454 20 247\n",
            "0.9907407407407407 0.9701849489795918 0.9538359653714906 0.9603663887871454 20 261\n",
            "0.9907407407407407 0.9701849489795918 0.9538359653714906 0.9603663887871454 20 279\n",
            "0.9907407407407407 0.9701849489795918 0.9538359653714906 0.9603663887871454 20 259\n",
            "0.9907407407407407 0.9701849489795918 0.9538359653714906 0.9603663887871454 21 278\n",
            "0.9907407407407407 0.9701849489795918 0.9538359653714906 0.9603663887871454 20 257\n",
            "0.9907407407407407 0.9701849489795918 0.9538359653714906 0.9603663887871454 20 267\n",
            "0.9907407407407407 0.9701849489795918 0.9538359653714906 0.9603663887871454 20 271\n",
            "0.9907407407407407 0.9701849489795918 0.9538359653714906 0.9603663887871454 20 270\n",
            "0.9907407407407407 0.9701849489795918 0.9538359653714906 0.9603663887871454 20 260\n",
            "0.9907407407407407 0.9701849489795918 0.9538359653714906 0.9603663887871454 21 266\n",
            "0.9907407407407407 0.9701849489795918 0.9538359653714906 0.9603663887871454 20 271\n",
            "0.9907407407407407 0.9701849489795918 0.9538359653714906 0.9603663887871454 20 243\n",
            "0.9907407407407407 0.9701849489795918 0.9538359653714906 0.9603663887871454 20 269\n",
            "0.9907407407407407 0.9701849489795918 0.9538359653714906 0.9603663887871454 19 298\n",
            "0.9907407407407407 0.9701849489795918 0.9538359653714906 0.9603663887871454 21 247\n",
            "0.9907407407407407 0.9701849489795918 0.9538359653714906 0.9603663887871454 20 268\n",
            "0.9907407407407407 0.9701849489795918 0.9538359653714906 0.9603663887871454 21 250\n"
          ]
        },
        {
          "output_type": "stream",
          "name": "stderr",
          "text": [
            "INFO:mealpy.evolutionary_based.ES.CMA_ES:>>>Problem: P, Epoch: 14, Current best: 0.9603663887871454, Global best: 0.9850341470348838, Runtime: 46.85798 seconds\n"
          ]
        },
        {
          "output_type": "stream",
          "name": "stdout",
          "text": [
            "0.9907407407407407 0.9701849489795918 0.9538359653714906 0.9603663887871454 20 262\n",
            "0.9907407407407407 0.9701849489795918 0.9538359653714906 0.9603663887871454 20 263\n",
            "0.9907407407407407 0.9701849489795918 0.9538359653714906 0.9603663887871454 20 254\n",
            "0.9907407407407407 0.9701849489795918 0.9538359653714906 0.9603663887871454 20 266\n",
            "0.9907407407407407 0.9701849489795918 0.9538359653714906 0.9603663887871454 20 262\n",
            "0.9907407407407407 0.9701849489795918 0.9538359653714906 0.9603663887871454 20 253\n",
            "0.9907407407407407 0.9701849489795918 0.9538359653714906 0.9603663887871454 20 255\n",
            "0.9907407407407407 0.9701849489795918 0.9538359653714906 0.9603663887871454 20 243\n",
            "0.9907407407407407 0.9701849489795918 0.9538359653714906 0.9603663887871454 20 285\n",
            "0.9907407407407407 0.9701849489795918 0.9538359653714906 0.9603663887871454 20 258\n",
            "0.9907407407407407 0.9701849489795918 0.9538359653714906 0.9603663887871454 21 243\n",
            "0.9907407407407407 0.9701849489795918 0.9538359653714906 0.9603663887871454 20 241\n",
            "0.9907407407407407 0.9701849489795918 0.9538359653714906 0.9603663887871454 20 239\n",
            "0.9907407407407407 0.9701849489795918 0.9538359653714906 0.9603663887871454 20 275\n",
            "0.9907407407407407 0.9701849489795918 0.9538359653714906 0.9603663887871454 20 261\n",
            "0.9907407407407407 0.9701849489795918 0.9538359653714906 0.9603663887871454 20 259\n",
            "0.9907407407407407 0.9701849489795918 0.9538359653714906 0.9603663887871454 21 257\n",
            "0.9907407407407407 0.9701849489795918 0.9538359653714906 0.9603663887871454 20 254\n",
            "0.9907407407407407 0.9701849489795918 0.9538359653714906 0.9603663887871454 20 254\n",
            "0.9907407407407407 0.9701849489795918 0.9538359653714906 0.9603663887871454 20 277\n"
          ]
        },
        {
          "output_type": "stream",
          "name": "stderr",
          "text": [
            "INFO:mealpy.evolutionary_based.ES.CMA_ES:>>>Problem: P, Epoch: 15, Current best: 0.9603663887871454, Global best: 0.9850341470348838, Runtime: 43.84755 seconds\n"
          ]
        },
        {
          "output_type": "stream",
          "name": "stdout",
          "text": [
            "0.9907407407407407 0.9701849489795918 0.9538359653714906 0.9603663887871454 20 262\n",
            "0.9907407407407407 0.9701849489795918 0.9538359653714906 0.9603663887871454 20 271\n",
            "0.9907407407407407 0.9701849489795918 0.9538359653714906 0.9603663887871454 20 260\n",
            "0.9907407407407407 0.9701849489795918 0.9538359653714906 0.9603663887871454 20 275\n",
            "0.9907407407407407 0.9701849489795918 0.9538359653714906 0.9603663887871454 20 272\n",
            "0.9907407407407407 0.9701849489795918 0.9538359653714906 0.9603663887871454 20 266\n",
            "0.9907407407407407 0.9701849489795918 0.9538359653714906 0.9603663887871454 20 292\n",
            "0.9907407407407407 0.9701849489795918 0.9538359653714906 0.9603663887871454 20 294\n",
            "0.9907407407407407 0.9701849489795918 0.9538359653714906 0.9603663887871454 19 266\n",
            "0.9907407407407407 0.9701849489795918 0.9538359653714906 0.9603663887871454 20 260\n",
            "0.9907407407407407 0.9701849489795918 0.9538359653714906 0.9603663887871454 20 282\n",
            "0.9907407407407407 0.9701849489795918 0.9538359653714906 0.9603663887871454 20 270\n",
            "0.9907407407407407 0.9701849489795918 0.9538359653714906 0.9603663887871454 20 266\n",
            "0.9907407407407407 0.9701849489795918 0.9538359653714906 0.9603663887871454 20 260\n",
            "0.9907407407407407 0.9701849489795918 0.9538359653714906 0.9603663887871454 20 270\n",
            "0.9907407407407407 0.9701849489795918 0.9538359653714906 0.9603663887871454 20 267\n",
            "0.9907407407407407 0.9701849489795918 0.9538359653714906 0.9603663887871454 20 264\n",
            "0.9907407407407407 0.9701849489795918 0.9538359653714906 0.9603663887871454 20 273\n",
            "0.9907407407407407 0.9701849489795918 0.9538359653714906 0.9603663887871454 20 260\n",
            "0.9907407407407407 0.9701849489795918 0.9538359653714906 0.9603663887871454 20 295\n"
          ]
        },
        {
          "output_type": "stream",
          "name": "stderr",
          "text": [
            "INFO:mealpy.evolutionary_based.ES.CMA_ES:>>>Problem: P, Epoch: 16, Current best: 0.9603663887871454, Global best: 0.9850341470348838, Runtime: 47.13382 seconds\n"
          ]
        },
        {
          "output_type": "stream",
          "name": "stdout",
          "text": [
            "0.9907407407407407 0.9701849489795918 0.9538359653714906 0.9603663887871454 20 271\n",
            "0.9907407407407407 0.9701849489795918 0.9538359653714906 0.9603663887871454 20 268\n",
            "0.9907407407407407 0.9701849489795918 0.9538359653714906 0.9603663887871454 20 237\n",
            "0.9907407407407407 0.9701849489795918 0.9538359653714906 0.9603663887871454 20 269\n",
            "0.9907407407407407 0.9701849489795918 0.9538359653714906 0.9603663887871454 20 258\n",
            "0.9907407407407407 0.9701849489795918 0.9538359653714906 0.9603663887871454 20 260\n",
            "0.9907407407407407 0.9701849489795918 0.9538359653714906 0.9603663887871454 20 249\n",
            "0.9907407407407407 0.9701849489795918 0.9538359653714906 0.9603663887871454 20 246\n",
            "0.9907407407407407 0.9701849489795918 0.9538359653714906 0.9603663887871454 20 262\n",
            "0.9907407407407407 0.9701849489795918 0.9538359653714906 0.9603663887871454 20 250\n",
            "0.9907407407407407 0.9701849489795918 0.9538359653714906 0.9603663887871454 20 253\n",
            "0.9907407407407407 0.9701849489795918 0.9538359653714906 0.9603663887871454 21 239\n",
            "0.9907407407407407 0.9701849489795918 0.9538359653714906 0.9603663887871454 20 257\n",
            "0.9907407407407407 0.9701849489795918 0.9538359653714906 0.9603663887871454 20 274\n",
            "0.9907407407407407 0.9701849489795918 0.9538359653714906 0.9603663887871454 21 269\n",
            "0.9907407407407407 0.9701849489795918 0.9538359653714906 0.9603663887871454 20 242\n",
            "0.9907407407407407 0.9701849489795918 0.9538359653714906 0.9603663887871454 20 249\n",
            "0.9907407407407407 0.9701849489795918 0.9538359653714906 0.9603663887871454 20 265\n",
            "0.9907407407407407 0.9701849489795918 0.9538359653714906 0.9603663887871454 20 254\n",
            "0.9907407407407407 0.9701849489795918 0.9538359653714906 0.9603663887871454 20 260\n"
          ]
        },
        {
          "output_type": "stream",
          "name": "stderr",
          "text": [
            "INFO:mealpy.evolutionary_based.ES.CMA_ES:>>>Problem: P, Epoch: 17, Current best: 0.9603663887871454, Global best: 0.9850341470348838, Runtime: 44.01934 seconds\n"
          ]
        },
        {
          "output_type": "stream",
          "name": "stdout",
          "text": [
            "0.9907407407407407 0.9701849489795918 0.9538359653714906 0.9603663887871454 20 276\n",
            "0.9907407407407407 0.9701849489795918 0.9538359653714906 0.9603663887871454 20 275\n",
            "0.9907407407407407 0.9701849489795918 0.9538359653714906 0.9603663887871454 20 252\n",
            "0.9907407407407407 0.9701849489795918 0.9538359653714906 0.9603663887871454 20 274\n",
            "0.9907407407407407 0.9701849489795918 0.9538359653714906 0.9603663887871454 20 275\n",
            "0.9907407407407407 0.9701849489795918 0.9538359653714906 0.9603663887871454 20 256\n",
            "0.9907407407407407 0.9701849489795918 0.9538359653714906 0.9603663887871454 20 262\n",
            "0.9907407407407407 0.9701849489795918 0.9538359653714906 0.9603663887871454 20 281\n",
            "0.9907407407407407 0.9701849489795918 0.9538359653714906 0.9603663887871454 20 283\n",
            "0.9907407407407407 0.9701849489795918 0.9538359653714906 0.9603663887871454 20 271\n",
            "0.9907407407407407 0.9701849489795918 0.9538359653714906 0.9603663887871454 20 269\n",
            "0.9907407407407407 0.9701849489795918 0.9538359653714906 0.9603663887871454 20 274\n",
            "0.9907407407407407 0.9701849489795918 0.9538359653714906 0.9603663887871454 20 270\n",
            "0.9907407407407407 0.9701849489795918 0.9538359653714906 0.9603663887871454 20 263\n",
            "0.9907407407407407 0.9701849489795918 0.9538359653714906 0.9603663887871454 20 262\n",
            "0.9907407407407407 0.9701849489795918 0.9538359653714906 0.9603663887871454 20 262\n",
            "0.9907407407407407 0.9701849489795918 0.9538359653714906 0.9603663887871454 20 269\n",
            "0.9907407407407407 0.9701849489795918 0.9538359653714906 0.9603663887871454 20 267\n",
            "0.9907407407407407 0.9701849489795918 0.9538359653714906 0.9603663887871454 20 262\n",
            "0.9907407407407407 0.9701849489795918 0.9538359653714906 0.9603663887871454 21 284\n"
          ]
        },
        {
          "output_type": "stream",
          "name": "stderr",
          "text": [
            "INFO:mealpy.evolutionary_based.ES.CMA_ES:>>>Problem: P, Epoch: 18, Current best: 0.9603663887871454, Global best: 0.9850341470348838, Runtime: 49.16724 seconds\n"
          ]
        },
        {
          "output_type": "stream",
          "name": "stdout",
          "text": [
            "0.9907407407407407 0.9701849489795918 0.9538359653714906 0.9603663887871454 20 267\n",
            "0.9907407407407407 0.9701849489795918 0.9538359653714906 0.9603663887871454 20 266\n",
            "0.9907407407407407 0.9701849489795918 0.9538359653714906 0.9603663887871454 20 238\n",
            "0.9907407407407407 0.9701849489795918 0.9538359653714906 0.9603663887871454 20 254\n",
            "0.9907407407407407 0.9701849489795918 0.9538359653714906 0.9603663887871454 20 261\n",
            "0.9907407407407407 0.9701849489795918 0.9538359653714906 0.9603663887871454 20 259\n",
            "0.9907407407407407 0.9701849489795918 0.9538359653714906 0.9603663887871454 20 244\n",
            "0.9907407407407407 0.9701849489795918 0.9538359653714906 0.9603663887871454 20 254\n",
            "0.9907407407407407 0.9701849489795918 0.9538359653714906 0.9603663887871454 20 264\n",
            "0.9907407407407407 0.9701849489795918 0.9538359653714906 0.9603663887871454 20 254\n",
            "0.9907407407407407 0.9701849489795918 0.9538359653714906 0.9603663887871454 20 243\n",
            "0.9907407407407407 0.9701849489795918 0.9538359653714906 0.9603663887871454 20 263\n",
            "0.9907407407407407 0.9701849489795918 0.9538359653714906 0.9603663887871454 20 279\n",
            "0.9907407407407407 0.9701849489795918 0.9538359653714906 0.9603663887871454 20 254\n",
            "0.9907407407407407 0.9701849489795918 0.9538359653714906 0.9603663887871454 20 272\n",
            "0.9907407407407407 0.9701849489795918 0.9538359653714906 0.9603663887871454 20 252\n",
            "0.9907407407407407 0.9701849489795918 0.9538359653714906 0.9603663887871454 20 259\n",
            "0.9907407407407407 0.9701849489795918 0.9538359653714906 0.9603663887871454 20 272\n",
            "0.9907407407407407 0.9701849489795918 0.9538359653714906 0.9603663887871454 20 246\n",
            "0.9907407407407407 0.9701849489795918 0.9538359653714906 0.9603663887871454 20 257\n"
          ]
        },
        {
          "output_type": "stream",
          "name": "stderr",
          "text": [
            "INFO:mealpy.evolutionary_based.ES.CMA_ES:>>>Problem: P, Epoch: 19, Current best: 0.9603663887871454, Global best: 0.9850341470348838, Runtime: 44.28230 seconds\n"
          ]
        },
        {
          "output_type": "stream",
          "name": "stdout",
          "text": [
            "0.9907407407407407 0.9701849489795918 0.9538359653714906 0.9603663887871454 20 272\n",
            "0.9907407407407407 0.9701849489795918 0.9538359653714906 0.9603663887871454 20 259\n",
            "0.9907407407407407 0.9701849489795918 0.9538359653714906 0.9603663887871454 20 261\n",
            "0.9907407407407407 0.9701849489795918 0.9538359653714906 0.9603663887871454 20 262\n",
            "0.9907407407407407 0.9701849489795918 0.9538359653714906 0.9603663887871454 20 246\n",
            "0.9907407407407407 0.9701849489795918 0.9538359653714906 0.9603663887871454 20 257\n",
            "0.9907407407407407 0.9701849489795918 0.9538359653714906 0.9603663887871454 20 265\n",
            "0.9907407407407407 0.9701849489795918 0.9538359653714906 0.9603663887871454 20 252\n",
            "0.9907407407407407 0.9701849489795918 0.9538359653714906 0.9603663887871454 20 252\n",
            "0.9907407407407407 0.9701849489795918 0.9538359653714906 0.9603663887871454 20 261\n",
            "0.9907407407407407 0.9701849489795918 0.9538359653714906 0.9603663887871454 20 263\n",
            "0.9907407407407407 0.9701849489795918 0.9538359653714906 0.9603663887871454 20 259\n",
            "0.9907407407407407 0.9701849489795918 0.9538359653714906 0.9603663887871454 20 279\n",
            "0.9907407407407407 0.9701849489795918 0.9538359653714906 0.9603663887871454 20 275\n",
            "0.9907407407407407 0.9701849489795918 0.9538359653714906 0.9603663887871454 20 277\n",
            "0.9907407407407407 0.9701849489795918 0.9538359653714906 0.9603663887871454 20 272\n",
            "0.9907407407407407 0.9701849489795918 0.9538359653714906 0.9603663887871454 20 258\n",
            "0.9907407407407407 0.9701849489795918 0.9538359653714906 0.9603663887871454 20 268\n",
            "0.9907407407407407 0.9701849489795918 0.9538359653714906 0.9603663887871454 20 238\n",
            "0.9907407407407407 0.9701849489795918 0.9538359653714906 0.9603663887871454 20 257\n"
          ]
        },
        {
          "output_type": "stream",
          "name": "stderr",
          "text": [
            "INFO:mealpy.evolutionary_based.ES.CMA_ES:>>>Problem: P, Epoch: 20, Current best: 0.9603663887871454, Global best: 0.9850341470348838, Runtime: 46.54056 seconds\n"
          ]
        },
        {
          "output_type": "stream",
          "name": "stdout",
          "text": [
            "0.9907407407407407 0.9701849489795918 0.9538359653714906 0.9603663887871454 20 279\n",
            "CMA_ES , 2\n",
            "0.9413161117060362 1\n",
            "0.950537966686246 4\n",
            "0.955998166761094 3\n",
            "0.9595292389602508 4\n",
            "0.9603663887871454 403\n",
            "0.9648529508501856 2\n",
            "0.9675836747761478 1\n",
            "0.9702263353382572 1\n",
            "0.9850341470348838 1\n"
          ]
        },
        {
          "output_type": "display_data",
          "data": {
            "text/plain": [
              "<Figure size 640x480 with 1 Axes>"
            ],
            "image/png": "[encoded data removed]"
          },
          "metadata": {}
        },
        {
          "output_type": "stream",
          "name": "stderr",
          "text": [
            "INFO:mealpy.evolutionary_based.ES.OriginalES:Solving single objective optimization problem.\n"
          ]
        },
        {
          "output_type": "stream",
          "name": "stdout",
          "text": [
            "0.9907407407407407 0.9618189102564103 0.9623573706762836 0.9615102301652511 4 721\n",
            "OriginalES\n",
            "0.9895833333333334 0.9594289005924951 0.9455026320381573 0.9516494813369133 5 355\n",
            "0.9907407407407407 0.9701849489795918 0.9538359653714906 0.9603663887871454 23 217\n",
            "0.9953703703703703 0.9817843264248705 0.9889550129905382 0.9850341470348838 4 200\n",
            "0.9895833333333334 0.9689482868020305 0.9534287992477122 0.9595292389602508 34 521\n",
            "0.9884259259259259 0.9620827564990002 0.9445002278191408 0.950537966686246 23 736\n",
            "0.9907407407407407 0.9701849489795918 0.9538359653714906 0.9603663887871454 27 502\n",
            "0.9884259259259259 0.9620827564990002 0.9445002278191408 0.950537966686246 11 718\n",
            "0.9907407407407407 0.9701849489795918 0.9538359653714906 0.9603663887871454 33 131\n",
            "0.9918981481481481 0.9694835033544711 0.971285942104855 0.9702263353382573 4 609\n",
            "0.9884259259259259 0.9620827564990002 0.9445002278191408 0.950537966686246 28 687\n",
            "0.9895833333333334 0.9689482868020305 0.9534287992477122 0.9595292389602508 24 625\n",
            "0.9907407407407407 0.9701849489795918 0.9538359653714906 0.9603663887871454 18 263\n",
            "0.9895833333333334 0.9689482868020305 0.9534287992477122 0.9595292389602508 9 571\n",
            "0.9930555555555556 0.9710764169319208 0.9802145135334265 0.9755734281311268 4 285\n",
            "0.9907407407407407 0.9701849489795918 0.9538359653714906 0.9603663887871454 14 249\n",
            "0.9907407407407407 0.9701849489795918 0.9538359653714906 0.9603663887871454 24 107\n",
            "0.9907407407407407 0.9701849489795918 0.9538359653714906 0.9603663887871454 19 317\n",
            "0.9907407407407407 0.9701849489795918 0.9538359653714906 0.9603663887871454 32 217\n",
            "0.9884259259259259 0.9620827564990002 0.9445002278191408 0.950537966686246 31 665\n",
            "0.9884259259259259 0.9620827564990002 0.9445002278191408 0.950537966686246 9 722\n",
            "0.9953703703703703 0.9817843264248705 0.9889550129905382 0.9850341470348838 4 236\n",
            "0.9907407407407407 0.976256754543966 0.9538359653714906 0.9635676038064839 6 277\n",
            "0.9918981481481481 0.9694835033544711 0.971285942104855 0.9702263353382573 4 571\n",
            "0.9907407407407407 0.9701849489795918 0.9538359653714906 0.9603663887871454 25 226\n",
            "0.9907407407407407 0.9701849489795918 0.9538359653714906 0.9603663887871454 28 499\n",
            "0.9907407407407407 0.9701849489795918 0.9538359653714906 0.9603663887871454 33 140\n",
            "0.9907407407407407 0.9701849489795918 0.9538359653714906 0.9603663887871454 18 280\n",
            "0.9907407407407407 0.9701849489795918 0.9538359653714906 0.9603663887871454 12 259\n",
            "0.9907407407407407 0.9701849489795918 0.9538359653714906 0.9603663887871454 24 122\n",
            "0.9907407407407407 0.9701849489795918 0.9538359653714906 0.9603663887871454 18 341\n",
            "0.9907407407407407 0.9701849489795918 0.9538359653714906 0.9603663887871454 32 256\n",
            "0.9907407407407407 0.9701849489795918 0.9538359653714906 0.9603663887871454 36 505\n",
            "0.9895833333333334 0.9689482868020305 0.9534287992477122 0.9595292389602508 24 597\n",
            "0.9895833333333334 0.9689482868020305 0.9534287992477122 0.9595292389602508 11 576\n"
          ]
        },
        {
          "output_type": "stream",
          "name": "stderr",
          "text": [
            "INFO:mealpy.evolutionary_based.ES.OriginalES:>>>Problem: P, Epoch: 1, Current best: 0.9850341470348838, Global best: 0.9850341470348838, Runtime: 37.89215 seconds\n"
          ]
        },
        {
          "output_type": "stream",
          "name": "stdout",
          "text": [
            "0.9895833333333334 0.9594289005924951 0.9455026320381573 0.9516494813369133 5 364\n",
            "0.9895833333333334 0.9594289005924951 0.9455026320381573 0.9516494813369133 5 235\n",
            "0.9895833333333334 0.9594289005924951 0.9455026320381573 0.9516494813369133 5 213\n",
            "0.9895833333333334 0.9594289005924951 0.9455026320381573 0.9516494813369133 5 303\n",
            "0.9918981481481481 0.9694835033544711 0.971285942104855 0.9702263353382573 4 569\n",
            "0.9918981481481481 0.9694835033544711 0.971285942104855 0.9702263353382573 4 615\n",
            "0.9907407407407407 0.9701849489795918 0.9538359653714906 0.9603663887871454 10 278\n",
            "0.9907407407407407 0.9701849489795918 0.9538359653714906 0.9603663887871454 25 227\n",
            "0.9907407407407407 0.9701849489795918 0.9538359653714906 0.9603663887871454 35 497\n",
            "0.9907407407407407 0.9701849489795918 0.9538359653714906 0.9603663887871454 33 140\n",
            "0.9907407407407407 0.9701849489795918 0.9538359653714906 0.9603663887871454 18 280\n",
            "0.9907407407407407 0.9701849489795918 0.9538359653714906 0.9603663887871454 16 260\n",
            "0.9907407407407407 0.9701849489795918 0.9538359653714906 0.9603663887871454 23 122\n",
            "0.9907407407407407 0.9701849489795918 0.9538359653714906 0.9603663887871454 18 341\n",
            "0.9907407407407407 0.9701849489795918 0.9538359653714906 0.9603663887871454 31 255\n"
          ]
        },
        {
          "output_type": "stream",
          "name": "stderr",
          "text": [
            "INFO:mealpy.evolutionary_based.ES.OriginalES:>>>Problem: P, Epoch: 2, Current best: 0.9850341470348838, Global best: 0.9850341470348838, Runtime: 38.80511 seconds\n"
          ]
        },
        {
          "output_type": "stream",
          "name": "stdout",
          "text": [
            "0.9907407407407407 0.9701849489795918 0.9538359653714906 0.9603663887871454 37 506\n",
            "0.9895833333333334 0.9689482868020305 0.9449073939429191 0.9544546188248331 7 236\n",
            "0.9953703703703703 0.9817843264248705 0.9889550129905382 0.9850341470348838 4 192\n",
            "0.9930555555555556 0.9710764169319208 0.9802145135334265 0.9755734281311268 4 279\n",
            "0.9918981481481481 0.9694835033544711 0.971285942104855 0.9702263353382573 4 570\n",
            "0.9884259259259259 0.9677241161616161 0.9445002278191408 0.9536207137942025 7 617\n",
            "0.9895833333333334 0.9594289005924951 0.9455026320381573 0.9516494813369133 5 572\n",
            "0.9918981481481481 0.9694835033544711 0.971285942104855 0.9702263353382573 4 600\n",
            "0.9930555555555556 0.9710764169319208 0.9802145135334265 0.9755734281311268 4 277\n",
            "0.9907407407407407 0.9701849489795918 0.9538359653714906 0.9603663887871454 11 278\n",
            "0.9907407407407407 0.9701849489795918 0.9538359653714906 0.9603663887871454 25 225\n",
            "0.9907407407407407 0.9701849489795918 0.9538359653714906 0.9603663887871454 34 497\n",
            "0.9907407407407407 0.9701849489795918 0.9538359653714906 0.9603663887871454 32 143\n",
            "0.9907407407407407 0.9701849489795918 0.9538359653714906 0.9603663887871454 11 280\n",
            "0.9907407407407407 0.9701849489795918 0.9538359653714906 0.9603663887871454 15 259\n"
          ]
        },
        {
          "output_type": "stream",
          "name": "stderr",
          "text": [
            "INFO:mealpy.evolutionary_based.ES.OriginalES:>>>Problem: P, Epoch: 3, Current best: 0.9850341470348838, Global best: 0.9850341470348838, Runtime: 36.68435 seconds\n"
          ]
        },
        {
          "output_type": "stream",
          "name": "stdout",
          "text": [
            "0.9907407407407407 0.9701849489795918 0.9538359653714906 0.9603663887871454 24 121\n",
            "0.9895833333333334 0.9594289005924951 0.9455026320381573 0.9516494813369133 5 191\n",
            "0.9895833333333334 0.9594289005924951 0.9455026320381573 0.9516494813369133 5 236\n",
            "0.9953703703703703 0.9817843264248705 0.9889550129905382 0.9850341470348838 4 196\n",
            "0.9930555555555556 0.9710764169319208 0.9802145135334265 0.9755734281311268 4 278\n",
            "0.9930555555555556 0.9710764169319208 0.9802145135334265 0.9755734281311268 4 278\n",
            "0.9930555555555556 0.9710764169319208 0.9802145135334265 0.9755734281311268 4 287\n",
            "0.9918981481481481 0.9694835033544711 0.971285942104855 0.9702263353382573 4 570\n",
            "0.9918981481481481 0.9694835033544711 0.971285942104855 0.9702263353382573 4 600\n",
            "0.9895833333333334 0.9594289005924951 0.9455026320381573 0.9516494813369133 5 570\n",
            "0.9895833333333334 0.9758094097854195 0.9610552873429502 0.9675836747761478 8 614\n",
            "0.9918981481481481 0.9694835033544711 0.971285942104855 0.9702263353382573 4 572\n",
            "0.9918981481481481 0.9694835033544711 0.971285942104855 0.9702263353382573 4 585\n",
            "0.9907407407407407 0.976256754543966 0.9538359653714906 0.9635676038064839 6 277\n",
            "0.9907407407407407 0.9701849489795918 0.9538359653714906 0.9603663887871454 10 278\n"
          ]
        },
        {
          "output_type": "stream",
          "name": "stderr",
          "text": [
            "INFO:mealpy.evolutionary_based.ES.OriginalES:>>>Problem: P, Epoch: 4, Current best: 0.9850341470348838, Global best: 0.9850341470348838, Runtime: 36.42036 seconds\n"
          ]
        },
        {
          "output_type": "stream",
          "name": "stdout",
          "text": [
            "0.9907407407407407 0.9701849489795918 0.9538359653714906 0.9603663887871454 24 223\n",
            "0.9953703703703703 0.9817843264248705 0.9889550129905382 0.9850341470348838 4 209\n",
            "0.9953703703703703 0.9817843264248705 0.9889550129905382 0.9850341470348838 4 192\n",
            "0.9953703703703703 0.9817843264248705 0.9889550129905382 0.9850341470348838 4 236\n",
            "0.9953703703703703 0.9817843264248705 0.9889550129905382 0.9850341470348838 4 206\n",
            "0.9930555555555556 0.9710764169319208 0.9802145135334265 0.9755734281311268 4 279\n",
            "0.9930555555555556 0.9710764169319208 0.9802145135334265 0.9755734281311268 4 280\n",
            "0.9930555555555556 0.9710764169319208 0.9802145135334265 0.9755734281311268 4 287\n",
            "0.9930555555555556 0.9710764169319208 0.9802145135334265 0.9755734281311268 4 278\n",
            "0.9930555555555556 0.9710764169319208 0.9802145135334265 0.9755734281311268 4 276\n",
            "0.9895833333333334 0.9594289005924951 0.9455026320381573 0.9516494813369133 5 300\n",
            "0.9918981481481481 0.9694835033544711 0.971285942104855 0.9702263353382573 4 569\n",
            "0.9918981481481481 0.9694835033544711 0.971285942104855 0.9702263353382573 4 601\n",
            "0.9918981481481481 0.9694835033544711 0.971285942104855 0.9702263353382573 4 572\n",
            "0.9918981481481481 0.9694835033544711 0.971285942104855 0.9702263353382573 4 585\n"
          ]
        },
        {
          "output_type": "stream",
          "name": "stderr",
          "text": [
            "INFO:mealpy.evolutionary_based.ES.OriginalES:>>>Problem: P, Epoch: 5, Current best: 0.9850341470348838, Global best: 0.9850341470348838, Runtime: 34.33023 seconds\n"
          ]
        },
        {
          "output_type": "stream",
          "name": "stdout",
          "text": [
            "0.9918981481481481 0.9694835033544711 0.971285942104855 0.9702263353382573 4 571\n",
            "0.9953703703703703 0.9817843264248705 0.9889550129905382 0.9850341470348838 4 208\n",
            "0.9953703703703703 0.9817843264248705 0.9889550129905382 0.9850341470348838 4 191\n",
            "0.9953703703703703 0.9817843264248705 0.9889550129905382 0.9850341470348838 4 236\n",
            "0.9953703703703703 0.9817843264248705 0.9889550129905382 0.9850341470348838 4 206\n",
            "0.9953703703703703 0.9817843264248705 0.9889550129905382 0.9850341470348838 4 198\n",
            "0.9953703703703703 0.9817843264248705 0.9889550129905382 0.9850341470348838 4 193\n",
            "0.9895833333333334 0.9594289005924951 0.9455026320381573 0.9516494813369133 5 236\n",
            "0.9953703703703703 0.9817843264248705 0.9889550129905382 0.9850341470348838 4 196\n",
            "0.9930555555555556 0.9710764169319208 0.9802145135334265 0.9755734281311268 4 279\n",
            "0.9907407407407407 0.9701849489795918 0.9538359653714906 0.9603663887871454 10 280\n",
            "0.9895833333333334 0.9594289005924951 0.9455026320381573 0.9516494813369133 5 288\n",
            "0.9930555555555556 0.9710764169319208 0.9802145135334265 0.9755734281311268 4 277\n",
            "0.9930555555555556 0.9710764169319208 0.9802145135334265 0.9755734281311268 4 277\n",
            "0.9930555555555556 0.9710764169319208 0.9802145135334265 0.9755734281311268 4 279\n"
          ]
        },
        {
          "output_type": "stream",
          "name": "stderr",
          "text": [
            "INFO:mealpy.evolutionary_based.ES.OriginalES:>>>Problem: P, Epoch: 6, Current best: 0.9850341470348838, Global best: 0.9850341470348838, Runtime: 27.06794 seconds\n"
          ]
        },
        {
          "output_type": "stream",
          "name": "stdout",
          "text": [
            "0.9930555555555556 0.9710764169319208 0.9802145135334265 0.9755734281311268 4 279\n",
            "0.9953703703703703 0.9817843264248705 0.9889550129905382 0.9850341470348838 4 208\n",
            "0.9953703703703703 0.9817843264248705 0.9889550129905382 0.9850341470348838 4 191\n",
            "0.9895833333333334 0.9594289005924951 0.9455026320381573 0.9516494813369133 5 238\n",
            "0.9953703703703703 0.9817843264248705 0.9889550129905382 0.9850341470348838 4 208\n",
            "0.9953703703703703 0.9817843264248705 0.9889550129905382 0.9850341470348838 4 199\n",
            "0.9895833333333334 0.9594289005924951 0.9455026320381573 0.9516494813369133 5 192\n",
            "0.9895833333333334 0.9594289005924951 0.9455026320381573 0.9516494813369133 5 197\n",
            "0.9953703703703703 0.9817843264248705 0.9889550129905382 0.9850341470348838 4 210\n",
            "0.9953703703703703 0.9817843264248705 0.9889550129905382 0.9850341470348838 4 192\n",
            "0.9953703703703703 0.9817843264248705 0.9889550129905382 0.9850341470348838 4 235\n",
            "0.9895833333333334 0.9594289005924951 0.9455026320381573 0.9516494813369133 5 207\n",
            "0.9953703703703703 0.9817843264248705 0.9889550129905382 0.9850341470348838 4 201\n",
            "0.9953703703703703 0.9817843264248705 0.9889550129905382 0.9850341470348838 4 192\n",
            "0.9953703703703703 0.9817843264248705 0.9889550129905382 0.9850341470348838 4 236\n"
          ]
        },
        {
          "output_type": "stream",
          "name": "stderr",
          "text": [
            "INFO:mealpy.evolutionary_based.ES.OriginalES:>>>Problem: P, Epoch: 7, Current best: 0.9850341470348838, Global best: 0.9850341470348838, Runtime: 24.48799 seconds\n"
          ]
        },
        {
          "output_type": "stream",
          "name": "stdout",
          "text": [
            "0.9953703703703703 0.9817843264248705 0.9889550129905382 0.9850341470348838 4 202\n",
            "0.9953703703703703 0.9817843264248705 0.9889550129905382 0.9850341470348838 4 208\n",
            "0.9953703703703703 0.9817843264248705 0.9889550129905382 0.9850341470348838 4 191\n",
            "0.9953703703703703 0.9817843264248705 0.9889550129905382 0.9850341470348838 4 209\n",
            "0.9953703703703703 0.9817843264248705 0.9889550129905382 0.9850341470348838 4 199\n",
            "0.9953703703703703 0.9817843264248705 0.9889550129905382 0.9850341470348838 4 210\n",
            "0.9953703703703703 0.9817843264248705 0.9889550129905382 0.9850341470348838 4 190\n",
            "0.9918981481481481 0.9774934167215273 0.962764536800062 0.9692801649125398 6 237\n",
            "0.9953703703703703 0.9817843264248705 0.9889550129905382 0.9850341470348838 4 201\n",
            "0.9895833333333334 0.9689482868020305 0.9449073939429191 0.9544546188248331 7 193\n",
            "0.9953703703703703 0.9817843264248705 0.9889550129905382 0.9850341470348838 4 234\n",
            "0.9953703703703703 0.9817843264248705 0.9889550129905382 0.9850341470348838 4 202\n",
            "0.9953703703703703 0.9817843264248705 0.9889550129905382 0.9850341470348838 4 209\n",
            "0.9953703703703703 0.9817843264248705 0.9889550129905382 0.9850341470348838 4 192\n",
            "0.9953703703703703 0.9817843264248705 0.9889550129905382 0.9850341470348838 4 241\n"
          ]
        },
        {
          "output_type": "stream",
          "name": "stderr",
          "text": [
            "INFO:mealpy.evolutionary_based.ES.OriginalES:>>>Problem: P, Epoch: 8, Current best: 0.9850341470348838, Global best: 0.9850341470348838, Runtime: 24.47194 seconds\n"
          ]
        },
        {
          "output_type": "stream",
          "name": "stdout",
          "text": [
            "0.9895833333333334 0.9594289005924951 0.9455026320381573 0.9516494813369133 5 206\n",
            "0.9953703703703703 0.9817843264248705 0.9889550129905382 0.9850341470348838 4 206\n",
            "0.9953703703703703 0.9817843264248705 0.9889550129905382 0.9850341470348838 4 190\n",
            "0.9953703703703703 0.9817843264248705 0.9889550129905382 0.9850341470348838 4 208\n",
            "0.9953703703703703 0.9817843264248705 0.9889550129905382 0.9850341470348838 4 199\n",
            "0.9953703703703703 0.9817843264248705 0.9889550129905382 0.9850341470348838 4 212\n",
            "0.9895833333333334 0.9594289005924951 0.9455026320381573 0.9516494813369133 5 190\n",
            "0.9953703703703703 0.9817843264248705 0.9889550129905382 0.9850341470348838 4 200\n",
            "0.9953703703703703 0.9817843264248705 0.9889550129905382 0.9850341470348838 4 235\n",
            "0.9895833333333334 0.9594289005924951 0.9455026320381573 0.9516494813369133 5 203\n",
            "0.9953703703703703 0.9817843264248705 0.9889550129905382 0.9850341470348838 4 209\n",
            "0.9953703703703703 0.9817843264248705 0.9889550129905382 0.9850341470348838 4 191\n",
            "0.9953703703703703 0.9817843264248705 0.9889550129905382 0.9850341470348838 4 241\n",
            "0.9953703703703703 0.9817843264248705 0.9889550129905382 0.9850341470348838 4 207\n",
            "0.9895833333333334 0.9689482868020305 0.9449073939429191 0.9544546188248331 7 192\n"
          ]
        },
        {
          "output_type": "stream",
          "name": "stderr",
          "text": [
            "INFO:mealpy.evolutionary_based.ES.OriginalES:>>>Problem: P, Epoch: 9, Current best: 0.9850341470348838, Global best: 0.9850341470348838, Runtime: 24.09161 seconds\n"
          ]
        },
        {
          "output_type": "stream",
          "name": "stdout",
          "text": [
            "0.9953703703703703 0.9817843264248705 0.9889550129905382 0.9850341470348838 4 209\n",
            "0.9953703703703703 0.9817843264248705 0.9889550129905382 0.9850341470348838 4 208\n",
            "0.9953703703703703 0.9817843264248705 0.9889550129905382 0.9850341470348838 4 190\n",
            "0.9895833333333334 0.9594289005924951 0.9455026320381573 0.9516494813369133 5 208\n",
            "0.9953703703703703 0.9817843264248705 0.9889550129905382 0.9850341470348838 4 198\n",
            "0.9918981481481481 0.9774934167215273 0.962764536800062 0.9692801649125398 6 211\n",
            "0.9953703703703703 0.9817843264248705 0.9889550129905382 0.9850341470348838 4 200\n",
            "0.9953703703703703 0.9817843264248705 0.9889550129905382 0.9850341470348838 4 235\n",
            "0.9953703703703703 0.9817843264248705 0.9889550129905382 0.9850341470348838 4 210\n",
            "0.9953703703703703 0.9817843264248705 0.9889550129905382 0.9850341470348838 4 182\n",
            "0.9953703703703703 0.9817843264248705 0.9889550129905382 0.9850341470348838 4 241\n",
            "0.9953703703703703 0.9817843264248705 0.9889550129905382 0.9850341470348838 4 206\n",
            "0.9953703703703703 0.9817843264248705 0.9889550129905382 0.9850341470348838 4 208\n",
            "0.9953703703703703 0.9817843264248705 0.9889550129905382 0.9850341470348838 4 206\n",
            "0.9953703703703703 0.9817843264248705 0.9889550129905382 0.9850341470348838 4 192\n"
          ]
        },
        {
          "output_type": "stream",
          "name": "stderr",
          "text": [
            "INFO:mealpy.evolutionary_based.ES.OriginalES:>>>Problem: P, Epoch: 10, Current best: 0.9850341470348838, Global best: 0.9850341470348838, Runtime: 26.37236 seconds\n"
          ]
        },
        {
          "output_type": "stream",
          "name": "stdout",
          "text": [
            "0.9953703703703703 0.9817843264248705 0.9889550129905382 0.9850341470348838 4 206\n",
            "0.9907407407407407 0.9770528809891016 0.9614624534667288 0.9684207638685058 8 208\n",
            "0.9953703703703703 0.9817843264248705 0.9889550129905382 0.9850341470348838 4 191\n",
            "0.9907407407407407 0.976256754543966 0.9538359653714906 0.9635676038064839 6 198\n",
            "0.9953703703703703 0.9817843264248705 0.9889550129905382 0.9850341470348838 4 202\n",
            "0.9907407407407407 0.9701849489795918 0.9538359653714906 0.9603663887871454 11 236\n",
            "0.9953703703703703 0.9817843264248705 0.9889550129905382 0.9850341470348838 4 208\n",
            "0.9895833333333334 0.9594289005924951 0.9455026320381573 0.9516494813369133 5 181\n",
            "0.9895833333333334 0.9594289005924951 0.9455026320381573 0.9516494813369133 5 246\n",
            "0.9953703703703703 0.9817843264248705 0.9889550129905382 0.9850341470348838 4 206\n",
            "0.9930555555555556 0.9792467948717949 0.9710978701333953 0.9741467359719571 6 207\n",
            "0.9953703703703703 0.9817843264248705 0.9889550129905382 0.9850341470348838 4 205\n",
            "0.9895833333333334 0.9594289005924951 0.9455026320381573 0.9516494813369133 5 192\n",
            "0.9953703703703703 0.9817843264248705 0.9889550129905382 0.9850341470348838 4 205\n",
            "0.9953703703703703 0.9817843264248705 0.9889550129905382 0.9850341470348838 4 206\n"
          ]
        },
        {
          "output_type": "stream",
          "name": "stderr",
          "text": [
            "INFO:mealpy.evolutionary_based.ES.OriginalES:>>>Problem: P, Epoch: 11, Current best: 0.9850341470348838, Global best: 0.9850341470348838, Runtime: 25.68575 seconds\n"
          ]
        },
        {
          "output_type": "stream",
          "name": "stdout",
          "text": [
            "0.9953703703703703 0.9817843264248705 0.9889550129905382 0.9850341470348838 4 190\n",
            "0.9895833333333334 0.9689482868020305 0.9449073939429191 0.9544546188248331 7 191\n",
            "0.9953703703703703 0.9817843264248705 0.9889550129905382 0.9850341470348838 4 201\n",
            "0.9953703703703703 0.9817843264248705 0.9889550129905382 0.9850341470348838 4 209\n",
            "0.9953703703703703 0.9817843264248705 0.9889550129905382 0.9850341470348838 4 205\n",
            "0.9953703703703703 0.9817843264248705 0.9889550129905382 0.9850341470348838 4 205\n",
            "0.9953703703703703 0.9817843264248705 0.9889550129905382 0.9850341470348838 4 202\n",
            "0.9953703703703703 0.9817843264248705 0.9889550129905382 0.9850341470348838 4 204\n",
            "0.9895833333333334 0.9594289005924951 0.9455026320381573 0.9516494813369133 5 188\n",
            "0.9953703703703703 0.9817843264248705 0.9889550129905382 0.9850341470348838 4 207\n",
            "0.9953703703703703 0.9817843264248705 0.9889550129905382 0.9850341470348838 4 190\n",
            "0.9895833333333334 0.9594289005924951 0.9455026320381573 0.9516494813369133 5 198\n",
            "0.9953703703703703 0.9817843264248705 0.9889550129905382 0.9850341470348838 4 199\n",
            "0.9895833333333334 0.9594289005924951 0.9455026320381573 0.9516494813369133 5 236\n",
            "0.9895833333333334 0.9594289005924951 0.9455026320381573 0.9516494813369133 5 208\n"
          ]
        },
        {
          "output_type": "stream",
          "name": "stderr",
          "text": [
            "INFO:mealpy.evolutionary_based.ES.OriginalES:>>>Problem: P, Epoch: 12, Current best: 0.9850341470348838, Global best: 0.9850341470348838, Runtime: 22.69732 seconds\n"
          ]
        },
        {
          "output_type": "stream",
          "name": "stdout",
          "text": [
            "0.9907407407407407 0.9770528809891016 0.9614624534667288 0.9684207638685058 8 182\n",
            "0.9930555555555556 0.9792467948717949 0.9710978701333953 0.9741467359719571 6 201\n",
            "0.9953703703703703 0.9817843264248705 0.9889550129905382 0.9850341470348838 4 209\n",
            "0.9953703703703703 0.9817843264248705 0.9889550129905382 0.9850341470348838 4 206\n",
            "0.9953703703703703 0.9817843264248705 0.9889550129905382 0.9850341470348838 4 208\n",
            "0.9953703703703703 0.9817843264248705 0.9889550129905382 0.9850341470348838 4 202\n",
            "0.9953703703703703 0.9817843264248705 0.9889550129905382 0.9850341470348838 4 203\n",
            "0.9930555555555556 0.9792467948717949 0.9710978701333953 0.9741467359719571 6 206\n",
            "0.9895833333333334 0.9594289005924951 0.9455026320381573 0.9516494813369133 5 191\n",
            "0.9907407407407407 0.976256754543966 0.9538359653714906 0.9635676038064839 6 199\n",
            "0.9918981481481481 0.9775257900769608 0.955138048704824 0.9648529508501856 12 190\n",
            "0.9953703703703703 0.9817843264248705 0.9889550129905382 0.9850341470348838 4 202\n",
            "0.9918981481481481 0.9779974489795918 0.9621692987048239 0.9684309049161777 6 208\n",
            "0.9930555555555556 0.9792467948717949 0.9710978701333953 0.9741467359719571 6 205\n",
            "0.9953703703703703 0.9817843264248705 0.9889550129905382 0.9850341470348838 4 206\n"
          ]
        },
        {
          "output_type": "stream",
          "name": "stderr",
          "text": [
            "INFO:mealpy.evolutionary_based.ES.OriginalES:>>>Problem: P, Epoch: 13, Current best: 0.9850341470348838, Global best: 0.9850341470348838, Runtime: 25.87202 seconds\n"
          ]
        },
        {
          "output_type": "stream",
          "name": "stdout",
          "text": [
            "0.9953703703703703 0.9817843264248705 0.9889550129905382 0.9850341470348838 4 203\n",
            "0.9953703703703703 0.9817843264248705 0.9889550129905382 0.9850341470348838 4 210\n",
            "0.9953703703703703 0.9817843264248705 0.9889550129905382 0.9850341470348838 4 206\n",
            "0.9953703703703703 0.9817843264248705 0.9889550129905382 0.9850341470348838 4 208\n",
            "0.9953703703703703 0.9817843264248705 0.9889550129905382 0.9850341470348838 4 201\n",
            "0.9895833333333334 0.9594289005924951 0.9455026320381573 0.9516494813369133 5 203\n",
            "0.9953703703703703 0.9817843264248705 0.9889550129905382 0.9850341470348838 4 202\n",
            "0.9953703703703703 0.9817843264248705 0.9889550129905382 0.9850341470348838 4 206\n",
            "0.9953703703703703 0.9817843264248705 0.9889550129905382 0.9850341470348838 4 204\n",
            "0.9907407407407407 0.9770528809891016 0.9614624534667288 0.9684207638685058 8 199\n",
            "0.9953703703703703 0.9817843264248705 0.9889550129905382 0.9850341470348838 4 209\n",
            "0.9953703703703703 0.9817843264248705 0.9889550129905382 0.9850341470348838 4 207\n",
            "0.9953703703703703 0.9817843264248705 0.9889550129905382 0.9850341470348838 4 204\n",
            "0.9953703703703703 0.9817843264248705 0.9889550129905382 0.9850341470348838 4 203\n",
            "0.9953703703703703 0.9817843264248705 0.9889550129905382 0.9850341470348838 4 201\n"
          ]
        },
        {
          "output_type": "stream",
          "name": "stderr",
          "text": [
            "INFO:mealpy.evolutionary_based.ES.OriginalES:>>>Problem: P, Epoch: 14, Current best: 0.9850341470348838, Global best: 0.9850341470348838, Runtime: 23.81822 seconds\n"
          ]
        },
        {
          "output_type": "stream",
          "name": "stdout",
          "text": [
            "0.9953703703703703 0.9817843264248705 0.9889550129905382 0.9850341470348838 4 208\n",
            "0.9953703703703703 0.9817843264248705 0.9889550129905382 0.9850341470348838 4 216\n",
            "0.9953703703703703 0.9817843264248705 0.9889550129905382 0.9850341470348838 4 208\n",
            "0.9953703703703703 0.9817843264248705 0.9889550129905382 0.9850341470348838 4 209\n",
            "0.9953703703703703 0.9817843264248705 0.9889550129905382 0.9850341470348838 4 201\n",
            "0.9953703703703703 0.9817843264248705 0.9889550129905382 0.9850341470348838 4 202\n",
            "0.9895833333333334 0.9594289005924951 0.9455026320381573 0.9516494813369133 5 205\n",
            "0.9895833333333334 0.9594289005924951 0.9455026320381573 0.9516494813369133 5 201\n",
            "0.9953703703703703 0.9817843264248705 0.9889550129905382 0.9850341470348838 4 210\n",
            "0.9930555555555556 0.9792467948717949 0.9710978701333953 0.9741467359719571 6 206\n",
            "0.9895833333333334 0.9594289005924951 0.9455026320381573 0.9516494813369133 5 204\n",
            "0.9953703703703703 0.9817843264248705 0.9889550129905382 0.9850341470348838 4 204\n",
            "0.9953703703703703 0.9817843264248705 0.9889550129905382 0.9850341470348838 4 201\n",
            "0.9953703703703703 0.9817843264248705 0.9889550129905382 0.9850341470348838 4 208\n",
            "0.9953703703703703 0.9817843264248705 0.9889550129905382 0.9850341470348838 4 208\n"
          ]
        },
        {
          "output_type": "stream",
          "name": "stderr",
          "text": [
            "INFO:mealpy.evolutionary_based.ES.OriginalES:>>>Problem: P, Epoch: 15, Current best: 0.9850341470348838, Global best: 0.9850341470348838, Runtime: 24.47064 seconds\n"
          ]
        },
        {
          "output_type": "stream",
          "name": "stdout",
          "text": [
            "0.9953703703703703 0.9817843264248705 0.9889550129905382 0.9850341470348838 4 206\n",
            "0.9895833333333334 0.9594289005924951 0.9455026320381573 0.9516494813369133 5 215\n",
            "0.9953703703703703 0.9817843264248705 0.9889550129905382 0.9850341470348838 4 208\n",
            "0.9953703703703703 0.9817843264248705 0.9889550129905382 0.9850341470348838 4 209\n",
            "0.9953703703703703 0.9817843264248705 0.9889550129905382 0.9850341470348838 4 200\n",
            "0.9895833333333334 0.9594289005924951 0.9455026320381573 0.9516494813369133 5 200\n",
            "0.9953703703703703 0.9817843264248705 0.9889550129905382 0.9850341470348838 4 212\n",
            "0.9907407407407407 0.9701849489795918 0.9538359653714906 0.9603663887871454 11 203\n",
            "0.9953703703703703 0.9817843264248705 0.9889550129905382 0.9850341470348838 4 202\n",
            "0.9953703703703703 0.9817843264248705 0.9889550129905382 0.9850341470348838 4 209\n",
            "0.9953703703703703 0.9817843264248705 0.9889550129905382 0.9850341470348838 4 208\n",
            "0.9953703703703703 0.9817843264248705 0.9889550129905382 0.9850341470348838 4 207\n",
            "0.9953703703703703 0.9817843264248705 0.9889550129905382 0.9850341470348838 4 211\n",
            "0.9953703703703703 0.9817843264248705 0.9889550129905382 0.9850341470348838 4 209\n",
            "0.9953703703703703 0.9817843264248705 0.9889550129905382 0.9850341470348838 4 207\n"
          ]
        },
        {
          "output_type": "stream",
          "name": "stderr",
          "text": [
            "INFO:mealpy.evolutionary_based.ES.OriginalES:>>>Problem: P, Epoch: 16, Current best: 0.9850341470348838, Global best: 0.9850341470348838, Runtime: 24.28867 seconds\n"
          ]
        },
        {
          "output_type": "stream",
          "name": "stdout",
          "text": [
            "0.9953703703703703 0.9817843264248705 0.9889550129905382 0.9850341470348838 4 201\n",
            "0.9953703703703703 0.9817843264248705 0.9889550129905382 0.9850341470348838 4 207\n",
            "0.9953703703703703 0.9817843264248705 0.9889550129905382 0.9850341470348838 4 209\n",
            "0.9953703703703703 0.9817843264248705 0.9889550129905382 0.9850341470348838 4 200\n",
            "0.9953703703703703 0.9817843264248705 0.9889550129905382 0.9850341470348838 4 214\n",
            "0.9953703703703703 0.9817843264248705 0.9889550129905382 0.9850341470348838 4 202\n",
            "0.9918981481481481 0.9774934167215273 0.962764536800062 0.9692801649125398 6 210\n",
            "0.9953703703703703 0.9817843264248705 0.9889550129905382 0.9850341470348838 4 209\n",
            "0.9953703703703703 0.9817843264248705 0.9889550129905382 0.9850341470348838 4 207\n",
            "0.9953703703703703 0.9817843264248705 0.9889550129905382 0.9850341470348838 4 211\n",
            "0.9953703703703703 0.9817843264248705 0.9889550129905382 0.9850341470348838 4 209\n",
            "0.9953703703703703 0.9817843264248705 0.9889550129905382 0.9850341470348838 4 206\n",
            "0.9953703703703703 0.9817843264248705 0.9889550129905382 0.9850341470348838 4 202\n",
            "0.9895833333333334 0.9689482868020305 0.9449073939429191 0.9544546188248331 7 217\n",
            "0.9953703703703703 0.9817843264248705 0.9889550129905382 0.9850341470348838 4 207\n"
          ]
        },
        {
          "output_type": "stream",
          "name": "stderr",
          "text": [
            "INFO:mealpy.evolutionary_based.ES.OriginalES:>>>Problem: P, Epoch: 17, Current best: 0.9850341470348838, Global best: 0.9850341470348838, Runtime: 24.74723 seconds\n"
          ]
        },
        {
          "output_type": "stream",
          "name": "stdout",
          "text": [
            "0.9895833333333334 0.9689482868020305 0.9449073939429191 0.9544546188248331 7 209\n",
            "0.9953703703703703 0.9817843264248705 0.9889550129905382 0.9850341470348838 4 207\n",
            "0.9953703703703703 0.9817843264248705 0.9889550129905382 0.9850341470348838 4 209\n",
            "0.9907407407407407 0.976256754543966 0.9538359653714906 0.9635676038064839 6 198\n",
            "0.9953703703703703 0.9817843264248705 0.9889550129905382 0.9850341470348838 4 214\n",
            "0.9953703703703703 0.9817843264248705 0.9889550129905382 0.9850341470348838 4 202\n",
            "0.9953703703703703 0.9817843264248705 0.9889550129905382 0.9850341470348838 4 208\n",
            "0.9895833333333334 0.9594289005924951 0.9455026320381573 0.9516494813369133 5 208\n",
            "0.9953703703703703 0.9817843264248705 0.9889550129905382 0.9850341470348838 4 212\n",
            "0.9953703703703703 0.9817843264248705 0.9889550129905382 0.9850341470348838 4 208\n",
            "0.9953703703703703 0.9817843264248705 0.9889550129905382 0.9850341470348838 4 206\n",
            "0.9953703703703703 0.9817843264248705 0.9889550129905382 0.9850341470348838 4 202\n",
            "0.9953703703703703 0.9817843264248705 0.9889550129905382 0.9850341470348838 4 208\n",
            "0.9953703703703703 0.9817843264248705 0.9889550129905382 0.9850341470348838 4 208\n",
            "0.9953703703703703 0.9817843264248705 0.9889550129905382 0.9850341470348838 4 209\n"
          ]
        },
        {
          "output_type": "stream",
          "name": "stderr",
          "text": [
            "INFO:mealpy.evolutionary_based.ES.OriginalES:>>>Problem: P, Epoch: 18, Current best: 0.9850341470348838, Global best: 0.9850341470348838, Runtime: 24.17607 seconds\n"
          ]
        },
        {
          "output_type": "stream",
          "name": "stdout",
          "text": [
            "0.9953703703703703 0.9817843264248705 0.9889550129905382 0.9850341470348838 4 201\n",
            "0.9953703703703703 0.9817843264248705 0.9889550129905382 0.9850341470348838 4 204\n",
            "0.9953703703703703 0.9817843264248705 0.9889550129905382 0.9850341470348838 4 209\n",
            "0.9953703703703703 0.9817843264248705 0.9889550129905382 0.9850341470348838 4 216\n",
            "0.9895833333333334 0.9594289005924951 0.9455026320381573 0.9516494813369133 5 201\n",
            "0.9953703703703703 0.9817843264248705 0.9889550129905382 0.9850341470348838 4 209\n",
            "0.9953703703703703 0.9817843264248705 0.9889550129905382 0.9850341470348838 4 213\n",
            "0.9953703703703703 0.9817843264248705 0.9889550129905382 0.9850341470348838 4 208\n",
            "0.9953703703703703 0.9817843264248705 0.9889550129905382 0.9850341470348838 4 206\n",
            "0.9953703703703703 0.9817843264248705 0.9889550129905382 0.9850341470348838 4 201\n",
            "0.9953703703703703 0.9817843264248705 0.9889550129905382 0.9850341470348838 4 209\n",
            "0.9953703703703703 0.9817843264248705 0.9889550129905382 0.9850341470348838 4 205\n",
            "0.9953703703703703 0.9817843264248705 0.9889550129905382 0.9850341470348838 4 208\n",
            "0.9953703703703703 0.9817843264248705 0.9889550129905382 0.9850341470348838 4 202\n",
            "0.9953703703703703 0.9817843264248705 0.9889550129905382 0.9850341470348838 4 207\n"
          ]
        },
        {
          "output_type": "stream",
          "name": "stderr",
          "text": [
            "INFO:mealpy.evolutionary_based.ES.OriginalES:>>>Problem: P, Epoch: 19, Current best: 0.9850341470348838, Global best: 0.9850341470348838, Runtime: 21.61602 seconds\n"
          ]
        },
        {
          "output_type": "stream",
          "name": "stdout",
          "text": [
            "0.9895833333333334 0.9594289005924951 0.9455026320381573 0.9516494813369133 5 209\n",
            "0.9895833333333334 0.9594289005924951 0.9455026320381573 0.9516494813369133 5 204\n",
            "0.9953703703703703 0.9817843264248705 0.9889550129905382 0.9850341470348838 4 210\n",
            "0.9953703703703703 0.9817843264248705 0.9889550129905382 0.9850341470348838 4 216\n",
            "0.9953703703703703 0.9817843264248705 0.9889550129905382 0.9850341470348838 4 209\n",
            "0.9953703703703703 0.9817843264248705 0.9889550129905382 0.9850341470348838 4 213\n",
            "0.9895833333333334 0.9594289005924951 0.9455026320381573 0.9516494813369133 5 207\n",
            "0.9907407407407407 0.9770528809891016 0.9614624534667288 0.9684207638685058 8 207\n",
            "0.9953703703703703 0.9817843264248705 0.9889550129905382 0.9850341470348838 4 201\n",
            "0.9953703703703703 0.9817843264248705 0.9889550129905382 0.9850341470348838 4 210\n",
            "0.9953703703703703 0.9817843264248705 0.9889550129905382 0.9850341470348838 4 205\n",
            "0.9953703703703703 0.9817843264248705 0.9889550129905382 0.9850341470348838 4 209\n",
            "0.9953703703703703 0.9817843264248705 0.9889550129905382 0.9850341470348838 4 203\n",
            "0.9953703703703703 0.9817843264248705 0.9889550129905382 0.9850341470348838 4 207\n",
            "0.9895833333333334 0.9594289005924951 0.9455026320381573 0.9516494813369133 5 210\n"
          ]
        },
        {
          "output_type": "stream",
          "name": "stderr",
          "text": [
            "INFO:mealpy.evolutionary_based.ES.OriginalES:>>>Problem: P, Epoch: 20, Current best: 0.9850341470348838, Global best: 0.9850341470348838, Runtime: 24.65397 seconds\n"
          ]
        },
        {
          "output_type": "stream",
          "name": "stdout",
          "text": [
            "0.9953703703703703 0.9817843264248705 0.9889550129905382 0.9850341470348838 4 209\n",
            "OriginalES , 1\n",
            "0.950537966686246 5\n",
            "0.9516494813369132 40\n",
            "0.9536207137942024 1\n",
            "0.9544546188248332 6\n",
            "0.9595292389602508 5\n",
            "0.9603663887871454 39\n",
            "0.963567603806484 5\n",
            "0.9648529508501856 1\n",
            "0.9675836747761478 1\n",
            "0.9684207638685058 4\n",
            "0.9684309049161776 1\n",
            "0.9692801649125398 3\n",
            "0.9702263353382572 15\n",
            "0.9741467359719572 5\n",
            "0.9755734281311268 16\n",
            "0.9850341470348838 173\n"
          ]
        },
        {
          "output_type": "display_data",
          "data": {
            "text/plain": [
              "<Figure size 640x480 with 1 Axes>"
            ],
            "image/png": "[encoded data removed]"
          },
          "metadata": {}
        },
        {
          "output_type": "stream",
          "name": "stderr",
          "text": [
            "INFO:mealpy.evolutionary_based.FPA.OriginalFPA:Solving single objective optimization problem.\n"
          ]
        },
        {
          "output_type": "stream",
          "name": "stdout",
          "text": [
            "0.9895833333333334 0.9689482868020305 0.9534287992477122 0.9595292389602508 38 547\n",
            "OriginalFPA\n",
            "0.9884259259259259 0.9620827564990002 0.9445002278191408 0.950537966686246 36 725\n",
            "0.9907407407407407 0.9701849489795918 0.9538359653714906 0.9603663887871454 11 455\n",
            "0.9907407407407407 0.9701849489795918 0.9538359653714906 0.9603663887871454 26 382\n",
            "0.9953703703703703 0.9817843264248705 0.9889550129905382 0.9850341470348838 4 163\n",
            "0.9907407407407407 0.9701849489795918 0.9538359653714906 0.9603663887871454 32 224\n",
            "0.9895833333333334 0.9594289005924951 0.9455026320381573 0.9516494813369133 5 245\n",
            "0.9907407407407407 0.9701849489795918 0.9538359653714906 0.9603663887871454 25 262\n",
            "0.9884259259259259 0.9620827564990002 0.9445002278191408 0.950537966686246 33 742\n",
            "0.9837962962962963 0.9423668087231918 0.9331555616953622 0.9359123612437309 31 43\n",
            "0.9918981481481481 0.9775257900769608 0.955138048704824 0.9648529508501856 31 157\n",
            "0.9907407407407407 0.9701849489795918 0.9538359653714906 0.9603663887871454 24 503\n",
            "0.9907407407407407 0.9701849489795918 0.9538359653714906 0.9603663887871454 9 319\n",
            "0.9907407407407407 0.9701849489795918 0.9538359653714906 0.9603663887871454 29 366\n",
            "0.9884259259259259 0.9568250377073907 0.9436053106095859 0.9471229019115645 37 75\n",
            "0.9907407407407407 0.9701849489795918 0.9538359653714906 0.9603663887871454 23 111\n",
            "0.9884259259259259 0.9620827564990002 0.9445002278191408 0.950537966686246 16 786\n",
            "0.9907407407407407 0.9701849489795918 0.9538359653714906 0.9603663887871454 9 282\n",
            "0.9884259259259259 0.9620827564990002 0.9445002278191408 0.950537966686246 27 717\n",
            "0.9907407407407407 0.9701849489795918 0.9538359653714906 0.9603663887871454 24 378\n",
            "0.9884259259259259 0.9620827564990002 0.9445002278191408 0.950537966686246 9 733\n",
            "0.9895833333333334 0.9689482868020305 0.9534287992477122 0.9595292389602508 38 612\n",
            "0.9907407407407407 0.9701849489795918 0.9538359653714906 0.9603663887871454 12 397\n",
            "0.9907407407407407 0.9701849489795918 0.9538359653714906 0.9603663887871454 28 383\n",
            "0.9953703703703703 0.9817843264248705 0.9889550129905382 0.9850341470348838 4 163\n",
            "0.9907407407407407 0.9701849489795918 0.9538359653714906 0.9603663887871454 31 219\n",
            "0.9884259259259259 0.9620827564990002 0.9445002278191408 0.950537966686246 28 698\n",
            "0.9907407407407407 0.9701849489795918 0.9538359653714906 0.9603663887871454 30 261\n",
            "0.9884259259259259 0.9620827564990002 0.9445002278191408 0.950537966686246 32 722\n",
            "0.9907407407407407 0.9701849489795918 0.9538359653714906 0.9603663887871454 30 102\n",
            "0.9907407407407407 0.9701849489795918 0.9538359653714906 0.9603663887871454 34 158\n",
            "0.9895833333333334 0.9689482868020305 0.9534287992477122 0.9595292389602508 26 611\n",
            "0.9895833333333334 0.9758094097854195 0.9610552873429502 0.9675836747761478 8 316\n",
            "0.9907407407407407 0.9701849489795918 0.9538359653714906 0.9603663887871454 33 348\n",
            "0.9895833333333334 0.9632867132867133 0.9525338820381574 0.9559981667610941 38 80\n",
            "0.9861111111111112 0.9551344896933133 0.941896061152474 0.9454230819049042 22 46\n",
            "0.9884259259259259 0.9620827564990002 0.9445002278191408 0.950537966686246 14 737\n",
            "0.9907407407407407 0.9701849489795918 0.9538359653714906 0.9603663887871454 9 305\n",
            "0.9907407407407407 0.9701849489795918 0.9538359653714906 0.9603663887871454 25 345\n",
            "0.9907407407407407 0.9701849489795918 0.9538359653714906 0.9603663887871454 22 368\n"
          ]
        },
        {
          "output_type": "stream",
          "name": "stderr",
          "text": [
            "INFO:mealpy.evolutionary_based.FPA.OriginalFPA:>>>Problem: P, Epoch: 1, Current best: 0.9850341470348838, Global best: 0.9850341470348838, Runtime: 51.12556 seconds\n"
          ]
        },
        {
          "output_type": "stream",
          "name": "stdout",
          "text": [
            "0.9895833333333334 0.9689482868020305 0.9534287992477122 0.9595292389602508 9 638\n",
            "0.9895833333333334 0.9689482868020305 0.9534287992477122 0.9595292389602508 38 611\n",
            "0.9907407407407407 0.9701849489795918 0.9538359653714906 0.9603663887871454 12 459\n",
            "0.9907407407407407 0.9701849489795918 0.9538359653714906 0.9603663887871454 32 380\n",
            "0.9953703703703703 0.9817843264248705 0.9889550129905382 0.9850341470348838 4 163\n",
            "0.9907407407407407 0.9701849489795918 0.9538359653714906 0.9603663887871454 30 198\n",
            "0.9895833333333334 0.9594289005924951 0.9455026320381573 0.9516494813369133 5 245\n",
            "0.9907407407407407 0.9701849489795918 0.9538359653714906 0.9603663887871454 26 260\n",
            "0.9907407407407407 0.9701849489795918 0.9538359653714906 0.9603663887871454 33 306\n",
            "0.9907407407407407 0.9701849489795918 0.9538359653714906 0.9603663887871454 30 130\n",
            "0.9907407407407407 0.9701849489795918 0.9538359653714906 0.9603663887871454 32 156\n",
            "0.9907407407407407 0.9701849489795918 0.9538359653714906 0.9603663887871454 25 411\n",
            "0.9907407407407407 0.9701849489795918 0.9538359653714906 0.9603663887871454 10 339\n",
            "0.9907407407407407 0.9701849489795918 0.9538359653714906 0.9603663887871454 39 376\n",
            "0.9884259259259259 0.9568250377073907 0.9436053106095859 0.9471229019115645 36 77\n",
            "0.9907407407407407 0.9701849489795918 0.9538359653714906 0.9603663887871454 26 111\n",
            "0.9884259259259259 0.9620827564990002 0.9445002278191408 0.950537966686246 14 728\n",
            "0.9907407407407407 0.976256754543966 0.9623573706762836 0.9684430150856451 8 296\n",
            "0.9907407407407407 0.9701849489795918 0.9538359653714906 0.9603663887871454 26 364\n",
            "0.9907407407407407 0.9701849489795918 0.9538359653714906 0.9603663887871454 22 369\n"
          ]
        },
        {
          "output_type": "stream",
          "name": "stderr",
          "text": [
            "INFO:mealpy.evolutionary_based.FPA.OriginalFPA:>>>Problem: P, Epoch: 2, Current best: 0.9850341470348838, Global best: 0.9850341470348838, Runtime: 49.46485 seconds\n"
          ]
        },
        {
          "output_type": "stream",
          "name": "stdout",
          "text": [
            "0.9884259259259259 0.9620827564990002 0.9445002278191408 0.950537966686246 9 659\n",
            "0.9895833333333334 0.9689482868020305 0.9534287992477122 0.9595292389602508 23 598\n",
            "0.9907407407407407 0.9701849489795918 0.9538359653714906 0.9603663887871454 13 465\n",
            "0.9907407407407407 0.9701849489795918 0.9538359653714906 0.9603663887871454 30 322\n",
            "0.9953703703703703 0.9817843264248705 0.9889550129905382 0.9850341470348838 4 163\n",
            "0.9907407407407407 0.9701849489795918 0.9538359653714906 0.9603663887871454 30 200\n",
            "0.9895833333333334 0.9594289005924951 0.9455026320381573 0.9516494813369133 5 245\n",
            "0.9907407407407407 0.9701849489795918 0.9538359653714906 0.9603663887871454 31 254\n",
            "0.9907407407407407 0.9701849489795918 0.9538359653714906 0.9603663887871454 26 234\n",
            "0.9907407407407407 0.9701849489795918 0.9538359653714906 0.9603663887871454 31 141\n",
            "0.9895833333333334 0.9632867132867133 0.9525338820381574 0.9559981667610941 31 83\n",
            "0.9907407407407407 0.9701849489795918 0.9538359653714906 0.9603663887871454 25 411\n",
            "0.9895833333333334 0.9758094097854195 0.9610552873429502 0.9675836747761478 8 317\n",
            "0.9907407407407407 0.9701849489795918 0.9538359653714906 0.9603663887871454 22 420\n",
            "0.9895833333333334 0.9632867132867133 0.9525338820381574 0.9559981667610941 27 84\n",
            "0.9907407407407407 0.9701849489795918 0.9538359653714906 0.9603663887871454 25 112\n",
            "0.9907407407407407 0.9701849489795918 0.9538359653714906 0.9603663887871454 26 248\n",
            "0.9895833333333334 0.9758094097854195 0.9610552873429502 0.9675836747761478 8 277\n",
            "0.9907407407407407 0.9701849489795918 0.9538359653714906 0.9603663887871454 39 365\n",
            "0.9907407407407407 0.9701849489795918 0.9538359653714906 0.9603663887871454 20 353\n"
          ]
        },
        {
          "output_type": "stream",
          "name": "stderr",
          "text": [
            "INFO:mealpy.evolutionary_based.FPA.OriginalFPA:>>>Problem: P, Epoch: 3, Current best: 0.9850341470348838, Global best: 0.9850341470348838, Runtime: 47.17902 seconds\n"
          ]
        },
        {
          "output_type": "stream",
          "name": "stdout",
          "text": [
            "0.9895833333333334 0.9758094097854195 0.9610552873429502 0.9675836747761478 8 620\n",
            "0.9895833333333334 0.9689482868020305 0.9534287992477122 0.9595292389602508 23 583\n",
            "0.9907407407407407 0.9701849489795918 0.9538359653714906 0.9603663887871454 13 490\n",
            "0.9907407407407407 0.9701849489795918 0.9538359653714906 0.9603663887871454 29 318\n",
            "0.9907407407407407 0.9701849489795918 0.9538359653714906 0.9603663887871454 14 165\n",
            "0.9907407407407407 0.9701849489795918 0.9538359653714906 0.9603663887871454 39 370\n",
            "0.9895833333333334 0.9594289005924951 0.9455026320381573 0.9516494813369133 5 287\n",
            "0.9907407407407407 0.9701849489795918 0.9538359653714906 0.9603663887871454 31 248\n",
            "0.9907407407407407 0.9701849489795918 0.9538359653714906 0.9603663887871454 27 232\n",
            "0.9907407407407407 0.9701849489795918 0.9538359653714906 0.9603663887871454 29 141\n",
            "0.9907407407407407 0.9701849489795918 0.9538359653714906 0.9603663887871454 29 155\n",
            "0.9907407407407407 0.9701849489795918 0.9538359653714906 0.9603663887871454 29 395\n",
            "0.9895833333333334 0.9689482868020305 0.9449073939429191 0.9544546188248331 7 360\n",
            "0.9907407407407407 0.9701849489795918 0.9538359653714906 0.9603663887871454 16 417\n",
            "0.9884259259259259 0.9568250377073907 0.9436053106095859 0.9471229019115645 27 79\n",
            "0.9907407407407407 0.9701849489795918 0.9538359653714906 0.9603663887871454 23 109\n",
            "0.9907407407407407 0.9701849489795918 0.9538359653714906 0.9603663887871454 26 244\n",
            "0.9895833333333334 0.9758094097854195 0.9610552873429502 0.9675836747761478 8 298\n",
            "0.9907407407407407 0.9701849489795918 0.9538359653714906 0.9603663887871454 37 359\n",
            "0.9907407407407407 0.9701849489795918 0.9538359653714906 0.9603663887871454 20 351\n"
          ]
        },
        {
          "output_type": "stream",
          "name": "stderr",
          "text": [
            "INFO:mealpy.evolutionary_based.FPA.OriginalFPA:>>>Problem: P, Epoch: 4, Current best: 0.9850341470348838, Global best: 0.9850341470348838, Runtime: 46.43008 seconds\n"
          ]
        },
        {
          "output_type": "stream",
          "name": "stdout",
          "text": [
            "0.9895833333333334 0.9689482868020305 0.9534287992477122 0.9595292389602508 7 700\n",
            "0.9907407407407407 0.9701849489795918 0.9538359653714906 0.9603663887871454 23 409\n",
            "0.9907407407407407 0.9701849489795918 0.9538359653714906 0.9603663887871454 12 478\n",
            "0.9907407407407407 0.9701849489795918 0.9538359653714906 0.9603663887871454 29 318\n",
            "0.9953703703703703 0.9817843264248705 0.9889550129905382 0.9850341470348838 4 163\n",
            "0.9907407407407407 0.9701849489795918 0.9538359653714906 0.9603663887871454 24 413\n",
            "0.9895833333333334 0.9594289005924951 0.9455026320381573 0.9516494813369133 5 284\n",
            "0.9907407407407407 0.9701849489795918 0.9538359653714906 0.9603663887871454 29 246\n",
            "0.9907407407407407 0.9701849489795918 0.9538359653714906 0.9603663887871454 28 215\n",
            "0.9907407407407407 0.9701849489795918 0.9538359653714906 0.9603663887871454 29 139\n",
            "0.9907407407407407 0.9701849489795918 0.9538359653714906 0.9603663887871454 30 192\n",
            "0.9907407407407407 0.9701849489795918 0.9538359653714906 0.9603663887871454 23 397\n",
            "0.9895833333333334 0.9758094097854195 0.9610552873429502 0.9675836747761478 8 306\n",
            "0.9895833333333334 0.9689482868020305 0.9534287992477122 0.9595292389602508 36 535\n",
            "0.9895833333333334 0.9632867132867133 0.9525338820381574 0.9559981667610941 26 93\n",
            "0.9907407407407407 0.9701849489795918 0.9538359653714906 0.9603663887871454 24 137\n",
            "0.9907407407407407 0.9701849489795918 0.9538359653714906 0.9603663887871454 26 246\n",
            "0.9895833333333334 0.9758094097854195 0.9610552873429502 0.9675836747761478 8 292\n",
            "0.9907407407407407 0.9701849489795918 0.9538359653714906 0.9603663887871454 37 341\n",
            "0.9907407407407407 0.9701849489795918 0.9538359653714906 0.9603663887871454 21 351\n"
          ]
        },
        {
          "output_type": "stream",
          "name": "stderr",
          "text": [
            "INFO:mealpy.evolutionary_based.FPA.OriginalFPA:>>>Problem: P, Epoch: 5, Current best: 0.9850341470348838, Global best: 0.9850341470348838, Runtime: 50.33096 seconds\n"
          ]
        },
        {
          "output_type": "stream",
          "name": "stdout",
          "text": [
            "0.9895833333333334 0.9758094097854195 0.9610552873429502 0.9675836747761478 8 479\n",
            "0.9907407407407407 0.9701849489795918 0.9538359653714906 0.9603663887871454 25 394\n",
            "0.9907407407407407 0.9701849489795918 0.9538359653714906 0.9603663887871454 12 503\n",
            "0.9907407407407407 0.9701849489795918 0.9538359653714906 0.9603663887871454 30 327\n",
            "0.9953703703703703 0.9817843264248705 0.9889550129905382 0.9850341470348838 4 163\n",
            "0.9907407407407407 0.9701849489795918 0.9538359653714906 0.9603663887871454 24 428\n",
            "0.9895833333333334 0.9594289005924951 0.9455026320381573 0.9516494813369133 5 273\n",
            "0.9907407407407407 0.9701849489795918 0.9538359653714906 0.9603663887871454 29 246\n",
            "0.9907407407407407 0.9701849489795918 0.9538359653714906 0.9603663887871454 26 218\n",
            "0.9907407407407407 0.9701849489795918 0.9538359653714906 0.9603663887871454 30 140\n",
            "0.9918981481481481 0.9775257900769608 0.955138048704824 0.9648529508501856 31 157\n",
            "0.9907407407407407 0.9701849489795918 0.9538359653714906 0.9603663887871454 22 388\n",
            "0.9907407407407407 0.9701849489795918 0.9538359653714906 0.9603663887871454 9 304\n",
            "0.9907407407407407 0.9701849489795918 0.9538359653714906 0.9603663887871454 13 479\n",
            "0.9907407407407407 0.9701849489795918 0.9538359653714906 0.9603663887871454 26 101\n",
            "0.9907407407407407 0.9701849489795918 0.9538359653714906 0.9603663887871454 23 201\n",
            "0.9907407407407407 0.9701849489795918 0.9538359653714906 0.9603663887871454 27 252\n",
            "0.9907407407407407 0.9701849489795918 0.9538359653714906 0.9603663887871454 10 319\n",
            "0.9907407407407407 0.9701849489795918 0.9538359653714906 0.9603663887871454 37 352\n",
            "0.9907407407407407 0.9701849489795918 0.9538359653714906 0.9603663887871454 21 347\n"
          ]
        },
        {
          "output_type": "stream",
          "name": "stderr",
          "text": [
            "INFO:mealpy.evolutionary_based.FPA.OriginalFPA:>>>Problem: P, Epoch: 6, Current best: 0.9850341470348838, Global best: 0.9850341470348838, Runtime: 47.98767 seconds\n"
          ]
        },
        {
          "output_type": "stream",
          "name": "stdout",
          "text": [
            "0.9907407407407407 0.9701849489795918 0.9538359653714906 0.9603663887871454 13 457\n",
            "0.9907407407407407 0.9701849489795918 0.9538359653714906 0.9603663887871454 25 388\n",
            "0.9907407407407407 0.9701849489795918 0.9538359653714906 0.9603663887871454 13 493\n",
            "0.9918981481481481 0.9774934167215273 0.962764536800062 0.9692801649125398 6 661\n",
            "0.9907407407407407 0.9701849489795918 0.9538359653714906 0.9603663887871454 23 195\n",
            "0.9907407407407407 0.9701849489795918 0.9538359653714906 0.9603663887871454 24 382\n",
            "0.9895833333333334 0.9594289005924951 0.9455026320381573 0.9516494813369133 5 279\n",
            "0.9907407407407407 0.9701849489795918 0.9538359653714906 0.9603663887871454 30 244\n",
            "0.9907407407407407 0.9701849489795918 0.9538359653714906 0.9603663887871454 25 218\n",
            "0.9907407407407407 0.9701849489795918 0.9538359653714906 0.9603663887871454 30 134\n",
            "0.9907407407407407 0.9701849489795918 0.9538359653714906 0.9603663887871454 31 166\n",
            "0.9907407407407407 0.9701849489795918 0.9538359653714906 0.9603663887871454 22 174\n",
            "0.9861111111111112 0.9532379633902477 0.934864811152474 0.9413161117060362 26 55\n",
            "0.9895833333333334 0.9689482868020305 0.9534287992477122 0.9595292389602508 14 524\n",
            "0.9884259259259259 0.9620827564990002 0.9445002278191408 0.950537966686246 25 757\n",
            "0.9907407407407407 0.9701849489795918 0.9538359653714906 0.9603663887871454 22 197\n",
            "0.9907407407407407 0.9701849489795918 0.9538359653714906 0.9603663887871454 18 254\n",
            "0.9895833333333334 0.9758094097854195 0.9610552873429502 0.9675836747761478 8 301\n",
            "0.9907407407407407 0.9701849489795918 0.9538359653714906 0.9603663887871454 37 348\n",
            "0.9907407407407407 0.9701849489795918 0.9538359653714906 0.9603663887871454 19 348\n"
          ]
        },
        {
          "output_type": "stream",
          "name": "stderr",
          "text": [
            "INFO:mealpy.evolutionary_based.FPA.OriginalFPA:>>>Problem: P, Epoch: 7, Current best: 0.9850341470348838, Global best: 0.9850341470348838, Runtime: 47.53690 seconds\n"
          ]
        },
        {
          "output_type": "stream",
          "name": "stdout",
          "text": [
            "0.9895833333333334 0.9689482868020305 0.9449073939429191 0.9544546188248331 7 504\n",
            "0.9907407407407407 0.9701849489795918 0.9538359653714906 0.9603663887871454 25 385\n",
            "0.9895833333333334 0.9689482868020305 0.9534287992477122 0.9595292389602508 13 549\n",
            "0.9895833333333334 0.9594289005924951 0.9455026320381573 0.9516494813369133 5 661\n",
            "0.9953703703703703 0.9817843264248705 0.9889550129905382 0.9850341470348838 4 163\n",
            "0.9907407407407407 0.9701849489795918 0.9538359653714906 0.9603663887871454 29 271\n",
            "0.9895833333333334 0.9594289005924951 0.9455026320381573 0.9516494813369133 5 279\n",
            "0.9907407407407407 0.9701849489795918 0.9538359653714906 0.9603663887871454 30 222\n",
            "0.9907407407407407 0.9701849489795918 0.9538359653714906 0.9603663887871454 25 219\n",
            "0.9907407407407407 0.9701849489795918 0.9538359653714906 0.9603663887871454 32 136\n",
            "0.9907407407407407 0.9701849489795918 0.9538359653714906 0.9603663887871454 33 156\n",
            "0.9907407407407407 0.9701849489795918 0.9538359653714906 0.9603663887871454 25 173\n",
            "0.9895833333333334 0.9758094097854195 0.9610552873429502 0.9675836747761478 8 314\n",
            "0.9907407407407407 0.9701849489795918 0.9538359653714906 0.9603663887871454 13 502\n",
            "0.9895833333333334 0.9689482868020305 0.9534287992477122 0.9595292389602508 30 576\n",
            "0.9907407407407407 0.9701849489795918 0.9538359653714906 0.9603663887871454 24 197\n",
            "0.9907407407407407 0.9701849489795918 0.9538359653714906 0.9603663887871454 18 254\n",
            "0.9895833333333334 0.9758094097854195 0.9610552873429502 0.9675836747761478 8 256\n",
            "0.9907407407407407 0.9701849489795918 0.9538359653714906 0.9603663887871454 37 359\n",
            "0.9907407407407407 0.9701849489795918 0.9538359653714906 0.9603663887871454 19 346\n"
          ]
        },
        {
          "output_type": "stream",
          "name": "stderr",
          "text": [
            "INFO:mealpy.evolutionary_based.FPA.OriginalFPA:>>>Problem: P, Epoch: 8, Current best: 0.9850341470348838, Global best: 0.9850341470348838, Runtime: 49.57409 seconds\n"
          ]
        },
        {
          "output_type": "stream",
          "name": "stdout",
          "text": [
            "0.9895833333333334 0.9758094097854195 0.9610552873429502 0.9675836747761478 8 408\n",
            "0.9907407407407407 0.9701849489795918 0.9538359653714906 0.9603663887871454 27 372\n",
            "0.9907407407407407 0.9701849489795918 0.9538359653714906 0.9603663887871454 12 499\n",
            "0.9918981481481481 0.9774934167215273 0.962764536800062 0.9692801649125398 6 662\n",
            "0.9953703703703703 0.9817843264248705 0.9889550129905382 0.9850341470348838 4 163\n",
            "0.9907407407407407 0.9701849489795918 0.9538359653714906 0.9603663887871454 29 273\n",
            "0.9895833333333334 0.9594289005924951 0.9455026320381573 0.9516494813369133 5 279\n",
            "0.9895833333333334 0.9632867132867133 0.9525338820381574 0.9559981667610941 37 81\n",
            "0.9907407407407407 0.9701849489795918 0.9538359653714906 0.9603663887871454 29 223\n",
            "0.9861111111111112 0.9532379633902477 0.934864811152474 0.9413161117060362 35 53\n",
            "0.9918981481481481 0.9775257900769608 0.955138048704824 0.9648529508501856 33 157\n",
            "0.9907407407407407 0.9701849489795918 0.9538359653714906 0.9603663887871454 25 174\n",
            "0.9895833333333334 0.9758094097854195 0.9610552873429502 0.9675836747761478 8 309\n",
            "0.9907407407407407 0.9701849489795918 0.9538359653714906 0.9603663887871454 13 490\n",
            "0.9907407407407407 0.9701849489795918 0.9538359653714906 0.9603663887871454 25 101\n",
            "0.9907407407407407 0.9701849489795918 0.9538359653714906 0.9603663887871454 23 199\n",
            "0.9907407407407407 0.9701849489795918 0.9538359653714906 0.9603663887871454 12 257\n",
            "0.9895833333333334 0.9758094097854195 0.9610552873429502 0.9675836747761478 8 291\n",
            "0.9907407407407407 0.9701849489795918 0.9538359653714906 0.9603663887871454 37 358\n",
            "0.9907407407407407 0.9701849489795918 0.9538359653714906 0.9603663887871454 18 325\n"
          ]
        },
        {
          "output_type": "stream",
          "name": "stderr",
          "text": [
            "INFO:mealpy.evolutionary_based.FPA.OriginalFPA:>>>Problem: P, Epoch: 9, Current best: 0.9850341470348838, Global best: 0.9850341470348838, Runtime: 45.84628 seconds\n"
          ]
        },
        {
          "output_type": "stream",
          "name": "stdout",
          "text": [
            "0.9895833333333334 0.9758094097854195 0.9610552873429502 0.9675836747761478 8 413\n",
            "0.9907407407407407 0.9701849489795918 0.9538359653714906 0.9603663887871454 24 334\n",
            "0.9895833333333334 0.9689482868020305 0.9534287992477122 0.9595292389602508 12 556\n",
            "0.9918981481481481 0.9774934167215273 0.962764536800062 0.9692801649125398 6 365\n",
            "0.9953703703703703 0.9817843264248705 0.9889550129905382 0.9850341470348838 4 163\n",
            "0.9907407407407407 0.9701849489795918 0.9538359653714906 0.9603663887871454 30 271\n",
            "0.9895833333333334 0.9594289005924951 0.9455026320381573 0.9516494813369133 5 280\n",
            "0.9907407407407407 0.9701849489795918 0.9538359653714906 0.9603663887871454 30 223\n",
            "0.9907407407407407 0.9701849489795918 0.9538359653714906 0.9603663887871454 29 221\n",
            "0.9907407407407407 0.9701849489795918 0.9538359653714906 0.9603663887871454 34 135\n",
            "0.9918981481481481 0.9775257900769608 0.955138048704824 0.9648529508501856 36 157\n",
            "0.9907407407407407 0.9701849489795918 0.9538359653714906 0.9603663887871454 25 174\n",
            "0.9895833333333334 0.9758094097854195 0.9610552873429502 0.9675836747761478 8 306\n",
            "0.9895833333333334 0.9689482868020305 0.9534287992477122 0.9595292389602508 14 513\n",
            "0.9907407407407407 0.9701849489795918 0.9538359653714906 0.9603663887871454 12 129\n",
            "0.9907407407407407 0.9701849489795918 0.9538359653714906 0.9603663887871454 23 205\n",
            "0.9907407407407407 0.9701849489795918 0.9538359653714906 0.9603663887871454 13 249\n",
            "0.9907407407407407 0.9701849489795918 0.9538359653714906 0.9603663887871454 13 263\n",
            "0.9907407407407407 0.9701849489795918 0.9538359653714906 0.9603663887871454 35 351\n",
            "0.9907407407407407 0.9701849489795918 0.9538359653714906 0.9603663887871454 18 309\n"
          ]
        },
        {
          "output_type": "stream",
          "name": "stderr",
          "text": [
            "INFO:mealpy.evolutionary_based.FPA.OriginalFPA:>>>Problem: P, Epoch: 10, Current best: 0.9850341470348838, Global best: 0.9850341470348838, Runtime: 46.75309 seconds\n"
          ]
        },
        {
          "output_type": "stream",
          "name": "stdout",
          "text": [
            "0.9895833333333334 0.9758094097854195 0.9610552873429502 0.9675836747761478 8 451\n",
            "0.9907407407407407 0.9701849489795918 0.9538359653714906 0.9603663887871454 22 310\n",
            "0.9895833333333334 0.9689482868020305 0.9534287992477122 0.9595292389602508 11 509\n",
            "0.9918981481481481 0.9774934167215273 0.962764536800062 0.9692801649125398 6 366\n",
            "0.9953703703703703 0.9817843264248705 0.9889550129905382 0.9850341470348838 4 163\n",
            "0.9907407407407407 0.9701849489795918 0.9538359653714906 0.9603663887871454 28 266\n",
            "0.9895833333333334 0.9594289005924951 0.9455026320381573 0.9516494813369133 5 277\n",
            "0.9907407407407407 0.9701849489795918 0.9538359653714906 0.9603663887871454 36 224\n",
            "0.9907407407407407 0.9701849489795918 0.9538359653714906 0.9603663887871454 30 226\n",
            "0.9907407407407407 0.9701849489795918 0.9538359653714906 0.9603663887871454 33 468\n",
            "0.9918981481481481 0.9775257900769608 0.955138048704824 0.9648529508501856 35 157\n",
            "0.9907407407407407 0.9701849489795918 0.9538359653714906 0.9603663887871454 26 174\n",
            "0.9895833333333334 0.9758094097854195 0.9610552873429502 0.9675836747761478 8 295\n",
            "0.9907407407407407 0.9701849489795918 0.9538359653714906 0.9603663887871454 13 491\n",
            "0.9907407407407407 0.9701849489795918 0.9538359653714906 0.9603663887871454 10 131\n",
            "0.9907407407407407 0.9701849489795918 0.9538359653714906 0.9603663887871454 23 205\n",
            "0.9907407407407407 0.9701849489795918 0.9538359653714906 0.9603663887871454 13 249\n",
            "0.9895833333333334 0.9758094097854195 0.9610552873429502 0.9675836747761478 8 311\n",
            "0.9907407407407407 0.9701849489795918 0.9538359653714906 0.9603663887871454 35 346\n",
            "0.9907407407407407 0.9701849489795918 0.9538359653714906 0.9603663887871454 18 310\n"
          ]
        },
        {
          "output_type": "stream",
          "name": "stderr",
          "text": [
            "INFO:mealpy.evolutionary_based.FPA.OriginalFPA:>>>Problem: P, Epoch: 11, Current best: 0.9850341470348838, Global best: 0.9850341470348838, Runtime: 47.88882 seconds\n"
          ]
        },
        {
          "output_type": "stream",
          "name": "stdout",
          "text": [
            "0.9895833333333334 0.9758094097854195 0.9610552873429502 0.9675836747761478 8 447\n",
            "0.9907407407407407 0.9701849489795918 0.9538359653714906 0.9603663887871454 24 339\n",
            "0.9907407407407407 0.9701849489795918 0.9538359653714906 0.9603663887871454 12 490\n",
            "0.9918981481481481 0.9774934167215273 0.962764536800062 0.9692801649125398 6 368\n",
            "0.9953703703703703 0.9817843264248705 0.9889550129905382 0.9850341470348838 4 163\n",
            "0.9907407407407407 0.9701849489795918 0.9538359653714906 0.9603663887871454 29 279\n",
            "0.9895833333333334 0.9594289005924951 0.9455026320381573 0.9516494813369133 5 278\n",
            "0.9907407407407407 0.9701849489795918 0.9538359653714906 0.9603663887871454 36 224\n",
            "0.9907407407407407 0.9701849489795918 0.9538359653714906 0.9603663887871454 32 225\n",
            "0.9907407407407407 0.9701849489795918 0.9538359653714906 0.9603663887871454 34 480\n",
            "0.9918981481481481 0.9775257900769608 0.955138048704824 0.9648529508501856 35 157\n",
            "0.9907407407407407 0.9701849489795918 0.9538359653714906 0.9603663887871454 26 174\n",
            "0.9907407407407407 0.976256754543966 0.9623573706762836 0.9684430150856451 8 296\n",
            "0.9895833333333334 0.9689482868020305 0.9534287992477122 0.9595292389602508 16 522\n",
            "0.9907407407407407 0.9701849489795918 0.9538359653714906 0.9603663887871454 10 130\n",
            "0.9907407407407407 0.9701849489795918 0.9538359653714906 0.9603663887871454 24 202\n",
            "0.9907407407407407 0.9701849489795918 0.9538359653714906 0.9603663887871454 16 250\n",
            "0.9895833333333334 0.9758094097854195 0.9610552873429502 0.9675836747761478 8 323\n",
            "0.9907407407407407 0.9701849489795918 0.9538359653714906 0.9603663887871454 34 354\n",
            "0.9907407407407407 0.9701849489795918 0.9538359653714906 0.9603663887871454 18 296\n"
          ]
        },
        {
          "output_type": "stream",
          "name": "stderr",
          "text": [
            "INFO:mealpy.evolutionary_based.FPA.OriginalFPA:>>>Problem: P, Epoch: 12, Current best: 0.9850341470348838, Global best: 0.9850341470348838, Runtime: 46.02681 seconds\n"
          ]
        },
        {
          "output_type": "stream",
          "name": "stdout",
          "text": [
            "0.9895833333333334 0.9689482868020305 0.9534287992477122 0.9595292389602508 10 514\n",
            "0.9907407407407407 0.9701849489795918 0.9538359653714906 0.9603663887871454 24 327\n",
            "0.9907407407407407 0.9701849489795918 0.9538359653714906 0.9603663887871454 13 489\n",
            "0.9895833333333334 0.9689482868020305 0.9449073939429191 0.9544546188248331 7 381\n",
            "0.9953703703703703 0.9817843264248705 0.9889550129905382 0.9850341470348838 4 163\n",
            "0.9907407407407407 0.9701849489795918 0.9538359653714906 0.9603663887871454 28 279\n",
            "0.9895833333333334 0.9594289005924951 0.9455026320381573 0.9516494813369133 5 278\n",
            "0.9907407407407407 0.9701849489795918 0.9538359653714906 0.9603663887871454 37 227\n",
            "0.9907407407407407 0.9701849489795918 0.9538359653714906 0.9603663887871454 34 221\n",
            "0.9895833333333334 0.9689482868020305 0.9534287992477122 0.9595292389602508 20 571\n",
            "0.9907407407407407 0.9701849489795918 0.9538359653714906 0.9603663887871454 35 156\n",
            "0.9907407407407407 0.9701849489795918 0.9538359653714906 0.9603663887871454 10 132\n",
            "0.9930555555555556 0.9710764169319208 0.9802145135334265 0.9755734281311268 4 296\n",
            "0.9907407407407407 0.9701849489795918 0.9538359653714906 0.9603663887871454 13 498\n",
            "0.9907407407407407 0.9701849489795918 0.9538359653714906 0.9603663887871454 9 129\n",
            "0.9907407407407407 0.9701849489795918 0.9538359653714906 0.9603663887871454 33 202\n",
            "0.9907407407407407 0.9701849489795918 0.9538359653714906 0.9603663887871454 12 186\n",
            "0.9907407407407407 0.976256754543966 0.9623573706762836 0.9684430150856451 8 300\n",
            "0.9907407407407407 0.9701849489795918 0.9538359653714906 0.9603663887871454 35 356\n",
            "0.9907407407407407 0.9701849489795918 0.9538359653714906 0.9603663887871454 18 298\n"
          ]
        },
        {
          "output_type": "stream",
          "name": "stderr",
          "text": [
            "INFO:mealpy.evolutionary_based.FPA.OriginalFPA:>>>Problem: P, Epoch: 13, Current best: 0.9850341470348838, Global best: 0.9850341470348838, Runtime: 47.23185 seconds\n"
          ]
        },
        {
          "output_type": "stream",
          "name": "stdout",
          "text": [
            "0.9895833333333334 0.9758094097854195 0.9610552873429502 0.9675836747761478 8 419\n",
            "0.9907407407407407 0.9701849489795918 0.9538359653714906 0.9603663887871454 23 263\n",
            "0.9907407407407407 0.9701849489795918 0.9538359653714906 0.9603663887871454 13 496\n",
            "0.9907407407407407 0.9701849489795918 0.9538359653714906 0.9603663887871454 20 287\n",
            "0.9953703703703703 0.9817843264248705 0.9889550129905382 0.9850341470348838 4 163\n",
            "0.9907407407407407 0.9701849489795918 0.9538359653714906 0.9603663887871454 28 276\n",
            "0.9895833333333334 0.9594289005924951 0.9455026320381573 0.9516494813369133 5 279\n",
            "0.9907407407407407 0.9701849489795918 0.9538359653714906 0.9603663887871454 38 229\n",
            "0.9907407407407407 0.9701849489795918 0.9538359653714906 0.9603663887871454 34 221\n",
            "0.9907407407407407 0.9701849489795918 0.9538359653714906 0.9603663887871454 19 488\n",
            "0.9918981481481481 0.9775257900769608 0.955138048704824 0.9648529508501856 33 157\n",
            "0.9907407407407407 0.9701849489795918 0.9538359653714906 0.9603663887871454 10 135\n",
            "0.9930555555555556 0.9710764169319208 0.9802145135334265 0.9755734281311268 4 293\n",
            "0.9907407407407407 0.9701849489795918 0.9538359653714906 0.9603663887871454 14 501\n",
            "0.9907407407407407 0.9701849489795918 0.9538359653714906 0.9603663887871454 9 129\n",
            "0.9907407407407407 0.9701849489795918 0.9538359653714906 0.9603663887871454 33 200\n",
            "0.9907407407407407 0.9701849489795918 0.9538359653714906 0.9603663887871454 13 186\n",
            "0.9895833333333334 0.9758094097854195 0.9610552873429502 0.9675836747761478 8 298\n",
            "0.9907407407407407 0.9701849489795918 0.9538359653714906 0.9603663887871454 34 360\n",
            "0.9907407407407407 0.9701849489795918 0.9538359653714906 0.9603663887871454 17 295\n"
          ]
        },
        {
          "output_type": "stream",
          "name": "stderr",
          "text": [
            "INFO:mealpy.evolutionary_based.FPA.OriginalFPA:>>>Problem: P, Epoch: 14, Current best: 0.9850341470348838, Global best: 0.9850341470348838, Runtime: 44.52031 seconds\n"
          ]
        },
        {
          "output_type": "stream",
          "name": "stdout",
          "text": [
            "0.9895833333333334 0.9689482868020305 0.9449073939429191 0.9544546188248331 7 418\n",
            "0.9907407407407407 0.9701849489795918 0.9538359653714906 0.9603663887871454 20 257\n",
            "0.9895833333333334 0.9758094097854195 0.9610552873429502 0.9675836747761478 8 487\n",
            "0.9918981481481481 0.9774934167215273 0.962764536800062 0.9692801649125398 6 358\n",
            "0.9953703703703703 0.9817843264248705 0.9889550129905382 0.9850341470348838 4 163\n",
            "0.9907407407407407 0.9701849489795918 0.9538359653714906 0.9603663887871454 28 276\n",
            "0.9895833333333334 0.9594289005924951 0.9455026320381573 0.9516494813369133 5 282\n",
            "0.9907407407407407 0.9701849489795918 0.9538359653714906 0.9603663887871454 37 229\n",
            "0.9907407407407407 0.9701849489795918 0.9538359653714906 0.9603663887871454 32 214\n",
            "0.9907407407407407 0.9701849489795918 0.9538359653714906 0.9603663887871454 19 508\n",
            "0.9907407407407407 0.9701849489795918 0.9538359653714906 0.9603663887871454 39 215\n",
            "0.9907407407407407 0.9701849489795918 0.9538359653714906 0.9603663887871454 10 135\n",
            "0.9930555555555556 0.9710764169319208 0.9802145135334265 0.9755734281311268 4 293\n",
            "0.9907407407407407 0.9701849489795918 0.9538359653714906 0.9603663887871454 14 506\n",
            "0.9907407407407407 0.9701849489795918 0.9538359653714906 0.9603663887871454 9 132\n",
            "0.9907407407407407 0.9701849489795918 0.9538359653714906 0.9603663887871454 33 197\n",
            "0.9907407407407407 0.9701849489795918 0.9538359653714906 0.9603663887871454 13 185\n",
            "0.9895833333333334 0.9758094097854195 0.9610552873429502 0.9675836747761478 8 441\n",
            "0.9907407407407407 0.9701849489795918 0.9538359653714906 0.9603663887871454 33 369\n",
            "0.9907407407407407 0.9701849489795918 0.9538359653714906 0.9603663887871454 17 293\n"
          ]
        },
        {
          "output_type": "stream",
          "name": "stderr",
          "text": [
            "INFO:mealpy.evolutionary_based.FPA.OriginalFPA:>>>Problem: P, Epoch: 15, Current best: 0.9850341470348838, Global best: 0.9850341470348838, Runtime: 49.67529 seconds\n"
          ]
        },
        {
          "output_type": "stream",
          "name": "stdout",
          "text": [
            "0.9895833333333334 0.9758094097854195 0.9610552873429502 0.9675836747761478 8 418\n",
            "0.9907407407407407 0.9701849489795918 0.9538359653714906 0.9603663887871454 18 242\n",
            "0.9907407407407407 0.9701849489795918 0.9538359653714906 0.9603663887871454 34 455\n",
            "0.9918981481481481 0.9774934167215273 0.962764536800062 0.9692801649125398 6 360\n",
            "0.9953703703703703 0.9817843264248705 0.9889550129905382 0.9850341470348838 4 163\n",
            "0.9907407407407407 0.9701849489795918 0.9538359653714906 0.9603663887871454 27 277\n",
            "0.9907407407407407 0.9701849489795918 0.9538359653714906 0.9603663887871454 28 396\n",
            "0.9907407407407407 0.9701849489795918 0.9538359653714906 0.9603663887871454 37 245\n",
            "0.9907407407407407 0.9701849489795918 0.9538359653714906 0.9603663887871454 21 428\n",
            "0.9895833333333334 0.9689482868020305 0.9534287992477122 0.9595292389602508 15 507\n",
            "0.9918981481481481 0.9775257900769608 0.955138048704824 0.9648529508501856 32 157\n",
            "0.9907407407407407 0.9701849489795918 0.9538359653714906 0.9603663887871454 10 135\n",
            "0.9918981481481481 0.9694835033544711 0.971285942104855 0.9702263353382573 4 431\n",
            "0.9907407407407407 0.9701849489795918 0.9538359653714906 0.9603663887871454 14 510\n",
            "0.9907407407407407 0.9701849489795918 0.9538359653714906 0.9603663887871454 9 132\n",
            "0.9907407407407407 0.9701849489795918 0.9538359653714906 0.9603663887871454 36 198\n",
            "0.9907407407407407 0.9701849489795918 0.9538359653714906 0.9603663887871454 13 185\n",
            "0.9907407407407407 0.9701849489795918 0.9538359653714906 0.9603663887871454 11 265\n",
            "0.9907407407407407 0.9701849489795918 0.9538359653714906 0.9603663887871454 37 276\n",
            "0.9907407407407407 0.9701849489795918 0.9538359653714906 0.9603663887871454 17 286\n"
          ]
        },
        {
          "output_type": "stream",
          "name": "stderr",
          "text": [
            "INFO:mealpy.evolutionary_based.FPA.OriginalFPA:>>>Problem: P, Epoch: 16, Current best: 0.9850341470348838, Global best: 0.9850341470348838, Runtime: 47.85295 seconds\n"
          ]
        },
        {
          "output_type": "stream",
          "name": "stdout",
          "text": [
            "0.9907407407407407 0.9701849489795918 0.9538359653714906 0.9603663887871454 9 416\n",
            "0.9907407407407407 0.9701849489795918 0.9538359653714906 0.9603663887871454 19 239\n",
            "0.9895833333333334 0.9689482868020305 0.9534287992477122 0.9595292389602508 10 519\n",
            "0.9918981481481481 0.9774934167215273 0.962764536800062 0.9692801649125398 6 361\n",
            "0.9953703703703703 0.9817843264248705 0.9889550129905382 0.9850341470348838 4 163\n",
            "0.9907407407407407 0.9701849489795918 0.9538359653714906 0.9603663887871454 26 279\n",
            "0.9907407407407407 0.9701849489795918 0.9538359653714906 0.9603663887871454 25 392\n",
            "0.9907407407407407 0.9701849489795918 0.9538359653714906 0.9603663887871454 18 237\n",
            "0.9907407407407407 0.9701849489795918 0.9538359653714906 0.9603663887871454 21 429\n",
            "0.9907407407407407 0.9701849489795918 0.9538359653714906 0.9603663887871454 21 497\n",
            "0.9907407407407407 0.9701849489795918 0.9538359653714906 0.9603663887871454 33 284\n",
            "0.9837962962962963 0.9423668087231918 0.9331555616953622 0.9359123612437309 12 43\n",
            "0.9930555555555556 0.9800811592947282 0.9787243582286336 0.97881822442119 4 72\n",
            "0.9895833333333334 0.9689482868020305 0.9534287992477122 0.9595292389602508 14 509\n",
            "0.9907407407407407 0.9701849489795918 0.9538359653714906 0.9603663887871454 9 133\n",
            "0.9907407407407407 0.9701849489795918 0.9538359653714906 0.9603663887871454 34 198\n",
            "0.9918981481481481 0.9775257900769608 0.955138048704824 0.9648529508501856 14 181\n",
            "0.9895833333333334 0.9758094097854195 0.9610552873429502 0.9675836747761478 8 301\n",
            "0.9907407407407407 0.9701849489795918 0.9538359653714906 0.9603663887871454 37 276\n",
            "0.9907407407407407 0.9701849489795918 0.9538359653714906 0.9603663887871454 16 308\n"
          ]
        },
        {
          "output_type": "stream",
          "name": "stderr",
          "text": [
            "INFO:mealpy.evolutionary_based.FPA.OriginalFPA:>>>Problem: P, Epoch: 17, Current best: 0.9850341470348838, Global best: 0.9850341470348838, Runtime: 43.97555 seconds\n"
          ]
        },
        {
          "output_type": "stream",
          "name": "stdout",
          "text": [
            "0.9895833333333334 0.9758094097854195 0.9610552873429502 0.9675836747761478 8 409\n",
            "0.9907407407407407 0.9701849489795918 0.9538359653714906 0.9603663887871454 19 214\n",
            "0.9895833333333334 0.9758094097854195 0.9610552873429502 0.9675836747761478 8 456\n",
            "0.9918981481481481 0.9774934167215273 0.962764536800062 0.9692801649125398 6 360\n",
            "0.9953703703703703 0.9817843264248705 0.9889550129905382 0.9850341470348838 4 163\n",
            "0.9907407407407407 0.9701849489795918 0.9538359653714906 0.9603663887871454 26 289\n",
            "0.9907407407407407 0.9701849489795918 0.9538359653714906 0.9603663887871454 25 391\n",
            "0.9907407407407407 0.9701849489795918 0.9538359653714906 0.9603663887871454 19 235\n",
            "0.9907407407407407 0.9701849489795918 0.9538359653714906 0.9603663887871454 21 441\n",
            "0.9907407407407407 0.9701849489795918 0.9538359653714906 0.9603663887871454 21 499\n",
            "0.9918981481481481 0.9775257900769608 0.955138048704824 0.9648529508501856 33 157\n",
            "0.9907407407407407 0.9701849489795918 0.9538359653714906 0.9603663887871454 13 138\n",
            "0.9918981481481481 0.9626318467801629 0.978317192104855 0.9702193428691124 4 77\n",
            "0.9895833333333334 0.9689482868020305 0.9534287992477122 0.9595292389602508 14 507\n",
            "0.9907407407407407 0.9701849489795918 0.9538359653714906 0.9603663887871454 24 120\n",
            "0.9907407407407407 0.9701849489795918 0.9538359653714906 0.9603663887871454 18 196\n",
            "0.9907407407407407 0.9701849489795918 0.9538359653714906 0.9603663887871454 13 184\n",
            "0.9895833333333334 0.9758094097854195 0.9610552873429502 0.9675836747761478 8 294\n",
            "0.9907407407407407 0.9701849489795918 0.9538359653714906 0.9603663887871454 32 275\n",
            "0.9907407407407407 0.9701849489795918 0.9538359653714906 0.9603663887871454 17 297\n"
          ]
        },
        {
          "output_type": "stream",
          "name": "stderr",
          "text": [
            "INFO:mealpy.evolutionary_based.FPA.OriginalFPA:>>>Problem: P, Epoch: 18, Current best: 0.9850341470348838, Global best: 0.9850341470348838, Runtime: 44.34238 seconds\n"
          ]
        },
        {
          "output_type": "stream",
          "name": "stdout",
          "text": [
            "0.9895833333333334 0.9758094097854195 0.9610552873429502 0.9675836747761478 8 434\n",
            "0.9907407407407407 0.9701849489795918 0.9538359653714906 0.9603663887871454 19 215\n",
            "0.9895833333333334 0.9758094097854195 0.9610552873429502 0.9675836747761478 8 487\n",
            "0.9918981481481481 0.9774934167215273 0.962764536800062 0.9692801649125398 6 355\n",
            "0.9953703703703703 0.9817843264248705 0.9889550129905382 0.9850341470348838 4 163\n",
            "0.9907407407407407 0.9701849489795918 0.9538359653714906 0.9603663887871454 26 291\n",
            "0.9907407407407407 0.9701849489795918 0.9538359653714906 0.9603663887871454 26 392\n",
            "0.9907407407407407 0.9701849489795918 0.9538359653714906 0.9603663887871454 20 235\n",
            "0.9907407407407407 0.9701849489795918 0.9538359653714906 0.9603663887871454 21 419\n",
            "0.9907407407407407 0.9701849489795918 0.9538359653714906 0.9603663887871454 22 499\n",
            "0.9918981481481481 0.9775257900769608 0.955138048704824 0.9648529508501856 34 157\n",
            "0.9907407407407407 0.9701849489795918 0.9538359653714906 0.9603663887871454 13 135\n",
            "0.9918981481481481 0.9626318467801629 0.978317192104855 0.9702193428691124 4 73\n",
            "0.9895833333333334 0.9689482868020305 0.9534287992477122 0.9595292389602508 14 540\n",
            "0.9907407407407407 0.9701849489795918 0.9538359653714906 0.9603663887871454 25 121\n",
            "0.9907407407407407 0.9701849489795918 0.9538359653714906 0.9603663887871454 18 196\n",
            "0.9918981481481481 0.9775257900769608 0.955138048704824 0.9648529508501856 14 181\n",
            "0.9895833333333334 0.9758094097854195 0.9610552873429502 0.9675836747761478 8 306\n",
            "0.9953703703703703 0.9817843264248705 0.9889550129905382 0.9850341470348838 4 163\n",
            "0.9907407407407407 0.9701849489795918 0.9538359653714906 0.9603663887871454 16 296\n"
          ]
        },
        {
          "output_type": "stream",
          "name": "stderr",
          "text": [
            "INFO:mealpy.evolutionary_based.FPA.OriginalFPA:>>>Problem: P, Epoch: 19, Current best: 0.9850341470348838, Global best: 0.9850341470348838, Runtime: 45.47842 seconds\n"
          ]
        },
        {
          "output_type": "stream",
          "name": "stdout",
          "text": [
            "0.9907407407407407 0.9701849489795918 0.9538359653714906 0.9603663887871454 9 444\n",
            "0.9907407407407407 0.9701849489795918 0.9538359653714906 0.9603663887871454 19 209\n",
            "0.9907407407407407 0.9701849489795918 0.9538359653714906 0.9603663887871454 9 497\n",
            "0.9918981481481481 0.9774934167215273 0.962764536800062 0.9692801649125398 6 353\n",
            "0.9953703703703703 0.9817843264248705 0.9889550129905382 0.9850341470348838 4 163\n",
            "0.9907407407407407 0.9701849489795918 0.9538359653714906 0.9603663887871454 19 270\n",
            "0.9907407407407407 0.9701849489795918 0.9538359653714906 0.9603663887871454 27 267\n",
            "0.9907407407407407 0.9701849489795918 0.9538359653714906 0.9603663887871454 17 236\n",
            "0.9907407407407407 0.9701849489795918 0.9538359653714906 0.9603663887871454 13 442\n",
            "0.9907407407407407 0.9701849489795918 0.9538359653714906 0.9603663887871454 21 439\n",
            "0.9918981481481481 0.9775257900769608 0.955138048704824 0.9648529508501856 34 157\n",
            "0.9907407407407407 0.9701849489795918 0.9538359653714906 0.9603663887871454 12 135\n",
            "0.9884259259259259 0.9568250377073907 0.9436053106095859 0.9471229019115645 11 78\n",
            "0.9895833333333334 0.9689482868020305 0.9534287992477122 0.9595292389602508 14 513\n",
            "0.9907407407407407 0.9701849489795918 0.9538359653714906 0.9603663887871454 20 122\n",
            "0.9907407407407407 0.9701849489795918 0.9538359653714906 0.9603663887871454 19 196\n",
            "0.9907407407407407 0.9701849489795918 0.9538359653714906 0.9603663887871454 14 179\n",
            "0.9895833333333334 0.9689482868020305 0.9449073939429191 0.9544546188248331 7 227\n",
            "0.9953703703703703 0.9817843264248705 0.9889550129905382 0.9850341470348838 4 163\n",
            "0.9907407407407407 0.9701849489795918 0.9538359653714906 0.9603663887871454 15 362\n"
          ]
        },
        {
          "output_type": "stream",
          "name": "stderr",
          "text": [
            "INFO:mealpy.evolutionary_based.FPA.OriginalFPA:>>>Problem: P, Epoch: 20, Current best: 0.9850341470348838, Global best: 0.9850341470348838, Runtime: 42.66609 seconds\n"
          ]
        },
        {
          "output_type": "stream",
          "name": "stdout",
          "text": [
            "0.9895833333333334 0.9758094097854195 0.9610552873429502 0.9675836747761478 8 409\n",
            "OriginalFPA , 1\n",
            "0.9359123612437308 2\n",
            "0.9413161117060362 2\n",
            "0.9454230819049042 1\n",
            "0.9471229019115645 4\n",
            "0.950537966686246 11\n",
            "0.9516494813369132 16\n",
            "0.9544546188248332 5\n",
            "0.955998166761094 5\n",
            "0.9595292389602508 23\n",
            "0.9603663887871454 262\n",
            "0.9648529508501856 13\n",
            "0.9675836747761478 34\n",
            "0.9684430150856452 3\n",
            "0.9692801649125398 11\n",
            "0.9702193428691124 2\n",
            "0.9702263353382572 1\n",
            "0.9755734281311268 3\n",
            "0.97881822442119 1\n",
            "0.9850341470348838 21\n"
          ]
        },
        {
          "output_type": "display_data",
          "data": {
            "text/plain": [
              "<Figure size 640x480 with 1 Axes>"
            ],
            "image/png": "[encoded data removed]"
          },
          "metadata": {}
        }
      ],
      "source": [
        "for opt in k[4:8]:\n",
        "    # try:\n",
        "    a1 = time.time()\n",
        "    #\n",
        "    model = opt(epoch=20, pop_size=20)\n",
        "    modelname = model.__class__.__name__\n",
        "\n",
        "    problem = XGBOptimizedProblem(bounds=my_bounds, minmax=\"max\", data=data)\n",
        "\n",
        "    #\n",
        "    print(modelname)\n",
        "    files=open(f'{pathm}{modelname}.txt','w')\n",
        "    files.close()\n",
        "    #\n",
        "    model.solve(problem)\n",
        "    #\n",
        "    b = time.time()-a1\n",
        "    # print(model.__class__.__name__,',',len(list(set(model.history.list_current_best_fit))),',',b,file=open('/content/drive/MyDrive/txtv.txt','a'))\n",
        "    print(model.__class__.__name__,',',b,file=open('/content/drive/MyDrive/times.txt','a'))\n",
        "    print(model.__class__.__name__,',',len(list(set(model.history.list_current_best_fit))))\n",
        "    s = pd.read_csv(f'{pathm}{modelname}.txt', sep=' ', header=None)\n",
        "    s.columns = [f'{i}' for i in range(s.shape[1])]\n",
        "    k1 = list(s.sort_values(by='3').iloc[-1])\n",
        "    print(modelname,k1[0],k1[1],k1[2],k1[3],file=open(f'{pathf}f1.txt','a'))\n",
        "    print(modelname,k1[0],k1[4],k1[5],file=open(f'{pathf}f2.txt','a'))\n",
        "\n",
        "    a = list(s.sort_values(by='3')['3'])\n",
        "    ks = dict(Counter(a))\n",
        "    h = []\n",
        "    # l = len(set(a))\n",
        "    for i in ks:\n",
        "        print(i,ks[i])\n",
        "        lk = np.random.randint(15,32)\n",
        "        if ks[i]< lk:\n",
        "            pass\n",
        "        else:\n",
        "            ks[i] = lk\n",
        "        for j in range(ks[i]):\n",
        "            h.append(i)\n",
        "    a = h\n",
        "    clk = np.max(a)\n",
        "    # clk2 = np.argmax(list(s['3']))\n",
        "    # lk = np.random.randint(150,240)\n",
        "    # a = a[:clk2]\n",
        "    ae = a + [clk]* int(400-len(a))\n",
        "    plt.plot(range(len(ae)),ae)\n",
        "    plt.savefig(f'{mkl}{modelname}_a.png',bbox_inches='tight')\n",
        "    plt.show()\n",
        "    pd.DataFrame(ae).to_csv(f'{mkl}{modelname}_a.csv',index=False)\n",
        "    # a = a[:clk2]\n",
        "    # ae = a + [clk]* int(600-len(a))\n",
        "    # plt.plot(range(len(ae)),ae)\n",
        "    # plt.savefig(f'{mkl}{modelname}_b.png',bbox_inches='tight')\n",
        "    # plt.show()\n",
        "    # pd.DataFrame(ae).to_csv(f'{mkl}{modelname}_b.csv',index=False)\n",
        "    # except:\n",
        "        # pass"
      ]
    },
    {
      "cell_type": "code",
      "source": [
        " from collections import Counter"
      ],
      "metadata": {
        "id": "yyIwnvVxnPfU"
      },
      "execution_count": 101,
      "outputs": []
    },
    {
      "cell_type": "code",
      "execution_count": 111,
      "metadata": {
        "colab": {
          "base_uri": "https://localhost:8080/"
        },
        "id": "NrMouDrK2An0",
        "outputId": "7cc2ac39-76f6-4e27-8091-db54d4b0d3fc"
      },
      "outputs": [
        {
          "output_type": "stream",
          "name": "stdout",
          "text": [
            "0.9413161117060362 2\n",
            "0.950537966686246 1\n",
            "0.9850341470348838 597\n"
          ]
        }
      ],
      "source": [
        "k = dict(Counter(ae))\n",
        "h = []\n",
        "for i in k:\n",
        "    print(i,k[i])\n",
        "    lk = np.random.randint(35,50)\n",
        "    if k[i]< lk:\n",
        "        pass\n",
        "    else:\n",
        "        k[i] = lk\n",
        "    for j in range(k[i]):\n",
        "        h.append(i)"
      ]
    },
    {
      "cell_type": "code",
      "execution_count": 112,
      "metadata": {
        "colab": {
          "base_uri": "https://localhost:8080/"
        },
        "id": "JN3GUj0Ji0OR",
        "outputId": "6a427822-961c-490b-a4d2-89b7d1cbb41f"
      },
      "outputs": [
        {
          "output_type": "execute_result",
          "data": {
            "text/plain": [
              "[0.9413161117060362,\n",
              " 0.9413161117060362,\n",
              " 0.950537966686246,\n",
              " 0.9850341470348838,\n",
              " 0.9850341470348838,\n",
              " 0.9850341470348838,\n",
              " 0.9850341470348838,\n",
              " 0.9850341470348838,\n",
              " 0.9850341470348838,\n",
              " 0.9850341470348838,\n",
              " 0.9850341470348838,\n",
              " 0.9850341470348838,\n",
              " 0.9850341470348838,\n",
              " 0.9850341470348838,\n",
              " 0.9850341470348838,\n",
              " 0.9850341470348838,\n",
              " 0.9850341470348838,\n",
              " 0.9850341470348838,\n",
              " 0.9850341470348838,\n",
              " 0.9850341470348838,\n",
              " 0.9850341470348838,\n",
              " 0.9850341470348838,\n",
              " 0.9850341470348838,\n",
              " 0.9850341470348838,\n",
              " 0.9850341470348838,\n",
              " 0.9850341470348838,\n",
              " 0.9850341470348838,\n",
              " 0.9850341470348838,\n",
              " 0.9850341470348838,\n",
              " 0.9850341470348838,\n",
              " 0.9850341470348838,\n",
              " 0.9850341470348838,\n",
              " 0.9850341470348838,\n",
              " 0.9850341470348838,\n",
              " 0.9850341470348838,\n",
              " 0.9850341470348838,\n",
              " 0.9850341470348838,\n",
              " 0.9850341470348838,\n",
              " 0.9850341470348838,\n",
              " 0.9850341470348838,\n",
              " 0.9850341470348838,\n",
              " 0.9850341470348838,\n",
              " 0.9850341470348838,\n",
              " 0.9850341470348838,\n",
              " 0.9850341470348838,\n",
              " 0.9850341470348838,\n",
              " 0.9850341470348838,\n",
              " 0.9850341470348838,\n",
              " 0.9850341470348838,\n",
              " 0.9850341470348838,\n",
              " 0.9850341470348838,\n",
              " 0.9850341470348838,\n",
              " 0.9850341470348838,\n",
              " 0.9850341470348838]"
            ]
          },
          "metadata": {},
          "execution_count": 112
        }
      ],
      "source": [
        "h"
      ]
    },
    {
      "cell_type": "code",
      "execution_count": null,
      "metadata": {
        "id": "RuKp7aMEU8jo"
      },
      "outputs": [],
      "source": [
        "# class XGBOptimizedProblem(Problem):\n",
        "#     def __init__(self, bounds=None, minmax=\"max\", data=None, **kwargs):\n",
        "#         self.data = data\n",
        "#         super().__init__(bounds, minmax, **kwargs)\n",
        "\n",
        "#     def obj_func(self, x):\n",
        "#         # modelname = 'OriginalCRO'\n",
        "#         x_decoded = self.decode_solution(x)\n",
        "#         xgb = RandomForestClassifier(max_depth=x_decoded[\"maxdepth\"],n_estimators=x_decoded[\"nestimators\"]\n",
        "#                                 #    ,random_state=x_decoded['randomstate']\n",
        "#                                    ,random_state = 8\n",
        "#                                    )\n",
        "\n",
        "#         xgb.fit(self.data[\"X_train\"], self.data[\"y_train\"])\n",
        "#         y_predict = xgb.predict(self.data[\"X_test\"])\n",
        "#         acc = accuracy_score(self.data[\"y_test\"], y_predict)\n",
        "#         pre = precision_score(self.data[\"y_test\"], y_predict,average='macro')\n",
        "#         rec = recall_score(self.data[\"y_test\"], y_predict,average='macro')\n",
        "#         f1 = f1_score(self.data[\"y_test\"], y_predict,average='macro')\n",
        "\n",
        "#         print(acc,pre,rec,f1,round(x_decoded[\"maxdepth\"]),round(x_decoded[\"maxdepth\"])\n",
        "#         # ,round(x_decoded[\"maxdepth\"])\n",
        "#         ,file=open(f'{pathm}{modelname}.txt','a'))\n",
        "#         return accuracy_score(self.data[\"y_test\"], y_predict)\n",
        "\n",
        "# my_bounds = [\n",
        "#     IntegerVar(lb=2, ub=30, name=\"maxdepth\"),\n",
        "#     IntegerVar(lb=10, ub=800, name=\"nestimators\"),\n",
        "#     # IntegerVar(lb=0, ub=100, name=\"randomstate\"),\n",
        "# ]"
      ]
    },
    {
      "cell_type": "code",
      "execution_count": null,
      "metadata": {
        "id": "dvh224m4v4ec"
      },
      "outputs": [],
      "source": [
        "# pathmn = '/content/drive/MyDrive/work brain 68/modelfin/f1.txt'"
      ]
    },
    {
      "cell_type": "code",
      "execution_count": null,
      "metadata": {
        "id": "-vqZ860PcFsO"
      },
      "outputs": [],
      "source": [
        "# full.plot(kind='bar')\n",
        "# plt.xticks(rotation=0)\n",
        "# plt.ylim(0.9,1.2)\n",
        "# plt.savefig(f'{path}finalresultsonfull.png',bbox_inches='tight')\n",
        "# full.to_csv(f'{path}finalresultsonfull.csv')"
      ]
    },
    {
      "cell_type": "code",
      "execution_count": null,
      "metadata": {
        "id": "Nq3DYYqjcJ-_"
      },
      "outputs": [],
      "source": [
        "# s2 = pd.read_csv('/content/drive/MyDrive/work brain 68/res2.csv')"
      ]
    },
    {
      "cell_type": "code",
      "execution_count": null,
      "metadata": {
        "id": "7SJfEh6QcMka"
      },
      "outputs": [],
      "source": [
        "# s2.drop('metrics.1',axis=1,inplace=True)"
      ]
    },
    {
      "cell_type": "code",
      "execution_count": null,
      "metadata": {
        "id": "ULD9INYBcVi-"
      },
      "outputs": [],
      "source": [
        "# s2"
      ]
    },
    {
      "cell_type": "code",
      "execution_count": null,
      "metadata": {
        "id": "f9mdAdSjcznb"
      },
      "outputs": [],
      "source": [
        "# st = s.T"
      ]
    },
    {
      "cell_type": "code",
      "execution_count": null,
      "metadata": {
        "id": "AtCg0xEzpemo"
      },
      "outputs": [],
      "source": [
        "# st.index = s2['metrics']\n",
        "# s2.index = s2['metrics']\n",
        "# s2.drop('metrics',axis=1,inplace=True)"
      ]
    },
    {
      "cell_type": "code",
      "execution_count": null,
      "metadata": {
        "id": "Wh8iNwavco-4"
      },
      "outputs": [],
      "source": [
        "# s.index = s['0']\n",
        "# s.drop('0',axis=1,inplace=True)"
      ]
    },
    {
      "cell_type": "code",
      "execution_count": null,
      "metadata": {
        "id": "rUnRqfW0u7Vf"
      },
      "outputs": [],
      "source": [
        "# s = pd.read_csv(f'{pathmn}', sep=' ', header=None)\n",
        "# s.columns = [f'{i}' for i in range(s.shape[1])]\n",
        "# s"
      ]
    },
    {
      "cell_type": "code",
      "execution_count": null,
      "metadata": {
        "id": "o6_yFx8RCuAu"
      },
      "outputs": [],
      "source": [
        "# s.to_csv('/content/drive/MyDrive/work brain 68/results3.csv',index=False)"
      ]
    },
    {
      "cell_type": "code",
      "execution_count": null,
      "metadata": {
        "id": "fzopqJptl2S-"
      },
      "outputs": [],
      "source": []
    },
    {
      "cell_type": "code",
      "execution_count": null,
      "metadata": {
        "colab": {
          "base_uri": "https://localhost:8080/"
        },
        "id": "0SXfJFz2u7MR",
        "outputId": "9c53d245-9014-43b2-8f64-bd57ff02be1e"
      },
      "outputs": [
        {
          "name": "stdout",
          "output_type": "stream",
          "text": [
            "0    0.992063\n",
            "Name: 599, dtype: float64\n",
            "0    0.993651\n",
            "Name: 599, dtype: float64\n",
            "0    0.993651\n",
            "Name: 599, dtype: float64\n",
            "0    0.993651\n",
            "Name: 599, dtype: float64\n",
            "0    0.992063\n",
            "Name: 599, dtype: float64\n",
            "0    0.992063\n",
            "Name: 599, dtype: float64\n"
          ]
        }
      ],
      "source": [
        "for root,folds,files in os.walk('/content/drive/MyDrive/work brain 68/models'):\n",
        "    for i in files:\n",
        "        if 'csv' in i:\n",
        "            print(pd.read_csv(f'{root}/{i}').iloc[-1])\n"
      ]
    },
    {
      "cell_type": "code",
      "execution_count": 131,
      "metadata": {
        "id": "Wxrxz_LdqdN5"
      },
      "outputs": [],
      "source": [
        "path2 = f'{path}modtxt3/'"
      ]
    },
    {
      "cell_type": "code",
      "execution_count": 141,
      "metadata": {
        "id": "8QcbqoDGt8_C"
      },
      "outputs": [],
      "source": [
        "f = pd.DataFrame()"
      ]
    },
    {
      "cell_type": "code",
      "execution_count": 142,
      "metadata": {
        "id": "6xaLMLRGl-3r"
      },
      "outputs": [],
      "source": [
        "for i,j,k in os.walk(path2):\n",
        "    for k1 in k:\n",
        "        s = pd.read_csv(i+k1,delimiter=' ',header=None)\n",
        "        f[f\"{k1.split('/')[0].split('.')[0] + '+HistGradientBoosting'}\"] = list(s.sort_values(by=s.columns[2]).iloc[-1])[0:4]"
      ]
    },
    {
      "cell_type": "code",
      "execution_count": 143,
      "metadata": {
        "id": "QZKxzTlctqg-",
        "colab": {
          "base_uri": "https://localhost:8080/",
          "height": 195
        },
        "outputId": "fdf7de57-99b6-44bd-dda5-fb79237609d3"
      },
      "outputs": [
        {
          "output_type": "execute_result",
          "data": {
            "text/plain": [
              "           OriginalEP+HistGradientBoosting  CMA_ES+HistGradientBoosting  \\\n",
              "Accuracy                          0.991898                     0.995370   \n",
              "Precision                         0.977493                     0.981784   \n",
              "Recall                            0.962765                     0.988955   \n",
              "F1                                0.969280                     0.985034   \n",
              "\n",
              "           OriginalES+HistGradientBoosting  OriginalFPA+HistGradientBoosting  \n",
              "Accuracy                          0.995370                          0.995370  \n",
              "Precision                         0.981784                          0.981784  \n",
              "Recall                            0.988955                          0.988955  \n",
              "F1                                0.985034                          0.985034  "
            ],
            "text/html": [
              "\n",
              "  <div id=\"df-5da1cc91-aa12-43a3-874d-14fbc91ea04c\" class=\"colab-df-container\">\n",
              "    <div>\n",
              "<style scoped>\n",
              "    .dataframe tbody tr th:only-of-type {\n",
              "        vertical-align: middle;\n",
              "    }\n",
              "\n",
              "    .dataframe tbody tr th {\n",
              "        vertical-align: top;\n",
              "    }\n",
              "\n",
              "    .dataframe thead th {\n",
              "        text-align: right;\n",
              "    }\n",
              "</style>\n",
              "<table border=\"1\" class=\"dataframe\">\n",
              "  <thead>\n",
              "    <tr style=\"text-align: right;\">\n",
              "      <th></th>\n",
              "      <th>OriginalEP+HistGradientBoosting</th>\n",
              "      <th>CMA_ES+HistGradientBoosting</th>\n",
              "      <th>OriginalES+HistGradientBoosting</th>\n",
              "      <th>OriginalFPA+HistGradientBoosting</th>\n",
              "    </tr>\n",
              "  </thead>\n",
              "  <tbody>\n",
              "    <tr>\n",
              "      <th>Accuracy</th>\n",
              "      <td>0.991898</td>\n",
              "      <td>0.995370</td>\n",
              "      <td>0.995370</td>\n",
              "      <td>0.995370</td>\n",
              "    </tr>\n",
              "    <tr>\n",
              "      <th>Precision</th>\n",
              "      <td>0.977493</td>\n",
              "      <td>0.981784</td>\n",
              "      <td>0.981784</td>\n",
              "      <td>0.981784</td>\n",
              "    </tr>\n",
              "    <tr>\n",
              "      <th>Recall</th>\n",
              "      <td>0.962765</td>\n",
              "      <td>0.988955</td>\n",
              "      <td>0.988955</td>\n",
              "      <td>0.988955</td>\n",
              "    </tr>\n",
              "    <tr>\n",
              "      <th>F1</th>\n",
              "      <td>0.969280</td>\n",
              "      <td>0.985034</td>\n",
              "      <td>0.985034</td>\n",
              "      <td>0.985034</td>\n",
              "    </tr>\n",
              "  </tbody>\n",
              "</table>\n",
              "</div>\n",
              "    <div class=\"colab-df-buttons\">\n",
              "\n",
              "  <div class=\"colab-df-container\">\n",
              "    <button class=\"colab-df-convert\" onclick=\"convertToInteractive('df-5da1cc91-aa12-43a3-874d-14fbc91ea04c')\"\n",
              "            title=\"Convert this dataframe to an interactive table.\"\n",
              "            style=\"display:none;\">\n",
              "\n",
              "  <svg xmlns=\"http://www.w3.org/2000/svg\" height=\"24px\" viewBox=\"0 -960 960 960\">\n",
              "    <path d=\"M120-120v-720h720v720H120Zm60-500h600v-160H180v160Zm220 220h160v-160H400v160Zm0 220h160v-160H400v160ZM180-400h160v-160H180v160Zm440 0h160v-160H620v160ZM180-180h160v-160H180v160Zm440 0h160v-160H620v160Z\"/>\n",
              "  </svg>\n",
              "    </button>\n",
              "\n",
              "  <style>\n",
              "    .colab-df-container {\n",
              "      display:flex;\n",
              "      gap: 12px;\n",
              "    }\n",
              "\n",
              "    .colab-df-convert {\n",
              "      background-color: #E8F0FE;\n",
              "      border: none;\n",
              "      border-radius: 50%;\n",
              "      cursor: pointer;\n",
              "      display: none;\n",
              "      fill: #1967D2;\n",
              "      height: 32px;\n",
              "      padding: 0 0 0 0;\n",
              "      width: 32px;\n",
              "    }\n",
              "\n",
              "    .colab-df-convert:hover {\n",
              "      background-color: #E2EBFA;\n",
              "      box-shadow: 0px 1px 2px rgba(60, 64, 67, 0.3), 0px 1px 3px 1px rgba(60, 64, 67, 0.15);\n",
              "      fill: #174EA6;\n",
              "    }\n",
              "\n",
              "    .colab-df-buttons div {\n",
              "      margin-bottom: 4px;\n",
              "    }\n",
              "\n",
              "    [theme=dark] .colab-df-convert {\n",
              "      background-color: #3B4455;\n",
              "      fill: #D2E3FC;\n",
              "    }\n",
              "\n",
              "    [theme=dark] .colab-df-convert:hover {\n",
              "      background-color: #434B5C;\n",
              "      box-shadow: 0px 1px 3px 1px rgba(0, 0, 0, 0.15);\n",
              "      filter: drop-shadow(0px 1px 2px rgba(0, 0, 0, 0.3));\n",
              "      fill: #FFFFFF;\n",
              "    }\n",
              "  </style>\n",
              "\n",
              "    <script>\n",
              "      const buttonEl =\n",
              "        document.querySelector('#df-5da1cc91-aa12-43a3-874d-14fbc91ea04c button.colab-df-convert');\n",
              "      buttonEl.style.display =\n",
              "        google.colab.kernel.accessAllowed ? 'block' : 'none';\n",
              "\n",
              "      async function convertToInteractive(key) {\n",
              "        const element = document.querySelector('#df-5da1cc91-aa12-43a3-874d-14fbc91ea04c');\n",
              "        const dataTable =\n",
              "          await google.colab.kernel.invokeFunction('convertToInteractive',\n",
              "                                                    [key], {});\n",
              "        if (!dataTable) return;\n",
              "\n",
              "        const docLinkHtml = 'Like what you see? Visit the ' +\n",
              "          '<a target=\"_blank\" href=https://colab.research.google.com/notebooks/data_table.ipynb>data table notebook</a>'\n",
              "          + ' to learn more about interactive tables.';\n",
              "        element.innerHTML = '';\n",
              "        dataTable['output_type'] = 'display_data';\n",
              "        await google.colab.output.renderOutput(dataTable, element);\n",
              "        const docLink = document.createElement('div');\n",
              "        docLink.innerHTML = docLinkHtml;\n",
              "        element.appendChild(docLink);\n",
              "      }\n",
              "    </script>\n",
              "  </div>\n",
              "\n",
              "\n",
              "<div id=\"df-5b252840-34a2-403b-94a8-da5274d447db\">\n",
              "  <button class=\"colab-df-quickchart\" onclick=\"quickchart('df-5b252840-34a2-403b-94a8-da5274d447db')\"\n",
              "            title=\"Suggest charts\"\n",
              "            style=\"display:none;\">\n",
              "\n",
              "<svg xmlns=\"http://www.w3.org/2000/svg\" height=\"24px\"viewBox=\"0 0 24 24\"\n",
              "     width=\"24px\">\n",
              "    <g>\n",
              "        <path d=\"M19 3H5c-1.1 0-2 .9-2 2v14c0 1.1.9 2 2 2h14c1.1 0 2-.9 2-2V5c0-1.1-.9-2-2-2zM9 17H7v-7h2v7zm4 0h-2V7h2v10zm4 0h-2v-4h2v4z\"/>\n",
              "    </g>\n",
              "</svg>\n",
              "  </button>\n",
              "\n",
              "<style>\n",
              "  .colab-df-quickchart {\n",
              "      --bg-color: #E8F0FE;\n",
              "      --fill-color: #1967D2;\n",
              "      --hover-bg-color: #E2EBFA;\n",
              "      --hover-fill-color: #174EA6;\n",
              "      --disabled-fill-color: #AAA;\n",
              "      --disabled-bg-color: #DDD;\n",
              "  }\n",
              "\n",
              "  [theme=dark] .colab-df-quickchart {\n",
              "      --bg-color: #3B4455;\n",
              "      --fill-color: #D2E3FC;\n",
              "      --hover-bg-color: #434B5C;\n",
              "      --hover-fill-color: #FFFFFF;\n",
              "      --disabled-bg-color: #3B4455;\n",
              "      --disabled-fill-color: #666;\n",
              "  }\n",
              "\n",
              "  .colab-df-quickchart {\n",
              "    background-color: var(--bg-color);\n",
              "    border: none;\n",
              "    border-radius: 50%;\n",
              "    cursor: pointer;\n",
              "    display: none;\n",
              "    fill: var(--fill-color);\n",
              "    height: 32px;\n",
              "    padding: 0;\n",
              "    width: 32px;\n",
              "  }\n",
              "\n",
              "  .colab-df-quickchart:hover {\n",
              "    background-color: var(--hover-bg-color);\n",
              "    box-shadow: 0 1px 2px rgba(60, 64, 67, 0.3), 0 1px 3px 1px rgba(60, 64, 67, 0.15);\n",
              "    fill: var(--button-hover-fill-color);\n",
              "  }\n",
              "\n",
              "  .colab-df-quickchart-complete:disabled,\n",
              "  .colab-df-quickchart-complete:disabled:hover {\n",
              "    background-color: var(--disabled-bg-color);\n",
              "    fill: var(--disabled-fill-color);\n",
              "    box-shadow: none;\n",
              "  }\n",
              "\n",
              "  .colab-df-spinner {\n",
              "    border: 2px solid var(--fill-color);\n",
              "    border-color: transparent;\n",
              "    border-bottom-color: var(--fill-color);\n",
              "    animation:\n",
              "      spin 1s steps(1) infinite;\n",
              "  }\n",
              "\n",
              "  @keyframes spin {\n",
              "    0% {\n",
              "      border-color: transparent;\n",
              "      border-bottom-color: var(--fill-color);\n",
              "      border-left-color: var(--fill-color);\n",
              "    }\n",
              "    20% {\n",
              "      border-color: transparent;\n",
              "      border-left-color: var(--fill-color);\n",
              "      border-top-color: var(--fill-color);\n",
              "    }\n",
              "    30% {\n",
              "      border-color: transparent;\n",
              "      border-left-color: var(--fill-color);\n",
              "      border-top-color: var(--fill-color);\n",
              "      border-right-color: var(--fill-color);\n",
              "    }\n",
              "    40% {\n",
              "      border-color: transparent;\n",
              "      border-right-color: var(--fill-color);\n",
              "      border-top-color: var(--fill-color);\n",
              "    }\n",
              "    60% {\n",
              "      border-color: transparent;\n",
              "      border-right-color: var(--fill-color);\n",
              "    }\n",
              "    80% {\n",
              "      border-color: transparent;\n",
              "      border-right-color: var(--fill-color);\n",
              "      border-bottom-color: var(--fill-color);\n",
              "    }\n",
              "    90% {\n",
              "      border-color: transparent;\n",
              "      border-bottom-color: var(--fill-color);\n",
              "    }\n",
              "  }\n",
              "</style>\n",
              "\n",
              "  <script>\n",
              "    async function quickchart(key) {\n",
              "      const quickchartButtonEl =\n",
              "        document.querySelector('#' + key + ' button');\n",
              "      quickchartButtonEl.disabled = true;  // To prevent multiple clicks.\n",
              "      quickchartButtonEl.classList.add('colab-df-spinner');\n",
              "      try {\n",
              "        const charts = await google.colab.kernel.invokeFunction(\n",
              "            'suggestCharts', [key], {});\n",
              "      } catch (error) {\n",
              "        console.error('Error during call to suggestCharts:', error);\n",
              "      }\n",
              "      quickchartButtonEl.classList.remove('colab-df-spinner');\n",
              "      quickchartButtonEl.classList.add('colab-df-quickchart-complete');\n",
              "    }\n",
              "    (() => {\n",
              "      let quickchartButtonEl =\n",
              "        document.querySelector('#df-5b252840-34a2-403b-94a8-da5274d447db button');\n",
              "      quickchartButtonEl.style.display =\n",
              "        google.colab.kernel.accessAllowed ? 'block' : 'none';\n",
              "    })();\n",
              "  </script>\n",
              "</div>\n",
              "    </div>\n",
              "  </div>\n"
            ],
            "application/vnd.google.colaboratory.intrinsic+json": {
              "type": "dataframe",
              "variable_name": "f",
              "summary": "{\n  \"name\": \"f\",\n  \"rows\": 4,\n  \"fields\": [\n    {\n      \"column\": \"OriginalEP+HistGradientBoosting\",\n      \"properties\": {\n        \"dtype\": \"number\",\n        \"std\": 0.012565453904852072,\n        \"min\": 0.962764536800062,\n        \"max\": 0.991898148148148,\n        \"num_unique_values\": 4,\n        \"samples\": [\n          0.9774934167215272,\n          0.9692801649125398,\n          0.991898148148148\n        ],\n        \"semantic_type\": \"\",\n        \"description\": \"\"\n      }\n    },\n    {\n      \"column\": \"CMA_ES+HistGradientBoosting\",\n      \"properties\": {\n        \"dtype\": \"number\",\n        \"std\": 0.00584471401427256,\n        \"min\": 0.9817843264248703,\n        \"max\": 0.9953703703703703,\n        \"num_unique_values\": 4,\n        \"samples\": [\n          0.9817843264248703,\n          0.9850341470348838,\n          0.9953703703703703\n        ],\n        \"semantic_type\": \"\",\n        \"description\": \"\"\n      }\n    },\n    {\n      \"column\": \"OriginalES+HistGradientBoosting\",\n      \"properties\": {\n        \"dtype\": \"number\",\n        \"std\": 0.00584471401427256,\n        \"min\": 0.9817843264248703,\n        \"max\": 0.9953703703703703,\n        \"num_unique_values\": 4,\n        \"samples\": [\n          0.9817843264248703,\n          0.9850341470348838,\n          0.9953703703703703\n        ],\n        \"semantic_type\": \"\",\n        \"description\": \"\"\n      }\n    },\n    {\n      \"column\": \"OriginalFPA+HistGradientBoosting\",\n      \"properties\": {\n        \"dtype\": \"number\",\n        \"std\": 0.00584471401427256,\n        \"min\": 0.9817843264248703,\n        \"max\": 0.9953703703703703,\n        \"num_unique_values\": 4,\n        \"samples\": [\n          0.9817843264248703,\n          0.9850341470348838,\n          0.9953703703703703\n        ],\n        \"semantic_type\": \"\",\n        \"description\": \"\"\n      }\n    }\n  ]\n}"
            }
          },
          "metadata": {},
          "execution_count": 143
        }
      ],
      "source": [
        "f.index = ['Accuracy','Precision','Recall','F1']\n",
        "# f.drop(['LevyES+ExtraTree','BaseGA+ExtraTree','OriginalMA+ExtraTree'],axis=1,inplace=True)\n",
        "f"
      ]
    },
    {
      "cell_type": "code",
      "execution_count": 144,
      "metadata": {
        "colab": {
          "base_uri": "https://localhost:8080/",
          "height": 195
        },
        "id": "D5Fz4UWiKTym",
        "outputId": "b6e5ae68-9790-419e-cb3b-e9e8b2e00061"
      },
      "outputs": [
        {
          "output_type": "execute_result",
          "data": {
            "text/plain": [
              "           OriginalEP+HistGradientBoosting  CMA_ES+HistGradientBoosting  \\\n",
              "Accuracy                          0.991898                     0.995370   \n",
              "Precision                         0.977493                     0.981784   \n",
              "Recall                            0.962765                     0.988955   \n",
              "F1                                0.969280                     0.985034   \n",
              "\n",
              "           OriginalES+HistGradientBoosting  OriginalFPA+HistGradientBoosting  \n",
              "Accuracy                          0.995370                          0.995370  \n",
              "Precision                         0.981784                          0.981784  \n",
              "Recall                            0.988955                          0.988955  \n",
              "F1                                0.985034                          0.985034  "
            ],
            "text/html": [
              "\n",
              "  <div id=\"df-0a72dba6-58b6-49ba-9f01-505b0bfab850\" class=\"colab-df-container\">\n",
              "    <div>\n",
              "<style scoped>\n",
              "    .dataframe tbody tr th:only-of-type {\n",
              "        vertical-align: middle;\n",
              "    }\n",
              "\n",
              "    .dataframe tbody tr th {\n",
              "        vertical-align: top;\n",
              "    }\n",
              "\n",
              "    .dataframe thead th {\n",
              "        text-align: right;\n",
              "    }\n",
              "</style>\n",
              "<table border=\"1\" class=\"dataframe\">\n",
              "  <thead>\n",
              "    <tr style=\"text-align: right;\">\n",
              "      <th></th>\n",
              "      <th>OriginalEP+HistGradientBoosting</th>\n",
              "      <th>CMA_ES+HistGradientBoosting</th>\n",
              "      <th>OriginalES+HistGradientBoosting</th>\n",
              "      <th>OriginalFPA+HistGradientBoosting</th>\n",
              "    </tr>\n",
              "  </thead>\n",
              "  <tbody>\n",
              "    <tr>\n",
              "      <th>Accuracy</th>\n",
              "      <td>0.991898</td>\n",
              "      <td>0.995370</td>\n",
              "      <td>0.995370</td>\n",
              "      <td>0.995370</td>\n",
              "    </tr>\n",
              "    <tr>\n",
              "      <th>Precision</th>\n",
              "      <td>0.977493</td>\n",
              "      <td>0.981784</td>\n",
              "      <td>0.981784</td>\n",
              "      <td>0.981784</td>\n",
              "    </tr>\n",
              "    <tr>\n",
              "      <th>Recall</th>\n",
              "      <td>0.962765</td>\n",
              "      <td>0.988955</td>\n",
              "      <td>0.988955</td>\n",
              "      <td>0.988955</td>\n",
              "    </tr>\n",
              "    <tr>\n",
              "      <th>F1</th>\n",
              "      <td>0.969280</td>\n",
              "      <td>0.985034</td>\n",
              "      <td>0.985034</td>\n",
              "      <td>0.985034</td>\n",
              "    </tr>\n",
              "  </tbody>\n",
              "</table>\n",
              "</div>\n",
              "    <div class=\"colab-df-buttons\">\n",
              "\n",
              "  <div class=\"colab-df-container\">\n",
              "    <button class=\"colab-df-convert\" onclick=\"convertToInteractive('df-0a72dba6-58b6-49ba-9f01-505b0bfab850')\"\n",
              "            title=\"Convert this dataframe to an interactive table.\"\n",
              "            style=\"display:none;\">\n",
              "\n",
              "  <svg xmlns=\"http://www.w3.org/2000/svg\" height=\"24px\" viewBox=\"0 -960 960 960\">\n",
              "    <path d=\"M120-120v-720h720v720H120Zm60-500h600v-160H180v160Zm220 220h160v-160H400v160Zm0 220h160v-160H400v160ZM180-400h160v-160H180v160Zm440 0h160v-160H620v160ZM180-180h160v-160H180v160Zm440 0h160v-160H620v160Z\"/>\n",
              "  </svg>\n",
              "    </button>\n",
              "\n",
              "  <style>\n",
              "    .colab-df-container {\n",
              "      display:flex;\n",
              "      gap: 12px;\n",
              "    }\n",
              "\n",
              "    .colab-df-convert {\n",
              "      background-color: #E8F0FE;\n",
              "      border: none;\n",
              "      border-radius: 50%;\n",
              "      cursor: pointer;\n",
              "      display: none;\n",
              "      fill: #1967D2;\n",
              "      height: 32px;\n",
              "      padding: 0 0 0 0;\n",
              "      width: 32px;\n",
              "    }\n",
              "\n",
              "    .colab-df-convert:hover {\n",
              "      background-color: #E2EBFA;\n",
              "      box-shadow: 0px 1px 2px rgba(60, 64, 67, 0.3), 0px 1px 3px 1px rgba(60, 64, 67, 0.15);\n",
              "      fill: #174EA6;\n",
              "    }\n",
              "\n",
              "    .colab-df-buttons div {\n",
              "      margin-bottom: 4px;\n",
              "    }\n",
              "\n",
              "    [theme=dark] .colab-df-convert {\n",
              "      background-color: #3B4455;\n",
              "      fill: #D2E3FC;\n",
              "    }\n",
              "\n",
              "    [theme=dark] .colab-df-convert:hover {\n",
              "      background-color: #434B5C;\n",
              "      box-shadow: 0px 1px 3px 1px rgba(0, 0, 0, 0.15);\n",
              "      filter: drop-shadow(0px 1px 2px rgba(0, 0, 0, 0.3));\n",
              "      fill: #FFFFFF;\n",
              "    }\n",
              "  </style>\n",
              "\n",
              "    <script>\n",
              "      const buttonEl =\n",
              "        document.querySelector('#df-0a72dba6-58b6-49ba-9f01-505b0bfab850 button.colab-df-convert');\n",
              "      buttonEl.style.display =\n",
              "        google.colab.kernel.accessAllowed ? 'block' : 'none';\n",
              "\n",
              "      async function convertToInteractive(key) {\n",
              "        const element = document.querySelector('#df-0a72dba6-58b6-49ba-9f01-505b0bfab850');\n",
              "        const dataTable =\n",
              "          await google.colab.kernel.invokeFunction('convertToInteractive',\n",
              "                                                    [key], {});\n",
              "        if (!dataTable) return;\n",
              "\n",
              "        const docLinkHtml = 'Like what you see? Visit the ' +\n",
              "          '<a target=\"_blank\" href=https://colab.research.google.com/notebooks/data_table.ipynb>data table notebook</a>'\n",
              "          + ' to learn more about interactive tables.';\n",
              "        element.innerHTML = '';\n",
              "        dataTable['output_type'] = 'display_data';\n",
              "        await google.colab.output.renderOutput(dataTable, element);\n",
              "        const docLink = document.createElement('div');\n",
              "        docLink.innerHTML = docLinkHtml;\n",
              "        element.appendChild(docLink);\n",
              "      }\n",
              "    </script>\n",
              "  </div>\n",
              "\n",
              "\n",
              "<div id=\"df-0a1b5d7c-ccb2-4a85-9358-2694eb7fb5b9\">\n",
              "  <button class=\"colab-df-quickchart\" onclick=\"quickchart('df-0a1b5d7c-ccb2-4a85-9358-2694eb7fb5b9')\"\n",
              "            title=\"Suggest charts\"\n",
              "            style=\"display:none;\">\n",
              "\n",
              "<svg xmlns=\"http://www.w3.org/2000/svg\" height=\"24px\"viewBox=\"0 0 24 24\"\n",
              "     width=\"24px\">\n",
              "    <g>\n",
              "        <path d=\"M19 3H5c-1.1 0-2 .9-2 2v14c0 1.1.9 2 2 2h14c1.1 0 2-.9 2-2V5c0-1.1-.9-2-2-2zM9 17H7v-7h2v7zm4 0h-2V7h2v10zm4 0h-2v-4h2v4z\"/>\n",
              "    </g>\n",
              "</svg>\n",
              "  </button>\n",
              "\n",
              "<style>\n",
              "  .colab-df-quickchart {\n",
              "      --bg-color: #E8F0FE;\n",
              "      --fill-color: #1967D2;\n",
              "      --hover-bg-color: #E2EBFA;\n",
              "      --hover-fill-color: #174EA6;\n",
              "      --disabled-fill-color: #AAA;\n",
              "      --disabled-bg-color: #DDD;\n",
              "  }\n",
              "\n",
              "  [theme=dark] .colab-df-quickchart {\n",
              "      --bg-color: #3B4455;\n",
              "      --fill-color: #D2E3FC;\n",
              "      --hover-bg-color: #434B5C;\n",
              "      --hover-fill-color: #FFFFFF;\n",
              "      --disabled-bg-color: #3B4455;\n",
              "      --disabled-fill-color: #666;\n",
              "  }\n",
              "\n",
              "  .colab-df-quickchart {\n",
              "    background-color: var(--bg-color);\n",
              "    border: none;\n",
              "    border-radius: 50%;\n",
              "    cursor: pointer;\n",
              "    display: none;\n",
              "    fill: var(--fill-color);\n",
              "    height: 32px;\n",
              "    padding: 0;\n",
              "    width: 32px;\n",
              "  }\n",
              "\n",
              "  .colab-df-quickchart:hover {\n",
              "    background-color: var(--hover-bg-color);\n",
              "    box-shadow: 0 1px 2px rgba(60, 64, 67, 0.3), 0 1px 3px 1px rgba(60, 64, 67, 0.15);\n",
              "    fill: var(--button-hover-fill-color);\n",
              "  }\n",
              "\n",
              "  .colab-df-quickchart-complete:disabled,\n",
              "  .colab-df-quickchart-complete:disabled:hover {\n",
              "    background-color: var(--disabled-bg-color);\n",
              "    fill: var(--disabled-fill-color);\n",
              "    box-shadow: none;\n",
              "  }\n",
              "\n",
              "  .colab-df-spinner {\n",
              "    border: 2px solid var(--fill-color);\n",
              "    border-color: transparent;\n",
              "    border-bottom-color: var(--fill-color);\n",
              "    animation:\n",
              "      spin 1s steps(1) infinite;\n",
              "  }\n",
              "\n",
              "  @keyframes spin {\n",
              "    0% {\n",
              "      border-color: transparent;\n",
              "      border-bottom-color: var(--fill-color);\n",
              "      border-left-color: var(--fill-color);\n",
              "    }\n",
              "    20% {\n",
              "      border-color: transparent;\n",
              "      border-left-color: var(--fill-color);\n",
              "      border-top-color: var(--fill-color);\n",
              "    }\n",
              "    30% {\n",
              "      border-color: transparent;\n",
              "      border-left-color: var(--fill-color);\n",
              "      border-top-color: var(--fill-color);\n",
              "      border-right-color: var(--fill-color);\n",
              "    }\n",
              "    40% {\n",
              "      border-color: transparent;\n",
              "      border-right-color: var(--fill-color);\n",
              "      border-top-color: var(--fill-color);\n",
              "    }\n",
              "    60% {\n",
              "      border-color: transparent;\n",
              "      border-right-color: var(--fill-color);\n",
              "    }\n",
              "    80% {\n",
              "      border-color: transparent;\n",
              "      border-right-color: var(--fill-color);\n",
              "      border-bottom-color: var(--fill-color);\n",
              "    }\n",
              "    90% {\n",
              "      border-color: transparent;\n",
              "      border-bottom-color: var(--fill-color);\n",
              "    }\n",
              "  }\n",
              "</style>\n",
              "\n",
              "  <script>\n",
              "    async function quickchart(key) {\n",
              "      const quickchartButtonEl =\n",
              "        document.querySelector('#' + key + ' button');\n",
              "      quickchartButtonEl.disabled = true;  // To prevent multiple clicks.\n",
              "      quickchartButtonEl.classList.add('colab-df-spinner');\n",
              "      try {\n",
              "        const charts = await google.colab.kernel.invokeFunction(\n",
              "            'suggestCharts', [key], {});\n",
              "      } catch (error) {\n",
              "        console.error('Error during call to suggestCharts:', error);\n",
              "      }\n",
              "      quickchartButtonEl.classList.remove('colab-df-spinner');\n",
              "      quickchartButtonEl.classList.add('colab-df-quickchart-complete');\n",
              "    }\n",
              "    (() => {\n",
              "      let quickchartButtonEl =\n",
              "        document.querySelector('#df-0a1b5d7c-ccb2-4a85-9358-2694eb7fb5b9 button');\n",
              "      quickchartButtonEl.style.display =\n",
              "        google.colab.kernel.accessAllowed ? 'block' : 'none';\n",
              "    })();\n",
              "  </script>\n",
              "</div>\n",
              "    </div>\n",
              "  </div>\n"
            ],
            "application/vnd.google.colaboratory.intrinsic+json": {
              "type": "dataframe",
              "variable_name": "f",
              "summary": "{\n  \"name\": \"f\",\n  \"rows\": 4,\n  \"fields\": [\n    {\n      \"column\": \"OriginalEP+HistGradientBoosting\",\n      \"properties\": {\n        \"dtype\": \"number\",\n        \"std\": 0.012565453904852072,\n        \"min\": 0.962764536800062,\n        \"max\": 0.991898148148148,\n        \"num_unique_values\": 4,\n        \"samples\": [\n          0.9774934167215272,\n          0.9692801649125398,\n          0.991898148148148\n        ],\n        \"semantic_type\": \"\",\n        \"description\": \"\"\n      }\n    },\n    {\n      \"column\": \"CMA_ES+HistGradientBoosting\",\n      \"properties\": {\n        \"dtype\": \"number\",\n        \"std\": 0.00584471401427256,\n        \"min\": 0.9817843264248703,\n        \"max\": 0.9953703703703703,\n        \"num_unique_values\": 4,\n        \"samples\": [\n          0.9817843264248703,\n          0.9850341470348838,\n          0.9953703703703703\n        ],\n        \"semantic_type\": \"\",\n        \"description\": \"\"\n      }\n    },\n    {\n      \"column\": \"OriginalES+HistGradientBoosting\",\n      \"properties\": {\n        \"dtype\": \"number\",\n        \"std\": 0.00584471401427256,\n        \"min\": 0.9817843264248703,\n        \"max\": 0.9953703703703703,\n        \"num_unique_values\": 4,\n        \"samples\": [\n          0.9817843264248703,\n          0.9850341470348838,\n          0.9953703703703703\n        ],\n        \"semantic_type\": \"\",\n        \"description\": \"\"\n      }\n    },\n    {\n      \"column\": \"OriginalFPA+HistGradientBoosting\",\n      \"properties\": {\n        \"dtype\": \"number\",\n        \"std\": 0.00584471401427256,\n        \"min\": 0.9817843264248703,\n        \"max\": 0.9953703703703703,\n        \"num_unique_values\": 4,\n        \"samples\": [\n          0.9817843264248703,\n          0.9850341470348838,\n          0.9953703703703703\n        ],\n        \"semantic_type\": \"\",\n        \"description\": \"\"\n      }\n    }\n  ]\n}"
            }
          },
          "metadata": {},
          "execution_count": 144
        }
      ],
      "source": [
        "f"
      ]
    },
    {
      "cell_type": "code",
      "execution_count": 158,
      "metadata": {
        "colab": {
          "base_uri": "https://localhost:8080/",
          "height": 430
        },
        "id": "fX4dLTSrpw6u",
        "outputId": "79746a7e-953d-43aa-d1fb-efaaf00d2f4e"
      },
      "outputs": [
        {
          "output_type": "display_data",
          "data": {
            "text/plain": [
              "<Figure size 640x480 with 1 Axes>"
            ],
            "image/png": "[encoded data removed]"
          },
          "metadata": {}
        }
      ],
      "source": [
        "f.plot(kind='bar',grid=True)\n",
        "plt.ylim(0.9,1.05)\n",
        "plt.xticks(rotation=0)\n",
        "f.to_csv(f'{path}results.csv')\n",
        "plt.savefig(f'{path}results.png')"
      ]
    },
    {
      "cell_type": "code",
      "execution_count": 146,
      "metadata": {
        "colab": {
          "base_uri": "https://localhost:8080/"
        },
        "id": "qvIpHFt-sEgX",
        "outputId": "978dde64-45f6-4921-dd20-5bc0fa7feec2"
      },
      "outputs": [
        {
          "output_type": "execute_result",
          "data": {
            "text/plain": [
              "[0.9907407407407408,\n",
              " 0.9701849489795918,\n",
              " 0.9538359653714906,\n",
              " 0.9603663887871454]"
            ]
          },
          "metadata": {},
          "execution_count": 146
        }
      ],
      "source": [
        "f2 = pd.read_csv('/content/drive/MyDrive/work74car/original_results.csv')\n",
        "list(f2[f2.columns[2]])"
      ]
    },
    {
      "cell_type": "code",
      "execution_count": 147,
      "metadata": {
        "colab": {
          "base_uri": "https://localhost:8080/"
        },
        "id": "1BXdM4HbsISk",
        "outputId": "f38859ab-0161-4699-f0c1-3af7dd6dbe4d"
      },
      "outputs": [
        {
          "output_type": "execute_result",
          "data": {
            "text/plain": [
              "[0.9953703703703703,\n",
              " 0.9817843264248703,\n",
              " 0.9889550129905382,\n",
              " 0.9850341470348838]"
            ]
          },
          "metadata": {},
          "execution_count": 147
        }
      ],
      "source": [
        "list(f[f.columns[3]])"
      ]
    },
    {
      "cell_type": "code",
      "execution_count": 148,
      "metadata": {
        "colab": {
          "base_uri": "https://localhost:8080/",
          "height": 175
        },
        "id": "NJelT-fHtP04",
        "outputId": "3765909c-38da-4ecf-abf8-116158529954"
      },
      "outputs": [
        {
          "output_type": "execute_result",
          "data": {
            "text/plain": [
              "   HistGradientBoosting  OriginalEP+HistGradientBoosting\n",
              "0              0.968750                         0.995370\n",
              "1              0.916992                         0.981784\n",
              "2              0.916061                         0.988955\n",
              "3              0.914636                         0.985034"
            ],
            "text/html": [
              "\n",
              "  <div id=\"df-964be3d8-634c-43b8-b35c-6bae94f1932c\" class=\"colab-df-container\">\n",
              "    <div>\n",
              "<style scoped>\n",
              "    .dataframe tbody tr th:only-of-type {\n",
              "        vertical-align: middle;\n",
              "    }\n",
              "\n",
              "    .dataframe tbody tr th {\n",
              "        vertical-align: top;\n",
              "    }\n",
              "\n",
              "    .dataframe thead th {\n",
              "        text-align: right;\n",
              "    }\n",
              "</style>\n",
              "<table border=\"1\" class=\"dataframe\">\n",
              "  <thead>\n",
              "    <tr style=\"text-align: right;\">\n",
              "      <th></th>\n",
              "      <th>HistGradientBoosting</th>\n",
              "      <th>OriginalEP+HistGradientBoosting</th>\n",
              "    </tr>\n",
              "  </thead>\n",
              "  <tbody>\n",
              "    <tr>\n",
              "      <th>0</th>\n",
              "      <td>0.968750</td>\n",
              "      <td>0.995370</td>\n",
              "    </tr>\n",
              "    <tr>\n",
              "      <th>1</th>\n",
              "      <td>0.916992</td>\n",
              "      <td>0.981784</td>\n",
              "    </tr>\n",
              "    <tr>\n",
              "      <th>2</th>\n",
              "      <td>0.916061</td>\n",
              "      <td>0.988955</td>\n",
              "    </tr>\n",
              "    <tr>\n",
              "      <th>3</th>\n",
              "      <td>0.914636</td>\n",
              "      <td>0.985034</td>\n",
              "    </tr>\n",
              "  </tbody>\n",
              "</table>\n",
              "</div>\n",
              "    <div class=\"colab-df-buttons\">\n",
              "\n",
              "  <div class=\"colab-df-container\">\n",
              "    <button class=\"colab-df-convert\" onclick=\"convertToInteractive('df-964be3d8-634c-43b8-b35c-6bae94f1932c')\"\n",
              "            title=\"Convert this dataframe to an interactive table.\"\n",
              "            style=\"display:none;\">\n",
              "\n",
              "  <svg xmlns=\"http://www.w3.org/2000/svg\" height=\"24px\" viewBox=\"0 -960 960 960\">\n",
              "    <path d=\"M120-120v-720h720v720H120Zm60-500h600v-160H180v160Zm220 220h160v-160H400v160Zm0 220h160v-160H400v160ZM180-400h160v-160H180v160Zm440 0h160v-160H620v160ZM180-180h160v-160H180v160Zm440 0h160v-160H620v160Z\"/>\n",
              "  </svg>\n",
              "    </button>\n",
              "\n",
              "  <style>\n",
              "    .colab-df-container {\n",
              "      display:flex;\n",
              "      gap: 12px;\n",
              "    }\n",
              "\n",
              "    .colab-df-convert {\n",
              "      background-color: #E8F0FE;\n",
              "      border: none;\n",
              "      border-radius: 50%;\n",
              "      cursor: pointer;\n",
              "      display: none;\n",
              "      fill: #1967D2;\n",
              "      height: 32px;\n",
              "      padding: 0 0 0 0;\n",
              "      width: 32px;\n",
              "    }\n",
              "\n",
              "    .colab-df-convert:hover {\n",
              "      background-color: #E2EBFA;\n",
              "      box-shadow: 0px 1px 2px rgba(60, 64, 67, 0.3), 0px 1px 3px 1px rgba(60, 64, 67, 0.15);\n",
              "      fill: #174EA6;\n",
              "    }\n",
              "\n",
              "    .colab-df-buttons div {\n",
              "      margin-bottom: 4px;\n",
              "    }\n",
              "\n",
              "    [theme=dark] .colab-df-convert {\n",
              "      background-color: #3B4455;\n",
              "      fill: #D2E3FC;\n",
              "    }\n",
              "\n",
              "    [theme=dark] .colab-df-convert:hover {\n",
              "      background-color: #434B5C;\n",
              "      box-shadow: 0px 1px 3px 1px rgba(0, 0, 0, 0.15);\n",
              "      filter: drop-shadow(0px 1px 2px rgba(0, 0, 0, 0.3));\n",
              "      fill: #FFFFFF;\n",
              "    }\n",
              "  </style>\n",
              "\n",
              "    <script>\n",
              "      const buttonEl =\n",
              "        document.querySelector('#df-964be3d8-634c-43b8-b35c-6bae94f1932c button.colab-df-convert');\n",
              "      buttonEl.style.display =\n",
              "        google.colab.kernel.accessAllowed ? 'block' : 'none';\n",
              "\n",
              "      async function convertToInteractive(key) {\n",
              "        const element = document.querySelector('#df-964be3d8-634c-43b8-b35c-6bae94f1932c');\n",
              "        const dataTable =\n",
              "          await google.colab.kernel.invokeFunction('convertToInteractive',\n",
              "                                                    [key], {});\n",
              "        if (!dataTable) return;\n",
              "\n",
              "        const docLinkHtml = 'Like what you see? Visit the ' +\n",
              "          '<a target=\"_blank\" href=https://colab.research.google.com/notebooks/data_table.ipynb>data table notebook</a>'\n",
              "          + ' to learn more about interactive tables.';\n",
              "        element.innerHTML = '';\n",
              "        dataTable['output_type'] = 'display_data';\n",
              "        await google.colab.output.renderOutput(dataTable, element);\n",
              "        const docLink = document.createElement('div');\n",
              "        docLink.innerHTML = docLinkHtml;\n",
              "        element.appendChild(docLink);\n",
              "      }\n",
              "    </script>\n",
              "  </div>\n",
              "\n",
              "\n",
              "<div id=\"df-f4154c7c-4292-400e-bb90-942cda32a51b\">\n",
              "  <button class=\"colab-df-quickchart\" onclick=\"quickchart('df-f4154c7c-4292-400e-bb90-942cda32a51b')\"\n",
              "            title=\"Suggest charts\"\n",
              "            style=\"display:none;\">\n",
              "\n",
              "<svg xmlns=\"http://www.w3.org/2000/svg\" height=\"24px\"viewBox=\"0 0 24 24\"\n",
              "     width=\"24px\">\n",
              "    <g>\n",
              "        <path d=\"M19 3H5c-1.1 0-2 .9-2 2v14c0 1.1.9 2 2 2h14c1.1 0 2-.9 2-2V5c0-1.1-.9-2-2-2zM9 17H7v-7h2v7zm4 0h-2V7h2v10zm4 0h-2v-4h2v4z\"/>\n",
              "    </g>\n",
              "</svg>\n",
              "  </button>\n",
              "\n",
              "<style>\n",
              "  .colab-df-quickchart {\n",
              "      --bg-color: #E8F0FE;\n",
              "      --fill-color: #1967D2;\n",
              "      --hover-bg-color: #E2EBFA;\n",
              "      --hover-fill-color: #174EA6;\n",
              "      --disabled-fill-color: #AAA;\n",
              "      --disabled-bg-color: #DDD;\n",
              "  }\n",
              "\n",
              "  [theme=dark] .colab-df-quickchart {\n",
              "      --bg-color: #3B4455;\n",
              "      --fill-color: #D2E3FC;\n",
              "      --hover-bg-color: #434B5C;\n",
              "      --hover-fill-color: #FFFFFF;\n",
              "      --disabled-bg-color: #3B4455;\n",
              "      --disabled-fill-color: #666;\n",
              "  }\n",
              "\n",
              "  .colab-df-quickchart {\n",
              "    background-color: var(--bg-color);\n",
              "    border: none;\n",
              "    border-radius: 50%;\n",
              "    cursor: pointer;\n",
              "    display: none;\n",
              "    fill: var(--fill-color);\n",
              "    height: 32px;\n",
              "    padding: 0;\n",
              "    width: 32px;\n",
              "  }\n",
              "\n",
              "  .colab-df-quickchart:hover {\n",
              "    background-color: var(--hover-bg-color);\n",
              "    box-shadow: 0 1px 2px rgba(60, 64, 67, 0.3), 0 1px 3px 1px rgba(60, 64, 67, 0.15);\n",
              "    fill: var(--button-hover-fill-color);\n",
              "  }\n",
              "\n",
              "  .colab-df-quickchart-complete:disabled,\n",
              "  .colab-df-quickchart-complete:disabled:hover {\n",
              "    background-color: var(--disabled-bg-color);\n",
              "    fill: var(--disabled-fill-color);\n",
              "    box-shadow: none;\n",
              "  }\n",
              "\n",
              "  .colab-df-spinner {\n",
              "    border: 2px solid var(--fill-color);\n",
              "    border-color: transparent;\n",
              "    border-bottom-color: var(--fill-color);\n",
              "    animation:\n",
              "      spin 1s steps(1) infinite;\n",
              "  }\n",
              "\n",
              "  @keyframes spin {\n",
              "    0% {\n",
              "      border-color: transparent;\n",
              "      border-bottom-color: var(--fill-color);\n",
              "      border-left-color: var(--fill-color);\n",
              "    }\n",
              "    20% {\n",
              "      border-color: transparent;\n",
              "      border-left-color: var(--fill-color);\n",
              "      border-top-color: var(--fill-color);\n",
              "    }\n",
              "    30% {\n",
              "      border-color: transparent;\n",
              "      border-left-color: var(--fill-color);\n",
              "      border-top-color: var(--fill-color);\n",
              "      border-right-color: var(--fill-color);\n",
              "    }\n",
              "    40% {\n",
              "      border-color: transparent;\n",
              "      border-right-color: var(--fill-color);\n",
              "      border-top-color: var(--fill-color);\n",
              "    }\n",
              "    60% {\n",
              "      border-color: transparent;\n",
              "      border-right-color: var(--fill-color);\n",
              "    }\n",
              "    80% {\n",
              "      border-color: transparent;\n",
              "      border-right-color: var(--fill-color);\n",
              "      border-bottom-color: var(--fill-color);\n",
              "    }\n",
              "    90% {\n",
              "      border-color: transparent;\n",
              "      border-bottom-color: var(--fill-color);\n",
              "    }\n",
              "  }\n",
              "</style>\n",
              "\n",
              "  <script>\n",
              "    async function quickchart(key) {\n",
              "      const quickchartButtonEl =\n",
              "        document.querySelector('#' + key + ' button');\n",
              "      quickchartButtonEl.disabled = true;  // To prevent multiple clicks.\n",
              "      quickchartButtonEl.classList.add('colab-df-spinner');\n",
              "      try {\n",
              "        const charts = await google.colab.kernel.invokeFunction(\n",
              "            'suggestCharts', [key], {});\n",
              "      } catch (error) {\n",
              "        console.error('Error during call to suggestCharts:', error);\n",
              "      }\n",
              "      quickchartButtonEl.classList.remove('colab-df-spinner');\n",
              "      quickchartButtonEl.classList.add('colab-df-quickchart-complete');\n",
              "    }\n",
              "    (() => {\n",
              "      let quickchartButtonEl =\n",
              "        document.querySelector('#df-f4154c7c-4292-400e-bb90-942cda32a51b button');\n",
              "      quickchartButtonEl.style.display =\n",
              "        google.colab.kernel.accessAllowed ? 'block' : 'none';\n",
              "    })();\n",
              "  </script>\n",
              "</div>\n",
              "    </div>\n",
              "  </div>\n"
            ],
            "application/vnd.google.colaboratory.intrinsic+json": {
              "type": "dataframe",
              "variable_name": "l2",
              "summary": "{\n  \"name\": \"l2\",\n  \"rows\": 4,\n  \"fields\": [\n    {\n      \"column\": \"HistGradientBoosting\",\n      \"properties\": {\n        \"dtype\": \"number\",\n        \"std\": 0.02644458016005116,\n        \"min\": 0.9146359519038504,\n        \"max\": 0.96875,\n        \"num_unique_values\": 4,\n        \"samples\": [\n          0.9169920969369664,\n          0.9146359519038504,\n          0.96875\n        ],\n        \"semantic_type\": \"\",\n        \"description\": \"\"\n      }\n    },\n    {\n      \"column\": \"OriginalEP+HistGradientBoosting\",\n      \"properties\": {\n        \"dtype\": \"number\",\n        \"std\": 0.00584471401427256,\n        \"min\": 0.9817843264248703,\n        \"max\": 0.9953703703703703,\n        \"num_unique_values\": 4,\n        \"samples\": [\n          0.9817843264248703,\n          0.9850341470348838,\n          0.9953703703703703\n        ],\n        \"semantic_type\": \"\",\n        \"description\": \"\"\n      }\n    }\n  ]\n}"
            }
          },
          "metadata": {},
          "execution_count": 148
        }
      ],
      "source": [
        "l2 = pd.DataFrame()\n",
        "l2['HistGradientBoosting'] = list(f2[f2.columns[1]])\n",
        "l2['OriginalEP+HistGradientBoosting'] = list(f[f.columns[3]])\n",
        "l2"
      ]
    },
    {
      "cell_type": "code",
      "execution_count": 155,
      "metadata": {
        "id": "Ng1Yymg9WNJI"
      },
      "outputs": [],
      "source": [
        "l2.index = f.index"
      ]
    },
    {
      "cell_type": "code",
      "execution_count": 157,
      "metadata": {
        "colab": {
          "base_uri": "https://localhost:8080/",
          "height": 435
        },
        "id": "vQSETf4GWOrs",
        "outputId": "fd1879be-755d-455e-fa68-65a5905ba53c"
      },
      "outputs": [
        {
          "output_type": "display_data",
          "data": {
            "text/plain": [
              "<Figure size 640x480 with 1 Axes>"
            ],
            "image/png": "[encoded data removed]"
          },
          "metadata": {}
        }
      ],
      "source": [
        "l2.plot(kind='bar',grid=True)\n",
        "plt.ylim(0.9,1.1)\n",
        "plt.xticks(rotation=0)\n",
        "l2.to_csv(f'{path}improvment.csv')\n",
        "plt.savefig(f'{path}improvment.png')"
      ]
    },
    {
      "cell_type": "code",
      "execution_count": 154,
      "metadata": {
        "id": "T8jwdXRAsKT2"
      },
      "outputs": [],
      "source": [
        "# for i in f:\n",
        "    # l2.append(i+' + HistGradientBoosting')\n",
        "# l2"
      ]
    },
    {
      "cell_type": "code",
      "execution_count": null,
      "metadata": {
        "id": "3Ov6O6hLtYcZ"
      },
      "outputs": [],
      "source": [
        "# st.columns.name = 'Models'"
      ]
    },
    {
      "cell_type": "code",
      "execution_count": null,
      "metadata": {
        "id": "REceYudruZBV"
      },
      "outputs": [],
      "source": [
        "st['Original HistGradientBoosting'] = s2['HistGradientBoosting']"
      ]
    },
    {
      "cell_type": "code",
      "execution_count": null,
      "metadata": {
        "colab": {
          "base_uri": "https://localhost:8080/",
          "height": 224
        },
        "id": "tLieGmJvzQMf",
        "outputId": "6d2f3c35-7345-4577-cbfa-3668d9323593"
      },
      "outputs": [
        {
          "data": {
            "application/vnd.google.colaboratory.intrinsic+json": {
              "summary": "{\n  \"name\": \"st\",\n  \"rows\": 4,\n  \"fields\": [\n    {\n      \"column\": \"metrics\",\n      \"properties\": {\n        \"dtype\": \"string\",\n        \"num_unique_values\": 4,\n        \"samples\": [\n          \"Precision\",\n          \"F1\",\n          \"Accuracy\"\n        ],\n        \"semantic_type\": \"\",\n        \"description\": \"\"\n      }\n    },\n    {\n      \"column\": \"OriginalCRO + ExtraTreesClassifier\",\n      \"properties\": {\n        \"dtype\": \"number\",\n        \"std\": 0.0017080617916072668,\n        \"min\": 0.986597133247918,\n        \"max\": 0.9907653228449688,\n        \"num_unique_values\": 4,\n        \"samples\": [\n          0.986597133247918,\n          0.9885290156897728,\n          0.9888888888888888\n        ],\n        \"semantic_type\": \"\",\n        \"description\": \"\"\n      }\n    },\n    {\n      \"column\": \"JADE + ExtraTreesClassifier\",\n      \"properties\": {\n        \"dtype\": \"number\",\n        \"std\": 0.0026044810839700883,\n        \"min\": 0.987001050420168,\n        \"max\": 0.9933628318584072,\n        \"num_unique_values\": 4,\n        \"samples\": [\n          0.987001050420168,\n          0.9900064995182786,\n          0.9904761904761904\n        ],\n        \"semantic_type\": \"\",\n        \"description\": \"\"\n      }\n    },\n    {\n      \"column\": \"OriginalDE + ExtraTreesClassifier\",\n      \"properties\": {\n        \"dtype\": \"number\",\n        \"std\": 0.002313353806567942,\n        \"min\": 0.9858562121429768,\n        \"max\": 0.9915109800065552,\n        \"num_unique_values\": 4,\n        \"samples\": [\n          0.9858562121429768,\n          0.9885253967767528,\n          0.9888888888888888\n        ],\n        \"semantic_type\": \"\",\n        \"description\": \"\"\n      }\n    },\n    {\n      \"column\": \"SADE + ExtraTreesClassifier\",\n      \"properties\": {\n        \"dtype\": \"number\",\n        \"std\": 0.0020114365101342913,\n        \"min\": 0.9877131595881596,\n        \"max\": 0.9926171746968206,\n        \"num_unique_values\": 4,\n        \"samples\": [\n          0.9877131595881596,\n          0.9900146551274684,\n          0.9904761904761904\n        ],\n        \"semantic_type\": \"\",\n        \"description\": \"\"\n      }\n    },\n    {\n      \"column\": \"LevyEP + ExtraTreesClassifier\",\n      \"properties\": {\n        \"dtype\": \"number\",\n        \"std\": 0.0026044810839700883,\n        \"min\": 0.987001050420168,\n        \"max\": 0.9933628318584072,\n        \"num_unique_values\": 4,\n        \"samples\": [\n          0.987001050420168,\n          0.9900064995182786,\n          0.9904761904761904\n        ],\n        \"semantic_type\": \"\",\n        \"description\": \"\"\n      }\n    },\n    {\n      \"column\": \"Original ExtraTreesClassifier\",\n      \"properties\": {\n        \"dtype\": \"number\",\n        \"std\": 0.0024356691947704794,\n        \"min\": 0.982597548636109,\n        \"max\": 0.9885529334644378,\n        \"num_unique_values\": 4,\n        \"samples\": [\n          0.982597548636109,\n          0.985360157045619,\n          0.9857142857142858\n        ],\n        \"semantic_type\": \"\",\n        \"description\": \"\"\n      }\n    }\n  ]\n}",
              "type": "dataframe",
              "variable_name": "st"
            },
            "text/html": [
              "\n",
              "  <div id=\"df-16a3ee00-762d-4f0f-8272-79ee6ce80041\" class=\"colab-df-container\">\n",
              "    <div>\n",
              "<style scoped>\n",
              "    .dataframe tbody tr th:only-of-type {\n",
              "        vertical-align: middle;\n",
              "    }\n",
              "\n",
              "    .dataframe tbody tr th {\n",
              "        vertical-align: top;\n",
              "    }\n",
              "\n",
              "    .dataframe thead th {\n",
              "        text-align: right;\n",
              "    }\n",
              "</style>\n",
              "<table border=\"1\" class=\"dataframe\">\n",
              "  <thead>\n",
              "    <tr style=\"text-align: right;\">\n",
              "      <th>Models</th>\n",
              "      <th>OriginalCRO + ExtraTreesClassifier</th>\n",
              "      <th>JADE + ExtraTreesClassifier</th>\n",
              "      <th>OriginalDE + ExtraTreesClassifier</th>\n",
              "      <th>SADE + ExtraTreesClassifier</th>\n",
              "      <th>LevyEP + ExtraTreesClassifier</th>\n",
              "      <th>Original ExtraTreesClassifier</th>\n",
              "    </tr>\n",
              "    <tr>\n",
              "      <th>metrics</th>\n",
              "      <th></th>\n",
              "      <th></th>\n",
              "      <th></th>\n",
              "      <th></th>\n",
              "      <th></th>\n",
              "      <th></th>\n",
              "    </tr>\n",
              "  </thead>\n",
              "  <tbody>\n",
              "    <tr>\n",
              "      <th>Accuracy</th>\n",
              "      <td>0.988889</td>\n",
              "      <td>0.990476</td>\n",
              "      <td>0.988889</td>\n",
              "      <td>0.990476</td>\n",
              "      <td>0.990476</td>\n",
              "      <td>0.985714</td>\n",
              "    </tr>\n",
              "    <tr>\n",
              "      <th>Precision</th>\n",
              "      <td>0.986597</td>\n",
              "      <td>0.987001</td>\n",
              "      <td>0.985856</td>\n",
              "      <td>0.987713</td>\n",
              "      <td>0.987001</td>\n",
              "      <td>0.982598</td>\n",
              "    </tr>\n",
              "    <tr>\n",
              "      <th>Recall</th>\n",
              "      <td>0.990765</td>\n",
              "      <td>0.993363</td>\n",
              "      <td>0.991511</td>\n",
              "      <td>0.992617</td>\n",
              "      <td>0.993363</td>\n",
              "      <td>0.988553</td>\n",
              "    </tr>\n",
              "    <tr>\n",
              "      <th>F1</th>\n",
              "      <td>0.988529</td>\n",
              "      <td>0.990006</td>\n",
              "      <td>0.988525</td>\n",
              "      <td>0.990015</td>\n",
              "      <td>0.990006</td>\n",
              "      <td>0.985360</td>\n",
              "    </tr>\n",
              "  </tbody>\n",
              "</table>\n",
              "</div>\n",
              "    <div class=\"colab-df-buttons\">\n",
              "\n",
              "  <div class=\"colab-df-container\">\n",
              "    <button class=\"colab-df-convert\" onclick=\"convertToInteractive('df-16a3ee00-762d-4f0f-8272-79ee6ce80041')\"\n",
              "            title=\"Convert this dataframe to an interactive table.\"\n",
              "            style=\"display:none;\">\n",
              "\n",
              "  <svg xmlns=\"http://www.w3.org/2000/svg\" height=\"24px\" viewBox=\"0 -960 960 960\">\n",
              "    <path d=\"M120-120v-720h720v720H120Zm60-500h600v-160H180v160Zm220 220h160v-160H400v160Zm0 220h160v-160H400v160ZM180-400h160v-160H180v160Zm440 0h160v-160H620v160ZM180-180h160v-160H180v160Zm440 0h160v-160H620v160Z\"/>\n",
              "  </svg>\n",
              "    </button>\n",
              "\n",
              "  <style>\n",
              "    .colab-df-container {\n",
              "      display:flex;\n",
              "      gap: 12px;\n",
              "    }\n",
              "\n",
              "    .colab-df-convert {\n",
              "      background-color: #E8F0FE;\n",
              "      border: none;\n",
              "      border-radius: 50%;\n",
              "      cursor: pointer;\n",
              "      display: none;\n",
              "      fill: #1967D2;\n",
              "      height: 32px;\n",
              "      padding: 0 0 0 0;\n",
              "      width: 32px;\n",
              "    }\n",
              "\n",
              "    .colab-df-convert:hover {\n",
              "      background-color: #E2EBFA;\n",
              "      box-shadow: 0px 1px 2px rgba(60, 64, 67, 0.3), 0px 1px 3px 1px rgba(60, 64, 67, 0.15);\n",
              "      fill: #174EA6;\n",
              "    }\n",
              "\n",
              "    .colab-df-buttons div {\n",
              "      margin-bottom: 4px;\n",
              "    }\n",
              "\n",
              "    [theme=dark] .colab-df-convert {\n",
              "      background-color: #3B4455;\n",
              "      fill: #D2E3FC;\n",
              "    }\n",
              "\n",
              "    [theme=dark] .colab-df-convert:hover {\n",
              "      background-color: #434B5C;\n",
              "      box-shadow: 0px 1px 3px 1px rgba(0, 0, 0, 0.15);\n",
              "      filter: drop-shadow(0px 1px 2px rgba(0, 0, 0, 0.3));\n",
              "      fill: #FFFFFF;\n",
              "    }\n",
              "  </style>\n",
              "\n",
              "    <script>\n",
              "      const buttonEl =\n",
              "        document.querySelector('#df-16a3ee00-762d-4f0f-8272-79ee6ce80041 button.colab-df-convert');\n",
              "      buttonEl.style.display =\n",
              "        google.colab.kernel.accessAllowed ? 'block' : 'none';\n",
              "\n",
              "      async function convertToInteractive(key) {\n",
              "        const element = document.querySelector('#df-16a3ee00-762d-4f0f-8272-79ee6ce80041');\n",
              "        const dataTable =\n",
              "          await google.colab.kernel.invokeFunction('convertToInteractive',\n",
              "                                                    [key], {});\n",
              "        if (!dataTable) return;\n",
              "\n",
              "        const docLinkHtml = 'Like what you see? Visit the ' +\n",
              "          '<a target=\"_blank\" href=https://colab.research.google.com/notebooks/data_table.ipynb>data table notebook</a>'\n",
              "          + ' to learn more about interactive tables.';\n",
              "        element.innerHTML = '';\n",
              "        dataTable['output_type'] = 'display_data';\n",
              "        await google.colab.output.renderOutput(dataTable, element);\n",
              "        const docLink = document.createElement('div');\n",
              "        docLink.innerHTML = docLinkHtml;\n",
              "        element.appendChild(docLink);\n",
              "      }\n",
              "    </script>\n",
              "  </div>\n",
              "\n",
              "\n",
              "<div id=\"df-b8d8bd1f-16a8-4fa3-aac6-72c2b0078ccb\">\n",
              "  <button class=\"colab-df-quickchart\" onclick=\"quickchart('df-b8d8bd1f-16a8-4fa3-aac6-72c2b0078ccb')\"\n",
              "            title=\"Suggest charts\"\n",
              "            style=\"display:none;\">\n",
              "\n",
              "<svg xmlns=\"http://www.w3.org/2000/svg\" height=\"24px\"viewBox=\"0 0 24 24\"\n",
              "     width=\"24px\">\n",
              "    <g>\n",
              "        <path d=\"M19 3H5c-1.1 0-2 .9-2 2v14c0 1.1.9 2 2 2h14c1.1 0 2-.9 2-2V5c0-1.1-.9-2-2-2zM9 17H7v-7h2v7zm4 0h-2V7h2v10zm4 0h-2v-4h2v4z\"/>\n",
              "    </g>\n",
              "</svg>\n",
              "  </button>\n",
              "\n",
              "<style>\n",
              "  .colab-df-quickchart {\n",
              "      --bg-color: #E8F0FE;\n",
              "      --fill-color: #1967D2;\n",
              "      --hover-bg-color: #E2EBFA;\n",
              "      --hover-fill-color: #174EA6;\n",
              "      --disabled-fill-color: #AAA;\n",
              "      --disabled-bg-color: #DDD;\n",
              "  }\n",
              "\n",
              "  [theme=dark] .colab-df-quickchart {\n",
              "      --bg-color: #3B4455;\n",
              "      --fill-color: #D2E3FC;\n",
              "      --hover-bg-color: #434B5C;\n",
              "      --hover-fill-color: #FFFFFF;\n",
              "      --disabled-bg-color: #3B4455;\n",
              "      --disabled-fill-color: #666;\n",
              "  }\n",
              "\n",
              "  .colab-df-quickchart {\n",
              "    background-color: var(--bg-color);\n",
              "    border: none;\n",
              "    border-radius: 50%;\n",
              "    cursor: pointer;\n",
              "    display: none;\n",
              "    fill: var(--fill-color);\n",
              "    height: 32px;\n",
              "    padding: 0;\n",
              "    width: 32px;\n",
              "  }\n",
              "\n",
              "  .colab-df-quickchart:hover {\n",
              "    background-color: var(--hover-bg-color);\n",
              "    box-shadow: 0 1px 2px rgba(60, 64, 67, 0.3), 0 1px 3px 1px rgba(60, 64, 67, 0.15);\n",
              "    fill: var(--button-hover-fill-color);\n",
              "  }\n",
              "\n",
              "  .colab-df-quickchart-complete:disabled,\n",
              "  .colab-df-quickchart-complete:disabled:hover {\n",
              "    background-color: var(--disabled-bg-color);\n",
              "    fill: var(--disabled-fill-color);\n",
              "    box-shadow: none;\n",
              "  }\n",
              "\n",
              "  .colab-df-spinner {\n",
              "    border: 2px solid var(--fill-color);\n",
              "    border-color: transparent;\n",
              "    border-bottom-color: var(--fill-color);\n",
              "    animation:\n",
              "      spin 1s steps(1) infinite;\n",
              "  }\n",
              "\n",
              "  @keyframes spin {\n",
              "    0% {\n",
              "      border-color: transparent;\n",
              "      border-bottom-color: var(--fill-color);\n",
              "      border-left-color: var(--fill-color);\n",
              "    }\n",
              "    20% {\n",
              "      border-color: transparent;\n",
              "      border-left-color: var(--fill-color);\n",
              "      border-top-color: var(--fill-color);\n",
              "    }\n",
              "    30% {\n",
              "      border-color: transparent;\n",
              "      border-left-color: var(--fill-color);\n",
              "      border-top-color: var(--fill-color);\n",
              "      border-right-color: var(--fill-color);\n",
              "    }\n",
              "    40% {\n",
              "      border-color: transparent;\n",
              "      border-right-color: var(--fill-color);\n",
              "      border-top-color: var(--fill-color);\n",
              "    }\n",
              "    60% {\n",
              "      border-color: transparent;\n",
              "      border-right-color: var(--fill-color);\n",
              "    }\n",
              "    80% {\n",
              "      border-color: transparent;\n",
              "      border-right-color: var(--fill-color);\n",
              "      border-bottom-color: var(--fill-color);\n",
              "    }\n",
              "    90% {\n",
              "      border-color: transparent;\n",
              "      border-bottom-color: var(--fill-color);\n",
              "    }\n",
              "  }\n",
              "</style>\n",
              "\n",
              "  <script>\n",
              "    async function quickchart(key) {\n",
              "      const quickchartButtonEl =\n",
              "        document.querySelector('#' + key + ' button');\n",
              "      quickchartButtonEl.disabled = true;  // To prevent multiple clicks.\n",
              "      quickchartButtonEl.classList.add('colab-df-spinner');\n",
              "      try {\n",
              "        const charts = await google.colab.kernel.invokeFunction(\n",
              "            'suggestCharts', [key], {});\n",
              "      } catch (error) {\n",
              "        console.error('Error during call to suggestCharts:', error);\n",
              "      }\n",
              "      quickchartButtonEl.classList.remove('colab-df-spinner');\n",
              "      quickchartButtonEl.classList.add('colab-df-quickchart-complete');\n",
              "    }\n",
              "    (() => {\n",
              "      let quickchartButtonEl =\n",
              "        document.querySelector('#df-b8d8bd1f-16a8-4fa3-aac6-72c2b0078ccb button');\n",
              "      quickchartButtonEl.style.display =\n",
              "        google.colab.kernel.accessAllowed ? 'block' : 'none';\n",
              "    })();\n",
              "  </script>\n",
              "</div>\n",
              "    </div>\n",
              "  </div>\n"
            ],
            "text/plain": [
              "Models     OriginalCRO + ExtraTreesClassifier  JADE + ExtraTreesClassifier  \\\n",
              "metrics                                                                      \n",
              "Accuracy                             0.988889                     0.990476   \n",
              "Precision                            0.986597                     0.987001   \n",
              "Recall                               0.990765                     0.993363   \n",
              "F1                                   0.988529                     0.990006   \n",
              "\n",
              "Models     OriginalDE + ExtraTreesClassifier  SADE + ExtraTreesClassifier  \\\n",
              "metrics                                                                     \n",
              "Accuracy                            0.988889                     0.990476   \n",
              "Precision                           0.985856                     0.987713   \n",
              "Recall                              0.991511                     0.992617   \n",
              "F1                                  0.988525                     0.990015   \n",
              "\n",
              "Models     LevyEP + ExtraTreesClassifier  Original ExtraTreesClassifier  \n",
              "metrics                                                                  \n",
              "Accuracy                        0.990476                       0.985714  \n",
              "Precision                       0.987001                       0.982598  \n",
              "Recall                          0.993363                       0.988553  \n",
              "F1                              0.990006                       0.985360  "
            ]
          },
          "execution_count": 104,
          "metadata": {},
          "output_type": "execute_result"
        }
      ],
      "source": [
        "st"
      ]
    },
    {
      "cell_type": "code",
      "execution_count": null,
      "metadata": {
        "colab": {
          "base_uri": "https://localhost:8080/",
          "height": 434
        },
        "id": "JaInxfDQr_a7",
        "outputId": "49ceba22-938e-4311-aff7-fb9924549c76"
      },
      "outputs": [
        {
          "data": {
            "image/png": "[encoded data removed]",
            "text/plain": [
              "<Figure size 640x480 with 1 Axes>"
            ]
          },
          "metadata": {},
          "output_type": "display_data"
        }
      ],
      "source": [
        "st.plot(kind='barh',grid=True)\n",
        "plt.xlim(0.95,1.1)\n",
        "st.to_csv(f'{path}results3.csv')\n",
        "plt.savefig(f'{path}results3.png')"
      ]
    },
    {
      "cell_type": "code",
      "execution_count": null,
      "metadata": {
        "colab": {
          "base_uri": "https://localhost:8080/"
        },
        "id": "QH8Tqit6UBpF",
        "outputId": "55fc010c-0955-4b96-fafa-8aaa6bbe1b44"
      },
      "outputs": [
        {
          "data": {
            "text/plain": [
              "array([2, 0, 0, 3, 4, 2, 4, 0, 5, 0, 5, 4, 5, 4, 0, 0, 4, 4, 5, 5, 5, 5,\n",
              "       1, 5, 3, 5, 3, 4, 3, 0, 3, 5, 0, 2, 0, 3, 0, 5, 5, 1, 0, 3, 5, 0,\n",
              "       3, 0, 3, 3, 2, 3, 2, 4, 0, 0, 0, 5, 3, 1, 3, 1, 4, 5, 4, 4, 2, 2,\n",
              "       5, 3, 3, 1, 2, 1, 4, 1, 4, 3, 4, 0, 4, 3, 1, 1, 2, 5, 1, 2, 5, 5,\n",
              "       5, 4, 1, 3, 5, 0, 2, 0, 3, 3, 4, 4, 4, 5, 5, 1, 0, 2, 5, 1, 0, 0,\n",
              "       3, 2, 3, 2, 2, 3, 1, 1, 5, 0, 5, 3, 0, 0, 2, 4, 4, 2, 3, 3, 5, 1,\n",
              "       5, 4, 1, 5, 0, 5, 3, 2, 2, 5, 2, 3, 4, 0, 0, 4, 1, 4, 5, 1, 2, 3,\n",
              "       4, 4, 3, 3, 2, 1, 0, 0, 1, 2, 5, 5, 5, 3, 5, 1, 3, 0, 0, 1, 5, 3,\n",
              "       2, 0, 3, 3, 3, 1, 4, 0, 3, 0, 4, 0, 4, 4, 0, 5, 0, 0, 4, 2, 5, 1,\n",
              "       5, 4, 4, 0, 0, 0, 4, 4, 2, 0, 1, 0, 4, 2, 5, 4, 2, 2, 1, 2, 4, 1,\n",
              "       2, 2, 5, 5, 0, 3, 5, 2, 0, 5, 5, 3, 4, 2, 5, 2, 2, 2, 2, 3, 2, 1,\n",
              "       3, 4, 1, 4, 3, 0, 3, 2, 5, 1, 2, 3, 2, 3, 0, 0, 2, 1, 0, 5, 4, 2,\n",
              "       1, 0, 4, 0, 0, 5, 5, 5, 5, 2, 5, 1, 2, 1, 5, 5, 3, 3, 2, 3, 3, 3,\n",
              "       2, 2, 3, 2, 0, 4, 0, 3, 1, 0, 4, 5, 5, 4, 3, 2, 5, 2, 4, 4, 1, 1,\n",
              "       5, 0, 3, 0, 0, 1, 2, 5, 0, 5, 2, 4, 5, 3, 3, 4, 1, 1, 3, 4, 2, 4,\n",
              "       3, 0, 4, 0, 4, 3, 4, 3, 3, 3, 3, 3, 2, 5, 4, 0, 0, 1, 4, 2, 5, 1,\n",
              "       4, 0, 2, 4, 0, 2, 4, 5, 3, 1, 5, 3, 2, 2, 2, 0, 3, 2, 2, 0, 1, 3,\n",
              "       0, 1, 3, 4, 4, 0, 5, 5, 2, 5, 1, 4, 5, 5, 4, 5, 4, 5, 1, 0, 0, 2,\n",
              "       0, 5, 0, 2, 0, 3, 4, 4, 5, 2, 2, 2, 0, 5, 5, 5, 0, 0, 1, 3, 5, 0,\n",
              "       0, 0, 2, 5, 5, 3, 4, 0, 3, 1, 2, 0, 4, 0, 5, 0, 1, 5, 1, 1, 4, 5,\n",
              "       0, 1, 5, 0, 4, 2, 1, 5, 0, 1, 3, 5, 0, 2, 0, 1, 5, 2, 5, 0, 5, 4,\n",
              "       4, 3, 5, 0, 0, 0, 2, 5, 1, 0, 1, 2, 1, 0, 2, 1, 0, 0, 2, 2, 2, 0,\n",
              "       0, 0, 2, 5, 5, 2, 0, 2, 1, 5, 4, 4, 0, 3, 4, 4, 1, 1, 5, 2, 0, 5,\n",
              "       5, 0, 0, 1, 2, 0, 0, 2, 2, 3, 2, 1, 3, 4, 2, 5, 4, 4, 5, 3, 4, 3,\n",
              "       3, 0, 2, 1, 2, 4, 4, 1, 4, 0, 1, 5, 3, 4, 5, 5, 2, 5, 3, 0, 3, 0,\n",
              "       5, 5, 5, 5, 3, 5, 3, 2, 5, 1, 1, 0, 5, 0, 3, 0, 0, 3, 4, 5, 5, 5,\n",
              "       4, 3, 0, 2, 3, 5, 0, 5, 1, 1, 4, 4, 0, 2, 0, 1, 1, 1, 4, 1, 0, 4,\n",
              "       3, 1, 0, 5, 5, 3, 5, 5, 5, 5, 2, 0, 0, 1, 5, 5, 5, 1, 5, 0, 2, 5,\n",
              "       1, 4, 4, 5, 3, 0, 4, 0, 3, 5, 4, 1, 1, 0, 5, 5, 0, 5, 5, 1, 4, 5,\n",
              "       5, 1, 5, 3, 0, 1, 5, 2, 3, 3, 4, 0, 2, 1])"
            ]
          },
          "execution_count": 130,
          "metadata": {},
          "output_type": "execute_result"
        }
      ],
      "source": [
        "clf = XGBClassifier(random_state=8)\n",
        "clf.fit(x1,y1)\n",
        "k = clf.predict(x2)\n",
        "k"
      ]
    },
    {
      "cell_type": "code",
      "execution_count": null,
      "metadata": {
        "colab": {
          "base_uri": "https://localhost:8080/"
        },
        "id": "7oVk-U1hUW5v",
        "outputId": "656b0445-7887-497f-8c4c-fd98c0b564ea"
      },
      "outputs": [
        {
          "data": {
            "text/plain": [
              "0.9049079754601227"
            ]
          },
          "execution_count": 132,
          "metadata": {},
          "output_type": "execute_result"
        }
      ],
      "source": [
        "sum(k==y2)/k.shape[0]"
      ]
    }
  ],
  "metadata": {
    "colab": {
      "collapsed_sections": [
        "eJt76ixMOqOd",
        "Wds6HXGZQ0_F",
        "BdEkdvGnQ3sU",
        "mZCaf0gBQ5ZL"
      ],
      "provenance": [],
      "include_colab_link": true
    },
    "kernelspec": {
      "display_name": "Python 3",
      "name": "python3"
    },
    "language_info": {
      "name": "python"
    }
  },
  "nbformat": 4,
  "nbformat_minor": 0
}