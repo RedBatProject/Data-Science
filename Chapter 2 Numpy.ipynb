{
 "cells": [
  {
   "cell_type": "code",
   "execution_count": 1,
   "id": "ccf1796a",
   "metadata": {},
   "outputs": [],
   "source": [
    "import numpy as np"
   ]
  },
  {
   "cell_type": "code",
   "execution_count": 2,
   "id": "e7814366",
   "metadata": {},
   "outputs": [
    {
     "data": {
      "text/plain": [
       "'1.22.4'"
      ]
     },
     "execution_count": 2,
     "metadata": {},
     "output_type": "execute_result"
    }
   ],
   "source": [
    "np.__version__"
   ]
  },
  {
   "cell_type": "code",
   "execution_count": 3,
   "id": "5914f298",
   "metadata": {},
   "outputs": [],
   "source": [
    "np?"
   ]
  },
  {
   "cell_type": "code",
   "execution_count": 4,
   "id": "2902ee43",
   "metadata": {},
   "outputs": [],
   "source": [
    "# np.<TAB>"
   ]
  },
  {
   "cell_type": "code",
   "execution_count": 5,
   "id": "b1857765",
   "metadata": {},
   "outputs": [
    {
     "data": {
      "text/plain": [
       "array([1., 2., 3., 4.], dtype=float32)"
      ]
     },
     "execution_count": 5,
     "metadata": {},
     "output_type": "execute_result"
    }
   ],
   "source": [
    "np.array([1,2,3,4], dtype='float32')"
   ]
  },
  {
   "cell_type": "code",
   "execution_count": 6,
   "id": "f2320518",
   "metadata": {},
   "outputs": [
    {
     "data": {
      "text/plain": [
       "array([[3, 4, 5],\n",
       "       [5, 6, 7],\n",
       "       [7, 8, 9]])"
      ]
     },
     "execution_count": 6,
     "metadata": {},
     "output_type": "execute_result"
    }
   ],
   "source": [
    "np.array([range(i,i+3) for i in [3,5,7]])"
   ]
  },
  {
   "cell_type": "code",
   "execution_count": 7,
   "id": "344dffd4",
   "metadata": {},
   "outputs": [
    {
     "data": {
      "text/plain": [
       "array([0, 0, 0, 0, 0, 0, 0, 0, 0, 0])"
      ]
     },
     "execution_count": 7,
     "metadata": {},
     "output_type": "execute_result"
    }
   ],
   "source": [
    "np.zeros(10,dtype=int)"
   ]
  },
  {
   "cell_type": "code",
   "execution_count": 8,
   "id": "3480a110",
   "metadata": {},
   "outputs": [
    {
     "data": {
      "text/plain": [
       "array([0., 0., 0., 0., 0., 0., 0., 0., 0., 0.])"
      ]
     },
     "execution_count": 8,
     "metadata": {},
     "output_type": "execute_result"
    }
   ],
   "source": [
    "np.zeros(10,dtype=float)"
   ]
  },
  {
   "cell_type": "code",
   "execution_count": 9,
   "id": "8cb07370",
   "metadata": {},
   "outputs": [
    {
     "data": {
      "text/plain": [
       "array([[0, 0, 0, 0],\n",
       "       [0, 0, 0, 0],\n",
       "       [0, 0, 0, 0],\n",
       "       [0, 0, 0, 0]])"
      ]
     },
     "execution_count": 9,
     "metadata": {},
     "output_type": "execute_result"
    }
   ],
   "source": [
    "np.zeros((4,4),dtype=int)"
   ]
  },
  {
   "cell_type": "code",
   "execution_count": 10,
   "id": "d24b0761",
   "metadata": {},
   "outputs": [
    {
     "data": {
      "text/plain": [
       "array([[1, 1, 1, 1, 1],\n",
       "       [1, 1, 1, 1, 1],\n",
       "       [1, 1, 1, 1, 1],\n",
       "       [1, 1, 1, 1, 1],\n",
       "       [1, 1, 1, 1, 1]])"
      ]
     },
     "execution_count": 10,
     "metadata": {},
     "output_type": "execute_result"
    }
   ],
   "source": [
    "np.ones((5,5),int)"
   ]
  },
  {
   "cell_type": "code",
   "execution_count": 11,
   "id": "70dfe25d",
   "metadata": {},
   "outputs": [
    {
     "data": {
      "text/plain": [
       "array([[4, 4, 4],\n",
       "       [4, 4, 4],\n",
       "       [4, 4, 4]])"
      ]
     },
     "execution_count": 11,
     "metadata": {},
     "output_type": "execute_result"
    }
   ],
   "source": [
    "np.full((3,3),4)"
   ]
  },
  {
   "cell_type": "code",
   "execution_count": 12,
   "id": "6bee54a3",
   "metadata": {},
   "outputs": [
    {
     "data": {
      "text/plain": [
       "array([0, 1, 2, 3, 4, 5, 6, 7, 8, 9])"
      ]
     },
     "execution_count": 12,
     "metadata": {},
     "output_type": "execute_result"
    }
   ],
   "source": [
    "np.arange(0,10,1)"
   ]
  },
  {
   "cell_type": "code",
   "execution_count": 13,
   "id": "2663a2c0",
   "metadata": {},
   "outputs": [
    {
     "data": {
      "text/plain": [
       "array([0, 2, 4, 6, 8])"
      ]
     },
     "execution_count": 13,
     "metadata": {},
     "output_type": "execute_result"
    }
   ],
   "source": [
    "np.arange(0,10,2)"
   ]
  },
  {
   "cell_type": "code",
   "execution_count": 14,
   "id": "b5a05f9f",
   "metadata": {},
   "outputs": [
    {
     "data": {
      "text/plain": [
       "array([0.        , 0.11111111, 0.22222222, 0.33333333, 0.44444444,\n",
       "       0.55555556, 0.66666667, 0.77777778, 0.88888889, 1.        ])"
      ]
     },
     "execution_count": 14,
     "metadata": {},
     "output_type": "execute_result"
    }
   ],
   "source": [
    "np.linspace(0,1,10)"
   ]
  },
  {
   "cell_type": "code",
   "execution_count": 15,
   "id": "e8fa0ef7",
   "metadata": {},
   "outputs": [
    {
     "data": {
      "text/plain": [
       "array([[0.47728572, 0.92213515, 0.78854717],\n",
       "       [0.21942406, 0.40889547, 0.10658832],\n",
       "       [0.11295026, 0.5858366 , 0.59115378]])"
      ]
     },
     "execution_count": 15,
     "metadata": {},
     "output_type": "execute_result"
    }
   ],
   "source": [
    "np.random.random((3,3))"
   ]
  },
  {
   "cell_type": "code",
   "execution_count": 16,
   "id": "0da1a2b9",
   "metadata": {},
   "outputs": [
    {
     "data": {
      "text/plain": [
       "array([ 0.79428005, -0.72306169, -1.24733455,  1.24410428,  0.24819421,\n",
       "       -1.14196835,  0.21316039, -0.01741133, -0.10400135,  0.8217192 ])"
      ]
     },
     "execution_count": 16,
     "metadata": {},
     "output_type": "execute_result"
    }
   ],
   "source": [
    "np.random.normal(0,1,10)"
   ]
  },
  {
   "cell_type": "code",
   "execution_count": 17,
   "id": "3d6236ab",
   "metadata": {},
   "outputs": [
    {
     "data": {
      "text/plain": [
       "array([[5, 3],\n",
       "       [0, 5]])"
      ]
     },
     "execution_count": 17,
     "metadata": {},
     "output_type": "execute_result"
    }
   ],
   "source": [
    "np.random.randint(0,10,(2,2))"
   ]
  },
  {
   "cell_type": "code",
   "execution_count": 18,
   "id": "6798f20d",
   "metadata": {},
   "outputs": [
    {
     "data": {
      "text/plain": [
       "array([1, 4, 2, 5, 8, 2, 2, 1, 1, 5, 9, 7, 8, 7, 8, 6, 3, 9, 9, 8, 3, 0,\n",
       "       7, 8, 8, 5, 6, 7, 6, 5, 6, 3, 2, 5, 3, 9, 3, 5, 6, 0, 3, 3, 1, 2,\n",
       "       7, 9, 2, 5, 2, 2, 0, 0, 0, 7, 4, 1, 9, 0, 3, 3, 4, 2, 3, 7, 9, 0,\n",
       "       2, 1, 5, 0, 2, 1, 3, 9, 5, 4, 1, 5, 0, 7, 9, 7, 2, 4, 5, 5, 2, 7,\n",
       "       1, 7, 4, 6, 5, 9, 5, 4, 5, 7, 8, 7])"
      ]
     },
     "execution_count": 18,
     "metadata": {},
     "output_type": "execute_result"
    }
   ],
   "source": [
    "np.random.randint(0,10,100)"
   ]
  },
  {
   "cell_type": "code",
   "execution_count": 19,
   "id": "1a9e5789",
   "metadata": {},
   "outputs": [
    {
     "data": {
      "text/plain": [
       "array([[1., 0., 0., 0.],\n",
       "       [0., 1., 0., 0.],\n",
       "       [0., 0., 1., 0.],\n",
       "       [0., 0., 0., 1.]])"
      ]
     },
     "execution_count": 19,
     "metadata": {},
     "output_type": "execute_result"
    }
   ],
   "source": [
    "np.eye(4)"
   ]
  },
  {
   "cell_type": "code",
   "execution_count": 20,
   "id": "e269b08f",
   "metadata": {},
   "outputs": [
    {
     "data": {
      "text/plain": [
       "array([[1., 0., 0., 0.],\n",
       "       [0., 1., 0., 0.],\n",
       "       [0., 0., 1., 0.],\n",
       "       [0., 0., 0., 1.]])"
      ]
     },
     "execution_count": 20,
     "metadata": {},
     "output_type": "execute_result"
    }
   ],
   "source": [
    "np.empty((4,4))"
   ]
  },
  {
   "cell_type": "code",
   "execution_count": 21,
   "id": "62bd75e1",
   "metadata": {},
   "outputs": [
    {
     "data": {
      "text/plain": [
       "array([1., 1., 1., 1.])"
      ]
     },
     "execution_count": 21,
     "metadata": {},
     "output_type": "execute_result"
    }
   ],
   "source": [
    "np.empty(4)"
   ]
  },
  {
   "cell_type": "code",
   "execution_count": 22,
   "id": "5c65f5ae",
   "metadata": {},
   "outputs": [
    {
     "data": {
      "text/plain": [
       "array([[[1, 8, 0],\n",
       "        [4, 1, 6]],\n",
       "\n",
       "       [[0, 9, 7],\n",
       "        [1, 7, 6]]])"
      ]
     },
     "execution_count": 22,
     "metadata": {},
     "output_type": "execute_result"
    }
   ],
   "source": [
    "y = np.random.randint(0,10,(2,2,3))\n",
    "y"
   ]
  },
  {
   "cell_type": "code",
   "execution_count": 23,
   "id": "98062fda",
   "metadata": {},
   "outputs": [],
   "source": [
    "x = np.random.normal(0,2,(3,4,5))"
   ]
  },
  {
   "cell_type": "code",
   "execution_count": 24,
   "id": "7c52e5bc",
   "metadata": {},
   "outputs": [
    {
     "data": {
      "text/plain": [
       "0.00048"
      ]
     },
     "execution_count": 24,
     "metadata": {},
     "output_type": "execute_result"
    }
   ],
   "source": [
    "x.itemsize\n",
    "x.nbytes/1000000"
   ]
  },
  {
   "cell_type": "code",
   "execution_count": 25,
   "id": "edb1beef",
   "metadata": {},
   "outputs": [
    {
     "data": {
      "text/plain": [
       "array([[1, 8, 0],\n",
       "       [4, 1, 6]])"
      ]
     },
     "execution_count": 25,
     "metadata": {},
     "output_type": "execute_result"
    }
   ],
   "source": [
    "y[0]"
   ]
  },
  {
   "cell_type": "code",
   "execution_count": 26,
   "id": "8c64569a",
   "metadata": {},
   "outputs": [
    {
     "data": {
      "text/plain": [
       "array([1, 8, 0])"
      ]
     },
     "execution_count": 26,
     "metadata": {},
     "output_type": "execute_result"
    }
   ],
   "source": [
    "y[0,0]"
   ]
  },
  {
   "cell_type": "code",
   "execution_count": 27,
   "id": "ea123c85",
   "metadata": {},
   "outputs": [
    {
     "data": {
      "text/plain": [
       "array([[[1, 8, 0],\n",
       "        [4, 1, 6]]])"
      ]
     },
     "execution_count": 27,
     "metadata": {},
     "output_type": "execute_result"
    }
   ],
   "source": [
    "y[0:1]"
   ]
  },
  {
   "cell_type": "code",
   "execution_count": 28,
   "id": "d4a4764e",
   "metadata": {},
   "outputs": [
    {
     "data": {
      "text/plain": [
       "array([[[0, 9, 7],\n",
       "        [1, 7, 6]]])"
      ]
     },
     "execution_count": 28,
     "metadata": {},
     "output_type": "execute_result"
    }
   ],
   "source": [
    "y[::-2]"
   ]
  },
  {
   "cell_type": "code",
   "execution_count": 29,
   "id": "bd7cda46",
   "metadata": {},
   "outputs": [
    {
     "data": {
      "text/plain": [
       "array([[[1, 7, 6],\n",
       "        [0, 9, 7]],\n",
       "\n",
       "       [[4, 1, 6],\n",
       "        [1, 8, 0]]])"
      ]
     },
     "execution_count": 29,
     "metadata": {},
     "output_type": "execute_result"
    }
   ],
   "source": [
    "y[::-1,::-1]"
   ]
  },
  {
   "cell_type": "code",
   "execution_count": 30,
   "id": "7f5c3896",
   "metadata": {},
   "outputs": [
    {
     "data": {
      "text/plain": [
       "array([[[1, 6]]])"
      ]
     },
     "execution_count": 30,
     "metadata": {},
     "output_type": "execute_result"
    }
   ],
   "source": [
    "y[:1,1:,1:]"
   ]
  },
  {
   "cell_type": "code",
   "execution_count": 31,
   "id": "7bd69aa7",
   "metadata": {},
   "outputs": [
    {
     "data": {
      "text/plain": [
       "array([[1, 8, 0],\n",
       "       [0, 9, 7]])"
      ]
     },
     "execution_count": 31,
     "metadata": {},
     "output_type": "execute_result"
    }
   ],
   "source": [
    "y[:,0]"
   ]
  },
  {
   "cell_type": "code",
   "execution_count": 32,
   "id": "0170b5a5",
   "metadata": {},
   "outputs": [
    {
     "data": {
      "text/plain": [
       "array([[4, 1, 6],\n",
       "       [1, 7, 6]])"
      ]
     },
     "execution_count": 32,
     "metadata": {},
     "output_type": "execute_result"
    }
   ],
   "source": [
    "y[:,1]"
   ]
  },
  {
   "cell_type": "code",
   "execution_count": 33,
   "id": "a409fe18",
   "metadata": {},
   "outputs": [
    {
     "data": {
      "text/plain": [
       "array([[[1, 8, 0],\n",
       "        [4, 1, 6]],\n",
       "\n",
       "       [[0, 9, 7],\n",
       "        [1, 7, 6]]])"
      ]
     },
     "execution_count": 33,
     "metadata": {},
     "output_type": "execute_result"
    }
   ],
   "source": [
    "y"
   ]
  },
  {
   "cell_type": "code",
   "execution_count": 34,
   "id": "28581bbe",
   "metadata": {},
   "outputs": [
    {
     "data": {
      "text/plain": [
       "array([[[1, 8, 0],\n",
       "        [4, 1, 6]]])"
      ]
     },
     "execution_count": 34,
     "metadata": {},
     "output_type": "execute_result"
    }
   ],
   "source": [
    "y[:1]"
   ]
  },
  {
   "cell_type": "code",
   "execution_count": 35,
   "id": "e211d795",
   "metadata": {},
   "outputs": [
    {
     "data": {
      "text/plain": [
       "array([[[1, 8, 0],\n",
       "        [4, 1, 6]],\n",
       "\n",
       "       [[0, 9, 7],\n",
       "        [1, 7, 6]]])"
      ]
     },
     "execution_count": 35,
     "metadata": {},
     "output_type": "execute_result"
    }
   ],
   "source": [
    "g = y.copy()\n",
    "g"
   ]
  },
  {
   "cell_type": "code",
   "execution_count": 36,
   "id": "62e649d4",
   "metadata": {},
   "outputs": [],
   "source": [
    "y = np.arange(9).reshape(3,3)"
   ]
  },
  {
   "cell_type": "code",
   "execution_count": 37,
   "id": "da74c550",
   "metadata": {},
   "outputs": [
    {
     "data": {
      "text/plain": [
       "array([[[0],\n",
       "        [1],\n",
       "        [2]],\n",
       "\n",
       "       [[3],\n",
       "        [4],\n",
       "        [5]],\n",
       "\n",
       "       [[6],\n",
       "        [7],\n",
       "        [8]]])"
      ]
     },
     "execution_count": 37,
     "metadata": {},
     "output_type": "execute_result"
    }
   ],
   "source": [
    "y = y[:,:,np.newaxis]\n",
    "y\n",
    "# y = np.arange(9).reshape(3,3)"
   ]
  },
  {
   "cell_type": "code",
   "execution_count": 38,
   "id": "f7b86a25",
   "metadata": {},
   "outputs": [],
   "source": [
    "t1 = np.array([1,2,3,4])\n",
    "t2 = np.array([6,7,8,9])"
   ]
  },
  {
   "cell_type": "code",
   "execution_count": 39,
   "id": "e6c8b137",
   "metadata": {},
   "outputs": [
    {
     "data": {
      "text/plain": [
       "array([1, 2, 3, 4, 6, 7, 8, 9])"
      ]
     },
     "execution_count": 39,
     "metadata": {},
     "output_type": "execute_result"
    }
   ],
   "source": [
    "np.concatenate([t1,t2],axis=0)"
   ]
  },
  {
   "cell_type": "code",
   "execution_count": 40,
   "id": "4e482b98",
   "metadata": {},
   "outputs": [
    {
     "data": {
      "text/plain": [
       "array([1, 2, 3, 4, 6, 7, 8, 9])"
      ]
     },
     "execution_count": 40,
     "metadata": {},
     "output_type": "execute_result"
    }
   ],
   "source": [
    "np.hstack([t1,t2])"
   ]
  },
  {
   "cell_type": "code",
   "execution_count": 41,
   "id": "78ebf687",
   "metadata": {},
   "outputs": [
    {
     "data": {
      "text/plain": [
       "array([[1, 2, 3, 4],\n",
       "       [6, 7, 8, 9]])"
      ]
     },
     "execution_count": 41,
     "metadata": {},
     "output_type": "execute_result"
    }
   ],
   "source": [
    "np.vstack([t1,t2])"
   ]
  },
  {
   "cell_type": "code",
   "execution_count": 42,
   "id": "20285b92",
   "metadata": {},
   "outputs": [],
   "source": [
    "h = np.vstack([t1,t2])"
   ]
  },
  {
   "cell_type": "code",
   "execution_count": 43,
   "id": "e02fea62",
   "metadata": {},
   "outputs": [
    {
     "data": {
      "text/plain": [
       "[array([[1, 2, 3],\n",
       "        [6, 7, 8]]),\n",
       " array([], shape=(2, 0), dtype=int32),\n",
       " array([[2, 3, 4],\n",
       "        [7, 8, 9]])]"
      ]
     },
     "execution_count": 43,
     "metadata": {},
     "output_type": "execute_result"
    }
   ],
   "source": [
    "np.hsplit(h,[3,1])"
   ]
  },
  {
   "cell_type": "code",
   "execution_count": 44,
   "id": "8c569317",
   "metadata": {},
   "outputs": [
    {
     "data": {
      "text/plain": [
       "array([[ 0,  1,  2,  3],\n",
       "       [ 4,  5,  6,  7],\n",
       "       [ 8,  9, 10, 11],\n",
       "       [12, 13, 14, 15],\n",
       "       [16, 17, 18, 19],\n",
       "       [20, 21, 22, 23],\n",
       "       [24, 25, 26, 27],\n",
       "       [28, 29, 30, 31]])"
      ]
     },
     "execution_count": 44,
     "metadata": {},
     "output_type": "execute_result"
    }
   ],
   "source": [
    "grid = np.arange(32).reshape((8, 4))\n",
    "grid"
   ]
  },
  {
   "cell_type": "code",
   "execution_count": 45,
   "id": "e23757a1",
   "metadata": {},
   "outputs": [
    {
     "data": {
      "text/plain": [
       "[array([[0, 1, 2, 3],\n",
       "        [4, 5, 6, 7]]),\n",
       " array([[ 8,  9, 10, 11],\n",
       "        [12, 13, 14, 15]]),\n",
       " array([[16, 17, 18, 19],\n",
       "        [20, 21, 22, 23]]),\n",
       " array([[24, 25, 26, 27],\n",
       "        [28, 29, 30, 31]])]"
      ]
     },
     "execution_count": 45,
     "metadata": {},
     "output_type": "execute_result"
    }
   ],
   "source": [
    "np.vsplit(grid,[2,4,6])"
   ]
  },
  {
   "cell_type": "code",
   "execution_count": 46,
   "id": "c71dabb8",
   "metadata": {},
   "outputs": [
    {
     "data": {
      "text/plain": [
       "[array([[12, 13, 14, 15],\n",
       "        [20, 21, 22, 23]]),\n",
       " array([[16, 17, 18, 19],\n",
       "        [ 4,  5,  6,  7]]),\n",
       " array([[ 0,  1,  2,  3],\n",
       "        [ 8,  9, 10, 11],\n",
       "        [28, 29, 30, 31],\n",
       "        [24, 25, 26, 27]])]"
      ]
     },
     "execution_count": 46,
     "metadata": {},
     "output_type": "execute_result"
    }
   ],
   "source": [
    "np.random.shuffle(grid)\n",
    "np.vsplit(grid,[2,4])"
   ]
  },
  {
   "cell_type": "code",
   "execution_count": 47,
   "id": "2426b64c",
   "metadata": {},
   "outputs": [],
   "source": [
    "import numpy as np\n",
    "np.random.seed(0)\n",
    "def compute_reciprocals(values):\n",
    "    output = np.empty(len(values))\n",
    "    for i in range(len(values)):\n",
    "        output[i] = 1.0 / values[i]\n",
    "    return output"
   ]
  },
  {
   "cell_type": "code",
   "execution_count": 62,
   "id": "8b66db4f",
   "metadata": {},
   "outputs": [],
   "source": [
    "big_array = np.random.randint(1, 100, size=1000000)\n",
    "# %timeit compute_reciprocals(big_array)"
   ]
  },
  {
   "cell_type": "code",
   "execution_count": 63,
   "id": "13a15ad5",
   "metadata": {},
   "outputs": [
    {
     "name": "stdout",
     "output_type": "stream",
     "text": [
      "19.3 ms ± 6.66 ms per loop (mean ± std. dev. of 7 runs, 100 loops each)\n"
     ]
    }
   ],
   "source": [
    "%timeit 1/big_array"
   ]
  },
  {
   "cell_type": "code",
   "execution_count": 64,
   "id": "11a24b3b",
   "metadata": {},
   "outputs": [
    {
     "data": {
      "text/plain": [
       "array([0, 1, 2, 3, 4])"
      ]
     },
     "execution_count": 64,
     "metadata": {},
     "output_type": "execute_result"
    }
   ],
   "source": [
    "np.arange(5)"
   ]
  },
  {
   "cell_type": "code",
   "execution_count": 65,
   "id": "8bcc4bf1",
   "metadata": {},
   "outputs": [
    {
     "data": {
      "text/plain": [
       "array([1, 2, 3, 4, 5])"
      ]
     },
     "execution_count": 65,
     "metadata": {},
     "output_type": "execute_result"
    }
   ],
   "source": [
    "np.arange(1,6)"
   ]
  },
  {
   "cell_type": "code",
   "execution_count": 66,
   "id": "b8bbddb4",
   "metadata": {},
   "outputs": [
    {
     "data": {
      "text/plain": [
       "array([0.        , 0.33333333, 0.5       , 0.6       , 0.66666667])"
      ]
     },
     "execution_count": 66,
     "metadata": {},
     "output_type": "execute_result"
    }
   ],
   "source": [
    "np.arange(5)/np.arange(2,7)"
   ]
  },
  {
   "cell_type": "code",
   "execution_count": 67,
   "id": "cf0a23ec",
   "metadata": {},
   "outputs": [
    {
     "data": {
      "text/plain": [
       "array([5, 6, 7, 8, 9])"
      ]
     },
     "execution_count": 67,
     "metadata": {},
     "output_type": "execute_result"
    }
   ],
   "source": [
    "np.arange(5) + 5"
   ]
  },
  {
   "cell_type": "code",
   "execution_count": 68,
   "id": "64205c1c",
   "metadata": {},
   "outputs": [],
   "source": [
    "tetha = np.linspace(0,np.pi,4)"
   ]
  },
  {
   "cell_type": "code",
   "execution_count": 69,
   "id": "ea12e5af",
   "metadata": {},
   "outputs": [
    {
     "name": "stdout",
     "output_type": "stream",
     "text": [
      "tan  [ 0.00000000e+00  1.73205081e+00 -1.73205081e+00 -1.22464680e-16]\n",
      "sin  [0.00000000e+00 8.66025404e-01 8.66025404e-01 1.22464680e-16]\n",
      "cos  [ 1.   0.5 -0.5 -1. ]\n"
     ]
    }
   ],
   "source": [
    "print(\"tan \",np.tan(tetha))\n",
    "print(\"sin \",np.sin(tetha))\n",
    "print(\"cos \",np.cos(tetha))"
   ]
  },
  {
   "cell_type": "code",
   "execution_count": 70,
   "id": "92f8ed4e",
   "metadata": {},
   "outputs": [
    {
     "data": {
      "text/plain": [
       "array([ 0.00000000e+00,  1.73205081e+00, -1.73205081e+00, -1.22464680e-16])"
      ]
     },
     "execution_count": 70,
     "metadata": {},
     "output_type": "execute_result"
    }
   ],
   "source": [
    "np.tan(tetha)"
   ]
  },
  {
   "cell_type": "code",
   "execution_count": 71,
   "id": "62396df7",
   "metadata": {},
   "outputs": [
    {
     "name": "stdout",
     "output_type": "stream",
     "text": [
      "x = [ 2  3  4  5  6  7  8  9 10 11 12 13 14 15 16 17 18 19 20 21 22 23 24 25\n",
      " 26 27 28 29 30 31 32 33 34 35 36 37 38 39 40 41 42 43 44 45 46 47 48 49]\n",
      "ln(x) = [0.69314718 1.09861229 1.38629436 1.60943791 1.79175947 1.94591015\n",
      " 2.07944154 2.19722458 2.30258509 2.39789527 2.48490665 2.56494936\n",
      " 2.63905733 2.7080502  2.77258872 2.83321334 2.89037176 2.94443898\n",
      " 2.99573227 3.04452244 3.09104245 3.13549422 3.17805383 3.21887582\n",
      " 3.25809654 3.29583687 3.33220451 3.36729583 3.40119738 3.4339872\n",
      " 3.4657359  3.49650756 3.52636052 3.55534806 3.58351894 3.61091791\n",
      " 3.63758616 3.66356165 3.68887945 3.71357207 3.73766962 3.76120012\n",
      " 3.78418963 3.80666249 3.8286414  3.8501476  3.87120101 3.8918203 ]\n",
      "log2(x) = [1.         1.5849625  2.         2.32192809 2.5849625  2.80735492\n",
      " 3.         3.169925   3.32192809 3.45943162 3.5849625  3.70043972\n",
      " 3.80735492 3.9068906  4.         4.08746284 4.169925   4.24792751\n",
      " 4.32192809 4.39231742 4.45943162 4.52356196 4.5849625  4.64385619\n",
      " 4.70043972 4.7548875  4.80735492 4.857981   4.9068906  4.95419631\n",
      " 5.         5.04439412 5.08746284 5.12928302 5.169925   5.20945337\n",
      " 5.24792751 5.28540222 5.32192809 5.357552   5.39231742 5.42626475\n",
      " 5.45943162 5.4918531  5.52356196 5.55458885 5.5849625  5.61470984]\n",
      "log10(x) = [0.30103    0.47712125 0.60205999 0.69897    0.77815125 0.84509804\n",
      " 0.90308999 0.95424251 1.         1.04139269 1.07918125 1.11394335\n",
      " 1.14612804 1.17609126 1.20411998 1.23044892 1.25527251 1.2787536\n",
      " 1.30103    1.32221929 1.34242268 1.36172784 1.38021124 1.39794001\n",
      " 1.41497335 1.43136376 1.44715803 1.462398   1.47712125 1.49136169\n",
      " 1.50514998 1.51851394 1.53147892 1.54406804 1.5563025  1.56820172\n",
      " 1.5797836  1.59106461 1.60205999 1.61278386 1.62324929 1.63346846\n",
      " 1.64345268 1.65321251 1.66275783 1.67209786 1.68124124 1.69019608]\n"
     ]
    }
   ],
   "source": [
    "x = np.arange(2,50)\n",
    "print(\"x =\", x)\n",
    "print(\"ln(x) =\", np.log(x))\n",
    "print(\"log2(x) =\", np.log2(x))\n",
    "print(\"log10(x) =\", np.log10(x))"
   ]
  },
  {
   "cell_type": "code",
   "execution_count": 72,
   "id": "087958d6",
   "metadata": {},
   "outputs": [],
   "source": [
    "import matplotlib.pyplot as plt"
   ]
  },
  {
   "cell_type": "code",
   "execution_count": 73,
   "id": "b5bc51af",
   "metadata": {},
   "outputs": [
    {
     "data": {
      "image/png": "[encoded data removed]",
      "text/plain": [
       "<Figure size 2400x2400 with 1 Axes>"
      ]
     },
     "metadata": {},
     "output_type": "display_data"
    }
   ],
   "source": [
    "plt.figure(figsize=(5,8),dpi=300);\n",
    "plt.plot(x,x,'-g',label=\"normal\");\n",
    "plt.plot(x,np.log2(x),'.b',label=\"log2\");\n",
    "plt.plot(x,np.log10(x),'.r',label=\"log10\");\n",
    "plt.plot(x,np.log(x),'.y',label=\"ln\");\n",
    "# plt.text(4,2,\"hello\");\n",
    "# plt.plot(x,np.tan(x),label=\"tan\",c='orange');\n",
    "\n",
    "# plt.grid(True);\n",
    "plt.legend();\n",
    "plt.show();"
   ]
  },
  {
   "cell_type": "code",
   "execution_count": 74,
   "id": "f950ef91",
   "metadata": {},
   "outputs": [],
   "source": [
    "from scipy import special"
   ]
  },
  {
   "cell_type": "code",
   "execution_count": 75,
   "id": "9fe81a90",
   "metadata": {},
   "outputs": [
    {
     "name": "stdout",
     "output_type": "stream",
     "text": [
      "gamma(x) = [1.00000000e+00 2.00000000e+00 6.00000000e+00 2.40000000e+01\n",
      " 1.20000000e+02 7.20000000e+02 5.04000000e+03 4.03200000e+04\n",
      " 3.62880000e+05 3.62880000e+06 3.99168000e+07 4.79001600e+08\n",
      " 6.22702080e+09 8.71782912e+10 1.30767437e+12 2.09227899e+13\n",
      " 3.55687428e+14 6.40237371e+15 1.21645100e+17 2.43290201e+18\n",
      " 5.10909422e+19 1.12400073e+21 2.58520167e+22 6.20448402e+23\n",
      " 1.55112100e+25 4.03291461e+26 1.08888695e+28 3.04888345e+29\n",
      " 8.84176199e+30 2.65252860e+32 8.22283865e+33 2.63130837e+35\n",
      " 8.68331762e+36 2.95232799e+38 1.03331480e+40 3.71993327e+41\n",
      " 1.37637531e+43 5.23022617e+44 2.03978821e+46 8.15915283e+47\n",
      " 3.34525266e+49 1.40500612e+51 6.04152631e+52 2.65827157e+54\n",
      " 1.19622221e+56 5.50262216e+57 2.58623242e+59 1.24139156e+61]\n"
     ]
    }
   ],
   "source": [
    "print(\"gamma(x) =\", special.gamma(x))"
   ]
  },
  {
   "cell_type": "code",
   "execution_count": 76,
   "id": "58c578cf",
   "metadata": {},
   "outputs": [
    {
     "data": {
      "text/plain": [
       "array([0. , 0. , 0.3, 1. , 0. , 0. , 1. , 1. , 1. , 1. , 1. , 1. , 1. ,\n",
       "       0. , 0. , 1. , 0.5, 0. , 0. , 1. ])"
      ]
     },
     "execution_count": 76,
     "metadata": {},
     "output_type": "execute_result"
    }
   ],
   "source": [
    "x = np.arange(10)\n",
    "y = np.empty(20)\n",
    "y"
   ]
  },
  {
   "cell_type": "code",
   "execution_count": 77,
   "id": "4271c2d4",
   "metadata": {},
   "outputs": [
    {
     "data": {
      "text/plain": [
       "array([  0.,   0.,  -4.,   1.,  -8.,   0., -12.,   1., -16.,   1., -20.,\n",
       "         1., -24.,   0., -28.,   1., -32.,   0., -36.,   1.])"
      ]
     },
     "execution_count": 77,
     "metadata": {},
     "output_type": "execute_result"
    }
   ],
   "source": [
    "np.multiply(x,-4,out=y[::2])\n",
    "y"
   ]
  },
  {
   "cell_type": "code",
   "execution_count": 78,
   "id": "52571050",
   "metadata": {},
   "outputs": [
    {
     "data": {
      "text/plain": [
       "45"
      ]
     },
     "execution_count": 78,
     "metadata": {},
     "output_type": "execute_result"
    }
   ],
   "source": [
    "np.add.reduce(x)"
   ]
  },
  {
   "cell_type": "code",
   "execution_count": 79,
   "id": "2d0a96df",
   "metadata": {},
   "outputs": [
    {
     "data": {
      "text/plain": [
       "array([ 0,  1,  3,  6, 10, 15, 21, 28, 36, 45])"
      ]
     },
     "execution_count": 79,
     "metadata": {},
     "output_type": "execute_result"
    }
   ],
   "source": [
    "np.add.accumulate(x)"
   ]
  },
  {
   "cell_type": "code",
   "execution_count": 80,
   "id": "7e4d692e",
   "metadata": {},
   "outputs": [
    {
     "data": {
      "text/plain": [
       "array([0.48231561])"
      ]
     },
     "execution_count": 80,
     "metadata": {},
     "output_type": "execute_result"
    }
   ],
   "source": [
    "# %%timeit\n",
    "L = np.random.random(100)\n",
    "# print(L)\n",
    "np.sum(L)/L.shape"
   ]
  },
  {
   "cell_type": "code",
   "execution_count": 81,
   "id": "22545284",
   "metadata": {},
   "outputs": [
    {
     "data": {
      "text/plain": [
       "array([[0.75555836, 0.14429492, 0.14954931, 0.0836442 , 0.1971993 ,\n",
       "        0.2737172 , 0.80664559, 0.12795214, 0.74832818, 0.15328873],\n",
       "       [0.64007825, 0.56112099, 0.99771693, 0.59142874, 0.1258379 ,\n",
       "        0.26427913, 0.21400439, 0.56670611, 0.03711501, 0.77855492],\n",
       "       [0.12333906, 0.97831986, 0.91493149, 0.48018112, 0.64199802,\n",
       "        0.72634578, 0.76189613, 0.73617636, 0.27554977, 0.51399161],\n",
       "       [0.31250207, 0.51614311, 0.33375313, 0.07894331, 0.05119731,\n",
       "        0.93837673, 0.47768444, 0.78235034, 0.12059267, 0.75252218],\n",
       "       [0.986168  , 0.31698481, 0.07241729, 0.09302211, 0.1062065 ,\n",
       "        0.65226978, 0.63679941, 0.56501659, 0.50732646, 0.74612829],\n",
       "       [0.551229  , 0.75045644, 0.11738258, 0.85625695, 0.14358165,\n",
       "        0.48963091, 0.5616225 , 0.20271625, 0.48569236, 0.08226467],\n",
       "       [0.8402376 , 0.21585936, 0.62580422, 0.09991539, 0.43570458,\n",
       "        0.54809679, 0.58970373, 0.58213233, 0.62527206, 0.25535607],\n",
       "       [0.360616  , 0.78876727, 0.45002187, 0.86374775, 0.22482424,\n",
       "        0.82505022, 0.41668365, 0.3928502 , 0.68689608, 0.43244067],\n",
       "       [0.70490621, 0.01694   , 0.22488122, 0.64832461, 0.24518352,\n",
       "        0.51967699, 0.62710206, 0.20753252, 0.75102491, 0.00642055],\n",
       "       [0.05857505, 0.3295187 , 0.4754157 , 0.71728071, 0.25712711,\n",
       "        0.26326439, 0.98316018, 0.15853528, 0.48781483, 0.02115899]])"
      ]
     },
     "execution_count": 81,
     "metadata": {},
     "output_type": "execute_result"
    }
   ],
   "source": [
    "np.random.rand(10,10)\n"
   ]
  },
  {
   "cell_type": "code",
   "execution_count": 82,
   "id": "784a4896",
   "metadata": {},
   "outputs": [
    {
     "name": "stdout",
     "output_type": "stream",
     "text": [
      "2.37 ms ± 316 µs per loop (mean ± std. dev. of 7 runs, 100 loops each)\n",
      "248 ms ± 68.5 ms per loop (mean ± std. dev. of 7 runs, 1 loop each)\n",
      "2.33 ms ± 446 µs per loop (mean ± std. dev. of 7 runs, 100 loops each)\n"
     ]
    }
   ],
   "source": [
    "big_array = np.random.rand(int(10e5))\n",
    "%timeit np.sum(big_array)\n",
    "%timeit sum(big_array)\n",
    "%timeit big_array.sum()"
   ]
  },
  {
   "cell_type": "code",
   "execution_count": 83,
   "id": "a97c5e64",
   "metadata": {},
   "outputs": [
    {
     "name": "stdout",
     "output_type": "stream",
     "text": [
      "500214.25542037946\n",
      "500214.2554203867\n",
      "500214.25542037946\n"
     ]
    }
   ],
   "source": [
    "print(np.sum(big_array))\n",
    "print(sum(big_array))\n",
    "print(big_array.sum())"
   ]
  },
  {
   "cell_type": "code",
   "execution_count": 84,
   "id": "ba17ac49",
   "metadata": {},
   "outputs": [
    {
     "data": {
      "text/plain": [
       "array([[0.10409056, 0.92126305, 0.679167  , 0.66200155],\n",
       "       [0.09761379, 0.85475093, 0.58482442, 0.39996498],\n",
       "       [0.54868445, 0.10586911, 0.1247232 , 0.97428545]])"
      ]
     },
     "execution_count": 84,
     "metadata": {},
     "output_type": "execute_result"
    }
   ],
   "source": [
    "M = np.random.rand(3,4)\n",
    "M"
   ]
  },
  {
   "cell_type": "code",
   "execution_count": 85,
   "id": "45dac00b",
   "metadata": {},
   "outputs": [
    {
     "data": {
      "text/plain": [
       "array([0.75038879, 1.88188308, 1.38871462, 2.03625198])"
      ]
     },
     "execution_count": 85,
     "metadata": {},
     "output_type": "execute_result"
    }
   ],
   "source": [
    "M.sum(axis=0)"
   ]
  },
  {
   "cell_type": "code",
   "execution_count": 86,
   "id": "32bb29cf",
   "metadata": {},
   "outputs": [
    {
     "data": {
      "text/plain": [
       "'hello'"
      ]
     },
     "execution_count": 86,
     "metadata": {},
     "output_type": "execute_result"
    }
   ],
   "source": [
    "\"hello\""
   ]
  },
  {
   "cell_type": "code",
   "execution_count": 87,
   "id": "214e046a",
   "metadata": {},
   "outputs": [
    {
     "data": {
      "text/plain": [
       "array([1.20225e+01, 2.00225e+01, 1.60225e+01, 4.02250e+00, 2.25000e-02,\n",
       "       8.02250e+00, 2.80225e+01, 2.40225e+01])"
      ]
     },
     "execution_count": 87,
     "metadata": {},
     "output_type": "execute_result"
    }
   ],
   "source": [
    "np.percentile(grid,0.75,axis=1)"
   ]
  },
  {
   "cell_type": "code",
   "execution_count": 88,
   "id": "5e3fa8fb",
   "metadata": {},
   "outputs": [
    {
     "data": {
      "text/plain": [
       "array([15, 23, 19,  7,  3, 11, 31, 27])"
      ]
     },
     "execution_count": 88,
     "metadata": {},
     "output_type": "execute_result"
    }
   ],
   "source": [
    "grid.max(axis=1)"
   ]
  },
  {
   "cell_type": "code",
   "execution_count": 89,
   "id": "cd1c44dc",
   "metadata": {},
   "outputs": [],
   "source": [
    "grid = grid.reshape((4,-1))"
   ]
  },
  {
   "cell_type": "code",
   "execution_count": 90,
   "id": "19f179b4",
   "metadata": {},
   "outputs": [
    {
     "data": {
      "text/plain": [
       "array([0, 4, 0, 4], dtype=int64)"
      ]
     },
     "execution_count": 90,
     "metadata": {},
     "output_type": "execute_result"
    }
   ],
   "source": [
    "np.argmin(grid,axis=1)"
   ]
  },
  {
   "cell_type": "code",
   "execution_count": 91,
   "id": "9c2ed725",
   "metadata": {},
   "outputs": [
    {
     "data": {
      "text/plain": [
       "array([[12, 13, 14, 15, 20, 21, 22, 23],\n",
       "       [16, 17, 18, 19,  4,  5,  6,  7],\n",
       "       [ 0,  1,  2,  3,  8,  9, 10, 11],\n",
       "       [28, 29, 30, 31, 24, 25, 26, 27]])"
      ]
     },
     "execution_count": 91,
     "metadata": {},
     "output_type": "execute_result"
    }
   ],
   "source": [
    "grid"
   ]
  },
  {
   "cell_type": "code",
   "execution_count": 92,
   "id": "9a9b6a8b",
   "metadata": {},
   "outputs": [
    {
     "data": {
      "text/plain": [
       "array([[12. , 13. , 14. , 15. , 20. , 21. , 22. , 23. ],\n",
       "       [16. , 17. , 18. , 19. ,  4. ,  5. ,  6. ,  7. ],\n",
       "       [ 0. ,  1. ,  2. ,  3. ,  8. ,  9. , 10. , 11. ],\n",
       "       [28. , 29. , 30. , 31. , 24. , 25. , 26. , 27. ],\n",
       "       [ 1.2,  1.3,  1.4,  1.5,  2. ,  2.1,  2.2,  2.3],\n",
       "       [ 1.6,  1.7,  1.8,  1.9,  0.4,  0.5,  0.6,  0.7],\n",
       "       [ 0. ,  0.1,  0.2,  0.3,  0.8,  0.9,  1. ,  1.1],\n",
       "       [ 2.8,  2.9,  3. ,  3.1,  2.4,  2.5,  2.6,  2.7]])"
      ]
     },
     "execution_count": 92,
     "metadata": {},
     "output_type": "execute_result"
    }
   ],
   "source": [
    "np.vstack([grid,grid/10])"
   ]
  },
  {
   "cell_type": "code",
   "execution_count": 93,
   "id": "64488e5f",
   "metadata": {},
   "outputs": [
    {
     "data": {
      "text/plain": [
       "array([[12. , 13. , 14. , 15. , 20. , 21. , 22. , 23. ],\n",
       "       [ 1.2,  1.3,  1.4,  1.5,  2. ,  2.1,  2.2,  2.3],\n",
       "       [ 0. ,  1. ,  2. ,  3. ,  8. ,  9. , 10. , 11. ],\n",
       "       [ 1.6,  1.7,  1.8,  1.9,  0.4,  0.5,  0.6,  0.7],\n",
       "       [ 0. ,  0.1,  0.2,  0.3,  0.8,  0.9,  1. ,  1.1],\n",
       "       [ 2.8,  2.9,  3. ,  3.1,  2.4,  2.5,  2.6,  2.7],\n",
       "       [16. , 17. , 18. , 19. ,  4. ,  5. ,  6. ,  7. ],\n",
       "       [28. , 29. , 30. , 31. , 24. , 25. , 26. , 27. ]])"
      ]
     },
     "execution_count": 93,
     "metadata": {},
     "output_type": "execute_result"
    }
   ],
   "source": [
    "f = np.vstack([grid,grid/10])\n",
    "np.random.shuffle(f)\n",
    "f"
   ]
  },
  {
   "cell_type": "code",
   "execution_count": 94,
   "id": "66ff6def",
   "metadata": {},
   "outputs": [
    {
     "data": {
      "text/plain": [
       "array([[1., 2., 3.],\n",
       "       [1., 2., 3.],\n",
       "       [1., 2., 3.]])"
      ]
     },
     "execution_count": 94,
     "metadata": {},
     "output_type": "execute_result"
    }
   ],
   "source": [
    "np.ones((3,1)) + np.arange(3)\n"
   ]
  },
  {
   "cell_type": "code",
   "execution_count": 95,
   "id": "3f4f7a3a",
   "metadata": {},
   "outputs": [],
   "source": [
    "x = np.linspace(0,5,50)\n",
    "y = np.linspace(0,5,50)[:, np.newaxis]"
   ]
  },
  {
   "cell_type": "code",
   "execution_count": 96,
   "id": "ca6145fd",
   "metadata": {},
   "outputs": [
    {
     "data": {
      "text/plain": [
       "array([0.        , 0.10204082, 0.20408163, 0.30612245, 0.40816327,\n",
       "       0.51020408, 0.6122449 , 0.71428571, 0.81632653, 0.91836735,\n",
       "       1.02040816, 1.12244898, 1.2244898 , 1.32653061, 1.42857143,\n",
       "       1.53061224, 1.63265306, 1.73469388, 1.83673469, 1.93877551,\n",
       "       2.04081633, 2.14285714, 2.24489796, 2.34693878, 2.44897959,\n",
       "       2.55102041, 2.65306122, 2.75510204, 2.85714286, 2.95918367,\n",
       "       3.06122449, 3.16326531, 3.26530612, 3.36734694, 3.46938776,\n",
       "       3.57142857, 3.67346939, 3.7755102 , 3.87755102, 3.97959184,\n",
       "       4.08163265, 4.18367347, 4.28571429, 4.3877551 , 4.48979592,\n",
       "       4.59183673, 4.69387755, 4.79591837, 4.89795918, 5.        ])"
      ]
     },
     "execution_count": 96,
     "metadata": {},
     "output_type": "execute_result"
    }
   ],
   "source": [
    "x"
   ]
  },
  {
   "cell_type": "code",
   "execution_count": 97,
   "id": "f5cd0462",
   "metadata": {},
   "outputs": [
    {
     "data": {
      "text/plain": [
       "array([[0.        ],\n",
       "       [0.10204082],\n",
       "       [0.20408163],\n",
       "       [0.30612245],\n",
       "       [0.40816327],\n",
       "       [0.51020408],\n",
       "       [0.6122449 ],\n",
       "       [0.71428571],\n",
       "       [0.81632653],\n",
       "       [0.91836735],\n",
       "       [1.02040816],\n",
       "       [1.12244898],\n",
       "       [1.2244898 ],\n",
       "       [1.32653061],\n",
       "       [1.42857143],\n",
       "       [1.53061224],\n",
       "       [1.63265306],\n",
       "       [1.73469388],\n",
       "       [1.83673469],\n",
       "       [1.93877551],\n",
       "       [2.04081633],\n",
       "       [2.14285714],\n",
       "       [2.24489796],\n",
       "       [2.34693878],\n",
       "       [2.44897959],\n",
       "       [2.55102041],\n",
       "       [2.65306122],\n",
       "       [2.75510204],\n",
       "       [2.85714286],\n",
       "       [2.95918367],\n",
       "       [3.06122449],\n",
       "       [3.16326531],\n",
       "       [3.26530612],\n",
       "       [3.36734694],\n",
       "       [3.46938776],\n",
       "       [3.57142857],\n",
       "       [3.67346939],\n",
       "       [3.7755102 ],\n",
       "       [3.87755102],\n",
       "       [3.97959184],\n",
       "       [4.08163265],\n",
       "       [4.18367347],\n",
       "       [4.28571429],\n",
       "       [4.3877551 ],\n",
       "       [4.48979592],\n",
       "       [4.59183673],\n",
       "       [4.69387755],\n",
       "       [4.79591837],\n",
       "       [4.89795918],\n",
       "       [5.        ]])"
      ]
     },
     "execution_count": 97,
     "metadata": {},
     "output_type": "execute_result"
    }
   ],
   "source": [
    "y"
   ]
  },
  {
   "cell_type": "code",
   "execution_count": 98,
   "id": "511b8d34",
   "metadata": {},
   "outputs": [],
   "source": [
    "z = np.sin(x) ** 10 + np.cos(4 + y * x) * np.cos(x)"
   ]
  },
  {
   "cell_type": "code",
   "execution_count": 99,
   "id": "e7dda9aa-f56c-47c3-aef0-84f7dc66abf0",
   "metadata": {},
   "outputs": [],
   "source": [
    "%matplotlib inline"
   ]
  },
  {
   "cell_type": "code",
   "execution_count": 100,
   "id": "c205c712-99b1-404e-b3a6-f024b7d75cbe",
   "metadata": {},
   "outputs": [],
   "source": [
    "import matplotlib.pyplot as plt"
   ]
  },
  {
   "cell_type": "code",
   "execution_count": 101,
   "id": "f8c70f49-7ef7-451d-8ea5-9a85e4c20c06",
   "metadata": {},
   "outputs": [
    {
     "data": {
      "image/png": "[encoded data removed]",
      "text/plain": [
       "<Figure size 640x480 with 2 Axes>"
      ]
     },
     "metadata": {},
     "output_type": "display_data"
    }
   ],
   "source": [
    "plt.imshow(z, origin='lower', extent=[0,5,0,5], cmap='viridis');\n",
    "plt.colorbar();"
   ]
  },
  {
   "cell_type": "code",
   "execution_count": 102,
   "id": "eb6b1bd2-ff74-44e2-9b42-ab6538904796",
   "metadata": {},
   "outputs": [],
   "source": [
    "x = np.random.random(10)"
   ]
  },
  {
   "cell_type": "code",
   "execution_count": 103,
   "id": "4360a7ba-a765-4f76-88c7-feda04aa2bff",
   "metadata": {},
   "outputs": [
    {
     "data": {
      "image/png": "[encoded data removed]",
      "text/plain": [
       "<Figure size 640x480 with 1 Axes>"
      ]
     },
     "metadata": {},
     "output_type": "display_data"
    }
   ],
   "source": [
    "# !pip install seaborn\n",
    "import seaborn as sns\n",
    "sns.set()\n",
    "plt.hist(x, 50);\n",
    "plt.show()"
   ]
  },
  {
   "cell_type": "code",
   "execution_count": 104,
   "id": "d8b8144b-9c0d-4e5b-a119-0b8989f66b57",
   "metadata": {},
   "outputs": [
    {
     "name": "stdout",
     "output_type": "stream",
     "text": [
      "[0.53868494]\n"
     ]
    }
   ],
   "source": [
    "x = np.random.random(20)\n",
    "print(x.sum()/x.shape)"
   ]
  },
  {
   "cell_type": "code",
   "execution_count": 105,
   "id": "f1c856cd-1b76-4bbc-b432-f8615cd6d1b0",
   "metadata": {},
   "outputs": [
    {
     "data": {
      "text/plain": [
       "array([[0.59118864, 0.10465831, 0.01258607, 0.74123982, 0.31238939],\n",
       "       [0.74540516, 0.72451969, 0.82949897, 0.86355798, 0.04695699],\n",
       "       [0.20667608, 0.23658524, 0.94609742, 0.11346717, 0.84262988],\n",
       "       [0.85229884, 0.44707834, 0.58161566, 0.6666011 , 0.90864803]])"
      ]
     },
     "execution_count": 105,
     "metadata": {},
     "output_type": "execute_result"
    }
   ],
   "source": [
    "x.reshape(4,5)"
   ]
  },
  {
   "cell_type": "code",
   "execution_count": 106,
   "id": "067de9d3-9a90-4433-ae5f-fcdb919f16be",
   "metadata": {},
   "outputs": [
    {
     "data": {
      "text/plain": [
       "9.293301191193914"
      ]
     },
     "execution_count": 106,
     "metadata": {},
     "output_type": "execute_result"
    }
   ],
   "source": [
    "np.sum(x[x > 0.5])"
   ]
  },
  {
   "cell_type": "code",
   "execution_count": 107,
   "id": "4d565871-2cf9-430e-a739-daf918730d62",
   "metadata": {},
   "outputs": [
    {
     "data": {
      "text/plain": [
       "9.293301191193914"
      ]
     },
     "execution_count": 107,
     "metadata": {},
     "output_type": "execute_result"
    }
   ],
   "source": [
    "np.sum(x[(x>0.5) & (x<1)])"
   ]
  },
  {
   "cell_type": "code",
   "execution_count": 108,
   "id": "fb715eb6-9a97-4c05-b491-c2876a2778e8",
   "metadata": {},
   "outputs": [
    {
     "data": {
      "text/plain": [
       "(100, 2)"
      ]
     },
     "execution_count": 108,
     "metadata": {},
     "output_type": "execute_result"
    }
   ],
   "source": [
    "mean = [0, 0]\n",
    "cov = [[1, 2],\n",
    "[2, 5]]\n",
    "x = np.random.multivariate_normal(mean, cov, 100)\n",
    "x.shape"
   ]
  },
  {
   "cell_type": "code",
   "execution_count": 109,
   "id": "720c3bb6",
   "metadata": {},
   "outputs": [],
   "source": [
    "y = np.random.choice(x.shape[0], 20,replace=False)"
   ]
  },
  {
   "cell_type": "code",
   "execution_count": 110,
   "id": "2376866a",
   "metadata": {},
   "outputs": [
    {
     "data": {
      "text/plain": [
       "array([91, 74, 19, 18, 29, 54, 52, 58, 88, 44, 89,  8,  5, 41,  3, 70, 72,\n",
       "       87, 48, 11])"
      ]
     },
     "execution_count": 110,
     "metadata": {},
     "output_type": "execute_result"
    }
   ],
   "source": [
    "y"
   ]
  },
  {
   "cell_type": "code",
   "execution_count": 111,
   "id": "7ddc191d-8f8c-4abd-ac79-73a3aaa5b906",
   "metadata": {},
   "outputs": [
    {
     "data": {
      "image/png": "[encoded data removed]",
      "text/plain": [
       "<Figure size 640x480 with 1 Axes>"
      ]
     },
     "metadata": {},
     "output_type": "display_data"
    }
   ],
   "source": [
    "plt.scatter(x[:,0],x[:,1],alpha=0.4);\n",
    "plt.scatter(x[y][:,0],x[y][:,1],s=200,facecolor='none',edgecolors='r');"
   ]
  },
  {
   "cell_type": "code",
   "execution_count": 112,
   "id": "11860f5e-dffb-451f-88d7-ac0f6eb9549c",
   "metadata": {},
   "outputs": [],
   "source": [
    "y = np.random.choice(x.shape[0], 5, replace=False)"
   ]
  },
  {
   "cell_type": "code",
   "execution_count": 113,
   "id": "8e91962c-9419-40ea-b97b-a621519c60f5",
   "metadata": {},
   "outputs": [
    {
     "data": {
      "text/plain": [
       "array([94, 95, 85, 56, 23])"
      ]
     },
     "execution_count": 113,
     "metadata": {},
     "output_type": "execute_result"
    }
   ],
   "source": [
    "y"
   ]
  },
  {
   "cell_type": "code",
   "execution_count": 114,
   "id": "109af907-b829-4ead-adae-b381dc3d7586",
   "metadata": {},
   "outputs": [],
   "source": [
    "# y.reshape(2,2,5)"
   ]
  },
  {
   "cell_type": "code",
   "execution_count": 115,
   "id": "1d8a9b0a-890b-434f-8149-4ce8cea418ac",
   "metadata": {},
   "outputs": [
    {
     "data": {
      "text/plain": [
       "3.3333333333333335"
      ]
     },
     "execution_count": 115,
     "metadata": {},
     "output_type": "execute_result"
    }
   ],
   "source": [
    "10/3"
   ]
  },
  {
   "cell_type": "code",
   "execution_count": 116,
   "id": "63db75d7-05b6-4dbe-9a26-ac76354fa25d",
   "metadata": {},
   "outputs": [
    {
     "data": {
      "text/plain": [
       "3"
      ]
     },
     "execution_count": 116,
     "metadata": {},
     "output_type": "execute_result"
    }
   ],
   "source": [
    "10//3"
   ]
  },
  {
   "cell_type": "code",
   "execution_count": 117,
   "id": "c4c8726d-4bc9-4a45-8bb3-ddb36c2071a2",
   "metadata": {},
   "outputs": [
    {
     "data": {
      "text/plain": [
       "(5,)"
      ]
     },
     "execution_count": 117,
     "metadata": {},
     "output_type": "execute_result"
    }
   ],
   "source": [
    "y.shape"
   ]
  },
  {
   "cell_type": "code",
   "execution_count": 118,
   "id": "918d66c3-ffab-4538-9670-eac34c770e09",
   "metadata": {},
   "outputs": [],
   "source": [
    "x = np.random.random((100,100,3))"
   ]
  },
  {
   "cell_type": "code",
   "execution_count": 119,
   "id": "dc4cc793-2baf-4bf2-a49a-72d2ce627d7f",
   "metadata": {},
   "outputs": [
    {
     "data": {
      "image/png": "[encoded data removed]",
      "text/plain": [
       "<Figure size 640x480 with 2 Axes>"
      ]
     },
     "metadata": {},
     "output_type": "display_data"
    }
   ],
   "source": [
    "plt.imshow(x, origin='lower', extent=[0,5,0,5], cmap='viridis');\n",
    "plt.grid(False);\n",
    "plt.colorbar();"
   ]
  },
  {
   "cell_type": "code",
   "execution_count": 120,
   "id": "b686e273-dd3d-4428-b6a7-f8562ecaa9b6",
   "metadata": {},
   "outputs": [
    {
     "data": {
      "text/plain": [
       "[<matplotlib.lines.Line2D at 0x1bb635f0580>]"
      ]
     },
     "execution_count": 120,
     "metadata": {},
     "output_type": "execute_result"
    },
    {
     "data": {
      "image/png": "[encoded data removed]",
      "text/plain": [
       "<Figure size 640x480 with 1 Axes>"
      ]
     },
     "metadata": {},
     "output_type": "display_data"
    }
   ],
   "source": [
    "bins = np.linspace(-5,5,50)\n",
    "\n",
    "counts = np.zeros_like(bins)\n",
    "\n",
    "i = np.searchsorted(bins, x[:,0])\n",
    "\n",
    "np.add.at(counts, i, 1)\n",
    "\n",
    "plt.plot(bins, counts, linestyle='dotted')"
   ]
  },
  {
   "cell_type": "code",
   "execution_count": 121,
   "id": "ef96c46f-973b-4ef8-a572-d5cad301a6b9",
   "metadata": {},
   "outputs": [
    {
     "data": {
      "text/plain": [
       "array([-5.        , -4.79591837, -4.59183673, -4.3877551 , -4.18367347,\n",
       "       -3.97959184, -3.7755102 , -3.57142857, -3.36734694, -3.16326531,\n",
       "       -2.95918367, -2.75510204, -2.55102041, -2.34693878, -2.14285714,\n",
       "       -1.93877551, -1.73469388, -1.53061224, -1.32653061, -1.12244898,\n",
       "       -0.91836735, -0.71428571, -0.51020408, -0.30612245, -0.10204082,\n",
       "        0.10204082,  0.30612245,  0.51020408,  0.71428571,  0.91836735,\n",
       "        1.12244898,  1.32653061,  1.53061224,  1.73469388,  1.93877551,\n",
       "        2.14285714,  2.34693878,  2.55102041,  2.75510204,  2.95918367,\n",
       "        3.16326531,  3.36734694,  3.57142857,  3.7755102 ,  3.97959184,\n",
       "        4.18367347,  4.3877551 ,  4.59183673,  4.79591837,  5.        ])"
      ]
     },
     "execution_count": 121,
     "metadata": {},
     "output_type": "execute_result"
    }
   ],
   "source": [
    "bins"
   ]
  },
  {
   "cell_type": "code",
   "execution_count": 122,
   "id": "7b69997d-a7ce-4129-af47-3275b80ee50d",
   "metadata": {},
   "outputs": [
    {
     "data": {
      "text/plain": [
       "array([[0.83502491, 0.17137191, 0.05305621],\n",
       "       [0.97278358, 0.76989703, 0.42526071],\n",
       "       [0.21169149, 0.74593737, 0.5052913 ]])"
      ]
     },
     "execution_count": 122,
     "metadata": {},
     "output_type": "execute_result"
    }
   ],
   "source": [
    "x[:,0][[1,2,3]]"
   ]
  },
  {
   "cell_type": "code",
   "execution_count": 123,
   "id": "ab51713b-7296-41c2-8dc7-4c63f68b43f1",
   "metadata": {},
   "outputs": [],
   "source": [
    "x = np.random.randn(100)\n",
    "# compute a histogram by hand\n",
    "bins = np.linspace(-5, 5, 15)\n",
    "counts = np.zeros_like(bins)\n",
    "# find the appropriate bin for each x\n",
    "i = np.searchsorted(bins, x)\n",
    "# add 1 to each of these bins\n",
    "np.add.at(counts, i, 1)\n"
   ]
  },
  {
   "cell_type": "code",
   "execution_count": 124,
   "id": "891bdb6d-caa4-4a91-96d9-e68b3d2d2075",
   "metadata": {},
   "outputs": [
    {
     "data": {
      "image/png": "[encoded data removed]",
      "text/plain": [
       "<Figure size 640x480 with 1 Axes>"
      ]
     },
     "metadata": {},
     "output_type": "display_data"
    }
   ],
   "source": [
    "plt.hist(x,bins);\n",
    "plt.plot(bins, counts, linestyle='--');\n"
   ]
  },
  {
   "cell_type": "code",
   "execution_count": 133,
   "id": "3861bdd3-1657-4b03-a850-d53ca7e17ac3",
   "metadata": {},
   "outputs": [],
   "source": [
    "x = np.random.random(40)"
   ]
  },
  {
   "cell_type": "code",
   "execution_count": 150,
   "id": "d2a4a936",
   "metadata": {},
   "outputs": [
    {
     "data": {
      "text/plain": [
       "array([0.03523398, 0.04397988, 0.06979488, 0.07108401, 0.11214622,\n",
       "       0.23748191, 0.32109824, 0.32525427, 0.33626749, 0.35611241,\n",
       "       0.40136498, 0.40178323, 0.42592394, 0.45074833, 0.47151607,\n",
       "       0.50005882, 0.50605665, 0.53970955, 0.55168347, 0.55375095,\n",
       "       0.55773358, 0.5757439 , 0.59365793, 0.64769826, 0.66136024,\n",
       "       0.66816427, 0.67425067, 0.70873813, 0.72807032, 0.73203222,\n",
       "       0.73863607, 0.81743338, 0.84841819, 0.86839852, 0.88500621,\n",
       "       0.91552194, 0.92964457, 0.93077582, 0.93668715, 0.98102489])"
      ]
     },
     "execution_count": 150,
     "metadata": {},
     "output_type": "execute_result"
    }
   ],
   "source": [
    "np.sort(x)"
   ]
  },
  {
   "cell_type": "code",
   "execution_count": 149,
   "id": "c5e24bbb",
   "metadata": {},
   "outputs": [
    {
     "data": {
      "text/plain": [
       "<matplotlib.collections.LineCollection at 0x1bb6c4411e0>"
      ]
     },
     "execution_count": 149,
     "metadata": {},
     "output_type": "execute_result"
    },
    {
     "data": {
      "image/png": "[encoded data removed]",
      "text/plain": [
       "<Figure size 640x480 with 1 Axes>"
      ]
     },
     "metadata": {},
     "output_type": "display_data"
    }
   ],
   "source": [
    "plt.plot(x)\n",
    "plt.hlines(0.5,xmin=np.min(x),xmax=x.shape[0],colors='g')\n",
    "plt.vlines(x.shape[0]/2,ymin=np.min(x),ymax=np.max(x),colors='g')"
   ]
  },
  {
   "cell_type": "code",
   "execution_count": 147,
   "id": "dd6af7ab",
   "metadata": {},
   "outputs": [
    {
     "data": {
      "text/plain": [
       "<matplotlib.collections.LineCollection at 0x1bb6c2bcc40>"
      ]
     },
     "execution_count": 147,
     "metadata": {},
     "output_type": "execute_result"
    },
    {
     "data": {
      "image/png": "[encoded data removed]",
      "text/plain": [
       "<Figure size 640x480 with 1 Axes>"
      ]
     },
     "metadata": {},
     "output_type": "display_data"
    }
   ],
   "source": [
    "plt.plot(np.sort(x))\n",
    "plt.hlines(0.5,xmin=np.min(x),xmax=x.shape[0],colors='g')\n",
    "plt.vlines(x.shape[0]/2,ymin=np.min(x),ymax=np.max(x),colors='g')"
   ]
  },
  {
   "cell_type": "code",
   "execution_count": 165,
   "id": "59a7617c",
   "metadata": {},
   "outputs": [],
   "source": [
    "x = np.random.randint(0,100,(20,20))"
   ]
  },
  {
   "cell_type": "code",
   "execution_count": 166,
   "id": "0dd91f60",
   "metadata": {},
   "outputs": [
    {
     "data": {
      "text/plain": [
       "array([[ 4,  0, 19, 48, 92, 16, 50, 80,  6, 96, 51, 71, 58, 38, 75, 71,\n",
       "        24, 48,  8, 44],\n",
       "       [89, 72, 90, 68, 48, 87, 54, 34, 95, 54, 16, 94,  4, 94, 26, 99,\n",
       "        95,  2, 85, 51],\n",
       "       [66, 90, 22, 60, 43, 35, 79,  6, 12, 27, 28, 82,  9, 57, 72, 73,\n",
       "        82, 77, 70, 98],\n",
       "       [46, 84, 26, 86, 76, 99, 42, 69, 35, 59, 93, 69, 94, 70, 13, 30,\n",
       "        56, 73, 54,  0],\n",
       "       [73, 36, 92, 76, 83, 39, 49, 91, 16, 50, 55, 52, 73, 30, 56, 54,\n",
       "        25, 28,  8,  2],\n",
       "       [57,  5, 52, 34,  2, 16, 51, 22, 21, 57, 64, 51, 70, 29, 58, 58,\n",
       "        31, 15,  1, 38],\n",
       "       [41, 47, 78, 96, 55, 19, 37,  0, 93, 69, 45, 17, 55, 79, 54, 84,\n",
       "         8, 48, 30, 57],\n",
       "       [84, 22, 52, 79, 67, 77, 10, 28, 25, 55,  8, 26, 37, 73, 18, 62,\n",
       "        74, 80, 75, 93],\n",
       "       [59, 60, 72, 16, 48,  7, 10, 15, 52,  8, 92, 42, 16, 32, 26,  4,\n",
       "        35, 53, 79, 89],\n",
       "       [93, 59, 11, 48, 48, 95, 74, 54,  0, 62, 21, 71,  8, 65, 11, 17,\n",
       "        79, 58, 76, 90],\n",
       "       [37, 70, 47, 17, 34, 81,  7,  3, 43, 66,  9, 72,  9, 60, 36, 65,\n",
       "        19, 75, 69, 38],\n",
       "       [95, 75, 88, 68, 47, 84, 23,  5, 20, 35, 11, 18, 53, 74, 74, 44,\n",
       "         5, 44, 53, 21],\n",
       "       [76, 51, 74,  6, 34, 60, 43, 74,  6, 38, 50,  1, 54, 83,  6, 96,\n",
       "         7, 90, 68, 77],\n",
       "       [ 6, 91, 80, 93, 11, 91, 14, 27, 33, 59, 36, 96, 72, 88, 81, 46,\n",
       "        69, 27, 40,  1],\n",
       "       [87, 62, 37, 57, 67,  6, 77, 67,  2, 57, 99, 48,  7,  3, 68, 11,\n",
       "        53, 14, 47, 39],\n",
       "       [ 3, 32,  1, 43, 92, 76, 24,  0, 91, 87, 49, 24,  6, 37, 99,  7,\n",
       "        85, 87, 57, 74],\n",
       "       [78, 84, 39, 83, 72, 98,  7, 80, 51, 54, 68, 71,  3, 11, 90, 59,\n",
       "        21, 60, 80, 43],\n",
       "       [15, 64, 98, 21, 22, 32, 33, 71, 40, 98, 64, 61, 39, 25, 22, 78,\n",
       "        87, 24, 10, 67],\n",
       "       [42,  2, 66, 31,  6, 20, 70, 49, 33, 66,  2, 24, 41, 52, 52, 92,\n",
       "        84, 35, 95, 24],\n",
       "       [37,  0, 35, 24, 46,  2, 17, 40, 27, 52, 93, 54,  3, 73, 57, 45,\n",
       "        99, 98, 98, 98]])"
      ]
     },
     "execution_count": 166,
     "metadata": {},
     "output_type": "execute_result"
    }
   ],
   "source": [
    "x"
   ]
  },
  {
   "cell_type": "code",
   "execution_count": 167,
   "id": "d2a0c36d",
   "metadata": {},
   "outputs": [],
   "source": [
    "x = np.sort(x,axis=0)"
   ]
  },
  {
   "cell_type": "code",
   "execution_count": 168,
   "id": "0963d188",
   "metadata": {},
   "outputs": [],
   "source": [
    "x = np.sort(x,axis=1)"
   ]
  },
  {
   "cell_type": "code",
   "execution_count": 163,
   "id": "943135bb",
   "metadata": {
    "collapsed": true
   },
   "outputs": [
    {
     "data": {
      "text/plain": [
       "['Annotation',\n",
       " 'Arrow',\n",
       " 'Artist',\n",
       " 'AutoLocator',\n",
       " 'Axes',\n",
       " 'Button',\n",
       " 'Circle',\n",
       " 'Figure',\n",
       " 'FigureCanvasBase',\n",
       " 'FixedFormatter',\n",
       " 'FixedLocator',\n",
       " 'FormatStrFormatter',\n",
       " 'Formatter',\n",
       " 'FuncFormatter',\n",
       " 'GridSpec',\n",
       " 'IndexLocator',\n",
       " 'Line2D',\n",
       " 'LinearLocator',\n",
       " 'Locator',\n",
       " 'LogFormatter',\n",
       " 'LogFormatterExponent',\n",
       " 'LogFormatterMathtext',\n",
       " 'LogLocator',\n",
       " 'MaxNLocator',\n",
       " 'MouseButton',\n",
       " 'MultipleLocator',\n",
       " 'Normalize',\n",
       " 'NullFormatter',\n",
       " 'NullLocator',\n",
       " 'Number',\n",
       " 'PolarAxes',\n",
       " 'Polygon',\n",
       " 'Rectangle',\n",
       " 'ScalarFormatter',\n",
       " 'Slider',\n",
       " 'Subplot',\n",
       " 'SubplotSpec',\n",
       " 'Text',\n",
       " 'TickHelper',\n",
       " 'Widget',\n",
       " '_INSTALL_FIG_OBSERVER',\n",
       " '_IP_REGISTERED',\n",
       " '_IoffContext',\n",
       " '_IonContext',\n",
       " '__builtins__',\n",
       " '__cached__',\n",
       " '__doc__',\n",
       " '__file__',\n",
       " '__loader__',\n",
       " '__name__',\n",
       " '__package__',\n",
       " '__spec__',\n",
       " '_api',\n",
       " '_auto_draw_if_interactive',\n",
       " '_backend_mod',\n",
       " '_copy_docstring_and_deprecators',\n",
       " '_get_backend_mod',\n",
       " '_get_required_interactive_framework',\n",
       " '_interactive_bk',\n",
       " '_log',\n",
       " '_pylab_helpers',\n",
       " '_setup_pyplot_info_docstrings',\n",
       " '_warn_if_gui_out_of_main_thread',\n",
       " '_xkcd',\n",
       " 'acorr',\n",
       " 'angle_spectrum',\n",
       " 'annotate',\n",
       " 'arrow',\n",
       " 'autoscale',\n",
       " 'autumn',\n",
       " 'axes',\n",
       " 'axhline',\n",
       " 'axhspan',\n",
       " 'axis',\n",
       " 'axline',\n",
       " 'axvline',\n",
       " 'axvspan',\n",
       " 'bar',\n",
       " 'bar_label',\n",
       " 'barbs',\n",
       " 'barh',\n",
       " 'bone',\n",
       " 'box',\n",
       " 'boxplot',\n",
       " 'broken_barh',\n",
       " 'cbook',\n",
       " 'cla',\n",
       " 'clabel',\n",
       " 'clf',\n",
       " 'clim',\n",
       " 'close',\n",
       " 'cm',\n",
       " 'cohere',\n",
       " 'colorbar',\n",
       " 'colormaps',\n",
       " 'connect',\n",
       " 'contour',\n",
       " 'contourf',\n",
       " 'cool',\n",
       " 'copper',\n",
       " 'csd',\n",
       " 'cycler',\n",
       " 'delaxes',\n",
       " 'disconnect',\n",
       " 'docstring',\n",
       " 'draw',\n",
       " 'draw_all',\n",
       " 'draw_if_interactive',\n",
       " 'errorbar',\n",
       " 'eventplot',\n",
       " 'figaspect',\n",
       " 'figimage',\n",
       " 'figlegend',\n",
       " 'fignum_exists',\n",
       " 'figtext',\n",
       " 'figure',\n",
       " 'fill',\n",
       " 'fill_between',\n",
       " 'fill_betweenx',\n",
       " 'findobj',\n",
       " 'flag',\n",
       " 'functools',\n",
       " 'gca',\n",
       " 'gcf',\n",
       " 'gci',\n",
       " 'get',\n",
       " 'get_backend',\n",
       " 'get_cmap',\n",
       " 'get_current_fig_manager',\n",
       " 'get_figlabels',\n",
       " 'get_fignums',\n",
       " 'get_plot_commands',\n",
       " 'get_scale_names',\n",
       " 'getp',\n",
       " 'ginput',\n",
       " 'gray',\n",
       " 'grid',\n",
       " 'hexbin',\n",
       " 'hist',\n",
       " 'hist2d',\n",
       " 'hlines',\n",
       " 'hot',\n",
       " 'hsv',\n",
       " 'importlib',\n",
       " 'imread',\n",
       " 'imsave',\n",
       " 'imshow',\n",
       " 'inferno',\n",
       " 'inspect',\n",
       " 'install_repl_displayhook',\n",
       " 'interactive',\n",
       " 'ioff',\n",
       " 'ion',\n",
       " 'isinteractive',\n",
       " 'jet',\n",
       " 'legend',\n",
       " 'locator_params',\n",
       " 'logging',\n",
       " 'loglog',\n",
       " 'magma',\n",
       " 'magnitude_spectrum',\n",
       " 'margins',\n",
       " 'matplotlib',\n",
       " 'matshow',\n",
       " 'minorticks_off',\n",
       " 'minorticks_on',\n",
       " 'mlab',\n",
       " 'new_figure_manager',\n",
       " 'nipy_spectral',\n",
       " 'np',\n",
       " 'pause',\n",
       " 'pcolor',\n",
       " 'pcolormesh',\n",
       " 'phase_spectrum',\n",
       " 'pie',\n",
       " 'pink',\n",
       " 'plasma',\n",
       " 'plot',\n",
       " 'plot_date',\n",
       " 'plotting',\n",
       " 'polar',\n",
       " 'prism',\n",
       " 'psd',\n",
       " 'quiver',\n",
       " 'quiverkey',\n",
       " 'rc',\n",
       " 'rcParams',\n",
       " 'rcParamsDefault',\n",
       " 'rcParamsOrig',\n",
       " 'rc_context',\n",
       " 'rcdefaults',\n",
       " 'rcsetup',\n",
       " 're',\n",
       " 'register_cmap',\n",
       " 'rgrids',\n",
       " 'savefig',\n",
       " 'sca',\n",
       " 'scatter',\n",
       " 'sci',\n",
       " 'semilogx',\n",
       " 'semilogy',\n",
       " 'set_cmap',\n",
       " 'set_loglevel',\n",
       " 'setp',\n",
       " 'show',\n",
       " 'specgram',\n",
       " 'spring',\n",
       " 'spy',\n",
       " 'stackplot',\n",
       " 'stairs',\n",
       " 'stem',\n",
       " 'step',\n",
       " 'streamplot',\n",
       " 'style',\n",
       " 'subplot',\n",
       " 'subplot2grid',\n",
       " 'subplot_mosaic',\n",
       " 'subplot_tool',\n",
       " 'subplots',\n",
       " 'subplots_adjust',\n",
       " 'summer',\n",
       " 'suptitle',\n",
       " 'switch_backend',\n",
       " 'sys',\n",
       " 'table',\n",
       " 'text',\n",
       " 'thetagrids',\n",
       " 'threading',\n",
       " 'tick_params',\n",
       " 'ticklabel_format',\n",
       " 'tight_layout',\n",
       " 'time',\n",
       " 'title',\n",
       " 'tricontour',\n",
       " 'tricontourf',\n",
       " 'tripcolor',\n",
       " 'triplot',\n",
       " 'twinx',\n",
       " 'twiny',\n",
       " 'uninstall_repl_displayhook',\n",
       " 'violinplot',\n",
       " 'viridis',\n",
       " 'vlines',\n",
       " 'waitforbuttonpress',\n",
       " 'winter',\n",
       " 'xcorr',\n",
       " 'xkcd',\n",
       " 'xlabel',\n",
       " 'xlim',\n",
       " 'xscale',\n",
       " 'xticks',\n",
       " 'ylabel',\n",
       " 'ylim',\n",
       " 'yscale',\n",
       " 'yticks']"
      ]
     },
     "execution_count": 163,
     "metadata": {},
     "output_type": "execute_result"
    }
   ],
   "source": [
    "dir(plt)"
   ]
  },
  {
   "cell_type": "code",
   "execution_count": 169,
   "id": "9a01dfdc",
   "metadata": {},
   "outputs": [
    {
     "data": {
      "text/plain": [
       "<matplotlib.image.AxesImage at 0x1bb6c777c10>"
      ]
     },
     "execution_count": 169,
     "metadata": {},
     "output_type": "execute_result"
    },
    {
     "data": {
      "image/png": "[encoded data removed]",
      "text/plain": [
       "<Figure size 480x480 with 1 Axes>"
      ]
     },
     "metadata": {},
     "output_type": "display_data"
    }
   ],
   "source": [
    "plt.matshow(x)"
   ]
  },
  {
   "cell_type": "code",
   "execution_count": 178,
   "id": "63093223",
   "metadata": {},
   "outputs": [
    {
     "data": {
      "text/plain": [
       "array([ 3,  1,  4,  5,  6,  7, 10])"
      ]
     },
     "execution_count": 178,
     "metadata": {},
     "output_type": "execute_result"
    }
   ],
   "source": [
    "x = np.array([7, 10, 3, 1, 6, 5, 4])\n",
    "np.partition(x, 4) # K shortest"
   ]
  },
  {
   "cell_type": "code",
   "execution_count": 179,
   "id": "ca710ee1",
   "metadata": {},
   "outputs": [],
   "source": [
    "x = np.random.rand(2,10)"
   ]
  },
  {
   "cell_type": "code",
   "execution_count": 186,
   "id": "e4fbea25",
   "metadata": {},
   "outputs": [
    {
     "data": {
      "text/plain": [
       "array([0.24223869, 0.85362096, 0.51957567, 0.25010745, 0.54864457,\n",
       "       0.71427759, 0.43584682, 0.36735092, 0.74934441, 0.22390281])"
      ]
     },
     "execution_count": 186,
     "metadata": {},
     "output_type": "execute_result"
    }
   ],
   "source": [
    "x[0,:]"
   ]
  },
  {
   "cell_type": "code",
   "execution_count": 181,
   "id": "cc4b4b09",
   "metadata": {},
   "outputs": [],
   "source": [
    "import seaborn as sns; sns.set()"
   ]
  },
  {
   "cell_type": "code",
   "execution_count": 190,
   "id": "ee147bdb",
   "metadata": {},
   "outputs": [
    {
     "data": {
      "text/plain": [
       "array([[0.22390281, 0.24223869, 0.25010745, 0.36735092, 0.43584682,\n",
       "        0.51957567, 0.54864457, 0.71427759, 0.74934441, 0.85362096],\n",
       "       [0.05182187, 0.08967323, 0.18965891, 0.27243128, 0.34759201,\n",
       "        0.4329841 , 0.43515276, 0.60285893, 0.72326162, 0.97296817]])"
      ]
     },
     "execution_count": 190,
     "metadata": {},
     "output_type": "execute_result"
    }
   ],
   "source": [
    "x.sort(axis=1)\n",
    "x"
   ]
  },
  {
   "cell_type": "code",
   "execution_count": 191,
   "id": "49c4dc99",
   "metadata": {},
   "outputs": [
    {
     "data": {
      "text/plain": [
       "[<matplotlib.lines.Line2D at 0x1bb6c580f70>]"
      ]
     },
     "execution_count": 191,
     "metadata": {},
     "output_type": "execute_result"
    },
    {
     "data": {
      "image/png": "[encoded data removed]",
      "text/plain": [
       "<Figure size 640x480 with 1 Axes>"
      ]
     },
     "metadata": {},
     "output_type": "display_data"
    }
   ],
   "source": [
    "plt.plot(x[0,:],x[1,:])"
   ]
  },
  {
   "cell_type": "code",
   "execution_count": 201,
   "id": "59085629",
   "metadata": {},
   "outputs": [],
   "source": [
    "x = np.random.rand(10,2)"
   ]
  },
  {
   "cell_type": "code",
   "execution_count": 202,
   "id": "0d97503f",
   "metadata": {},
   "outputs": [
    {
     "data": {
      "image/png": "[encoded data removed]",
      "text/plain": [
       "<Figure size 640x480 with 1 Axes>"
      ]
     },
     "metadata": {},
     "output_type": "display_data"
    }
   ],
   "source": [
    "plt.scatter(x[:,0],x[:,1],s=100);"
   ]
  },
  {
   "cell_type": "code",
   "execution_count": 203,
   "id": "feedf027",
   "metadata": {},
   "outputs": [
    {
     "data": {
      "text/plain": [
       "(10, 10, 2)"
      ]
     },
     "execution_count": 203,
     "metadata": {},
     "output_type": "execute_result"
    }
   ],
   "source": [
    "# for each pair of points, compute differences in their coordinates\n",
    "differences = x[:, np.newaxis, :] - x[np.newaxis, :, :]\n",
    "differences.shape"
   ]
  },
  {
   "cell_type": "code",
   "execution_count": 206,
   "id": "e1b10e5a",
   "metadata": {},
   "outputs": [
    {
     "data": {
      "text/plain": [
       "(10, 2)"
      ]
     },
     "execution_count": 206,
     "metadata": {},
     "output_type": "execute_result"
    }
   ],
   "source": [
    "x.shape"
   ]
  },
  {
   "cell_type": "code",
   "execution_count": 207,
   "id": "58be6f2f",
   "metadata": {},
   "outputs": [
    {
     "data": {
      "text/plain": [
       "(10, 1, 2)"
      ]
     },
     "execution_count": 207,
     "metadata": {},
     "output_type": "execute_result"
    }
   ],
   "source": [
    "x[:, np.newaxis, :].shape"
   ]
  },
  {
   "cell_type": "code",
   "execution_count": 209,
   "id": "4d1e3779",
   "metadata": {},
   "outputs": [
    {
     "data": {
      "text/plain": [
       "(1, 10, 2)"
      ]
     },
     "execution_count": 209,
     "metadata": {},
     "output_type": "execute_result"
    }
   ],
   "source": [
    "x[np.newaxis, :, :].shape"
   ]
  },
  {
   "cell_type": "code",
   "execution_count": 224,
   "id": "b6034c99",
   "metadata": {},
   "outputs": [
    {
     "data": {
      "text/plain": [
       "(10, 10)"
      ]
     },
     "execution_count": 224,
     "metadata": {},
     "output_type": "execute_result"
    }
   ],
   "source": [
    "differences = differences ** 2\n",
    "# sum the coordinate differences to get the squared distance\n",
    "dist_sq = differences.sum(-1)\n",
    "dist_sq.shape"
   ]
  },
  {
   "cell_type": "code",
   "execution_count": 235,
   "id": "94f5d5b7",
   "metadata": {},
   "outputs": [],
   "source": [
    "# differences = differences.sum(2)"
   ]
  },
  {
   "cell_type": "code",
   "execution_count": 229,
   "id": "4fd8b2c9",
   "metadata": {},
   "outputs": [
    {
     "name": "stdout",
     "output_type": "stream",
     "text": [
      "[[0 8 6 9 3 1 2 5 7 4]\n",
      " [1 3 6 9 5 7 0 8 4 2]\n",
      " [2 0 8 6 5 1 3 9 4 7]\n",
      " [3 9 1 7 6 0 8 5 4 2]\n",
      " [4 5 6 1 3 7 9 0 8 2]\n",
      " [5 6 4 1 3 9 0 7 8 2]\n",
      " [6 1 5 3 0 9 8 4 7 2]\n",
      " [7 3 9 1 6 5 4 0 8 2]\n",
      " [8 0 9 6 3 1 2 5 7 4]\n",
      " [9 3 1 7 0 8 6 5 4 2]]\n"
     ]
    }
   ],
   "source": [
    "nearest = np.argsort(differences, axis=1)\n",
    "print(nearest)"
   ]
  },
  {
   "cell_type": "code",
   "execution_count": 230,
   "id": "ca6ce983",
   "metadata": {},
   "outputs": [],
   "source": [
    "K = 2\n",
    "nearest_partition = np.argpartition(differences, K + 1, axis=1)"
   ]
  },
  {
   "cell_type": "code",
   "execution_count": 231,
   "id": "af9198dd",
   "metadata": {},
   "outputs": [
    {
     "data": {
      "text/plain": [
       "array([[6, 0, 8, 9, 1, 5, 3, 7, 2, 4],\n",
       "       [1, 3, 6, 9, 5, 7, 0, 2, 8, 4],\n",
       "       [0, 8, 2, 6, 1, 5, 3, 9, 7, 4],\n",
       "       [3, 1, 9, 7, 6, 0, 5, 2, 8, 4],\n",
       "       [4, 5, 6, 1, 3, 7, 9, 2, 8, 0],\n",
       "       [5, 6, 4, 1, 3, 9, 2, 7, 8, 0],\n",
       "       [6, 1, 5, 3, 0, 9, 2, 7, 8, 4],\n",
       "       [7, 3, 9, 1, 6, 5, 4, 2, 8, 0],\n",
       "       [8, 0, 9, 6, 3, 5, 1, 7, 2, 4],\n",
       "       [9, 3, 1, 7, 0, 5, 6, 2, 8, 4]], dtype=int64)"
      ]
     },
     "execution_count": 231,
     "metadata": {},
     "output_type": "execute_result"
    }
   ],
   "source": [
    "nearest_partition"
   ]
  },
  {
   "cell_type": "code",
   "execution_count": 233,
   "id": "03d6f9e9",
   "metadata": {},
   "outputs": [
    {
     "data": {
      "image/png": "[encoded data removed]",
      "text/plain": [
       "<Figure size 640x480 with 1 Axes>"
      ]
     },
     "metadata": {},
     "output_type": "display_data"
    }
   ],
   "source": [
    "plt.scatter(x[:, 0], x[:, 1], s=100)\n",
    "# draw lines from each point to its two nearest neighbors\n",
    "K = 2\n",
    "for i in range(x.shape[0]):\n",
    "    for j in nearest_partition[i, :K+1]:\n",
    "        # plot a line from X[i] to X[j]\n",
    "        # use some zip magic to make it happen:\n",
    "        plt.plot(*zip(x[j], x[i]), color='black')"
   ]
  },
  {
   "cell_type": "code",
   "execution_count": null,
   "id": "2c7d7756",
   "metadata": {},
   "outputs": [],
   "source": []
  }
 ],
 "metadata": {
  "celltoolbar": "Raw Cell Format",
  "kernelspec": {
   "display_name": "Python 3 (ipykernel)",
   "language": "python",
   "name": "python3"
  },
  "language_info": {
   "codemirror_mode": {
    "name": "ipython",
    "version": 3
   },
   "file_extension": ".py",
   "mimetype": "text/x-python",
   "name": "python",
   "nbconvert_exporter": "python",
   "pygments_lexer": "ipython3",
   "version": "3.10.4"
  }
 },
 "nbformat": 4,
 "nbformat_minor": 5
}
